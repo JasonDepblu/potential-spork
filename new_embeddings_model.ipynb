{
  "nbformat": 4,
  "nbformat_minor": 0,
  "metadata": {
    "colab": {
      "provenance": [],
      "machine_shape": "hm",
      "gpuType": "A100",
      "authorship_tag": "ABX9TyP0PquCH9gKAbJyJ0BsEmU8",
      "include_colab_link": true
    },
    "kernelspec": {
      "name": "python3",
      "display_name": "Python 3"
    },
    "language_info": {
      "name": "python"
    },
    "accelerator": "GPU",
    "widgets": {
      "application/vnd.jupyter.widget-state+json": {
        "365b4ba0947d41d98e50603050fb8980": {
          "model_module": "@jupyter-widgets/controls",
          "model_name": "HBoxModel",
          "model_module_version": "1.5.0",
          "state": {
            "_dom_classes": [],
            "_model_module": "@jupyter-widgets/controls",
            "_model_module_version": "1.5.0",
            "_model_name": "HBoxModel",
            "_view_count": null,
            "_view_module": "@jupyter-widgets/controls",
            "_view_module_version": "1.5.0",
            "_view_name": "HBoxView",
            "box_style": "",
            "children": [
              "IPY_MODEL_6200edd87ce74845ae193ce8c29106b4",
              "IPY_MODEL_bad6999b27a64b8d85ad7ed82aea43d0",
              "IPY_MODEL_3d2dc56354da49cf9fc4e6499d52f8e1"
            ],
            "layout": "IPY_MODEL_614d6b67e8ea461d9dc34f9d882e7def"
          }
        },
        "6200edd87ce74845ae193ce8c29106b4": {
          "model_module": "@jupyter-widgets/controls",
          "model_name": "HTMLModel",
          "model_module_version": "1.5.0",
          "state": {
            "_dom_classes": [],
            "_model_module": "@jupyter-widgets/controls",
            "_model_module_version": "1.5.0",
            "_model_name": "HTMLModel",
            "_view_count": null,
            "_view_module": "@jupyter-widgets/controls",
            "_view_module_version": "1.5.0",
            "_view_name": "HTMLView",
            "description": "",
            "description_tooltip": null,
            "layout": "IPY_MODEL_e1acb478a8034d838c819d83c921182e",
            "placeholder": "​",
            "style": "IPY_MODEL_2fa195f005164665b40d7283a5371219",
            "value": "tokenizer_config.json: 100%"
          }
        },
        "bad6999b27a64b8d85ad7ed82aea43d0": {
          "model_module": "@jupyter-widgets/controls",
          "model_name": "FloatProgressModel",
          "model_module_version": "1.5.0",
          "state": {
            "_dom_classes": [],
            "_model_module": "@jupyter-widgets/controls",
            "_model_module_version": "1.5.0",
            "_model_name": "FloatProgressModel",
            "_view_count": null,
            "_view_module": "@jupyter-widgets/controls",
            "_view_module_version": "1.5.0",
            "_view_name": "ProgressView",
            "bar_style": "success",
            "description": "",
            "description_tooltip": null,
            "layout": "IPY_MODEL_8837832183f54c1ab4f188429607ab45",
            "max": 29,
            "min": 0,
            "orientation": "horizontal",
            "style": "IPY_MODEL_d8c7c2d867624141b16882e6e65bff17",
            "value": 29
          }
        },
        "3d2dc56354da49cf9fc4e6499d52f8e1": {
          "model_module": "@jupyter-widgets/controls",
          "model_name": "HTMLModel",
          "model_module_version": "1.5.0",
          "state": {
            "_dom_classes": [],
            "_model_module": "@jupyter-widgets/controls",
            "_model_module_version": "1.5.0",
            "_model_name": "HTMLModel",
            "_view_count": null,
            "_view_module": "@jupyter-widgets/controls",
            "_view_module_version": "1.5.0",
            "_view_name": "HTMLView",
            "description": "",
            "description_tooltip": null,
            "layout": "IPY_MODEL_03cc6d096b744b9d875e4bc7c7aca328",
            "placeholder": "​",
            "style": "IPY_MODEL_39cd2653eb1f4ca2981f983b7a8b4699",
            "value": " 29.0/29.0 [00:00&lt;00:00, 2.54kB/s]"
          }
        },
        "614d6b67e8ea461d9dc34f9d882e7def": {
          "model_module": "@jupyter-widgets/base",
          "model_name": "LayoutModel",
          "model_module_version": "1.2.0",
          "state": {
            "_model_module": "@jupyter-widgets/base",
            "_model_module_version": "1.2.0",
            "_model_name": "LayoutModel",
            "_view_count": null,
            "_view_module": "@jupyter-widgets/base",
            "_view_module_version": "1.2.0",
            "_view_name": "LayoutView",
            "align_content": null,
            "align_items": null,
            "align_self": null,
            "border": null,
            "bottom": null,
            "display": null,
            "flex": null,
            "flex_flow": null,
            "grid_area": null,
            "grid_auto_columns": null,
            "grid_auto_flow": null,
            "grid_auto_rows": null,
            "grid_column": null,
            "grid_gap": null,
            "grid_row": null,
            "grid_template_areas": null,
            "grid_template_columns": null,
            "grid_template_rows": null,
            "height": null,
            "justify_content": null,
            "justify_items": null,
            "left": null,
            "margin": null,
            "max_height": null,
            "max_width": null,
            "min_height": null,
            "min_width": null,
            "object_fit": null,
            "object_position": null,
            "order": null,
            "overflow": null,
            "overflow_x": null,
            "overflow_y": null,
            "padding": null,
            "right": null,
            "top": null,
            "visibility": null,
            "width": null
          }
        },
        "e1acb478a8034d838c819d83c921182e": {
          "model_module": "@jupyter-widgets/base",
          "model_name": "LayoutModel",
          "model_module_version": "1.2.0",
          "state": {
            "_model_module": "@jupyter-widgets/base",
            "_model_module_version": "1.2.0",
            "_model_name": "LayoutModel",
            "_view_count": null,
            "_view_module": "@jupyter-widgets/base",
            "_view_module_version": "1.2.0",
            "_view_name": "LayoutView",
            "align_content": null,
            "align_items": null,
            "align_self": null,
            "border": null,
            "bottom": null,
            "display": null,
            "flex": null,
            "flex_flow": null,
            "grid_area": null,
            "grid_auto_columns": null,
            "grid_auto_flow": null,
            "grid_auto_rows": null,
            "grid_column": null,
            "grid_gap": null,
            "grid_row": null,
            "grid_template_areas": null,
            "grid_template_columns": null,
            "grid_template_rows": null,
            "height": null,
            "justify_content": null,
            "justify_items": null,
            "left": null,
            "margin": null,
            "max_height": null,
            "max_width": null,
            "min_height": null,
            "min_width": null,
            "object_fit": null,
            "object_position": null,
            "order": null,
            "overflow": null,
            "overflow_x": null,
            "overflow_y": null,
            "padding": null,
            "right": null,
            "top": null,
            "visibility": null,
            "width": null
          }
        },
        "2fa195f005164665b40d7283a5371219": {
          "model_module": "@jupyter-widgets/controls",
          "model_name": "DescriptionStyleModel",
          "model_module_version": "1.5.0",
          "state": {
            "_model_module": "@jupyter-widgets/controls",
            "_model_module_version": "1.5.0",
            "_model_name": "DescriptionStyleModel",
            "_view_count": null,
            "_view_module": "@jupyter-widgets/base",
            "_view_module_version": "1.2.0",
            "_view_name": "StyleView",
            "description_width": ""
          }
        },
        "8837832183f54c1ab4f188429607ab45": {
          "model_module": "@jupyter-widgets/base",
          "model_name": "LayoutModel",
          "model_module_version": "1.2.0",
          "state": {
            "_model_module": "@jupyter-widgets/base",
            "_model_module_version": "1.2.0",
            "_model_name": "LayoutModel",
            "_view_count": null,
            "_view_module": "@jupyter-widgets/base",
            "_view_module_version": "1.2.0",
            "_view_name": "LayoutView",
            "align_content": null,
            "align_items": null,
            "align_self": null,
            "border": null,
            "bottom": null,
            "display": null,
            "flex": null,
            "flex_flow": null,
            "grid_area": null,
            "grid_auto_columns": null,
            "grid_auto_flow": null,
            "grid_auto_rows": null,
            "grid_column": null,
            "grid_gap": null,
            "grid_row": null,
            "grid_template_areas": null,
            "grid_template_columns": null,
            "grid_template_rows": null,
            "height": null,
            "justify_content": null,
            "justify_items": null,
            "left": null,
            "margin": null,
            "max_height": null,
            "max_width": null,
            "min_height": null,
            "min_width": null,
            "object_fit": null,
            "object_position": null,
            "order": null,
            "overflow": null,
            "overflow_x": null,
            "overflow_y": null,
            "padding": null,
            "right": null,
            "top": null,
            "visibility": null,
            "width": null
          }
        },
        "d8c7c2d867624141b16882e6e65bff17": {
          "model_module": "@jupyter-widgets/controls",
          "model_name": "ProgressStyleModel",
          "model_module_version": "1.5.0",
          "state": {
            "_model_module": "@jupyter-widgets/controls",
            "_model_module_version": "1.5.0",
            "_model_name": "ProgressStyleModel",
            "_view_count": null,
            "_view_module": "@jupyter-widgets/base",
            "_view_module_version": "1.2.0",
            "_view_name": "StyleView",
            "bar_color": null,
            "description_width": ""
          }
        },
        "03cc6d096b744b9d875e4bc7c7aca328": {
          "model_module": "@jupyter-widgets/base",
          "model_name": "LayoutModel",
          "model_module_version": "1.2.0",
          "state": {
            "_model_module": "@jupyter-widgets/base",
            "_model_module_version": "1.2.0",
            "_model_name": "LayoutModel",
            "_view_count": null,
            "_view_module": "@jupyter-widgets/base",
            "_view_module_version": "1.2.0",
            "_view_name": "LayoutView",
            "align_content": null,
            "align_items": null,
            "align_self": null,
            "border": null,
            "bottom": null,
            "display": null,
            "flex": null,
            "flex_flow": null,
            "grid_area": null,
            "grid_auto_columns": null,
            "grid_auto_flow": null,
            "grid_auto_rows": null,
            "grid_column": null,
            "grid_gap": null,
            "grid_row": null,
            "grid_template_areas": null,
            "grid_template_columns": null,
            "grid_template_rows": null,
            "height": null,
            "justify_content": null,
            "justify_items": null,
            "left": null,
            "margin": null,
            "max_height": null,
            "max_width": null,
            "min_height": null,
            "min_width": null,
            "object_fit": null,
            "object_position": null,
            "order": null,
            "overflow": null,
            "overflow_x": null,
            "overflow_y": null,
            "padding": null,
            "right": null,
            "top": null,
            "visibility": null,
            "width": null
          }
        },
        "39cd2653eb1f4ca2981f983b7a8b4699": {
          "model_module": "@jupyter-widgets/controls",
          "model_name": "DescriptionStyleModel",
          "model_module_version": "1.5.0",
          "state": {
            "_model_module": "@jupyter-widgets/controls",
            "_model_module_version": "1.5.0",
            "_model_name": "DescriptionStyleModel",
            "_view_count": null,
            "_view_module": "@jupyter-widgets/base",
            "_view_module_version": "1.2.0",
            "_view_name": "StyleView",
            "description_width": ""
          }
        },
        "2a7fda20de1d47edadc17808870be7d3": {
          "model_module": "@jupyter-widgets/controls",
          "model_name": "HBoxModel",
          "model_module_version": "1.5.0",
          "state": {
            "_dom_classes": [],
            "_model_module": "@jupyter-widgets/controls",
            "_model_module_version": "1.5.0",
            "_model_name": "HBoxModel",
            "_view_count": null,
            "_view_module": "@jupyter-widgets/controls",
            "_view_module_version": "1.5.0",
            "_view_name": "HBoxView",
            "box_style": "",
            "children": [
              "IPY_MODEL_e8f4a334b7bc499f847d0aa350a4372e",
              "IPY_MODEL_0a0fb6753137411ab887aa918f3f74a3",
              "IPY_MODEL_7eacaff7ded14871b0e6f85c2aed3ccf"
            ],
            "layout": "IPY_MODEL_6acdc5979a0a4cb486a3d1da5b01fcbf"
          }
        },
        "e8f4a334b7bc499f847d0aa350a4372e": {
          "model_module": "@jupyter-widgets/controls",
          "model_name": "HTMLModel",
          "model_module_version": "1.5.0",
          "state": {
            "_dom_classes": [],
            "_model_module": "@jupyter-widgets/controls",
            "_model_module_version": "1.5.0",
            "_model_name": "HTMLModel",
            "_view_count": null,
            "_view_module": "@jupyter-widgets/controls",
            "_view_module_version": "1.5.0",
            "_view_name": "HTMLView",
            "description": "",
            "description_tooltip": null,
            "layout": "IPY_MODEL_3065e0544f914d9bb491ef45105c682e",
            "placeholder": "​",
            "style": "IPY_MODEL_bfcdeeb446994a96855bf3c8f8cc1a2a",
            "value": "vocab.txt: 100%"
          }
        },
        "0a0fb6753137411ab887aa918f3f74a3": {
          "model_module": "@jupyter-widgets/controls",
          "model_name": "FloatProgressModel",
          "model_module_version": "1.5.0",
          "state": {
            "_dom_classes": [],
            "_model_module": "@jupyter-widgets/controls",
            "_model_module_version": "1.5.0",
            "_model_name": "FloatProgressModel",
            "_view_count": null,
            "_view_module": "@jupyter-widgets/controls",
            "_view_module_version": "1.5.0",
            "_view_name": "ProgressView",
            "bar_style": "success",
            "description": "",
            "description_tooltip": null,
            "layout": "IPY_MODEL_6f9e5c93cf1c40bab032bacf6cebf1b8",
            "max": 109540,
            "min": 0,
            "orientation": "horizontal",
            "style": "IPY_MODEL_f50c2088a73c43088507a8f6e0915c3e",
            "value": 109540
          }
        },
        "7eacaff7ded14871b0e6f85c2aed3ccf": {
          "model_module": "@jupyter-widgets/controls",
          "model_name": "HTMLModel",
          "model_module_version": "1.5.0",
          "state": {
            "_dom_classes": [],
            "_model_module": "@jupyter-widgets/controls",
            "_model_module_version": "1.5.0",
            "_model_name": "HTMLModel",
            "_view_count": null,
            "_view_module": "@jupyter-widgets/controls",
            "_view_module_version": "1.5.0",
            "_view_name": "HTMLView",
            "description": "",
            "description_tooltip": null,
            "layout": "IPY_MODEL_03846e75fcb94602ac290849d61bc751",
            "placeholder": "​",
            "style": "IPY_MODEL_94731b5e0e8349eabf510c511a4cf299",
            "value": " 110k/110k [00:00&lt;00:00, 9.47MB/s]"
          }
        },
        "6acdc5979a0a4cb486a3d1da5b01fcbf": {
          "model_module": "@jupyter-widgets/base",
          "model_name": "LayoutModel",
          "model_module_version": "1.2.0",
          "state": {
            "_model_module": "@jupyter-widgets/base",
            "_model_module_version": "1.2.0",
            "_model_name": "LayoutModel",
            "_view_count": null,
            "_view_module": "@jupyter-widgets/base",
            "_view_module_version": "1.2.0",
            "_view_name": "LayoutView",
            "align_content": null,
            "align_items": null,
            "align_self": null,
            "border": null,
            "bottom": null,
            "display": null,
            "flex": null,
            "flex_flow": null,
            "grid_area": null,
            "grid_auto_columns": null,
            "grid_auto_flow": null,
            "grid_auto_rows": null,
            "grid_column": null,
            "grid_gap": null,
            "grid_row": null,
            "grid_template_areas": null,
            "grid_template_columns": null,
            "grid_template_rows": null,
            "height": null,
            "justify_content": null,
            "justify_items": null,
            "left": null,
            "margin": null,
            "max_height": null,
            "max_width": null,
            "min_height": null,
            "min_width": null,
            "object_fit": null,
            "object_position": null,
            "order": null,
            "overflow": null,
            "overflow_x": null,
            "overflow_y": null,
            "padding": null,
            "right": null,
            "top": null,
            "visibility": null,
            "width": null
          }
        },
        "3065e0544f914d9bb491ef45105c682e": {
          "model_module": "@jupyter-widgets/base",
          "model_name": "LayoutModel",
          "model_module_version": "1.2.0",
          "state": {
            "_model_module": "@jupyter-widgets/base",
            "_model_module_version": "1.2.0",
            "_model_name": "LayoutModel",
            "_view_count": null,
            "_view_module": "@jupyter-widgets/base",
            "_view_module_version": "1.2.0",
            "_view_name": "LayoutView",
            "align_content": null,
            "align_items": null,
            "align_self": null,
            "border": null,
            "bottom": null,
            "display": null,
            "flex": null,
            "flex_flow": null,
            "grid_area": null,
            "grid_auto_columns": null,
            "grid_auto_flow": null,
            "grid_auto_rows": null,
            "grid_column": null,
            "grid_gap": null,
            "grid_row": null,
            "grid_template_areas": null,
            "grid_template_columns": null,
            "grid_template_rows": null,
            "height": null,
            "justify_content": null,
            "justify_items": null,
            "left": null,
            "margin": null,
            "max_height": null,
            "max_width": null,
            "min_height": null,
            "min_width": null,
            "object_fit": null,
            "object_position": null,
            "order": null,
            "overflow": null,
            "overflow_x": null,
            "overflow_y": null,
            "padding": null,
            "right": null,
            "top": null,
            "visibility": null,
            "width": null
          }
        },
        "bfcdeeb446994a96855bf3c8f8cc1a2a": {
          "model_module": "@jupyter-widgets/controls",
          "model_name": "DescriptionStyleModel",
          "model_module_version": "1.5.0",
          "state": {
            "_model_module": "@jupyter-widgets/controls",
            "_model_module_version": "1.5.0",
            "_model_name": "DescriptionStyleModel",
            "_view_count": null,
            "_view_module": "@jupyter-widgets/base",
            "_view_module_version": "1.2.0",
            "_view_name": "StyleView",
            "description_width": ""
          }
        },
        "6f9e5c93cf1c40bab032bacf6cebf1b8": {
          "model_module": "@jupyter-widgets/base",
          "model_name": "LayoutModel",
          "model_module_version": "1.2.0",
          "state": {
            "_model_module": "@jupyter-widgets/base",
            "_model_module_version": "1.2.0",
            "_model_name": "LayoutModel",
            "_view_count": null,
            "_view_module": "@jupyter-widgets/base",
            "_view_module_version": "1.2.0",
            "_view_name": "LayoutView",
            "align_content": null,
            "align_items": null,
            "align_self": null,
            "border": null,
            "bottom": null,
            "display": null,
            "flex": null,
            "flex_flow": null,
            "grid_area": null,
            "grid_auto_columns": null,
            "grid_auto_flow": null,
            "grid_auto_rows": null,
            "grid_column": null,
            "grid_gap": null,
            "grid_row": null,
            "grid_template_areas": null,
            "grid_template_columns": null,
            "grid_template_rows": null,
            "height": null,
            "justify_content": null,
            "justify_items": null,
            "left": null,
            "margin": null,
            "max_height": null,
            "max_width": null,
            "min_height": null,
            "min_width": null,
            "object_fit": null,
            "object_position": null,
            "order": null,
            "overflow": null,
            "overflow_x": null,
            "overflow_y": null,
            "padding": null,
            "right": null,
            "top": null,
            "visibility": null,
            "width": null
          }
        },
        "f50c2088a73c43088507a8f6e0915c3e": {
          "model_module": "@jupyter-widgets/controls",
          "model_name": "ProgressStyleModel",
          "model_module_version": "1.5.0",
          "state": {
            "_model_module": "@jupyter-widgets/controls",
            "_model_module_version": "1.5.0",
            "_model_name": "ProgressStyleModel",
            "_view_count": null,
            "_view_module": "@jupyter-widgets/base",
            "_view_module_version": "1.2.0",
            "_view_name": "StyleView",
            "bar_color": null,
            "description_width": ""
          }
        },
        "03846e75fcb94602ac290849d61bc751": {
          "model_module": "@jupyter-widgets/base",
          "model_name": "LayoutModel",
          "model_module_version": "1.2.0",
          "state": {
            "_model_module": "@jupyter-widgets/base",
            "_model_module_version": "1.2.0",
            "_model_name": "LayoutModel",
            "_view_count": null,
            "_view_module": "@jupyter-widgets/base",
            "_view_module_version": "1.2.0",
            "_view_name": "LayoutView",
            "align_content": null,
            "align_items": null,
            "align_self": null,
            "border": null,
            "bottom": null,
            "display": null,
            "flex": null,
            "flex_flow": null,
            "grid_area": null,
            "grid_auto_columns": null,
            "grid_auto_flow": null,
            "grid_auto_rows": null,
            "grid_column": null,
            "grid_gap": null,
            "grid_row": null,
            "grid_template_areas": null,
            "grid_template_columns": null,
            "grid_template_rows": null,
            "height": null,
            "justify_content": null,
            "justify_items": null,
            "left": null,
            "margin": null,
            "max_height": null,
            "max_width": null,
            "min_height": null,
            "min_width": null,
            "object_fit": null,
            "object_position": null,
            "order": null,
            "overflow": null,
            "overflow_x": null,
            "overflow_y": null,
            "padding": null,
            "right": null,
            "top": null,
            "visibility": null,
            "width": null
          }
        },
        "94731b5e0e8349eabf510c511a4cf299": {
          "model_module": "@jupyter-widgets/controls",
          "model_name": "DescriptionStyleModel",
          "model_module_version": "1.5.0",
          "state": {
            "_model_module": "@jupyter-widgets/controls",
            "_model_module_version": "1.5.0",
            "_model_name": "DescriptionStyleModel",
            "_view_count": null,
            "_view_module": "@jupyter-widgets/base",
            "_view_module_version": "1.2.0",
            "_view_name": "StyleView",
            "description_width": ""
          }
        },
        "23e06984f6784abba6ae3024b10a2cb9": {
          "model_module": "@jupyter-widgets/controls",
          "model_name": "HBoxModel",
          "model_module_version": "1.5.0",
          "state": {
            "_dom_classes": [],
            "_model_module": "@jupyter-widgets/controls",
            "_model_module_version": "1.5.0",
            "_model_name": "HBoxModel",
            "_view_count": null,
            "_view_module": "@jupyter-widgets/controls",
            "_view_module_version": "1.5.0",
            "_view_name": "HBoxView",
            "box_style": "",
            "children": [
              "IPY_MODEL_b76486ca695b4b6ab3cc24744036f8c8",
              "IPY_MODEL_d30a9d39fa9e44f7b651c5081ef8f53b",
              "IPY_MODEL_f776e064d0344efd94354496dc47ad7d"
            ],
            "layout": "IPY_MODEL_01644ccdefb442dc90b84e86a35b7523"
          }
        },
        "b76486ca695b4b6ab3cc24744036f8c8": {
          "model_module": "@jupyter-widgets/controls",
          "model_name": "HTMLModel",
          "model_module_version": "1.5.0",
          "state": {
            "_dom_classes": [],
            "_model_module": "@jupyter-widgets/controls",
            "_model_module_version": "1.5.0",
            "_model_name": "HTMLModel",
            "_view_count": null,
            "_view_module": "@jupyter-widgets/controls",
            "_view_module_version": "1.5.0",
            "_view_name": "HTMLView",
            "description": "",
            "description_tooltip": null,
            "layout": "IPY_MODEL_cbc40a470f344856963329f5ef67dd67",
            "placeholder": "​",
            "style": "IPY_MODEL_290194269d27439c8cff6a903c27db4f",
            "value": "tokenizer.json: 100%"
          }
        },
        "d30a9d39fa9e44f7b651c5081ef8f53b": {
          "model_module": "@jupyter-widgets/controls",
          "model_name": "FloatProgressModel",
          "model_module_version": "1.5.0",
          "state": {
            "_dom_classes": [],
            "_model_module": "@jupyter-widgets/controls",
            "_model_module_version": "1.5.0",
            "_model_name": "FloatProgressModel",
            "_view_count": null,
            "_view_module": "@jupyter-widgets/controls",
            "_view_module_version": "1.5.0",
            "_view_name": "ProgressView",
            "bar_style": "success",
            "description": "",
            "description_tooltip": null,
            "layout": "IPY_MODEL_3c9bf0c311214790a5a14001945d658a",
            "max": 268943,
            "min": 0,
            "orientation": "horizontal",
            "style": "IPY_MODEL_96d2a3f002a04c5798b26ad085d24d68",
            "value": 268943
          }
        },
        "f776e064d0344efd94354496dc47ad7d": {
          "model_module": "@jupyter-widgets/controls",
          "model_name": "HTMLModel",
          "model_module_version": "1.5.0",
          "state": {
            "_dom_classes": [],
            "_model_module": "@jupyter-widgets/controls",
            "_model_module_version": "1.5.0",
            "_model_name": "HTMLModel",
            "_view_count": null,
            "_view_module": "@jupyter-widgets/controls",
            "_view_module_version": "1.5.0",
            "_view_name": "HTMLView",
            "description": "",
            "description_tooltip": null,
            "layout": "IPY_MODEL_04ff574a3fd046488697837d026597c9",
            "placeholder": "​",
            "style": "IPY_MODEL_79a7cec74ab948efa2cbbdf73fb3989d",
            "value": " 269k/269k [00:00&lt;00:00, 21.6MB/s]"
          }
        },
        "01644ccdefb442dc90b84e86a35b7523": {
          "model_module": "@jupyter-widgets/base",
          "model_name": "LayoutModel",
          "model_module_version": "1.2.0",
          "state": {
            "_model_module": "@jupyter-widgets/base",
            "_model_module_version": "1.2.0",
            "_model_name": "LayoutModel",
            "_view_count": null,
            "_view_module": "@jupyter-widgets/base",
            "_view_module_version": "1.2.0",
            "_view_name": "LayoutView",
            "align_content": null,
            "align_items": null,
            "align_self": null,
            "border": null,
            "bottom": null,
            "display": null,
            "flex": null,
            "flex_flow": null,
            "grid_area": null,
            "grid_auto_columns": null,
            "grid_auto_flow": null,
            "grid_auto_rows": null,
            "grid_column": null,
            "grid_gap": null,
            "grid_row": null,
            "grid_template_areas": null,
            "grid_template_columns": null,
            "grid_template_rows": null,
            "height": null,
            "justify_content": null,
            "justify_items": null,
            "left": null,
            "margin": null,
            "max_height": null,
            "max_width": null,
            "min_height": null,
            "min_width": null,
            "object_fit": null,
            "object_position": null,
            "order": null,
            "overflow": null,
            "overflow_x": null,
            "overflow_y": null,
            "padding": null,
            "right": null,
            "top": null,
            "visibility": null,
            "width": null
          }
        },
        "cbc40a470f344856963329f5ef67dd67": {
          "model_module": "@jupyter-widgets/base",
          "model_name": "LayoutModel",
          "model_module_version": "1.2.0",
          "state": {
            "_model_module": "@jupyter-widgets/base",
            "_model_module_version": "1.2.0",
            "_model_name": "LayoutModel",
            "_view_count": null,
            "_view_module": "@jupyter-widgets/base",
            "_view_module_version": "1.2.0",
            "_view_name": "LayoutView",
            "align_content": null,
            "align_items": null,
            "align_self": null,
            "border": null,
            "bottom": null,
            "display": null,
            "flex": null,
            "flex_flow": null,
            "grid_area": null,
            "grid_auto_columns": null,
            "grid_auto_flow": null,
            "grid_auto_rows": null,
            "grid_column": null,
            "grid_gap": null,
            "grid_row": null,
            "grid_template_areas": null,
            "grid_template_columns": null,
            "grid_template_rows": null,
            "height": null,
            "justify_content": null,
            "justify_items": null,
            "left": null,
            "margin": null,
            "max_height": null,
            "max_width": null,
            "min_height": null,
            "min_width": null,
            "object_fit": null,
            "object_position": null,
            "order": null,
            "overflow": null,
            "overflow_x": null,
            "overflow_y": null,
            "padding": null,
            "right": null,
            "top": null,
            "visibility": null,
            "width": null
          }
        },
        "290194269d27439c8cff6a903c27db4f": {
          "model_module": "@jupyter-widgets/controls",
          "model_name": "DescriptionStyleModel",
          "model_module_version": "1.5.0",
          "state": {
            "_model_module": "@jupyter-widgets/controls",
            "_model_module_version": "1.5.0",
            "_model_name": "DescriptionStyleModel",
            "_view_count": null,
            "_view_module": "@jupyter-widgets/base",
            "_view_module_version": "1.2.0",
            "_view_name": "StyleView",
            "description_width": ""
          }
        },
        "3c9bf0c311214790a5a14001945d658a": {
          "model_module": "@jupyter-widgets/base",
          "model_name": "LayoutModel",
          "model_module_version": "1.2.0",
          "state": {
            "_model_module": "@jupyter-widgets/base",
            "_model_module_version": "1.2.0",
            "_model_name": "LayoutModel",
            "_view_count": null,
            "_view_module": "@jupyter-widgets/base",
            "_view_module_version": "1.2.0",
            "_view_name": "LayoutView",
            "align_content": null,
            "align_items": null,
            "align_self": null,
            "border": null,
            "bottom": null,
            "display": null,
            "flex": null,
            "flex_flow": null,
            "grid_area": null,
            "grid_auto_columns": null,
            "grid_auto_flow": null,
            "grid_auto_rows": null,
            "grid_column": null,
            "grid_gap": null,
            "grid_row": null,
            "grid_template_areas": null,
            "grid_template_columns": null,
            "grid_template_rows": null,
            "height": null,
            "justify_content": null,
            "justify_items": null,
            "left": null,
            "margin": null,
            "max_height": null,
            "max_width": null,
            "min_height": null,
            "min_width": null,
            "object_fit": null,
            "object_position": null,
            "order": null,
            "overflow": null,
            "overflow_x": null,
            "overflow_y": null,
            "padding": null,
            "right": null,
            "top": null,
            "visibility": null,
            "width": null
          }
        },
        "96d2a3f002a04c5798b26ad085d24d68": {
          "model_module": "@jupyter-widgets/controls",
          "model_name": "ProgressStyleModel",
          "model_module_version": "1.5.0",
          "state": {
            "_model_module": "@jupyter-widgets/controls",
            "_model_module_version": "1.5.0",
            "_model_name": "ProgressStyleModel",
            "_view_count": null,
            "_view_module": "@jupyter-widgets/base",
            "_view_module_version": "1.2.0",
            "_view_name": "StyleView",
            "bar_color": null,
            "description_width": ""
          }
        },
        "04ff574a3fd046488697837d026597c9": {
          "model_module": "@jupyter-widgets/base",
          "model_name": "LayoutModel",
          "model_module_version": "1.2.0",
          "state": {
            "_model_module": "@jupyter-widgets/base",
            "_model_module_version": "1.2.0",
            "_model_name": "LayoutModel",
            "_view_count": null,
            "_view_module": "@jupyter-widgets/base",
            "_view_module_version": "1.2.0",
            "_view_name": "LayoutView",
            "align_content": null,
            "align_items": null,
            "align_self": null,
            "border": null,
            "bottom": null,
            "display": null,
            "flex": null,
            "flex_flow": null,
            "grid_area": null,
            "grid_auto_columns": null,
            "grid_auto_flow": null,
            "grid_auto_rows": null,
            "grid_column": null,
            "grid_gap": null,
            "grid_row": null,
            "grid_template_areas": null,
            "grid_template_columns": null,
            "grid_template_rows": null,
            "height": null,
            "justify_content": null,
            "justify_items": null,
            "left": null,
            "margin": null,
            "max_height": null,
            "max_width": null,
            "min_height": null,
            "min_width": null,
            "object_fit": null,
            "object_position": null,
            "order": null,
            "overflow": null,
            "overflow_x": null,
            "overflow_y": null,
            "padding": null,
            "right": null,
            "top": null,
            "visibility": null,
            "width": null
          }
        },
        "79a7cec74ab948efa2cbbdf73fb3989d": {
          "model_module": "@jupyter-widgets/controls",
          "model_name": "DescriptionStyleModel",
          "model_module_version": "1.5.0",
          "state": {
            "_model_module": "@jupyter-widgets/controls",
            "_model_module_version": "1.5.0",
            "_model_name": "DescriptionStyleModel",
            "_view_count": null,
            "_view_module": "@jupyter-widgets/base",
            "_view_module_version": "1.2.0",
            "_view_name": "StyleView",
            "description_width": ""
          }
        },
        "62f952d2a5854ceba49775d0b57924cc": {
          "model_module": "@jupyter-widgets/controls",
          "model_name": "HBoxModel",
          "model_module_version": "1.5.0",
          "state": {
            "_dom_classes": [],
            "_model_module": "@jupyter-widgets/controls",
            "_model_module_version": "1.5.0",
            "_model_name": "HBoxModel",
            "_view_count": null,
            "_view_module": "@jupyter-widgets/controls",
            "_view_module_version": "1.5.0",
            "_view_name": "HBoxView",
            "box_style": "",
            "children": [
              "IPY_MODEL_ef9c7290d14842d78e81cb082bab262a",
              "IPY_MODEL_ed7e2455eebb4d3787e02fcacdcfd5f4",
              "IPY_MODEL_4bedc732e19f47078c0e07b673d9a97c"
            ],
            "layout": "IPY_MODEL_224d779f53ff42f7bb90826d66e33e5c"
          }
        },
        "ef9c7290d14842d78e81cb082bab262a": {
          "model_module": "@jupyter-widgets/controls",
          "model_name": "HTMLModel",
          "model_module_version": "1.5.0",
          "state": {
            "_dom_classes": [],
            "_model_module": "@jupyter-widgets/controls",
            "_model_module_version": "1.5.0",
            "_model_name": "HTMLModel",
            "_view_count": null,
            "_view_module": "@jupyter-widgets/controls",
            "_view_module_version": "1.5.0",
            "_view_name": "HTMLView",
            "description": "",
            "description_tooltip": null,
            "layout": "IPY_MODEL_ad12580d928a46e484d13c8f34abccfd",
            "placeholder": "​",
            "style": "IPY_MODEL_54c097d3a6884f808d32894e0f80a751",
            "value": "config.json: 100%"
          }
        },
        "ed7e2455eebb4d3787e02fcacdcfd5f4": {
          "model_module": "@jupyter-widgets/controls",
          "model_name": "FloatProgressModel",
          "model_module_version": "1.5.0",
          "state": {
            "_dom_classes": [],
            "_model_module": "@jupyter-widgets/controls",
            "_model_module_version": "1.5.0",
            "_model_name": "FloatProgressModel",
            "_view_count": null,
            "_view_module": "@jupyter-widgets/controls",
            "_view_module_version": "1.5.0",
            "_view_name": "ProgressView",
            "bar_style": "success",
            "description": "",
            "description_tooltip": null,
            "layout": "IPY_MODEL_409d4d3541a64bf48475ac0100220a01",
            "max": 624,
            "min": 0,
            "orientation": "horizontal",
            "style": "IPY_MODEL_e50e7ee369304e59ad2418e6ecab2d4a",
            "value": 624
          }
        },
        "4bedc732e19f47078c0e07b673d9a97c": {
          "model_module": "@jupyter-widgets/controls",
          "model_name": "HTMLModel",
          "model_module_version": "1.5.0",
          "state": {
            "_dom_classes": [],
            "_model_module": "@jupyter-widgets/controls",
            "_model_module_version": "1.5.0",
            "_model_name": "HTMLModel",
            "_view_count": null,
            "_view_module": "@jupyter-widgets/controls",
            "_view_module_version": "1.5.0",
            "_view_name": "HTMLView",
            "description": "",
            "description_tooltip": null,
            "layout": "IPY_MODEL_9cf336c2828d4da4a4097e8a1e66bf5c",
            "placeholder": "​",
            "style": "IPY_MODEL_234e9fd1128c4d8b94b64fbff3cdf736",
            "value": " 624/624 [00:00&lt;00:00, 56.4kB/s]"
          }
        },
        "224d779f53ff42f7bb90826d66e33e5c": {
          "model_module": "@jupyter-widgets/base",
          "model_name": "LayoutModel",
          "model_module_version": "1.2.0",
          "state": {
            "_model_module": "@jupyter-widgets/base",
            "_model_module_version": "1.2.0",
            "_model_name": "LayoutModel",
            "_view_count": null,
            "_view_module": "@jupyter-widgets/base",
            "_view_module_version": "1.2.0",
            "_view_name": "LayoutView",
            "align_content": null,
            "align_items": null,
            "align_self": null,
            "border": null,
            "bottom": null,
            "display": null,
            "flex": null,
            "flex_flow": null,
            "grid_area": null,
            "grid_auto_columns": null,
            "grid_auto_flow": null,
            "grid_auto_rows": null,
            "grid_column": null,
            "grid_gap": null,
            "grid_row": null,
            "grid_template_areas": null,
            "grid_template_columns": null,
            "grid_template_rows": null,
            "height": null,
            "justify_content": null,
            "justify_items": null,
            "left": null,
            "margin": null,
            "max_height": null,
            "max_width": null,
            "min_height": null,
            "min_width": null,
            "object_fit": null,
            "object_position": null,
            "order": null,
            "overflow": null,
            "overflow_x": null,
            "overflow_y": null,
            "padding": null,
            "right": null,
            "top": null,
            "visibility": null,
            "width": null
          }
        },
        "ad12580d928a46e484d13c8f34abccfd": {
          "model_module": "@jupyter-widgets/base",
          "model_name": "LayoutModel",
          "model_module_version": "1.2.0",
          "state": {
            "_model_module": "@jupyter-widgets/base",
            "_model_module_version": "1.2.0",
            "_model_name": "LayoutModel",
            "_view_count": null,
            "_view_module": "@jupyter-widgets/base",
            "_view_module_version": "1.2.0",
            "_view_name": "LayoutView",
            "align_content": null,
            "align_items": null,
            "align_self": null,
            "border": null,
            "bottom": null,
            "display": null,
            "flex": null,
            "flex_flow": null,
            "grid_area": null,
            "grid_auto_columns": null,
            "grid_auto_flow": null,
            "grid_auto_rows": null,
            "grid_column": null,
            "grid_gap": null,
            "grid_row": null,
            "grid_template_areas": null,
            "grid_template_columns": null,
            "grid_template_rows": null,
            "height": null,
            "justify_content": null,
            "justify_items": null,
            "left": null,
            "margin": null,
            "max_height": null,
            "max_width": null,
            "min_height": null,
            "min_width": null,
            "object_fit": null,
            "object_position": null,
            "order": null,
            "overflow": null,
            "overflow_x": null,
            "overflow_y": null,
            "padding": null,
            "right": null,
            "top": null,
            "visibility": null,
            "width": null
          }
        },
        "54c097d3a6884f808d32894e0f80a751": {
          "model_module": "@jupyter-widgets/controls",
          "model_name": "DescriptionStyleModel",
          "model_module_version": "1.5.0",
          "state": {
            "_model_module": "@jupyter-widgets/controls",
            "_model_module_version": "1.5.0",
            "_model_name": "DescriptionStyleModel",
            "_view_count": null,
            "_view_module": "@jupyter-widgets/base",
            "_view_module_version": "1.2.0",
            "_view_name": "StyleView",
            "description_width": ""
          }
        },
        "409d4d3541a64bf48475ac0100220a01": {
          "model_module": "@jupyter-widgets/base",
          "model_name": "LayoutModel",
          "model_module_version": "1.2.0",
          "state": {
            "_model_module": "@jupyter-widgets/base",
            "_model_module_version": "1.2.0",
            "_model_name": "LayoutModel",
            "_view_count": null,
            "_view_module": "@jupyter-widgets/base",
            "_view_module_version": "1.2.0",
            "_view_name": "LayoutView",
            "align_content": null,
            "align_items": null,
            "align_self": null,
            "border": null,
            "bottom": null,
            "display": null,
            "flex": null,
            "flex_flow": null,
            "grid_area": null,
            "grid_auto_columns": null,
            "grid_auto_flow": null,
            "grid_auto_rows": null,
            "grid_column": null,
            "grid_gap": null,
            "grid_row": null,
            "grid_template_areas": null,
            "grid_template_columns": null,
            "grid_template_rows": null,
            "height": null,
            "justify_content": null,
            "justify_items": null,
            "left": null,
            "margin": null,
            "max_height": null,
            "max_width": null,
            "min_height": null,
            "min_width": null,
            "object_fit": null,
            "object_position": null,
            "order": null,
            "overflow": null,
            "overflow_x": null,
            "overflow_y": null,
            "padding": null,
            "right": null,
            "top": null,
            "visibility": null,
            "width": null
          }
        },
        "e50e7ee369304e59ad2418e6ecab2d4a": {
          "model_module": "@jupyter-widgets/controls",
          "model_name": "ProgressStyleModel",
          "model_module_version": "1.5.0",
          "state": {
            "_model_module": "@jupyter-widgets/controls",
            "_model_module_version": "1.5.0",
            "_model_name": "ProgressStyleModel",
            "_view_count": null,
            "_view_module": "@jupyter-widgets/base",
            "_view_module_version": "1.2.0",
            "_view_name": "StyleView",
            "bar_color": null,
            "description_width": ""
          }
        },
        "9cf336c2828d4da4a4097e8a1e66bf5c": {
          "model_module": "@jupyter-widgets/base",
          "model_name": "LayoutModel",
          "model_module_version": "1.2.0",
          "state": {
            "_model_module": "@jupyter-widgets/base",
            "_model_module_version": "1.2.0",
            "_model_name": "LayoutModel",
            "_view_count": null,
            "_view_module": "@jupyter-widgets/base",
            "_view_module_version": "1.2.0",
            "_view_name": "LayoutView",
            "align_content": null,
            "align_items": null,
            "align_self": null,
            "border": null,
            "bottom": null,
            "display": null,
            "flex": null,
            "flex_flow": null,
            "grid_area": null,
            "grid_auto_columns": null,
            "grid_auto_flow": null,
            "grid_auto_rows": null,
            "grid_column": null,
            "grid_gap": null,
            "grid_row": null,
            "grid_template_areas": null,
            "grid_template_columns": null,
            "grid_template_rows": null,
            "height": null,
            "justify_content": null,
            "justify_items": null,
            "left": null,
            "margin": null,
            "max_height": null,
            "max_width": null,
            "min_height": null,
            "min_width": null,
            "object_fit": null,
            "object_position": null,
            "order": null,
            "overflow": null,
            "overflow_x": null,
            "overflow_y": null,
            "padding": null,
            "right": null,
            "top": null,
            "visibility": null,
            "width": null
          }
        },
        "234e9fd1128c4d8b94b64fbff3cdf736": {
          "model_module": "@jupyter-widgets/controls",
          "model_name": "DescriptionStyleModel",
          "model_module_version": "1.5.0",
          "state": {
            "_model_module": "@jupyter-widgets/controls",
            "_model_module_version": "1.5.0",
            "_model_name": "DescriptionStyleModel",
            "_view_count": null,
            "_view_module": "@jupyter-widgets/base",
            "_view_module_version": "1.2.0",
            "_view_name": "StyleView",
            "description_width": ""
          }
        },
        "704b222d4f164d90affba0dd4c9dd0a2": {
          "model_module": "@jupyter-widgets/controls",
          "model_name": "HBoxModel",
          "model_module_version": "1.5.0",
          "state": {
            "_dom_classes": [],
            "_model_module": "@jupyter-widgets/controls",
            "_model_module_version": "1.5.0",
            "_model_name": "HBoxModel",
            "_view_count": null,
            "_view_module": "@jupyter-widgets/controls",
            "_view_module_version": "1.5.0",
            "_view_name": "HBoxView",
            "box_style": "",
            "children": [
              "IPY_MODEL_7de5ad6210f84d3880f87de8bfa24c40",
              "IPY_MODEL_9b4ab724b1f041b4adf93cc715fa2cd5",
              "IPY_MODEL_72cd8359e98941ddbed8f06a92ce6602"
            ],
            "layout": "IPY_MODEL_54ec14c85c80467c99d2763a355e99c5"
          }
        },
        "7de5ad6210f84d3880f87de8bfa24c40": {
          "model_module": "@jupyter-widgets/controls",
          "model_name": "HTMLModel",
          "model_module_version": "1.5.0",
          "state": {
            "_dom_classes": [],
            "_model_module": "@jupyter-widgets/controls",
            "_model_module_version": "1.5.0",
            "_model_name": "HTMLModel",
            "_view_count": null,
            "_view_module": "@jupyter-widgets/controls",
            "_view_module_version": "1.5.0",
            "_view_name": "HTMLView",
            "description": "",
            "description_tooltip": null,
            "layout": "IPY_MODEL_7ed663d01f6448998bc6c97d6cbad927",
            "placeholder": "​",
            "style": "IPY_MODEL_85f3ce9c22f74819997179660c027c47",
            "value": "model.safetensors: 100%"
          }
        },
        "9b4ab724b1f041b4adf93cc715fa2cd5": {
          "model_module": "@jupyter-widgets/controls",
          "model_name": "FloatProgressModel",
          "model_module_version": "1.5.0",
          "state": {
            "_dom_classes": [],
            "_model_module": "@jupyter-widgets/controls",
            "_model_module_version": "1.5.0",
            "_model_name": "FloatProgressModel",
            "_view_count": null,
            "_view_module": "@jupyter-widgets/controls",
            "_view_module_version": "1.5.0",
            "_view_name": "ProgressView",
            "bar_style": "success",
            "description": "",
            "description_tooltip": null,
            "layout": "IPY_MODEL_3780735fbb9c406ab63133406e143d04",
            "max": 411553788,
            "min": 0,
            "orientation": "horizontal",
            "style": "IPY_MODEL_0d17ab30f91f4c31a3174526ee0b7d47",
            "value": 411553788
          }
        },
        "72cd8359e98941ddbed8f06a92ce6602": {
          "model_module": "@jupyter-widgets/controls",
          "model_name": "HTMLModel",
          "model_module_version": "1.5.0",
          "state": {
            "_dom_classes": [],
            "_model_module": "@jupyter-widgets/controls",
            "_model_module_version": "1.5.0",
            "_model_name": "HTMLModel",
            "_view_count": null,
            "_view_module": "@jupyter-widgets/controls",
            "_view_module_version": "1.5.0",
            "_view_name": "HTMLView",
            "description": "",
            "description_tooltip": null,
            "layout": "IPY_MODEL_8b0d05edf50d4d1c90f5fd2706c03e26",
            "placeholder": "​",
            "style": "IPY_MODEL_95116e3f041548e386c4b9767d66a24c",
            "value": " 412M/412M [00:01&lt;00:00, 439MB/s]"
          }
        },
        "54ec14c85c80467c99d2763a355e99c5": {
          "model_module": "@jupyter-widgets/base",
          "model_name": "LayoutModel",
          "model_module_version": "1.2.0",
          "state": {
            "_model_module": "@jupyter-widgets/base",
            "_model_module_version": "1.2.0",
            "_model_name": "LayoutModel",
            "_view_count": null,
            "_view_module": "@jupyter-widgets/base",
            "_view_module_version": "1.2.0",
            "_view_name": "LayoutView",
            "align_content": null,
            "align_items": null,
            "align_self": null,
            "border": null,
            "bottom": null,
            "display": null,
            "flex": null,
            "flex_flow": null,
            "grid_area": null,
            "grid_auto_columns": null,
            "grid_auto_flow": null,
            "grid_auto_rows": null,
            "grid_column": null,
            "grid_gap": null,
            "grid_row": null,
            "grid_template_areas": null,
            "grid_template_columns": null,
            "grid_template_rows": null,
            "height": null,
            "justify_content": null,
            "justify_items": null,
            "left": null,
            "margin": null,
            "max_height": null,
            "max_width": null,
            "min_height": null,
            "min_width": null,
            "object_fit": null,
            "object_position": null,
            "order": null,
            "overflow": null,
            "overflow_x": null,
            "overflow_y": null,
            "padding": null,
            "right": null,
            "top": null,
            "visibility": null,
            "width": null
          }
        },
        "7ed663d01f6448998bc6c97d6cbad927": {
          "model_module": "@jupyter-widgets/base",
          "model_name": "LayoutModel",
          "model_module_version": "1.2.0",
          "state": {
            "_model_module": "@jupyter-widgets/base",
            "_model_module_version": "1.2.0",
            "_model_name": "LayoutModel",
            "_view_count": null,
            "_view_module": "@jupyter-widgets/base",
            "_view_module_version": "1.2.0",
            "_view_name": "LayoutView",
            "align_content": null,
            "align_items": null,
            "align_self": null,
            "border": null,
            "bottom": null,
            "display": null,
            "flex": null,
            "flex_flow": null,
            "grid_area": null,
            "grid_auto_columns": null,
            "grid_auto_flow": null,
            "grid_auto_rows": null,
            "grid_column": null,
            "grid_gap": null,
            "grid_row": null,
            "grid_template_areas": null,
            "grid_template_columns": null,
            "grid_template_rows": null,
            "height": null,
            "justify_content": null,
            "justify_items": null,
            "left": null,
            "margin": null,
            "max_height": null,
            "max_width": null,
            "min_height": null,
            "min_width": null,
            "object_fit": null,
            "object_position": null,
            "order": null,
            "overflow": null,
            "overflow_x": null,
            "overflow_y": null,
            "padding": null,
            "right": null,
            "top": null,
            "visibility": null,
            "width": null
          }
        },
        "85f3ce9c22f74819997179660c027c47": {
          "model_module": "@jupyter-widgets/controls",
          "model_name": "DescriptionStyleModel",
          "model_module_version": "1.5.0",
          "state": {
            "_model_module": "@jupyter-widgets/controls",
            "_model_module_version": "1.5.0",
            "_model_name": "DescriptionStyleModel",
            "_view_count": null,
            "_view_module": "@jupyter-widgets/base",
            "_view_module_version": "1.2.0",
            "_view_name": "StyleView",
            "description_width": ""
          }
        },
        "3780735fbb9c406ab63133406e143d04": {
          "model_module": "@jupyter-widgets/base",
          "model_name": "LayoutModel",
          "model_module_version": "1.2.0",
          "state": {
            "_model_module": "@jupyter-widgets/base",
            "_model_module_version": "1.2.0",
            "_model_name": "LayoutModel",
            "_view_count": null,
            "_view_module": "@jupyter-widgets/base",
            "_view_module_version": "1.2.0",
            "_view_name": "LayoutView",
            "align_content": null,
            "align_items": null,
            "align_self": null,
            "border": null,
            "bottom": null,
            "display": null,
            "flex": null,
            "flex_flow": null,
            "grid_area": null,
            "grid_auto_columns": null,
            "grid_auto_flow": null,
            "grid_auto_rows": null,
            "grid_column": null,
            "grid_gap": null,
            "grid_row": null,
            "grid_template_areas": null,
            "grid_template_columns": null,
            "grid_template_rows": null,
            "height": null,
            "justify_content": null,
            "justify_items": null,
            "left": null,
            "margin": null,
            "max_height": null,
            "max_width": null,
            "min_height": null,
            "min_width": null,
            "object_fit": null,
            "object_position": null,
            "order": null,
            "overflow": null,
            "overflow_x": null,
            "overflow_y": null,
            "padding": null,
            "right": null,
            "top": null,
            "visibility": null,
            "width": null
          }
        },
        "0d17ab30f91f4c31a3174526ee0b7d47": {
          "model_module": "@jupyter-widgets/controls",
          "model_name": "ProgressStyleModel",
          "model_module_version": "1.5.0",
          "state": {
            "_model_module": "@jupyter-widgets/controls",
            "_model_module_version": "1.5.0",
            "_model_name": "ProgressStyleModel",
            "_view_count": null,
            "_view_module": "@jupyter-widgets/base",
            "_view_module_version": "1.2.0",
            "_view_name": "StyleView",
            "bar_color": null,
            "description_width": ""
          }
        },
        "8b0d05edf50d4d1c90f5fd2706c03e26": {
          "model_module": "@jupyter-widgets/base",
          "model_name": "LayoutModel",
          "model_module_version": "1.2.0",
          "state": {
            "_model_module": "@jupyter-widgets/base",
            "_model_module_version": "1.2.0",
            "_model_name": "LayoutModel",
            "_view_count": null,
            "_view_module": "@jupyter-widgets/base",
            "_view_module_version": "1.2.0",
            "_view_name": "LayoutView",
            "align_content": null,
            "align_items": null,
            "align_self": null,
            "border": null,
            "bottom": null,
            "display": null,
            "flex": null,
            "flex_flow": null,
            "grid_area": null,
            "grid_auto_columns": null,
            "grid_auto_flow": null,
            "grid_auto_rows": null,
            "grid_column": null,
            "grid_gap": null,
            "grid_row": null,
            "grid_template_areas": null,
            "grid_template_columns": null,
            "grid_template_rows": null,
            "height": null,
            "justify_content": null,
            "justify_items": null,
            "left": null,
            "margin": null,
            "max_height": null,
            "max_width": null,
            "min_height": null,
            "min_width": null,
            "object_fit": null,
            "object_position": null,
            "order": null,
            "overflow": null,
            "overflow_x": null,
            "overflow_y": null,
            "padding": null,
            "right": null,
            "top": null,
            "visibility": null,
            "width": null
          }
        },
        "95116e3f041548e386c4b9767d66a24c": {
          "model_module": "@jupyter-widgets/controls",
          "model_name": "DescriptionStyleModel",
          "model_module_version": "1.5.0",
          "state": {
            "_model_module": "@jupyter-widgets/controls",
            "_model_module_version": "1.5.0",
            "_model_name": "DescriptionStyleModel",
            "_view_count": null,
            "_view_module": "@jupyter-widgets/base",
            "_view_module_version": "1.2.0",
            "_view_name": "StyleView",
            "description_width": ""
          }
        }
      }
    }
  },
  "cells": [
    {
      "cell_type": "markdown",
      "metadata": {
        "id": "view-in-github",
        "colab_type": "text"
      },
      "source": [
        "<a href=\"https://colab.research.google.com/github/JasonDepblu/potential-spork/blob/new_embeddings_model/new_embeddings_model.ipynb\" target=\"_parent\"><img src=\"https://colab.research.google.com/assets/colab-badge.svg\" alt=\"Open In Colab\"/></a>"
      ]
    },
    {
      "cell_type": "markdown",
      "source": [
        "# 导入模块及库"
      ],
      "metadata": {
        "id": "XOAtv2UC9TcI"
      }
    },
    {
      "cell_type": "code",
      "execution_count": 7,
      "metadata": {
        "colab": {
          "base_uri": "https://localhost:8080/"
        },
        "id": "-xJLaksZrGpg",
        "outputId": "761b2b89-05db-4ae1-a37e-7aa99bcbd8e8"
      },
      "outputs": [
        {
          "output_type": "stream",
          "name": "stdout",
          "text": [
            "Requirement already satisfied: transformers in /usr/local/lib/python3.10/dist-packages (4.35.2)\n",
            "Requirement already satisfied: filelock in /usr/local/lib/python3.10/dist-packages (from transformers) (3.13.1)\n",
            "Requirement already satisfied: huggingface-hub<1.0,>=0.16.4 in /usr/local/lib/python3.10/dist-packages (from transformers) (0.19.4)\n",
            "Requirement already satisfied: numpy>=1.17 in /usr/local/lib/python3.10/dist-packages (from transformers) (1.23.5)\n",
            "Requirement already satisfied: packaging>=20.0 in /usr/local/lib/python3.10/dist-packages (from transformers) (23.2)\n",
            "Requirement already satisfied: pyyaml>=5.1 in /usr/local/lib/python3.10/dist-packages (from transformers) (6.0.1)\n",
            "Requirement already satisfied: regex!=2019.12.17 in /usr/local/lib/python3.10/dist-packages (from transformers) (2023.6.3)\n",
            "Requirement already satisfied: requests in /usr/local/lib/python3.10/dist-packages (from transformers) (2.31.0)\n",
            "Requirement already satisfied: tokenizers<0.19,>=0.14 in /usr/local/lib/python3.10/dist-packages (from transformers) (0.15.0)\n",
            "Requirement already satisfied: safetensors>=0.3.1 in /usr/local/lib/python3.10/dist-packages (from transformers) (0.4.0)\n",
            "Requirement already satisfied: tqdm>=4.27 in /usr/local/lib/python3.10/dist-packages (from transformers) (4.66.1)\n",
            "Requirement already satisfied: fsspec>=2023.5.0 in /usr/local/lib/python3.10/dist-packages (from huggingface-hub<1.0,>=0.16.4->transformers) (2023.6.0)\n",
            "Requirement already satisfied: typing-extensions>=3.7.4.3 in /usr/local/lib/python3.10/dist-packages (from huggingface-hub<1.0,>=0.16.4->transformers) (4.5.0)\n",
            "Requirement already satisfied: charset-normalizer<4,>=2 in /usr/local/lib/python3.10/dist-packages (from requests->transformers) (3.3.2)\n",
            "Requirement already satisfied: idna<4,>=2.5 in /usr/local/lib/python3.10/dist-packages (from requests->transformers) (3.4)\n",
            "Requirement already satisfied: urllib3<3,>=1.21.1 in /usr/local/lib/python3.10/dist-packages (from requests->transformers) (2.0.7)\n",
            "Requirement already satisfied: certifi>=2017.4.17 in /usr/local/lib/python3.10/dist-packages (from requests->transformers) (2023.7.22)\n"
          ]
        }
      ],
      "source": [
        "pip install transformers"
      ]
    },
    {
      "cell_type": "code",
      "source": [
        "pip install tqdm"
      ],
      "metadata": {
        "colab": {
          "base_uri": "https://localhost:8080/"
        },
        "id": "B3hiqL9ruFvn",
        "outputId": "59fef9e2-8b6a-41f4-f8bc-feacb382b6be"
      },
      "execution_count": 8,
      "outputs": [
        {
          "output_type": "stream",
          "name": "stdout",
          "text": [
            "Requirement already satisfied: tqdm in /usr/local/lib/python3.10/dist-packages (4.66.1)\n"
          ]
        }
      ]
    },
    {
      "cell_type": "code",
      "source": [
        "# 导入模块\n",
        "import os\n",
        "import pandas as pd\n",
        "import numpy as np\n",
        "import random\n",
        "from matplotlib import pyplot as plt\n",
        "import tensorflow as tf\n",
        "from tensorflow import keras\n",
        "from keras import layers, models, optimizers\n",
        "from sklearn import metrics\n",
        "from sklearn.model_selection import train_test_split\n",
        "from sklearn.metrics import confusion_matrix, auc\n",
        "from sklearn.metrics import classification_report\n",
        "from sklearn.preprocessing import StandardScaler, MinMaxScaler\n",
        "from sklearn.preprocessing import OneHotEncoder\n",
        "from sklearn.decomposition import PCA\n",
        "import copy\n",
        "import scipy\n",
        "from collections import UserList\n",
        "from tabulate import tabulate\n",
        "from tensorflow.keras.callbacks import ModelCheckpoint\n",
        "import re\n",
        "from transformers import BertTokenizer, TFBertModel\n",
        "from transformers import AdamW\n",
        "from transformers import AdamW, get_linear_schedule_with_warmup\n",
        "from tqdm import tqdm"
      ],
      "metadata": {
        "id": "s_qJSLS3uJ1Y"
      },
      "execution_count": 1,
      "outputs": []
    },
    {
      "cell_type": "markdown",
      "source": [
        "# 导入数据及预处理"
      ],
      "metadata": {
        "id": "3_RN1c3C9aJ9"
      }
    },
    {
      "cell_type": "code",
      "source": [
        "#%% # Load the dataset\n",
        "file_path_car = '/content/car_dict_e8_emb.csv'\n",
        "car_data = pd.read_csv(file_path_car)\n",
        "\n",
        "file_path_user = '/content/dsc_up_e8.csv'\n",
        "user_data = pd.read_csv(file_path_user)\n",
        "\n",
        "# Display the first few rows of the dataframe\n",
        "car_data.head()\n",
        "user_data.head()\n",
        "\n",
        "\"\"\"# `预处理data`\"\"\"\n",
        "\n",
        "# Remove columns with only one unique value\n",
        "columns_to_drop = car_data.columns[car_data.nunique() <= 1]\n",
        "car_data_reduced = car_data.drop(columns=columns_to_drop)\n",
        "\n",
        "car_data_reduced.head(10)\n",
        "\n",
        "# Define the new function to handle multiple ● symbols\n",
        "def replace_with_detailed_feature_description(cell, feature_name):\n",
        "    if pd.isna(cell):\n",
        "        return cell  # Keep NaN as is\n",
        "    elif isinstance(cell, str):\n",
        "        # Replace specific symbols with words\n",
        "        cell = cell.replace('●', '有').replace('○', '选配').replace('-', '不具有').replace('NULL', '未知')\n",
        "        # Find all occurrences of \"有\" which indicates a feature is present\n",
        "        features = cell.split()\n",
        "        feature_descriptions = []\n",
        "        for feature in features:\n",
        "            if feature.startswith('有'):\n",
        "                feature_description = feature[1:]  # Remove the '有' prefix\n",
        "                feature_descriptions.append(feature_description)\n",
        "        if feature_descriptions:\n",
        "            return f\"具备{feature_name}功能，\" + \"、\".join(feature_descriptions)\n",
        "        else:\n",
        "            # If there are no '有', but the cell is not empty or NaN, it means\n",
        "            # it's either '选配', '不具有' or '未知'\n",
        "            return cell + feature_name + \"功能\"\n",
        "    else:\n",
        "        return cell  # Keep the original value if it doesn't match the above\n",
        "\n",
        "# Apply the new function to each non-numeric cell\n",
        "for column in car_data_reduced.columns:\n",
        "    if car_data_reduced[column].dtype == 'object':  # Apply only to non-numeric columns\n",
        "        feature_name = column.strip()  # Clean up the column name if necessary\n",
        "        car_data_reduced[column] = car_data_reduced[column].apply(lambda cell:\n",
        "                               replace_with_detailed_feature_description(cell, feature_name))\n",
        "\n",
        "car_data_reduced.head(10)\n",
        "\n",
        "# Define the path for the cleaned CSV file\n",
        "cleaned_file_path = '/content/cleaned_car_data.csv'\n",
        "\n",
        "# Save the cleaned dataframe to a CSV file\n",
        "car_data_reduced.to_csv(cleaned_file_path, index=False)  # Set index to False to avoid saving the index\n",
        "\n",
        "\n",
        "\n",
        "dsc_up = user_data.values\n",
        "car_dict = car_data_reduced.values\n",
        "\n",
        "print(dsc_up.shape)\n",
        "print(car_dict.shape)\n",
        "\n",
        "# column of last feature from 0 and +1\n",
        "col_last_feature_car = 238\n",
        "# 80\n",
        "col_last_num_feature_car = 38\n",
        "\n",
        "col_last_feature_user = 9\n",
        "\n",
        "col_last_num_feature_user = 5\n",
        "\n",
        "# 提取特征列表\n",
        "dsc_up_features = user_data.columns.tolist()\n",
        "car_dict_features = car_data_reduced.columns.tolist()\n",
        "\n",
        "dsc_up_features = user_data.columns[1:col_last_feature_user].tolist() # 提取第1至28个特征\n",
        "car_dict_features = car_data_reduced.columns[1:col_last_feature_car].tolist() # 提取第1至155个特征\n",
        "car_dict_num_features = car_data_reduced.columns[1:col_last_num_feature_car].tolist() # 提取第151至155个特征\n",
        "dsc_up_num_features = user_data.columns[1:col_last_num_feature_user].tolist()\n",
        "#\n",
        "\n",
        "print(dsc_up_features)\n",
        "print(car_dict_features)\n",
        "print(dsc_up_features[-1])\n",
        "print(car_dict_features[-1])\n",
        "print(car_dict_num_features[-1])\n",
        "print(dsc_up_num_features[-1])\n",
        "\n",
        "num_cars = len(car_dict)\n",
        "print(f'The No. of cars in fundamental model dataset : {num_cars}')\n",
        "\n",
        "# balance dsc_up samples\n",
        "dsc_up_bal = np.empty(shape=(1, dsc_up.shape[1]))\n",
        "\n",
        "for i in range(num_cars):\n",
        "  if len(dsc_up[user_data.no_in_car_dict == i]) > 300:\n",
        "    ran_row_bal = np.random.choice(np.arange(len(dsc_up[user_data.no_in_car_dict == i])), size=300, replace=False)\n",
        "    dsc_up_bali = dsc_up[user_data.no_in_car_dict == i][ran_row_bal]\n",
        "  else:\n",
        "    dsc_up_bali = dsc_up[user_data.no_in_car_dict == i]\n",
        "  dsc_up_bal = np.concatenate((dsc_up_bal, dsc_up_bali), axis=0)\n",
        "dsc_up = dsc_up_bal[1:]\n",
        "print(dsc_up.shape)\n",
        "\n",
        "# load the label\n",
        "print(f'The shape of cars dict of the fundamental model dataset : {car_dict.shape}')\n",
        "print(f'The shape of users list of the fundamental model dataset : {dsc_up.shape}')\n",
        "\n",
        "ys_up = dsc_up[:, 12]\n",
        "print(f'The label of which user choosed which car in fundamental dataset : {ys_up}')\n",
        "\n",
        "# transfer the label of fundamental dataset to onehot_code\n",
        "ys = copy.copy(ys_up.reshape(len(ys_up), 1))\n",
        "ys -= 1\n",
        "onehot_encoder = OneHotEncoder(sparse_output=False)\n",
        "onehot_encoded = onehot_encoder.fit_transform(ys)\n",
        "ys = onehot_encoded\n",
        "print(f'The shape of the label of fundamental dataset to onehot_code : {ys.shape}')\n",
        "\n",
        "car_unscaled = car_dict[:, 1:col_last_feature_car]\n",
        "user_unscaled = dsc_up[:, 1:col_last_feature_user]\n",
        "\n",
        "\n",
        "# generate the gaussian random no. to budget feature\n",
        "mu_budget = 0.5\n",
        "sigma_budget = 2\n",
        "\n",
        "for i in range(len(user_unscaled)):\n",
        "    user_unscaled[i, 4] += random.gauss(mu_budget, sigma_budget)\n",
        "\n",
        "car = car_unscaled.copy()\n",
        "user = user_unscaled.copy()\n",
        "\n",
        "# scaling the data\n",
        "scalerCar = StandardScaler()\n",
        "scalerCar.fit(car_unscaled[:, 0:col_last_num_feature_car-1])\n",
        "car_nume = scalerCar.transform(car_unscaled[:, 0:col_last_num_feature_car-1])\n",
        "car[:, 0:col_last_num_feature_car-1] = car_nume\n",
        "\n",
        "scalerUser = StandardScaler()\n",
        "scalerUser.fit(user_unscaled[:, (col_last_num_feature_user-1):(col_last_feature_user-1)])\n",
        "user_nume = scalerUser.transform(user_unscaled[:, (col_last_num_feature_user-1):(col_last_feature_user-1)])\n",
        "user[:, col_last_num_feature_user-1:col_last_feature_user-1] = user_nume\n",
        "\n",
        "print(np.allclose(car_unscaled[:, 0:col_last_num_feature_car-1].astype(float), scalerCar.inverse_transform(car_nume)))\n",
        "print(np.allclose(user_unscaled[:, (col_last_num_feature_user-1):(col_last_feature_user-1)].astype(float), scalerUser.inverse_transform(user_nume)))\n"
      ],
      "metadata": {
        "colab": {
          "base_uri": "https://localhost:8080/"
        },
        "id": "VetdKzOZuVNf",
        "outputId": "6ac7702e-f503-4f37-9e19-03e384667479"
      },
      "execution_count": 2,
      "outputs": [
        {
          "output_type": "stream",
          "name": "stderr",
          "text": [
            "<ipython-input-2-8fa3021e2d91>:3: DtypeWarning: Columns (300,302,303,307,309,312,313,314,315,316,317) have mixed types. Specify dtype option on import or set low_memory=False.\n",
            "  car_data = pd.read_csv(file_path_car)\n"
          ]
        },
        {
          "output_type": "stream",
          "name": "stdout",
          "text": [
            "(5520, 14)\n",
            "(142, 239)\n",
            "['comments', 'purposes', 'province', 'city', 'budget', 'drivenkiloms', 'driving _months', 'km/d']\n",
            "['price', 'quick_charge_time(80%)', 'slow_charge_time', 'power_car', '最大净功率', 'torque_car', 'gears', 'max_speed', 'time_for_100km_h', 'pure_electric_endurance_mileage', 'endurance_mileage', '电动机总功率', '电动机总扭矩', '前电动机最大功率', '前电动机最大扭矩', '后电动机最大功率', '后电动机最大扭矩', '驱动电机数', 'length', 'width', 'height', 'wheel_base', 'front_gauge', 'track_rear', 'curb_weight', 'seats', '扬声器数量', '中控屏幕尺寸', '后备厢容积min', '后备厢容积max', '超声波雷达数量', '毫米波雷达数量', '快充功率', '怠速车内噪声', '速度60车内噪声', '速度80车内噪声', '速度120车内噪声', '厂商', '级别', '能源类型', '发动机', '变速箱', '整车质保', '电机类型', '驱动电机数.1', '电机布局', '电池类型', '电池组质保', '变速箱类型', '驱动方式', '后悬架类型', '后制动器类型', '驻车制动类型', '前轮胎规格', '后轮胎规格', '备胎规格', '主_副驾驶座安全气囊', '前_后排侧气囊', '前_后排头部气囊', '膝部气囊', '胎压监测功能', '安全带未系提醒', 'ISOFIX儿童座椅接口', 'ABS防抱死', '制动力分配', '刹车辅助', '牵引力控制', '车身稳定控制', '并线辅助', '车道偏离预警系统', '车道保持辅助系统', '道路交通标识识别', '主动刹车_主动安全系统', '疲劳驾驶提示', '前_后驻车雷达', '驾驶辅助影像', '倒车车侧预警系统', '巡航系统', '驾驶模式切换', '自动泊车入位', '发动机启停技术', '自动驻车', '上坡辅助', '陡坡缓降', '可变悬架功能', '电磁感应悬架', '天窗类型', '轮圈材质', '侧滑门形式', '电动后备厢', '感应后备厢', '电动后备厢位置记忆', '车顶行李架', '发动机电子防盗', '车内中控锁', '钥匙类型', '无钥匙启动系统', '无钥匙进入功能', '主动闭合式进气格栅', '远程启动功能', '方向盘材质', '方向盘位置调节', '多功能方向盘', '方向盘换挡', '方向盘加热', '方向盘记忆', '行车电脑显示屏幕', '全液晶仪表盘', '液晶仪表尺寸', 'HUD抬头数字显示', '内置行车记录仪', '主动降噪', '手机无线充电功能', '座椅材质', '主座椅调节方式', '副座椅调节方式', '主_副驾驶座电动调节', '前排座椅功能', '电动座椅记忆功能', '副驾驶位后排可调节按钮', '第二排座椅调节', '后排座椅电动调节', '后排座椅功能', '后排小桌板', '第二排独立座椅', '座椅布局', '后排座椅放倒形式', '前_后中央扶手', '后排杯架', '加热_制冷杯架', '导航路况信息显示', '道路救援呼叫', '蓝牙_车载电话', '手机互联_映射', '语音识别控制系统', '手势控制', '车联网', '后排液晶屏幕', '后排控制多媒体', 'USB_TypeC接口数量', '车载CD_DVD', '电源220V_230V', '行李厢12V电源接口', '扬声器品牌名称', '近光灯光源', '远光灯光源', '灯光特色功能', 'LED日间行车灯', '自适应远近光', '自动头灯', '转向辅助灯', '车前雾灯', '前大灯雨雾模式', '大灯高度可调', '大灯延时关闭', '触摸式阅读灯', '车内环境氛围灯', '前_后电动车窗', '车窗一键升降功能', '车窗防夹手功能', '多层隔音玻璃', '外后视镜功能', '内后视镜功能', '后排侧窗遮阳帘', '后排侧隐私玻璃', '车内化妆镜', '后雨刷', '感应雨刷功能', '空调温度控制方式', '后排独立空调', '后座出风口', '温度分区控制', '车载空气净化器', '车内PM过滤装置', '负离子发生器', '车内香氛装置', '车载冰箱', '外观颜色', '内饰颜色', 'ota升级', '电池预加热', '面部识别', '缺气保用轮胎', '电池能量', '多媒体_充电接口', '电动机', '中控彩色屏幕', '毫米波雷达数量.1', '卫星导航系统', 'nedc综合油耗', '发动机布局', '超声波雷达数量.1', '芯片总算力', '摄像头数量', '最低荷电状态油耗', 'nedc纯电续航里程', 'cltc纯电续航里程', '发动机最大扭矩', '发动机最大功率', 'dow开门预警', '手机app远程控制', '快充功能', 'ar实景导航', '前方碰撞预警', 'etc装置', '最大满载质量', '满载最小离地间隙', '辅助驾驶等级', '换挡形式', '离去角', '车载智能系统', '制动能量回收系统', '电芯品牌', '电动机总功率.1', '低速行车警告', '最小转弯半径', '热泵空调', '地图品牌', 'wi_fi热点', '对外放电', '电池冷却方式', '遥控泊车', '透明底盘_540度影像', '后方碰撞预警', '自动变道辅助', '车内生物监测系统', '车道居中保持', '福祉座椅', '第二排座椅电动调节', '第二排座椅功能', '后排液晶屏幕尺寸', '第三排座椅功能', '第三排座椅调节', '可见即可说', '语音免唤醒词', '语音分区域唤醒识别', '手机app远程功能']\n",
            "km/d\n",
            "手机app远程功能\n",
            "速度120车内噪声\n",
            "city\n",
            "The No. of cars in fundamental model dataset : 142\n",
            "(4945, 14)\n",
            "The shape of cars dict of the fundamental model dataset : (142, 239)\n",
            "The shape of users list of the fundamental model dataset : (4945, 14)\n",
            "The label of which user choosed which car in fundamental dataset : [0 0 0 ... 141 141 141]\n",
            "The shape of the label of fundamental dataset to onehot_code : (4945, 142)\n",
            "True\n",
            "True\n"
          ]
        }
      ]
    },
    {
      "cell_type": "code",
      "source": [
        "# 样本匹配\n",
        "# func for generating num_items users of different cars\n",
        "def gen_user_vecs(user_vec, num_items):\n",
        "    \"\"\" given a user vector return:\n",
        "        user predict matrix to match the size of item_vecs \"\"\"\n",
        "    user_vecs = np.tile(user_vec, (1, num_items))\n",
        "    return user_vecs\n",
        "\n",
        "def gen_car_vecs(car_vec, num_users):\n",
        "    car_vecs = np.tile(car_vec, (num_users, 1))\n",
        "    return car_vecs\n",
        "\n",
        "# generate num_items users for different cars\n",
        "user_vecs = gen_user_vecs(user, len(car_dict))\n",
        "user_vecs = user_vecs.reshape(-1, user.shape[1])\n",
        "car_vecs = gen_car_vecs(car, len(dsc_up))\n",
        "ys = ys.reshape(-1, 1)\n",
        "print(f'The shape of user matrix in fundamental dataset : {user_vecs.shape}')\n",
        "print(f'The shape of car matrix in fundamental dataset : {car_vecs.shape}')\n",
        "print(f'The shape of label matrix in fundamental dataset : {ys.shape}')\n",
        "\n",
        "print(ys[ys == 0].shape)\n",
        "\n",
        "randnum = random.randint(0, 100)\n",
        "print(randnum)\n",
        "random.seed(randnum)\n",
        "\n",
        "# case 3\n",
        "# Random choose the users which label is 0 in fundamental dataset\n",
        "\n",
        "user_vecs_one = user_vecs[(ys == 1)[:, 0]]\n",
        "user_vecs_zero = user_vecs[(ys == 0)[:, 0]]\n",
        "num_users = user_vecs_one.shape[0]\n",
        "num_zeros = user_vecs_zero.shape[0]\n",
        "random.seed(randnum)\n",
        "\n",
        "sample_row = np.random.choice(np.arange(num_zeros), size=np.ceil(num_users * 1.2).astype(int), replace=False)\n",
        "user_vecs_zero = user_vecs_zero[sample_row]\n",
        "user_vecs = np.concatenate((user_vecs_zero, user_vecs_one), axis=0)\n",
        "\n",
        "# random.seed(44)\n",
        "shuffle_row = np.random.choice(np.arange(0,len(user_vecs)), len(user_vecs), replace=False)\n",
        "user_vecs = user_vecs[shuffle_row]\n",
        "print(f'The shape of the users data in fundatmental dataset after balancing : {user_vecs.shape}')\n",
        "\n",
        "# case3\n",
        "# Random choose the cars which label is 0 in fundamental dataset\n",
        "\n",
        "car_vecs_one = car_vecs[(ys == 1)[:, 0]]\n",
        "car_vecs_zero = car_vecs[(ys == 0)[:, 0]][sample_row]\n",
        "car_vecs = np.concatenate((car_vecs_zero, car_vecs_one), axis=0)\n",
        "\n",
        "car_vecs = car_vecs[shuffle_row]\n",
        "print(f'The shape of the cars data in fundatmental dataset after balancing : {car_vecs.shape}')\n",
        "\n",
        "# case 3\n",
        "# Random choose the label which is 0 in fundamental dataset\n",
        "ys_one = ys[(ys == 1)[:, 0]]\n",
        "ys_zero = ys[(ys == 0)[:, 0]][sample_row]\n",
        "ys = np.concatenate((ys_zero, ys_one), axis=0)\n",
        "\n",
        "ys = ys[shuffle_row]\n",
        "print(f'The shape of label data in fundatmental dataset after balancing : {ys.shape}')\n",
        "\n",
        "user_vecs_nnum = user_vecs[:, 0:col_last_num_feature_user-1]\n",
        "user_vecs_num = user_vecs[:, (col_last_num_feature_user-1):(col_last_feature_user-1)]\n",
        "\n",
        "car_vecs_nnum = car_vecs[:, col_last_num_feature_car-1:col_last_feature_car-1]\n",
        "car_vecs_num = car_vecs[:, 0:col_last_num_feature_car-1]\n",
        "\n",
        "print(user_vecs_nnum.shape)\n",
        "print(user_vecs_num.shape)\n",
        "print(car_vecs_nnum.shape)\n",
        "print(car_vecs_num.shape)"
      ],
      "metadata": {
        "colab": {
          "base_uri": "https://localhost:8080/"
        },
        "id": "Js2nmDP5uzK2",
        "outputId": "2654c094-c2e2-4365-bb5b-d1542ee2a31e"
      },
      "execution_count": 3,
      "outputs": [
        {
          "output_type": "stream",
          "name": "stdout",
          "text": [
            "The shape of user matrix in fundamental dataset : (702190, 8)\n",
            "The shape of car matrix in fundamental dataset : (702190, 237)\n",
            "The shape of label matrix in fundamental dataset : (702190, 1)\n",
            "(697245,)\n",
            "34\n",
            "The shape of the users data in fundatmental dataset after balancing : (10879, 8)\n",
            "The shape of the cars data in fundatmental dataset after balancing : (10879, 237)\n",
            "The shape of label data in fundatmental dataset after balancing : (10879, 1)\n",
            "(10879, 4)\n",
            "(10879, 4)\n",
            "(10879, 200)\n",
            "(10879, 37)\n"
          ]
        }
      ]
    },
    {
      "cell_type": "code",
      "source": [
        "# 初始化分词器和模型\n",
        "tokenizer = BertTokenizer.from_pretrained('bert-base-chinese')\n",
        "model =  TFBertModel.from_pretrained('bert-base-chinese')"
      ],
      "metadata": {
        "colab": {
          "base_uri": "https://localhost:8080/",
          "height": 284,
          "referenced_widgets": [
            "365b4ba0947d41d98e50603050fb8980",
            "6200edd87ce74845ae193ce8c29106b4",
            "bad6999b27a64b8d85ad7ed82aea43d0",
            "3d2dc56354da49cf9fc4e6499d52f8e1",
            "614d6b67e8ea461d9dc34f9d882e7def",
            "e1acb478a8034d838c819d83c921182e",
            "2fa195f005164665b40d7283a5371219",
            "8837832183f54c1ab4f188429607ab45",
            "d8c7c2d867624141b16882e6e65bff17",
            "03cc6d096b744b9d875e4bc7c7aca328",
            "39cd2653eb1f4ca2981f983b7a8b4699",
            "2a7fda20de1d47edadc17808870be7d3",
            "e8f4a334b7bc499f847d0aa350a4372e",
            "0a0fb6753137411ab887aa918f3f74a3",
            "7eacaff7ded14871b0e6f85c2aed3ccf",
            "6acdc5979a0a4cb486a3d1da5b01fcbf",
            "3065e0544f914d9bb491ef45105c682e",
            "bfcdeeb446994a96855bf3c8f8cc1a2a",
            "6f9e5c93cf1c40bab032bacf6cebf1b8",
            "f50c2088a73c43088507a8f6e0915c3e",
            "03846e75fcb94602ac290849d61bc751",
            "94731b5e0e8349eabf510c511a4cf299",
            "23e06984f6784abba6ae3024b10a2cb9",
            "b76486ca695b4b6ab3cc24744036f8c8",
            "d30a9d39fa9e44f7b651c5081ef8f53b",
            "f776e064d0344efd94354496dc47ad7d",
            "01644ccdefb442dc90b84e86a35b7523",
            "cbc40a470f344856963329f5ef67dd67",
            "290194269d27439c8cff6a903c27db4f",
            "3c9bf0c311214790a5a14001945d658a",
            "96d2a3f002a04c5798b26ad085d24d68",
            "04ff574a3fd046488697837d026597c9",
            "79a7cec74ab948efa2cbbdf73fb3989d",
            "62f952d2a5854ceba49775d0b57924cc",
            "ef9c7290d14842d78e81cb082bab262a",
            "ed7e2455eebb4d3787e02fcacdcfd5f4",
            "4bedc732e19f47078c0e07b673d9a97c",
            "224d779f53ff42f7bb90826d66e33e5c",
            "ad12580d928a46e484d13c8f34abccfd",
            "54c097d3a6884f808d32894e0f80a751",
            "409d4d3541a64bf48475ac0100220a01",
            "e50e7ee369304e59ad2418e6ecab2d4a",
            "9cf336c2828d4da4a4097e8a1e66bf5c",
            "234e9fd1128c4d8b94b64fbff3cdf736",
            "704b222d4f164d90affba0dd4c9dd0a2",
            "7de5ad6210f84d3880f87de8bfa24c40",
            "9b4ab724b1f041b4adf93cc715fa2cd5",
            "72cd8359e98941ddbed8f06a92ce6602",
            "54ec14c85c80467c99d2763a355e99c5",
            "7ed663d01f6448998bc6c97d6cbad927",
            "85f3ce9c22f74819997179660c027c47",
            "3780735fbb9c406ab63133406e143d04",
            "0d17ab30f91f4c31a3174526ee0b7d47",
            "8b0d05edf50d4d1c90f5fd2706c03e26",
            "95116e3f041548e386c4b9767d66a24c"
          ]
        },
        "id": "Cfr98E-cwBVQ",
        "outputId": "800d0ca9-8489-46e5-b434-9ea127f33d22"
      },
      "execution_count": 7,
      "outputs": [
        {
          "output_type": "display_data",
          "data": {
            "text/plain": [
              "tokenizer_config.json:   0%|          | 0.00/29.0 [00:00<?, ?B/s]"
            ],
            "application/vnd.jupyter.widget-view+json": {
              "version_major": 2,
              "version_minor": 0,
              "model_id": "365b4ba0947d41d98e50603050fb8980"
            }
          },
          "metadata": {}
        },
        {
          "output_type": "display_data",
          "data": {
            "text/plain": [
              "vocab.txt:   0%|          | 0.00/110k [00:00<?, ?B/s]"
            ],
            "application/vnd.jupyter.widget-view+json": {
              "version_major": 2,
              "version_minor": 0,
              "model_id": "2a7fda20de1d47edadc17808870be7d3"
            }
          },
          "metadata": {}
        },
        {
          "output_type": "display_data",
          "data": {
            "text/plain": [
              "tokenizer.json:   0%|          | 0.00/269k [00:00<?, ?B/s]"
            ],
            "application/vnd.jupyter.widget-view+json": {
              "version_major": 2,
              "version_minor": 0,
              "model_id": "23e06984f6784abba6ae3024b10a2cb9"
            }
          },
          "metadata": {}
        },
        {
          "output_type": "display_data",
          "data": {
            "text/plain": [
              "config.json:   0%|          | 0.00/624 [00:00<?, ?B/s]"
            ],
            "application/vnd.jupyter.widget-view+json": {
              "version_major": 2,
              "version_minor": 0,
              "model_id": "62f952d2a5854ceba49775d0b57924cc"
            }
          },
          "metadata": {}
        },
        {
          "output_type": "display_data",
          "data": {
            "text/plain": [
              "model.safetensors:   0%|          | 0.00/412M [00:00<?, ?B/s]"
            ],
            "application/vnd.jupyter.widget-view+json": {
              "version_major": 2,
              "version_minor": 0,
              "model_id": "704b222d4f164d90affba0dd4c9dd0a2"
            }
          },
          "metadata": {}
        },
        {
          "output_type": "stream",
          "name": "stderr",
          "text": [
            "Some weights of the PyTorch model were not used when initializing the TF 2.0 model TFBertModel: ['cls.predictions.transform.LayerNorm.bias', 'cls.predictions.bias', 'cls.predictions.transform.LayerNorm.weight', 'cls.seq_relationship.bias', 'cls.predictions.transform.dense.weight', 'cls.predictions.transform.dense.bias', 'cls.seq_relationship.weight']\n",
            "- This IS expected if you are initializing TFBertModel from a PyTorch model trained on another task or with another architecture (e.g. initializing a TFBertForSequenceClassification model from a BertForPreTraining model).\n",
            "- This IS NOT expected if you are initializing TFBertModel from a PyTorch model that you expect to be exactly identical (e.g. initializing a TFBertForSequenceClassification model from a BertForSequenceClassification model).\n",
            "All the weights of TFBertModel were initialized from the PyTorch model.\n",
            "If your task is similar to the task the model of the checkpoint was trained on, you can already use TFBertModel for predictions without further training.\n"
          ]
        }
      ]
    },
    {
      "cell_type": "code",
      "source": [
        "#%%\n",
        "# preprocessing the text\n",
        "def text_clean(text):\n",
        "    \"\"\"\n",
        "    - Remove entity mentions (eg. '@united')\n",
        "    - Correct errors (eg. '&amp;' to '&')\n",
        "    @param    text (str): a string to be processed.\n",
        "    @return   text (Str): the processed string.\n",
        "    \"\"\"\n",
        "    # Convert non-string text to a string (if it's NaN, it becomes the string 'nan')\n",
        "    text = str(text) if text is not None else \"\"\n",
        "\n",
        "    # Remove '@name'\n",
        "    text = re.sub(r'(@.*?)[\\s]', ' ', text)\n",
        "\n",
        "    # Replace '&amp;' with '&'\n",
        "    text = re.sub(r'&amp;', '&', text)\n",
        "\n",
        "    # Remove trailing whitespace\n",
        "    text = re.sub(r'\\s+', '[SEP]', text).strip()\n",
        "    # text =  \"[CLS] \" + text + \"[SEP]\"\n",
        "\n",
        "    return text\n",
        "\n",
        "\n",
        "#%%\n",
        "def text_join(ar_features):\n",
        "    features = []\n",
        "    for r in range(ar_features.shape[0]):\n",
        "        feature_row = []\n",
        "        for c in range(ar_features.shape[1]):\n",
        "            # Convert the element to string and append to the feature_row list\n",
        "            feature_row.append(str(ar_features[r, c]))\n",
        "        # Join the string representations of the features using a separator\n",
        "        features.append(' '.join(feature_row))\n",
        "\n",
        "    # Convert the list of strings to a NumPy array\n",
        "    features = np.array(features, dtype=object)\n",
        "    return features"
      ],
      "metadata": {
        "id": "TqgXHlTtwGv6"
      },
      "execution_count": 4,
      "outputs": []
    },
    {
      "cell_type": "code",
      "source": [
        "user_nnum = text_join(user_vecs_nnum)\n",
        "print(f'joined features of users shape is {user_nnum.shape}')\n",
        "\n",
        "car_nnum = text_join(car_vecs_nnum)\n",
        "print(f'joined features of cars shape is {user_nnum.shape}')"
      ],
      "metadata": {
        "colab": {
          "base_uri": "https://localhost:8080/"
        },
        "id": "egrDgoMbwPmG",
        "outputId": "f595cef1-9208-4e2d-8fd6-90c3eb78c20a"
      },
      "execution_count": 5,
      "outputs": [
        {
          "output_type": "stream",
          "name": "stdout",
          "text": [
            "joined features of users shape is (10879,)\n",
            "joined features of cars shape is (10879,)\n"
          ]
        }
      ]
    },
    {
      "cell_type": "code",
      "source": [
        "## test join the features as inputs(features)\n",
        "def embeddings_for_features(features, max_length_comments, batch_size_user=4):\n",
        "    features_emb_list = []\n",
        "    # Iterate over each user's features\n",
        "    for batch_start_index in tqdm(range(0, len(features), batch_size_user), desc=\"Processing users\"):\n",
        "        batch_features = features[batch_start_index:batch_start_index+batch_size_user]\n",
        "        batch_input_ids = []\n",
        "        batch_attention_masks = []\n",
        "        for feature_text in batch_features:\n",
        "            clean_text = text_clean(feature_text if feature_text else \"\")\n",
        "            # Tokenize and encode the text\n",
        "            tokenized_inputs = tokenizer(\n",
        "                text=clean_text,\n",
        "                add_special_tokens=True,\n",
        "                max_length=max_length_comments,\n",
        "                padding='max_length',\n",
        "                return_tensors=\"tf\",\n",
        "                truncation=True\n",
        "            )\n",
        "            batch_input_ids.append(tokenized_inputs[\"input_ids\"][0])\n",
        "            batch_attention_masks.append(tokenized_inputs[\"attention_mask\"][0])\n",
        "        batch_input_ids = tf.stack(batch_input_ids, axis=0)\n",
        "        batch_attention_masks = tf.stack(batch_attention_masks, axis=0)\n",
        "        outputs = model(batch_input_ids, attention_mask=batch_attention_masks)\n",
        "        cls_embeddings = outputs.last_hidden_state.numpy()\n",
        "        # Store the results in the list\n",
        "        for user_features_embeddings in cls_embeddings:\n",
        "            features_emb_list.append(user_features_embeddings)\n",
        "            # Convert the list of embeddings to a tensor\n",
        "    # features_emb_tensor = tf.convert_to_tensor(features_emb_list, dtype=tf.float32)\n",
        "    return features_emb_list\n"
      ],
      "metadata": {
        "id": "MzcFWFfTwW1T"
      },
      "execution_count": 10,
      "outputs": []
    },
    {
      "cell_type": "code",
      "source": [
        "def batch_convert_to_tensor(data_list, batch_size):\n",
        "    \"\"\"将大型列表分批次转换为Tensor\"\"\"\n",
        "    for i in tqdm(range(0, len(data_list), batch_size), desc=\"Converting the list to tensor\"):\n",
        "        yield tf.convert_to_tensor(data_list[i:i + batch_size], dtype=tf.float32)\n",
        "\n",
        "# 定义一个生成器函数来逐个加载.npy文件\n",
        "def load_batches(directory, file_pattern, num_batches):\n",
        "    for i in range(num_batches):\n",
        "        file_path = os.path.join(directory, file_pattern+f'{i}')\n",
        "        batch_data = np.load(file_path)\n",
        "        yield batch_data"
      ],
      "metadata": {
        "id": "HAJh6VpKwdgP"
      },
      "execution_count": 11,
      "outputs": []
    },
    {
      "cell_type": "code",
      "source": [
        "# 对所有数据进行拆分以获取训练集和测试集\n",
        "(user_train_nnum, user_test_nnum,\n",
        " user_train_num, user_test_num,\n",
        " car_train_nnum, car_test_nnum,\n",
        " car_train_num, car_test_num,\n",
        " ys_train, ys_test) = train_test_split(user_nnum, user_vecs_num, car_nnum, car_vecs_num, ys, train_size=0.8, shuffle=True, stratify=ys, random_state=2023)\n",
        "\n",
        "# 对测试集进行进一步拆分以获得验证集和最终的测试集\n",
        "(user_val_nnum, user_test_nnum,\n",
        " user_val_num, user_test_num,\n",
        " car_val_nnum, car_test_nnum,\n",
        " car_val_num, car_test_num,\n",
        " ys_val, ys_test) = train_test_split(user_test_nnum, user_test_num, car_test_nnum, car_test_num, ys_test, train_size=0.5, shuffle=True, stratify=ys_test, random_state=2023)\n",
        "\n",
        "# 分割文本为适应模型最大长度的多个部分\n",
        "max_length_comments = 2048  # 模型的最大长度限制\n",
        "max_length = 2700\n",
        "# stride = 512  # 可以重叠的token数量\n",
        "batch_size_user = 4\n",
        "batch_size = 4"
      ],
      "metadata": {
        "id": "2vabzCnYwkxc"
      },
      "execution_count": 6,
      "outputs": []
    },
    {
      "cell_type": "code",
      "source": [
        "#%% # transfer the numpy features to tensors\n",
        "user_train_num_tensor = tf.convert_to_tensor(user_train_num, dtype=tf.float32)\n",
        "car_train_num_tensor = tf.convert_to_tensor(car_train_num, dtype=tf.float32)\n",
        "ys_train_tensor = tf.convert_to_tensor(ys_train, dtype=tf.float32)\n",
        "\n",
        "user_val_num_tensor = tf.convert_to_tensor(user_val_num, dtype=tf.float32)\n",
        "car_val_num_tensor = tf.convert_to_tensor(car_val_num, dtype=tf.float32)\n",
        "ys_val_tensor = tf.convert_to_tensor(ys_val, dtype=tf.float32)\n",
        "\n",
        "#%%\n",
        "print(user_train_num_tensor.shape)\n",
        "print(car_train_num_tensor.shape)\n",
        "print(ys_train_tensor.shape)\n",
        "\n",
        "print(user_val_num_tensor.shape)\n",
        "print(car_val_num_tensor.shape)\n",
        "print(ys_val_tensor.shape)"
      ],
      "metadata": {
        "colab": {
          "base_uri": "https://localhost:8080/"
        },
        "id": "tZO2yGKHwofl",
        "outputId": "3c8acdce-5a53-47a9-854d-1e424f67aca1"
      },
      "execution_count": 7,
      "outputs": [
        {
          "output_type": "stream",
          "name": "stdout",
          "text": [
            "(8703, 4)\n",
            "(8703, 37)\n",
            "(8703, 1)\n",
            "(1088, 4)\n",
            "(1088, 37)\n",
            "(1088, 1)\n"
          ]
        }
      ]
    },
    {
      "cell_type": "code",
      "source": [],
      "metadata": {
        "id": "ZusNzi4gwxm4"
      },
      "execution_count": null,
      "outputs": []
    },
    {
      "cell_type": "code",
      "source": [
        "#%% case 2 分别不同的特征单独保存\n",
        "def serialize_example(feature, feature_name, chunk_size=1024):\n",
        "    # 分割特征为多个块\n",
        "    chunks = [feature[i:i + chunk_size] for i in range(0, len(feature), chunk_size)]\n",
        "    features = {\n",
        "        f\"{feature_name}_chunk_{i}\": tf.train.Feature(\n",
        "            float_list=tf.train.FloatList(value=chunk.flatten())\n",
        "        )\n",
        "        for i, chunk in enumerate(chunks)\n",
        "    }\n",
        "    example_proto = tf.train.Example(features=tf.train.Features(feature=features))\n",
        "    return example_proto.SerializeToString()\n",
        "\n",
        "def save_features_to_tfrecord(emb_list, directory, file_pattern, feature_name, chunk_size=1024):\n",
        "    tfrecord_file = os.path.join(directory, f\"{file_pattern}.tfrecord\")\n",
        "    with tf.io.TFRecordWriter(tfrecord_file) as writer:\n",
        "        for feature in tqdm(emb_list, desc=\"Saving features to TFRecord\"):\n",
        "            serialized_feature = serialize_example(feature, feature_name, chunk_size)\n",
        "            writer.write(serialized_feature)\n"
      ],
      "metadata": {
        "id": "58GwSbSMx4HA"
      },
      "execution_count": 14,
      "outputs": []
    },
    {
      "cell_type": "code",
      "source": [
        "directory = '/content/'"
      ],
      "metadata": {
        "id": "4ErXipUoyGUE"
      },
      "execution_count": 8,
      "outputs": []
    },
    {
      "cell_type": "code",
      "source": [
        "user_train_emb_list = embeddings_for_features(user_train_nnum, max_length_comments=2048, batch_size_user=8)\n"
      ],
      "metadata": {
        "id": "lioWKmtK0Tdr",
        "colab": {
          "base_uri": "https://localhost:8080/"
        },
        "outputId": "19a736b7-7d56-4cca-e919-f5ef42e9561a"
      },
      "execution_count": 16,
      "outputs": [
        {
          "output_type": "stream",
          "name": "stderr",
          "text": [
            "Processing users: 100%|██████████| 1088/1088 [08:51<00:00,  2.05it/s]\n"
          ]
        }
      ]
    },
    {
      "cell_type": "code",
      "source": [
        "# save_features_to_tfrecord(user_train_emb_list, directory, file_pattern='user_nn_train_feature')\n",
        "save_features_to_tfrecord(user_train_emb_list,\n",
        "                          directory,\n",
        "                          file_pattern='user_nn_train_feature',\n",
        "                          feature_name='user_nn_feature',\n",
        "                          chunk_size=256\n",
        "                          )\n",
        "\n"
      ],
      "metadata": {
        "id": "OWH8Cb7x0TQi",
        "colab": {
          "base_uri": "https://localhost:8080/"
        },
        "outputId": "1bb719ca-4214-452c-ce7a-187ae6be18fd"
      },
      "execution_count": 17,
      "outputs": [
        {
          "output_type": "stream",
          "name": "stderr",
          "text": [
            "Saving features to TFRecord: 100%|██████████| 8703/8703 [49:04<00:00,  2.96it/s]\n"
          ]
        }
      ]
    },
    {
      "cell_type": "code",
      "source": [
        "user_train_emb_list = []"
      ],
      "metadata": {
        "id": "mrUKKe9oWjGu"
      },
      "execution_count": 19,
      "outputs": []
    },
    {
      "cell_type": "code",
      "source": [
        "car_train_emb_list = embeddings_for_features(car_train_nnum, max_length_comments=2700, batch_size_user=4)"
      ],
      "metadata": {
        "colab": {
          "base_uri": "https://localhost:8080/"
        },
        "id": "lQUcsKp1yZ1W",
        "outputId": "6ab90efe-5781-45f7-cc38-a3762fc76940"
      },
      "execution_count": 20,
      "outputs": [
        {
          "output_type": "stream",
          "name": "stderr",
          "text": [
            "Processing users: 100%|██████████| 2176/2176 [14:43<00:00,  2.46it/s]\n"
          ]
        }
      ]
    },
    {
      "cell_type": "code",
      "source": [
        "save_features_to_tfrecord(car_train_emb_list,\n",
        "                          directory,\n",
        "                          file_pattern='car_nn_train_feature',\n",
        "                          feature_name='car_nn_feature',\n",
        "                          chunk_size=256\n",
        "                          )"
      ],
      "metadata": {
        "colab": {
          "base_uri": "https://localhost:8080/"
        },
        "id": "Xex_FvUQJh1h",
        "outputId": "95882082-1089-41c3-a82a-c5daf90324ec"
      },
      "execution_count": 21,
      "outputs": [
        {
          "output_type": "stream",
          "name": "stderr",
          "text": [
            "Saving features to TFRecord: 100%|██████████| 8703/8703 [1:04:54<00:00,  2.23it/s]\n"
          ]
        }
      ]
    },
    {
      "cell_type": "code",
      "source": [
        "car_train_emb_list = []"
      ],
      "metadata": {
        "id": "hlzQibz8Wtza"
      },
      "execution_count": 22,
      "outputs": []
    },
    {
      "cell_type": "markdown",
      "source": [
        "# **user_val_emb_list & save to tfrecord ** **bold text**"
      ],
      "metadata": {
        "id": "QmNfxXMZ11js"
      }
    },
    {
      "cell_type": "code",
      "source": [
        "user_val_emb_list = embeddings_for_features(user_val_nnum, max_length_comments=2048, batch_size_user=4)"
      ],
      "metadata": {
        "colab": {
          "base_uri": "https://localhost:8080/"
        },
        "id": "E9KwVX8aw7cK",
        "outputId": "9dfe8378-4320-42d5-d308-1a06d01aed42"
      },
      "execution_count": 15,
      "outputs": [
        {
          "output_type": "stream",
          "name": "stderr",
          "text": [
            "Processing users: 100%|██████████| 272/272 [01:09<00:00,  3.90it/s]\n"
          ]
        }
      ]
    },
    {
      "cell_type": "code",
      "source": [
        "# %% case 2\n",
        "save_features_to_tfrecord(user_val_emb_list,\n",
        "                          directory,\n",
        "                          file_pattern='user_nn_val_feature',\n",
        "                          feature_name='user_nn_feature',\n",
        "                          chunk_size=256\n",
        "                          )\n",
        "\n"
      ],
      "metadata": {
        "colab": {
          "base_uri": "https://localhost:8080/"
        },
        "id": "yk8bAeKVxHCI",
        "outputId": "867d2830-1c3a-49ab-ed44-dc1c6b6898e6"
      },
      "execution_count": 16,
      "outputs": [
        {
          "output_type": "stream",
          "name": "stderr",
          "text": [
            "Saving features to TFRecord: 100%|██████████| 1088/1088 [05:59<00:00,  3.02it/s]\n"
          ]
        }
      ]
    },
    {
      "cell_type": "code",
      "source": [
        "user_val_emb_list = []"
      ],
      "metadata": {
        "id": "pek8yX7S3YdF"
      },
      "execution_count": 34,
      "outputs": []
    },
    {
      "cell_type": "markdown",
      "source": [
        "# **car_val_emb_list & save to tfrecord**"
      ],
      "metadata": {
        "id": "hyYHAc901mZ-"
      }
    },
    {
      "cell_type": "code",
      "source": [
        "car_val_emb_list = embeddings_for_features(car_val_nnum, max_length, batch_size_user=4)\n"
      ],
      "metadata": {
        "colab": {
          "base_uri": "https://localhost:8080/"
        },
        "id": "OzNzwMyO1lon",
        "outputId": "2b952e78-2862-41a1-80cd-612280395a58"
      },
      "execution_count": 17,
      "outputs": [
        {
          "output_type": "stream",
          "name": "stderr",
          "text": [
            "Processing users: 100%|██████████| 272/272 [01:49<00:00,  2.48it/s]\n"
          ]
        }
      ]
    },
    {
      "cell_type": "code",
      "source": [
        "save_features_to_tfrecord(car_val_emb_list,\n",
        "                          directory,\n",
        "                          file_pattern='car_nn_val_feature',\n",
        "                          feature_name='car_nn_feature',\n",
        "                          chunk_size=256\n",
        "                          )"
      ],
      "metadata": {
        "colab": {
          "base_uri": "https://localhost:8080/"
        },
        "id": "mqFVNQGIynjE",
        "outputId": "ee255c30-d775-43d5-9079-4953353c6078"
      },
      "execution_count": 18,
      "outputs": [
        {
          "output_type": "stream",
          "name": "stderr",
          "text": [
            "Saving features to TFRecord: 100%|██████████| 1088/1088 [07:56<00:00,  2.28it/s]\n"
          ]
        }
      ]
    },
    {
      "cell_type": "code",
      "source": [
        "car_val_emb_list = []"
      ],
      "metadata": {
        "id": "LzmOZfzr3q_J"
      },
      "execution_count": 33,
      "outputs": []
    },
    {
      "cell_type": "markdown",
      "source": [
        "# **tfrecord解释及pipeline**"
      ],
      "metadata": {
        "id": "W2yubUYT2aX1"
      }
    },
    {
      "cell_type": "code",
      "source": [
        "def parse_nn_features(example_proto, feature_name='user_nn_feature', num_chunks=256, nnshape=None):\n",
        "    feature_description = {\n",
        "        f\"{feature_name}_chunk_{i}\": tf.io.VarLenFeature(dtype=tf.float32)\n",
        "        for i in range(num_chunks)\n",
        "    }\n",
        "    # 解析样本\n",
        "    example = tf.io.parse_single_example(example_proto, feature_description)\n",
        "    # 重新组合特征块\n",
        "    feature_chunks = [tf.sparse.to_dense(example[f\"{feature_name}_chunk_{i}\"])\n",
        "                      for i in range(num_chunks)]\n",
        "    feature = tf.concat(feature_chunks, axis=0)\n",
        "    # 根据需要重设形状\n",
        "    feature = tf.reshape(feature, nnshape)\n",
        "    return feature\n",
        "\n",
        "# 解析其他 tensor 的函数\n",
        "def parse_tensor_features(user_num_tensor, car_num_tensor, ys_train_tensor):\n",
        "    return user_num_tensor, car_num_tensor, ys_train_tensor\n"
      ],
      "metadata": {
        "id": "BPn0eDXT2m4M"
      },
      "execution_count": 9,
      "outputs": []
    },
    {
      "cell_type": "code",
      "source": [
        "#%% user_nn_val_dataset读取及解析\n",
        "# 创建数据集\n",
        "tfrecord_file = '/content/' \\\n",
        "                'user_nn_train_feature.tfrecord'\n",
        "feature_name = 'user_nn_feature'\n",
        "num_chunks = 256  # 您需要计算或记录这个值，它应该与序列化时分割的块数相匹配\n",
        "nnshape=[2048, 768]\n",
        "\n",
        "user_nn_train_dataset = tf.data.TFRecordDataset(tfrecord_file)\n",
        "# 应用解析函数\n",
        "user_nn_train_dataset = user_nn_train_dataset.map(lambda x: parse_nn_features(x, feature_name, num_chunks, nnshape))\n",
        "\n",
        "\n",
        "#%%#%% car_nn_val_dataset读取及解析\n",
        "# 创建数据集\n",
        "tfrecord_file = '/content/' \\\n",
        "                'car_nn_train_feature.tfrecord'\n",
        "feature_name = 'car_nn_feature'\n",
        "num_chunks = 256  # 您需要计算或记录这个值，它应该与序列化时分割的块数相匹配\n",
        "nnshape=[2700, 768]\n",
        "\n",
        "car_nn_train_dataset = tf.data.TFRecordDataset(tfrecord_file)\n",
        "# 应用解析函数\n",
        "car_nn_train_dataset = car_nn_train_dataset.map(lambda x: parse_nn_features(x, feature_name, num_chunks, nnshape))\n"
      ],
      "metadata": {
        "id": "iuBqWEVA30lS"
      },
      "execution_count": 10,
      "outputs": []
    },
    {
      "cell_type": "code",
      "source": [
        "ys_train_tensor.shape"
      ],
      "metadata": {
        "colab": {
          "base_uri": "https://localhost:8080/"
        },
        "id": "ZynfoYWlr-74",
        "outputId": "9be9a5ac-1213-4c2d-d8bd-0b0b39d9f010"
      },
      "execution_count": 37,
      "outputs": [
        {
          "output_type": "execute_result",
          "data": {
            "text/plain": [
              "TensorShape([8703, 1])"
            ]
          },
          "metadata": {},
          "execution_count": 37
        }
      ]
    },
    {
      "cell_type": "code",
      "source": [
        "user_train_num_tensor.shape"
      ],
      "metadata": {
        "colab": {
          "base_uri": "https://localhost:8080/"
        },
        "id": "rBsJIKcYsCGD",
        "outputId": "0128de32-ea05-46be-82be-3dfe55d8e9ff"
      },
      "execution_count": 38,
      "outputs": [
        {
          "output_type": "execute_result",
          "data": {
            "text/plain": [
              "TensorShape([8703, 4])"
            ]
          },
          "metadata": {},
          "execution_count": 38
        }
      ]
    },
    {
      "cell_type": "code",
      "source": [
        "other_tensors_train_dataset = tf.data.Dataset.from_tensor_slices((user_train_num_tensor, car_train_num_tensor, ys_train_tensor))\n",
        "other_tensors_train_dataset = other_tensors_train_dataset.map(parse_tensor_features)"
      ],
      "metadata": {
        "id": "lwplqmkz4WCL"
      },
      "execution_count": 11,
      "outputs": []
    },
    {
      "cell_type": "code",
      "source": [
        "dataset = tf.data.Dataset.zip((user_nn_train_dataset, car_nn_train_dataset, other_tensors_train_dataset))\n",
        "dataset = dataset.map(lambda user_feature, car_feature, other:((user_feature, car_feature) + other[:-1], other[-1]))\n"
      ],
      "metadata": {
        "id": "OsNx4FLd4Xy7"
      },
      "execution_count": 12,
      "outputs": []
    },
    {
      "cell_type": "code",
      "source": [
        "batch_size_data = 4  # 例如，根据您的内存情况调整这个值\n",
        "dataset = dataset.batch(batch_size_data)\n",
        "dataset = dataset.prefetch(tf.data.experimental.AUTOTUNE)  # 使用 AUTOTUNE 来让 TensorFlow 决定最优的预取数量\n",
        "dataset = dataset.cache()  # 缓存数据以供快速访问\n"
      ],
      "metadata": {
        "id": "bWmLANQB4Zn-"
      },
      "execution_count": 13,
      "outputs": []
    },
    {
      "cell_type": "markdown",
      "source": [
        "# **building the model**"
      ],
      "metadata": {
        "id": "pKMlOt_W4n03"
      }
    },
    {
      "cell_type": "code",
      "source": [
        "\"\"\"# building model\"\"\"\n",
        "from tensorflow.keras.layers import Input, MultiHeadAttention, Dense, Concatenate, Flatten\n",
        "from tensorflow.keras import Model"
      ],
      "metadata": {
        "id": "x_Bf9BbX4qng"
      },
      "execution_count": 14,
      "outputs": []
    },
    {
      "cell_type": "code",
      "source": [
        "class MyCustomModel(Model):\n",
        "    def __init__(self, num_heads, key_dim, ffn_units, dnn_units, **kwargs):\n",
        "        super(MyCustomModel, self).__init__(**kwargs)\n",
        "\n",
        "        # Multi-Head Attention layers\n",
        "        self.multi_head_1 = MultiHeadAttention(num_heads=num_heads, key_dim=key_dim)\n",
        "        self.multi_head_2 = MultiHeadAttention(num_heads=num_heads, key_dim=key_dim)\n",
        "\n",
        "        # Front Feed layers\n",
        "        self.ffn_1 = Dense(ffn_units, activation='relu')\n",
        "        self.ffn_2 = Dense(ffn_units, activation='relu')\n",
        "\n",
        "        # DNN layers\n",
        "        self.dnn = [Dense(unit, activation='relu') for unit in dnn_units]\n",
        "\n",
        "        # Output layer\n",
        "        self.output_layer = Dense(1, activation='sigmoid')\n",
        "\n",
        "    def call(self, inputs):\n",
        "        text_feature1, text_feature2, numerical_feature1, numerical_feature2 = inputs\n",
        "\n",
        "        # Attention for each text feature\n",
        "        attn_out1 = self.multi_head_1(text_feature1, text_feature1, text_feature1)\n",
        "        attn_out2 = self.multi_head_2(text_feature2, text_feature2, text_feature2)\n",
        "\n",
        "        # Front Feed Network\n",
        "        ffn_out1 = self.ffn_1(attn_out1)\n",
        "        ffn_out2 = self.ffn_2(attn_out2)\n",
        "\n",
        "        # Flatten features for concatenation\n",
        "        flat_1 = Flatten()(ffn_out1)\n",
        "        flat_2 = Flatten()(ffn_out2)\n",
        "\n",
        "        # Concatenate all features\n",
        "        concatenated = Concatenate()([flat_1, flat_2, numerical_feature1, numerical_feature2])\n",
        "\n",
        "        # Pass through DNN\n",
        "        x = concatenated\n",
        "        for dnn_layer in self.dnn:\n",
        "            x = dnn_layer(x)\n",
        "\n",
        "        # Output\n",
        "        return self.output_layer(x)"
      ],
      "metadata": {
        "id": "8j_nPbI44uZj"
      },
      "execution_count": 15,
      "outputs": []
    },
    {
      "cell_type": "code",
      "source": [
        "# Define the model parameters\n",
        "NUM_HEADS = 2\n",
        "KEY_DIM = 256\n",
        "FFN_UNITS = 256\n",
        "DNN_UNITS = [512, 256, 128]\n",
        "\n",
        "# Inputs shapes\n",
        "text_feature1_shape = (None, 2048, 768)\n",
        "text_feature2_shape = (None, 2700, 768)\n",
        "numerical_feature1_shape = (None, 4)\n",
        "numerical_feature2_shape = (None, 37)\n",
        "\n",
        "# 定义输入\n",
        "text_feature1_input = Input(shape=(2048, 768))\n",
        "text_feature2_input = Input(shape=(2700, 768))  # Adjusted to match text_feature1 length\n",
        "numerical_feature1_input = Input(shape=(4,))\n",
        "numerical_feature2_input = Input(shape=(37,))\n",
        "\n",
        "\n",
        "# 创建模型实例\n",
        "my_custom_model = MyCustomModel(num_heads=NUM_HEADS, key_dim=KEY_DIM, ffn_units=FFN_UNITS, dnn_units=DNN_UNITS)\n",
        "\n",
        "# 通过模型传递输入，构建函数式模型\n",
        "outputs = my_custom_model([text_feature1_input, text_feature2_input, numerical_feature1_input, numerical_feature2_input])\n",
        "model = Model(inputs=[text_feature1_input, text_feature2_input, numerical_feature1_input, numerical_feature2_input], outputs=outputs)\n",
        "\n",
        "opt = keras.optimizers.Adam(learning_rate=0.08)\n",
        "\n",
        "# 编译模型\n",
        "model.compile(optimizer=opt, loss='mean_squared_error')\n",
        "\n",
        "# 模型摘要\n",
        "model.summary()"
      ],
      "metadata": {
        "colab": {
          "base_uri": "https://localhost:8080/",
          "height": 246
        },
        "id": "12eSjO3A4vPD",
        "outputId": "08e50005-bb37-44c8-d860-0191766a40bc"
      },
      "execution_count": 1,
      "outputs": [
        {
          "output_type": "error",
          "ename": "NameError",
          "evalue": "ignored",
          "traceback": [
            "\u001b[0;31m---------------------------------------------------------------------------\u001b[0m",
            "\u001b[0;31mNameError\u001b[0m                                 Traceback (most recent call last)",
            "\u001b[0;32m<ipython-input-1-8cdb75b54e83>\u001b[0m in \u001b[0;36m<cell line: 14>\u001b[0;34m()\u001b[0m\n\u001b[1;32m     12\u001b[0m \u001b[0;34m\u001b[0m\u001b[0m\n\u001b[1;32m     13\u001b[0m \u001b[0;31m# 定义输入\u001b[0m\u001b[0;34m\u001b[0m\u001b[0;34m\u001b[0m\u001b[0m\n\u001b[0;32m---> 14\u001b[0;31m \u001b[0mtext_feature1_input\u001b[0m \u001b[0;34m=\u001b[0m \u001b[0mInput\u001b[0m\u001b[0;34m(\u001b[0m\u001b[0mshape\u001b[0m\u001b[0;34m=\u001b[0m\u001b[0;34m(\u001b[0m\u001b[0;36m2048\u001b[0m\u001b[0;34m,\u001b[0m \u001b[0;36m768\u001b[0m\u001b[0;34m)\u001b[0m\u001b[0;34m)\u001b[0m\u001b[0;34m\u001b[0m\u001b[0;34m\u001b[0m\u001b[0m\n\u001b[0m\u001b[1;32m     15\u001b[0m \u001b[0mtext_feature2_input\u001b[0m \u001b[0;34m=\u001b[0m \u001b[0mInput\u001b[0m\u001b[0;34m(\u001b[0m\u001b[0mshape\u001b[0m\u001b[0;34m=\u001b[0m\u001b[0;34m(\u001b[0m\u001b[0;36m2700\u001b[0m\u001b[0;34m,\u001b[0m \u001b[0;36m768\u001b[0m\u001b[0;34m)\u001b[0m\u001b[0;34m)\u001b[0m  \u001b[0;31m# Adjusted to match text_feature1 length\u001b[0m\u001b[0;34m\u001b[0m\u001b[0;34m\u001b[0m\u001b[0m\n\u001b[1;32m     16\u001b[0m \u001b[0mnumerical_feature1_input\u001b[0m \u001b[0;34m=\u001b[0m \u001b[0mInput\u001b[0m\u001b[0;34m(\u001b[0m\u001b[0mshape\u001b[0m\u001b[0;34m=\u001b[0m\u001b[0;34m(\u001b[0m\u001b[0;36m4\u001b[0m\u001b[0;34m,\u001b[0m\u001b[0;34m)\u001b[0m\u001b[0;34m)\u001b[0m\u001b[0;34m\u001b[0m\u001b[0;34m\u001b[0m\u001b[0m\n",
            "\u001b[0;31mNameError\u001b[0m: name 'Input' is not defined"
          ]
        }
      ]
    },
    {
      "cell_type": "code",
      "source": [
        "# 超参\n",
        "early_stopping = tf.keras.callbacks.EarlyStopping(monitor='val_loss',\n",
        "                                                  patience=60, # number of epochs to wait\n",
        "                                                  restore_best_weights=True)\n",
        "\n",
        "reduce_lr_callback = tf.keras.callbacks.ReduceLROnPlateau(\n",
        "    monitor='val_loss', # monitor the validation loss\n",
        "    factor=0.5,         # reduce the learning rate to 10% of its current value\n",
        "    patience=30,         # reduce the learning rate if the metric does not improve for 5 consecutive epochs\n",
        "    min_lr=1e-7,        # set the minimum learning rate\n",
        "    verbose=1           # print messages about learning rate reduction\n",
        ")\n",
        "\n",
        "# 创建ModelCheckpoint回调\n",
        "checkpoint_filepath = '/content/best_model2.h5'\n",
        "model_checkpoint_callback = ModelCheckpoint(\n",
        "    filepath=checkpoint_filepath,\n",
        "    save_best_only=True,\n",
        "    monitor='val_loss',\n",
        "    mode='min',\n",
        "    verbose=1,\n",
        "    save_weights_only=False # 保存整个模型。如果只想保存权重，设置为True。\n",
        ")\n"
      ],
      "metadata": {
        "id": "KV8DgiO540Di"
      },
      "execution_count": null,
      "outputs": []
    },
    {
      "cell_type": "code",
      "source": [
        "history = model.fit(\n",
        "        dataset,  # 提供训练数据和标签\n",
        "        epochs=3,  # 总的迭代周期\n",
        "\n",
        "        verbose=1  # 打印详细训练日志\n",
        ")\n",
        "\n"
      ],
      "metadata": {
        "id": "klEaU7fT429W",
        "colab": {
          "base_uri": "https://localhost:8080/"
        },
        "outputId": "b0b85ffa-6b74-4d01-8230-bcf6f1848736"
      },
      "execution_count": null,
      "outputs": [
        {
          "output_type": "stream",
          "name": "stdout",
          "text": [
            "Epoch 1/3\n",
            "   1372/Unknown - 298s 210ms/step - loss: 0.4472"
          ]
        }
      ]
    }
  ]
}