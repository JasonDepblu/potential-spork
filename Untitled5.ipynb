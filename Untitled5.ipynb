{
  "cells": [
    {
      "cell_type": "markdown",
      "metadata": {
        "id": "view-in-github",
        "colab_type": "text"
      },
      "source": [
        "<a href=\"https://colab.research.google.com/github/JasonDepblu/potential-spork/blob/main/Untitled5.ipynb\" target=\"_parent\"><img src=\"https://colab.research.google.com/assets/colab-badge.svg\" alt=\"Open In Colab\"/></a>"
      ]
    },
    {
      "cell_type": "code",
      "execution_count": 1,
      "metadata": {
        "id": "IQvPInYUtiUy"
      },
      "outputs": [],
      "source": [
        "# import matplotlib as matplotlib\n",
        "import time\n",
        "import pandas as pd\n",
        "import numpy as np\n",
        "import mpl_toolkits.axisartist as ast\n",
        "from matplotlib import pyplot as plt\n",
        "from mpl_toolkits.mplot3d import Axes3D\n",
        "\n",
        "from tensorflow import keras\n",
        "import tensorflow as tf\n",
        "# from tensorflow.keras.layers import Input, Dense\n",
        "from keras import layers, models, optimizers\n",
        "\n",
        "from sklearn.model_selection import train_test_split\n",
        "from sklearn.metrics import accuracy_score, roc_curve, auc"
      ]
    },
    {
      "cell_type": "code",
      "execution_count": 2,
      "metadata": {
        "id": "6sJtSFnnv5iT"
      },
      "outputs": [],
      "source": [
        "data_sentiment_classify = pd.read_csv(\n",
        "    r'/content/data_sentiment_classify.csv')\n",
        "rp = pd.read_csv(\n",
        "    r'/content/rp.csv')\n",
        "data_sentiment_classify = data_sentiment_classify.values\n",
        "rp = rp.values"
      ]
    },
    {
      "cell_type": "code",
      "execution_count": 3,
      "metadata": {
        "id": "WPvRXuVkwXqg"
      },
      "outputs": [],
      "source": [
        "def sigmoid(A):\n",
        "    ya = 1 / (1 + np.exp(-A))\n",
        "    return ya"
      ]
    },
    {
      "cell_type": "code",
      "execution_count": 4,
      "metadata": {
        "id": "2jZVok-YsEXq"
      },
      "outputs": [],
      "source": [
        "Req = data_sentiment_classify.copy()\n",
        "# W_buy = data_sentiment_classify.copy()\n",
        "W_buy = np.expand_dims(Req, axis=2).repeat(7, axis=2)\n",
        "\n",
        "for i in range(len(data_sentiment_classify)):\n",
        "    if data_sentiment_classify[i, 10] == \"传祺GS4\":\n",
        "        Req[i, 11] = 1\n",
        "        for j in range(8):\n",
        "            Req[i, 2 + j] = sigmoid(rp[1, 1 + j] - data_sentiment_classify[i, 2 + j] + 2)\n",
        "            for c in range(7):\n",
        "                W_buy[i, 2 + j, c] = Req[i, 2 + j] * rp[c, 1 + j]\n",
        "    elif data_sentiment_classify[i, 10] == \"东南DX7\":\n",
        "        Req[i, 11] = 0\n",
        "        for j in range(8):\n",
        "            Req[i, 2 + j] = sigmoid(rp[0, 1 + j] - data_sentiment_classify[i, 2 + j] + 2)\n",
        "            for c in range(7):\n",
        "                W_buy[i, 2 + j, c] = Req[i, 2 + j] * rp[c, 1 + j]\n",
        "    elif data_sentiment_classify[i, 10] == \"博越\":\n",
        "        Req[i, 11] = 2\n",
        "        for j in range(8):\n",
        "            Req[i, 2 + j] = sigmoid(rp[2, 1 + j] - data_sentiment_classify[i, 2 + j] + 2)\n",
        "            for c in range(7):\n",
        "                W_buy[i, 2 + j, c] = Req[i, 2 + j] * rp[c, 1 + j]\n",
        "    elif data_sentiment_classify[i, 10] == \"哈弗H6\":\n",
        "        Req[i, 11] = 3\n",
        "        for j in range(8):\n",
        "            Req[i, 2 + j] = sigmoid(rp[3, 1 + j] - data_sentiment_classify[i, 2 + j] + 2)\n",
        "            for c in range(7):\n",
        "                W_buy[i, 2 + j, c] = Req[i, 2 + j] * rp[c, 1 + j]\n",
        "    elif data_sentiment_classify[i, 10] == \"荣威RX5\":\n",
        "        Req[i, 11] = 4\n",
        "        for j in range(8):\n",
        "            Req[i, 2 + j] = sigmoid(rp[4, 1 + j] - data_sentiment_classify[i, 2 + j] + 2)\n",
        "            for c in range(7):\n",
        "                W_buy[i, 2 + j, c] = Req[i, 2 + j] * rp[c, 1 + j]\n",
        "    elif data_sentiment_classify[i, 10] == \"长安CS55PLUS\":\n",
        "        Req[i, 11] = 5\n",
        "        for j in range(8):\n",
        "            Req[i, 2 + j] = sigmoid(rp[5, 1 + j] - data_sentiment_classify[i, 2 + j] + 2)\n",
        "            for c in range(7):\n",
        "                W_buy[i, 2 + j, c] = Req[i, 2 + j] * rp[c, 1 + j]\n",
        "    elif data_sentiment_classify[i, 10] == \"风光ix5\":\n",
        "        Req[i, 11] = 6\n",
        "        for j in range(8):\n",
        "            Req[i, 2 + j] = sigmoid(rp[6, 1 + j] - data_sentiment_classify[i, 2 + j] + 2)\n",
        "            for c in range(7):\n",
        "                W_buy[i, 2 + j, c] = Req[i, 2 + j] * rp[c, 1 + j]"
      ]
    },
    {
      "cell_type": "code",
      "execution_count": 5,
      "metadata": {
        "id": "ixUmNKKdyvLE"
      },
      "outputs": [],
      "source": [
        "Req_df = pd.DataFrame(Req)\n",
        "Req_df.to_csv(r'/content/Req.csv', encoding='UTF-8')"
      ]
    },
    {
      "cell_type": "code",
      "execution_count": 6,
      "metadata": {
        "id": "WCRoDtqxy6VN"
      },
      "outputs": [],
      "source": [
        "df_W_buy = pd.DataFrame(W_buy[4, :, :])\n",
        "df_W_buy.to_csv(r'/content/W_buy.csv', encoding='UTF-8')"
      ]
    },
    {
      "cell_type": "code",
      "execution_count": null,
      "metadata": {
        "id": "XiY2u8bQzCKX"
      },
      "outputs": [],
      "source": [
        "# defined the rp,Req_X,Req_y etc\n",
        "rp = rp[:, 1:]\n",
        "Req_X = Req[:, 2:10]\n",
        "Req_y = Req[:, 11]\n",
        "cc = 7\n",
        "cp = 8\n",
        "num_user_features = cp\n",
        "num_car_features = cp"
      ]
    },
    {
      "cell_type": "code",
      "execution_count": null,
      "metadata": {
        "id": "s9O_RdsBzKGa"
      },
      "outputs": [],
      "source": [
        "Rs = Req_X[0, :].repeat(cc, axis=0).reshape(cp, cc).transpose()\n",
        "ys = np.zeros((cc, 1))\n",
        "ys[Req_y[0]] = 1\n",
        "rps = rp\n",
        "dsc = np.zeros((1, 8))"
      ]
    },
    {
      "cell_type": "code",
      "execution_count": null,
      "metadata": {
        "id": "QXbmNEzd28ZS"
      },
      "outputs": [],
      "source": [
        "Rs = Rs.astype('float')"
      ]
    },
    {
      "cell_type": "code",
      "execution_count": null,
      "metadata": {
        "colab": {
          "base_uri": "https://localhost:8080/"
        },
        "id": "TUIIjDQ5457r",
        "outputId": "c2f9bdd6-b6c5-4c24-9ec0-1c26df7b3646"
      },
      "outputs": [
        {
          "data": {
            "text/plain": [
              "array([[0.46754569, 0.2592251 , 0.41824062, 0.41824062, 0.17799369,\n",
              "        0.49000133, 0.53494295, 0.16798161],\n",
              "       [0.46754569, 0.2592251 , 0.41824062, 0.41824062, 0.17799369,\n",
              "        0.49000133, 0.53494295, 0.16798161],\n",
              "       [0.46754569, 0.2592251 , 0.41824062, 0.41824062, 0.17799369,\n",
              "        0.49000133, 0.53494295, 0.16798161],\n",
              "       [0.46754569, 0.2592251 , 0.41824062, 0.41824062, 0.17799369,\n",
              "        0.49000133, 0.53494295, 0.16798161],\n",
              "       [0.46754569, 0.2592251 , 0.41824062, 0.41824062, 0.17799369,\n",
              "        0.49000133, 0.53494295, 0.16798161],\n",
              "       [0.46754569, 0.2592251 , 0.41824062, 0.41824062, 0.17799369,\n",
              "        0.49000133, 0.53494295, 0.16798161],\n",
              "       [0.46754569, 0.2592251 , 0.41824062, 0.41824062, 0.17799369,\n",
              "        0.49000133, 0.53494295, 0.16798161]])"
            ]
          },
          "execution_count": 40,
          "metadata": {},
          "output_type": "execute_result"
        }
      ],
      "source": [
        "Rs"
      ]
    },
    {
      "cell_type": "code",
      "execution_count": null,
      "metadata": {
        "id": "ZgB_8h8O4DW-"
      },
      "outputs": [],
      "source": [
        "dsc = np.zeros((7, 8))\n",
        "dsc = rp - np.log(Rs/(1-Rs))"
      ]
    },
    {
      "cell_type": "code",
      "execution_count": null,
      "metadata": {
        "colab": {
          "background_save": true,
          "base_uri": "https://localhost:8080/"
        },
        "id": "qHvKq-u2zTAr",
        "outputId": "bbd8c144-7782-40dd-c7ff-d7f4c236b6dd"
      },
      "outputs": [
        {
          "name": "stdout",
          "output_type": "stream",
          "text": [
            "Process:0,cost time:0.004433155059814453\n",
            "Process:5000,cost time:24.358574628829956\n",
            "Process:10000,cost time:116.56067538261414\n",
            "Process:15000,cost time:261.78999280929565\n",
            "Process:20000,cost time:446.73974323272705\n",
            "Process:25000,cost time:670.4457020759583\n",
            "Process:30000,cost time:928.5222160816193\n",
            "Process:35000,cost time:1218.8733234405518\n",
            "Process:40000,cost time:1547.6136314868927\n",
            "Process:45000,cost time:1913.7584762573242\n",
            "Process:50000,cost time:2329.395756959915\n",
            "Process:55000,cost time:2866.080846786499\n",
            "Process:60000,cost time:3400.3795177936554\n",
            "Process:65000,cost time:3972.5133929252625\n",
            "Process:70000,cost time:4601.288918733597\n",
            "Process:75000,cost time:5266.018120288849\n"
          ]
        }
      ],
      "source": [
        "t0 = time.time()\n",
        "for i in range(len(Req_X)):\n",
        "    Ri = Req_X[i, :].repeat(cc, axis=0).reshape(cp, cc).transpose().astype('float')\n",
        "    yi = np.zeros((cc, 1))\n",
        "    yi[Req_y[i]] = 1\n",
        "    rpi = rp\n",
        "    dsci = np.zeros((7, 8))\n",
        "    dsci = rpi - np.log(Ri/(1-Ri))\n",
        "    Rs = np.concatenate((Rs, Ri), axis=0)\n",
        "    ys = np.concatenate((ys, yi), axis=0)\n",
        "    rps = np.concatenate((rps, rpi), axis=0)\n",
        "    dsc = np.concatenate((dsc, dsci), axis=0)\n",
        "    if i % 5000 == 0:\n",
        "        td = time.time() - t0\n",
        "        print(f\"Process:{i},cost time:{td}\")"
      ]
    },
    {
      "cell_type": "code",
      "execution_count": 44,
      "metadata": {
        "id": "KF3ndJNnCQb9"
      },
      "outputs": [],
      "source": [
        "# save the data of Rs,rps ,ys and dsc with csv file\n",
        "Rs_df = pd.DataFrame(Rs)\n",
        "rps_df = pd.DataFrame(rps)\n",
        "ys_df = pd.DataFrame(ys)\n",
        "dsc_df = pd.DataFrame(dsc)\n",
        "Rs_df.to_csv(r'/content/Rs.csv', encoding='UTF-8')\n",
        "rps_df.to_csv(r'/content/rps.csv', encoding='UTF-8')\n",
        "ys_df.to_csv(r'/content/ys.csv', encoding='UTF-8')\n",
        "dsc_df.to_csv(r'/content/dsc.csv', encoding='UTF-8')"
      ]
    },
    {
      "cell_type": "code",
      "source": [
        "print(f\"{dsc.shape}, {Rs.shape}, {rps.shape}, {ys.shape}\")"
      ],
      "metadata": {
        "colab": {
          "base_uri": "https://localhost:8080/"
        },
        "id": "xthcraJaavXD",
        "outputId": "06354c28-fa73-4cf8-d754-46a061d2c8e8"
      },
      "execution_count": 47,
      "outputs": [
        {
          "output_type": "stream",
          "name": "stdout",
          "text": [
            "(552482, 8), (552482, 8), (552482, 8), (552482, 1)\n"
          ]
        }
      ]
    },
    {
      "cell_type": "code",
      "execution_count": 48,
      "metadata": {
        "id": "x_yBRfxlC3M-",
        "colab": {
          "base_uri": "https://localhost:8080/"
        },
        "outputId": "d3d6a0e0-51cd-40c2-f477-86b72a1e365e"
      },
      "outputs": [
        {
          "output_type": "stream",
          "name": "stdout",
          "text": [
            "Requirements(users) training data:validation data:test data shape - (441985, 8):(55248, 8):(55249, 8) \n",
            "performances(cars) training data:validation data:test data shape - (441985, 8):(55248, 8):(55249, 8) \n",
            "labels(which car the user bought) training data:validation data:test data shape - (441985, 1):(55248, 1):(55249, 1) \n"
          ]
        }
      ],
      "source": [
        "# split the data of Rs,rps and ys with 0.8:0.1:0.1\n",
        "\n",
        "dsc_train, dsc_test = train_test_split(dsc, train_size=0.8, shuffle=True, random_state=2022)\n",
        "dsc_val, dsc_test = train_test_split(dsc_test, train_size=0.5, shuffle=True, random_state=2022)\n",
        "rps_train, rps_test = train_test_split(rps, train_size=0.8, shuffle=True, random_state=2022)\n",
        "rps_val, rps_test = train_test_split(rps_test, train_size=0.5, shuffle=True, random_state=2022)\n",
        "ys_train, ys_test = train_test_split(ys, train_size=0.8, shuffle=True, random_state=2022)\n",
        "ys_val, ys_test = train_test_split(ys_test, train_size=0.5, shuffle=True, random_state=2022)\n",
        "print(\n",
        "    f\"Requirements(users) training data:validation data:test data shape - {dsc_train.shape}:{dsc_val.shape}:{dsc_test.shape} \")\n",
        "print(\n",
        "    f\"performances(cars) training data:validation data:test data shape - {rps_train.shape}:{rps_val.shape}:{rps_test.shape} \")\n",
        "print(f\"labels(which car the user bought) training data:validation data:test data shape -\"\n",
        "      f\" {ys_train.shape}:{ys_val.shape}:{ys_test.shape} \")"
      ]
    },
    {
      "cell_type": "code",
      "execution_count": 49,
      "metadata": {
        "id": "aOwvN6BKDC71"
      },
      "outputs": [],
      "source": [
        "dsc_traints = tf.convert_to_tensor(dsc_train, dtype=tf.float64)\n",
        "# Rs_train = tf.convert_to_tensor(Rs_train, dtype=tf.float64)\n",
        "rps_traints = tf.convert_to_tensor(rps_train, dtype=tf.float64)\n",
        "ys_traints = tf.convert_to_tensor(ys_train, dtype=tf.float64)\n",
        "\n",
        "dsc_valts = tf.convert_to_tensor(dsc_val, dtype=tf.float64)\n",
        "# Rs_val = tf.convert_to_tensor(Rs_val, dtype=tf.float64)\n",
        "rps_valts = tf.convert_to_tensor(rps_val, dtype=tf.float64)\n",
        "ys_valts = tf.convert_to_tensor(ys_val, dtype=tf.float64)\n",
        "\n",
        "dsc_testts = tf.convert_to_tensor(dsc_test, dtype=tf.float64)\n",
        "# Rs_test = tf.convert_to_tensor(Rs_test, dtype=tf.float64)\n",
        "rps_testts = tf.convert_to_tensor(rps_test, dtype=tf.float64)\n",
        "ys_testts = tf.convert_to_tensor(ys_test, dtype=tf.float64)"
      ]
    },
    {
      "cell_type": "code",
      "execution_count": 50,
      "metadata": {
        "id": "YuHsw3ZbDP9p",
        "colab": {
          "base_uri": "https://localhost:8080/"
        },
        "outputId": "223a196b-1ef1-4e5d-b286-3c8f7a0c4f2f"
      },
      "outputs": [
        {
          "output_type": "stream",
          "name": "stdout",
          "text": [
            "Model: \"model\"\n",
            "__________________________________________________________________________________________________\n",
            " Layer (type)                   Output Shape         Param #     Connected to                     \n",
            "==================================================================================================\n",
            " input_1 (InputLayer)           [(None, 8)]          0           []                               \n",
            "                                                                                                  \n",
            " input_2 (InputLayer)           [(None, 8)]          0           []                               \n",
            "                                                                                                  \n",
            " sequential (Sequential)        (None, 32)           39328       ['input_1[0][0]']                \n",
            "                                                                                                  \n",
            " sequential_1 (Sequential)      (None, 32)           39328       ['input_2[0][0]']                \n",
            "                                                                                                  \n",
            " tf.math.l2_normalize (TFOpLamb  (None, 32)          0           ['sequential[0][0]']             \n",
            " da)                                                                                              \n",
            "                                                                                                  \n",
            " tf.math.l2_normalize_1 (TFOpLa  (None, 32)          0           ['sequential_1[0][0]']           \n",
            " mbda)                                                                                            \n",
            "                                                                                                  \n",
            " dot (Dot)                      (None, 1)            0           ['tf.math.l2_normalize[0][0]',   \n",
            "                                                                  'tf.math.l2_normalize_1[0][0]'] \n",
            "                                                                                                  \n",
            " dense_6 (Dense)                (None, 1)            2           ['dot[0][0]']                    \n",
            "                                                                                                  \n",
            "==================================================================================================\n",
            "Total params: 78,658\n",
            "Trainable params: 78,658\n",
            "Non-trainable params: 0\n",
            "__________________________________________________________________________________________________\n"
          ]
        }
      ],
      "source": [
        "# creat the model\n",
        "num_outputs = 32\n",
        "tf.random.set_seed(1)\n",
        "user_NN = tf.keras.models.Sequential([\n",
        "    tf.keras.layers.Dense(256, activation='relu'),\n",
        "    tf.keras.layers.Dense(128, activation='relu'),\n",
        "    tf.keras.layers.Dense(num_outputs, activation='relu'),\n",
        "])\n",
        "car_NN = tf.keras.models.Sequential([\n",
        "    tf.keras.layers.Dense(256, activation='relu'),\n",
        "    tf.keras.layers.Dense(128, activation='relu'),\n",
        "    tf.keras.layers.Dense(num_outputs, activation='relu'),\n",
        "])\n",
        "\n",
        "input_user = tf.keras.layers.Input(shape=(num_user_features))\n",
        "vu = user_NN(input_user)\n",
        "vu = tf.linalg.l2_normalize(vu, axis=1)\n",
        "\n",
        "input_car = tf.keras.layers.Input(shape=(num_car_features))\n",
        "vc = car_NN(input_car)\n",
        "vc = tf.linalg.l2_normalize(vc, axis=1)\n",
        "\n",
        "d_out = tf.keras.layers.Dot(axes=1)([vu, vc])\n",
        "output = tf.keras.layers.Dense(1, activation='sigmoid')(d_out)\n",
        "\n",
        "model = tf.keras.Model([input_user, input_car], output)\n",
        "model.summary()"
      ]
    },
    {
      "cell_type": "code",
      "execution_count": 51,
      "metadata": {
        "id": "4t3WjuTjDQ6y",
        "colab": {
          "base_uri": "https://localhost:8080/",
          "height": 466
        },
        "outputId": "8937f191-fb7d-4f44-d8e5-6f21ad5ea0d7"
      },
      "outputs": [
        {
          "output_type": "execute_result",
          "data": {
            "image/png": "[encoded data removed]",
            "text/plain": [
              "<IPython.core.display.Image object>"
            ]
          },
          "metadata": {},
          "execution_count": 51
        }
      ],
      "source": [
        "from keras import utils\n",
        "tf.keras.utils.plot_model(model, \"my_model.png\")"
      ]
    },
    {
      "cell_type": "code",
      "execution_count": 52,
      "metadata": {
        "id": "Cb-iYF9EDUft"
      },
      "outputs": [],
      "source": [
        "# compile the model by using a mean squared error loss and Adam optimizer\n",
        "tf.random.set_seed(1)\n",
        "cost_fn = tf.keras.losses.MeanSquaredError()\n",
        "opt = keras.optimizers.Adam(learning_rate=0.01)\n",
        "model.compile(optimizer=opt, loss=cost_fn)"
      ]
    },
    {
      "cell_type": "code",
      "execution_count": 53,
      "metadata": {
        "id": "F3Rhq_a1DWz8",
        "colab": {
          "base_uri": "https://localhost:8080/"
        },
        "outputId": "5ffa39b7-7154-4b72-f5ca-51b89017b69d"
      },
      "outputs": [
        {
          "output_type": "stream",
          "name": "stdout",
          "text": [
            "Epoch 1/30\n",
            "13813/13813 [==============================] - 49s 3ms/step - loss: 0.1234\n",
            "Epoch 2/30\n",
            "13813/13813 [==============================] - 46s 3ms/step - loss: 0.1228\n",
            "Epoch 3/30\n",
            "13813/13813 [==============================] - 48s 3ms/step - loss: 0.1228\n",
            "Epoch 4/30\n",
            "13813/13813 [==============================] - 46s 3ms/step - loss: 0.1228\n",
            "Epoch 5/30\n",
            "13813/13813 [==============================] - 45s 3ms/step - loss: 0.1228\n",
            "Epoch 6/30\n",
            "13813/13813 [==============================] - 46s 3ms/step - loss: 0.1228\n",
            "Epoch 7/30\n",
            "13813/13813 [==============================] - 47s 3ms/step - loss: 0.1228\n",
            "Epoch 8/30\n",
            "13813/13813 [==============================] - 47s 3ms/step - loss: 0.1228\n",
            "Epoch 9/30\n",
            "13813/13813 [==============================] - 46s 3ms/step - loss: 0.1228\n",
            "Epoch 10/30\n",
            "13813/13813 [==============================] - 48s 3ms/step - loss: 0.1228\n",
            "Epoch 11/30\n",
            "13813/13813 [==============================] - 46s 3ms/step - loss: 0.1228\n",
            "Epoch 12/30\n",
            "13813/13813 [==============================] - 46s 3ms/step - loss: 0.1228\n",
            "Epoch 13/30\n",
            "13813/13813 [==============================] - 46s 3ms/step - loss: 0.1228\n",
            "Epoch 14/30\n",
            "13813/13813 [==============================] - 47s 3ms/step - loss: 0.1228\n",
            "Epoch 15/30\n",
            "13813/13813 [==============================] - 45s 3ms/step - loss: 0.1228\n",
            "Epoch 16/30\n",
            "13813/13813 [==============================] - 47s 3ms/step - loss: 0.1228\n",
            "Epoch 17/30\n",
            "13813/13813 [==============================] - 48s 3ms/step - loss: 0.1228\n",
            "Epoch 18/30\n",
            "13813/13813 [==============================] - 45s 3ms/step - loss: 0.1228\n",
            "Epoch 19/30\n",
            "13813/13813 [==============================] - 47s 3ms/step - loss: 0.1228\n",
            "Epoch 20/30\n",
            "13813/13813 [==============================] - 46s 3ms/step - loss: 0.1228\n",
            "Epoch 21/30\n",
            "13813/13813 [==============================] - 49s 4ms/step - loss: 0.1228\n",
            "Epoch 22/30\n",
            "13813/13813 [==============================] - 49s 4ms/step - loss: 0.1228\n",
            "Epoch 23/30\n",
            "13813/13813 [==============================] - 46s 3ms/step - loss: 0.1228\n",
            "Epoch 24/30\n",
            "13813/13813 [==============================] - 47s 3ms/step - loss: 0.1228\n",
            "Epoch 25/30\n",
            "13813/13813 [==============================] - 48s 3ms/step - loss: 0.1228\n",
            "Epoch 26/30\n",
            "13813/13813 [==============================] - 48s 3ms/step - loss: 0.1228\n",
            "Epoch 27/30\n",
            "13813/13813 [==============================] - 46s 3ms/step - loss: 0.1228\n",
            "Epoch 28/30\n",
            "13813/13813 [==============================] - 44s 3ms/step - loss: 0.1228\n",
            "Epoch 29/30\n",
            "13813/13813 [==============================] - 45s 3ms/step - loss: 0.1228\n",
            "Epoch 30/30\n",
            "13813/13813 [==============================] - 47s 3ms/step - loss: 0.1228\n"
          ]
        },
        {
          "output_type": "execute_result",
          "data": {
            "text/plain": [
              "<keras.callbacks.History at 0x7f6d533df880>"
            ]
          },
          "metadata": {},
          "execution_count": 53
        }
      ],
      "source": [
        "# train the model\n",
        "tf.random.set_seed(1)\n",
        "model.fit([dsc_traints, rps_traints], ys_traints, epochs=30)"
      ]
    },
    {
      "cell_type": "code",
      "execution_count": null,
      "metadata": {
        "id": "04tr4ZipDdzl"
      },
      "outputs": [],
      "source": [
        "# evaluate the model\n",
        "model.evaluate([dsc_valts, rps_valts], ys_valts)"
      ]
    },
    {
      "cell_type": "code",
      "execution_count": null,
      "metadata": {
        "id": "X7BkGF8mDkOl"
      },
      "outputs": [],
      "source": [
        "# predict the test data\n",
        "ys_p_test = model.predict([[dsc_testts, rps_testts]])\n",
        "ys_p_test = np.concatenate((ys_p_testts, ys_testts), axis=1)\n",
        "ys_test_df = pd.DataFrame(ys_p_test)\n",
        "ys_test_df.to_csv(r'/content/ys_p_test_colab.csv', encoding='UTF-8')"
      ]
    },
    {
      "cell_type": "code",
      "execution_count": null,
      "metadata": {
        "id": "AL_IFt6vEApX"
      },
      "outputs": [],
      "source": [
        "def gen_user_vecs(user_vec, num_items):\n",
        "    \"\"\" given a user vector return:\n",
        "        user predict maxtrix to match the size of item_vecs \"\"\"\n",
        "    user_vecs = np.tile(user_vec, (num_items, 1))\n",
        "    return user_vecs"
      ]
    }
  ],
  "metadata": {
    "colab": {
      "provenance": [],
      "authorship_tag": "ABX9TyMO0yas2xz6CZDN6tLCMoyF",
      "include_colab_link": true
    },
    "kernelspec": {
      "display_name": "Python 3",
      "name": "python3"
    },
    "language_info": {
      "name": "python"
    }
  },
  "nbformat": 4,
  "nbformat_minor": 0
}