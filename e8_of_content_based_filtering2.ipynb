{
  "nbformat": 4,
  "nbformat_minor": 0,
  "metadata": {
    "colab": {
      "provenance": [],
      "machine_shape": "hm",
      "authorship_tag": "ABX9TyPn7tKro9nSrV694akVFKd/",
      "include_colab_link": true
    },
    "kernelspec": {
      "name": "python3",
      "display_name": "Python 3"
    },
    "language_info": {
      "name": "python"
    },
    "gpuClass": "standard"
  },
  "cells": [
    {
      "cell_type": "markdown",
      "metadata": {
        "id": "view-in-github",
        "colab_type": "text"
      },
      "source": [
        "<a href=\"https://colab.research.google.com/github/JasonDepblu/potential-spork/blob/main/e8_of_content_based_filtering2.ipynb\" target=\"_parent\"><img src=\"https://colab.research.google.com/assets/colab-badge.svg\" alt=\"Open In Colab\"/></a>"
      ]
    },
    {
      "cell_type": "code",
      "execution_count": 1,
      "metadata": {
        "id": "8vH4YZrHC2En"
      },
      "outputs": [],
      "source": [
        "# %%\n",
        "import time\n",
        "import pandas as pd\n",
        "import numpy as np\n",
        "import random\n",
        "import mpl_toolkits.axisartist as ast\n",
        "from matplotlib import pyplot as plt\n",
        "from mpl_toolkits.mplot3d import Axes3D\n",
        "from tensorflow import keras\n",
        "import tensorflow as tf\n",
        "from keras import layers, models, optimizers\n",
        "from sklearn import metrics\n",
        "from sklearn.model_selection import train_test_split\n",
        "from sklearn.metrics import confusion_matrix, auc\n",
        "from sklearn.metrics import classification_report\n",
        "from sklearn.preprocessing import StandardScaler, MinMaxScaler\n",
        "from sklearn.preprocessing import OneHotEncoder\n",
        "from sklearn.decomposition import PCA\n",
        "import copy"
      ]
    },
    {
      "cell_type": "code",
      "source": [
        "# load the data\n",
        "dsc_up_df = pd.read_csv(r'/content/dsc_up_e8.csv')\n",
        "car_dict_df = pd.read_csv(r'/content/car_dict_e8.csv')\n",
        "\n",
        "dsc_up_df = dsc_up_df.replace({np.NaN: 0})\n",
        "car_dict_df = car_dict_df.replace({np.NaN: 0})\n",
        "\n",
        "dsc_up = dsc_up_df.values\n",
        "car_dict = car_dict_df.values\n",
        "\n",
        "print(dsc_up.shape)\n",
        "print(car_dict.shape)"
      ],
      "metadata": {
        "id": "S-Q9NYd0DIkH",
        "colab": {
          "base_uri": "https://localhost:8080/"
        },
        "outputId": "43fd65f5-404a-4391-b4fa-3b53d400c119"
      },
      "execution_count": 2,
      "outputs": [
        {
          "output_type": "stream",
          "name": "stdout",
          "text": [
            "(5520, 38)\n",
            "(142, 161)\n"
          ]
        }
      ]
    },
    {
      "cell_type": "code",
      "source": [
        "# load the predict data of year 21-23\n",
        "dsc_up_pre_df = pd.read_csv(r'/content/dsc_up_e8_pre.csv')\n",
        "car_dict_pre_df = pd.read_csv(r'/content/car_dict_e8_pre.csv')\n",
        "\n",
        "dsc_up_pre_df = dsc_up_pre_df.replace({np.NaN: 0})\n",
        "car_dict_pre_df = car_dict_pre_df.replace({np.NaN: 0})\n",
        "\n",
        "dsc_up_pre = dsc_up_pre_df.values\n",
        "car_dict_pre = car_dict_pre_df.values\n",
        "\n",
        "print(dsc_up_pre.shape)\n",
        "print(car_dict_pre.shape)\n"
      ],
      "metadata": {
        "colab": {
          "base_uri": "https://localhost:8080/"
        },
        "id": "fN7i_o28DKFI",
        "outputId": "9ec3d062-9d1b-4345-bf56-97f9fe3037e3"
      },
      "execution_count": 3,
      "outputs": [
        {
          "output_type": "stream",
          "name": "stdout",
          "text": [
            "(5520, 38)\n",
            "(142, 161)\n"
          ]
        }
      ]
    },
    {
      "cell_type": "code",
      "source": [
        "num_cars = len(car_dict)\n",
        "num_cars_pre = len(car_dict_pre)\n",
        "print(f'The No. of cars in fundamental model dataset : {num_cars}')\n",
        "print(f'The No. of cars in prediction dataset : {num_cars_pre}')"
      ],
      "metadata": {
        "colab": {
          "base_uri": "https://localhost:8080/"
        },
        "id": "PHHkweH9wJbI",
        "outputId": "339cac7a-e855-4e5c-da15-eaa286ae3876"
      },
      "execution_count": 4,
      "outputs": [
        {
          "output_type": "stream",
          "name": "stdout",
          "text": [
            "The No. of cars in fundamental model dataset : 142\n",
            "The No. of cars in prediction dataset : 142\n"
          ]
        }
      ]
    },
    {
      "cell_type": "code",
      "source": [
        "# balance dsc_up samples\n",
        "dsc_up_bal = np.empty(shape=(1, dsc_up.shape[1]))\n",
        "\n",
        "for i in range(num_cars):\n",
        "  if len(dsc_up[dsc_up[:, 32] == i]) > 300:\n",
        "    ran_row_bal = np.random.choice(np.arange(len(dsc_up[dsc_up[:, 32] == i])), size=300, replace=False)\n",
        "    dsc_up_bali = dsc_up[dsc_up[:, 32] == i][ran_row_bal]\n",
        "  else:\n",
        "    dsc_up_bali = dsc_up[dsc_up[:, 32] == i]\n",
        "  dsc_up_bal = np.concatenate((dsc_up_bal, dsc_up_bali), axis=0)\n",
        "dsc_up = dsc_up_bal[1:]\n",
        "print(dsc_up.shape)"
      ],
      "metadata": {
        "colab": {
          "base_uri": "https://localhost:8080/"
        },
        "id": "5mbaZipFwxwG",
        "outputId": "6adbe91b-2d05-45a0-a391-4074e8c265be"
      },
      "execution_count": 5,
      "outputs": [
        {
          "output_type": "stream",
          "name": "stdout",
          "text": [
            "(4945, 38)\n"
          ]
        }
      ]
    },
    {
      "cell_type": "code",
      "source": [
        "# load the label\n",
        "print(f'The shape of cars dict of the fundamental model dataset : {car_dict.shape}')\n",
        "print(f'The shape of users list of the fundamental model dataset : {dsc_up.shape}')\n",
        "\n",
        "print(f'The shape of cars dict of the prediction dataset : {car_dict_pre.shape}')\n",
        "print(f'The shape of users list of the prediction dataset : {dsc_up_pre.shape}')\n",
        "\n",
        "ys_up = dsc_up[:, 32]\n",
        "ys_up_pre = dsc_up_pre[:, 32]\n",
        "print(f'The label of which user choosed which car in fundamental dataset : {ys_up}')\n",
        "print(f'The label of which user choosed which car in prediction dataset : {ys_up_pre}')"
      ],
      "metadata": {
        "colab": {
          "base_uri": "https://localhost:8080/"
        },
        "id": "ZNay43VdDXtA",
        "outputId": "5a942052-8648-4c7f-8e19-f174959d139a"
      },
      "execution_count": 6,
      "outputs": [
        {
          "output_type": "stream",
          "name": "stdout",
          "text": [
            "The shape of cars dict of the fundamental model dataset : (142, 161)\n",
            "The shape of users list of the fundamental model dataset : (4945, 38)\n",
            "The shape of cars dict of the prediction dataset : (142, 161)\n",
            "The shape of users list of the prediction dataset : (5520, 38)\n",
            "The label of which user choosed which car in fundamental dataset : [0 0 0 ... 141 141 141]\n",
            "The label of which user choosed which car in prediction dataset : [37 38 121 ... 24 23 23]\n"
          ]
        }
      ]
    },
    {
      "cell_type": "code",
      "source": [
        "# transfer the label of fundamental dataset to onehot_code\n",
        "ys = copy.copy(ys_up.reshape(len(ys_up), 1))\n",
        "ys -= 1\n",
        "onehot_encoder = OneHotEncoder(sparse_output=False)\n",
        "onehot_encoded = onehot_encoder.fit_transform(ys)\n",
        "ys = onehot_encoded\n",
        "print(f'The shape of the label of fundamental dataset to onehot_code : {ys.shape}')\n",
        "\n",
        "# transfer the label of prediction dataset to onehot_code\n",
        "ys_pre = copy.copy(ys_up_pre.reshape(len(ys_up_pre), 1))\n",
        "ys_pre -= 1\n",
        "onehot_encoder_pre = OneHotEncoder(sparse_output=False)\n",
        "onehot_encoded_pre = onehot_encoder_pre.fit_transform(ys_pre)\n",
        "ys_pre = onehot_encoded_pre\n",
        "print(f'The shape of the label of prediction dataset to onehot_code : {ys_pre.shape}')"
      ],
      "metadata": {
        "colab": {
          "base_uri": "https://localhost:8080/"
        },
        "id": "S17GJ8SJ0adp",
        "outputId": "2ed86f03-cfa3-49d6-e540-2a8b32d31829"
      },
      "execution_count": 7,
      "outputs": [
        {
          "output_type": "stream",
          "name": "stdout",
          "text": [
            "The shape of the label of fundamental dataset to onehot_code : (4945, 142)\n",
            "The shape of the label of prediction dataset to onehot_code : (5520, 142)\n"
          ]
        }
      ]
    },
    {
      "cell_type": "code",
      "source": [
        "# column of last feature from 0 and +1\n",
        "col_last_feature_car = 157\n",
        "# 80\n",
        "col_last_feature_user = 29\n",
        "\n",
        "car_unscaled = car_dict[:, 1:col_last_feature_car]\n",
        "car_pre_unscaled = car_dict_pre[:, 1:col_last_feature_car]\n",
        "user_unscaled = dsc_up[:, 1:col_last_feature_user]\n",
        "user_pre_unscaled = dsc_up_pre[:, 1:col_last_feature_user]\n",
        "\n",
        "\n",
        "# generate the gaussian random no. to budget feature\n",
        "mu_budget = 0\n",
        "sigma_budget = 1.5\n",
        "\n",
        "for i in range(len(user_unscaled)):\n",
        "    user_unscaled[i, 24] += random.gauss(mu_budget, sigma_budget)\n",
        "\n",
        "for i in range(len(user_pre_unscaled)):\n",
        "    user_pre_unscaled[i, 24] += random.gauss(mu_budget, sigma_budget)\n",
        "\n",
        "# scaling the data\n",
        "scalerCar = StandardScaler()\n",
        "scalerCar.fit(car_dict[:, 1:col_last_feature_car])\n",
        "car = scalerCar.transform(car_dict[:, 1:col_last_feature_car])\n",
        "car_pre = scalerCar.transform(car_dict_pre[:, 1:col_last_feature_car])\n",
        "\n",
        "scalerUser = StandardScaler()\n",
        "scalerUser.fit(dsc_up[:, 1:col_last_feature_user])\n",
        "user = scalerUser.transform(dsc_up[:, 1:col_last_feature_user])\n",
        "user_pre = scalerUser.transform(dsc_up_pre[:, 1:col_last_feature_user])\n",
        "\n",
        "print(np.allclose(car_unscaled.astype(float), scalerCar.inverse_transform(car)))\n",
        "print(np.allclose(user_unscaled.astype(float), scalerUser.inverse_transform(user)))\n",
        "print(np.allclose(car_pre_unscaled.astype(float), scalerCar.inverse_transform(car_pre)))\n",
        "print(np.allclose(user_pre_unscaled.astype(float), scalerUser.inverse_transform(user_pre)))"
      ],
      "metadata": {
        "id": "F1Qh3rh_6v7a",
        "colab": {
          "base_uri": "https://localhost:8080/"
        },
        "outputId": "f6b6cc29-ba1b-465a-ed2f-786d9ce04099"
      },
      "execution_count": 8,
      "outputs": [
        {
          "output_type": "stream",
          "name": "stdout",
          "text": [
            "True\n",
            "True\n",
            "True\n",
            "True\n"
          ]
        }
      ]
    },
    {
      "cell_type": "code",
      "source": [
        "car_unscaled[1, -1]"
      ],
      "metadata": {
        "id": "7rbmtwfdSV1m",
        "outputId": "9c684abf-7c23-4267-f7a5-1895013637ea",
        "colab": {
          "base_uri": "https://localhost:8080/"
        }
      },
      "execution_count": 9,
      "outputs": [
        {
          "output_type": "execute_result",
          "data": {
            "text/plain": [
              "69.8"
            ]
          },
          "metadata": {},
          "execution_count": 9
        }
      ]
    },
    {
      "cell_type": "code",
      "source": [
        "# func for generating num_items users of different cars\n",
        "def gen_user_vecs(user_vec, num_items):\n",
        "    \"\"\" given a user vector return:\n",
        "        user predict matrix to match the size of item_vecs \"\"\"\n",
        "    user_vecs = np.tile(user_vec, (1, num_items))\n",
        "    return user_vecs\n",
        "\n",
        "def gen_car_vecs(car_vec, num_users):\n",
        "    car_vecs = np.tile(car_vec, (num_users, 1))\n",
        "    return car_vecs"
      ],
      "metadata": {
        "id": "z3Ze_4Ri6b7w"
      },
      "execution_count": 10,
      "outputs": []
    },
    {
      "cell_type": "code",
      "source": [
        "# pca analysis\n",
        "pca_25 = PCA(n_components=25)\n",
        "print(pca_25)\n",
        "pca_25.fit(user)\n",
        "print(pca_25.explained_variance_ratio_)\n",
        "\n",
        "# %%\n",
        "pca_30 = PCA(n_components=15)\n",
        "print(pca_30)\n",
        "pca_30.fit(car[:, 1:157])\n",
        "print(pca_30.explained_variance_ratio_)\n",
        "c_trans = pca_30.transform(car[:, 1:157])\n",
        "plt.plot(c_trans[:, 0], c_trans[:, 1], 'ro')\n"
      ],
      "metadata": {
        "colab": {
          "base_uri": "https://localhost:8080/",
          "height": 610
        },
        "id": "oBhji5xWngVa",
        "outputId": "c6200296-d43d-4075-c1e8-3fd6a1919f84"
      },
      "execution_count": 11,
      "outputs": [
        {
          "output_type": "stream",
          "name": "stdout",
          "text": [
            "PCA(n_components=25)\n",
            "[0.07005861 0.0659114  0.06138149 0.05068321 0.04567692 0.04067501\n",
            " 0.03962132 0.03917446 0.03803826 0.03775011 0.0369944  0.0363289\n",
            " 0.03628498 0.03594051 0.03501945 0.03460614 0.03290196 0.03232176\n",
            " 0.03210954 0.03184079 0.03105805 0.02815191 0.02685008 0.02564338\n",
            " 0.02429847]\n",
            "PCA(n_components=15)\n",
            "[0.32261016 0.13700179 0.10406325 0.06273254 0.0489421  0.03972227\n",
            " 0.0327173  0.02652219 0.02330221 0.02048176 0.01744254 0.01619917\n",
            " 0.01239715 0.01173699 0.0104078 ]\n"
          ]
        },
        {
          "output_type": "execute_result",
          "data": {
            "text/plain": [
              "[<matplotlib.lines.Line2D at 0x7be982e79bd0>]"
            ]
          },
          "metadata": {},
          "execution_count": 11
        },
        {
          "output_type": "display_data",
          "data": {
            "text/plain": [
              "<Figure size 640x480 with 1 Axes>"
            ],
            "image/png": "[encoded data removed]"
          },
          "metadata": {}
        }
      ]
    },
    {
      "cell_type": "code",
      "source": [
        "# generate num_items users for different cars\n",
        "user_vecs = gen_user_vecs(user, len(car_dict))\n",
        "user_vecs = user_vecs.reshape(-1, user.shape[1])\n",
        "car_vecs = gen_car_vecs(car, len(dsc_up))\n",
        "ys = ys.reshape(-1, 1)\n",
        "print(f'The shape of user matrix in fundamental dataset : {user_vecs.shape}')\n",
        "print(f'The shape of car matrix in fundamental dataset : {car_vecs.shape}')\n",
        "print(f'The shape of label matrix in fundamental dataset : {ys.shape}')\n",
        "\n",
        "user_pre_vecs = gen_user_vecs(user_pre, len(car_dict_pre))\n",
        "user_pre_vecs = user_pre_vecs.reshape(-1, user_pre.shape[1])\n",
        "car_pre_vecs = gen_car_vecs(car_pre, len(dsc_up_pre))\n",
        "ys_pre = ys_pre.reshape(-1, 1)\n",
        "print(f'The shape of user matrix in prediction dataset : {user_pre_vecs.shape}')\n",
        "print(f'The shape of car matrix in prediction dataset : {car_pre_vecs.shape}')\n",
        "print(f'The shape of label matrix in fundamental dataset : {ys_pre.shape}')"
      ],
      "metadata": {
        "colab": {
          "base_uri": "https://localhost:8080/"
        },
        "id": "JtbYTY3rnxK_",
        "outputId": "fe062414-b2ae-46cc-d02c-cb6dfb0c5241"
      },
      "execution_count": 12,
      "outputs": [
        {
          "output_type": "stream",
          "name": "stdout",
          "text": [
            "The shape of user matrix in fundamental dataset : (702190, 28)\n",
            "The shape of car matrix in fundamental dataset : (702190, 156)\n",
            "The shape of label matrix in fundamental dataset : (702190, 1)\n",
            "The shape of user matrix in prediction dataset : (783840, 28)\n",
            "The shape of car matrix in prediction dataset : (783840, 156)\n",
            "The shape of label matrix in fundamental dataset : (783840, 1)\n"
          ]
        }
      ]
    },
    {
      "cell_type": "code",
      "source": [
        "print(ys[ys == 0].shape)\n",
        "print(ys_pre[ys_pre == 0].shape)"
      ],
      "metadata": {
        "colab": {
          "base_uri": "https://localhost:8080/"
        },
        "id": "j_LlJZomsOBU",
        "outputId": "33a8a614-147b-405e-f032-3759f58ac675"
      },
      "execution_count": 13,
      "outputs": [
        {
          "output_type": "stream",
          "name": "stdout",
          "text": [
            "(697245,)\n",
            "(778320,)\n"
          ]
        }
      ]
    },
    {
      "cell_type": "code",
      "source": [
        "# # case 2\n",
        "# car_train, car_test = train_test_split(car_vecs, train_size=0.8, shuffle=True, random_state=2023)\n",
        "# user_train, user_test = train_test_split(user_vecs, train_size=0.8, shuffle=True, random_state=2023)\n",
        "# ys_train, ys_test = train_test_split(ys, train_size=0.8, shuffle=True, random_state=2023)\n",
        "\n",
        "# car_val, car_test = train_test_split(car_test, train_size=0.5, shuffle=True, random_state=2023)\n",
        "# user_val, user_test = train_test_split(user_test, train_size=0.5, shuffle=True, random_state=2023)\n",
        "# ys_val, ys_test = train_test_split(ys_test, train_size=0.5, shuffle=True, random_state=2023)"
      ],
      "metadata": {
        "id": "Exgz6gDNsG0e"
      },
      "execution_count": 14,
      "outputs": []
    },
    {
      "cell_type": "code",
      "source": [
        "randnum = random.randint(0, 100)\n",
        "print(randnum)\n",
        "random.seed(randnum)"
      ],
      "metadata": {
        "colab": {
          "base_uri": "https://localhost:8080/"
        },
        "id": "milRRhMVQKXV",
        "outputId": "04f29ac5-d68f-460f-b9b7-432f1296476c"
      },
      "execution_count": 15,
      "outputs": [
        {
          "output_type": "stream",
          "name": "stdout",
          "text": [
            "86\n"
          ]
        }
      ]
    },
    {
      "cell_type": "code",
      "source": [
        "# # case 2\n",
        "# user_train_one = user_train[(ys_train == 1)[:, 0]]\n",
        "# user_train_one = gen_car_vecs(user_train_one, np.ceil(len(car_dict) * 0.3 -1).astype(int))\n",
        "# user_train_zero = user_train[(ys_train == 0)[:, 0]]\n",
        "# user_train = np.concatenate((user_train_zero, user_train_one), axis=0)\n",
        "# random.seed(randnum)\n",
        "# random.shuffle(user_train)\n",
        "# print(user_train.shape)"
      ],
      "metadata": {
        "id": "06DItVnFhowy"
      },
      "execution_count": null,
      "outputs": []
    },
    {
      "cell_type": "code",
      "source": [
        "# # case 2\n",
        "# car_train_one = car_train[(ys_train == 1)[:, 0]]\n",
        "# car_train_one = gen_car_vecs(car_train_one, np.ceil(len(car_dict) * 0.3 -1).astype(int))\n",
        "# car_train_zero = car_train[(ys_train == 0)[:, 0]]\n",
        "# car_train = np.concatenate((car_train_zero, car_train_one), axis=0)\n",
        "# random.seed(randnum)\n",
        "# random.shuffle(car_train)\n",
        "# print(car_train.shape)"
      ],
      "metadata": {
        "id": "SCElRjrGiCqJ"
      },
      "execution_count": null,
      "outputs": []
    },
    {
      "cell_type": "code",
      "source": [
        "# # case 2\n",
        "# ys_one = ys_train[(ys_train == 1)[:, 0]]\n",
        "# ys_one = gen_car_vecs(ys_one, np.ceil(len(car_dict) * 0.3 -1).astype(int))\n",
        "# ys_zero = ys_train[(ys_train == 0)[:, 0]]\n",
        "# ys_train = np.concatenate((ys_zero, ys_one), axis=0)\n",
        "# random.seed(randnum)\n",
        "# random.shuffle(ys_train)\n",
        "# print(ys_train.shape)"
      ],
      "metadata": {
        "id": "8IAExZSfiCcW"
      },
      "execution_count": null,
      "outputs": []
    },
    {
      "cell_type": "code",
      "source": [
        "# user_vecs_one = user_vecs[(ys == 1)[:, 0]]"
      ],
      "metadata": {
        "id": "vekhBc82s5CX"
      },
      "execution_count": null,
      "outputs": []
    },
    {
      "cell_type": "code",
      "source": [
        "# num_users = user_vecs_one.shape[0]\n",
        "# print(num_users)\n"
      ],
      "metadata": {
        "id": "zAEEnmaPs_96"
      },
      "execution_count": null,
      "outputs": []
    },
    {
      "cell_type": "code",
      "source": [
        "# user_vecs_zero = user_vecs[(ys == 0)[:, 0]]\n",
        "# num_zeros = user_vecs_zero.shape[0]\n",
        "# print(num_zeros)"
      ],
      "metadata": {
        "id": "ptj2UlkZuC2n"
      },
      "execution_count": null,
      "outputs": []
    },
    {
      "cell_type": "code",
      "source": [
        "# random.seed(randnum)"
      ],
      "metadata": {
        "id": "0AhtIQYvui-c"
      },
      "execution_count": null,
      "outputs": []
    },
    {
      "cell_type": "code",
      "source": [
        "# sample_row = np.random.choice(np.arange(num_zeros), size=num_users, replace=False)"
      ],
      "metadata": {
        "id": "wAszpAvxtCW2"
      },
      "execution_count": null,
      "outputs": []
    },
    {
      "cell_type": "code",
      "source": [
        "# sample_row"
      ],
      "metadata": {
        "id": "XBxdkxGuskpD"
      },
      "execution_count": null,
      "outputs": []
    },
    {
      "cell_type": "code",
      "source": [
        "# user_vecs_zero = user_vecs_zero[sample_row]\n",
        "# print(user_vecs_zero.shape)"
      ],
      "metadata": {
        "id": "h3MhNu3Eu3_k"
      },
      "execution_count": null,
      "outputs": []
    },
    {
      "cell_type": "code",
      "source": [
        "# case 3\n",
        "# Random choose the users which label is 0 in fundamental dataset\n",
        "\n",
        "user_vecs_one = user_vecs[(ys == 1)[:, 0]]\n",
        "user_vecs_zero = user_vecs[(ys == 0)[:, 0]]\n",
        "num_users = user_vecs_one.shape[0]\n",
        "num_zeros = user_vecs_zero.shape[0]\n",
        "random.seed(randnum)\n",
        "\n",
        "sample_row = np.random.choice(np.arange(num_zeros), size=np.ceil(num_users * 1.2).astype(int), replace=False)\n",
        "user_vecs_zero = user_vecs_zero[sample_row]\n",
        "user_vecs = np.concatenate((user_vecs_zero, user_vecs_one), axis=0)\n",
        "\n",
        "random.seed(44)\n",
        "shuffle_row = np.random.choice(np.arange(0,len(user_vecs)), len(user_vecs), replace=False)\n",
        "user_vecs = user_vecs[shuffle_row]\n",
        "print(f'The shape of the users data in fundatmental dataset after balancing : {user_vecs.shape}')"
      ],
      "metadata": {
        "colab": {
          "base_uri": "https://localhost:8080/"
        },
        "id": "Od4AHZ9ln_Q-",
        "outputId": "90da46ec-7cda-4ee3-bd19-359153f92163"
      },
      "execution_count": 16,
      "outputs": [
        {
          "output_type": "stream",
          "name": "stdout",
          "text": [
            "The shape of the users data in fundatmental dataset after balancing : (10879, 28)\n"
          ]
        }
      ]
    },
    {
      "cell_type": "code",
      "source": [
        "# case3\n",
        "# Random choose the cars which label is 0 in fundamental dataset\n",
        "\n",
        "car_vecs_one = car_vecs[(ys == 1)[:, 0]]\n",
        "car_vecs_zero = car_vecs[(ys == 0)[:, 0]][sample_row]\n",
        "car_vecs = np.concatenate((car_vecs_zero, car_vecs_one), axis=0)\n",
        "\n",
        "car_vecs = car_vecs[shuffle_row]\n",
        "print(f'The shape of the cars data in fundatmental dataset after balancing : {car_vecs.shape}')"
      ],
      "metadata": {
        "colab": {
          "base_uri": "https://localhost:8080/"
        },
        "id": "RqhTucG6n69P",
        "outputId": "39dfa93f-cf93-47cd-ad47-0bc436c2db98"
      },
      "execution_count": 17,
      "outputs": [
        {
          "output_type": "stream",
          "name": "stdout",
          "text": [
            "The shape of the cars data in fundatmental dataset after balancing : (10879, 156)\n"
          ]
        }
      ]
    },
    {
      "cell_type": "code",
      "source": [
        "# case 3\n",
        "# Random choose the label which is 0 in fundamental dataset\n",
        "ys_one = ys[(ys == 1)[:, 0]]\n",
        "ys_zero = ys[(ys == 0)[:, 0]][sample_row]\n",
        "ys = np.concatenate((ys_zero, ys_one), axis=0)\n",
        "\n",
        "ys = ys[shuffle_row]\n",
        "print(f'The shape of label data in fundatmental dataset after balancing : {ys.shape}')"
      ],
      "metadata": {
        "colab": {
          "base_uri": "https://localhost:8080/"
        },
        "id": "3-HMFlwboBib",
        "outputId": "2e87a92d-1ffe-403c-83b7-7c64726f375c"
      },
      "execution_count": 18,
      "outputs": [
        {
          "output_type": "stream",
          "name": "stdout",
          "text": [
            "The shape of label data in fundatmental dataset after balancing : (10879, 1)\n"
          ]
        }
      ]
    },
    {
      "cell_type": "code",
      "source": [
        "# Random choose the users which label is 0 in prediction dataset\n",
        "\n",
        "user_pre_vecs_one = user_pre_vecs[(ys_pre == 1)[:, 0]]\n",
        "user_pre_vecs_zero = user_pre_vecs[(ys_pre == 0)[:, 0]]\n",
        "num_users_pre = user_pre_vecs_one.shape[0]\n",
        "num_zeros_pre = user_pre_vecs_zero.shape[0]\n",
        "random.seed(randnum)\n",
        "\n",
        "sample_row_pre = np.random.choice(np.arange(num_zeros_pre), size=np.ceil(num_users_pre * 1.2).astype(int), replace=False)\n",
        "user_pre_vecs_zero = user_pre_vecs_zero[sample_row_pre]\n",
        "user_pre_vecs = np.concatenate((user_pre_vecs_zero, user_pre_vecs_one), axis=0)\n",
        "\n",
        "random.seed(54)\n",
        "shuffle_row_pre = np.random.choice(np.arange(0,len(user_pre_vecs)), len(user_pre_vecs), replace=False)\n",
        "user_pre_vecs = user_pre_vecs[shuffle_row_pre]\n",
        "# user_pre_vecs = user_vecs[shuffle_row_pre]??\n",
        "print(f'The shape of the users data in fundatmental dataset after balancing : {user_pre_vecs.shape}')"
      ],
      "metadata": {
        "colab": {
          "base_uri": "https://localhost:8080/"
        },
        "id": "_4iooVWRe-Fe",
        "outputId": "7fdb1771-82a5-44e3-f68c-c8e2ad55a04e"
      },
      "execution_count": 19,
      "outputs": [
        {
          "output_type": "stream",
          "name": "stdout",
          "text": [
            "The shape of the users data in fundatmental dataset after balancing : (12144, 28)\n"
          ]
        }
      ]
    },
    {
      "cell_type": "code",
      "source": [
        "# Random choose the cars which label is 0 in prediction dataset\n",
        "\n",
        "car_pre_vecs_one = car_pre_vecs[(ys_pre == 1)[:, 0]]\n",
        "car_pre_vecs_zero = car_pre_vecs[(ys_pre == 0)[:, 0]][sample_row_pre]\n",
        "car_pre_vecs = np.concatenate((car_pre_vecs_zero, car_pre_vecs_one), axis=0)\n",
        "\n",
        "car_pre_vecs = car_pre_vecs[shuffle_row_pre]\n",
        "print(f'The shape of the cars data in prediction dataset after balancing : {car_pre_vecs.shape}')"
      ],
      "metadata": {
        "colab": {
          "base_uri": "https://localhost:8080/"
        },
        "id": "gVwac7Gbe97r",
        "outputId": "6c71eade-48ef-4fdb-b66d-66386b185aa7"
      },
      "execution_count": 20,
      "outputs": [
        {
          "output_type": "stream",
          "name": "stdout",
          "text": [
            "The shape of the cars data in prediction dataset after balancing : (12144, 156)\n"
          ]
        }
      ]
    },
    {
      "cell_type": "code",
      "source": [
        "# Random choose the label which is 0 in prediction dataset\n",
        "ys_pre_one = ys_pre[(ys_pre == 1)[:, 0]]\n",
        "ys_pre_zero = ys_pre[(ys_pre == 0)[:, 0]][sample_row_pre]\n",
        "ys_pre = np.concatenate((ys_pre_zero, ys_pre_one), axis=0)\n",
        "\n",
        "ys_pre = ys_pre[shuffle_row_pre]\n",
        "print(f'The shape of label data in prediction dataset after balancing : {ys_pre.shape}')"
      ],
      "metadata": {
        "colab": {
          "base_uri": "https://localhost:8080/"
        },
        "id": "AWRFUcKXe9wf",
        "outputId": "b8c3e175-9995-4134-e53f-d8a8d7573d5d"
      },
      "execution_count": 21,
      "outputs": [
        {
          "output_type": "stream",
          "name": "stdout",
          "text": [
            "The shape of label data in prediction dataset after balancing : (12144, 1)\n"
          ]
        }
      ]
    },
    {
      "cell_type": "code",
      "source": [
        "# case 3\n",
        "car_train, car_test = train_test_split(car_vecs, train_size=0.8, shuffle=True, random_state=2023)\n",
        "user_train, user_test = train_test_split(user_vecs, train_size=0.8, shuffle=True, random_state=2023)\n",
        "ys_train, ys_test = train_test_split(ys, train_size=0.8, shuffle=True, random_state=2023)\n",
        "\n",
        "car_val, car_test = train_test_split(car_test, train_size=0.5, shuffle=True, random_state=2023)\n",
        "user_val, user_test = train_test_split(user_test, train_size=0.5, shuffle=True, random_state=2023)\n",
        "ys_val, ys_test = train_test_split(ys_test, train_size=0.5, shuffle=True, random_state=2023)"
      ],
      "metadata": {
        "id": "uw1qHr9lhWOW"
      },
      "execution_count": 22,
      "outputs": []
    },
    {
      "cell_type": "code",
      "source": [
        "print(f\"cars training data shape:{car_train.shape}\")\n",
        "print(f\"cars validating data shape:{car_val.shape}\")\n",
        "print(f\"cars testing data shape:{car_test.shape}\")\n",
        "\n",
        "print(f\"users training data shape:{user_train.shape}\")\n",
        "print(f\"users validating data shape:{user_val.shape}\")\n",
        "print(f\"users testing data shape:{user_test.shape}\")\n",
        "\n",
        "print(f\"ys training data shape:{ys_train.shape}\")\n",
        "print(f\"ys validating data shape:{ys_val.shape}\")\n",
        "print(f\"ys testing data shape:{ys_test.shape}\")"
      ],
      "metadata": {
        "colab": {
          "base_uri": "https://localhost:8080/"
        },
        "id": "Xnm6wtb2sKKv",
        "outputId": "93c7dd1e-0e36-4d72-ba89-21b76afa8a47"
      },
      "execution_count": 23,
      "outputs": [
        {
          "output_type": "stream",
          "name": "stdout",
          "text": [
            "cars training data shape:(8703, 156)\n",
            "cars validating data shape:(1088, 156)\n",
            "cars testing data shape:(1088, 156)\n",
            "users training data shape:(8703, 28)\n",
            "users validating data shape:(1088, 28)\n",
            "users testing data shape:(1088, 28)\n",
            "ys training data shape:(8703, 1)\n",
            "ys validating data shape:(1088, 1)\n",
            "ys testing data shape:(1088, 1)\n"
          ]
        }
      ]
    },
    {
      "cell_type": "code",
      "source": [
        "num_user_features = col_last_feature_user-1\n",
        "num_car_features = col_last_feature_car-1\n",
        "num_outputs = 32\n",
        "tf.random.set_seed(1)\n",
        "user_NN = tf.keras.models.Sequential([\n",
        "    tf.keras.layers.Dense(256, activation='relu'),\n",
        "    tf.keras.layers.Dense(128, activation='relu'),\n",
        "    tf.keras.layers.Dense(num_outputs, activation='relu'),\n",
        "])\n",
        "car_NN = tf.keras.models.Sequential([\n",
        "    tf.keras.layers.Dense(256, activation='relu'),\n",
        "    tf.keras.layers.Dense(128, activation='relu'),\n",
        "    tf.keras.layers.Dense(num_outputs, activation='relu'),\n",
        "])\n",
        "\n",
        "input_user = tf.keras.layers.Input(shape=(num_user_features))\n",
        "vu = user_NN(input_user)\n",
        "vu = tf.linalg.l2_normalize(vu, axis=1)\n",
        "\n",
        "input_car = tf.keras.layers.Input(shape=(num_car_features))\n",
        "vc = car_NN(input_car)\n",
        "vc = tf.linalg.l2_normalize(vc, axis=1)\n",
        "\n",
        "d_out = tf.keras.layers.Dot(axes=1)([vu, vc])\n",
        "output = tf.keras.layers.Dense(1, activation='sigmoid')(d_out)\n",
        "\n",
        "model = tf.keras.Model([input_user, input_car], output)\n",
        "model.summary()\n",
        "tf.keras.utils.plot_model(model, \"/content/my_model.png\")"
      ],
      "metadata": {
        "colab": {
          "base_uri": "https://localhost:8080/",
          "height": 943
        },
        "id": "bP3DkKKatJyi",
        "outputId": "2d8b1f1d-adb5-483e-a8c8-b7ea42c20e0d"
      },
      "execution_count": 24,
      "outputs": [
        {
          "output_type": "stream",
          "name": "stdout",
          "text": [
            "Model: \"model\"\n",
            "__________________________________________________________________________________________________\n",
            " Layer (type)                Output Shape                 Param #   Connected to                  \n",
            "==================================================================================================\n",
            " input_1 (InputLayer)        [(None, 28)]                 0         []                            \n",
            "                                                                                                  \n",
            " input_2 (InputLayer)        [(None, 156)]                0         []                            \n",
            "                                                                                                  \n",
            " sequential (Sequential)     (None, 32)                   44448     ['input_1[0][0]']             \n",
            "                                                                                                  \n",
            " sequential_1 (Sequential)   (None, 32)                   77216     ['input_2[0][0]']             \n",
            "                                                                                                  \n",
            " tf.math.l2_normalize (TFOp  (None, 32)                   0         ['sequential[0][0]']          \n",
            " Lambda)                                                                                          \n",
            "                                                                                                  \n",
            " tf.math.l2_normalize_1 (TF  (None, 32)                   0         ['sequential_1[0][0]']        \n",
            " OpLambda)                                                                                        \n",
            "                                                                                                  \n",
            " dot (Dot)                   (None, 1)                    0         ['tf.math.l2_normalize[0][0]',\n",
            "                                                                     'tf.math.l2_normalize_1[0][0]\n",
            "                                                                    ']                            \n",
            "                                                                                                  \n",
            " dense_6 (Dense)             (None, 1)                    2         ['dot[0][0]']                 \n",
            "                                                                                                  \n",
            "==================================================================================================\n",
            "Total params: 121666 (475.26 KB)\n",
            "Trainable params: 121666 (475.26 KB)\n",
            "Non-trainable params: 0 (0.00 Byte)\n",
            "__________________________________________________________________________________________________\n"
          ]
        },
        {
          "output_type": "execute_result",
          "data": {
            "image/png": "[encoded data removed]",
            "text/plain": [
              "<IPython.core.display.Image object>"
            ]
          },
          "metadata": {},
          "execution_count": 24
        }
      ]
    },
    {
      "cell_type": "code",
      "source": [
        "tf.random.set_seed(1)\n",
        "cost_fn = tf.keras.losses.MeanSquaredError()\n",
        "opt = keras.optimizers.Adam(learning_rate=0.01)\n",
        "model.compile(optimizer=opt, loss=cost_fn)"
      ],
      "metadata": {
        "id": "2gPZmKAitT2h"
      },
      "execution_count": 25,
      "outputs": []
    },
    {
      "cell_type": "code",
      "source": [
        "tf.random.set_seed(1)\n",
        "model.fit([user_train, car_train], ys_train, epochs=2)"
      ],
      "metadata": {
        "colab": {
          "base_uri": "https://localhost:8080/"
        },
        "id": "QXZsutVxtUfw",
        "outputId": "f3a7dc75-1281-4524-da78-19875888fa9a"
      },
      "execution_count": 30,
      "outputs": [
        {
          "output_type": "stream",
          "name": "stdout",
          "text": [
            "Epoch 1/2\n",
            "272/272 [==============================] - 1s 3ms/step - loss: 0.1329\n",
            "Epoch 2/2\n",
            "272/272 [==============================] - 1s 3ms/step - loss: 0.1279\n"
          ]
        },
        {
          "output_type": "execute_result",
          "data": {
            "text/plain": [
              "<keras.src.callbacks.History at 0x7be97c6d9c00>"
            ]
          },
          "metadata": {},
          "execution_count": 30
        }
      ]
    },
    {
      "cell_type": "code",
      "source": [
        "model.evaluate([user_val, car_val], ys_val)"
      ],
      "metadata": {
        "colab": {
          "base_uri": "https://localhost:8080/"
        },
        "id": "k50a01wBtXr8",
        "outputId": "fcf660ec-d6a1-4193-9c0e-9ee237d0b85a"
      },
      "execution_count": 31,
      "outputs": [
        {
          "output_type": "stream",
          "name": "stdout",
          "text": [
            "34/34 [==============================] - 0s 2ms/step - loss: 0.1345\n"
          ]
        },
        {
          "output_type": "execute_result",
          "data": {
            "text/plain": [
              "0.13451385498046875"
            ]
          },
          "metadata": {},
          "execution_count": 31
        }
      ]
    },
    {
      "cell_type": "code",
      "source": [
        "model.evaluate([user_val[(ys_val == 0)[:, 0]], car_val[(ys_val == 0)[:, 0]]], ys_val[(ys_val == 0)[:, 0]])\n",
        "model.evaluate([user_val[(ys_val == 1)[:, 0]], car_val[(ys_val == 1)[:, 0]]], ys_val[(ys_val == 1)[:, 0]])"
      ],
      "metadata": {
        "colab": {
          "base_uri": "https://localhost:8080/"
        },
        "id": "iS6RDpTMA3Zz",
        "outputId": "19b37203-89c1-4a90-8655-38054df76c2f"
      },
      "execution_count": 32,
      "outputs": [
        {
          "output_type": "stream",
          "name": "stdout",
          "text": [
            "19/19 [==============================] - 0s 2ms/step - loss: 0.1505\n",
            "16/16 [==============================] - 0s 3ms/step - loss: 0.1143\n"
          ]
        },
        {
          "output_type": "execute_result",
          "data": {
            "text/plain": [
              "0.11427979916334152"
            ]
          },
          "metadata": {},
          "execution_count": 32
        }
      ]
    },
    {
      "cell_type": "markdown",
      "source": [
        "用validation set调参"
      ],
      "metadata": {
        "id": "c2OW5c8YRZbM"
      }
    },
    {
      "cell_type": "code",
      "source": [
        "ys_p_val = model.predict([[user_val, car_val]])"
      ],
      "metadata": {
        "id": "SxjDuDf9Q9Cf",
        "outputId": "2f36988c-3d25-49e5-b1f9-7c8e3f059707",
        "colab": {
          "base_uri": "https://localhost:8080/"
        }
      },
      "execution_count": 122,
      "outputs": [
        {
          "output_type": "stream",
          "name": "stdout",
          "text": [
            "34/34 [==============================] - 0s 1ms/step\n"
          ]
        }
      ]
    },
    {
      "cell_type": "code",
      "source": [
        "# print the confusion matrix & report of validation set\n",
        "ys_p_val_binary = np.where(ys_p_val > 0.45, 1, 0)\n",
        "confusion_val = confusion_matrix(ys_val, ys_p_val_binary)\n",
        "print(confusion_val)\n",
        "print(classification_report(ys_val, ys_p_val_binary))"
      ],
      "metadata": {
        "id": "A6dvSkl9QfKO",
        "outputId": "d58cd29f-a88b-44a0-922a-e8dd00cb384b",
        "colab": {
          "base_uri": "https://localhost:8080/"
        }
      },
      "execution_count": 137,
      "outputs": [
        {
          "output_type": "stream",
          "name": "stdout",
          "text": [
            "[[432 175]\n",
            " [ 47 434]]\n",
            "              precision    recall  f1-score   support\n",
            "\n",
            "         0.0       0.90      0.71      0.80       607\n",
            "         1.0       0.71      0.90      0.80       481\n",
            "\n",
            "    accuracy                           0.80      1088\n",
            "   macro avg       0.81      0.81      0.80      1088\n",
            "weighted avg       0.82      0.80      0.80      1088\n",
            "\n"
          ]
        }
      ]
    },
    {
      "cell_type": "code",
      "source": [
        "ys_test.shape"
      ],
      "metadata": {
        "colab": {
          "base_uri": "https://localhost:8080/"
        },
        "id": "1JHYyjPvfPGL",
        "outputId": "c3617275-db6c-4076-8b41-9367f5ef6608"
      },
      "execution_count": 33,
      "outputs": [
        {
          "output_type": "execute_result",
          "data": {
            "text/plain": [
              "(1088, 1)"
            ]
          },
          "metadata": {},
          "execution_count": 33
        }
      ]
    },
    {
      "cell_type": "code",
      "source": [
        "model.evaluate([user_test[(ys_test == 0)[:, 0]], car_test[(ys_test == 0)[:, 0]]], ys_test[(ys_test == 0)[:, 0]])\n",
        "model.evaluate([user_test[(ys_test == 1)[:, 0]], car_test[(ys_test == 1)[:, 0]]], ys_test[(ys_test == 1)[:, 0]])"
      ],
      "metadata": {
        "colab": {
          "base_uri": "https://localhost:8080/"
        },
        "id": "wWyGJ47d8FsR",
        "outputId": "e3d2e36f-d8a1-4b09-b613-9ebf07493aec"
      },
      "execution_count": 34,
      "outputs": [
        {
          "output_type": "stream",
          "name": "stdout",
          "text": [
            "18/18 [==============================] - 0s 2ms/step - loss: 0.1497\n",
            "17/17 [==============================] - 0s 2ms/step - loss: 0.1093\n"
          ]
        },
        {
          "output_type": "execute_result",
          "data": {
            "text/plain": [
              "0.10927222669124603"
            ]
          },
          "metadata": {},
          "execution_count": 34
        }
      ]
    },
    {
      "cell_type": "code",
      "source": [
        "ys_p_test = model.predict([[user_test, car_test]])\n",
        "ys_p_test_vs = np.concatenate((ys_p_test, ys_test), axis=1)\n",
        "ys_test_df = pd.DataFrame(ys_p_test_vs)\n",
        "ys_test_df.to_csv(r'/content/ys_p_test_6epoch.csv', encoding='UTF-8')"
      ],
      "metadata": {
        "colab": {
          "base_uri": "https://localhost:8080/"
        },
        "id": "pR91EXOOtbFv",
        "outputId": "7d3cb340-11b7-44b8-e2a6-99352876ac96"
      },
      "execution_count": 35,
      "outputs": [
        {
          "output_type": "stream",
          "name": "stdout",
          "text": [
            "34/34 [==============================] - 0s 2ms/step\n"
          ]
        }
      ]
    },
    {
      "cell_type": "code",
      "source": [
        "# print the confusion matrix & report of test set\n",
        "print(confusion_matrix(ys_test, np.round(ys_p_test)))\n",
        "print(classification_report(ys_test, np.round(ys_p_test)))"
      ],
      "metadata": {
        "colab": {
          "base_uri": "https://localhost:8080/"
        },
        "id": "xY380Qk3t0Xw",
        "outputId": "222a2ca3-3468-47b6-d0c1-ef03f56563ce"
      },
      "execution_count": 36,
      "outputs": [
        {
          "output_type": "stream",
          "name": "stdout",
          "text": [
            "[[417 151]\n",
            " [ 52 468]]\n",
            "              precision    recall  f1-score   support\n",
            "\n",
            "         0.0       0.89      0.73      0.80       568\n",
            "         1.0       0.76      0.90      0.82       520\n",
            "\n",
            "    accuracy                           0.81      1088\n",
            "   macro avg       0.82      0.82      0.81      1088\n",
            "weighted avg       0.83      0.81      0.81      1088\n",
            "\n"
          ]
        }
      ]
    },
    {
      "cell_type": "code",
      "source": [
        "ys_p_test_binary = np.where(ys_p_test > 0.55, 1, 0)\n",
        "confusion_test = confusion_matrix(ys_test, ys_p_test_binary)\n",
        "print(confusion_test)\n",
        "print(classification_report(ys_test, ys_p_test_binary))"
      ],
      "metadata": {
        "id": "mw5nb4SJPMwe",
        "outputId": "7f47910e-6768-4e6b-b8f6-ace7b4fc5126",
        "colab": {
          "base_uri": "https://localhost:8080/"
        }
      },
      "execution_count": 121,
      "outputs": [
        {
          "output_type": "stream",
          "name": "stdout",
          "text": [
            "[[442 126]\n",
            " [ 79 441]]\n",
            "              precision    recall  f1-score   support\n",
            "\n",
            "         0.0       0.85      0.78      0.81       568\n",
            "         1.0       0.78      0.85      0.81       520\n",
            "\n",
            "    accuracy                           0.81      1088\n",
            "   macro avg       0.81      0.81      0.81      1088\n",
            "weighted avg       0.81      0.81      0.81      1088\n",
            "\n"
          ]
        }
      ]
    },
    {
      "cell_type": "code",
      "source": [
        "# calculate the auc & roc\n",
        "FPR, TPR, thresholds = metrics.roc_curve(ys_test, ys_p_test)\n",
        "AUC = auc(FPR, TPR)\n",
        "print('AUC:',AUC)\n",
        "plt.rc('font', family='', size=14)\n",
        "plt.plot(FPR,TPR,label=\"AUC={:.2f}\" .format(AUC),marker = 'o',color='b',linestyle='--')\n",
        "plt.legend(loc=4, fontsize=10)\n",
        "plt.title('ROC',fontsize=20)\n",
        "plt.xlabel('FPR',fontsize=14)\n",
        "plt.ylabel('TPR',fontsize=14)\n",
        "plt.show()"
      ],
      "metadata": {
        "colab": {
          "base_uri": "https://localhost:8080/",
          "height": 505
        },
        "id": "sQ4CArpxdnKe",
        "outputId": "8440ff72-f58e-477b-e143-e92545d4f61e"
      },
      "execution_count": 37,
      "outputs": [
        {
          "output_type": "stream",
          "name": "stdout",
          "text": [
            "AUC: 0.8900883667388949\n"
          ]
        },
        {
          "output_type": "display_data",
          "data": {
            "text/plain": [
              "<Figure size 640x480 with 1 Axes>"
            ],
            "image/png": "[encoded data removed]"
          },
          "metadata": {}
        }
      ]
    },
    {
      "cell_type": "code",
      "source": [
        "ys_p_train = model.predict([[user_train, car_train]])"
      ],
      "metadata": {
        "colab": {
          "base_uri": "https://localhost:8080/"
        },
        "id": "_bhcLBm7A4_m",
        "outputId": "35da34e3-342b-4e15-fada-b451d83f94b8"
      },
      "execution_count": 38,
      "outputs": [
        {
          "output_type": "stream",
          "name": "stdout",
          "text": [
            "272/272 [==============================] - 1s 1ms/step\n"
          ]
        }
      ]
    },
    {
      "cell_type": "code",
      "source": [
        "# print the confusion matrix & report\n",
        "print(confusion_matrix(ys_train, np.round(ys_p_train)))\n",
        "print(classification_report(ys_train, np.round(ys_p_train)))"
      ],
      "metadata": {
        "colab": {
          "base_uri": "https://localhost:8080/"
        },
        "id": "9BmnL9PnXdCD",
        "outputId": "f4ba7168-2d38-4221-857e-1a063b2a917a"
      },
      "execution_count": 39,
      "outputs": [
        {
          "output_type": "stream",
          "name": "stdout",
          "text": [
            "[[3542 1217]\n",
            " [ 322 3622]]\n",
            "              precision    recall  f1-score   support\n",
            "\n",
            "         0.0       0.92      0.74      0.82      4759\n",
            "         1.0       0.75      0.92      0.82      3944\n",
            "\n",
            "    accuracy                           0.82      8703\n",
            "   macro avg       0.83      0.83      0.82      8703\n",
            "weighted avg       0.84      0.82      0.82      8703\n",
            "\n"
          ]
        }
      ]
    },
    {
      "cell_type": "code",
      "source": [
        "# predict the users of year 21-23 whether buy the cars in scope\n",
        "ys_p_pre = model.predict([user_pre_vecs, car_pre_vecs])"
      ],
      "metadata": {
        "colab": {
          "base_uri": "https://localhost:8080/"
        },
        "id": "BNm6qd2bqFLH",
        "outputId": "d55298e6-5bb1-4f92-cde1-34db0710b5b6"
      },
      "execution_count": 40,
      "outputs": [
        {
          "output_type": "stream",
          "name": "stdout",
          "text": [
            "380/380 [==============================] - 1s 1ms/step\n"
          ]
        }
      ]
    },
    {
      "cell_type": "code",
      "source": [
        "# print the confusion matrix & report\n",
        "print(confusion_matrix(ys_pre, np.round(ys_p_pre)))\n",
        "print(classification_report(ys_pre, np.round(ys_p_pre)))"
      ],
      "metadata": {
        "colab": {
          "base_uri": "https://localhost:8080/"
        },
        "id": "7AGhTM9JqlGt",
        "outputId": "2e6c45e1-467a-4550-f0b3-0efc6d94817f"
      },
      "execution_count": 41,
      "outputs": [
        {
          "output_type": "stream",
          "name": "stdout",
          "text": [
            "[[4929 1695]\n",
            " [ 453 5067]]\n",
            "              precision    recall  f1-score   support\n",
            "\n",
            "         0.0       0.92      0.74      0.82      6624\n",
            "         1.0       0.75      0.92      0.83      5520\n",
            "\n",
            "    accuracy                           0.82     12144\n",
            "   macro avg       0.83      0.83      0.82     12144\n",
            "weighted avg       0.84      0.82      0.82     12144\n",
            "\n"
          ]
        }
      ]
    },
    {
      "cell_type": "code",
      "source": [
        "# calculate the auc & roc\n",
        "FPR, TPR, thresholds = metrics.roc_curve(ys_pre, ys_p_pre)\n",
        "AUC = auc(FPR, TPR)\n",
        "print('AUC:',AUC)\n",
        "plt.rc('font', family='', size=14)\n",
        "plt.plot(FPR,TPR,label=\"AUC={:.2f}\" .format(AUC),marker = 'o',color='b',linestyle='--')\n",
        "plt.legend(loc=4, fontsize=10)\n",
        "plt.title('ROC',fontsize=20)\n",
        "plt.xlabel('FPR',fontsize=14)\n",
        "plt.ylabel('TPR',fontsize=14)\n",
        "plt.show()"
      ],
      "metadata": {
        "colab": {
          "base_uri": "https://localhost:8080/",
          "height": 505
        },
        "id": "bbHLi6Seyc2L",
        "outputId": "1ec9fc0e-d1ca-4290-a366-8178ec3784bb"
      },
      "execution_count": 42,
      "outputs": [
        {
          "output_type": "stream",
          "name": "stdout",
          "text": [
            "AUC: 0.9086418978199607\n"
          ]
        },
        {
          "output_type": "display_data",
          "data": {
            "text/plain": [
              "<Figure size 640x480 with 1 Axes>"
            ],
            "image/png": "[encoded data removed]"
          },
          "metadata": {}
        }
      ]
    },
    {
      "cell_type": "markdown",
      "source": [
        "基于某个用户，预测不同的车的购买倾向"
      ],
      "metadata": {
        "id": "JgvnydmXY9fv"
      }
    },
    {
      "cell_type": "code",
      "source": [
        "list = []\n",
        "for i in range(len(dsc_up)):\n",
        "  if dsc_up[i, 32] == 7:\n",
        "    list.append(i)\n",
        "print(list)"
      ],
      "metadata": {
        "colab": {
          "base_uri": "https://localhost:8080/"
        },
        "id": "OvsmShkg4cVk",
        "outputId": "5cd9383d-d888-45f6-ec88-20420b3ef0ab"
      },
      "execution_count": null,
      "outputs": [
        {
          "output_type": "stream",
          "name": "stdout",
          "text": [
            "[2035, 2036, 2037, 2038, 2039, 2040, 2041, 2042, 2043, 2044, 2045, 2046, 2047, 2048, 2049, 2050, 2051, 2052, 2053, 2054, 2055, 2056, 2057, 2058, 2059, 2060, 2061, 2062, 2063, 2064, 2065, 2066, 2067, 2068, 2069, 2070, 2071, 2072, 2073, 2074, 2075, 2076, 2077, 2078, 2079, 2080, 2081, 2082, 2083, 2084, 2085, 2086, 2087, 2088, 2089, 2090, 2091, 2092, 2093, 2094, 2095, 2096, 2097, 2098, 2099, 2100, 2101, 2102, 2103, 2104, 2105, 2106, 2107, 2108, 2109, 2110, 2111, 2112, 2113, 2114, 2115, 2116, 2117, 2118, 2119, 2120, 2121, 2122, 2123, 2124, 2125, 2126, 2127, 2128, 2129, 2130, 2131, 2132, 2133, 2134, 2135, 2136, 2137, 2138, 2139, 2140, 2141, 2142, 2143, 2144, 2145, 2146, 2147, 2148, 2149, 2150, 2151, 2152, 2153, 2154, 2155, 2156, 2157, 2158, 2159, 2160, 2161, 2162, 2163, 2164, 2165, 2166, 2167, 2168, 2169, 2170, 2171, 2172, 2173, 2174, 2175, 2176, 2177, 2178, 2179, 2180, 2181, 2182, 2183, 2184, 2185, 2186, 2187, 2188, 2189, 2190, 2191, 2192, 2193, 2194, 2195, 2196, 2197, 2198, 2199, 2200, 2201, 2202, 2203, 2204, 2205, 2206, 2207, 2208, 2209, 2210, 2211, 2212, 2213, 2214, 2215, 2216, 2217, 2218, 2219, 2220, 2221, 2222, 2223, 2224, 2225, 2226, 2227, 2228, 2229, 2230, 2231, 2232, 2233, 2234, 2235, 2236, 2237, 2238, 2239, 2240, 2241, 2242, 2243, 2244, 2245, 2246, 2247, 2248, 2249, 2250, 2251, 2252, 2253, 2254, 2255, 2256, 2257, 2258, 2259, 2260, 2261, 2262, 2263, 2264, 2265, 2266, 2267, 2268, 2269, 2270, 2271, 2272, 2273, 2274, 2275, 2276, 2277, 2278, 2279, 2280, 2281, 2282, 2283, 2284, 2285, 2286, 2287, 2288, 2289, 2290, 2291, 2292, 2293, 2294, 2295, 2296, 2297, 2298, 2299, 2300, 2301, 2302, 2303, 2304, 2305, 2306, 2307, 2308, 2309, 2310, 2311, 2312, 2313, 2314, 2315, 2316, 2317, 2318, 2319, 2320, 2321, 2322, 2323, 2324, 2325, 2326, 2327, 2328, 2329, 2330, 2331, 2332, 2333, 2334, 2335, 2336, 2337, 2338, 2339, 2340, 2341, 2342, 2343, 2344, 2345, 2346, 2347, 2348, 2349, 2350, 2351, 2352, 2353, 2354, 2355, 2356, 2357, 2358, 2359, 2360, 2361, 2362, 2363, 2364, 2365, 2366, 2367, 2368, 2369, 2370, 2371, 2372, 2373, 2374, 2375, 2376, 2377, 2378, 2379, 2380, 2381, 2382, 2383, 2384, 2385, 2386, 2387, 2388, 2389, 2390, 2391, 2392, 2393, 2394, 2395, 2396, 2397, 2398, 2399, 2400, 2401, 2402, 2403, 2404, 2405, 2406, 2407, 2408, 2409, 2410, 2411, 2412, 2413, 2414, 2415, 2416, 2417, 2418, 2419, 2420, 2421, 2422, 2423, 2424, 2425, 2426, 2427, 2428, 2429, 2430, 2431, 2432, 2433, 2434, 2435, 2436, 2437, 2438, 2439, 2440, 2441, 2442, 2443, 2444, 2445, 2446, 2447, 2448, 2449, 2450, 2451, 2452, 2453, 2454, 2455, 2456, 2457, 2458, 2459, 2460, 2461, 2462, 2463, 2464, 2465, 2466, 2467, 2468, 2469, 2470, 2471, 2472, 2473, 2474, 2475, 2476, 2477, 2478, 2479, 2480, 2481, 2482, 2483, 2484, 2485, 2486, 2487, 2488, 2489, 2490, 2491, 2492, 2493, 2494, 2495, 2496, 2497, 2498, 2499, 2500, 2501, 2502, 2503, 2504, 2505, 2506, 2507, 2508, 2509, 2510, 2511, 2512, 2513, 2514, 2515, 2516, 2517, 2518, 2519, 2520, 2521, 2522, 2523, 2524, 2525, 2526, 2527, 2528, 2529, 2530, 2531, 2532, 2533, 2534, 2535, 2536, 2537, 2538, 2539, 2540, 2541, 2542, 2543, 2544, 2545, 2546, 2547, 2548, 2549, 2550, 2551, 2552, 2553, 2554, 2555, 2556, 2557, 2558, 2559, 2560, 2561, 2562, 2563, 2564, 2565, 2566, 2567, 2568, 2569, 2570, 2571, 2572, 2573, 2574, 2575, 2576, 2577, 2578, 2579, 2580, 2581, 2582, 2583, 2584, 2585, 2586, 2587, 2588, 2589, 2590, 2591, 2592, 2593, 2594, 2595, 2596, 2597, 2598, 2599, 2600, 2601, 2602, 2603, 2604, 2605, 2606, 2607, 2608, 2609, 2610, 2611, 2612, 2613, 2614, 2615, 2616, 2617, 2618, 2619, 2620, 2621, 2622, 2623, 2624, 2625, 2626, 2627, 2628, 2629, 2630, 2631, 2632, 2633, 2634, 2635, 2636, 2637, 2638, 2639, 2640, 2641, 2642, 2643, 2644, 2645, 2646, 2647, 2648, 2649, 2650, 2651, 2652, 2653, 2654, 2655, 2656, 2657, 2658, 2659, 2660, 2661, 2662, 2663, 2664, 2665, 2666, 2667, 2668, 2669, 2670, 2671, 2672, 2673, 2674, 2675, 2676, 2677, 2678, 2679, 2680, 2681, 2682, 2683, 2684, 2685, 2686, 2687, 2688, 2689, 2690, 2691, 2692, 2693, 2694, 2695, 2696, 2697, 2698, 2699, 2700, 2701, 2702, 2703, 2704, 2705, 2706, 2707, 2708, 2709, 2710, 2711, 2712, 2713, 2714, 2715, 2716, 2717, 2718, 2719, 2720, 2721, 2722, 2723, 2724, 2725, 2726, 2727, 2728, 2729, 2730, 2731, 2732, 2733, 2734, 2735, 2736, 2737, 2738, 2739, 2740, 2741, 2742, 2743, 2744, 2745, 2746, 2747, 2748, 2749, 2750, 2751, 2752, 2753, 2754, 2755, 2756, 2757, 2758, 2759, 2760, 2761, 2762, 2763, 2764, 2765, 2766, 2767, 2768, 2769, 2770, 2771, 2772, 2773, 2774, 2775, 2776, 2777, 2778, 2779, 2780, 2781, 2782, 2783, 2784, 2785, 2786, 2787, 2788, 2789, 2790, 2791, 2792, 2793, 2794, 2795, 2796, 2797, 2798, 2799, 2800, 2801, 2802, 2803, 2804, 2805, 2806, 2807, 2808, 2809, 2810, 2811, 2812, 2813, 2814, 2815, 2816, 2817, 2818, 2819, 2820, 2821, 2822, 2823, 2824, 2825, 2826, 2827, 2828, 2829, 2830, 2831, 2832, 2833, 2834, 2835, 2836, 2837, 2838, 2839, 2840, 2841, 2842, 2843, 2844, 2845, 2846, 2847, 2848, 2849, 2850, 2851, 2852, 2853, 2854, 2855, 2856, 2857, 2858, 2859, 2860, 2861, 2862, 2863, 2864, 2865, 2866, 2867, 2868, 2869, 2870, 2871, 2872, 2873, 2874, 2875, 2876, 2877, 2878, 2879, 2880, 2881, 2882, 2883, 2884, 2885, 2886, 2887, 2888, 2889, 2890, 2891, 2892, 2893, 2894, 2895, 2896, 2897, 2898, 2899, 2900, 2901, 2902, 2903, 2904, 2905, 2906, 2907, 2908, 2909, 2910, 2911, 2912, 2913, 2914, 2915, 2916, 2917, 2918, 2919, 2920, 2921, 2922, 2923, 2924, 2925, 2926, 2927, 2928, 2929, 2930, 2931, 2932, 2933, 2934, 2935, 2936, 2937, 2938, 2939, 2940, 2941, 2942, 2943, 2944, 2945, 2946, 2947, 2948, 2949, 2950, 2951, 2952, 2953, 2954, 2955, 2956, 2957, 2958, 2959, 2960, 2961, 2962, 2963, 2964, 2965, 2966, 2967, 2968, 2969, 2970, 2971, 2972, 2973, 2974, 2975, 2976, 2977, 2978, 2979, 2980, 2981, 2982, 2983, 2984, 2985, 2986, 2987, 2988, 2989, 2990, 2991, 2992, 2993, 2994, 2995, 2996, 2997, 2998, 2999, 3000, 3001, 3002, 3003, 3004, 3005, 3006, 3007, 3008, 3009, 3010, 3011, 3012, 3013, 3014, 3015, 3016, 3017, 3018, 3019, 3020, 3021, 3022, 3023, 3024, 3025, 3026, 3027, 3028, 3029, 3030, 3031, 3032, 3033, 3034]\n"
          ]
        }
      ]
    },
    {
      "cell_type": "code",
      "source": [
        "dsc_up[2047, :]"
      ],
      "metadata": {
        "colab": {
          "base_uri": "https://localhost:8080/"
        },
        "id": "Q1Yv7r0dj-o-",
        "outputId": "76527fe6-b55c-4d60-a6a7-d859d318961f"
      },
      "execution_count": null,
      "outputs": [
        {
          "output_type": "execute_result",
          "data": {
            "text/plain": [
              "array([3358153, 3, 3, 3, 2, 3, 3, 4, 3, 1.0, 1.0, 0.0, 0.0, 0.0, 0.0, 0.0,\n",
              "       0.0, 0.0, 0.0, 0.0, 0.0, 0.0, 0.0, 2300, 3, 7.911861159554745, 5,\n",
              "       3, 24, '宋Pro', 5178, 40569, 7, '2019款 1.5T 自动豪华型', 40569],\n",
              "      dtype=object)"
            ]
          },
          "metadata": {},
          "execution_count": 32
        }
      ]
    },
    {
      "cell_type": "code",
      "source": [
        "# predict the new car of new performance for specific user\n",
        "# define the cars and the user\n",
        "row_car_dict = np.arange(0, num_cars)\n",
        "row_user_dst = [2047]\n",
        "new_car = car_unscaled[row_car_dict]\n",
        "new_user = gen_car_vecs(user_unscaled[row_user_dst], len(row_car_dict))\n",
        "\n",
        "# predict the new car of new performance\n",
        "new_user_scal = scalerUser.transform(new_user)\n",
        "new_car_scal = scalerCar.transform(new_car)\n",
        "new_car_predict = model.predict([[new_user_scal, new_car_scal]])\n",
        "print(f'target car is {dsc_up[row_user_dst, 33]}, car No. is {dsc_up[row_user_dst, 32]}')\n",
        "for i in range(len(row_car_dict)):\n",
        "    print(\n",
        "        f'{i} :'\n",
        "        f'{car_dict[row_car_dict, 91].reshape(-1, 1)[i]} : {np.round(new_car_predict[i],3)} : {np.round(new_car_predict[i], 0)}')"
      ],
      "metadata": {
        "id": "3FTLt7gHt3zV"
      },
      "execution_count": null,
      "outputs": []
    },
    {
      "cell_type": "code",
      "source": [
        "new_y_predict = np.zeros((new_car_predict.shape))\n",
        "new_y_predict [new_car_predict > 0.8] = 1\n",
        "new_y_true = np.zeros((new_y_predict.shape))\n",
        "new_y_true[row_car_dict == dsc_up[row_user_dst, 32]] = 1\n",
        "\n",
        "print(confusion_matrix(new_y_true, new_y_predict))\n",
        "print(classification_report(new_y_true, new_y_predict))\n"
      ],
      "metadata": {
        "colab": {
          "base_uri": "https://localhost:8080/"
        },
        "id": "6x8FD7Sdt4bC",
        "outputId": "574cbf4b-e0a8-4cf8-aa98-69733c3cfd50"
      },
      "execution_count": null,
      "outputs": [
        {
          "output_type": "stream",
          "name": "stdout",
          "text": [
            "[[186   4]\n",
            " [  0   1]]\n",
            "              precision    recall  f1-score   support\n",
            "\n",
            "         0.0       1.00      0.98      0.99       190\n",
            "         1.0       0.20      1.00      0.33         1\n",
            "\n",
            "    accuracy                           0.98       191\n",
            "   macro avg       0.60      0.99      0.66       191\n",
            "weighted avg       1.00      0.98      0.99       191\n",
            "\n"
          ]
        }
      ]
    },
    {
      "cell_type": "code",
      "source": [
        "dsc_up[row_user_dst, 32]"
      ],
      "metadata": {
        "colab": {
          "base_uri": "https://localhost:8080/"
        },
        "id": "-WY3LkDbADbg",
        "outputId": "cf743618-b9bf-4511-b4fb-f0f4c3b4d5ad"
      },
      "execution_count": null,
      "outputs": [
        {
          "output_type": "execute_result",
          "data": {
            "text/plain": [
              "array([7], dtype=object)"
            ]
          },
          "metadata": {},
          "execution_count": 36
        }
      ]
    },
    {
      "cell_type": "code",
      "source": [
        "new_y_predict_vs = np.concatenate((new_y_predict, new_y_true), axis=1)\n",
        "new_y_predict_vs = np.concatenate((new_car_predict, new_y_predict_vs), axis=1)\n",
        "new_y_predict_df = pd.DataFrame(new_y_predict_vs)\n",
        "new_y_predict_df.to_csv(r'/content/new_car_predict_vs.csv', encoding='UTF-8')"
      ],
      "metadata": {
        "id": "gplApG3yjI9P"
      },
      "execution_count": null,
      "outputs": []
    },
    {
      "cell_type": "markdown",
      "source": [],
      "metadata": {
        "id": "_fDejzC8R7oC"
      }
    },
    {
      "cell_type": "markdown",
      "source": [],
      "metadata": {
        "id": "MzhVNUg0Y0vr"
      }
    },
    {
      "cell_type": "code",
      "source": [],
      "metadata": {
        "id": "ArHhrLD_PzPR"
      },
      "execution_count": 49,
      "outputs": []
    },
    {
      "cell_type": "markdown",
      "source": [
        "基于某款车预测不同用户的购买倾向"
      ],
      "metadata": {
        "id": "xoHbNpq0R7ge"
      }
    },
    {
      "cell_type": "code",
      "source": [
        "row_car_dict = [7]\n",
        "row_user_dst = np.arange(0, num_users)\n",
        "new_car = gen_car_vecs(car_unscaled[row_car_dict], len(row_user_dst))\n",
        "new_user = user_unscaled[row_user_dst]\n",
        "\n",
        "new_user_scal = scalerUser.transform(new_user)\n",
        "new_car_scal = scalerCar.transform(new_car)\n",
        "new_car_predict = model.predict([[new_user_scal, new_car_scal]])\n",
        "\n",
        "print(f'target car is {car_dict[row_car_dict, 91]}, car No. is {car_dict[row_car_dict, 92]}')\n",
        "for i in range(min(len(row_user_dst), 200)):\n",
        "    print(\n",
        "        f'User{i} who has bought car:'\n",
        "        f'{dsc_up[row_user_dst, 29].reshape(-1, 1)[i]} : {np.round(new_car_predict[i],3)} : {np.round(new_car_predict[i], 0)}')"
      ],
      "metadata": {
        "id": "bIjPzfT7t7uL"
      },
      "execution_count": null,
      "outputs": []
    },
    {
      "cell_type": "code",
      "source": [
        "new_y_predict = np.zeros((new_car_predict.shape))\n",
        "new_y_predict [new_car_predict > 0.86] = 1\n",
        "new_y_true = np.zeros((new_y_predict.shape))\n",
        "new_y_true[dsc_up[row_user_dst, 32] == row_car_dict] = 1\n",
        "\n",
        "print(confusion_matrix(new_y_true, new_y_predict))\n",
        "print(classification_report(new_y_true, new_y_predict))"
      ],
      "metadata": {
        "colab": {
          "base_uri": "https://localhost:8080/"
        },
        "id": "CzeIxA3cTDwo",
        "outputId": "cd4da54c-0911-48ac-b16c-dd971578728b"
      },
      "execution_count": null,
      "outputs": [
        {
          "output_type": "stream",
          "name": "stdout",
          "text": [
            "[[29750 13445]\n",
            " [  212   788]]\n",
            "              precision    recall  f1-score   support\n",
            "\n",
            "         0.0       0.99      0.69      0.81     43195\n",
            "         1.0       0.06      0.79      0.10      1000\n",
            "\n",
            "    accuracy                           0.69     44195\n",
            "   macro avg       0.52      0.74      0.46     44195\n",
            "weighted avg       0.97      0.69      0.80     44195\n",
            "\n"
          ]
        }
      ]
    },
    {
      "cell_type": "code",
      "source": [
        "new_y_predict_vs = np.concatenate((new_y_predict, new_y_true), axis=1)\n",
        "new_y_predict_vs = np.concatenate((new_car_predict, new_y_predict_vs), axis=1)\n",
        "new_y_predict_vs = np.concatenate((dsc_up[row_user_dst, 32].reshape(-1, 1), new_y_predict_vs), axis=1)\n",
        "new_y_predict_df = pd.DataFrame(new_y_predict_vs)\n",
        "new_y_predict_df.to_csv(r'/content/new_user_predict_vs3.csv', encoding='UTF-8')"
      ],
      "metadata": {
        "id": "VJuVzJhAakQ0"
      },
      "execution_count": null,
      "outputs": []
    },
    {
      "cell_type": "code",
      "source": [
        "new_y_predict [new_car_predict > 0.86].shape"
      ],
      "metadata": {
        "colab": {
          "base_uri": "https://localhost:8080/"
        },
        "id": "hEMqclJRZ8k2",
        "outputId": "b600dbf5-3ec2-40b3-d0fe-3d09ddf57fae"
      },
      "execution_count": null,
      "outputs": [
        {
          "output_type": "execute_result",
          "data": {
            "text/plain": [
              "(14233,)"
            ]
          },
          "metadata": {},
          "execution_count": 51
        }
      ]
    },
    {
      "cell_type": "markdown",
      "source": [
        "修改某款车性能参数，预测不同用户的购买倾向"
      ],
      "metadata": {
        "id": "m9BeIok4Dj1Z"
      }
    },
    {
      "cell_type": "code",
      "source": [
        "# 32 宋DMIDMI110km\n",
        "# 56 低配影酷\n",
        "car_unscaled[56, 0]"
      ],
      "metadata": {
        "colab": {
          "base_uri": "https://localhost:8080/"
        },
        "id": "biFx0ndbN3yX",
        "outputId": "6db2fc31-b3a4-4ec3-bf71-2d70b3bf327d"
      },
      "execution_count": null,
      "outputs": [
        {
          "output_type": "execute_result",
          "data": {
            "text/plain": [
              "11.98"
            ]
          },
          "metadata": {},
          "execution_count": 52
        }
      ]
    },
    {
      "cell_type": "code",
      "source": [
        "# base car parameters\n",
        "row_car_dict = [56]\n",
        "row_user_dst = np.arange(0, num_users)\n",
        "new_car_one = car_unscaled[row_car_dict]\n",
        "print(new_car_one)"
      ],
      "metadata": {
        "colab": {
          "base_uri": "https://localhost:8080/"
        },
        "id": "wosc7IGXDs8Q",
        "outputId": "0eedf01e-f3fd-4dec-f44f-15e866ffbef0"
      },
      "execution_count": null,
      "outputs": [
        {
          "output_type": "stream",
          "name": "stdout",
          "text": [
            "[[11.98 7 1 2 1 0.0 0.0 130 270 1 190 8.35 0 735 3.0 350.0 165.0 350.0\n",
            "  0.0 0.0 1.0 0 0 0 1 1 0 0 4680 1901 1670 2750 1617 1610 1915 1500 5 1 2\n",
            "  2 1 1 1 1 1 1 1 1 1 0 0 0 1 1 1 4 1 1 3 1 4 1 1 1 1 0.0 1 3 1 1 1 1 1\n",
            "  7.0 0 39.1 58.1 59.5 66.7]]\n"
          ]
        }
      ]
    },
    {
      "cell_type": "code",
      "source": [
        "# modify the paramters of some car\n",
        "new_car_one[:, 0:14] = car_unscaled[32, 0:14]\n",
        "print(new_car_one)"
      ],
      "metadata": {
        "colab": {
          "base_uri": "https://localhost:8080/"
        },
        "id": "g_HJfG-dOZ69",
        "outputId": "c53553b7-c79e-49e1-82f1-9f185d1894cb"
      },
      "execution_count": null,
      "outputs": [
        {
          "output_type": "stream",
          "name": "stdout",
          "text": [
            "[[17.58 4 1 3 3 0.7 5.5 81 135 1 170 7.9 110 1443 3.0 350.0 165.0 350.0\n",
            "  0.0 0.0 1.0 0 0 0 1 1 0 0 4680 1901 1670 2750 1617 1610 1915 1500 5 1 2\n",
            "  2 1 1 1 1 1 1 1 1 1 0 0 0 1 1 1 4 1 1 3 1 4 1 1 1 1 0.0 1 3 1 1 1 1 1\n",
            "  7.0 0 39.1 58.1 59.5 66.7]]\n"
          ]
        }
      ]
    },
    {
      "cell_type": "code",
      "source": [
        "new_car = gen_car_vecs(new_car_one, len(row_user_dst))\n",
        "new_user = user_unscaled[row_user_dst]\n",
        "\n",
        "new_user_scal = scalerUser.transform(new_user)\n",
        "new_car_scal = scalerCar.transform(new_car)\n",
        "new_car_predict = model.predict([[new_user_scal, new_car_scal]])\n",
        "\n",
        "print(f'target car is {car_dict[row_car_dict, 81]}, car No. is {car_dict[row_car_dict, 82]}')\n",
        "for i in range(min(len(row_user_dst), 100)):\n",
        "    print(\n",
        "        f'User{i} who has bought car:'\n",
        "        f'{dsc_up[row_user_dst, 32].reshape(-1, 1)[i]} : {np.round(new_car_predict[i],3)} : {np.round(new_car_predict[i], 0)}')"
      ],
      "metadata": {
        "id": "kWFpzCTbDs3L"
      },
      "execution_count": null,
      "outputs": []
    },
    {
      "cell_type": "code",
      "source": [
        "new_y_predict_modify = np.concatenate((dsc_up[row_user_dst, 32].reshape(-1, 1), new_car_predict), axis=1)\n",
        "new_y_predict = np.zeros((new_car_predict.shape))\n",
        "new_y_predict [new_car_predict > 0.8] = 1\n",
        "new_y_predict_modify = np.concatenate((new_y_predict_modify, new_y_predict), axis=1)\n",
        "new_y_predict_modify_df = pd.DataFrame(new_y_predict_modify)\n",
        "new_y_predict_modify_df.to_csv(r'/content/new_user_predict_modify.csv', encoding='UTF-8')"
      ],
      "metadata": {
        "id": "O025K9n_DszM"
      },
      "execution_count": null,
      "outputs": []
    },
    {
      "cell_type": "code",
      "source": [
        "new_y_predict [new_car_predict > 0.8].shape"
      ],
      "metadata": {
        "colab": {
          "base_uri": "https://localhost:8080/"
        },
        "id": "A8VcND_HDstD",
        "outputId": "295bdc00-608f-4e0f-b97a-5ef90884e153"
      },
      "execution_count": null,
      "outputs": [
        {
          "output_type": "execute_result",
          "data": {
            "text/plain": [
              "(3196,)"
            ]
          },
          "metadata": {},
          "execution_count": 57
        }
      ]
    },
    {
      "cell_type": "code",
      "source": [
        "dsc_up.shape"
      ],
      "metadata": {
        "colab": {
          "base_uri": "https://localhost:8080/"
        },
        "id": "mhTebN0R4Kor",
        "outputId": "3cc1fbcd-e728-4059-be9c-a1b89e9a1eeb"
      },
      "execution_count": null,
      "outputs": [
        {
          "output_type": "execute_result",
          "data": {
            "text/plain": [
              "(9492, 33)"
            ]
          },
          "metadata": {},
          "execution_count": 58
        }
      ]
    },
    {
      "cell_type": "markdown",
      "source": [
        "**修改某款车参数为未来热销车型参数，预测原有用户是否购买**\n",
        "\n",
        "---\n",
        "\n",
        "\n",
        "\n",
        "---\n",
        "\n"
      ],
      "metadata": {
        "id": "frXIp0o_5W7_"
      }
    },
    {
      "cell_type": "code",
      "source": [],
      "metadata": {
        "id": "w79wCvNe5WHx"
      },
      "execution_count": null,
      "outputs": []
    },
    {
      "cell_type": "code",
      "source": [
        "dsc_up"
      ],
      "metadata": {
        "id": "qg_xKP4l1Dcu"
      },
      "execution_count": null,
      "outputs": []
    },
    {
      "cell_type": "code",
      "source": [
        "new_car = gen_car_vecs(new_car_one, len(row_user_dst))\n",
        "new_user = user_unscaled[row_user_dst]\n",
        "\n",
        "new_user_scal = scalerUser.transform(new_user)\n",
        "new_car_scal = scalerCar.transform(new_car)\n",
        "new_car_predict = model.predict([[new_user_scal, new_car_scal]])\n",
        "\n",
        "print(f'target car is {car_dict_pre[row_car_dict, 91]}, car No. is {car_dict_pre[row_car_dict, 91]}')\n",
        "for i in range(min(len(row_user_dst), 10000)):\n",
        "    print(\n",
        "        f'User{i} who has bought car:'\n",
        "        f'{dsc_up[row_user_dst, 29].reshape(-1, 1)[i]} : {np.round(new_car_predict[i],3)} : {np.round(new_car_predict[i], 0)}')"
      ],
      "metadata": {
        "colab": {
          "base_uri": "https://localhost:8080/",
          "height": 251
        },
        "id": "MhYSDdtR8GqJ",
        "outputId": "f412c24c-5ddb-4e2b-8400-f8778709d86c"
      },
      "execution_count": 57,
      "outputs": [
        {
          "output_type": "stream",
          "name": "stdout",
          "text": [
            "155/155 [==============================] - 0s 1ms/step\n"
          ]
        },
        {
          "output_type": "error",
          "ename": "NameError",
          "evalue": "ignored",
          "traceback": [
            "\u001b[0;31m---------------------------------------------------------------------------\u001b[0m",
            "\u001b[0;31mNameError\u001b[0m                                 Traceback (most recent call last)",
            "\u001b[0;32m<ipython-input-57-80eb0f1f1565>\u001b[0m in \u001b[0;36m<cell line: 8>\u001b[0;34m()\u001b[0m\n\u001b[1;32m      6\u001b[0m \u001b[0mnew_car_predict\u001b[0m \u001b[0;34m=\u001b[0m \u001b[0mmodel\u001b[0m\u001b[0;34m.\u001b[0m\u001b[0mpredict\u001b[0m\u001b[0;34m(\u001b[0m\u001b[0;34m[\u001b[0m\u001b[0;34m[\u001b[0m\u001b[0mnew_user_scal\u001b[0m\u001b[0;34m,\u001b[0m \u001b[0mnew_car_scal\u001b[0m\u001b[0;34m]\u001b[0m\u001b[0;34m]\u001b[0m\u001b[0;34m)\u001b[0m\u001b[0;34m\u001b[0m\u001b[0;34m\u001b[0m\u001b[0m\n\u001b[1;32m      7\u001b[0m \u001b[0;34m\u001b[0m\u001b[0m\n\u001b[0;32m----> 8\u001b[0;31m \u001b[0mprint\u001b[0m\u001b[0;34m(\u001b[0m\u001b[0;34mf'target car is {car_dict_pre[row_car_dict, 91]}, car No. is {car_dict_pre[row_car_dict, 91]}'\u001b[0m\u001b[0;34m)\u001b[0m\u001b[0;34m\u001b[0m\u001b[0;34m\u001b[0m\u001b[0m\n\u001b[0m\u001b[1;32m      9\u001b[0m \u001b[0;32mfor\u001b[0m \u001b[0mi\u001b[0m \u001b[0;32min\u001b[0m \u001b[0mrange\u001b[0m\u001b[0;34m(\u001b[0m\u001b[0mmin\u001b[0m\u001b[0;34m(\u001b[0m\u001b[0mlen\u001b[0m\u001b[0;34m(\u001b[0m\u001b[0mrow_user_dst\u001b[0m\u001b[0;34m)\u001b[0m\u001b[0;34m,\u001b[0m \u001b[0;36m10000\u001b[0m\u001b[0;34m)\u001b[0m\u001b[0;34m)\u001b[0m\u001b[0;34m:\u001b[0m\u001b[0;34m\u001b[0m\u001b[0;34m\u001b[0m\u001b[0m\n\u001b[1;32m     10\u001b[0m     print(\n",
            "\u001b[0;31mNameError\u001b[0m: name 'row_car_dict' is not defined"
          ]
        }
      ]
    },
    {
      "cell_type": "code",
      "source": [
        "new_car_predict[new_car_predict > 0.8] = 1\n",
        "new_y_predict_df = pd.DataFrame(new_car_predict)\n",
        "new_y_predict_df.to_csv(r'/content/new_user_predict.csv', encoding='UTF-8')"
      ],
      "metadata": {
        "id": "Z4rLPf3pUMPj"
      },
      "execution_count": 64,
      "outputs": []
    },
    {
      "cell_type": "code",
      "source": [
        "new_y_predict_modify = np.concatenate((dsc_up[row_user_dst, 29].reshape(-1, 1), new_car_predict), axis=1)\n",
        "new_y_predict = np.zeros((new_car_predict.shape))\n",
        "new_y_predict [new_car_predict > 0.8] = 1\n",
        "new_y_predict_modify = np.concatenate((new_y_predict_modify, new_y_predict), axis=1)\n",
        "new_y_predict_modify_df = pd.DataFrame(new_y_predict_modify)\n",
        "new_y_predict_modify_df.to_csv(r'/content/new_user_predict_modify_RAV4.csv', encoding='UTF-8')"
      ],
      "metadata": {
        "id": "DUrVkiWy8GnS"
      },
      "execution_count": null,
      "outputs": []
    },
    {
      "cell_type": "code",
      "source": [
        "new_y_predict [new_car_predict > 0.8].shape"
      ],
      "metadata": {
        "colab": {
          "base_uri": "https://localhost:8080/"
        },
        "id": "akdLbKlL8GkK",
        "outputId": "8e18b1a4-a127-4a84-88af-0785a20c18aa"
      },
      "execution_count": null,
      "outputs": [
        {
          "output_type": "execute_result",
          "data": {
            "text/plain": [
              "(6663,)"
            ]
          },
          "metadata": {},
          "execution_count": 63
        }
      ]
    },
    {
      "cell_type": "code",
      "source": [
        "dsc_up.shape"
      ],
      "metadata": {
        "colab": {
          "base_uri": "https://localhost:8080/"
        },
        "id": "8UMfWzBm8GhD",
        "outputId": "f64382e1-d52a-4f8f-a9e3-82264c5e364e"
      },
      "execution_count": null,
      "outputs": [
        {
          "output_type": "execute_result",
          "data": {
            "text/plain": [
              "(44195, 35)"
            ]
          },
          "metadata": {},
          "execution_count": 64
        }
      ]
    },
    {
      "cell_type": "code",
      "source": [],
      "metadata": {
        "id": "y7eA43nf8GeM"
      },
      "execution_count": null,
      "outputs": []
    },
    {
      "cell_type": "code",
      "source": [],
      "metadata": {
        "id": "MwfbF6Om8Gay"
      },
      "execution_count": null,
      "outputs": []
    },
    {
      "cell_type": "code",
      "source": [],
      "metadata": {
        "id": "cRyqKO5p8GXt"
      },
      "execution_count": null,
      "outputs": []
    },
    {
      "cell_type": "code",
      "source": [],
      "metadata": {
        "id": "LbzytBHy8GUz"
      },
      "execution_count": null,
      "outputs": []
    },
    {
      "cell_type": "code",
      "source": [],
      "metadata": {
        "id": "mbYaYtjg8GSX"
      },
      "execution_count": null,
      "outputs": []
    },
    {
      "cell_type": "code",
      "source": [],
      "metadata": {
        "id": "nst3neH88GEa"
      },
      "execution_count": null,
      "outputs": []
    },
    {
      "cell_type": "markdown",
      "source": [
        "修改用户地点，预测用户购买某款车的倾向变化"
      ],
      "metadata": {
        "id": "ztYZ7-9BIvZN"
      }
    },
    {
      "cell_type": "code",
      "source": [
        "row_car_dict = [11]\n",
        "row_user_dst = np.arange(0, num_users)\n",
        "new_car_one = car_unscaled[row_car_dict]\n",
        "new_car = gen_car_vecs(new_car_one, len(row_user_dst))\n",
        "new_user = user_unscaled[row_user_dst]"
      ],
      "metadata": {
        "id": "JsRnWUBADsdf"
      },
      "execution_count": null,
      "outputs": []
    },
    {
      "cell_type": "code",
      "source": [
        "# modify the place of users\n",
        "# 吉林：26 长春：295\n",
        "# 广东：1 广州：115\n",
        "# 广东：1 深圳：195\n",
        "new_user[:, (22,24)] = [(115, 1)]\n",
        "print(new_user[0:10,(22,24)])"
      ],
      "metadata": {
        "colab": {
          "base_uri": "https://localhost:8080/"
        },
        "id": "3ppv4qytJX_H",
        "outputId": "9d737fb9-2f23-4fb8-ff39-6d7b9322b4a1"
      },
      "execution_count": null,
      "outputs": [
        {
          "output_type": "stream",
          "name": "stdout",
          "text": [
            "[[115 1]\n",
            " [115 1]\n",
            " [115 1]\n",
            " [115 1]\n",
            " [115 1]\n",
            " [115 1]\n",
            " [115 1]\n",
            " [115 1]\n",
            " [115 1]\n",
            " [115 1]]\n"
          ]
        }
      ]
    },
    {
      "cell_type": "code",
      "source": [
        "new_user[0]"
      ],
      "metadata": {
        "colab": {
          "base_uri": "https://localhost:8080/"
        },
        "id": "V6KXW_VNYI8I",
        "outputId": "0201d7cd-61b0-4704-8423-f2f23c6749bc"
      },
      "execution_count": null,
      "outputs": [
        {
          "output_type": "execute_result",
          "data": {
            "text/plain": [
              "array([3, 3, 2, 3, 2, 3, 3, 3, 1.0, 0.0, 0.0, 0.0, 0.0, 0.0, 0.0, 0.0,\n",
              "       0.0, 0.0, 0.0, 0.0, 0.0, 100, 115, 12.383482437349597, 1, 0, 7],\n",
              "      dtype=object)"
            ]
          },
          "metadata": {},
          "execution_count": 61
        }
      ]
    },
    {
      "cell_type": "code",
      "source": [
        "new_user_scal = scalerUser.transform(new_user)\n",
        "new_car_scal = scalerCar.transform(new_car)\n",
        "new_car_predict = model.predict([[new_user_scal, new_car_scal]])\n",
        "\n",
        "print(f'target car is {car_dict[row_car_dict, 81]}, car No. is {car_dict[row_car_dict, 82]}')\n",
        "for i in range(min(len(row_user_dst), 100)):\n",
        "    print(\n",
        "        f'User{i} who has bought car:'\n",
        "        f'{dsc_up[row_user_dst, 32].reshape(-1, 1)[i]} : {np.round(new_car_predict[i],3)} : {np.round(new_car_predict[i], 0)}')"
      ],
      "metadata": {
        "id": "seRA_0J9LH_c"
      },
      "execution_count": null,
      "outputs": []
    },
    {
      "cell_type": "code",
      "source": [
        "threshold_p = 0.23\n",
        "new_y_predict [new_car_predict > threshold_p].shape"
      ],
      "metadata": {
        "colab": {
          "base_uri": "https://localhost:8080/"
        },
        "id": "Dzw5KdoiLSpN",
        "outputId": "d8ff529a-1780-4ca2-abf2-e03e19831b32"
      },
      "execution_count": null,
      "outputs": [
        {
          "output_type": "execute_result",
          "data": {
            "text/plain": [
              "(460,)"
            ]
          },
          "metadata": {},
          "execution_count": 63
        }
      ]
    },
    {
      "cell_type": "code",
      "source": [
        "num_users"
      ],
      "metadata": {
        "colab": {
          "base_uri": "https://localhost:8080/"
        },
        "id": "NjSDpjbXPq1J",
        "outputId": "0025d254-4538-4519-f18f-56802aae3cfa"
      },
      "execution_count": null,
      "outputs": [
        {
          "output_type": "execute_result",
          "data": {
            "text/plain": [
              "9492"
            ]
          },
          "metadata": {},
          "execution_count": 64
        }
      ]
    },
    {
      "cell_type": "code",
      "source": [
        "new_y_predict_modify = np.concatenate((dsc_up[row_user_dst, 32].reshape(-1, 1), new_car_predict), axis=1)\n",
        "new_y_predict = np.zeros((new_car_predict.shape))\n",
        "new_y_predict [new_car_predict > threshold_p] = 1\n",
        "new_y_predict_modify = np.concatenate((new_y_predict_modify, new_y_predict), axis=1)\n",
        "new_y_predict_modify_df = pd.DataFrame(new_y_predict_modify)\n",
        "new_y_predict_modify_df.to_csv(r'/content/new_user_predict_modify_place.csv', encoding='UTF-8')"
      ],
      "metadata": {
        "id": "VbUaglROaW49"
      },
      "execution_count": null,
      "outputs": []
    },
    {
      "cell_type": "markdown",
      "source": [
        "**others：**"
      ],
      "metadata": {
        "id": "NauogkcV9kuv"
      }
    },
    {
      "cell_type": "code",
      "source": [],
      "metadata": {
        "id": "TpGia9Jn9kWg"
      },
      "execution_count": null,
      "outputs": []
    },
    {
      "cell_type": "code",
      "source": [
        "new_car_predict = np.concatenate((new_car_predict, dsc_up[0:, 30].reshape(-1, 1)), axis=1)\n",
        "new_car_predict_df = pd.DataFrame(new_car_predict)\n",
        "new_car_predict_df.to_csv(r'/content/new_car_predict3.csv', encoding='UTF-8')"
      ],
      "metadata": {
        "id": "ir8FQxgSuBos"
      },
      "execution_count": null,
      "outputs": []
    },
    {
      "cell_type": "code",
      "source": [
        "a = np.array([0,1,2])\n",
        "b = np.array([1,2,3])\n",
        "print(np.dot(a,b))"
      ],
      "metadata": {
        "colab": {
          "base_uri": "https://localhost:8080/"
        },
        "id": "GdCIMoxIZL2D",
        "outputId": "d8ce5779-0791-443b-e38c-27ecf62e0fd5"
      },
      "execution_count": null,
      "outputs": [
        {
          "output_type": "stream",
          "name": "stdout",
          "text": [
            "8\n"
          ]
        }
      ]
    },
    {
      "cell_type": "markdown",
      "source": [
        "# **E8场景预测：针对爬取的已买MPV相关车型的用户，预测他们是否会购买E8**"
      ],
      "metadata": {
        "id": "DNVRMLlK5G0I"
      }
    },
    {
      "cell_type": "code",
      "source": [
        "e8_pre_df = pd.read_csv(r'/content/e8_para.csv')\n",
        "e8_pre_df = e8_pre_df.replace({np.NaN: 0})\n",
        "e8_pre = e8_pre_df.values\n",
        "e8_pre.shape\n"
      ],
      "metadata": {
        "colab": {
          "base_uri": "https://localhost:8080/"
        },
        "id": "BtElgafF5HNt",
        "outputId": "acfb4766-9383-435b-f276-3c2305fd5dd7"
      },
      "execution_count": 108,
      "outputs": [
        {
          "output_type": "execute_result",
          "data": {
            "text/plain": [
              "(1, 159)"
            ]
          },
          "metadata": {},
          "execution_count": 108
        }
      ]
    },
    {
      "cell_type": "code",
      "source": [
        "print(car_unscaled[0].shape)\n",
        "print(col_last_feature_car)"
      ],
      "metadata": {
        "colab": {
          "base_uri": "https://localhost:8080/"
        },
        "id": "LO2U_l0IpNVb",
        "outputId": "bb6eab46-63dc-4bfa-c9c8-b4e9d235aff1"
      },
      "execution_count": 109,
      "outputs": [
        {
          "output_type": "stream",
          "name": "stdout",
          "text": [
            "(156,)\n",
            "157\n"
          ]
        }
      ]
    },
    {
      "cell_type": "code",
      "source": [
        "e8_pre = e8_pre[:, 1:col_last_feature_car]\n",
        "print(e8_pre.shape)\n",
        "row_user_dst = np.arange(0, num_users)"
      ],
      "metadata": {
        "colab": {
          "base_uri": "https://localhost:8080/"
        },
        "id": "khF2PM3r5zKn",
        "outputId": "709a0d1d-9fe0-4d74-a1bf-512093d2268f"
      },
      "execution_count": 110,
      "outputs": [
        {
          "output_type": "stream",
          "name": "stdout",
          "text": [
            "(1, 156)\n"
          ]
        }
      ]
    },
    {
      "cell_type": "code",
      "source": [
        "new_car_one = e8_pre\n",
        "print(e8_pre)\n",
        "# new car parameters\n",
        "# row_car_dict = [61]\n",
        "# row_user_dst = np.arange(0, num_users)\n",
        "# new_car_one = car_pre_unscaled[row_car_dict]\n",
        "# print(new_car_one)"
      ],
      "metadata": {
        "id": "nB-RLEAe8Ggf"
      },
      "execution_count": null,
      "outputs": []
    },
    {
      "cell_type": "code",
      "source": [
        "print(new_car_one[0, 99])"
      ],
      "metadata": {
        "colab": {
          "base_uri": "https://localhost:8080/"
        },
        "id": "BFKsAg8sKT3w",
        "outputId": "42c88c6f-5458-431b-912e-c38f5ccb316e"
      },
      "execution_count": 113,
      "outputs": [
        {
          "output_type": "stream",
          "name": "stdout",
          "text": [
            "1.0\n"
          ]
        }
      ]
    },
    {
      "cell_type": "code",
      "source": [
        "print(row_user_dst.shape)\n",
        "print(new_user_scal.shape)\n",
        "print(new_car_scal.shape)"
      ],
      "metadata": {
        "colab": {
          "base_uri": "https://localhost:8080/"
        },
        "id": "5MTc-9pXpz38",
        "outputId": "59fde983-cc33-4912-938e-e812f753a4f7"
      },
      "execution_count": 114,
      "outputs": [
        {
          "output_type": "stream",
          "name": "stdout",
          "text": [
            "(4945,)\n",
            "(4945, 28)\n",
            "(4945, 156)\n"
          ]
        }
      ]
    },
    {
      "cell_type": "code",
      "source": [
        "new_car = gen_car_vecs(new_car_one, len(row_user_dst))\n",
        "new_user = user_unscaled[row_user_dst]\n",
        "\n",
        "new_user_scal = scalerUser.transform(new_user)\n",
        "new_car_scal = scalerCar.transform(new_car)\n",
        "new_car_predict = model.predict([[new_user_scal, new_car_scal]])\n",
        "\n"
      ],
      "metadata": {
        "colab": {
          "base_uri": "https://localhost:8080/"
        },
        "id": "bZkTIbf8BLAk",
        "outputId": "a503699d-48d1-4183-cebf-efe4fda80b2c"
      },
      "execution_count": 115,
      "outputs": [
        {
          "output_type": "stream",
          "name": "stdout",
          "text": [
            "155/155 [==============================] - 0s 1ms/step\n"
          ]
        }
      ]
    },
    {
      "cell_type": "code",
      "source": [
        "# print(f'target car is {car_dict_pre[row_car_dict, 91]}, car No. is {car_dict_pre[row_car_dict, 91]}')\n",
        "for i in range(min(len(row_user_dst), 10000)):\n",
        "    print(\n",
        "        f'User{i} who has bought car:'\n",
        "        f'{dsc_up[row_user_dst, 29].reshape(-1, 1)[i]} : {np.round(new_car_predict[i],3)} : {np.round(new_car_predict[i], 0)}')"
      ],
      "metadata": {
        "id": "OaqKnl0gDdMz"
      },
      "execution_count": null,
      "outputs": []
    },
    {
      "cell_type": "code",
      "source": [],
      "metadata": {
        "id": "9DgqUIGZJVGi"
      },
      "execution_count": null,
      "outputs": []
    },
    {
      "cell_type": "code",
      "source": [
        "new_car_predict = np.concatenate((new_car_predict, dsc_up[0:, 29].reshape(-1, 1)), axis=1)\n",
        "new_car_predict_df = pd.DataFrame(new_car_predict)\n",
        "new_car_predict_df.to_csv(r'/content/new_car_predict6.csv', encoding='UTF-8')"
      ],
      "metadata": {
        "id": "Sv0bYIMqDuzP"
      },
      "execution_count": 116,
      "outputs": []
    },
    {
      "cell_type": "code",
      "source": [
        "model.get_weights"
      ],
      "metadata": {
        "colab": {
          "base_uri": "https://localhost:8080/"
        },
        "id": "zk8lc-eSDuwQ",
        "outputId": "525a8264-a4cf-479b-ae71-d1a22e1b7f99"
      },
      "execution_count": 117,
      "outputs": [
        {
          "output_type": "execute_result",
          "data": {
            "text/plain": [
              "<bound method Model.get_weights of <keras.src.engine.functional.Functional object at 0x7be982e43280>>"
            ]
          },
          "metadata": {},
          "execution_count": 117
        }
      ]
    },
    {
      "cell_type": "code",
      "source": [],
      "metadata": {
        "id": "xr2FazYkDutP"
      },
      "execution_count": null,
      "outputs": []
    },
    {
      "cell_type": "code",
      "source": [],
      "metadata": {
        "id": "w0Zqx03tDup3"
      },
      "execution_count": null,
      "outputs": []
    },
    {
      "cell_type": "code",
      "source": [
        "new_user_scal.shape"
      ],
      "metadata": {
        "colab": {
          "base_uri": "https://localhost:8080/"
        },
        "id": "lk-KXl7bBaN9",
        "outputId": "d3b0565c-c52d-4769-f8f4-a30f7c386dcd"
      },
      "execution_count": 65,
      "outputs": [
        {
          "output_type": "execute_result",
          "data": {
            "text/plain": [
              "(4945, 28)"
            ]
          },
          "metadata": {},
          "execution_count": 65
        }
      ]
    },
    {
      "cell_type": "code",
      "source": [
        "ys_up[520]"
      ],
      "metadata": {
        "colab": {
          "base_uri": "https://localhost:8080/"
        },
        "id": "5fEatN4vCZUZ",
        "outputId": "2086abf0-fd90-414e-fa0e-303b00205bf2"
      },
      "execution_count": 71,
      "outputs": [
        {
          "output_type": "execute_result",
          "data": {
            "text/plain": [
              "23"
            ]
          },
          "metadata": {},
          "execution_count": 71
        }
      ]
    },
    {
      "cell_type": "code",
      "source": [
        "dsc_up[0,30]"
      ],
      "metadata": {
        "colab": {
          "base_uri": "https://localhost:8080/"
        },
        "id": "YVAKE7AmDRDw",
        "outputId": "59f111c7-798c-48ba-e3c8-1e4a0dcd7317"
      },
      "execution_count": 75,
      "outputs": [
        {
          "output_type": "execute_result",
          "data": {
            "text/plain": [
              "6650"
            ]
          },
          "metadata": {},
          "execution_count": 75
        }
      ]
    }
  ]
}