{
  "nbformat": 4,
  "nbformat_minor": 0,
  "metadata": {
    "colab": {
      "provenance": [],
      "machine_shape": "hm",
      "gpuType": "V100",
      "mount_file_id": "https://github.com/JasonDepblu/potential-spork/blob/main/new_model.ipynb",
      "authorship_tag": "ABX9TyPBXqJD2rXhuFWHV8migYzJ",
      "include_colab_link": true
    },
    "kernelspec": {
      "name": "python3",
      "display_name": "Python 3"
    },
    "language_info": {
      "name": "python"
    },
    "accelerator": "GPU",
    "widgets": {
      "application/vnd.jupyter.widget-state+json": {
        "24c5bc2c4a684b3ba08c38120f5a5b6d": {
          "model_module": "@jupyter-widgets/controls",
          "model_name": "HBoxModel",
          "model_module_version": "1.5.0",
          "state": {
            "_dom_classes": [],
            "_model_module": "@jupyter-widgets/controls",
            "_model_module_version": "1.5.0",
            "_model_name": "HBoxModel",
            "_view_count": null,
            "_view_module": "@jupyter-widgets/controls",
            "_view_module_version": "1.5.0",
            "_view_name": "HBoxView",
            "box_style": "",
            "children": [
              "IPY_MODEL_7f3dc818ef8249e3bbfe75854e9290c3",
              "IPY_MODEL_f04a1ce13e254cada699af588e8e9074",
              "IPY_MODEL_a0843ec0964342c99440c5f1776c85be"
            ],
            "layout": "IPY_MODEL_5c82b331920741e7b1f4df9a7dadea93"
          }
        },
        "7f3dc818ef8249e3bbfe75854e9290c3": {
          "model_module": "@jupyter-widgets/controls",
          "model_name": "HTMLModel",
          "model_module_version": "1.5.0",
          "state": {
            "_dom_classes": [],
            "_model_module": "@jupyter-widgets/controls",
            "_model_module_version": "1.5.0",
            "_model_name": "HTMLModel",
            "_view_count": null,
            "_view_module": "@jupyter-widgets/controls",
            "_view_module_version": "1.5.0",
            "_view_name": "HTMLView",
            "description": "",
            "description_tooltip": null,
            "layout": "IPY_MODEL_f80772fea82944de9204a07e147ef5f8",
            "placeholder": "​",
            "style": "IPY_MODEL_079ca872293849168c65cf2664680421",
            "value": "Downloading (…)okenizer_config.json: 100%"
          }
        },
        "f04a1ce13e254cada699af588e8e9074": {
          "model_module": "@jupyter-widgets/controls",
          "model_name": "FloatProgressModel",
          "model_module_version": "1.5.0",
          "state": {
            "_dom_classes": [],
            "_model_module": "@jupyter-widgets/controls",
            "_model_module_version": "1.5.0",
            "_model_name": "FloatProgressModel",
            "_view_count": null,
            "_view_module": "@jupyter-widgets/controls",
            "_view_module_version": "1.5.0",
            "_view_name": "ProgressView",
            "bar_style": "success",
            "description": "",
            "description_tooltip": null,
            "layout": "IPY_MODEL_17514b5ac14f454cb4cea31af4a6bcbb",
            "max": 446,
            "min": 0,
            "orientation": "horizontal",
            "style": "IPY_MODEL_32b63bfff1a840778150e27973f39bb5",
            "value": 446
          }
        },
        "a0843ec0964342c99440c5f1776c85be": {
          "model_module": "@jupyter-widgets/controls",
          "model_name": "HTMLModel",
          "model_module_version": "1.5.0",
          "state": {
            "_dom_classes": [],
            "_model_module": "@jupyter-widgets/controls",
            "_model_module_version": "1.5.0",
            "_model_name": "HTMLModel",
            "_view_count": null,
            "_view_module": "@jupyter-widgets/controls",
            "_view_module_version": "1.5.0",
            "_view_name": "HTMLView",
            "description": "",
            "description_tooltip": null,
            "layout": "IPY_MODEL_90e9bea651b44c2a8d1ecaaf0cb61773",
            "placeholder": "​",
            "style": "IPY_MODEL_83f5009597b440e0831a975e3f90a173",
            "value": " 446/446 [00:00&lt;00:00, 24.2kB/s]"
          }
        },
        "5c82b331920741e7b1f4df9a7dadea93": {
          "model_module": "@jupyter-widgets/base",
          "model_name": "LayoutModel",
          "model_module_version": "1.2.0",
          "state": {
            "_model_module": "@jupyter-widgets/base",
            "_model_module_version": "1.2.0",
            "_model_name": "LayoutModel",
            "_view_count": null,
            "_view_module": "@jupyter-widgets/base",
            "_view_module_version": "1.2.0",
            "_view_name": "LayoutView",
            "align_content": null,
            "align_items": null,
            "align_self": null,
            "border": null,
            "bottom": null,
            "display": null,
            "flex": null,
            "flex_flow": null,
            "grid_area": null,
            "grid_auto_columns": null,
            "grid_auto_flow": null,
            "grid_auto_rows": null,
            "grid_column": null,
            "grid_gap": null,
            "grid_row": null,
            "grid_template_areas": null,
            "grid_template_columns": null,
            "grid_template_rows": null,
            "height": null,
            "justify_content": null,
            "justify_items": null,
            "left": null,
            "margin": null,
            "max_height": null,
            "max_width": null,
            "min_height": null,
            "min_width": null,
            "object_fit": null,
            "object_position": null,
            "order": null,
            "overflow": null,
            "overflow_x": null,
            "overflow_y": null,
            "padding": null,
            "right": null,
            "top": null,
            "visibility": null,
            "width": null
          }
        },
        "f80772fea82944de9204a07e147ef5f8": {
          "model_module": "@jupyter-widgets/base",
          "model_name": "LayoutModel",
          "model_module_version": "1.2.0",
          "state": {
            "_model_module": "@jupyter-widgets/base",
            "_model_module_version": "1.2.0",
            "_model_name": "LayoutModel",
            "_view_count": null,
            "_view_module": "@jupyter-widgets/base",
            "_view_module_version": "1.2.0",
            "_view_name": "LayoutView",
            "align_content": null,
            "align_items": null,
            "align_self": null,
            "border": null,
            "bottom": null,
            "display": null,
            "flex": null,
            "flex_flow": null,
            "grid_area": null,
            "grid_auto_columns": null,
            "grid_auto_flow": null,
            "grid_auto_rows": null,
            "grid_column": null,
            "grid_gap": null,
            "grid_row": null,
            "grid_template_areas": null,
            "grid_template_columns": null,
            "grid_template_rows": null,
            "height": null,
            "justify_content": null,
            "justify_items": null,
            "left": null,
            "margin": null,
            "max_height": null,
            "max_width": null,
            "min_height": null,
            "min_width": null,
            "object_fit": null,
            "object_position": null,
            "order": null,
            "overflow": null,
            "overflow_x": null,
            "overflow_y": null,
            "padding": null,
            "right": null,
            "top": null,
            "visibility": null,
            "width": null
          }
        },
        "079ca872293849168c65cf2664680421": {
          "model_module": "@jupyter-widgets/controls",
          "model_name": "DescriptionStyleModel",
          "model_module_version": "1.5.0",
          "state": {
            "_model_module": "@jupyter-widgets/controls",
            "_model_module_version": "1.5.0",
            "_model_name": "DescriptionStyleModel",
            "_view_count": null,
            "_view_module": "@jupyter-widgets/base",
            "_view_module_version": "1.2.0",
            "_view_name": "StyleView",
            "description_width": ""
          }
        },
        "17514b5ac14f454cb4cea31af4a6bcbb": {
          "model_module": "@jupyter-widgets/base",
          "model_name": "LayoutModel",
          "model_module_version": "1.2.0",
          "state": {
            "_model_module": "@jupyter-widgets/base",
            "_model_module_version": "1.2.0",
            "_model_name": "LayoutModel",
            "_view_count": null,
            "_view_module": "@jupyter-widgets/base",
            "_view_module_version": "1.2.0",
            "_view_name": "LayoutView",
            "align_content": null,
            "align_items": null,
            "align_self": null,
            "border": null,
            "bottom": null,
            "display": null,
            "flex": null,
            "flex_flow": null,
            "grid_area": null,
            "grid_auto_columns": null,
            "grid_auto_flow": null,
            "grid_auto_rows": null,
            "grid_column": null,
            "grid_gap": null,
            "grid_row": null,
            "grid_template_areas": null,
            "grid_template_columns": null,
            "grid_template_rows": null,
            "height": null,
            "justify_content": null,
            "justify_items": null,
            "left": null,
            "margin": null,
            "max_height": null,
            "max_width": null,
            "min_height": null,
            "min_width": null,
            "object_fit": null,
            "object_position": null,
            "order": null,
            "overflow": null,
            "overflow_x": null,
            "overflow_y": null,
            "padding": null,
            "right": null,
            "top": null,
            "visibility": null,
            "width": null
          }
        },
        "32b63bfff1a840778150e27973f39bb5": {
          "model_module": "@jupyter-widgets/controls",
          "model_name": "ProgressStyleModel",
          "model_module_version": "1.5.0",
          "state": {
            "_model_module": "@jupyter-widgets/controls",
            "_model_module_version": "1.5.0",
            "_model_name": "ProgressStyleModel",
            "_view_count": null,
            "_view_module": "@jupyter-widgets/base",
            "_view_module_version": "1.2.0",
            "_view_name": "StyleView",
            "bar_color": null,
            "description_width": ""
          }
        },
        "90e9bea651b44c2a8d1ecaaf0cb61773": {
          "model_module": "@jupyter-widgets/base",
          "model_name": "LayoutModel",
          "model_module_version": "1.2.0",
          "state": {
            "_model_module": "@jupyter-widgets/base",
            "_model_module_version": "1.2.0",
            "_model_name": "LayoutModel",
            "_view_count": null,
            "_view_module": "@jupyter-widgets/base",
            "_view_module_version": "1.2.0",
            "_view_name": "LayoutView",
            "align_content": null,
            "align_items": null,
            "align_self": null,
            "border": null,
            "bottom": null,
            "display": null,
            "flex": null,
            "flex_flow": null,
            "grid_area": null,
            "grid_auto_columns": null,
            "grid_auto_flow": null,
            "grid_auto_rows": null,
            "grid_column": null,
            "grid_gap": null,
            "grid_row": null,
            "grid_template_areas": null,
            "grid_template_columns": null,
            "grid_template_rows": null,
            "height": null,
            "justify_content": null,
            "justify_items": null,
            "left": null,
            "margin": null,
            "max_height": null,
            "max_width": null,
            "min_height": null,
            "min_width": null,
            "object_fit": null,
            "object_position": null,
            "order": null,
            "overflow": null,
            "overflow_x": null,
            "overflow_y": null,
            "padding": null,
            "right": null,
            "top": null,
            "visibility": null,
            "width": null
          }
        },
        "83f5009597b440e0831a975e3f90a173": {
          "model_module": "@jupyter-widgets/controls",
          "model_name": "DescriptionStyleModel",
          "model_module_version": "1.5.0",
          "state": {
            "_model_module": "@jupyter-widgets/controls",
            "_model_module_version": "1.5.0",
            "_model_name": "DescriptionStyleModel",
            "_view_count": null,
            "_view_module": "@jupyter-widgets/base",
            "_view_module_version": "1.2.0",
            "_view_name": "StyleView",
            "description_width": ""
          }
        },
        "e6dbc912e705400cba1957428c99bbaf": {
          "model_module": "@jupyter-widgets/controls",
          "model_name": "HBoxModel",
          "model_module_version": "1.5.0",
          "state": {
            "_dom_classes": [],
            "_model_module": "@jupyter-widgets/controls",
            "_model_module_version": "1.5.0",
            "_model_name": "HBoxModel",
            "_view_count": null,
            "_view_module": "@jupyter-widgets/controls",
            "_view_module_version": "1.5.0",
            "_view_name": "HBoxView",
            "box_style": "",
            "children": [
              "IPY_MODEL_1011485866874b928e94ea962b27bc01",
              "IPY_MODEL_03ed93c511b448a7b2d3580fcf12edd4",
              "IPY_MODEL_442a335a099e4c44bd27098d4df6b8ff"
            ],
            "layout": "IPY_MODEL_3392deb758214833b6b6ded6d85982f8"
          }
        },
        "1011485866874b928e94ea962b27bc01": {
          "model_module": "@jupyter-widgets/controls",
          "model_name": "HTMLModel",
          "model_module_version": "1.5.0",
          "state": {
            "_dom_classes": [],
            "_model_module": "@jupyter-widgets/controls",
            "_model_module_version": "1.5.0",
            "_model_name": "HTMLModel",
            "_view_count": null,
            "_view_module": "@jupyter-widgets/controls",
            "_view_module_version": "1.5.0",
            "_view_name": "HTMLView",
            "description": "",
            "description_tooltip": null,
            "layout": "IPY_MODEL_592dae3fbfa24c4aa3654861bf80857c",
            "placeholder": "​",
            "style": "IPY_MODEL_231ddd35487644699aae99ab200fae46",
            "value": "Downloading (…)solve/main/vocab.txt: 100%"
          }
        },
        "03ed93c511b448a7b2d3580fcf12edd4": {
          "model_module": "@jupyter-widgets/controls",
          "model_name": "FloatProgressModel",
          "model_module_version": "1.5.0",
          "state": {
            "_dom_classes": [],
            "_model_module": "@jupyter-widgets/controls",
            "_model_module_version": "1.5.0",
            "_model_name": "FloatProgressModel",
            "_view_count": null,
            "_view_module": "@jupyter-widgets/controls",
            "_view_module_version": "1.5.0",
            "_view_name": "ProgressView",
            "bar_style": "success",
            "description": "",
            "description_tooltip": null,
            "layout": "IPY_MODEL_156a14d85c054016ae60402702eda3cc",
            "max": 53514,
            "min": 0,
            "orientation": "horizontal",
            "style": "IPY_MODEL_c94b0d0c41864d62a976c04b7929a3e7",
            "value": 53514
          }
        },
        "442a335a099e4c44bd27098d4df6b8ff": {
          "model_module": "@jupyter-widgets/controls",
          "model_name": "HTMLModel",
          "model_module_version": "1.5.0",
          "state": {
            "_dom_classes": [],
            "_model_module": "@jupyter-widgets/controls",
            "_model_module_version": "1.5.0",
            "_model_name": "HTMLModel",
            "_view_count": null,
            "_view_module": "@jupyter-widgets/controls",
            "_view_module_version": "1.5.0",
            "_view_name": "HTMLView",
            "description": "",
            "description_tooltip": null,
            "layout": "IPY_MODEL_fd59beea2e844d2bb45f146e607beba2",
            "placeholder": "​",
            "style": "IPY_MODEL_a6baee6b3ad144fcafb0cf4806ab3a2e",
            "value": " 53.5k/53.5k [00:00&lt;00:00, 548kB/s]"
          }
        },
        "3392deb758214833b6b6ded6d85982f8": {
          "model_module": "@jupyter-widgets/base",
          "model_name": "LayoutModel",
          "model_module_version": "1.2.0",
          "state": {
            "_model_module": "@jupyter-widgets/base",
            "_model_module_version": "1.2.0",
            "_model_name": "LayoutModel",
            "_view_count": null,
            "_view_module": "@jupyter-widgets/base",
            "_view_module_version": "1.2.0",
            "_view_name": "LayoutView",
            "align_content": null,
            "align_items": null,
            "align_self": null,
            "border": null,
            "bottom": null,
            "display": null,
            "flex": null,
            "flex_flow": null,
            "grid_area": null,
            "grid_auto_columns": null,
            "grid_auto_flow": null,
            "grid_auto_rows": null,
            "grid_column": null,
            "grid_gap": null,
            "grid_row": null,
            "grid_template_areas": null,
            "grid_template_columns": null,
            "grid_template_rows": null,
            "height": null,
            "justify_content": null,
            "justify_items": null,
            "left": null,
            "margin": null,
            "max_height": null,
            "max_width": null,
            "min_height": null,
            "min_width": null,
            "object_fit": null,
            "object_position": null,
            "order": null,
            "overflow": null,
            "overflow_x": null,
            "overflow_y": null,
            "padding": null,
            "right": null,
            "top": null,
            "visibility": null,
            "width": null
          }
        },
        "592dae3fbfa24c4aa3654861bf80857c": {
          "model_module": "@jupyter-widgets/base",
          "model_name": "LayoutModel",
          "model_module_version": "1.2.0",
          "state": {
            "_model_module": "@jupyter-widgets/base",
            "_model_module_version": "1.2.0",
            "_model_name": "LayoutModel",
            "_view_count": null,
            "_view_module": "@jupyter-widgets/base",
            "_view_module_version": "1.2.0",
            "_view_name": "LayoutView",
            "align_content": null,
            "align_items": null,
            "align_self": null,
            "border": null,
            "bottom": null,
            "display": null,
            "flex": null,
            "flex_flow": null,
            "grid_area": null,
            "grid_auto_columns": null,
            "grid_auto_flow": null,
            "grid_auto_rows": null,
            "grid_column": null,
            "grid_gap": null,
            "grid_row": null,
            "grid_template_areas": null,
            "grid_template_columns": null,
            "grid_template_rows": null,
            "height": null,
            "justify_content": null,
            "justify_items": null,
            "left": null,
            "margin": null,
            "max_height": null,
            "max_width": null,
            "min_height": null,
            "min_width": null,
            "object_fit": null,
            "object_position": null,
            "order": null,
            "overflow": null,
            "overflow_x": null,
            "overflow_y": null,
            "padding": null,
            "right": null,
            "top": null,
            "visibility": null,
            "width": null
          }
        },
        "231ddd35487644699aae99ab200fae46": {
          "model_module": "@jupyter-widgets/controls",
          "model_name": "DescriptionStyleModel",
          "model_module_version": "1.5.0",
          "state": {
            "_model_module": "@jupyter-widgets/controls",
            "_model_module_version": "1.5.0",
            "_model_name": "DescriptionStyleModel",
            "_view_count": null,
            "_view_module": "@jupyter-widgets/base",
            "_view_module_version": "1.2.0",
            "_view_name": "StyleView",
            "description_width": ""
          }
        },
        "156a14d85c054016ae60402702eda3cc": {
          "model_module": "@jupyter-widgets/base",
          "model_name": "LayoutModel",
          "model_module_version": "1.2.0",
          "state": {
            "_model_module": "@jupyter-widgets/base",
            "_model_module_version": "1.2.0",
            "_model_name": "LayoutModel",
            "_view_count": null,
            "_view_module": "@jupyter-widgets/base",
            "_view_module_version": "1.2.0",
            "_view_name": "LayoutView",
            "align_content": null,
            "align_items": null,
            "align_self": null,
            "border": null,
            "bottom": null,
            "display": null,
            "flex": null,
            "flex_flow": null,
            "grid_area": null,
            "grid_auto_columns": null,
            "grid_auto_flow": null,
            "grid_auto_rows": null,
            "grid_column": null,
            "grid_gap": null,
            "grid_row": null,
            "grid_template_areas": null,
            "grid_template_columns": null,
            "grid_template_rows": null,
            "height": null,
            "justify_content": null,
            "justify_items": null,
            "left": null,
            "margin": null,
            "max_height": null,
            "max_width": null,
            "min_height": null,
            "min_width": null,
            "object_fit": null,
            "object_position": null,
            "order": null,
            "overflow": null,
            "overflow_x": null,
            "overflow_y": null,
            "padding": null,
            "right": null,
            "top": null,
            "visibility": null,
            "width": null
          }
        },
        "c94b0d0c41864d62a976c04b7929a3e7": {
          "model_module": "@jupyter-widgets/controls",
          "model_name": "ProgressStyleModel",
          "model_module_version": "1.5.0",
          "state": {
            "_model_module": "@jupyter-widgets/controls",
            "_model_module_version": "1.5.0",
            "_model_name": "ProgressStyleModel",
            "_view_count": null,
            "_view_module": "@jupyter-widgets/base",
            "_view_module_version": "1.2.0",
            "_view_name": "StyleView",
            "bar_color": null,
            "description_width": ""
          }
        },
        "fd59beea2e844d2bb45f146e607beba2": {
          "model_module": "@jupyter-widgets/base",
          "model_name": "LayoutModel",
          "model_module_version": "1.2.0",
          "state": {
            "_model_module": "@jupyter-widgets/base",
            "_model_module_version": "1.2.0",
            "_model_name": "LayoutModel",
            "_view_count": null,
            "_view_module": "@jupyter-widgets/base",
            "_view_module_version": "1.2.0",
            "_view_name": "LayoutView",
            "align_content": null,
            "align_items": null,
            "align_self": null,
            "border": null,
            "bottom": null,
            "display": null,
            "flex": null,
            "flex_flow": null,
            "grid_area": null,
            "grid_auto_columns": null,
            "grid_auto_flow": null,
            "grid_auto_rows": null,
            "grid_column": null,
            "grid_gap": null,
            "grid_row": null,
            "grid_template_areas": null,
            "grid_template_columns": null,
            "grid_template_rows": null,
            "height": null,
            "justify_content": null,
            "justify_items": null,
            "left": null,
            "margin": null,
            "max_height": null,
            "max_width": null,
            "min_height": null,
            "min_width": null,
            "object_fit": null,
            "object_position": null,
            "order": null,
            "overflow": null,
            "overflow_x": null,
            "overflow_y": null,
            "padding": null,
            "right": null,
            "top": null,
            "visibility": null,
            "width": null
          }
        },
        "a6baee6b3ad144fcafb0cf4806ab3a2e": {
          "model_module": "@jupyter-widgets/controls",
          "model_name": "DescriptionStyleModel",
          "model_module_version": "1.5.0",
          "state": {
            "_model_module": "@jupyter-widgets/controls",
            "_model_module_version": "1.5.0",
            "_model_name": "DescriptionStyleModel",
            "_view_count": null,
            "_view_module": "@jupyter-widgets/base",
            "_view_module_version": "1.2.0",
            "_view_name": "StyleView",
            "description_width": ""
          }
        },
        "8a1d24d653bd4903994a068f20c4db05": {
          "model_module": "@jupyter-widgets/controls",
          "model_name": "HBoxModel",
          "model_module_version": "1.5.0",
          "state": {
            "_dom_classes": [],
            "_model_module": "@jupyter-widgets/controls",
            "_model_module_version": "1.5.0",
            "_model_name": "HBoxModel",
            "_view_count": null,
            "_view_module": "@jupyter-widgets/controls",
            "_view_module_version": "1.5.0",
            "_view_name": "HBoxView",
            "box_style": "",
            "children": [
              "IPY_MODEL_6c24d7ffed1549358a792a81771ad887",
              "IPY_MODEL_705630e4360f4f238d1f380a0d2bb082",
              "IPY_MODEL_9d07129bd9254a9d9c973cbb3345b1be"
            ],
            "layout": "IPY_MODEL_7ab1ac901490478c85d38136f1e12a30"
          }
        },
        "6c24d7ffed1549358a792a81771ad887": {
          "model_module": "@jupyter-widgets/controls",
          "model_name": "HTMLModel",
          "model_module_version": "1.5.0",
          "state": {
            "_dom_classes": [],
            "_model_module": "@jupyter-widgets/controls",
            "_model_module_version": "1.5.0",
            "_model_name": "HTMLModel",
            "_view_count": null,
            "_view_module": "@jupyter-widgets/controls",
            "_view_module_version": "1.5.0",
            "_view_name": "HTMLView",
            "description": "",
            "description_tooltip": null,
            "layout": "IPY_MODEL_31cc79892bf640bbbe679d717a5c2bbc",
            "placeholder": "​",
            "style": "IPY_MODEL_0fd6c6a1ae9b440690ac0da55e6cd916",
            "value": "Downloading (…)lve/main/config.json: 100%"
          }
        },
        "705630e4360f4f238d1f380a0d2bb082": {
          "model_module": "@jupyter-widgets/controls",
          "model_name": "FloatProgressModel",
          "model_module_version": "1.5.0",
          "state": {
            "_dom_classes": [],
            "_model_module": "@jupyter-widgets/controls",
            "_model_module_version": "1.5.0",
            "_model_name": "FloatProgressModel",
            "_view_count": null,
            "_view_module": "@jupyter-widgets/controls",
            "_view_module_version": "1.5.0",
            "_view_name": "ProgressView",
            "bar_style": "success",
            "description": "",
            "description_tooltip": null,
            "layout": "IPY_MODEL_feeae10d64d54a708562632e85d04da8",
            "max": 598,
            "min": 0,
            "orientation": "horizontal",
            "style": "IPY_MODEL_8235e8704ae945589d7c8b3f97653ddb",
            "value": 598
          }
        },
        "9d07129bd9254a9d9c973cbb3345b1be": {
          "model_module": "@jupyter-widgets/controls",
          "model_name": "HTMLModel",
          "model_module_version": "1.5.0",
          "state": {
            "_dom_classes": [],
            "_model_module": "@jupyter-widgets/controls",
            "_model_module_version": "1.5.0",
            "_model_name": "HTMLModel",
            "_view_count": null,
            "_view_module": "@jupyter-widgets/controls",
            "_view_module_version": "1.5.0",
            "_view_name": "HTMLView",
            "description": "",
            "description_tooltip": null,
            "layout": "IPY_MODEL_b20ab24a4dfa46cb8b4563828f600093",
            "placeholder": "​",
            "style": "IPY_MODEL_775a0baa8bfa4fa7b59fc1d9f59d915e",
            "value": " 598/598 [00:00&lt;00:00, 54.4kB/s]"
          }
        },
        "7ab1ac901490478c85d38136f1e12a30": {
          "model_module": "@jupyter-widgets/base",
          "model_name": "LayoutModel",
          "model_module_version": "1.2.0",
          "state": {
            "_model_module": "@jupyter-widgets/base",
            "_model_module_version": "1.2.0",
            "_model_name": "LayoutModel",
            "_view_count": null,
            "_view_module": "@jupyter-widgets/base",
            "_view_module_version": "1.2.0",
            "_view_name": "LayoutView",
            "align_content": null,
            "align_items": null,
            "align_self": null,
            "border": null,
            "bottom": null,
            "display": null,
            "flex": null,
            "flex_flow": null,
            "grid_area": null,
            "grid_auto_columns": null,
            "grid_auto_flow": null,
            "grid_auto_rows": null,
            "grid_column": null,
            "grid_gap": null,
            "grid_row": null,
            "grid_template_areas": null,
            "grid_template_columns": null,
            "grid_template_rows": null,
            "height": null,
            "justify_content": null,
            "justify_items": null,
            "left": null,
            "margin": null,
            "max_height": null,
            "max_width": null,
            "min_height": null,
            "min_width": null,
            "object_fit": null,
            "object_position": null,
            "order": null,
            "overflow": null,
            "overflow_x": null,
            "overflow_y": null,
            "padding": null,
            "right": null,
            "top": null,
            "visibility": null,
            "width": null
          }
        },
        "31cc79892bf640bbbe679d717a5c2bbc": {
          "model_module": "@jupyter-widgets/base",
          "model_name": "LayoutModel",
          "model_module_version": "1.2.0",
          "state": {
            "_model_module": "@jupyter-widgets/base",
            "_model_module_version": "1.2.0",
            "_model_name": "LayoutModel",
            "_view_count": null,
            "_view_module": "@jupyter-widgets/base",
            "_view_module_version": "1.2.0",
            "_view_name": "LayoutView",
            "align_content": null,
            "align_items": null,
            "align_self": null,
            "border": null,
            "bottom": null,
            "display": null,
            "flex": null,
            "flex_flow": null,
            "grid_area": null,
            "grid_auto_columns": null,
            "grid_auto_flow": null,
            "grid_auto_rows": null,
            "grid_column": null,
            "grid_gap": null,
            "grid_row": null,
            "grid_template_areas": null,
            "grid_template_columns": null,
            "grid_template_rows": null,
            "height": null,
            "justify_content": null,
            "justify_items": null,
            "left": null,
            "margin": null,
            "max_height": null,
            "max_width": null,
            "min_height": null,
            "min_width": null,
            "object_fit": null,
            "object_position": null,
            "order": null,
            "overflow": null,
            "overflow_x": null,
            "overflow_y": null,
            "padding": null,
            "right": null,
            "top": null,
            "visibility": null,
            "width": null
          }
        },
        "0fd6c6a1ae9b440690ac0da55e6cd916": {
          "model_module": "@jupyter-widgets/controls",
          "model_name": "DescriptionStyleModel",
          "model_module_version": "1.5.0",
          "state": {
            "_model_module": "@jupyter-widgets/controls",
            "_model_module_version": "1.5.0",
            "_model_name": "DescriptionStyleModel",
            "_view_count": null,
            "_view_module": "@jupyter-widgets/base",
            "_view_module_version": "1.2.0",
            "_view_name": "StyleView",
            "description_width": ""
          }
        },
        "feeae10d64d54a708562632e85d04da8": {
          "model_module": "@jupyter-widgets/base",
          "model_name": "LayoutModel",
          "model_module_version": "1.2.0",
          "state": {
            "_model_module": "@jupyter-widgets/base",
            "_model_module_version": "1.2.0",
            "_model_name": "LayoutModel",
            "_view_count": null,
            "_view_module": "@jupyter-widgets/base",
            "_view_module_version": "1.2.0",
            "_view_name": "LayoutView",
            "align_content": null,
            "align_items": null,
            "align_self": null,
            "border": null,
            "bottom": null,
            "display": null,
            "flex": null,
            "flex_flow": null,
            "grid_area": null,
            "grid_auto_columns": null,
            "grid_auto_flow": null,
            "grid_auto_rows": null,
            "grid_column": null,
            "grid_gap": null,
            "grid_row": null,
            "grid_template_areas": null,
            "grid_template_columns": null,
            "grid_template_rows": null,
            "height": null,
            "justify_content": null,
            "justify_items": null,
            "left": null,
            "margin": null,
            "max_height": null,
            "max_width": null,
            "min_height": null,
            "min_width": null,
            "object_fit": null,
            "object_position": null,
            "order": null,
            "overflow": null,
            "overflow_x": null,
            "overflow_y": null,
            "padding": null,
            "right": null,
            "top": null,
            "visibility": null,
            "width": null
          }
        },
        "8235e8704ae945589d7c8b3f97653ddb": {
          "model_module": "@jupyter-widgets/controls",
          "model_name": "ProgressStyleModel",
          "model_module_version": "1.5.0",
          "state": {
            "_model_module": "@jupyter-widgets/controls",
            "_model_module_version": "1.5.0",
            "_model_name": "ProgressStyleModel",
            "_view_count": null,
            "_view_module": "@jupyter-widgets/base",
            "_view_module_version": "1.2.0",
            "_view_name": "StyleView",
            "bar_color": null,
            "description_width": ""
          }
        },
        "b20ab24a4dfa46cb8b4563828f600093": {
          "model_module": "@jupyter-widgets/base",
          "model_name": "LayoutModel",
          "model_module_version": "1.2.0",
          "state": {
            "_model_module": "@jupyter-widgets/base",
            "_model_module_version": "1.2.0",
            "_model_name": "LayoutModel",
            "_view_count": null,
            "_view_module": "@jupyter-widgets/base",
            "_view_module_version": "1.2.0",
            "_view_name": "LayoutView",
            "align_content": null,
            "align_items": null,
            "align_self": null,
            "border": null,
            "bottom": null,
            "display": null,
            "flex": null,
            "flex_flow": null,
            "grid_area": null,
            "grid_auto_columns": null,
            "grid_auto_flow": null,
            "grid_auto_rows": null,
            "grid_column": null,
            "grid_gap": null,
            "grid_row": null,
            "grid_template_areas": null,
            "grid_template_columns": null,
            "grid_template_rows": null,
            "height": null,
            "justify_content": null,
            "justify_items": null,
            "left": null,
            "margin": null,
            "max_height": null,
            "max_width": null,
            "min_height": null,
            "min_width": null,
            "object_fit": null,
            "object_position": null,
            "order": null,
            "overflow": null,
            "overflow_x": null,
            "overflow_y": null,
            "padding": null,
            "right": null,
            "top": null,
            "visibility": null,
            "width": null
          }
        },
        "775a0baa8bfa4fa7b59fc1d9f59d915e": {
          "model_module": "@jupyter-widgets/controls",
          "model_name": "DescriptionStyleModel",
          "model_module_version": "1.5.0",
          "state": {
            "_model_module": "@jupyter-widgets/controls",
            "_model_module_version": "1.5.0",
            "_model_name": "DescriptionStyleModel",
            "_view_count": null,
            "_view_module": "@jupyter-widgets/base",
            "_view_module_version": "1.2.0",
            "_view_name": "StyleView",
            "description_width": ""
          }
        },
        "19df0c3ebd684c16b1314a3dd6bb7ad1": {
          "model_module": "@jupyter-widgets/controls",
          "model_name": "HBoxModel",
          "model_module_version": "1.5.0",
          "state": {
            "_dom_classes": [],
            "_model_module": "@jupyter-widgets/controls",
            "_model_module_version": "1.5.0",
            "_model_name": "HBoxModel",
            "_view_count": null,
            "_view_module": "@jupyter-widgets/controls",
            "_view_module_version": "1.5.0",
            "_view_name": "HBoxView",
            "box_style": "",
            "children": [
              "IPY_MODEL_5379d98497a1495abcebd237e0006ced",
              "IPY_MODEL_a7bc22eb017a45449b1d4171ecae7da3",
              "IPY_MODEL_54a123a88e50488ea2c9eef0b100e53f"
            ],
            "layout": "IPY_MODEL_f02fd175feb54ee1acdcd0bcb2b35b4b"
          }
        },
        "5379d98497a1495abcebd237e0006ced": {
          "model_module": "@jupyter-widgets/controls",
          "model_name": "HTMLModel",
          "model_module_version": "1.5.0",
          "state": {
            "_dom_classes": [],
            "_model_module": "@jupyter-widgets/controls",
            "_model_module_version": "1.5.0",
            "_model_name": "HTMLModel",
            "_view_count": null,
            "_view_module": "@jupyter-widgets/controls",
            "_view_module_version": "1.5.0",
            "_view_name": "HTMLView",
            "description": "",
            "description_tooltip": null,
            "layout": "IPY_MODEL_79079655321f457584981ff2c2f9ebb6",
            "placeholder": "​",
            "style": "IPY_MODEL_9cdb7652eb8046ac9b113d33b625080b",
            "value": "Downloading pytorch_model.bin: 100%"
          }
        },
        "a7bc22eb017a45449b1d4171ecae7da3": {
          "model_module": "@jupyter-widgets/controls",
          "model_name": "FloatProgressModel",
          "model_module_version": "1.5.0",
          "state": {
            "_dom_classes": [],
            "_model_module": "@jupyter-widgets/controls",
            "_model_module_version": "1.5.0",
            "_model_name": "FloatProgressModel",
            "_view_count": null,
            "_view_module": "@jupyter-widgets/controls",
            "_view_module_version": "1.5.0",
            "_view_name": "ProgressView",
            "bar_style": "success",
            "description": "",
            "description_tooltip": null,
            "layout": "IPY_MODEL_5d417c00ec124ead856b516225dca7d4",
            "max": 1257173220,
            "min": 0,
            "orientation": "horizontal",
            "style": "IPY_MODEL_c5de58db9ba34ef4911b7edb1f5b4291",
            "value": 1257173220
          }
        },
        "54a123a88e50488ea2c9eef0b100e53f": {
          "model_module": "@jupyter-widgets/controls",
          "model_name": "HTMLModel",
          "model_module_version": "1.5.0",
          "state": {
            "_dom_classes": [],
            "_model_module": "@jupyter-widgets/controls",
            "_model_module_version": "1.5.0",
            "_model_name": "HTMLModel",
            "_view_count": null,
            "_view_module": "@jupyter-widgets/controls",
            "_view_module_version": "1.5.0",
            "_view_name": "HTMLView",
            "description": "",
            "description_tooltip": null,
            "layout": "IPY_MODEL_c5b0d60b72ed49cebc50b69f84703c92",
            "placeholder": "​",
            "style": "IPY_MODEL_f3c53c0669fd45b29064536b1d22482c",
            "value": " 1.26G/1.26G [00:34&lt;00:00, 36.6MB/s]"
          }
        },
        "f02fd175feb54ee1acdcd0bcb2b35b4b": {
          "model_module": "@jupyter-widgets/base",
          "model_name": "LayoutModel",
          "model_module_version": "1.2.0",
          "state": {
            "_model_module": "@jupyter-widgets/base",
            "_model_module_version": "1.2.0",
            "_model_name": "LayoutModel",
            "_view_count": null,
            "_view_module": "@jupyter-widgets/base",
            "_view_module_version": "1.2.0",
            "_view_name": "LayoutView",
            "align_content": null,
            "align_items": null,
            "align_self": null,
            "border": null,
            "bottom": null,
            "display": null,
            "flex": null,
            "flex_flow": null,
            "grid_area": null,
            "grid_auto_columns": null,
            "grid_auto_flow": null,
            "grid_auto_rows": null,
            "grid_column": null,
            "grid_gap": null,
            "grid_row": null,
            "grid_template_areas": null,
            "grid_template_columns": null,
            "grid_template_rows": null,
            "height": null,
            "justify_content": null,
            "justify_items": null,
            "left": null,
            "margin": null,
            "max_height": null,
            "max_width": null,
            "min_height": null,
            "min_width": null,
            "object_fit": null,
            "object_position": null,
            "order": null,
            "overflow": null,
            "overflow_x": null,
            "overflow_y": null,
            "padding": null,
            "right": null,
            "top": null,
            "visibility": null,
            "width": null
          }
        },
        "79079655321f457584981ff2c2f9ebb6": {
          "model_module": "@jupyter-widgets/base",
          "model_name": "LayoutModel",
          "model_module_version": "1.2.0",
          "state": {
            "_model_module": "@jupyter-widgets/base",
            "_model_module_version": "1.2.0",
            "_model_name": "LayoutModel",
            "_view_count": null,
            "_view_module": "@jupyter-widgets/base",
            "_view_module_version": "1.2.0",
            "_view_name": "LayoutView",
            "align_content": null,
            "align_items": null,
            "align_self": null,
            "border": null,
            "bottom": null,
            "display": null,
            "flex": null,
            "flex_flow": null,
            "grid_area": null,
            "grid_auto_columns": null,
            "grid_auto_flow": null,
            "grid_auto_rows": null,
            "grid_column": null,
            "grid_gap": null,
            "grid_row": null,
            "grid_template_areas": null,
            "grid_template_columns": null,
            "grid_template_rows": null,
            "height": null,
            "justify_content": null,
            "justify_items": null,
            "left": null,
            "margin": null,
            "max_height": null,
            "max_width": null,
            "min_height": null,
            "min_width": null,
            "object_fit": null,
            "object_position": null,
            "order": null,
            "overflow": null,
            "overflow_x": null,
            "overflow_y": null,
            "padding": null,
            "right": null,
            "top": null,
            "visibility": null,
            "width": null
          }
        },
        "9cdb7652eb8046ac9b113d33b625080b": {
          "model_module": "@jupyter-widgets/controls",
          "model_name": "DescriptionStyleModel",
          "model_module_version": "1.5.0",
          "state": {
            "_model_module": "@jupyter-widgets/controls",
            "_model_module_version": "1.5.0",
            "_model_name": "DescriptionStyleModel",
            "_view_count": null,
            "_view_module": "@jupyter-widgets/base",
            "_view_module_version": "1.2.0",
            "_view_name": "StyleView",
            "description_width": ""
          }
        },
        "5d417c00ec124ead856b516225dca7d4": {
          "model_module": "@jupyter-widgets/base",
          "model_name": "LayoutModel",
          "model_module_version": "1.2.0",
          "state": {
            "_model_module": "@jupyter-widgets/base",
            "_model_module_version": "1.2.0",
            "_model_name": "LayoutModel",
            "_view_count": null,
            "_view_module": "@jupyter-widgets/base",
            "_view_module_version": "1.2.0",
            "_view_name": "LayoutView",
            "align_content": null,
            "align_items": null,
            "align_self": null,
            "border": null,
            "bottom": null,
            "display": null,
            "flex": null,
            "flex_flow": null,
            "grid_area": null,
            "grid_auto_columns": null,
            "grid_auto_flow": null,
            "grid_auto_rows": null,
            "grid_column": null,
            "grid_gap": null,
            "grid_row": null,
            "grid_template_areas": null,
            "grid_template_columns": null,
            "grid_template_rows": null,
            "height": null,
            "justify_content": null,
            "justify_items": null,
            "left": null,
            "margin": null,
            "max_height": null,
            "max_width": null,
            "min_height": null,
            "min_width": null,
            "object_fit": null,
            "object_position": null,
            "order": null,
            "overflow": null,
            "overflow_x": null,
            "overflow_y": null,
            "padding": null,
            "right": null,
            "top": null,
            "visibility": null,
            "width": null
          }
        },
        "c5de58db9ba34ef4911b7edb1f5b4291": {
          "model_module": "@jupyter-widgets/controls",
          "model_name": "ProgressStyleModel",
          "model_module_version": "1.5.0",
          "state": {
            "_model_module": "@jupyter-widgets/controls",
            "_model_module_version": "1.5.0",
            "_model_name": "ProgressStyleModel",
            "_view_count": null,
            "_view_module": "@jupyter-widgets/base",
            "_view_module_version": "1.2.0",
            "_view_name": "StyleView",
            "bar_color": null,
            "description_width": ""
          }
        },
        "c5b0d60b72ed49cebc50b69f84703c92": {
          "model_module": "@jupyter-widgets/base",
          "model_name": "LayoutModel",
          "model_module_version": "1.2.0",
          "state": {
            "_model_module": "@jupyter-widgets/base",
            "_model_module_version": "1.2.0",
            "_model_name": "LayoutModel",
            "_view_count": null,
            "_view_module": "@jupyter-widgets/base",
            "_view_module_version": "1.2.0",
            "_view_name": "LayoutView",
            "align_content": null,
            "align_items": null,
            "align_self": null,
            "border": null,
            "bottom": null,
            "display": null,
            "flex": null,
            "flex_flow": null,
            "grid_area": null,
            "grid_auto_columns": null,
            "grid_auto_flow": null,
            "grid_auto_rows": null,
            "grid_column": null,
            "grid_gap": null,
            "grid_row": null,
            "grid_template_areas": null,
            "grid_template_columns": null,
            "grid_template_rows": null,
            "height": null,
            "justify_content": null,
            "justify_items": null,
            "left": null,
            "margin": null,
            "max_height": null,
            "max_width": null,
            "min_height": null,
            "min_width": null,
            "object_fit": null,
            "object_position": null,
            "order": null,
            "overflow": null,
            "overflow_x": null,
            "overflow_y": null,
            "padding": null,
            "right": null,
            "top": null,
            "visibility": null,
            "width": null
          }
        },
        "f3c53c0669fd45b29064536b1d22482c": {
          "model_module": "@jupyter-widgets/controls",
          "model_name": "DescriptionStyleModel",
          "model_module_version": "1.5.0",
          "state": {
            "_model_module": "@jupyter-widgets/controls",
            "_model_module_version": "1.5.0",
            "_model_name": "DescriptionStyleModel",
            "_view_count": null,
            "_view_module": "@jupyter-widgets/base",
            "_view_module_version": "1.2.0",
            "_view_name": "StyleView",
            "description_width": ""
          }
        }
      }
    }
  },
  "cells": [
    {
      "cell_type": "markdown",
      "metadata": {
        "id": "view-in-github",
        "colab_type": "text"
      },
      "source": [
        "<a href=\"https://colab.research.google.com/github/JasonDepblu/potential-spork/blob/new_embeddings_model/new_model.ipynb\" target=\"_parent\"><img src=\"https://colab.research.google.com/assets/colab-badge.svg\" alt=\"Open In Colab\"/></a>"
      ]
    },
    {
      "cell_type": "markdown",
      "source": [
        "# 导入相关模块及数据"
      ],
      "metadata": {
        "id": "cA20Yq0GiNGq"
      }
    },
    {
      "cell_type": "code",
      "source": [
        "pip install shap"
      ],
      "metadata": {
        "colab": {
          "base_uri": "https://localhost:8080/"
        },
        "id": "B9goDY8EhBRY",
        "outputId": "b69ac51f-3b6c-4921-b369-c9b13e8b1628"
      },
      "execution_count": 1,
      "outputs": [
        {
          "output_type": "stream",
          "name": "stdout",
          "text": [
            "Collecting shap\n",
            "  Downloading shap-0.43.0-cp310-cp310-manylinux_2_12_x86_64.manylinux2010_x86_64.manylinux_2_17_x86_64.manylinux2014_x86_64.whl (532 kB)\n",
            "\u001b[?25l     \u001b[90m━━━━━━━━━━━━━━━━━━━━━━━━━━━━━━━━━━━━━━━━\u001b[0m \u001b[32m0.0/532.9 kB\u001b[0m \u001b[31m?\u001b[0m eta \u001b[36m-:--:--\u001b[0m\r\u001b[2K     \u001b[91m━━━━━━━━━━━━━\u001b[0m\u001b[90m╺\u001b[0m\u001b[90m━━━━━━━━━━━━━━━━━━━━━━━━━━\u001b[0m \u001b[32m174.1/532.9 kB\u001b[0m \u001b[31m5.6 MB/s\u001b[0m eta \u001b[36m0:00:01\u001b[0m\r\u001b[2K     \u001b[90m━━━━━━━━━━━━━━━━━━━━━━━━━━━━━━━━━━━━━━━━\u001b[0m \u001b[32m532.9/532.9 kB\u001b[0m \u001b[31m8.3 MB/s\u001b[0m eta \u001b[36m0:00:00\u001b[0m\n",
            "\u001b[?25hRequirement already satisfied: numpy in /usr/local/lib/python3.10/dist-packages (from shap) (1.23.5)\n",
            "Requirement already satisfied: scipy in /usr/local/lib/python3.10/dist-packages (from shap) (1.11.3)\n",
            "Requirement already satisfied: scikit-learn in /usr/local/lib/python3.10/dist-packages (from shap) (1.2.2)\n",
            "Requirement already satisfied: pandas in /usr/local/lib/python3.10/dist-packages (from shap) (1.5.3)\n",
            "Requirement already satisfied: tqdm>=4.27.0 in /usr/local/lib/python3.10/dist-packages (from shap) (4.66.1)\n",
            "Requirement already satisfied: packaging>20.9 in /usr/local/lib/python3.10/dist-packages (from shap) (23.2)\n",
            "Collecting slicer==0.0.7 (from shap)\n",
            "  Downloading slicer-0.0.7-py3-none-any.whl (14 kB)\n",
            "Requirement already satisfied: numba in /usr/local/lib/python3.10/dist-packages (from shap) (0.58.1)\n",
            "Requirement already satisfied: cloudpickle in /usr/local/lib/python3.10/dist-packages (from shap) (2.2.1)\n",
            "Requirement already satisfied: llvmlite<0.42,>=0.41.0dev0 in /usr/local/lib/python3.10/dist-packages (from numba->shap) (0.41.1)\n",
            "Requirement already satisfied: python-dateutil>=2.8.1 in /usr/local/lib/python3.10/dist-packages (from pandas->shap) (2.8.2)\n",
            "Requirement already satisfied: pytz>=2020.1 in /usr/local/lib/python3.10/dist-packages (from pandas->shap) (2023.3.post1)\n",
            "Requirement already satisfied: joblib>=1.1.1 in /usr/local/lib/python3.10/dist-packages (from scikit-learn->shap) (1.3.2)\n",
            "Requirement already satisfied: threadpoolctl>=2.0.0 in /usr/local/lib/python3.10/dist-packages (from scikit-learn->shap) (3.2.0)\n",
            "Requirement already satisfied: six>=1.5 in /usr/local/lib/python3.10/dist-packages (from python-dateutil>=2.8.1->pandas->shap) (1.16.0)\n",
            "Installing collected packages: slicer, shap\n",
            "Successfully installed shap-0.43.0 slicer-0.0.7\n"
          ]
        }
      ]
    },
    {
      "cell_type": "code",
      "source": [
        "pip install transformers"
      ],
      "metadata": {
        "id": "u14_JkbGG8Tm",
        "outputId": "99c81ef2-9a00-428d-a097-60810bb96450",
        "colab": {
          "base_uri": "https://localhost:8080/"
        }
      },
      "execution_count": 2,
      "outputs": [
        {
          "output_type": "stream",
          "name": "stdout",
          "text": [
            "Collecting transformers\n",
            "  Downloading transformers-4.35.1-py3-none-any.whl (7.9 MB)\n",
            "\u001b[2K     \u001b[90m━━━━━━━━━━━━━━━━━━━━━━━━━━━━━━━━━━━━━━━━\u001b[0m \u001b[32m7.9/7.9 MB\u001b[0m \u001b[31m31.0 MB/s\u001b[0m eta \u001b[36m0:00:00\u001b[0m\n",
            "\u001b[?25hRequirement already satisfied: filelock in /usr/local/lib/python3.10/dist-packages (from transformers) (3.13.1)\n",
            "Collecting huggingface-hub<1.0,>=0.16.4 (from transformers)\n",
            "  Downloading huggingface_hub-0.19.1-py3-none-any.whl (311 kB)\n",
            "\u001b[2K     \u001b[90m━━━━━━━━━━━━━━━━━━━━━━━━━━━━━━━━━━━━━━━━\u001b[0m \u001b[32m311.1/311.1 kB\u001b[0m \u001b[31m38.0 MB/s\u001b[0m eta \u001b[36m0:00:00\u001b[0m\n",
            "\u001b[?25hRequirement already satisfied: numpy>=1.17 in /usr/local/lib/python3.10/dist-packages (from transformers) (1.23.5)\n",
            "Requirement already satisfied: packaging>=20.0 in /usr/local/lib/python3.10/dist-packages (from transformers) (23.2)\n",
            "Requirement already satisfied: pyyaml>=5.1 in /usr/local/lib/python3.10/dist-packages (from transformers) (6.0.1)\n",
            "Requirement already satisfied: regex!=2019.12.17 in /usr/local/lib/python3.10/dist-packages (from transformers) (2023.6.3)\n",
            "Requirement already satisfied: requests in /usr/local/lib/python3.10/dist-packages (from transformers) (2.31.0)\n",
            "Collecting tokenizers<0.15,>=0.14 (from transformers)\n",
            "  Downloading tokenizers-0.14.1-cp310-cp310-manylinux_2_17_x86_64.manylinux2014_x86_64.whl (3.8 MB)\n",
            "\u001b[2K     \u001b[90m━━━━━━━━━━━━━━━━━━━━━━━━━━━━━━━━━━━━━━━━\u001b[0m \u001b[32m3.8/3.8 MB\u001b[0m \u001b[31m80.9 MB/s\u001b[0m eta \u001b[36m0:00:00\u001b[0m\n",
            "\u001b[?25hCollecting safetensors>=0.3.1 (from transformers)\n",
            "  Downloading safetensors-0.4.0-cp310-cp310-manylinux_2_17_x86_64.manylinux2014_x86_64.whl (1.3 MB)\n",
            "\u001b[2K     \u001b[90m━━━━━━━━━━━━━━━━━━━━━━━━━━━━━━━━━━━━━━━━\u001b[0m \u001b[32m1.3/1.3 MB\u001b[0m \u001b[31m73.9 MB/s\u001b[0m eta \u001b[36m0:00:00\u001b[0m\n",
            "\u001b[?25hRequirement already satisfied: tqdm>=4.27 in /usr/local/lib/python3.10/dist-packages (from transformers) (4.66.1)\n",
            "Requirement already satisfied: fsspec>=2023.5.0 in /usr/local/lib/python3.10/dist-packages (from huggingface-hub<1.0,>=0.16.4->transformers) (2023.6.0)\n",
            "Requirement already satisfied: typing-extensions>=3.7.4.3 in /usr/local/lib/python3.10/dist-packages (from huggingface-hub<1.0,>=0.16.4->transformers) (4.5.0)\n",
            "Collecting huggingface-hub<1.0,>=0.16.4 (from transformers)\n",
            "  Downloading huggingface_hub-0.17.3-py3-none-any.whl (295 kB)\n",
            "\u001b[2K     \u001b[90m━━━━━━━━━━━━━━━━━━━━━━━━━━━━━━━━━━━━━━━━\u001b[0m \u001b[32m295.0/295.0 kB\u001b[0m \u001b[31m36.7 MB/s\u001b[0m eta \u001b[36m0:00:00\u001b[0m\n",
            "\u001b[?25hRequirement already satisfied: charset-normalizer<4,>=2 in /usr/local/lib/python3.10/dist-packages (from requests->transformers) (3.3.2)\n",
            "Requirement already satisfied: idna<4,>=2.5 in /usr/local/lib/python3.10/dist-packages (from requests->transformers) (3.4)\n",
            "Requirement already satisfied: urllib3<3,>=1.21.1 in /usr/local/lib/python3.10/dist-packages (from requests->transformers) (2.0.7)\n",
            "Requirement already satisfied: certifi>=2017.4.17 in /usr/local/lib/python3.10/dist-packages (from requests->transformers) (2023.7.22)\n",
            "Installing collected packages: safetensors, huggingface-hub, tokenizers, transformers\n",
            "Successfully installed huggingface-hub-0.17.3 safetensors-0.4.0 tokenizers-0.14.1 transformers-4.35.1\n"
          ]
        }
      ]
    },
    {
      "cell_type": "code",
      "source": [
        "pip install tqdm"
      ],
      "metadata": {
        "id": "VOkrswEefeb8",
        "outputId": "72f59893-85c2-4177-e9e7-035c898e6589",
        "colab": {
          "base_uri": "https://localhost:8080/"
        }
      },
      "execution_count": 3,
      "outputs": [
        {
          "output_type": "stream",
          "name": "stdout",
          "text": [
            "Requirement already satisfied: tqdm in /usr/local/lib/python3.10/dist-packages (4.66.1)\n"
          ]
        }
      ]
    },
    {
      "cell_type": "code",
      "source": [
        "# 导入模块\n",
        "import time\n",
        "import pandas as pd\n",
        "import numpy as np\n",
        "import random\n",
        "import mpl_toolkits.axisartist as ast\n",
        "from matplotlib import pyplot as plt\n",
        "from mpl_toolkits.mplot3d import Axes3D\n",
        "from tensorflow import keras\n",
        "import tensorflow as tf\n",
        "from keras import layers, models, optimizers\n",
        "from sklearn import metrics\n",
        "from sklearn.model_selection import train_test_split\n",
        "from sklearn.metrics import confusion_matrix, auc\n",
        "from sklearn.metrics import classification_report\n",
        "from sklearn.preprocessing import StandardScaler, MinMaxScaler\n",
        "from sklearn.preprocessing import OneHotEncoder\n",
        "from sklearn.decomposition import PCA\n",
        "import copy\n",
        "import shap\n",
        "import scipy\n",
        "from collections import UserList\n",
        "from tabulate import tabulate\n",
        "from tensorflow.keras.callbacks import ModelCheckpoint"
      ],
      "metadata": {
        "id": "ly1gnzNxhEz-"
      },
      "execution_count": 4,
      "outputs": []
    },
    {
      "cell_type": "code",
      "source": [
        "import re"
      ],
      "metadata": {
        "id": "fVUJnMbqJWLH"
      },
      "execution_count": 5,
      "outputs": []
    },
    {
      "cell_type": "code",
      "source": [
        "import torch"
      ],
      "metadata": {
        "id": "a-5w6twzHMWb"
      },
      "execution_count": 6,
      "outputs": []
    },
    {
      "cell_type": "code",
      "source": [
        "import torch.nn as nn\n",
        "import torch.nn.functional as F"
      ],
      "metadata": {
        "id": "ZCFDktLwHRBr"
      },
      "execution_count": 7,
      "outputs": []
    },
    {
      "cell_type": "code",
      "source": [
        "from transformers import BertModel\n",
        "from transformers import BertTokenizer"
      ],
      "metadata": {
        "id": "XDTKIrd1HEDq"
      },
      "execution_count": 8,
      "outputs": []
    },
    {
      "cell_type": "code",
      "source": [
        "from transformers import BertTokenizer, TFBertModel"
      ],
      "metadata": {
        "id": "0HwSlLe0yGIv"
      },
      "execution_count": 9,
      "outputs": []
    },
    {
      "cell_type": "code",
      "source": [
        "from transformers import AdamW\n",
        "from transformers import AdamW, get_linear_schedule_with_warmup\n",
        "from torch.utils.data import TensorDataset, DataLoader, RandomSampler, SequentialSampler"
      ],
      "metadata": {
        "id": "HgvhL0Z3HIVB"
      },
      "execution_count": 10,
      "outputs": []
    },
    {
      "cell_type": "code",
      "source": [
        "from tqdm import tqdm"
      ],
      "metadata": {
        "id": "wMMpNGSrfcB0"
      },
      "execution_count": 11,
      "outputs": []
    },
    {
      "cell_type": "code",
      "execution_count": 12,
      "metadata": {
        "colab": {
          "base_uri": "https://localhost:8080/",
          "height": 1000
        },
        "id": "xY2PZWGFL1G2",
        "outputId": "f48c0c94-1596-4e78-924d-54c55b55951e"
      },
      "outputs": [
        {
          "output_type": "stream",
          "name": "stderr",
          "text": [
            "Columns (300,302,303,307,309,312,313,314,315,316,317) have mixed types. Specify dtype option on import or set low_memory=False.\n"
          ]
        },
        {
          "output_type": "execute_result",
          "data": {
            "text/plain": [
              "   fkoubeiid                                           comments  \\\n",
              "0    5172505  【最满意的一点】\\r\\n我的用车需求匹配下来最合适的就是MPV，本来MPV市场可选的车型就不...   \n",
              "1    5168778  【最满意的一点】\\r\\n油耗很低，虽然买了一辆这么大的车，但载着一大家子出行，一般情况下油耗...   \n",
              "2    5168549  【最满意的一点】\\r\\n现在不加价，在同价位的MPV中，我觉得赛那还是挺适合的，毕竟它的空间...   \n",
              "3    5168444  【最满意的一点】\\r\\n空间是这个车子最大的优势，同时内部的配置也非常的齐全，再加上价格也比...   \n",
              "4    5168430  【最满意的一点】\\r\\n公司业务需求里面需要外地出差考虑换一台商务车，公司换车首选就是别克陆...   \n",
              "\n",
              "               purposes province city  budget  drivenkiloms  driving _months  \\\n",
              "0  上下班,购物,接送小孩,自驾游,商务差旅       四川   成都      29          1300              2.0   \n",
              "1           上下班,自驾游,跑长途       上海   上海      32          6632              7.9   \n",
              "2           上下班,自驾游,跑长途       北京   北京      36          3526              3.9   \n",
              "3                   NaN       福建   厦门      10             0              0.9   \n",
              "4          上下班,跑长途,商务差旅       河南   商丘      30          2400              0.9   \n",
              "\n",
              "    km/d fseriesname  fseriesid  fspecid  no_in_car_dict  \\\n",
              "0  21.68        传祺M8       4174    58244              37   \n",
              "1  27.81        传祺M8       4174    60142              38   \n",
              "2  29.77    赛那SIENNA       6272    61955             121   \n",
              "3   0.00        五菱佳辰       6650    55788               2   \n",
              "4  91.26       别克GL8        166    58900             101   \n",
              "\n",
              "                        type  \n",
              "0  传祺M8 2024款 双擎系列 2.0TM 基本型  \n",
              "1      传祺M8 2023款 宗师系列 双擎 旗舰  \n",
              "2  赛那SIENNA 2023款 2.5L混动 尊贵版  \n",
              "3   五菱佳辰 2022款 1.5T CVT尊享旗舰型  \n",
              "4  别克GL8 2023款 ES陆尊 653T 舒适型  "
            ],
            "text/html": [
              "\n",
              "  <div id=\"df-3826522c-0419-4521-91e7-47ff611ac99f\" class=\"colab-df-container\">\n",
              "    <div>\n",
              "<style scoped>\n",
              "    .dataframe tbody tr th:only-of-type {\n",
              "        vertical-align: middle;\n",
              "    }\n",
              "\n",
              "    .dataframe tbody tr th {\n",
              "        vertical-align: top;\n",
              "    }\n",
              "\n",
              "    .dataframe thead th {\n",
              "        text-align: right;\n",
              "    }\n",
              "</style>\n",
              "<table border=\"1\" class=\"dataframe\">\n",
              "  <thead>\n",
              "    <tr style=\"text-align: right;\">\n",
              "      <th></th>\n",
              "      <th>fkoubeiid</th>\n",
              "      <th>comments</th>\n",
              "      <th>purposes</th>\n",
              "      <th>province</th>\n",
              "      <th>city</th>\n",
              "      <th>budget</th>\n",
              "      <th>drivenkiloms</th>\n",
              "      <th>driving _months</th>\n",
              "      <th>km/d</th>\n",
              "      <th>fseriesname</th>\n",
              "      <th>fseriesid</th>\n",
              "      <th>fspecid</th>\n",
              "      <th>no_in_car_dict</th>\n",
              "      <th>type</th>\n",
              "    </tr>\n",
              "  </thead>\n",
              "  <tbody>\n",
              "    <tr>\n",
              "      <th>0</th>\n",
              "      <td>5172505</td>\n",
              "      <td>【最满意的一点】\\r\\n我的用车需求匹配下来最合适的就是MPV，本来MPV市场可选的车型就不...</td>\n",
              "      <td>上下班,购物,接送小孩,自驾游,商务差旅</td>\n",
              "      <td>四川</td>\n",
              "      <td>成都</td>\n",
              "      <td>29</td>\n",
              "      <td>1300</td>\n",
              "      <td>2.0</td>\n",
              "      <td>21.68</td>\n",
              "      <td>传祺M8</td>\n",
              "      <td>4174</td>\n",
              "      <td>58244</td>\n",
              "      <td>37</td>\n",
              "      <td>传祺M8 2024款 双擎系列 2.0TM 基本型</td>\n",
              "    </tr>\n",
              "    <tr>\n",
              "      <th>1</th>\n",
              "      <td>5168778</td>\n",
              "      <td>【最满意的一点】\\r\\n油耗很低，虽然买了一辆这么大的车，但载着一大家子出行，一般情况下油耗...</td>\n",
              "      <td>上下班,自驾游,跑长途</td>\n",
              "      <td>上海</td>\n",
              "      <td>上海</td>\n",
              "      <td>32</td>\n",
              "      <td>6632</td>\n",
              "      <td>7.9</td>\n",
              "      <td>27.81</td>\n",
              "      <td>传祺M8</td>\n",
              "      <td>4174</td>\n",
              "      <td>60142</td>\n",
              "      <td>38</td>\n",
              "      <td>传祺M8 2023款 宗师系列 双擎 旗舰</td>\n",
              "    </tr>\n",
              "    <tr>\n",
              "      <th>2</th>\n",
              "      <td>5168549</td>\n",
              "      <td>【最满意的一点】\\r\\n现在不加价，在同价位的MPV中，我觉得赛那还是挺适合的，毕竟它的空间...</td>\n",
              "      <td>上下班,自驾游,跑长途</td>\n",
              "      <td>北京</td>\n",
              "      <td>北京</td>\n",
              "      <td>36</td>\n",
              "      <td>3526</td>\n",
              "      <td>3.9</td>\n",
              "      <td>29.77</td>\n",
              "      <td>赛那SIENNA</td>\n",
              "      <td>6272</td>\n",
              "      <td>61955</td>\n",
              "      <td>121</td>\n",
              "      <td>赛那SIENNA 2023款 2.5L混动 尊贵版</td>\n",
              "    </tr>\n",
              "    <tr>\n",
              "      <th>3</th>\n",
              "      <td>5168444</td>\n",
              "      <td>【最满意的一点】\\r\\n空间是这个车子最大的优势，同时内部的配置也非常的齐全，再加上价格也比...</td>\n",
              "      <td>NaN</td>\n",
              "      <td>福建</td>\n",
              "      <td>厦门</td>\n",
              "      <td>10</td>\n",
              "      <td>0</td>\n",
              "      <td>0.9</td>\n",
              "      <td>0.00</td>\n",
              "      <td>五菱佳辰</td>\n",
              "      <td>6650</td>\n",
              "      <td>55788</td>\n",
              "      <td>2</td>\n",
              "      <td>五菱佳辰 2022款 1.5T CVT尊享旗舰型</td>\n",
              "    </tr>\n",
              "    <tr>\n",
              "      <th>4</th>\n",
              "      <td>5168430</td>\n",
              "      <td>【最满意的一点】\\r\\n公司业务需求里面需要外地出差考虑换一台商务车，公司换车首选就是别克陆...</td>\n",
              "      <td>上下班,跑长途,商务差旅</td>\n",
              "      <td>河南</td>\n",
              "      <td>商丘</td>\n",
              "      <td>30</td>\n",
              "      <td>2400</td>\n",
              "      <td>0.9</td>\n",
              "      <td>91.26</td>\n",
              "      <td>别克GL8</td>\n",
              "      <td>166</td>\n",
              "      <td>58900</td>\n",
              "      <td>101</td>\n",
              "      <td>别克GL8 2023款 ES陆尊 653T 舒适型</td>\n",
              "    </tr>\n",
              "  </tbody>\n",
              "</table>\n",
              "</div>\n",
              "    <div class=\"colab-df-buttons\">\n",
              "\n",
              "  <div class=\"colab-df-container\">\n",
              "    <button class=\"colab-df-convert\" onclick=\"convertToInteractive('df-3826522c-0419-4521-91e7-47ff611ac99f')\"\n",
              "            title=\"Convert this dataframe to an interactive table.\"\n",
              "            style=\"display:none;\">\n",
              "\n",
              "  <svg xmlns=\"http://www.w3.org/2000/svg\" height=\"24px\" viewBox=\"0 -960 960 960\">\n",
              "    <path d=\"M120-120v-720h720v720H120Zm60-500h600v-160H180v160Zm220 220h160v-160H400v160Zm0 220h160v-160H400v160ZM180-400h160v-160H180v160Zm440 0h160v-160H620v160ZM180-180h160v-160H180v160Zm440 0h160v-160H620v160Z\"/>\n",
              "  </svg>\n",
              "    </button>\n",
              "\n",
              "  <style>\n",
              "    .colab-df-container {\n",
              "      display:flex;\n",
              "      gap: 12px;\n",
              "    }\n",
              "\n",
              "    .colab-df-convert {\n",
              "      background-color: #E8F0FE;\n",
              "      border: none;\n",
              "      border-radius: 50%;\n",
              "      cursor: pointer;\n",
              "      display: none;\n",
              "      fill: #1967D2;\n",
              "      height: 32px;\n",
              "      padding: 0 0 0 0;\n",
              "      width: 32px;\n",
              "    }\n",
              "\n",
              "    .colab-df-convert:hover {\n",
              "      background-color: #E2EBFA;\n",
              "      box-shadow: 0px 1px 2px rgba(60, 64, 67, 0.3), 0px 1px 3px 1px rgba(60, 64, 67, 0.15);\n",
              "      fill: #174EA6;\n",
              "    }\n",
              "\n",
              "    .colab-df-buttons div {\n",
              "      margin-bottom: 4px;\n",
              "    }\n",
              "\n",
              "    [theme=dark] .colab-df-convert {\n",
              "      background-color: #3B4455;\n",
              "      fill: #D2E3FC;\n",
              "    }\n",
              "\n",
              "    [theme=dark] .colab-df-convert:hover {\n",
              "      background-color: #434B5C;\n",
              "      box-shadow: 0px 1px 3px 1px rgba(0, 0, 0, 0.15);\n",
              "      filter: drop-shadow(0px 1px 2px rgba(0, 0, 0, 0.3));\n",
              "      fill: #FFFFFF;\n",
              "    }\n",
              "  </style>\n",
              "\n",
              "    <script>\n",
              "      const buttonEl =\n",
              "        document.querySelector('#df-3826522c-0419-4521-91e7-47ff611ac99f button.colab-df-convert');\n",
              "      buttonEl.style.display =\n",
              "        google.colab.kernel.accessAllowed ? 'block' : 'none';\n",
              "\n",
              "      async function convertToInteractive(key) {\n",
              "        const element = document.querySelector('#df-3826522c-0419-4521-91e7-47ff611ac99f');\n",
              "        const dataTable =\n",
              "          await google.colab.kernel.invokeFunction('convertToInteractive',\n",
              "                                                    [key], {});\n",
              "        if (!dataTable) return;\n",
              "\n",
              "        const docLinkHtml = 'Like what you see? Visit the ' +\n",
              "          '<a target=\"_blank\" href=https://colab.research.google.com/notebooks/data_table.ipynb>data table notebook</a>'\n",
              "          + ' to learn more about interactive tables.';\n",
              "        element.innerHTML = '';\n",
              "        dataTable['output_type'] = 'display_data';\n",
              "        await google.colab.output.renderOutput(dataTable, element);\n",
              "        const docLink = document.createElement('div');\n",
              "        docLink.innerHTML = docLinkHtml;\n",
              "        element.appendChild(docLink);\n",
              "      }\n",
              "    </script>\n",
              "  </div>\n",
              "\n",
              "\n",
              "<div id=\"df-b095cc09-0f88-485c-bbdd-1e50e6aa9b2a\">\n",
              "  <button class=\"colab-df-quickchart\" onclick=\"quickchart('df-b095cc09-0f88-485c-bbdd-1e50e6aa9b2a')\"\n",
              "            title=\"Suggest charts\"\n",
              "            style=\"display:none;\">\n",
              "\n",
              "<svg xmlns=\"http://www.w3.org/2000/svg\" height=\"24px\"viewBox=\"0 0 24 24\"\n",
              "     width=\"24px\">\n",
              "    <g>\n",
              "        <path d=\"M19 3H5c-1.1 0-2 .9-2 2v14c0 1.1.9 2 2 2h14c1.1 0 2-.9 2-2V5c0-1.1-.9-2-2-2zM9 17H7v-7h2v7zm4 0h-2V7h2v10zm4 0h-2v-4h2v4z\"/>\n",
              "    </g>\n",
              "</svg>\n",
              "  </button>\n",
              "\n",
              "<style>\n",
              "  .colab-df-quickchart {\n",
              "      --bg-color: #E8F0FE;\n",
              "      --fill-color: #1967D2;\n",
              "      --hover-bg-color: #E2EBFA;\n",
              "      --hover-fill-color: #174EA6;\n",
              "      --disabled-fill-color: #AAA;\n",
              "      --disabled-bg-color: #DDD;\n",
              "  }\n",
              "\n",
              "  [theme=dark] .colab-df-quickchart {\n",
              "      --bg-color: #3B4455;\n",
              "      --fill-color: #D2E3FC;\n",
              "      --hover-bg-color: #434B5C;\n",
              "      --hover-fill-color: #FFFFFF;\n",
              "      --disabled-bg-color: #3B4455;\n",
              "      --disabled-fill-color: #666;\n",
              "  }\n",
              "\n",
              "  .colab-df-quickchart {\n",
              "    background-color: var(--bg-color);\n",
              "    border: none;\n",
              "    border-radius: 50%;\n",
              "    cursor: pointer;\n",
              "    display: none;\n",
              "    fill: var(--fill-color);\n",
              "    height: 32px;\n",
              "    padding: 0;\n",
              "    width: 32px;\n",
              "  }\n",
              "\n",
              "  .colab-df-quickchart:hover {\n",
              "    background-color: var(--hover-bg-color);\n",
              "    box-shadow: 0 1px 2px rgba(60, 64, 67, 0.3), 0 1px 3px 1px rgba(60, 64, 67, 0.15);\n",
              "    fill: var(--button-hover-fill-color);\n",
              "  }\n",
              "\n",
              "  .colab-df-quickchart-complete:disabled,\n",
              "  .colab-df-quickchart-complete:disabled:hover {\n",
              "    background-color: var(--disabled-bg-color);\n",
              "    fill: var(--disabled-fill-color);\n",
              "    box-shadow: none;\n",
              "  }\n",
              "\n",
              "  .colab-df-spinner {\n",
              "    border: 2px solid var(--fill-color);\n",
              "    border-color: transparent;\n",
              "    border-bottom-color: var(--fill-color);\n",
              "    animation:\n",
              "      spin 1s steps(1) infinite;\n",
              "  }\n",
              "\n",
              "  @keyframes spin {\n",
              "    0% {\n",
              "      border-color: transparent;\n",
              "      border-bottom-color: var(--fill-color);\n",
              "      border-left-color: var(--fill-color);\n",
              "    }\n",
              "    20% {\n",
              "      border-color: transparent;\n",
              "      border-left-color: var(--fill-color);\n",
              "      border-top-color: var(--fill-color);\n",
              "    }\n",
              "    30% {\n",
              "      border-color: transparent;\n",
              "      border-left-color: var(--fill-color);\n",
              "      border-top-color: var(--fill-color);\n",
              "      border-right-color: var(--fill-color);\n",
              "    }\n",
              "    40% {\n",
              "      border-color: transparent;\n",
              "      border-right-color: var(--fill-color);\n",
              "      border-top-color: var(--fill-color);\n",
              "    }\n",
              "    60% {\n",
              "      border-color: transparent;\n",
              "      border-right-color: var(--fill-color);\n",
              "    }\n",
              "    80% {\n",
              "      border-color: transparent;\n",
              "      border-right-color: var(--fill-color);\n",
              "      border-bottom-color: var(--fill-color);\n",
              "    }\n",
              "    90% {\n",
              "      border-color: transparent;\n",
              "      border-bottom-color: var(--fill-color);\n",
              "    }\n",
              "  }\n",
              "</style>\n",
              "\n",
              "  <script>\n",
              "    async function quickchart(key) {\n",
              "      const quickchartButtonEl =\n",
              "        document.querySelector('#' + key + ' button');\n",
              "      quickchartButtonEl.disabled = true;  // To prevent multiple clicks.\n",
              "      quickchartButtonEl.classList.add('colab-df-spinner');\n",
              "      try {\n",
              "        const charts = await google.colab.kernel.invokeFunction(\n",
              "            'suggestCharts', [key], {});\n",
              "      } catch (error) {\n",
              "        console.error('Error during call to suggestCharts:', error);\n",
              "      }\n",
              "      quickchartButtonEl.classList.remove('colab-df-spinner');\n",
              "      quickchartButtonEl.classList.add('colab-df-quickchart-complete');\n",
              "    }\n",
              "    (() => {\n",
              "      let quickchartButtonEl =\n",
              "        document.querySelector('#df-b095cc09-0f88-485c-bbdd-1e50e6aa9b2a button');\n",
              "      quickchartButtonEl.style.display =\n",
              "        google.colab.kernel.accessAllowed ? 'block' : 'none';\n",
              "    })();\n",
              "  </script>\n",
              "</div>\n",
              "\n",
              "    </div>\n",
              "  </div>\n"
            ]
          },
          "metadata": {},
          "execution_count": 12
        }
      ],
      "source": [
        "\n",
        "# Load the dataset\n",
        "file_path_car = '/content/car_dict_e8_emb.csv'\n",
        "car_data = pd.read_csv(file_path_car)\n",
        "\n",
        "file_path_user = '/content/dsc_up_e8.csv'\n",
        "user_data = pd.read_csv(file_path_user)\n",
        "\n",
        "# Display the first few rows of the dataframe\n",
        "car_data.head()\n",
        "user_data.head()"
      ]
    },
    {
      "cell_type": "markdown",
      "source": [
        "# `预处理data`"
      ],
      "metadata": {
        "id": "zLIbv81niCCZ"
      }
    },
    {
      "cell_type": "code",
      "source": [
        "# Remove columns with only one unique value\n",
        "columns_to_drop = car_data.columns[car_data.nunique() <= 1]\n",
        "car_data_reduced = car_data.drop(columns=columns_to_drop)"
      ],
      "metadata": {
        "id": "IgCI6DnpMiS7"
      },
      "execution_count": 13,
      "outputs": []
    },
    {
      "cell_type": "code",
      "source": [
        "car_data_reduced.head(10)"
      ],
      "metadata": {
        "colab": {
          "base_uri": "https://localhost:8080/",
          "height": 932
        },
        "id": "0IIC91aZMrl3",
        "outputId": "13123f30-3c05-4d93-b092-15b8699c23cb"
      },
      "execution_count": 14,
      "outputs": [
        {
          "output_type": "execute_result",
          "data": {
            "text/plain": [
              "   fspecid  price  quick_charge_time(80%)  slow_charge_time  power_car  最大净功率  \\\n",
              "0    56818   8.18                     0.0               0.0        108    104   \n",
              "1    56817   9.18                     0.0               0.0        108    104   \n",
              "2    55788   9.98                     0.0               0.0        108    104   \n",
              "3    41053  11.98                     0.0               0.0        124    117   \n",
              "4    47564  10.98                     0.0               0.0        124    117   \n",
              "5    60951  15.98                     0.0               0.0        130    125   \n",
              "6    60948  12.98                     0.0               0.0        130    125   \n",
              "7    60949  13.98                     0.0               0.0        130    125   \n",
              "8    60950  14.98                     0.0               0.0        130    125   \n",
              "9    47571  14.98                     0.0               0.0        124    117   \n",
              "\n",
              "   torque_car  gears  max_speed  time_for_100km_h  ...  第二排座椅电动调节  第二排座椅功能  \\\n",
              "0         250      6        170             10.80  ...        NaN      NaN   \n",
              "1         250      0        170             10.80  ...        NaN      NaN   \n",
              "2         250      0        170             10.80  ...        NaN      NaN   \n",
              "3         265      7        190             11.07  ...        NaN      NaN   \n",
              "4         265      6        195             10.89  ...        NaN      NaN   \n",
              "5         270      7        190              9.40  ...          -        -   \n",
              "6         270      7        190              9.40  ...          -        -   \n",
              "7         270      7        190              9.40  ...          -        -   \n",
              "8         270      7        190              9.40  ...          -        -   \n",
              "9         265      7        190             11.07  ...        NaN      NaN   \n",
              "\n",
              "   后排液晶屏幕尺寸  第三排座椅功能  第三排座椅调节  可见即可说  语音免唤醒词  语音分区域唤醒识别  \\\n",
              "0       NaN      NaN      NaN    NaN     NaN        NaN   \n",
              "1       NaN      NaN      NaN    NaN     NaN        NaN   \n",
              "2       NaN      NaN      NaN    NaN     NaN        NaN   \n",
              "3       NaN      NaN      NaN    NaN     NaN        NaN   \n",
              "4       NaN      NaN      NaN    NaN     NaN        NaN   \n",
              "5       NaN      NaN      NaN      -       ●          -   \n",
              "6       NaN      NaN      NaN      -       -          -   \n",
              "7       NaN      NaN      NaN      -       -          -   \n",
              "8       NaN      NaN      NaN      -       -          -   \n",
              "9       NaN      NaN      NaN    NaN     NaN        NaN   \n",
              "\n",
              "                                           手机app远程功能  title  \n",
              "0                                                NaN   五菱佳辰  \n",
              "1                                                NaN   五菱佳辰  \n",
              "2                                                NaN   五菱佳辰  \n",
              "3                                                NaN   传祺M6  \n",
              "4                                                NaN   传祺M6  \n",
              "5  ●车门控制\\r\\n●车辆启动\\r\\n●空调控制\\r\\n●座椅加热\\r\\n●车况查询/诊断\\r...   传祺M6  \n",
              "6                                                  -   传祺M6  \n",
              "7                                                  -   传祺M6  \n",
              "8                                                  -   传祺M6  \n",
              "9                                                NaN   传祺M6  \n",
              "\n",
              "[10 rows x 239 columns]"
            ],
            "text/html": [
              "\n",
              "  <div id=\"df-d41059cd-c9c4-4bd5-9831-1cb2f2d69e26\" class=\"colab-df-container\">\n",
              "    <div>\n",
              "<style scoped>\n",
              "    .dataframe tbody tr th:only-of-type {\n",
              "        vertical-align: middle;\n",
              "    }\n",
              "\n",
              "    .dataframe tbody tr th {\n",
              "        vertical-align: top;\n",
              "    }\n",
              "\n",
              "    .dataframe thead th {\n",
              "        text-align: right;\n",
              "    }\n",
              "</style>\n",
              "<table border=\"1\" class=\"dataframe\">\n",
              "  <thead>\n",
              "    <tr style=\"text-align: right;\">\n",
              "      <th></th>\n",
              "      <th>fspecid</th>\n",
              "      <th>price</th>\n",
              "      <th>quick_charge_time(80%)</th>\n",
              "      <th>slow_charge_time</th>\n",
              "      <th>power_car</th>\n",
              "      <th>最大净功率</th>\n",
              "      <th>torque_car</th>\n",
              "      <th>gears</th>\n",
              "      <th>max_speed</th>\n",
              "      <th>time_for_100km_h</th>\n",
              "      <th>...</th>\n",
              "      <th>第二排座椅电动调节</th>\n",
              "      <th>第二排座椅功能</th>\n",
              "      <th>后排液晶屏幕尺寸</th>\n",
              "      <th>第三排座椅功能</th>\n",
              "      <th>第三排座椅调节</th>\n",
              "      <th>可见即可说</th>\n",
              "      <th>语音免唤醒词</th>\n",
              "      <th>语音分区域唤醒识别</th>\n",
              "      <th>手机app远程功能</th>\n",
              "      <th>title</th>\n",
              "    </tr>\n",
              "  </thead>\n",
              "  <tbody>\n",
              "    <tr>\n",
              "      <th>0</th>\n",
              "      <td>56818</td>\n",
              "      <td>8.18</td>\n",
              "      <td>0.0</td>\n",
              "      <td>0.0</td>\n",
              "      <td>108</td>\n",
              "      <td>104</td>\n",
              "      <td>250</td>\n",
              "      <td>6</td>\n",
              "      <td>170</td>\n",
              "      <td>10.80</td>\n",
              "      <td>...</td>\n",
              "      <td>NaN</td>\n",
              "      <td>NaN</td>\n",
              "      <td>NaN</td>\n",
              "      <td>NaN</td>\n",
              "      <td>NaN</td>\n",
              "      <td>NaN</td>\n",
              "      <td>NaN</td>\n",
              "      <td>NaN</td>\n",
              "      <td>NaN</td>\n",
              "      <td>五菱佳辰</td>\n",
              "    </tr>\n",
              "    <tr>\n",
              "      <th>1</th>\n",
              "      <td>56817</td>\n",
              "      <td>9.18</td>\n",
              "      <td>0.0</td>\n",
              "      <td>0.0</td>\n",
              "      <td>108</td>\n",
              "      <td>104</td>\n",
              "      <td>250</td>\n",
              "      <td>0</td>\n",
              "      <td>170</td>\n",
              "      <td>10.80</td>\n",
              "      <td>...</td>\n",
              "      <td>NaN</td>\n",
              "      <td>NaN</td>\n",
              "      <td>NaN</td>\n",
              "      <td>NaN</td>\n",
              "      <td>NaN</td>\n",
              "      <td>NaN</td>\n",
              "      <td>NaN</td>\n",
              "      <td>NaN</td>\n",
              "      <td>NaN</td>\n",
              "      <td>五菱佳辰</td>\n",
              "    </tr>\n",
              "    <tr>\n",
              "      <th>2</th>\n",
              "      <td>55788</td>\n",
              "      <td>9.98</td>\n",
              "      <td>0.0</td>\n",
              "      <td>0.0</td>\n",
              "      <td>108</td>\n",
              "      <td>104</td>\n",
              "      <td>250</td>\n",
              "      <td>0</td>\n",
              "      <td>170</td>\n",
              "      <td>10.80</td>\n",
              "      <td>...</td>\n",
              "      <td>NaN</td>\n",
              "      <td>NaN</td>\n",
              "      <td>NaN</td>\n",
              "      <td>NaN</td>\n",
              "      <td>NaN</td>\n",
              "      <td>NaN</td>\n",
              "      <td>NaN</td>\n",
              "      <td>NaN</td>\n",
              "      <td>NaN</td>\n",
              "      <td>五菱佳辰</td>\n",
              "    </tr>\n",
              "    <tr>\n",
              "      <th>3</th>\n",
              "      <td>41053</td>\n",
              "      <td>11.98</td>\n",
              "      <td>0.0</td>\n",
              "      <td>0.0</td>\n",
              "      <td>124</td>\n",
              "      <td>117</td>\n",
              "      <td>265</td>\n",
              "      <td>7</td>\n",
              "      <td>190</td>\n",
              "      <td>11.07</td>\n",
              "      <td>...</td>\n",
              "      <td>NaN</td>\n",
              "      <td>NaN</td>\n",
              "      <td>NaN</td>\n",
              "      <td>NaN</td>\n",
              "      <td>NaN</td>\n",
              "      <td>NaN</td>\n",
              "      <td>NaN</td>\n",
              "      <td>NaN</td>\n",
              "      <td>NaN</td>\n",
              "      <td>传祺M6</td>\n",
              "    </tr>\n",
              "    <tr>\n",
              "      <th>4</th>\n",
              "      <td>47564</td>\n",
              "      <td>10.98</td>\n",
              "      <td>0.0</td>\n",
              "      <td>0.0</td>\n",
              "      <td>124</td>\n",
              "      <td>117</td>\n",
              "      <td>265</td>\n",
              "      <td>6</td>\n",
              "      <td>195</td>\n",
              "      <td>10.89</td>\n",
              "      <td>...</td>\n",
              "      <td>NaN</td>\n",
              "      <td>NaN</td>\n",
              "      <td>NaN</td>\n",
              "      <td>NaN</td>\n",
              "      <td>NaN</td>\n",
              "      <td>NaN</td>\n",
              "      <td>NaN</td>\n",
              "      <td>NaN</td>\n",
              "      <td>NaN</td>\n",
              "      <td>传祺M6</td>\n",
              "    </tr>\n",
              "    <tr>\n",
              "      <th>5</th>\n",
              "      <td>60951</td>\n",
              "      <td>15.98</td>\n",
              "      <td>0.0</td>\n",
              "      <td>0.0</td>\n",
              "      <td>130</td>\n",
              "      <td>125</td>\n",
              "      <td>270</td>\n",
              "      <td>7</td>\n",
              "      <td>190</td>\n",
              "      <td>9.40</td>\n",
              "      <td>...</td>\n",
              "      <td>-</td>\n",
              "      <td>-</td>\n",
              "      <td>NaN</td>\n",
              "      <td>NaN</td>\n",
              "      <td>NaN</td>\n",
              "      <td>-</td>\n",
              "      <td>●</td>\n",
              "      <td>-</td>\n",
              "      <td>●车门控制\\r\\n●车辆启动\\r\\n●空调控制\\r\\n●座椅加热\\r\\n●车况查询/诊断\\r...</td>\n",
              "      <td>传祺M6</td>\n",
              "    </tr>\n",
              "    <tr>\n",
              "      <th>6</th>\n",
              "      <td>60948</td>\n",
              "      <td>12.98</td>\n",
              "      <td>0.0</td>\n",
              "      <td>0.0</td>\n",
              "      <td>130</td>\n",
              "      <td>125</td>\n",
              "      <td>270</td>\n",
              "      <td>7</td>\n",
              "      <td>190</td>\n",
              "      <td>9.40</td>\n",
              "      <td>...</td>\n",
              "      <td>-</td>\n",
              "      <td>-</td>\n",
              "      <td>NaN</td>\n",
              "      <td>NaN</td>\n",
              "      <td>NaN</td>\n",
              "      <td>-</td>\n",
              "      <td>-</td>\n",
              "      <td>-</td>\n",
              "      <td>-</td>\n",
              "      <td>传祺M6</td>\n",
              "    </tr>\n",
              "    <tr>\n",
              "      <th>7</th>\n",
              "      <td>60949</td>\n",
              "      <td>13.98</td>\n",
              "      <td>0.0</td>\n",
              "      <td>0.0</td>\n",
              "      <td>130</td>\n",
              "      <td>125</td>\n",
              "      <td>270</td>\n",
              "      <td>7</td>\n",
              "      <td>190</td>\n",
              "      <td>9.40</td>\n",
              "      <td>...</td>\n",
              "      <td>-</td>\n",
              "      <td>-</td>\n",
              "      <td>NaN</td>\n",
              "      <td>NaN</td>\n",
              "      <td>NaN</td>\n",
              "      <td>-</td>\n",
              "      <td>-</td>\n",
              "      <td>-</td>\n",
              "      <td>-</td>\n",
              "      <td>传祺M6</td>\n",
              "    </tr>\n",
              "    <tr>\n",
              "      <th>8</th>\n",
              "      <td>60950</td>\n",
              "      <td>14.98</td>\n",
              "      <td>0.0</td>\n",
              "      <td>0.0</td>\n",
              "      <td>130</td>\n",
              "      <td>125</td>\n",
              "      <td>270</td>\n",
              "      <td>7</td>\n",
              "      <td>190</td>\n",
              "      <td>9.40</td>\n",
              "      <td>...</td>\n",
              "      <td>-</td>\n",
              "      <td>-</td>\n",
              "      <td>NaN</td>\n",
              "      <td>NaN</td>\n",
              "      <td>NaN</td>\n",
              "      <td>-</td>\n",
              "      <td>-</td>\n",
              "      <td>-</td>\n",
              "      <td>-</td>\n",
              "      <td>传祺M6</td>\n",
              "    </tr>\n",
              "    <tr>\n",
              "      <th>9</th>\n",
              "      <td>47571</td>\n",
              "      <td>14.98</td>\n",
              "      <td>0.0</td>\n",
              "      <td>0.0</td>\n",
              "      <td>124</td>\n",
              "      <td>117</td>\n",
              "      <td>265</td>\n",
              "      <td>7</td>\n",
              "      <td>190</td>\n",
              "      <td>11.07</td>\n",
              "      <td>...</td>\n",
              "      <td>NaN</td>\n",
              "      <td>NaN</td>\n",
              "      <td>NaN</td>\n",
              "      <td>NaN</td>\n",
              "      <td>NaN</td>\n",
              "      <td>NaN</td>\n",
              "      <td>NaN</td>\n",
              "      <td>NaN</td>\n",
              "      <td>NaN</td>\n",
              "      <td>传祺M6</td>\n",
              "    </tr>\n",
              "  </tbody>\n",
              "</table>\n",
              "<p>10 rows × 239 columns</p>\n",
              "</div>\n",
              "    <div class=\"colab-df-buttons\">\n",
              "\n",
              "  <div class=\"colab-df-container\">\n",
              "    <button class=\"colab-df-convert\" onclick=\"convertToInteractive('df-d41059cd-c9c4-4bd5-9831-1cb2f2d69e26')\"\n",
              "            title=\"Convert this dataframe to an interactive table.\"\n",
              "            style=\"display:none;\">\n",
              "\n",
              "  <svg xmlns=\"http://www.w3.org/2000/svg\" height=\"24px\" viewBox=\"0 -960 960 960\">\n",
              "    <path d=\"M120-120v-720h720v720H120Zm60-500h600v-160H180v160Zm220 220h160v-160H400v160Zm0 220h160v-160H400v160ZM180-400h160v-160H180v160Zm440 0h160v-160H620v160ZM180-180h160v-160H180v160Zm440 0h160v-160H620v160Z\"/>\n",
              "  </svg>\n",
              "    </button>\n",
              "\n",
              "  <style>\n",
              "    .colab-df-container {\n",
              "      display:flex;\n",
              "      gap: 12px;\n",
              "    }\n",
              "\n",
              "    .colab-df-convert {\n",
              "      background-color: #E8F0FE;\n",
              "      border: none;\n",
              "      border-radius: 50%;\n",
              "      cursor: pointer;\n",
              "      display: none;\n",
              "      fill: #1967D2;\n",
              "      height: 32px;\n",
              "      padding: 0 0 0 0;\n",
              "      width: 32px;\n",
              "    }\n",
              "\n",
              "    .colab-df-convert:hover {\n",
              "      background-color: #E2EBFA;\n",
              "      box-shadow: 0px 1px 2px rgba(60, 64, 67, 0.3), 0px 1px 3px 1px rgba(60, 64, 67, 0.15);\n",
              "      fill: #174EA6;\n",
              "    }\n",
              "\n",
              "    .colab-df-buttons div {\n",
              "      margin-bottom: 4px;\n",
              "    }\n",
              "\n",
              "    [theme=dark] .colab-df-convert {\n",
              "      background-color: #3B4455;\n",
              "      fill: #D2E3FC;\n",
              "    }\n",
              "\n",
              "    [theme=dark] .colab-df-convert:hover {\n",
              "      background-color: #434B5C;\n",
              "      box-shadow: 0px 1px 3px 1px rgba(0, 0, 0, 0.15);\n",
              "      filter: drop-shadow(0px 1px 2px rgba(0, 0, 0, 0.3));\n",
              "      fill: #FFFFFF;\n",
              "    }\n",
              "  </style>\n",
              "\n",
              "    <script>\n",
              "      const buttonEl =\n",
              "        document.querySelector('#df-d41059cd-c9c4-4bd5-9831-1cb2f2d69e26 button.colab-df-convert');\n",
              "      buttonEl.style.display =\n",
              "        google.colab.kernel.accessAllowed ? 'block' : 'none';\n",
              "\n",
              "      async function convertToInteractive(key) {\n",
              "        const element = document.querySelector('#df-d41059cd-c9c4-4bd5-9831-1cb2f2d69e26');\n",
              "        const dataTable =\n",
              "          await google.colab.kernel.invokeFunction('convertToInteractive',\n",
              "                                                    [key], {});\n",
              "        if (!dataTable) return;\n",
              "\n",
              "        const docLinkHtml = 'Like what you see? Visit the ' +\n",
              "          '<a target=\"_blank\" href=https://colab.research.google.com/notebooks/data_table.ipynb>data table notebook</a>'\n",
              "          + ' to learn more about interactive tables.';\n",
              "        element.innerHTML = '';\n",
              "        dataTable['output_type'] = 'display_data';\n",
              "        await google.colab.output.renderOutput(dataTable, element);\n",
              "        const docLink = document.createElement('div');\n",
              "        docLink.innerHTML = docLinkHtml;\n",
              "        element.appendChild(docLink);\n",
              "      }\n",
              "    </script>\n",
              "  </div>\n",
              "\n",
              "\n",
              "<div id=\"df-a54a1cd5-8e48-459a-8b33-761f6ca633e9\">\n",
              "  <button class=\"colab-df-quickchart\" onclick=\"quickchart('df-a54a1cd5-8e48-459a-8b33-761f6ca633e9')\"\n",
              "            title=\"Suggest charts\"\n",
              "            style=\"display:none;\">\n",
              "\n",
              "<svg xmlns=\"http://www.w3.org/2000/svg\" height=\"24px\"viewBox=\"0 0 24 24\"\n",
              "     width=\"24px\">\n",
              "    <g>\n",
              "        <path d=\"M19 3H5c-1.1 0-2 .9-2 2v14c0 1.1.9 2 2 2h14c1.1 0 2-.9 2-2V5c0-1.1-.9-2-2-2zM9 17H7v-7h2v7zm4 0h-2V7h2v10zm4 0h-2v-4h2v4z\"/>\n",
              "    </g>\n",
              "</svg>\n",
              "  </button>\n",
              "\n",
              "<style>\n",
              "  .colab-df-quickchart {\n",
              "      --bg-color: #E8F0FE;\n",
              "      --fill-color: #1967D2;\n",
              "      --hover-bg-color: #E2EBFA;\n",
              "      --hover-fill-color: #174EA6;\n",
              "      --disabled-fill-color: #AAA;\n",
              "      --disabled-bg-color: #DDD;\n",
              "  }\n",
              "\n",
              "  [theme=dark] .colab-df-quickchart {\n",
              "      --bg-color: #3B4455;\n",
              "      --fill-color: #D2E3FC;\n",
              "      --hover-bg-color: #434B5C;\n",
              "      --hover-fill-color: #FFFFFF;\n",
              "      --disabled-bg-color: #3B4455;\n",
              "      --disabled-fill-color: #666;\n",
              "  }\n",
              "\n",
              "  .colab-df-quickchart {\n",
              "    background-color: var(--bg-color);\n",
              "    border: none;\n",
              "    border-radius: 50%;\n",
              "    cursor: pointer;\n",
              "    display: none;\n",
              "    fill: var(--fill-color);\n",
              "    height: 32px;\n",
              "    padding: 0;\n",
              "    width: 32px;\n",
              "  }\n",
              "\n",
              "  .colab-df-quickchart:hover {\n",
              "    background-color: var(--hover-bg-color);\n",
              "    box-shadow: 0 1px 2px rgba(60, 64, 67, 0.3), 0 1px 3px 1px rgba(60, 64, 67, 0.15);\n",
              "    fill: var(--button-hover-fill-color);\n",
              "  }\n",
              "\n",
              "  .colab-df-quickchart-complete:disabled,\n",
              "  .colab-df-quickchart-complete:disabled:hover {\n",
              "    background-color: var(--disabled-bg-color);\n",
              "    fill: var(--disabled-fill-color);\n",
              "    box-shadow: none;\n",
              "  }\n",
              "\n",
              "  .colab-df-spinner {\n",
              "    border: 2px solid var(--fill-color);\n",
              "    border-color: transparent;\n",
              "    border-bottom-color: var(--fill-color);\n",
              "    animation:\n",
              "      spin 1s steps(1) infinite;\n",
              "  }\n",
              "\n",
              "  @keyframes spin {\n",
              "    0% {\n",
              "      border-color: transparent;\n",
              "      border-bottom-color: var(--fill-color);\n",
              "      border-left-color: var(--fill-color);\n",
              "    }\n",
              "    20% {\n",
              "      border-color: transparent;\n",
              "      border-left-color: var(--fill-color);\n",
              "      border-top-color: var(--fill-color);\n",
              "    }\n",
              "    30% {\n",
              "      border-color: transparent;\n",
              "      border-left-color: var(--fill-color);\n",
              "      border-top-color: var(--fill-color);\n",
              "      border-right-color: var(--fill-color);\n",
              "    }\n",
              "    40% {\n",
              "      border-color: transparent;\n",
              "      border-right-color: var(--fill-color);\n",
              "      border-top-color: var(--fill-color);\n",
              "    }\n",
              "    60% {\n",
              "      border-color: transparent;\n",
              "      border-right-color: var(--fill-color);\n",
              "    }\n",
              "    80% {\n",
              "      border-color: transparent;\n",
              "      border-right-color: var(--fill-color);\n",
              "      border-bottom-color: var(--fill-color);\n",
              "    }\n",
              "    90% {\n",
              "      border-color: transparent;\n",
              "      border-bottom-color: var(--fill-color);\n",
              "    }\n",
              "  }\n",
              "</style>\n",
              "\n",
              "  <script>\n",
              "    async function quickchart(key) {\n",
              "      const quickchartButtonEl =\n",
              "        document.querySelector('#' + key + ' button');\n",
              "      quickchartButtonEl.disabled = true;  // To prevent multiple clicks.\n",
              "      quickchartButtonEl.classList.add('colab-df-spinner');\n",
              "      try {\n",
              "        const charts = await google.colab.kernel.invokeFunction(\n",
              "            'suggestCharts', [key], {});\n",
              "      } catch (error) {\n",
              "        console.error('Error during call to suggestCharts:', error);\n",
              "      }\n",
              "      quickchartButtonEl.classList.remove('colab-df-spinner');\n",
              "      quickchartButtonEl.classList.add('colab-df-quickchart-complete');\n",
              "    }\n",
              "    (() => {\n",
              "      let quickchartButtonEl =\n",
              "        document.querySelector('#df-a54a1cd5-8e48-459a-8b33-761f6ca633e9 button');\n",
              "      quickchartButtonEl.style.display =\n",
              "        google.colab.kernel.accessAllowed ? 'block' : 'none';\n",
              "    })();\n",
              "  </script>\n",
              "</div>\n",
              "\n",
              "    </div>\n",
              "  </div>\n"
            ]
          },
          "metadata": {},
          "execution_count": 14
        }
      ]
    },
    {
      "cell_type": "code",
      "source": [
        "# Define the new function to handle multiple ● symbols\n",
        "def replace_with_detailed_feature_description(cell, feature_name):\n",
        "    if pd.isna(cell):\n",
        "        return cell  # Keep NaN as is\n",
        "    elif isinstance(cell, str):\n",
        "        # Replace specific symbols with words\n",
        "        cell = cell.replace('●', '有').replace('○', '选配').replace('-', '不具有').replace('NULL', '未知')\n",
        "        # Find all occurrences of \"有\" which indicates a feature is present\n",
        "        features = cell.split()\n",
        "        feature_descriptions = []\n",
        "        for feature in features:\n",
        "            if feature.startswith('有'):\n",
        "                feature_description = feature[1:]  # Remove the '有' prefix\n",
        "                feature_descriptions.append(feature_description)\n",
        "        if feature_descriptions:\n",
        "            return f\"具备{feature_name}功能，\" + \"、\".join(feature_descriptions)\n",
        "        else:\n",
        "            # If there are no '有', but the cell is not empty or NaN, it means\n",
        "            # it's either '选配', '不具有' or '未知'\n",
        "            return cell + feature_name + \"功能\"\n",
        "    else:\n",
        "        return cell  # Keep the original value if it doesn't match the above\n"
      ],
      "metadata": {
        "id": "rGR_poYrN0aE"
      },
      "execution_count": 15,
      "outputs": []
    },
    {
      "cell_type": "code",
      "source": [
        "# Apply the new function to each non-numeric cell\n",
        "for column in car_data_reduced.columns:\n",
        "    if car_data_reduced[column].dtype == 'object':  # Apply only to non-numeric columns\n",
        "        feature_name = column.strip()  # Clean up the column name if necessary\n",
        "        car_data_reduced[column] = car_data_reduced[column].apply(lambda cell:\n",
        "                               replace_with_detailed_feature_description(cell, feature_name))\n"
      ],
      "metadata": {
        "id": "L7E6VYPnOqzj"
      },
      "execution_count": 16,
      "outputs": []
    },
    {
      "cell_type": "code",
      "source": [
        "car_data_reduced.head(10)"
      ],
      "metadata": {
        "colab": {
          "base_uri": "https://localhost:8080/",
          "height": 1000
        },
        "id": "L3Q4ZdZ8PIbQ",
        "outputId": "c86fce55-2b8a-494f-977c-1691e65f2380"
      },
      "execution_count": 17,
      "outputs": [
        {
          "output_type": "execute_result",
          "data": {
            "text/plain": [
              "   fspecid  price  quick_charge_time(80%)  slow_charge_time  power_car  最大净功率  \\\n",
              "0    56818   8.18                     0.0               0.0        108    104   \n",
              "1    56817   9.18                     0.0               0.0        108    104   \n",
              "2    55788   9.98                     0.0               0.0        108    104   \n",
              "3    41053  11.98                     0.0               0.0        124    117   \n",
              "4    47564  10.98                     0.0               0.0        124    117   \n",
              "5    60951  15.98                     0.0               0.0        130    125   \n",
              "6    60948  12.98                     0.0               0.0        130    125   \n",
              "7    60949  13.98                     0.0               0.0        130    125   \n",
              "8    60950  14.98                     0.0               0.0        130    125   \n",
              "9    47571  14.98                     0.0               0.0        124    117   \n",
              "\n",
              "   torque_car  gears  max_speed  time_for_100km_h  ...       第二排座椅电动调节  \\\n",
              "0         250      6        170             10.80  ...             NaN   \n",
              "1         250      0        170             10.80  ...             NaN   \n",
              "2         250      0        170             10.80  ...             NaN   \n",
              "3         265      7        190             11.07  ...             NaN   \n",
              "4         265      6        195             10.89  ...             NaN   \n",
              "5         270      7        190              9.40  ...  不具有第二排座椅电动调节功能   \n",
              "6         270      7        190              9.40  ...  不具有第二排座椅电动调节功能   \n",
              "7         270      7        190              9.40  ...  不具有第二排座椅电动调节功能   \n",
              "8         270      7        190              9.40  ...  不具有第二排座椅电动调节功能   \n",
              "9         265      7        190             11.07  ...             NaN   \n",
              "\n",
              "        第二排座椅功能  后排液晶屏幕尺寸  第三排座椅功能  第三排座椅调节       可见即可说       语音免唤醒词  \\\n",
              "0           NaN       NaN      NaN      NaN         NaN          NaN   \n",
              "1           NaN       NaN      NaN      NaN         NaN          NaN   \n",
              "2           NaN       NaN      NaN      NaN         NaN          NaN   \n",
              "3           NaN       NaN      NaN      NaN         NaN          NaN   \n",
              "4           NaN       NaN      NaN      NaN         NaN          NaN   \n",
              "5  不具有第二排座椅功能功能       NaN      NaN      NaN  不具有可见即可说功能  具备语音免唤醒词功能，   \n",
              "6  不具有第二排座椅功能功能       NaN      NaN      NaN  不具有可见即可说功能  不具有语音免唤醒词功能   \n",
              "7  不具有第二排座椅功能功能       NaN      NaN      NaN  不具有可见即可说功能  不具有语音免唤醒词功能   \n",
              "8  不具有第二排座椅功能功能       NaN      NaN      NaN  不具有可见即可说功能  不具有语音免唤醒词功能   \n",
              "9           NaN       NaN      NaN      NaN         NaN          NaN   \n",
              "\n",
              "        语音分区域唤醒识别                                          手机app远程功能  \\\n",
              "0             NaN                                                NaN   \n",
              "1             NaN                                                NaN   \n",
              "2             NaN                                                NaN   \n",
              "3             NaN                                                NaN   \n",
              "4             NaN                                                NaN   \n",
              "5  不具有语音分区域唤醒识别功能  具备手机app远程功能功能，车门控制、车辆启动、空调控制、座椅加热、车况查询/诊断、车辆定位/寻车   \n",
              "6  不具有语音分区域唤醒识别功能                                     不具有手机app远程功能功能   \n",
              "7  不具有语音分区域唤醒识别功能                                     不具有手机app远程功能功能   \n",
              "8  不具有语音分区域唤醒识别功能                                     不具有手机app远程功能功能   \n",
              "9             NaN                                                NaN   \n",
              "\n",
              "         title  \n",
              "0  五菱佳辰title功能  \n",
              "1  五菱佳辰title功能  \n",
              "2  五菱佳辰title功能  \n",
              "3  传祺M6title功能  \n",
              "4  传祺M6title功能  \n",
              "5  传祺M6title功能  \n",
              "6  传祺M6title功能  \n",
              "7  传祺M6title功能  \n",
              "8  传祺M6title功能  \n",
              "9  传祺M6title功能  \n",
              "\n",
              "[10 rows x 239 columns]"
            ],
            "text/html": [
              "\n",
              "  <div id=\"df-abdb73bf-6398-4d0e-9a6e-169382ea862a\" class=\"colab-df-container\">\n",
              "    <div>\n",
              "<style scoped>\n",
              "    .dataframe tbody tr th:only-of-type {\n",
              "        vertical-align: middle;\n",
              "    }\n",
              "\n",
              "    .dataframe tbody tr th {\n",
              "        vertical-align: top;\n",
              "    }\n",
              "\n",
              "    .dataframe thead th {\n",
              "        text-align: right;\n",
              "    }\n",
              "</style>\n",
              "<table border=\"1\" class=\"dataframe\">\n",
              "  <thead>\n",
              "    <tr style=\"text-align: right;\">\n",
              "      <th></th>\n",
              "      <th>fspecid</th>\n",
              "      <th>price</th>\n",
              "      <th>quick_charge_time(80%)</th>\n",
              "      <th>slow_charge_time</th>\n",
              "      <th>power_car</th>\n",
              "      <th>最大净功率</th>\n",
              "      <th>torque_car</th>\n",
              "      <th>gears</th>\n",
              "      <th>max_speed</th>\n",
              "      <th>time_for_100km_h</th>\n",
              "      <th>...</th>\n",
              "      <th>第二排座椅电动调节</th>\n",
              "      <th>第二排座椅功能</th>\n",
              "      <th>后排液晶屏幕尺寸</th>\n",
              "      <th>第三排座椅功能</th>\n",
              "      <th>第三排座椅调节</th>\n",
              "      <th>可见即可说</th>\n",
              "      <th>语音免唤醒词</th>\n",
              "      <th>语音分区域唤醒识别</th>\n",
              "      <th>手机app远程功能</th>\n",
              "      <th>title</th>\n",
              "    </tr>\n",
              "  </thead>\n",
              "  <tbody>\n",
              "    <tr>\n",
              "      <th>0</th>\n",
              "      <td>56818</td>\n",
              "      <td>8.18</td>\n",
              "      <td>0.0</td>\n",
              "      <td>0.0</td>\n",
              "      <td>108</td>\n",
              "      <td>104</td>\n",
              "      <td>250</td>\n",
              "      <td>6</td>\n",
              "      <td>170</td>\n",
              "      <td>10.80</td>\n",
              "      <td>...</td>\n",
              "      <td>NaN</td>\n",
              "      <td>NaN</td>\n",
              "      <td>NaN</td>\n",
              "      <td>NaN</td>\n",
              "      <td>NaN</td>\n",
              "      <td>NaN</td>\n",
              "      <td>NaN</td>\n",
              "      <td>NaN</td>\n",
              "      <td>NaN</td>\n",
              "      <td>五菱佳辰title功能</td>\n",
              "    </tr>\n",
              "    <tr>\n",
              "      <th>1</th>\n",
              "      <td>56817</td>\n",
              "      <td>9.18</td>\n",
              "      <td>0.0</td>\n",
              "      <td>0.0</td>\n",
              "      <td>108</td>\n",
              "      <td>104</td>\n",
              "      <td>250</td>\n",
              "      <td>0</td>\n",
              "      <td>170</td>\n",
              "      <td>10.80</td>\n",
              "      <td>...</td>\n",
              "      <td>NaN</td>\n",
              "      <td>NaN</td>\n",
              "      <td>NaN</td>\n",
              "      <td>NaN</td>\n",
              "      <td>NaN</td>\n",
              "      <td>NaN</td>\n",
              "      <td>NaN</td>\n",
              "      <td>NaN</td>\n",
              "      <td>NaN</td>\n",
              "      <td>五菱佳辰title功能</td>\n",
              "    </tr>\n",
              "    <tr>\n",
              "      <th>2</th>\n",
              "      <td>55788</td>\n",
              "      <td>9.98</td>\n",
              "      <td>0.0</td>\n",
              "      <td>0.0</td>\n",
              "      <td>108</td>\n",
              "      <td>104</td>\n",
              "      <td>250</td>\n",
              "      <td>0</td>\n",
              "      <td>170</td>\n",
              "      <td>10.80</td>\n",
              "      <td>...</td>\n",
              "      <td>NaN</td>\n",
              "      <td>NaN</td>\n",
              "      <td>NaN</td>\n",
              "      <td>NaN</td>\n",
              "      <td>NaN</td>\n",
              "      <td>NaN</td>\n",
              "      <td>NaN</td>\n",
              "      <td>NaN</td>\n",
              "      <td>NaN</td>\n",
              "      <td>五菱佳辰title功能</td>\n",
              "    </tr>\n",
              "    <tr>\n",
              "      <th>3</th>\n",
              "      <td>41053</td>\n",
              "      <td>11.98</td>\n",
              "      <td>0.0</td>\n",
              "      <td>0.0</td>\n",
              "      <td>124</td>\n",
              "      <td>117</td>\n",
              "      <td>265</td>\n",
              "      <td>7</td>\n",
              "      <td>190</td>\n",
              "      <td>11.07</td>\n",
              "      <td>...</td>\n",
              "      <td>NaN</td>\n",
              "      <td>NaN</td>\n",
              "      <td>NaN</td>\n",
              "      <td>NaN</td>\n",
              "      <td>NaN</td>\n",
              "      <td>NaN</td>\n",
              "      <td>NaN</td>\n",
              "      <td>NaN</td>\n",
              "      <td>NaN</td>\n",
              "      <td>传祺M6title功能</td>\n",
              "    </tr>\n",
              "    <tr>\n",
              "      <th>4</th>\n",
              "      <td>47564</td>\n",
              "      <td>10.98</td>\n",
              "      <td>0.0</td>\n",
              "      <td>0.0</td>\n",
              "      <td>124</td>\n",
              "      <td>117</td>\n",
              "      <td>265</td>\n",
              "      <td>6</td>\n",
              "      <td>195</td>\n",
              "      <td>10.89</td>\n",
              "      <td>...</td>\n",
              "      <td>NaN</td>\n",
              "      <td>NaN</td>\n",
              "      <td>NaN</td>\n",
              "      <td>NaN</td>\n",
              "      <td>NaN</td>\n",
              "      <td>NaN</td>\n",
              "      <td>NaN</td>\n",
              "      <td>NaN</td>\n",
              "      <td>NaN</td>\n",
              "      <td>传祺M6title功能</td>\n",
              "    </tr>\n",
              "    <tr>\n",
              "      <th>5</th>\n",
              "      <td>60951</td>\n",
              "      <td>15.98</td>\n",
              "      <td>0.0</td>\n",
              "      <td>0.0</td>\n",
              "      <td>130</td>\n",
              "      <td>125</td>\n",
              "      <td>270</td>\n",
              "      <td>7</td>\n",
              "      <td>190</td>\n",
              "      <td>9.40</td>\n",
              "      <td>...</td>\n",
              "      <td>不具有第二排座椅电动调节功能</td>\n",
              "      <td>不具有第二排座椅功能功能</td>\n",
              "      <td>NaN</td>\n",
              "      <td>NaN</td>\n",
              "      <td>NaN</td>\n",
              "      <td>不具有可见即可说功能</td>\n",
              "      <td>具备语音免唤醒词功能，</td>\n",
              "      <td>不具有语音分区域唤醒识别功能</td>\n",
              "      <td>具备手机app远程功能功能，车门控制、车辆启动、空调控制、座椅加热、车况查询/诊断、车辆定位/寻车</td>\n",
              "      <td>传祺M6title功能</td>\n",
              "    </tr>\n",
              "    <tr>\n",
              "      <th>6</th>\n",
              "      <td>60948</td>\n",
              "      <td>12.98</td>\n",
              "      <td>0.0</td>\n",
              "      <td>0.0</td>\n",
              "      <td>130</td>\n",
              "      <td>125</td>\n",
              "      <td>270</td>\n",
              "      <td>7</td>\n",
              "      <td>190</td>\n",
              "      <td>9.40</td>\n",
              "      <td>...</td>\n",
              "      <td>不具有第二排座椅电动调节功能</td>\n",
              "      <td>不具有第二排座椅功能功能</td>\n",
              "      <td>NaN</td>\n",
              "      <td>NaN</td>\n",
              "      <td>NaN</td>\n",
              "      <td>不具有可见即可说功能</td>\n",
              "      <td>不具有语音免唤醒词功能</td>\n",
              "      <td>不具有语音分区域唤醒识别功能</td>\n",
              "      <td>不具有手机app远程功能功能</td>\n",
              "      <td>传祺M6title功能</td>\n",
              "    </tr>\n",
              "    <tr>\n",
              "      <th>7</th>\n",
              "      <td>60949</td>\n",
              "      <td>13.98</td>\n",
              "      <td>0.0</td>\n",
              "      <td>0.0</td>\n",
              "      <td>130</td>\n",
              "      <td>125</td>\n",
              "      <td>270</td>\n",
              "      <td>7</td>\n",
              "      <td>190</td>\n",
              "      <td>9.40</td>\n",
              "      <td>...</td>\n",
              "      <td>不具有第二排座椅电动调节功能</td>\n",
              "      <td>不具有第二排座椅功能功能</td>\n",
              "      <td>NaN</td>\n",
              "      <td>NaN</td>\n",
              "      <td>NaN</td>\n",
              "      <td>不具有可见即可说功能</td>\n",
              "      <td>不具有语音免唤醒词功能</td>\n",
              "      <td>不具有语音分区域唤醒识别功能</td>\n",
              "      <td>不具有手机app远程功能功能</td>\n",
              "      <td>传祺M6title功能</td>\n",
              "    </tr>\n",
              "    <tr>\n",
              "      <th>8</th>\n",
              "      <td>60950</td>\n",
              "      <td>14.98</td>\n",
              "      <td>0.0</td>\n",
              "      <td>0.0</td>\n",
              "      <td>130</td>\n",
              "      <td>125</td>\n",
              "      <td>270</td>\n",
              "      <td>7</td>\n",
              "      <td>190</td>\n",
              "      <td>9.40</td>\n",
              "      <td>...</td>\n",
              "      <td>不具有第二排座椅电动调节功能</td>\n",
              "      <td>不具有第二排座椅功能功能</td>\n",
              "      <td>NaN</td>\n",
              "      <td>NaN</td>\n",
              "      <td>NaN</td>\n",
              "      <td>不具有可见即可说功能</td>\n",
              "      <td>不具有语音免唤醒词功能</td>\n",
              "      <td>不具有语音分区域唤醒识别功能</td>\n",
              "      <td>不具有手机app远程功能功能</td>\n",
              "      <td>传祺M6title功能</td>\n",
              "    </tr>\n",
              "    <tr>\n",
              "      <th>9</th>\n",
              "      <td>47571</td>\n",
              "      <td>14.98</td>\n",
              "      <td>0.0</td>\n",
              "      <td>0.0</td>\n",
              "      <td>124</td>\n",
              "      <td>117</td>\n",
              "      <td>265</td>\n",
              "      <td>7</td>\n",
              "      <td>190</td>\n",
              "      <td>11.07</td>\n",
              "      <td>...</td>\n",
              "      <td>NaN</td>\n",
              "      <td>NaN</td>\n",
              "      <td>NaN</td>\n",
              "      <td>NaN</td>\n",
              "      <td>NaN</td>\n",
              "      <td>NaN</td>\n",
              "      <td>NaN</td>\n",
              "      <td>NaN</td>\n",
              "      <td>NaN</td>\n",
              "      <td>传祺M6title功能</td>\n",
              "    </tr>\n",
              "  </tbody>\n",
              "</table>\n",
              "<p>10 rows × 239 columns</p>\n",
              "</div>\n",
              "    <div class=\"colab-df-buttons\">\n",
              "\n",
              "  <div class=\"colab-df-container\">\n",
              "    <button class=\"colab-df-convert\" onclick=\"convertToInteractive('df-abdb73bf-6398-4d0e-9a6e-169382ea862a')\"\n",
              "            title=\"Convert this dataframe to an interactive table.\"\n",
              "            style=\"display:none;\">\n",
              "\n",
              "  <svg xmlns=\"http://www.w3.org/2000/svg\" height=\"24px\" viewBox=\"0 -960 960 960\">\n",
              "    <path d=\"M120-120v-720h720v720H120Zm60-500h600v-160H180v160Zm220 220h160v-160H400v160Zm0 220h160v-160H400v160ZM180-400h160v-160H180v160Zm440 0h160v-160H620v160ZM180-180h160v-160H180v160Zm440 0h160v-160H620v160Z\"/>\n",
              "  </svg>\n",
              "    </button>\n",
              "\n",
              "  <style>\n",
              "    .colab-df-container {\n",
              "      display:flex;\n",
              "      gap: 12px;\n",
              "    }\n",
              "\n",
              "    .colab-df-convert {\n",
              "      background-color: #E8F0FE;\n",
              "      border: none;\n",
              "      border-radius: 50%;\n",
              "      cursor: pointer;\n",
              "      display: none;\n",
              "      fill: #1967D2;\n",
              "      height: 32px;\n",
              "      padding: 0 0 0 0;\n",
              "      width: 32px;\n",
              "    }\n",
              "\n",
              "    .colab-df-convert:hover {\n",
              "      background-color: #E2EBFA;\n",
              "      box-shadow: 0px 1px 2px rgba(60, 64, 67, 0.3), 0px 1px 3px 1px rgba(60, 64, 67, 0.15);\n",
              "      fill: #174EA6;\n",
              "    }\n",
              "\n",
              "    .colab-df-buttons div {\n",
              "      margin-bottom: 4px;\n",
              "    }\n",
              "\n",
              "    [theme=dark] .colab-df-convert {\n",
              "      background-color: #3B4455;\n",
              "      fill: #D2E3FC;\n",
              "    }\n",
              "\n",
              "    [theme=dark] .colab-df-convert:hover {\n",
              "      background-color: #434B5C;\n",
              "      box-shadow: 0px 1px 3px 1px rgba(0, 0, 0, 0.15);\n",
              "      filter: drop-shadow(0px 1px 2px rgba(0, 0, 0, 0.3));\n",
              "      fill: #FFFFFF;\n",
              "    }\n",
              "  </style>\n",
              "\n",
              "    <script>\n",
              "      const buttonEl =\n",
              "        document.querySelector('#df-abdb73bf-6398-4d0e-9a6e-169382ea862a button.colab-df-convert');\n",
              "      buttonEl.style.display =\n",
              "        google.colab.kernel.accessAllowed ? 'block' : 'none';\n",
              "\n",
              "      async function convertToInteractive(key) {\n",
              "        const element = document.querySelector('#df-abdb73bf-6398-4d0e-9a6e-169382ea862a');\n",
              "        const dataTable =\n",
              "          await google.colab.kernel.invokeFunction('convertToInteractive',\n",
              "                                                    [key], {});\n",
              "        if (!dataTable) return;\n",
              "\n",
              "        const docLinkHtml = 'Like what you see? Visit the ' +\n",
              "          '<a target=\"_blank\" href=https://colab.research.google.com/notebooks/data_table.ipynb>data table notebook</a>'\n",
              "          + ' to learn more about interactive tables.';\n",
              "        element.innerHTML = '';\n",
              "        dataTable['output_type'] = 'display_data';\n",
              "        await google.colab.output.renderOutput(dataTable, element);\n",
              "        const docLink = document.createElement('div');\n",
              "        docLink.innerHTML = docLinkHtml;\n",
              "        element.appendChild(docLink);\n",
              "      }\n",
              "    </script>\n",
              "  </div>\n",
              "\n",
              "\n",
              "<div id=\"df-24185664-f926-4719-8b7e-716ac2868d68\">\n",
              "  <button class=\"colab-df-quickchart\" onclick=\"quickchart('df-24185664-f926-4719-8b7e-716ac2868d68')\"\n",
              "            title=\"Suggest charts\"\n",
              "            style=\"display:none;\">\n",
              "\n",
              "<svg xmlns=\"http://www.w3.org/2000/svg\" height=\"24px\"viewBox=\"0 0 24 24\"\n",
              "     width=\"24px\">\n",
              "    <g>\n",
              "        <path d=\"M19 3H5c-1.1 0-2 .9-2 2v14c0 1.1.9 2 2 2h14c1.1 0 2-.9 2-2V5c0-1.1-.9-2-2-2zM9 17H7v-7h2v7zm4 0h-2V7h2v10zm4 0h-2v-4h2v4z\"/>\n",
              "    </g>\n",
              "</svg>\n",
              "  </button>\n",
              "\n",
              "<style>\n",
              "  .colab-df-quickchart {\n",
              "      --bg-color: #E8F0FE;\n",
              "      --fill-color: #1967D2;\n",
              "      --hover-bg-color: #E2EBFA;\n",
              "      --hover-fill-color: #174EA6;\n",
              "      --disabled-fill-color: #AAA;\n",
              "      --disabled-bg-color: #DDD;\n",
              "  }\n",
              "\n",
              "  [theme=dark] .colab-df-quickchart {\n",
              "      --bg-color: #3B4455;\n",
              "      --fill-color: #D2E3FC;\n",
              "      --hover-bg-color: #434B5C;\n",
              "      --hover-fill-color: #FFFFFF;\n",
              "      --disabled-bg-color: #3B4455;\n",
              "      --disabled-fill-color: #666;\n",
              "  }\n",
              "\n",
              "  .colab-df-quickchart {\n",
              "    background-color: var(--bg-color);\n",
              "    border: none;\n",
              "    border-radius: 50%;\n",
              "    cursor: pointer;\n",
              "    display: none;\n",
              "    fill: var(--fill-color);\n",
              "    height: 32px;\n",
              "    padding: 0;\n",
              "    width: 32px;\n",
              "  }\n",
              "\n",
              "  .colab-df-quickchart:hover {\n",
              "    background-color: var(--hover-bg-color);\n",
              "    box-shadow: 0 1px 2px rgba(60, 64, 67, 0.3), 0 1px 3px 1px rgba(60, 64, 67, 0.15);\n",
              "    fill: var(--button-hover-fill-color);\n",
              "  }\n",
              "\n",
              "  .colab-df-quickchart-complete:disabled,\n",
              "  .colab-df-quickchart-complete:disabled:hover {\n",
              "    background-color: var(--disabled-bg-color);\n",
              "    fill: var(--disabled-fill-color);\n",
              "    box-shadow: none;\n",
              "  }\n",
              "\n",
              "  .colab-df-spinner {\n",
              "    border: 2px solid var(--fill-color);\n",
              "    border-color: transparent;\n",
              "    border-bottom-color: var(--fill-color);\n",
              "    animation:\n",
              "      spin 1s steps(1) infinite;\n",
              "  }\n",
              "\n",
              "  @keyframes spin {\n",
              "    0% {\n",
              "      border-color: transparent;\n",
              "      border-bottom-color: var(--fill-color);\n",
              "      border-left-color: var(--fill-color);\n",
              "    }\n",
              "    20% {\n",
              "      border-color: transparent;\n",
              "      border-left-color: var(--fill-color);\n",
              "      border-top-color: var(--fill-color);\n",
              "    }\n",
              "    30% {\n",
              "      border-color: transparent;\n",
              "      border-left-color: var(--fill-color);\n",
              "      border-top-color: var(--fill-color);\n",
              "      border-right-color: var(--fill-color);\n",
              "    }\n",
              "    40% {\n",
              "      border-color: transparent;\n",
              "      border-right-color: var(--fill-color);\n",
              "      border-top-color: var(--fill-color);\n",
              "    }\n",
              "    60% {\n",
              "      border-color: transparent;\n",
              "      border-right-color: var(--fill-color);\n",
              "    }\n",
              "    80% {\n",
              "      border-color: transparent;\n",
              "      border-right-color: var(--fill-color);\n",
              "      border-bottom-color: var(--fill-color);\n",
              "    }\n",
              "    90% {\n",
              "      border-color: transparent;\n",
              "      border-bottom-color: var(--fill-color);\n",
              "    }\n",
              "  }\n",
              "</style>\n",
              "\n",
              "  <script>\n",
              "    async function quickchart(key) {\n",
              "      const quickchartButtonEl =\n",
              "        document.querySelector('#' + key + ' button');\n",
              "      quickchartButtonEl.disabled = true;  // To prevent multiple clicks.\n",
              "      quickchartButtonEl.classList.add('colab-df-spinner');\n",
              "      try {\n",
              "        const charts = await google.colab.kernel.invokeFunction(\n",
              "            'suggestCharts', [key], {});\n",
              "      } catch (error) {\n",
              "        console.error('Error during call to suggestCharts:', error);\n",
              "      }\n",
              "      quickchartButtonEl.classList.remove('colab-df-spinner');\n",
              "      quickchartButtonEl.classList.add('colab-df-quickchart-complete');\n",
              "    }\n",
              "    (() => {\n",
              "      let quickchartButtonEl =\n",
              "        document.querySelector('#df-24185664-f926-4719-8b7e-716ac2868d68 button');\n",
              "      quickchartButtonEl.style.display =\n",
              "        google.colab.kernel.accessAllowed ? 'block' : 'none';\n",
              "    })();\n",
              "  </script>\n",
              "</div>\n",
              "\n",
              "    </div>\n",
              "  </div>\n"
            ]
          },
          "metadata": {},
          "execution_count": 17
        }
      ]
    },
    {
      "cell_type": "code",
      "source": [
        "# Define the path for the cleaned CSV file\n",
        "cleaned_file_path = '/content/cleaned_car_data.csv'\n",
        "\n",
        "# Save the cleaned dataframe to a CSV file\n",
        "car_data_reduced.to_csv(cleaned_file_path, index=False)  # Set index to False to avoid saving the index\n"
      ],
      "metadata": {
        "id": "mCsUHV05NFqf"
      },
      "execution_count": 18,
      "outputs": []
    },
    {
      "cell_type": "code",
      "source": [],
      "metadata": {
        "id": "rxGXm4Z1gv7w"
      },
      "execution_count": 18,
      "outputs": []
    },
    {
      "cell_type": "code",
      "source": [
        "dsc_up = user_data.values\n",
        "car_dict = car_data_reduced.values\n",
        "\n",
        "print(dsc_up.shape)\n",
        "print(car_dict.shape)"
      ],
      "metadata": {
        "colab": {
          "base_uri": "https://localhost:8080/"
        },
        "id": "32gv-oK_gmG-",
        "outputId": "0648ec88-f8e6-459f-a579-bae21ac84e2f"
      },
      "execution_count": 19,
      "outputs": [
        {
          "output_type": "stream",
          "name": "stdout",
          "text": [
            "(5520, 14)\n",
            "(142, 239)\n"
          ]
        }
      ]
    },
    {
      "cell_type": "code",
      "source": [
        "# column of last feature from 0 and +1\n",
        "col_last_feature_car = 238\n",
        "# 80\n",
        "col_last_num_feature_car = 38\n",
        "\n",
        "col_last_feature_user = 9\n",
        "\n",
        "col_last_num_feature_user = 5\n",
        "\n",
        "# 提取特征列表\n",
        "dsc_up_features = user_data.columns.tolist()\n",
        "car_dict_features = car_data_reduced.columns.tolist()\n",
        "\n",
        "dsc_up_features = user_data.columns[1:col_last_feature_user].tolist() # 提取第1至28个特征\n",
        "car_dict_features = car_data_reduced.columns[1:col_last_feature_car].tolist() # 提取第1至155个特征\n",
        "car_dict_num_features = car_data_reduced.columns[1:col_last_num_feature_car].tolist() # 提取第151至155个特征\n",
        "dsc_up_num_features = user_data.columns[1:col_last_num_feature_user].tolist()\n",
        "#\n",
        "\n",
        "print(dsc_up_features)\n",
        "print(car_dict_features)\n",
        "print(dsc_up_features[-1])\n",
        "print(car_dict_features[-1])\n",
        "print(car_dict_num_features[-1])\n",
        "print(dsc_up_num_features[-1])"
      ],
      "metadata": {
        "colab": {
          "base_uri": "https://localhost:8080/"
        },
        "id": "fZvgQPeWj3W-",
        "outputId": "8c627291-3568-43c9-8d13-f99cf8e9d8d6"
      },
      "execution_count": 20,
      "outputs": [
        {
          "output_type": "stream",
          "name": "stdout",
          "text": [
            "['comments', 'purposes', 'province', 'city', 'budget', 'drivenkiloms', 'driving _months', 'km/d']\n",
            "['price', 'quick_charge_time(80%)', 'slow_charge_time', 'power_car', '最大净功率', 'torque_car', 'gears', 'max_speed', 'time_for_100km_h', 'pure_electric_endurance_mileage', 'endurance_mileage', '电动机总功率', '电动机总扭矩', '前电动机最大功率', '前电动机最大扭矩', '后电动机最大功率', '后电动机最大扭矩', '驱动电机数', 'length', 'width', 'height', 'wheel_base', 'front_gauge', 'track_rear', 'curb_weight', 'seats', '扬声器数量', '中控屏幕尺寸', '后备厢容积min', '后备厢容积max', '超声波雷达数量', '毫米波雷达数量', '快充功率', '怠速车内噪声', '速度60车内噪声', '速度80车内噪声', '速度120车内噪声', '厂商', '级别', '能源类型', '发动机', '变速箱', '整车质保', '电机类型', '驱动电机数.1', '电机布局', '电池类型', '电池组质保', '变速箱类型', '驱动方式', '后悬架类型', '后制动器类型', '驻车制动类型', '前轮胎规格', '后轮胎规格', '备胎规格', '主_副驾驶座安全气囊', '前_后排侧气囊', '前_后排头部气囊', '膝部气囊', '胎压监测功能', '安全带未系提醒', 'ISOFIX儿童座椅接口', 'ABS防抱死', '制动力分配', '刹车辅助', '牵引力控制', '车身稳定控制', '并线辅助', '车道偏离预警系统', '车道保持辅助系统', '道路交通标识识别', '主动刹车_主动安全系统', '疲劳驾驶提示', '前_后驻车雷达', '驾驶辅助影像', '倒车车侧预警系统', '巡航系统', '驾驶模式切换', '自动泊车入位', '发动机启停技术', '自动驻车', '上坡辅助', '陡坡缓降', '可变悬架功能', '电磁感应悬架', '天窗类型', '轮圈材质', '侧滑门形式', '电动后备厢', '感应后备厢', '电动后备厢位置记忆', '车顶行李架', '发动机电子防盗', '车内中控锁', '钥匙类型', '无钥匙启动系统', '无钥匙进入功能', '主动闭合式进气格栅', '远程启动功能', '方向盘材质', '方向盘位置调节', '多功能方向盘', '方向盘换挡', '方向盘加热', '方向盘记忆', '行车电脑显示屏幕', '全液晶仪表盘', '液晶仪表尺寸', 'HUD抬头数字显示', '内置行车记录仪', '主动降噪', '手机无线充电功能', '座椅材质', '主座椅调节方式', '副座椅调节方式', '主_副驾驶座电动调节', '前排座椅功能', '电动座椅记忆功能', '副驾驶位后排可调节按钮', '第二排座椅调节', '后排座椅电动调节', '后排座椅功能', '后排小桌板', '第二排独立座椅', '座椅布局', '后排座椅放倒形式', '前_后中央扶手', '后排杯架', '加热_制冷杯架', '导航路况信息显示', '道路救援呼叫', '蓝牙_车载电话', '手机互联_映射', '语音识别控制系统', '手势控制', '车联网', '后排液晶屏幕', '后排控制多媒体', 'USB_TypeC接口数量', '车载CD_DVD', '电源220V_230V', '行李厢12V电源接口', '扬声器品牌名称', '近光灯光源', '远光灯光源', '灯光特色功能', 'LED日间行车灯', '自适应远近光', '自动头灯', '转向辅助灯', '车前雾灯', '前大灯雨雾模式', '大灯高度可调', '大灯延时关闭', '触摸式阅读灯', '车内环境氛围灯', '前_后电动车窗', '车窗一键升降功能', '车窗防夹手功能', '多层隔音玻璃', '外后视镜功能', '内后视镜功能', '后排侧窗遮阳帘', '后排侧隐私玻璃', '车内化妆镜', '后雨刷', '感应雨刷功能', '空调温度控制方式', '后排独立空调', '后座出风口', '温度分区控制', '车载空气净化器', '车内PM过滤装置', '负离子发生器', '车内香氛装置', '车载冰箱', '外观颜色', '内饰颜色', 'ota升级', '电池预加热', '面部识别', '缺气保用轮胎', '电池能量', '多媒体_充电接口', '电动机', '中控彩色屏幕', '毫米波雷达数量.1', '卫星导航系统', 'nedc综合油耗', '发动机布局', '超声波雷达数量.1', '芯片总算力', '摄像头数量', '最低荷电状态油耗', 'nedc纯电续航里程', 'cltc纯电续航里程', '发动机最大扭矩', '发动机最大功率', 'dow开门预警', '手机app远程控制', '快充功能', 'ar实景导航', '前方碰撞预警', 'etc装置', '最大满载质量', '满载最小离地间隙', '辅助驾驶等级', '换挡形式', '离去角', '车载智能系统', '制动能量回收系统', '电芯品牌', '电动机总功率.1', '低速行车警告', '最小转弯半径', '热泵空调', '地图品牌', 'wi_fi热点', '对外放电', '电池冷却方式', '遥控泊车', '透明底盘_540度影像', '后方碰撞预警', '自动变道辅助', '车内生物监测系统', '车道居中保持', '福祉座椅', '第二排座椅电动调节', '第二排座椅功能', '后排液晶屏幕尺寸', '第三排座椅功能', '第三排座椅调节', '可见即可说', '语音免唤醒词', '语音分区域唤醒识别', '手机app远程功能']\n",
            "km/d\n",
            "手机app远程功能\n",
            "速度120车内噪声\n",
            "city\n"
          ]
        }
      ]
    },
    {
      "cell_type": "code",
      "source": [
        "num_cars = len(car_dict)\n",
        "print(f'The No. of cars in fundamental model dataset : {num_cars}')"
      ],
      "metadata": {
        "colab": {
          "base_uri": "https://localhost:8080/"
        },
        "id": "ntVG_2LYkdMw",
        "outputId": "e96a554f-4529-42fa-9269-49c51837eda6"
      },
      "execution_count": 21,
      "outputs": [
        {
          "output_type": "stream",
          "name": "stdout",
          "text": [
            "The No. of cars in fundamental model dataset : 142\n"
          ]
        }
      ]
    },
    {
      "cell_type": "code",
      "source": [
        "# balance dsc_up samples\n",
        "dsc_up_bal = np.empty(shape=(1, dsc_up.shape[1]))\n",
        "\n",
        "for i in range(num_cars):\n",
        "  if len(dsc_up[user_data.no_in_car_dict == i]) > 300:\n",
        "    ran_row_bal = np.random.choice(np.arange(len(dsc_up[user_data.no_in_car_dict == i])), size=300, replace=False)\n",
        "    dsc_up_bali = dsc_up[user_data.no_in_car_dict == i][ran_row_bal]\n",
        "  else:\n",
        "    dsc_up_bali = dsc_up[user_data.no_in_car_dict == i]\n",
        "  dsc_up_bal = np.concatenate((dsc_up_bal, dsc_up_bali), axis=0)\n",
        "dsc_up = dsc_up_bal[1:]\n",
        "print(dsc_up.shape)"
      ],
      "metadata": {
        "colab": {
          "base_uri": "https://localhost:8080/"
        },
        "id": "XyvNGYCDkwPs",
        "outputId": "0a5c5d8b-b628-4037-ea6c-46f86b14e061"
      },
      "execution_count": 22,
      "outputs": [
        {
          "output_type": "stream",
          "name": "stdout",
          "text": [
            "(4945, 14)\n"
          ]
        }
      ]
    },
    {
      "cell_type": "code",
      "source": [
        "# load the label\n",
        "print(f'The shape of cars dict of the fundamental model dataset : {car_dict.shape}')\n",
        "print(f'The shape of users list of the fundamental model dataset : {dsc_up.shape}')\n",
        "\n",
        "ys_up = dsc_up[:, 12]\n",
        "print(f'The label of which user choosed which car in fundamental dataset : {ys_up}')"
      ],
      "metadata": {
        "colab": {
          "base_uri": "https://localhost:8080/"
        },
        "id": "RjOJBEuMluGx",
        "outputId": "7ccd60e2-7f55-4d7a-fed8-307c8180da26"
      },
      "execution_count": 23,
      "outputs": [
        {
          "output_type": "stream",
          "name": "stdout",
          "text": [
            "The shape of cars dict of the fundamental model dataset : (142, 239)\n",
            "The shape of users list of the fundamental model dataset : (4945, 14)\n",
            "The label of which user choosed which car in fundamental dataset : [0 0 0 ... 141 141 141]\n"
          ]
        }
      ]
    },
    {
      "cell_type": "code",
      "source": [
        "# transfer the label of fundamental dataset to onehot_code\n",
        "ys = copy.copy(ys_up.reshape(len(ys_up), 1))\n",
        "ys -= 1\n",
        "onehot_encoder = OneHotEncoder(sparse_output=False)\n",
        "onehot_encoded = onehot_encoder.fit_transform(ys)\n",
        "ys = onehot_encoded\n",
        "print(f'The shape of the label of fundamental dataset to onehot_code : {ys.shape}')\n"
      ],
      "metadata": {
        "colab": {
          "base_uri": "https://localhost:8080/"
        },
        "id": "w4WkJ63lme3M",
        "outputId": "f57b9e1a-a850-4b9f-91a8-946602f4ec18"
      },
      "execution_count": 24,
      "outputs": [
        {
          "output_type": "stream",
          "name": "stdout",
          "text": [
            "The shape of the label of fundamental dataset to onehot_code : (4945, 142)\n"
          ]
        }
      ]
    },
    {
      "cell_type": "code",
      "source": [
        "car_unscaled = car_dict[:, 1:col_last_feature_car]\n",
        "user_unscaled = dsc_up[:, 1:col_last_feature_user]\n",
        "\n",
        "\n",
        "# generate the gaussian random no. to budget feature\n",
        "mu_budget = 0.5\n",
        "sigma_budget = 2\n",
        "\n",
        "for i in range(len(user_unscaled)):\n",
        "    user_unscaled[i, 4] += random.gauss(mu_budget, sigma_budget)\n",
        "\n",
        "car = car_unscaled.copy()\n",
        "user = user_unscaled.copy()\n",
        "\n",
        "# car_num_unscaled = car_unscaled[:, 0:col_last_num_feature_car-1]\n",
        "# user_num_unscaled = user_unscaled[:, (col_last_num_feature_user-1):(col_last_feature_user-1)]\n",
        "\n",
        "# car_nnum_unscaled = car_unscaled[:, col_last_num_feature_car-1:col_last_feature_car-1]\n",
        "# user_nnum_unscaled = user_unscaled[:, 0:col_last_num_feature_user-1]\n",
        "\n",
        "# print(car_nnum_unscaled.shape)\n",
        "# print(user_nnum_unscaled.shape)"
      ],
      "metadata": {
        "id": "TRvNKkLbmrnF"
      },
      "execution_count": 25,
      "outputs": []
    },
    {
      "cell_type": "code",
      "source": [
        "# scaling the data\n",
        "scalerCar = StandardScaler()\n",
        "scalerCar.fit(car_unscaled[:, 0:col_last_num_feature_car-1])\n",
        "car_nume = scalerCar.transform(car_unscaled[:, 0:col_last_num_feature_car-1])\n",
        "car[:, 0:col_last_num_feature_car-1] = car_nume\n",
        "\n",
        "scalerUser = StandardScaler()\n",
        "scalerUser.fit(user_unscaled[:, (col_last_num_feature_user-1):(col_last_feature_user-1)])\n",
        "user_nume = scalerUser.transform(user_unscaled[:, (col_last_num_feature_user-1):(col_last_feature_user-1)])\n",
        "user[:, col_last_num_feature_user-1:col_last_feature_user-1] = user_nume\n",
        "\n",
        "print(np.allclose(car_unscaled[:, 0:col_last_num_feature_car-1].astype(float), scalerCar.inverse_transform(car_nume)))\n",
        "print(np.allclose(user_unscaled[:, (col_last_num_feature_user-1):(col_last_feature_user-1)].astype(float), scalerUser.inverse_transform(user_nume)))"
      ],
      "metadata": {
        "colab": {
          "base_uri": "https://localhost:8080/"
        },
        "id": "wy4jeQUb7OnO",
        "outputId": "8aa78976-66f7-4e4b-8a03-fcfafe03bb81"
      },
      "execution_count": 26,
      "outputs": [
        {
          "output_type": "stream",
          "name": "stdout",
          "text": [
            "True\n",
            "True\n"
          ]
        }
      ]
    },
    {
      "cell_type": "markdown",
      "source": [
        "# 特征分析"
      ],
      "metadata": {
        "id": "b-w73jEAtHl_"
      }
    },
    {
      "cell_type": "markdown",
      "source": [
        "# 样本匹配"
      ],
      "metadata": {
        "id": "0HKkbIgktMr9"
      }
    },
    {
      "cell_type": "code",
      "source": [
        "# func for generating num_items users of different cars\n",
        "def gen_user_vecs(user_vec, num_items):\n",
        "    \"\"\" given a user vector return:\n",
        "        user predict matrix to match the size of item_vecs \"\"\"\n",
        "    user_vecs = np.tile(user_vec, (1, num_items))\n",
        "    return user_vecs\n",
        "\n",
        "def gen_car_vecs(car_vec, num_users):\n",
        "    car_vecs = np.tile(car_vec, (num_users, 1))\n",
        "    return car_vecs"
      ],
      "metadata": {
        "id": "RGWvsjGjtSuN"
      },
      "execution_count": 27,
      "outputs": []
    },
    {
      "cell_type": "code",
      "source": [
        "# generate num_items users for different cars\n",
        "user_vecs = gen_user_vecs(user, len(car_dict))\n",
        "user_vecs = user_vecs.reshape(-1, user.shape[1])\n",
        "car_vecs = gen_car_vecs(car, len(dsc_up))\n",
        "ys = ys.reshape(-1, 1)\n",
        "print(f'The shape of user matrix in fundamental dataset : {user_vecs.shape}')\n",
        "print(f'The shape of car matrix in fundamental dataset : {car_vecs.shape}')\n",
        "print(f'The shape of label matrix in fundamental dataset : {ys.shape}')\n"
      ],
      "metadata": {
        "colab": {
          "base_uri": "https://localhost:8080/"
        },
        "id": "SIyXCaButWRD",
        "outputId": "5f7c3567-dc96-4e64-cc47-2e4d03e784db"
      },
      "execution_count": 28,
      "outputs": [
        {
          "output_type": "stream",
          "name": "stdout",
          "text": [
            "The shape of user matrix in fundamental dataset : (702190, 8)\n",
            "The shape of car matrix in fundamental dataset : (702190, 237)\n",
            "The shape of label matrix in fundamental dataset : (702190, 1)\n"
          ]
        }
      ]
    },
    {
      "cell_type": "code",
      "source": [
        "print(ys[ys == 0].shape)"
      ],
      "metadata": {
        "colab": {
          "base_uri": "https://localhost:8080/"
        },
        "id": "x_DRRONEtWGw",
        "outputId": "03bd477e-8639-438d-ac5f-adf1a96463d7"
      },
      "execution_count": 29,
      "outputs": [
        {
          "output_type": "stream",
          "name": "stdout",
          "text": [
            "(697245,)\n"
          ]
        }
      ]
    },
    {
      "cell_type": "code",
      "source": [
        "randnum = random.randint(0, 100)\n",
        "print(randnum)\n",
        "random.seed(randnum)"
      ],
      "metadata": {
        "colab": {
          "base_uri": "https://localhost:8080/"
        },
        "id": "hoF13eimx1SM",
        "outputId": "418581af-62ce-47df-adb3-3eef249001db"
      },
      "execution_count": 30,
      "outputs": [
        {
          "output_type": "stream",
          "name": "stdout",
          "text": [
            "17\n"
          ]
        }
      ]
    },
    {
      "cell_type": "code",
      "source": [
        "# case 3\n",
        "# Random choose the users which label is 0 in fundamental dataset\n",
        "\n",
        "user_vecs_one = user_vecs[(ys == 1)[:, 0]]\n",
        "user_vecs_zero = user_vecs[(ys == 0)[:, 0]]\n",
        "num_users = user_vecs_one.shape[0]\n",
        "num_zeros = user_vecs_zero.shape[0]\n",
        "random.seed(randnum)\n",
        "\n",
        "sample_row = np.random.choice(np.arange(num_zeros), size=np.ceil(num_users * 1.2).astype(int), replace=False)\n",
        "user_vecs_zero = user_vecs_zero[sample_row]\n",
        "user_vecs = np.concatenate((user_vecs_zero, user_vecs_one), axis=0)\n",
        "\n",
        "# random.seed(44)\n",
        "shuffle_row = np.random.choice(np.arange(0,len(user_vecs)), len(user_vecs), replace=False)\n",
        "user_vecs = user_vecs[shuffle_row]\n",
        "print(f'The shape of the users data in fundatmental dataset after balancing : {user_vecs.shape}')"
      ],
      "metadata": {
        "colab": {
          "base_uri": "https://localhost:8080/"
        },
        "id": "Eyn01LI_x4vi",
        "outputId": "93decf63-0cd9-4ec6-8f9d-554ebcd1d4c2"
      },
      "execution_count": 31,
      "outputs": [
        {
          "output_type": "stream",
          "name": "stdout",
          "text": [
            "The shape of the users data in fundatmental dataset after balancing : (10879, 8)\n"
          ]
        }
      ]
    },
    {
      "cell_type": "code",
      "source": [
        "# case3\n",
        "# Random choose the cars which label is 0 in fundamental dataset\n",
        "\n",
        "car_vecs_one = car_vecs[(ys == 1)[:, 0]]\n",
        "car_vecs_zero = car_vecs[(ys == 0)[:, 0]][sample_row]\n",
        "car_vecs = np.concatenate((car_vecs_zero, car_vecs_one), axis=0)\n",
        "\n",
        "car_vecs = car_vecs[shuffle_row]\n",
        "print(f'The shape of the cars data in fundatmental dataset after balancing : {car_vecs.shape}')"
      ],
      "metadata": {
        "colab": {
          "base_uri": "https://localhost:8080/"
        },
        "id": "pRkU0E1lyCMR",
        "outputId": "4f785507-96d6-4365-d013-631f7208e86f"
      },
      "execution_count": 32,
      "outputs": [
        {
          "output_type": "stream",
          "name": "stdout",
          "text": [
            "The shape of the cars data in fundatmental dataset after balancing : (10879, 237)\n"
          ]
        }
      ]
    },
    {
      "cell_type": "code",
      "source": [
        "# case 3\n",
        "# Random choose the label which is 0 in fundamental dataset\n",
        "ys_one = ys[(ys == 1)[:, 0]]\n",
        "ys_zero = ys[(ys == 0)[:, 0]][sample_row]\n",
        "ys = np.concatenate((ys_zero, ys_one), axis=0)\n",
        "\n",
        "ys = ys[shuffle_row]\n",
        "print(f'The shape of label data in fundatmental dataset after balancing : {ys.shape}')"
      ],
      "metadata": {
        "colab": {
          "base_uri": "https://localhost:8080/"
        },
        "id": "EFqNLO2nyHKi",
        "outputId": "d90fa334-6803-4225-d475-e13aaf535d14"
      },
      "execution_count": 33,
      "outputs": [
        {
          "output_type": "stream",
          "name": "stdout",
          "text": [
            "The shape of label data in fundatmental dataset after balancing : (10879, 1)\n"
          ]
        }
      ]
    },
    {
      "cell_type": "code",
      "source": [
        "user_vecs_nnum = user_vecs[:, 0:col_last_num_feature_user-1]\n",
        "user_vecs_num = user_vecs[:, (col_last_num_feature_user-1):(col_last_feature_user-1)]\n",
        "\n",
        "car_vecs_nnum = car_vecs[:, col_last_num_feature_car-1:col_last_feature_car-1]\n",
        "car_vecs_num = car_vecs[:, 0:col_last_num_feature_car-1]"
      ],
      "metadata": {
        "id": "b3Gm9hjeyOHE"
      },
      "execution_count": 34,
      "outputs": []
    },
    {
      "cell_type": "code",
      "source": [
        "print(user_vecs_nnum.shape)\n",
        "print(user_vecs_num.shape)\n",
        "print(car_vecs_nnum.shape)\n",
        "print(car_vecs_num.shape)"
      ],
      "metadata": {
        "colab": {
          "base_uri": "https://localhost:8080/"
        },
        "id": "f3imzbTRy2GF",
        "outputId": "9d5ce54a-6c86-4975-ad1f-d47182f47eb9"
      },
      "execution_count": 35,
      "outputs": [
        {
          "output_type": "stream",
          "name": "stdout",
          "text": [
            "(10879, 4)\n",
            "(10879, 4)\n",
            "(10879, 200)\n",
            "(10879, 37)\n"
          ]
        }
      ]
    },
    {
      "cell_type": "code",
      "source": [],
      "metadata": {
        "id": "ijm70ekB8rEv"
      },
      "execution_count": 35,
      "outputs": []
    },
    {
      "cell_type": "markdown",
      "source": [
        "# 文本处理及embedding layer bulding"
      ],
      "metadata": {
        "id": "26Bv5PgSFyXb"
      }
    },
    {
      "cell_type": "code",
      "source": [
        "durations = []\n",
        "for sent in user_vecs_nnum[:, 0]:\n",
        "    durations.append(len(sent))\n",
        "plt.figure(figsize=(30, 5))\n",
        "nums, bins, patches = plt.hist(durations, bins=20, edgecolor='k')\n",
        "plt.xticks(bins, bins)\n",
        "for num, bin in zip(nums, bins):\n",
        "    plt.annotate(num, xy=(bin, num), xytext=(bin + 1.5, num + 0.5))\n",
        "plt.show()"
      ],
      "metadata": {
        "colab": {
          "base_uri": "https://localhost:8080/",
          "height": 192
        },
        "id": "FTYB1odJVVSs",
        "outputId": "7a254d43-deb3-4847-a1c4-2319222aa7cf"
      },
      "execution_count": null,
      "outputs": [
        {
          "output_type": "display_data",
          "data": {
            "text/plain": [
              "<Figure size 3000x500 with 1 Axes>"
            ],
            "image/png": "[encoded data removed]"
          },
          "metadata": {}
        }
      ]
    },
    {
      "cell_type": "code",
      "source": [
        "user_vecs_nnum[4, :]"
      ],
      "metadata": {
        "colab": {
          "base_uri": "https://localhost:8080/"
        },
        "id": "Z0d5Easq9nYt",
        "outputId": "da3c072e-5885-48ed-f151-99bb813b2b76"
      },
      "execution_count": null,
      "outputs": [
        {
          "output_type": "execute_result",
          "data": {
            "text/plain": [
              "array(['【最满意的一点】\\r\\n说句心里话，买别克8陆尊就是为了带家人一块儿在孩子放暑假寒假的时候，带着父母带着孩子出去玩的一款车。爸爸妈妈做第二排，孩子坐第三排。车里面空间又大又舒服，第二排中间有个过道可以让家人来回到替换座位。\\r\\n【最不满意的一点】\\r\\n别克GL8路尊，因为车长度达到了5.2米，车子大，而且尊享版还没有带360全景影像，在拐弯和拥堵的地方会有点不方便。车内的中控屏幕操作系统反应慢。操作系统不够灵敏，在联网的时候，网络4G会有断网现象。\\r\\n【空间】\\r\\n\\r\\n空间：爸爸的身高比我还要高，有1m8。坐在第二排头部顶的空间还有两拳，GL8的第二排座椅靠背，往后一躺就像一个小沙发。家人在旅途的路上，可以在车内睡觉休息，非常的舒适。\\r\\n【动力】\\r\\n\\r\\n动力：在商务车之中，我选择别克商务，其实我是看中是车开着稳，车身钢材硬，车子安全系数高。陆尊有六个安全气囊，胎压监测和车身稳定系统，再加上别克以前的安全口碑。和一家人坐在车里面安全让我很放心。\\r\\n【操控】\\r\\n\\r\\n【油耗】\\r\\n\\r\\n油耗：在高速上大概是7个油。市区就不好说，跑的路不一样，开车习惯不同，油耗大概需要在10到13个油之间。开空调对这款车的油耗影响不大。\\r\\n【舒适性】\\r\\n\\r\\n【外观】\\r\\n\\r\\n外观：买任何东西首先看的都是外观。陆尊的外观豪华气派。看了好几款商务车，最看重的就是别克商务\\r\\n【内饰】\\r\\n\\r\\n内饰：内饰颜色的耐脏，里面配置也很丰富。挂挡的档杆是电子档杆，如果在d档的位置上直接熄火，车辆不会往前跑，会自动回正到P档。市区开车还有自动驻车功能。不用脚，一直老是踩着刹车。\\r\\n【性价比】\\r\\n\\r\\n性价比：30多万的车子。有这么好的空间和舒适效果，我很心满意足。因为别克陆尊销量好。所以后期的保值率也是很高。\\r\\n【为什么最终选择这款车】',\n",
              "       '上下班,购物,接送小孩,自驾游', '广西', '南宁'], dtype=object)"
            ]
          },
          "metadata": {},
          "execution_count": 89
        }
      ]
    },
    {
      "cell_type": "code",
      "source": [
        "car_vecs_nnum[0, :]"
      ],
      "metadata": {
        "id": "hzLiV8iYj0xd",
        "outputId": "ef878d86-3273-42ea-e071-c71944bcd415",
        "colab": {
          "base_uri": "https://localhost:8080/"
        }
      },
      "execution_count": null,
      "outputs": [
        {
          "output_type": "execute_result",
          "data": {
            "text/plain": [
              "array(['广汽本田厂商功能', '中型MPV级别功能', '油电混合能源类型功能', '2.0L 146马力 L4发动机功能',\n",
              "       'E不具有CVT无级变速变速箱功能', '三年或10万公里整车质保功能', '不具有电机类型功能', '单电机驱动电机数.1功能',\n",
              "       '前置电机布局功能', '锂离子电池电池类型功能', '十年或20万公里电池组质保功能',\n",
              "       '电子无级变速箱(E不具有CVT)变速箱类型功能', '前置前驱驱动方式功能', '扭力梁式非独立悬架后悬架类型功能',\n",
              "       '盘式后制动器类型功能', '电子驻车驻车制动类型功能', '215/60 R17前轮胎规格功能',\n",
              "       '215/60 R17后轮胎规格功能', '无备胎规格功能', '主有/副有主_副驾驶座安全气囊功能',\n",
              "       '前有/后不具有前_后排侧气囊功能', '前有/后有前_后排头部气囊功能', '不具有膝部气囊功能',\n",
              "       '具备胎压监测功能功能，胎压报警', '具备安全带未系提醒功能，前排', '具备ISOFIX儿童座椅接口功能，',\n",
              "       '具备ABS防抱死功能，', '具备制动力分配功能，', '具备刹车辅助功能，', '具备牵引力控制功能，',\n",
              "       '具备车身稳定控制功能，', '不具有并线辅助功能', '具备车道偏离预警系统功能，', '具备车道保持辅助系统功能，',\n",
              "       '具备道路交通标识识别功能，', '具备主动刹车_主动安全系统功能，', '不具有疲劳驾驶提示功能',\n",
              "       '前有/后有前_后驻车雷达功能', '具备驾驶辅助影像功能，360度全景影像、车侧盲区影像', '不具有倒车车侧预警系统功能',\n",
              "       '具备巡航系统功能，全速自适应巡航', '具备驾驶模式切换功能，运动、经济', '具备自动泊车入位功能，',\n",
              "       '不具有发动机启停技术功能', '具备自动驻车功能，', '具备上坡辅助功能，', '不具有陡坡缓降功能',\n",
              "       '不具有可变悬架功能功能', '不具有电磁感应悬架功能', '具备天窗类型功能，分段式电动天窗', '具备轮圈材质功能，铝合金',\n",
              "       '具备侧滑门形式功能，双侧电动', '不具有电动后备厢功能', '不具有感应后备厢功能', '不具有电动后备厢位置记忆功能',\n",
              "       '不具有车顶行李架功能', '具备发动机电子防盗功能，', '具备车内中控锁功能，', '具备钥匙类型功能，遥控钥匙',\n",
              "       '具备无钥匙启动系统功能，', '具备无钥匙进入功能功能，全车', '不具有主动闭合式进气格栅功能', '具备远程启动功能功能，',\n",
              "       '具备方向盘材质功能，真皮', '具备方向盘位置调节功能，手动上下+前后调节', '具备多功能方向盘功能，',\n",
              "       '不具有方向盘换挡功能', '不具有方向盘加热功能', '不具有方向盘记忆功能', '具备行车电脑显示屏幕功能，彩色',\n",
              "       '不具有全液晶仪表盘功能', '不具有液晶仪表尺寸功能', '不具有HUD抬头数字显示功能', '不具有内置行车记录仪功能',\n",
              "       '不具有主动降噪功能', '不具有手机无线充电功能功能', '具备座椅材质功能，真皮',\n",
              "       '具备主座椅调节方式功能，前后调节、靠背调节、高低调节(4向)', '具备副座椅调节方式功能，前后调节、靠背调节',\n",
              "       '主有/副有主_副驾驶座电动调节功能', '具备前排座椅功能功能，加热', '不具有电动座椅记忆功能功能',\n",
              "       '不具有副驾驶位后排可调节按钮功能', '具备第二排座椅调节功能，前后调节、靠背调节、肩部调节、腿托调节、左右调节',\n",
              "       '具备后排座椅电动调节功能，', '具备后排座椅功能功能，加热', '具备后排小桌板功能，', '具备第二排独立座椅功能，',\n",
              "       '具备座椅布局功能，2不具有2不具有3', '具备后排座椅放倒形式功能，比例放倒', '前有/后有前_后中央扶手功能',\n",
              "       '具备后排杯架功能，', '不具有加热_制冷杯架功能', '具备导航路况信息显示功能，', '具备道路救援呼叫功能，',\n",
              "       '具备蓝牙_车载电话功能，', '不具有手机互联_映射功能', '具备语音识别控制系统功能，电话', '不具有手势控制功能',\n",
              "       '具备车联网功能，', '不具有后排液晶屏幕功能', '不具有后排控制多媒体功能',\n",
              "       '具备USB_TypeC接口数量功能，前排2个/后排2个', '不具有车载CD_DVD功能', '不具有电源220V_230V功能',\n",
              "       '不具有行李厢12V电源接口功能', '不具有扬声器品牌名称功能', '具备近光灯光源功能，LED', '具备远光灯光源功能，卤素',\n",
              "       '不具有灯光特色功能功能', '具备LED日间行车灯功能，', '不具有自适应远近光功能', '具备自动头灯功能，',\n",
              "       '具备转向辅助灯功能，', '具备车前雾灯功能，LED', '不具有前大灯雨雾模式功能', '具备大灯高度可调功能，',\n",
              "       '具备大灯延时关闭功能，', '不具有触摸式阅读灯功能', '不具有车内环境氛围灯功能', '前有/后有前_后电动车窗功能',\n",
              "       '具备车窗一键升降功能功能，全车', '具备车窗防夹手功能功能，', '具备多层隔音玻璃功能，前排',\n",
              "       '具备外后视镜功能功能，电动调节、电动折叠、后视镜加热、锁车自动折叠', '具备内后视镜功能功能，自动防眩目',\n",
              "       '具备后排侧窗遮阳帘功能，手动', '具备后排侧隐私玻璃功能，', '具备车内化妆镜功能，主驾驶+照明灯、副驾驶+照明灯',\n",
              "       '具备后雨刷功能，', '不具有感应雨刷功能功能', '具备空调温度控制方式功能，自动空调', '具备后排独立空调功能，',\n",
              "       '具备后座出风口功能，', '具备温度分区控制功能，', '不具有车载空气净化器功能', '具备车内PM过滤装置功能，',\n",
              "       '不具有负离子发生器功能', '不具有车内香氛装置功能', '不具有车载冰箱功能',\n",
              "       '琥珀金;星空蓝;极光蓝;冰河银;星月白外观颜色功能', '黑色;黑色/象牙色内饰颜色功能', '不具有ota升级功能',\n",
              "       '不具有电池预加热功能', '不具有面部识别功能', '不具有缺气保用轮胎功能', '不具有电池能量功能',\n",
              "       '具备多媒体_充电接口功能，USB', '184电动机功能', '具备中控彩色屏幕功能，触控液晶屏',\n",
              "       '不具有毫米波雷达数量.1功能', '具备卫星导航系统功能，', '5.8nedc综合油耗功能', '横置发动机布局功能',\n",
              "       '不具有超声波雷达数量.1功能', '不具有芯片总算力功能', '不具有摄像头数量功能', '不具有最低荷电状态油耗功能',\n",
              "       '不具有nedc纯电续航里程功能', '不具有cltc纯电续航里程功能', '175发动机最大扭矩功能',\n",
              "       '不具有发动机最大功率功能', '不具有dow开门预警功能', '不具有手机app远程控制功能', '不具有快充功能功能',\n",
              "       '不具有ar实景导航功能', '不具有前方碰撞预警功能', '不具有etc装置功能', '不具有最大满载质量功能',\n",
              "       '不具有满载最小离地间隙功能', '不具有辅助驾驶等级功能', '不具有换挡形式功能', '不具有离去角功能',\n",
              "       '不具有车载智能系统功能', '不具有制动能量回收系统功能', '不具有电芯品牌功能', '不具有电动机总功率.1功能',\n",
              "       '不具有低速行车警告功能', '不具有最小转弯半径功能', '不具有热泵空调功能', '不具有地图品牌功能',\n",
              "       '不具有wi_fi热点功能', '不具有对外放电功能', '不具有电池冷却方式功能', '不具有遥控泊车功能',\n",
              "       '不具有透明底盘_540度影像功能', '不具有后方碰撞预警功能', '不具有自动变道辅助功能', '不具有车内生物监测系统功能',\n",
              "       nan, nan, nan, nan, nan, nan, nan, nan, nan, nan, nan],\n",
              "      dtype=object)"
            ]
          },
          "metadata": {},
          "execution_count": 109
        }
      ]
    },
    {
      "cell_type": "code",
      "source": [
        "len(car_vecs_nnum[0, :])"
      ],
      "metadata": {
        "id": "n3yt0rDW6Coy",
        "outputId": "d05e0784-61ce-4820-df26-bacb07a5ccb3",
        "colab": {
          "base_uri": "https://localhost:8080/"
        }
      },
      "execution_count": null,
      "outputs": [
        {
          "output_type": "execute_result",
          "data": {
            "text/plain": [
              "200"
            ]
          },
          "metadata": {},
          "execution_count": 110
        }
      ]
    },
    {
      "cell_type": "code",
      "source": [],
      "metadata": {
        "id": "5ZDxTc8n6ClF"
      },
      "execution_count": null,
      "outputs": []
    },
    {
      "cell_type": "code",
      "source": [],
      "metadata": {
        "id": "fpJ2rAo26Cha"
      },
      "execution_count": null,
      "outputs": []
    },
    {
      "cell_type": "code",
      "source": [],
      "metadata": {
        "id": "LWlDB3aDqWmq"
      },
      "execution_count": null,
      "outputs": []
    },
    {
      "cell_type": "code",
      "source": [
        "# preprocessing the text\n",
        "def text_clean(text):\n",
        "    \"\"\"\n",
        "    - Remove entity mentions (eg. '@united')\n",
        "    - Correct errors (eg. '&amp;' to '&')\n",
        "    @param    text (str): a string to be processed.\n",
        "    @return   text (Str): the processed string.\n",
        "    \"\"\"\n",
        "    # Remove '@name'\n",
        "    text = re.sub(r'(@.*?)[\\s]', ' ', text)\n",
        "\n",
        "    # Replace '&amp;' with '&'\n",
        "    text = re.sub(r'&amp;', '&', text)\n",
        "\n",
        "    # Remove trailing whitespace\n",
        "    text = re.sub(r'\\s+', ' ', text).strip()\n",
        "    # text =  \"[CLS] \" + text + \"[SEP]\"\n",
        "\n",
        "    return text"
      ],
      "metadata": {
        "id": "V-G1-oBRJIc3"
      },
      "execution_count": null,
      "outputs": []
    },
    {
      "cell_type": "code",
      "source": [
        "def text_join(text):\n",
        "  # 假设array变量名为features\n",
        "  features = text\n",
        "  # 移除nan值\n",
        "  clean_features = features[~pd.isnull(features)]\n",
        "  # 使用空格或者'[SEP]'作为分隔符连接字符串\n",
        "  text = \"[CLS]\" + \"[SEP]\".join(clean_features) + \"[SEP]\"\n",
        "\n",
        "  return text\n",
        "\n"
      ],
      "metadata": {
        "id": "GTuZh4g3kQ9v"
      },
      "execution_count": null,
      "outputs": []
    },
    {
      "cell_type": "code",
      "source": [
        "text = text_clean(user_vecs_nnum[4, 0])"
      ],
      "metadata": {
        "id": "KvmxkktJJNAH"
      },
      "execution_count": null,
      "outputs": []
    },
    {
      "cell_type": "code",
      "source": [
        "text"
      ],
      "metadata": {
        "id": "YkW84GUekcCQ",
        "outputId": "3ad80d15-ff87-4f07-803d-8e137476ec91",
        "colab": {
          "base_uri": "https://localhost:8080/",
          "height": 365
        }
      },
      "execution_count": null,
      "outputs": [
        {
          "output_type": "execute_result",
          "data": {
            "text/plain": [
              "'[CLS] 【最满意的一点】[SEP]这辆车型我觉得我最认可它的地方就是它的空间，真的是设计的特别到位，尤其是它的主驾位置的设计，真的是让我感觉特别的宽松，因为我本身比较胖，又想买一辆这种空间比较大的车型能够满足一家人出行的需求，所以也是对比了很多的车型，但是有的车会主驾位置宽松，后排位置不太理想，有的是后排位置很好，但是主驾位置又做的没有那么的宽大，所以总是没有刚刚好的情况，但是后来看到格瑞维亚这款车型，就让我眼前一亮，因为这辆车我们当时一家人一起去看的，都坐进去之后，感觉还是比较的宽松，无论哪一排的位置，都是能够设计的考虑到乘车和驾驶人的一个舒适度，所以说这辆车的空间就赢得了很好的好感，除此之外，就是这辆车的舒适度真的也挺高的，坐进去之后把座椅调整好位置之后，感觉特别的舒适，好像躺在沙发里一样，家里人对这款车的好感度也是特别的高，所以在一家人商量之后，觉得还是买这款车比较合适[SEP]【最不满意的一点】[SEP]毕竟是新车里面的味道，还是有一点点的重的，而且我觉得它里面的内饰设计并没有那么的豪华，虽然也是30几万的车型，但是看上去之后却没有那么的高端，和它的外观感觉不是特别的匹配[SEP]【空间】[SEP]这是我买这款车的一个决定性因素，毕竟一家人一起出行，更多的是对空间的一个高要求，所以空间大的车型就是我们的首要考虑对象，这辆车型的空间真的是特别的宽松，如果有疑问的话，可以去店里试驾或者试乘一下看看，反正我个人是觉得真的挺舒服的，而且一家人出门真的是特别的方便[SEP]【动力】[SEP]这辆车开着也没什么难度，方向盘也很好把控，虽然是一个MPV，但是它整个的车身操作还是非常的灵敏的，尤其是它的视野也不错，所以开这款车并不会感觉特别的困难，即便是新手也能够驾驭，另外就是它的动力也还是挺强劲的，在社区里开是绝对够用的，另外就是跑高速的时候也是特别的平稳，没有出现发飘的情况[SEP]【操控】[SEP]【油耗】[SEP]它的油耗我还是挺满意的，因为这个油耗并不算很高，毕竟这么大的车身，再加上一家人满载出行，八个油也不算过分，而且现在天气比较炎热，还会开着空调，油耗也没有增加很多，一直都比较的稳定，所以对这一方面我是比较满意的，全家人也都觉得这辆车的油耗确实是非常的低了，能给省了不少钱[SEP]【舒适性】[SEP]【外观】[SEP]外观还是很好看的，虽然不是属于那种特别时尚洋气的类型，但是整个车身看上去会比较的顺眼一些，也非常耐看，整个线条也都比较的温顺，给人一种很柔美的感觉，而且一家人开这款车出行也会显得比较协调，所以外观这一方面我还是没有什么可以吐槽的，还是非常喜欢的[SEP]【内饰】[SEP]内饰的设计算是延续了丰田家族式的一个风格，设计没有很多的亮点，但是也好在比较实用，更多的都是一些实用的配置，所以这一方面我也没有什么可说的，不过车内的味道还是有一点点的大的，而且它的质感也不是特别好，看上去没有那么的高端，还是稍微感觉拉低了一点档次[SEP]【性价比】[SEP]价格上倒是也给优惠了一些，他说是新车上市力度没有那么大，反正讨论了几次之后，也算是拿到了一个还不错的价格，大家都知道丰田车型会比较保值一些，而且这个价位也在我的一个预算范围内，所以我也没有进行过多的要求，现在来看这辆车，反正开着是挺舒服的，倒是也没什么其他问题，还是挺不错的[SEP]【为什么最终选择这款车】[SEP]'"
            ],
            "application/vnd.google.colaboratory.intrinsic+json": {
              "type": "string"
            }
          },
          "metadata": {},
          "execution_count": 43
        }
      ]
    },
    {
      "cell_type": "code",
      "source": [],
      "metadata": {
        "id": "6Netv2_zGaqy"
      },
      "execution_count": null,
      "outputs": []
    },
    {
      "cell_type": "markdown",
      "source": [
        "# 设置GPUs"
      ],
      "metadata": {
        "id": "5bp8waA7KFSo"
      }
    },
    {
      "cell_type": "code",
      "source": [
        "# 检查GPU可用性，并设置TensorFlow以使用GPU\n",
        "gpus = tf.config.list_physical_devices('GPU')\n",
        "if gpus:\n",
        "    try:\n",
        "        # 当前仅为第一个GPU设置内存增长\n",
        "        tf.config.experimental.set_memory_growth(gpus[0], True)\n",
        "    except RuntimeError as e:\n",
        "        # 如果在程序启动后初始化GPU，则会抛出异常\n",
        "        print(e)"
      ],
      "metadata": {
        "id": "k_pVoRuhKFD7",
        "outputId": "f0887d1e-eeeb-4135-cf38-f41f89188c0c",
        "colab": {
          "base_uri": "https://localhost:8080/"
        }
      },
      "execution_count": null,
      "outputs": [
        {
          "output_type": "stream",
          "name": "stdout",
          "text": [
            "Physical devices cannot be modified after being initialized\n"
          ]
        }
      ]
    },
    {
      "cell_type": "code",
      "source": [],
      "metadata": {
        "id": "GOnEGPSzKFAH"
      },
      "execution_count": null,
      "outputs": []
    },
    {
      "cell_type": "code",
      "source": [],
      "metadata": {
        "id": "5Arb5uFTKE8_"
      },
      "execution_count": null,
      "outputs": []
    },
    {
      "cell_type": "code",
      "source": [],
      "metadata": {
        "id": "PMtroE39KE1r"
      },
      "execution_count": null,
      "outputs": []
    },
    {
      "cell_type": "markdown",
      "source": [
        "# 基于tensorflow bert模型做embeddings"
      ],
      "metadata": {
        "id": "2mtYmtEky1ED"
      }
    },
    {
      "cell_type": "code",
      "source": [
        "# 初始化分词器和模型\n",
        "tokenizer = BertTokenizer.from_pretrained('bert-base-chinese')\n",
        "model =  TFBertModel.from_pretrained('bert-base-chinese')"
      ],
      "metadata": {
        "id": "2zV8U13Oq2ye",
        "outputId": "da2c7f0e-b785-4880-fa21-f92260f83dae",
        "colab": {
          "base_uri": "https://localhost:8080/"
        }
      },
      "execution_count": 281,
      "outputs": [
        {
          "output_type": "stream",
          "name": "stderr",
          "text": [
            "Some weights of the PyTorch model were not used when initializing the TF 2.0 model TFBertModel: ['cls.predictions.transform.dense.bias', 'cls.predictions.bias', 'cls.predictions.transform.LayerNorm.weight', 'cls.seq_relationship.bias', 'cls.predictions.transform.dense.weight', 'cls.predictions.transform.LayerNorm.bias', 'cls.seq_relationship.weight']\n",
            "- This IS expected if you are initializing TFBertModel from a PyTorch model trained on another task or with another architecture (e.g. initializing a TFBertForSequenceClassification model from a BertForPreTraining model).\n",
            "- This IS NOT expected if you are initializing TFBertModel from a PyTorch model that you expect to be exactly identical (e.g. initializing a TFBertForSequenceClassification model from a BertForSequenceClassification model).\n",
            "All the weights of TFBertModel were initialized from the PyTorch model.\n",
            "If your task is similar to the task the model of the checkpoint was trained on, you can already use TFBertModel for predictions without further training.\n"
          ]
        }
      ]
    },
    {
      "cell_type": "code",
      "source": [
        "# preprocessing the text\n",
        "def text_clean(text):\n",
        "    \"\"\"\n",
        "    - Remove entity mentions (eg. '@united')\n",
        "    - Correct errors (eg. '&amp;' to '&')\n",
        "    @param    text (str): a string to be processed.\n",
        "    @return   text (Str): the processed string.\n",
        "    \"\"\"\n",
        "    # Convert non-string text to a string (if it's NaN, it becomes the string 'nan')\n",
        "    text = str(text) if text is not None else \"\"\n",
        "\n",
        "    # Remove '@name'\n",
        "    text = re.sub(r'(@.*?)[\\s]', ' ', text)\n",
        "\n",
        "    # Replace '&amp;' with '&'\n",
        "    text = re.sub(r'&amp;', '&', text)\n",
        "\n",
        "    # Remove trailing whitespace\n",
        "    text = re.sub(r'\\s+', ' ', text).strip()\n",
        "    # text =  \"[CLS] \" + text + \"[SEP]\"\n",
        "\n",
        "    return text"
      ],
      "metadata": {
        "id": "yPeO2P0kkcRU"
      },
      "execution_count": 282,
      "outputs": []
    },
    {
      "cell_type": "code",
      "source": [
        "# def batch_generator(data, batch_size):\n",
        "#     \"\"\"Yield successive n-sized chunks from data.\"\"\"\n",
        "#     for i in range(0, len(data), batch_size):\n",
        "#         yield data[i:i + batch_size]"
      ],
      "metadata": {
        "id": "eVrH3_K4kjLv"
      },
      "execution_count": 39,
      "outputs": []
    },
    {
      "cell_type": "code",
      "source": [
        "# def embeddings_for_features(features, max_length_comments, stride, batch_size):\n",
        "#     features_emb_tensor = []\n",
        "\n",
        "#     # Iterate over each batch of features\n",
        "#     for batch in tqdm(batch_generator(features, batch_size), desc=\"Processing users\"):\n",
        "#         batch_input_ids = []\n",
        "#         batch_attention_masks = []\n",
        "\n",
        "#         # Process each user's features\n",
        "#         for user_features in batch:\n",
        "#             user_input_ids = []\n",
        "#             user_attention_masks = []\n",
        "\n",
        "#             # Process each feature text for the user\n",
        "#             for feature_text in user_features:\n",
        "#                 clean_text = text_clean(feature_text)\n",
        "\n",
        "#                 # Tokenize and encode the text\n",
        "#                 tokenized_inputs = tokenizer(\n",
        "#                     text=clean_text,\n",
        "#                     add_special_tokens=True,\n",
        "#                     max_length=max_length_comments,\n",
        "#                     stride=stride,\n",
        "#                     return_tensors=\"tf\",\n",
        "#                     truncation=True\n",
        "#                 )\n",
        "\n",
        "#                 # Handle all segments from tokenization with stride\n",
        "#                 for i in range(tokenized_inputs[\"input_ids\"].shape[0]):\n",
        "#                     user_input_ids.append(tokenized_inputs[\"input_ids\"][i])\n",
        "#                     user_attention_masks.append(tokenized_inputs[\"attention_mask\"][i])\n",
        "\n",
        "#             # Stack the tensors for all segments of all features of the user\n",
        "#             user_input_ids = tf.stack(user_input_ids, axis=0)\n",
        "#             user_attention_masks = tf.stack(user_attention_masks, axis=0)\n",
        "\n",
        "#              # Run the model on the stacked tensors\n",
        "#             outputs = model(user_input_ids, attention_mask=user_attention_masks)\n",
        "\n",
        "#             # Aggregate the embeddings from the '[CLS]' tokens of each segment\n",
        "#             cls_embeddings = outputs.last_hidden_state[:, 0, :]\n",
        "#             aggregated_embedding = tf.reduce_mean(cls_embeddings, axis=0)\n",
        "\n",
        "#             # Append the aggregated embeddings for the user to the batch list\n",
        "#             features_emb_tensor.append(aggregated_embedding.numpy())\n",
        "\n",
        "#     # Convert the list of embeddings to a tensor\n",
        "#     features_emb_tensor = tf.convert_to_tensor(features_emb_tensor, dtype=tf.float32)\n",
        "\n",
        "#     return features_emb_tensor\n"
      ],
      "metadata": {
        "id": "Stl8ZrC6p2BB"
      },
      "execution_count": 45,
      "outputs": []
    },
    {
      "cell_type": "code",
      "source": [
        "def embeddings_for_features(features, max_length_comments, stride):\n",
        "    # Assume embedding_dim is the dimensionality of your BERT model's embeddings\n",
        "    embedding_dim = 768\n",
        "    features_emb = np.zeros((features.shape[0], features.shape[1], embedding_dim), dtype=np.float32)\n",
        "\n",
        "    # Iterate over each user's features\n",
        "    for user_index in tqdm(range(len(features)), desc=\"Processing users\"):\n",
        "        for feature_index in range(features.shape[1]):\n",
        "            feature_text = features[user_index][feature_index]\n",
        "            feature_text = feature_text if feature_text else \"\"\n",
        "            # The text_clean function needs to be defined elsewhere\n",
        "            clean_text = text_clean(feature_text)\n",
        "            # Tokenize and encode the text\n",
        "            tokenized_inputs = tokenizer(\n",
        "                text=clean_text,\n",
        "                add_special_tokens=True,\n",
        "                max_length=max_length_comments,\n",
        "                stride=stride,\n",
        "                return_tensors=\"tf\",\n",
        "                truncation=True\n",
        "            )\n",
        "\n",
        "            # Model inference using batch processing\n",
        "            outputs = model(input_ids=tokenized_inputs[\"input_ids\"], attention_mask=tokenized_inputs[\"attention_mask\"])\n",
        "\n",
        "            # Instead of stacking and reducing, directly take the mean of the '[CLS]' embeddings\n",
        "            # if there are multiple segments due to overflow\n",
        "            cls_embeddings = outputs.last_hidden_state[:, 0, :]\n",
        "            feature_embedding = tf.reduce_mean(cls_embeddings, axis=0).numpy()  # Average over segments if any\n",
        "\n",
        "            features_emb[user_index, feature_index, :] = feature_embedding\n",
        "\n",
        "    features_emb_tensor = tf.convert_to_tensor(features_emb, dtype=tf.float32)\n",
        "\n",
        "    return features_emb_tensor"
      ],
      "metadata": {
        "id": "3zrbIJ453Kbj"
      },
      "execution_count": 278,
      "outputs": []
    },
    {
      "cell_type": "code",
      "source": [
        "def embeddings_for_oth_fea(features, max_length, batch_size):\n",
        "    embedding_dim = 768\n",
        "    features_emb_list = []\n",
        "\n",
        "    # Tokenizer and model should be defined outside this function\n",
        "    # Ensure tokenizer and model are using the correct device (CPU/GPU)\n",
        "\n",
        "    for user_index in tqdm(range(0, len(features), batch_size), desc=\"Processing users\"):\n",
        "        batch_features = features[user_index:user_index+batch_size]\n",
        "\n",
        "        # Tokenize all texts in the batch\n",
        "        batch_input_ids = []\n",
        "        batch_attention_masks = []\n",
        "\n",
        "        for feature_texts in batch_features:\n",
        "            for feature_text in feature_texts:\n",
        "                clean_text = text_clean(feature_text) if feature_text else \"\"\n",
        "                tokenized_inputs = tokenizer(\n",
        "                    text=clean_text,\n",
        "                    add_special_tokens=True,\n",
        "                    max_length=max_length,\n",
        "                    padding='max_length',\n",
        "                    truncation=True,\n",
        "                    return_tensors=\"tf\"\n",
        "                )\n",
        "                batch_input_ids.append(tokenized_inputs[\"input_ids\"][0])\n",
        "                batch_attention_masks.append(tokenized_inputs[\"attention_mask\"][0])\n",
        "\n",
        "        # Convert lists to tensors and ensure they are 2D\n",
        "        batch_input_ids = tf.stack(batch_input_ids, axis=0)\n",
        "        batch_attention_masks = tf.stack(batch_attention_masks, axis=0)\n",
        "\n",
        "        # Run the model on the batch\n",
        "        outputs = model(batch_input_ids, attention_mask=batch_attention_masks)\n",
        "        cls_embeddings = outputs.last_hidden_state[:, 0, :].numpy()\n",
        "\n",
        "        # Store the results in the list\n",
        "        for i, user_features_embeddings in enumerate(cls_embeddings):\n",
        "            features_emb_list.append(user_features_embeddings)\n",
        "\n",
        "\n",
        "\n",
        "    # Convert the list of embeddings to a tensor\n",
        "    features_emb_tensor = tf.convert_to_tensor(features_emb_list, dtype=tf.float32)\n",
        "    features_emb_tensor = tf.reshape(features_emb_tensor, (len(features), -1, embedding_dim))\n",
        "    return features_emb_tensor\n"
      ],
      "metadata": {
        "id": "2RZQbdjbkjIW"
      },
      "execution_count": 279,
      "outputs": []
    },
    {
      "cell_type": "code",
      "source": [
        "# 对所有数据进行拆分以获取训练集和测试集\n",
        "(user_train_nnum, user_test_nnum,\n",
        " user_train_num, user_test_num,\n",
        " car_train_nnum, car_test_nnum,\n",
        " car_train_num, car_test_num,\n",
        " ys_train, ys_test) = train_test_split(user_vecs_nnum, user_vecs_num, car_vecs_nnum, car_vecs_num, ys, train_size=0.8, shuffle=True, stratify=ys, random_state=2023)\n",
        "\n",
        "# 对测试集进行进一步拆分以获得验证集和最终的测试集\n",
        "(user_val_nnum, user_test_nnum,\n",
        " user_val_num, user_test_num,\n",
        " car_val_nnum, car_test_nnum,\n",
        " car_val_num, car_test_num,\n",
        " ys_val, ys_test) = train_test_split(user_test_nnum, user_test_num, car_test_nnum, car_test_num, ys_test, train_size=0.5, shuffle=True, stratify=ys_test, random_state=2023)"
      ],
      "metadata": {
        "id": "Za-2wwBHmR6k"
      },
      "execution_count": 271,
      "outputs": []
    },
    {
      "cell_type": "code",
      "source": [
        "# 分割文本为适应模型最大长度的多个部分\n",
        "max_length_comments = 512  # 模型的最大长度限制\n",
        "max_length = 16\n",
        "stride = 256  # 可以重叠的token数量\n",
        "batch_size_user = 8\n",
        "batch_size = 2"
      ],
      "metadata": {
        "id": "EJ4pr1aHq7z5"
      },
      "execution_count": 272,
      "outputs": []
    },
    {
      "cell_type": "code",
      "source": [
        "user_train_nnum[0]"
      ],
      "metadata": {
        "colab": {
          "base_uri": "https://localhost:8080/"
        },
        "id": "MXvHs7QOihI_",
        "outputId": "a5f8d63a-5693-4f35-822b-26d6422d5401"
      },
      "execution_count": 42,
      "outputs": [
        {
          "output_type": "execute_result",
          "data": {
            "text/plain": [
              "array(['【最满意的一点】液晶仪表，时尚！中控升级后比较简洁好看。动力和变速箱匹配良好。【最不满意的一点】油耗显示不准确，通常偏低至少1升/百公里。氛围灯会故障，经常会自己关闭了。雨刮片扫的面积太小，建议要改为对刮式。液晶一般主题颜色太少，就白底金色指针，希望有更多选择【空间】乘坐空间宽敞，第三排也有不错的舒适度。第三排座椅能改为折叠收纳为一个平面就更理想。【动力】加速有力，平顺换挡，低速安静，高速发动机的声音也不太嘈杂。S档提速就比较快。【操控】方向盘力度较轻盈，驾驶轻松，刹车表现比较线性，远程启动、关锁功能实用。【油耗】高速匀速行驶比较省油，8-9升，市区通常需要11-13左右。【舒适性】座椅舒适度尚可，该有的功能都有了，加热通风都有。就是线条和做工较为普通。加个菱形或者滚边更能提升质感。【外观】前脸还是大气，有原创精神，内饰就略朴素，做工和质感有待提升。在内饰材料上选择还是偏廉价，出风口、按键和照明等设计还是停留在上个世纪。可以有更多的原创未来设计【内饰】钢琴烤漆容易有指纹和灰尘，如果改亚光的木纹就比较理想，或者拉丝铝会有更好的质感。【性价比】4S店订车周期比较长，我还是找中介买的，4S的服务还是有待提高。品牌的LOGO不是很好看，建议重新设计一下，国产车的弊病。【为什么最终选择这款车】外观简洁大方、空间宽敞、驾驶平稳，动力性能符合我的要求',\n",
              "       '购物,自驾游,约会', '广东', '东莞'], dtype=object)"
            ]
          },
          "metadata": {},
          "execution_count": 42
        }
      ]
    },
    {
      "cell_type": "code",
      "source": [
        "user_train_emb_tensor = embeddings_for_features(user_train_nnum[:4000], max_length_comments, stride)\n"
      ],
      "metadata": {
        "colab": {
          "base_uri": "https://localhost:8080/",
          "height": 392
        },
        "id": "pFZaFIqN1SbC",
        "outputId": "5f82e739-681c-48fe-8f00-79dcb01bf797"
      },
      "execution_count": 280,
      "outputs": [
        {
          "output_type": "stream",
          "name": "stderr",
          "text": [
            "Processing users:   0%|          | 0/4000 [00:00<?, ?it/s]\n"
          ]
        },
        {
          "output_type": "error",
          "ename": "AttributeError",
          "evalue": "ignored",
          "traceback": [
            "\u001b[0;31m---------------------------------------------------------------------------\u001b[0m",
            "\u001b[0;31mAttributeError\u001b[0m                            Traceback (most recent call last)",
            "\u001b[0;32m<ipython-input-280-19311dcffa36>\u001b[0m in \u001b[0;36m<cell line: 1>\u001b[0;34m()\u001b[0m\n\u001b[0;32m----> 1\u001b[0;31m \u001b[0muser_train_emb_tensor\u001b[0m \u001b[0;34m=\u001b[0m \u001b[0membeddings_for_features\u001b[0m\u001b[0;34m(\u001b[0m\u001b[0muser_train_nnum\u001b[0m\u001b[0;34m[\u001b[0m\u001b[0;34m:\u001b[0m\u001b[0;36m4000\u001b[0m\u001b[0;34m]\u001b[0m\u001b[0;34m,\u001b[0m \u001b[0mmax_length_comments\u001b[0m\u001b[0;34m,\u001b[0m \u001b[0mstride\u001b[0m\u001b[0;34m)\u001b[0m\u001b[0;34m\u001b[0m\u001b[0;34m\u001b[0m\u001b[0m\n\u001b[0m",
            "\u001b[0;32m<ipython-input-278-7191fe339c4f>\u001b[0m in \u001b[0;36membeddings_for_features\u001b[0;34m(features, max_length_comments, stride)\u001b[0m\n\u001b[1;32m     22\u001b[0m \u001b[0;34m\u001b[0m\u001b[0m\n\u001b[1;32m     23\u001b[0m             \u001b[0;31m# Model inference using batch processing\u001b[0m\u001b[0;34m\u001b[0m\u001b[0;34m\u001b[0m\u001b[0m\n\u001b[0;32m---> 24\u001b[0;31m             \u001b[0moutputs\u001b[0m \u001b[0;34m=\u001b[0m \u001b[0mmodel\u001b[0m\u001b[0;34m(\u001b[0m\u001b[0minput_ids\u001b[0m\u001b[0;34m=\u001b[0m\u001b[0mtokenized_inputs\u001b[0m\u001b[0;34m[\u001b[0m\u001b[0;34m\"input_ids\"\u001b[0m\u001b[0;34m]\u001b[0m\u001b[0;34m,\u001b[0m \u001b[0mattention_mask\u001b[0m\u001b[0;34m=\u001b[0m\u001b[0mtokenized_inputs\u001b[0m\u001b[0;34m[\u001b[0m\u001b[0;34m\"attention_mask\"\u001b[0m\u001b[0;34m]\u001b[0m\u001b[0;34m)\u001b[0m\u001b[0;34m\u001b[0m\u001b[0;34m\u001b[0m\u001b[0m\n\u001b[0m\u001b[1;32m     25\u001b[0m \u001b[0;34m\u001b[0m\u001b[0m\n\u001b[1;32m     26\u001b[0m             \u001b[0;31m# Instead of stacking and reducing, directly take the mean of the '[CLS]' embeddings\u001b[0m\u001b[0;34m\u001b[0m\u001b[0;34m\u001b[0m\u001b[0m\n",
            "\u001b[0;32m/usr/local/lib/python3.10/dist-packages/torch/nn/modules/module.py\u001b[0m in \u001b[0;36m_wrapped_call_impl\u001b[0;34m(self, *args, **kwargs)\u001b[0m\n\u001b[1;32m   1516\u001b[0m             \u001b[0;32mreturn\u001b[0m \u001b[0mself\u001b[0m\u001b[0;34m.\u001b[0m\u001b[0m_compiled_call_impl\u001b[0m\u001b[0;34m(\u001b[0m\u001b[0;34m*\u001b[0m\u001b[0margs\u001b[0m\u001b[0;34m,\u001b[0m \u001b[0;34m**\u001b[0m\u001b[0mkwargs\u001b[0m\u001b[0;34m)\u001b[0m  \u001b[0;31m# type: ignore[misc]\u001b[0m\u001b[0;34m\u001b[0m\u001b[0;34m\u001b[0m\u001b[0m\n\u001b[1;32m   1517\u001b[0m         \u001b[0;32melse\u001b[0m\u001b[0;34m:\u001b[0m\u001b[0;34m\u001b[0m\u001b[0;34m\u001b[0m\u001b[0m\n\u001b[0;32m-> 1518\u001b[0;31m             \u001b[0;32mreturn\u001b[0m \u001b[0mself\u001b[0m\u001b[0;34m.\u001b[0m\u001b[0m_call_impl\u001b[0m\u001b[0;34m(\u001b[0m\u001b[0;34m*\u001b[0m\u001b[0margs\u001b[0m\u001b[0;34m,\u001b[0m \u001b[0;34m**\u001b[0m\u001b[0mkwargs\u001b[0m\u001b[0;34m)\u001b[0m\u001b[0;34m\u001b[0m\u001b[0;34m\u001b[0m\u001b[0m\n\u001b[0m\u001b[1;32m   1519\u001b[0m \u001b[0;34m\u001b[0m\u001b[0m\n\u001b[1;32m   1520\u001b[0m     \u001b[0;32mdef\u001b[0m \u001b[0m_call_impl\u001b[0m\u001b[0;34m(\u001b[0m\u001b[0mself\u001b[0m\u001b[0;34m,\u001b[0m \u001b[0;34m*\u001b[0m\u001b[0margs\u001b[0m\u001b[0;34m,\u001b[0m \u001b[0;34m**\u001b[0m\u001b[0mkwargs\u001b[0m\u001b[0;34m)\u001b[0m\u001b[0;34m:\u001b[0m\u001b[0;34m\u001b[0m\u001b[0;34m\u001b[0m\u001b[0m\n",
            "\u001b[0;32m/usr/local/lib/python3.10/dist-packages/torch/nn/modules/module.py\u001b[0m in \u001b[0;36m_call_impl\u001b[0;34m(self, *args, **kwargs)\u001b[0m\n\u001b[1;32m   1525\u001b[0m                 \u001b[0;32mor\u001b[0m \u001b[0m_global_backward_pre_hooks\u001b[0m \u001b[0;32mor\u001b[0m \u001b[0m_global_backward_hooks\u001b[0m\u001b[0;34m\u001b[0m\u001b[0;34m\u001b[0m\u001b[0m\n\u001b[1;32m   1526\u001b[0m                 or _global_forward_hooks or _global_forward_pre_hooks):\n\u001b[0;32m-> 1527\u001b[0;31m             \u001b[0;32mreturn\u001b[0m \u001b[0mforward_call\u001b[0m\u001b[0;34m(\u001b[0m\u001b[0;34m*\u001b[0m\u001b[0margs\u001b[0m\u001b[0;34m,\u001b[0m \u001b[0;34m**\u001b[0m\u001b[0mkwargs\u001b[0m\u001b[0;34m)\u001b[0m\u001b[0;34m\u001b[0m\u001b[0;34m\u001b[0m\u001b[0m\n\u001b[0m\u001b[1;32m   1528\u001b[0m \u001b[0;34m\u001b[0m\u001b[0m\n\u001b[1;32m   1529\u001b[0m         \u001b[0;32mtry\u001b[0m\u001b[0;34m:\u001b[0m\u001b[0;34m\u001b[0m\u001b[0;34m\u001b[0m\u001b[0m\n",
            "\u001b[0;32m/usr/local/lib/python3.10/dist-packages/transformers/models/roformer/modeling_roformer.py\u001b[0m in \u001b[0;36mforward\u001b[0;34m(self, input_ids, attention_mask, token_type_ids, head_mask, inputs_embeds, labels, output_attentions, output_hidden_states, return_dict)\u001b[0m\n\u001b[1;32m   1259\u001b[0m         \u001b[0mreturn_dict\u001b[0m \u001b[0;34m=\u001b[0m \u001b[0mreturn_dict\u001b[0m \u001b[0;32mif\u001b[0m \u001b[0mreturn_dict\u001b[0m \u001b[0;32mis\u001b[0m \u001b[0;32mnot\u001b[0m \u001b[0;32mNone\u001b[0m \u001b[0;32melse\u001b[0m \u001b[0mself\u001b[0m\u001b[0;34m.\u001b[0m\u001b[0mconfig\u001b[0m\u001b[0;34m.\u001b[0m\u001b[0muse_return_dict\u001b[0m\u001b[0;34m\u001b[0m\u001b[0;34m\u001b[0m\u001b[0m\n\u001b[1;32m   1260\u001b[0m \u001b[0;34m\u001b[0m\u001b[0m\n\u001b[0;32m-> 1261\u001b[0;31m         outputs = self.roformer(\n\u001b[0m\u001b[1;32m   1262\u001b[0m             \u001b[0minput_ids\u001b[0m\u001b[0;34m,\u001b[0m\u001b[0;34m\u001b[0m\u001b[0;34m\u001b[0m\u001b[0m\n\u001b[1;32m   1263\u001b[0m             \u001b[0mattention_mask\u001b[0m\u001b[0;34m=\u001b[0m\u001b[0mattention_mask\u001b[0m\u001b[0;34m,\u001b[0m\u001b[0;34m\u001b[0m\u001b[0;34m\u001b[0m\u001b[0m\n",
            "\u001b[0;32m/usr/local/lib/python3.10/dist-packages/torch/nn/modules/module.py\u001b[0m in \u001b[0;36m_wrapped_call_impl\u001b[0;34m(self, *args, **kwargs)\u001b[0m\n\u001b[1;32m   1516\u001b[0m             \u001b[0;32mreturn\u001b[0m \u001b[0mself\u001b[0m\u001b[0;34m.\u001b[0m\u001b[0m_compiled_call_impl\u001b[0m\u001b[0;34m(\u001b[0m\u001b[0;34m*\u001b[0m\u001b[0margs\u001b[0m\u001b[0;34m,\u001b[0m \u001b[0;34m**\u001b[0m\u001b[0mkwargs\u001b[0m\u001b[0;34m)\u001b[0m  \u001b[0;31m# type: ignore[misc]\u001b[0m\u001b[0;34m\u001b[0m\u001b[0;34m\u001b[0m\u001b[0m\n\u001b[1;32m   1517\u001b[0m         \u001b[0;32melse\u001b[0m\u001b[0;34m:\u001b[0m\u001b[0;34m\u001b[0m\u001b[0;34m\u001b[0m\u001b[0m\n\u001b[0;32m-> 1518\u001b[0;31m             \u001b[0;32mreturn\u001b[0m \u001b[0mself\u001b[0m\u001b[0;34m.\u001b[0m\u001b[0m_call_impl\u001b[0m\u001b[0;34m(\u001b[0m\u001b[0;34m*\u001b[0m\u001b[0margs\u001b[0m\u001b[0;34m,\u001b[0m \u001b[0;34m**\u001b[0m\u001b[0mkwargs\u001b[0m\u001b[0;34m)\u001b[0m\u001b[0;34m\u001b[0m\u001b[0;34m\u001b[0m\u001b[0m\n\u001b[0m\u001b[1;32m   1519\u001b[0m \u001b[0;34m\u001b[0m\u001b[0m\n\u001b[1;32m   1520\u001b[0m     \u001b[0;32mdef\u001b[0m \u001b[0m_call_impl\u001b[0m\u001b[0;34m(\u001b[0m\u001b[0mself\u001b[0m\u001b[0;34m,\u001b[0m \u001b[0;34m*\u001b[0m\u001b[0margs\u001b[0m\u001b[0;34m,\u001b[0m \u001b[0;34m**\u001b[0m\u001b[0mkwargs\u001b[0m\u001b[0;34m)\u001b[0m\u001b[0;34m:\u001b[0m\u001b[0;34m\u001b[0m\u001b[0;34m\u001b[0m\u001b[0m\n",
            "\u001b[0;32m/usr/local/lib/python3.10/dist-packages/torch/nn/modules/module.py\u001b[0m in \u001b[0;36m_call_impl\u001b[0;34m(self, *args, **kwargs)\u001b[0m\n\u001b[1;32m   1525\u001b[0m                 \u001b[0;32mor\u001b[0m \u001b[0m_global_backward_pre_hooks\u001b[0m \u001b[0;32mor\u001b[0m \u001b[0m_global_backward_hooks\u001b[0m\u001b[0;34m\u001b[0m\u001b[0;34m\u001b[0m\u001b[0m\n\u001b[1;32m   1526\u001b[0m                 or _global_forward_hooks or _global_forward_pre_hooks):\n\u001b[0;32m-> 1527\u001b[0;31m             \u001b[0;32mreturn\u001b[0m \u001b[0mforward_call\u001b[0m\u001b[0;34m(\u001b[0m\u001b[0;34m*\u001b[0m\u001b[0margs\u001b[0m\u001b[0;34m,\u001b[0m \u001b[0;34m**\u001b[0m\u001b[0mkwargs\u001b[0m\u001b[0;34m)\u001b[0m\u001b[0;34m\u001b[0m\u001b[0;34m\u001b[0m\u001b[0m\n\u001b[0m\u001b[1;32m   1528\u001b[0m \u001b[0;34m\u001b[0m\u001b[0m\n\u001b[1;32m   1529\u001b[0m         \u001b[0;32mtry\u001b[0m\u001b[0;34m:\u001b[0m\u001b[0;34m\u001b[0m\u001b[0;34m\u001b[0m\u001b[0m\n",
            "\u001b[0;32m/usr/local/lib/python3.10/dist-packages/transformers/models/roformer/modeling_roformer.py\u001b[0m in \u001b[0;36mforward\u001b[0;34m(self, input_ids, attention_mask, token_type_ids, head_mask, inputs_embeds, encoder_hidden_states, encoder_attention_mask, past_key_values, use_cache, output_attentions, output_hidden_states, return_dict)\u001b[0m\n\u001b[1;32m    867\u001b[0m         \u001b[0;32melif\u001b[0m \u001b[0minput_ids\u001b[0m \u001b[0;32mis\u001b[0m \u001b[0;32mnot\u001b[0m \u001b[0;32mNone\u001b[0m\u001b[0;34m:\u001b[0m\u001b[0;34m\u001b[0m\u001b[0;34m\u001b[0m\u001b[0m\n\u001b[1;32m    868\u001b[0m             \u001b[0mself\u001b[0m\u001b[0;34m.\u001b[0m\u001b[0mwarn_if_padding_and_no_attention_mask\u001b[0m\u001b[0;34m(\u001b[0m\u001b[0minput_ids\u001b[0m\u001b[0;34m,\u001b[0m \u001b[0mattention_mask\u001b[0m\u001b[0;34m)\u001b[0m\u001b[0;34m\u001b[0m\u001b[0;34m\u001b[0m\u001b[0m\n\u001b[0;32m--> 869\u001b[0;31m             \u001b[0minput_shape\u001b[0m \u001b[0;34m=\u001b[0m \u001b[0minput_ids\u001b[0m\u001b[0;34m.\u001b[0m\u001b[0msize\u001b[0m\u001b[0;34m(\u001b[0m\u001b[0;34m)\u001b[0m\u001b[0;34m\u001b[0m\u001b[0;34m\u001b[0m\u001b[0m\n\u001b[0m\u001b[1;32m    870\u001b[0m         \u001b[0;32melif\u001b[0m \u001b[0minputs_embeds\u001b[0m \u001b[0;32mis\u001b[0m \u001b[0;32mnot\u001b[0m \u001b[0;32mNone\u001b[0m\u001b[0;34m:\u001b[0m\u001b[0;34m\u001b[0m\u001b[0;34m\u001b[0m\u001b[0m\n\u001b[1;32m    871\u001b[0m             \u001b[0minput_shape\u001b[0m \u001b[0;34m=\u001b[0m \u001b[0minputs_embeds\u001b[0m\u001b[0;34m.\u001b[0m\u001b[0msize\u001b[0m\u001b[0;34m(\u001b[0m\u001b[0;34m)\u001b[0m\u001b[0;34m[\u001b[0m\u001b[0;34m:\u001b[0m\u001b[0;34m-\u001b[0m\u001b[0;36m1\u001b[0m\u001b[0;34m]\u001b[0m\u001b[0;34m\u001b[0m\u001b[0;34m\u001b[0m\u001b[0m\n",
            "\u001b[0;32m/usr/local/lib/python3.10/dist-packages/tensorflow/python/framework/tensor.py\u001b[0m in \u001b[0;36m__getattr__\u001b[0;34m(self, name)\u001b[0m\n\u001b[1;32m    254\u001b[0m                 \"tolist\", \"data\"}:\n\u001b[1;32m    255\u001b[0m       \u001b[0;31m# TODO(wangpeng): Export the enable_numpy_behavior knob\u001b[0m\u001b[0;34m\u001b[0m\u001b[0;34m\u001b[0m\u001b[0m\n\u001b[0;32m--> 256\u001b[0;31m       raise AttributeError(\n\u001b[0m\u001b[1;32m    257\u001b[0m           f\"{type(self).__name__} object has no attribute '{name}'. \" + \"\"\"\n\u001b[1;32m    258\u001b[0m         \u001b[0mIf\u001b[0m \u001b[0myou\u001b[0m \u001b[0mare\u001b[0m \u001b[0mlooking\u001b[0m \u001b[0;32mfor\u001b[0m \u001b[0mnumpy\u001b[0m\u001b[0;34m-\u001b[0m\u001b[0mrelated\u001b[0m \u001b[0mmethods\u001b[0m\u001b[0;34m,\u001b[0m \u001b[0mplease\u001b[0m \u001b[0mrun\u001b[0m \u001b[0mthe\u001b[0m \u001b[0mfollowing\u001b[0m\u001b[0;34m:\u001b[0m\u001b[0;34m\u001b[0m\u001b[0;34m\u001b[0m\u001b[0m\n",
            "\u001b[0;31mAttributeError\u001b[0m: EagerTensor object has no attribute 'size'. \n        If you are looking for numpy-related methods, please run the following:\n        tf.experimental.numpy.experimental_enable_numpy_behavior()\n      "
          ]
        }
      ]
    },
    {
      "cell_type": "code",
      "source": [
        "tf.saved('/content/user_train_emb_tensor', user_train_emb_tensor)"
      ],
      "metadata": {
        "colab": {
          "base_uri": "https://localhost:8080/",
          "height": 177
        },
        "id": "FAgJUxndyukI",
        "outputId": "d65955cf-eb23-41e6-8a01-9962f9f3d609"
      },
      "execution_count": 44,
      "outputs": [
        {
          "output_type": "error",
          "ename": "AttributeError",
          "evalue": "ignored",
          "traceback": [
            "\u001b[0;31m---------------------------------------------------------------------------\u001b[0m",
            "\u001b[0;31mAttributeError\u001b[0m                            Traceback (most recent call last)",
            "\u001b[0;32m<ipython-input-44-e7769eecf6ca>\u001b[0m in \u001b[0;36m<cell line: 1>\u001b[0;34m()\u001b[0m\n\u001b[0;32m----> 1\u001b[0;31m \u001b[0mtf\u001b[0m\u001b[0;34m.\u001b[0m\u001b[0msaved\u001b[0m\u001b[0;34m(\u001b[0m\u001b[0;34m'/content/user_train_emb_tensor'\u001b[0m\u001b[0;34m,\u001b[0m \u001b[0muser_train_emb_tensor\u001b[0m\u001b[0;34m)\u001b[0m\u001b[0;34m\u001b[0m\u001b[0;34m\u001b[0m\u001b[0m\n\u001b[0m",
            "\u001b[0;31mAttributeError\u001b[0m: module 'tensorflow' has no attribute 'saved'"
          ]
        }
      ]
    },
    {
      "cell_type": "code",
      "source": [
        "user_train_emb_tensor.shape"
      ],
      "metadata": {
        "colab": {
          "base_uri": "https://localhost:8080/"
        },
        "id": "on8-3QF_liIh",
        "outputId": "b0899b19-864e-4dd4-8007-ec15594e6744"
      },
      "execution_count": 45,
      "outputs": [
        {
          "output_type": "execute_result",
          "data": {
            "text/plain": [
              "TensorShape([4000, 4, 768])"
            ]
          },
          "metadata": {},
          "execution_count": 45
        }
      ]
    },
    {
      "cell_type": "code",
      "source": [
        "np.save('/content/user_train_emb_tensor.npy', user_train_emb_tensor.numpy())"
      ],
      "metadata": {
        "id": "Cavo9PePzDgR"
      },
      "execution_count": 47,
      "outputs": []
    },
    {
      "cell_type": "code",
      "source": [
        "user_val_emb_tensor = embeddings_for_features(user_val_nnum[:400], max_length_comments, stride)\n",
        "# tf.save('/content/user_val_emb_tensor', user_val_emb_tensor)\n",
        "np.save('/content/user_val_emb_tensor.npy', user_val_emb_tensor.numpy())\n",
        "user_test_emb_tensor = embeddings_for_features(user_test_nnum[:400], max_length_comments, stride)\n",
        "np.save('/content/user_test_emb_tensor.npy', user_test_emb_tensor.numpy())"
      ],
      "metadata": {
        "colab": {
          "base_uri": "https://localhost:8080/"
        },
        "id": "fliLi13_iyuI",
        "outputId": "f0e6cd10-8bab-45a3-c91b-6cae6a9a7eaf"
      },
      "execution_count": 48,
      "outputs": [
        {
          "output_type": "stream",
          "name": "stderr",
          "text": [
            "Processing users: 100%|██████████| 400/400 [04:47<00:00,  1.39it/s]\n",
            "Processing users: 100%|██████████| 400/400 [04:45<00:00,  1.40it/s]\n"
          ]
        }
      ]
    },
    {
      "cell_type": "code",
      "source": [
        "car_train_emb_tensor = embeddings_for_oth_fea(car_train_nnum[:4000], max_length, batch_size)\n",
        "np.save('/content/car_train_emb_tensor.npy', car_train_emb_tensor.numpy())"
      ],
      "metadata": {
        "colab": {
          "base_uri": "https://localhost:8080/"
        },
        "id": "lMfT_6YptKjG",
        "outputId": "05172b99-c446-4494-ce67-d1f50e12a42b"
      },
      "execution_count": 42,
      "outputs": [
        {
          "output_type": "stream",
          "name": "stderr",
          "text": [
            "Processing users: 100%|██████████| 2000/2000 [19:58<00:00,  1.67it/s]\n"
          ]
        }
      ]
    },
    {
      "cell_type": "code",
      "source": [
        "car_train_emb_tensor = embeddings_for_oth_fea(car_train_nnum[:4000], max_length, batch_size)\n",
        "np.save('/content/car_train_emb_tensor.npy', car_train_emb_tensor.numpy())\n",
        "car_val_emb_tensor = embeddings_for_oth_fea(car_val_nnum[:400], max_length, batch_size)\n",
        "np.save('/content/car_val_emb_tensor.npy', car_val_emb_tensor.numpy())\n",
        "car_test_emb_tensor = embeddings_for_oth_fea(car_test_nnum[:400], max_length, batch_size)\n",
        "np.save('/content/car_test_emb_tensor.npy', car_test_emb_tensor.numpy())"
      ],
      "metadata": {
        "colab": {
          "base_uri": "https://localhost:8080/"
        },
        "id": "lCu7WJNOhGeM",
        "outputId": "e15b7cf5-b027-4338-d2d6-9f2e8648e6ae"
      },
      "execution_count": 49,
      "outputs": [
        {
          "output_type": "stream",
          "name": "stderr",
          "text": [
            "Processing users: 100%|██████████| 2000/2000 [19:09<00:00,  1.74it/s]\n",
            "Processing users: 100%|██████████| 200/200 [01:55<00:00,  1.74it/s]\n",
            "Processing users: 100%|██████████| 200/200 [01:54<00:00,  1.74it/s]\n"
          ]
        }
      ]
    },
    {
      "cell_type": "code",
      "source": [
        "car_train_emb_tensor.shape"
      ],
      "metadata": {
        "colab": {
          "base_uri": "https://localhost:8080/"
        },
        "id": "-OpaPZTJkjCa",
        "outputId": "282c3df8-59a6-484a-f6c6-c1127d0f213b"
      },
      "execution_count": 50,
      "outputs": [
        {
          "output_type": "execute_result",
          "data": {
            "text/plain": [
              "TensorShape([4000, 200, 768])"
            ]
          },
          "metadata": {},
          "execution_count": 50
        }
      ]
    },
    {
      "cell_type": "code",
      "source": [
        "car_train_emb_tensor.shape"
      ],
      "metadata": {
        "colab": {
          "base_uri": "https://localhost:8080/"
        },
        "id": "jM7Eu3Lv_qSc",
        "outputId": "05da7ddc-4616-41ab-c69d-04b1d51810e9"
      },
      "execution_count": 131,
      "outputs": [
        {
          "output_type": "execute_result",
          "data": {
            "text/plain": [
              "TensorShape([4000, 200, 768])"
            ]
          },
          "metadata": {},
          "execution_count": 131
        }
      ]
    },
    {
      "cell_type": "code",
      "source": [
        "user_train_emb_tensor.shape"
      ],
      "metadata": {
        "colab": {
          "base_uri": "https://localhost:8080/"
        },
        "id": "iHhaUK6Lki_G",
        "outputId": "17b73404-11fa-4939-a498-c7bacb90c25b"
      },
      "execution_count": 51,
      "outputs": [
        {
          "output_type": "execute_result",
          "data": {
            "text/plain": [
              "TensorShape([4000, 4, 768])"
            ]
          },
          "metadata": {},
          "execution_count": 51
        }
      ]
    },
    {
      "cell_type": "code",
      "source": [
        "user_train_num_tensor = tf.convert_to_tensor(user_train_num[:4000], dtype=tf.float32)\n",
        "car_train_num_tensor = tf.convert_to_tensor(car_train_num[:4000], dtype=tf.float32)\n",
        "ys_train_tensor = tf.convert_to_tensor(ys_train[:4000], dtype=tf.float32)\n",
        "\n",
        "user_val_num_tensor = tf.convert_to_tensor(user_val_num[:400], dtype=tf.float32)\n",
        "car_val_num_tensor = tf.convert_to_tensor(car_val_num[:400], dtype=tf.float32)\n",
        "ys_val_tensor = tf.convert_to_tensor(ys_val[:400], dtype=tf.float32)\n",
        "\n",
        "user_test_num_tensor = tf.convert_to_tensor(user_test_num[:400], dtype=tf.float32)\n",
        "car_test_num_tensor = tf.convert_to_tensor(car_test_num[:400], dtype=tf.float32)\n",
        "ys_test_tensor = tf.convert_to_tensor(ys_test[:400], dtype=tf.float32)\n"
      ],
      "metadata": {
        "id": "D2WsJwEA3rXc"
      },
      "execution_count": 47,
      "outputs": []
    },
    {
      "cell_type": "code",
      "source": [],
      "metadata": {
        "id": "du_A3Q1QuSvh"
      },
      "execution_count": null,
      "outputs": []
    },
    {
      "cell_type": "code",
      "source": [
        "# 加载numpy数组并转换回张量\n",
        "user_train_emb_tensor = tf.convert_to_tensor(np.load('/content/user_train_emb_tensor.npy'))"
      ],
      "metadata": {
        "id": "Y_eHlDNuuSri"
      },
      "execution_count": 288,
      "outputs": []
    },
    {
      "cell_type": "code",
      "source": [
        "user_val_emb_tensor = tf.convert_to_tensor(np.load('/content/user_val_emb_tensor.npy'))"
      ],
      "metadata": {
        "id": "WMB7QLJYuSls"
      },
      "execution_count": 44,
      "outputs": []
    },
    {
      "cell_type": "code",
      "source": [
        "user_test_emb_tensor = tf.convert_to_tensor(np.load('/content/user_test_emb_tensor.npy'))"
      ],
      "metadata": {
        "id": "6LRCKtw_0YcY"
      },
      "execution_count": 45,
      "outputs": []
    },
    {
      "cell_type": "code",
      "source": [
        "car_train_emb_tensor = tf.convert_to_tensor(np.load('/content/car_train_emb_tensor.npy'))"
      ],
      "metadata": {
        "id": "SfaSyark0a_S"
      },
      "execution_count": 46,
      "outputs": []
    },
    {
      "cell_type": "code",
      "source": [
        "car_val_emb_tensor = tf.convert_to_tensor(np.load('/content/car_val_emb_tensor.npy'))"
      ],
      "metadata": {
        "id": "fe55rLNG0ahQ"
      },
      "execution_count": 48,
      "outputs": []
    },
    {
      "cell_type": "code",
      "source": [
        "car_test_emb_tensor = tf.convert_to_tensor(np.load('/content/car_test_emb_tensor.npy'))"
      ],
      "metadata": {
        "id": "USMDldrD0aLo"
      },
      "execution_count": 49,
      "outputs": []
    },
    {
      "cell_type": "markdown",
      "source": [
        "# building model"
      ],
      "metadata": {
        "id": "Yx69REDNx_0e"
      }
    },
    {
      "cell_type": "code",
      "source": [
        "import tensorflow.keras.layers, tensorflow.keras.models"
      ],
      "metadata": {
        "id": "Ngz_ttE7kUGJ"
      },
      "execution_count": 50,
      "outputs": []
    },
    {
      "cell_type": "code",
      "source": [
        "from tensorflow.keras.layers import Input, Dense, MultiHeadAttention, GlobalAveragePooling1D, Concatenate, Flatten\n",
        "from tensorflow.keras.models import Model"
      ],
      "metadata": {
        "id": "3BQGjNEAyFHT"
      },
      "execution_count": 51,
      "outputs": []
    },
    {
      "cell_type": "code",
      "source": [
        "num_outputs = 64\n",
        "user_NN = tf.keras.models.Sequential([\n",
        "    # tf.keras.layers.Dense(2048, activation='swish'),\n",
        "    # tf.keras.layers.Dense(1024, activation='swish'),\n",
        "    tf.keras.layers.Dense(512, activation='swish'),\n",
        "    tf.keras.layers.Dense(256, activation='swish'),\n",
        "    tf.keras.layers.Dense(128, activation='swish'),\n",
        "    # tf.keras.layers.Dense(64, activation='swish'),\n",
        "    tf.keras.layers.Dense(num_outputs, activation='swish'),\n",
        "])\n",
        "car_NN = tf.keras.models.Sequential([\n",
        "    # tf.keras.layers.Dense(2018, activation='swish'),\n",
        "    # tf.keras.layers.Dense(1024, activation='swish'),\n",
        "    tf.keras.layers.Dense(512, activation='swish'),\n",
        "    tf.keras.layers.Dense(256, activation='swish'),\n",
        "    tf.keras.layers.Dense(128, activation='swish'),\n",
        "    # tf.keras.layers.Dense(64, activation='swish'),\n",
        "    tf.keras.layers.Dense(num_outputs, activation='swish'),\n",
        "])\n",
        "uc_NN = tf.keras.models.Sequential([\n",
        "    # tf.keras.layers.Dense(2018, activation='swish'),\n",
        "    tf.keras.layers.Dense(1024, activation='swish'),\n",
        "    tf.keras.layers.Dense(512, activation='swish'),\n",
        "    tf.keras.layers.Dense(256, activation='swish'),\n",
        "    tf.keras.layers.Dense(128, activation='swish'),\n",
        "    # tf.keras.layers.Dense(64, activation='swish'),\n",
        "    # tf.keras.layers.Dense(num_outputs, activation='swish'),\n",
        "])"
      ],
      "metadata": {
        "id": "TmzKMVdtnUmQ"
      },
      "execution_count": 289,
      "outputs": []
    },
    {
      "cell_type": "code",
      "source": [
        "# 已经定义了以下变量\n",
        "# # uc_train_emb_tensor = tf.concat([user_train_emb_tensor, car_train_emb_tensor],axis=1)\n",
        "# uc_test_emb_tensor = tf.concat([user_test_emb_tensor, car_test_emb_tensor],axis=1)\n",
        "num_user_features = user_train_emb_tensor.shape[-1]\n",
        "num_car_features = car_train_emb_tensor.shape[-1]\n",
        "num_user_num_features = user_train_num_tensor.shape[-1]\n",
        "num_car_num_features = car_train_num_tensor.shape[-1]\n",
        "# num_uc_num_features = uc_train_emb_tensor.shape[-1]\n"
      ],
      "metadata": {
        "id": "-JeFf1vdgOqm"
      },
      "execution_count": 290,
      "outputs": []
    },
    {
      "cell_type": "code",
      "source": [
        "uc_train_emb_tensor.shape"
      ],
      "metadata": {
        "id": "MGSbh5MOQf0Z",
        "outputId": "78c97043-9f1e-43ff-9a7f-f883aafe64a9",
        "colab": {
          "base_uri": "https://localhost:8080/"
        }
      },
      "execution_count": 225,
      "outputs": [
        {
          "output_type": "execute_result",
          "data": {
            "text/plain": [
              "TensorShape([4000, 204, 768])"
            ]
          },
          "metadata": {},
          "execution_count": 225
        }
      ]
    },
    {
      "cell_type": "code",
      "source": [
        "num_user_features"
      ],
      "metadata": {
        "id": "V8XKpmOKQ-4f",
        "outputId": "df91f477-05a7-43c5-c0eb-0870fd52c672",
        "colab": {
          "base_uri": "https://localhost:8080/"
        }
      },
      "execution_count": 196,
      "outputs": [
        {
          "output_type": "execute_result",
          "data": {
            "text/plain": [
              "768"
            ]
          },
          "metadata": {},
          "execution_count": 196
        }
      ]
    },
    {
      "cell_type": "code",
      "source": [
        "# 定义Multi-head 注意力机制层\n",
        "def multi_head_attention_block(query, key, value, num_heads, key_dim):\n",
        "    # 使用Keras的MultiHeadAttention层\n",
        "    mh_attention_layer = MultiHeadAttention(num_heads=num_heads, key_dim=key_dim)\n",
        "    attention_output = mh_attention_layer(query, key, value)\n",
        "    return attention_output"
      ],
      "metadata": {
        "id": "UdEbOH1ZgQwF"
      },
      "execution_count": 291,
      "outputs": []
    },
    {
      "cell_type": "code",
      "source": [
        "def attention_mechanism(user_tensor, car_tensor):\n",
        "    \"\"\"\n",
        "    Implement a simple dot-product attention between user and car tensors.\n",
        "    \"\"\"\n",
        "    # Compute attention scores\n",
        "    attention_scores = tf.keras.layers.Dot(axes=1)([user_tensor, car_tensor])\n",
        "\n",
        "    # Compute attention weights for user tensor\n",
        "    user_attention_weights = tf.keras.layers.Activation(\"softmax\")(attention_scores)\n",
        "    user_weighted_tensor = tf.keras.layers.Multiply()([user_tensor, user_attention_weights])\n",
        "\n",
        "    # Compute attention weights for car tensor\n",
        "    car_attention_weights = tf.keras.layers.Activation(\"softmax\")(attention_scores)\n",
        "    car_weighted_tensor = tf.keras.layers.Multiply()([car_tensor, car_attention_weights])\n",
        "\n",
        "    # Combine the original tensor and the weighted tensor\n",
        "    user_output = tf.keras.layers.Concatenate()([user_tensor, user_weighted_tensor])\n",
        "    car_output = tf.keras.layers.Concatenate()([car_tensor, car_weighted_tensor])\n",
        "\n",
        "    return user_output, car_output"
      ],
      "metadata": {
        "id": "dY_gWWxNEYGV"
      },
      "execution_count": 292,
      "outputs": []
    },
    {
      "cell_type": "code",
      "source": [
        "# testing\n",
        "\n",
        "\n",
        "# 输入层\n",
        "# input_user_emb = Input(shape=(None, num_user_features))\n",
        "# input_car_emb = Input(shape=(None, num_car_features))\n",
        "input_user_num = Input(shape=(num_user_num_features,))\n",
        "input_car_num = Input(shape=(num_car_num_features,))\n",
        "input_uc_emb = Input(shape=(None, num_uc_num_features))\n",
        "\n",
        "# uc_emb_combined = Concatenate()([input_user_emb, input_car_emb])\n",
        "\n",
        "# 对嵌入向量应用Multi-head 注意力机制\n",
        "attention_output = multi_head_attention_block(input_uc_emb, input_uc_emb, input_uc_emb, num_heads=8, key_dim=512)\n",
        "# car_attention_output = multi_head_attention_block(input_car_emb, input_car_emb, input_car_emb, num_heads=2, key_dim=1024)\n",
        "\n",
        "# 池化层，将注意力机制的输出降维\n",
        "uc_vector = GlobalAveragePooling1D()(attention_output)\n",
        "# car_vector = GlobalAveragePooling1D()(car_attention_output)\n",
        "\n",
        "# 数值特征和经过注意力机制处理的嵌入向量合并\n",
        "user_combined = Concatenate()([uc_vector, input_user_num])\n",
        "car_combined = Concatenate()([uc_vector, input_car_num])\n",
        "\n",
        "# 定义神经网络层来进一步处理合并后的特征\n",
        "# user_nn_output = Dense(256, activation='relu')(user_combined)\n",
        "# car_nn_output = Dense(256, activation='relu')(car_combined)\n",
        "user_nn_output = user_NN(user_combined)\n",
        "car_nn_output = car_NN(car_combined)\n",
        "uc_nn_output = uc_NN(uc_vector)\n",
        "\n",
        "\n",
        "# 将用户和车辆的特征合并，以用于最终的预测\n",
        "vu, vc = attention_mechanism(user_nn_output, car_nn_output)\n",
        "\n",
        "vu = tf.linalg.l2_normalize(vu, axis=1)\n",
        "vc = tf.linalg.l2_normalize(vc, axis=1)\n",
        "\n",
        "# d_uv = tf.keras.layers.Dot(axes=1)([vu, vc])\n",
        "d_out1 = tf.keras.layers.Dot(axes=1)([vu, uc])\n",
        "d_out2 = tf.keras.layers.Dot(axes=1)([vc, uc])\n",
        "d_out = tf.keras.layers.Dot(axes=1)([d_out1, d_out2])\n",
        "output = tf.keras.layers.Dense(1, activation='sigmoid')(d_out)\n",
        "\n",
        "# # 预测层\n",
        "# output = Dense(1, activation='sigmoid')(combined_features)\n",
        "\n",
        "# 构建模型\n",
        "model = Model(inputs=[input_uc_emb, input_user_num, input_car_num], outputs=output)\n",
        "\n",
        "# 显示模型摘要\n",
        "model.summary()"
      ],
      "metadata": {
        "colab": {
          "base_uri": "https://localhost:8080/"
        },
        "id": "LfwKBU0WwsMR",
        "outputId": "44a363a5-601d-4a15-d5ff-123646c46266"
      },
      "execution_count": 251,
      "outputs": [
        {
          "output_type": "stream",
          "name": "stdout",
          "text": [
            "Model: \"model_14\"\n",
            "__________________________________________________________________________________________________\n",
            " Layer (type)                Output Shape                 Param #   Connected to                  \n",
            "==================================================================================================\n",
            " input_95 (InputLayer)       [(None, None, 768)]          0         []                            \n",
            "                                                                                                  \n",
            " multi_head_attention_30 (M  (None, None, 768)            1259596   ['input_95[0][0]',            \n",
            " ultiHeadAttention)                                       8          'input_95[0][0]',            \n",
            "                                                                     'input_95[0][0]']            \n",
            "                                                                                                  \n",
            " multi_head_attention_31 (M  (None, None, 768)            1259596   ['multi_head_attention_30[0][0\n",
            " ultiHeadAttention)                                       8         ]',                           \n",
            "                                                                     'multi_head_attention_30[0][0\n",
            "                                                                    ]',                           \n",
            "                                                                     'multi_head_attention_30[0][0\n",
            "                                                                    ]']                           \n",
            "                                                                                                  \n",
            " global_average_pooling1d_3  (None, 768)                  0         ['multi_head_attention_31[0][0\n",
            " 2 (GlobalAveragePooling1D)                                         ]']                           \n",
            "                                                                                                  \n",
            " input_93 (InputLayer)       [(None, 4)]                  0         []                            \n",
            "                                                                                                  \n",
            " input_94 (InputLayer)       [(None, 37)]                 0         []                            \n",
            "                                                                                                  \n",
            " concatenate_100 (Concatena  (None, 772)                  0         ['global_average_pooling1d_32[\n",
            " te)                                                                0][0]',                       \n",
            "                                                                     'input_93[0][0]']            \n",
            "                                                                                                  \n",
            " concatenate_101 (Concatena  (None, 805)                  0         ['global_average_pooling1d_32[\n",
            " te)                                                                0][0]',                       \n",
            "                                                                     'input_94[0][0]']            \n",
            "                                                                                                  \n",
            " sequential_28 (Sequential)  (None, 64)                   568256    ['concatenate_100[0][0]']     \n",
            "                                                                                                  \n",
            " sequential_29 (Sequential)  (None, 64)                   585152    ['concatenate_101[0][0]']     \n",
            "                                                                                                  \n",
            " dot_60 (Dot)                (None, 1)                    0         ['sequential_28[1][0]',       \n",
            "                                                                     'sequential_29[1][0]']       \n",
            "                                                                                                  \n",
            " activation_44 (Activation)  (None, 1)                    0         ['dot_60[0][0]']              \n",
            "                                                                                                  \n",
            " activation_45 (Activation)  (None, 1)                    0         ['dot_60[0][0]']              \n",
            "                                                                                                  \n",
            " multiply_44 (Multiply)      (None, 64)                   0         ['sequential_28[1][0]',       \n",
            "                                                                     'activation_44[0][0]']       \n",
            "                                                                                                  \n",
            " multiply_45 (Multiply)      (None, 64)                   0         ['sequential_29[1][0]',       \n",
            "                                                                     'activation_45[0][0]']       \n",
            "                                                                                                  \n",
            " concatenate_102 (Concatena  (None, 128)                  0         ['sequential_28[1][0]',       \n",
            " te)                                                                 'multiply_44[0][0]']         \n",
            "                                                                                                  \n",
            " sequential_30 (Sequential)  (None, 128)                  1476480   ['global_average_pooling1d_32[\n",
            "                                                                    0][0]']                       \n",
            "                                                                                                  \n",
            " concatenate_103 (Concatena  (None, 128)                  0         ['sequential_29[1][0]',       \n",
            " te)                                                                 'multiply_45[0][0]']         \n",
            "                                                                                                  \n",
            " tf.math.l2_normalize_60 (T  (None, 128)                  0         ['concatenate_102[0][0]']     \n",
            " FOpLambda)                                                                                       \n",
            "                                                                                                  \n",
            " tf.math.l2_normalize_59 (T  (None, 128)                  0         ['sequential_30[1][0]']       \n",
            " FOpLambda)                                                                                       \n",
            "                                                                                                  \n",
            " tf.math.l2_normalize_61 (T  (None, 128)                  0         ['concatenate_103[0][0]']     \n",
            " FOpLambda)                                                                                       \n",
            "                                                                                                  \n",
            " dot_61 (Dot)                (None, 1)                    0         ['tf.math.l2_normalize_60[0][0\n",
            "                                                                    ]',                           \n",
            "                                                                     'tf.math.l2_normalize_59[0][0\n",
            "                                                                    ]']                           \n",
            "                                                                                                  \n",
            " dot_62 (Dot)                (None, 1)                    0         ['tf.math.l2_normalize_61[0][0\n",
            "                                                                    ]',                           \n",
            "                                                                     'tf.math.l2_normalize_59[0][0\n",
            "                                                                    ]']                           \n",
            "                                                                                                  \n",
            " dot_63 (Dot)                (None, 1)                    0         ['dot_61[0][0]',              \n",
            "                                                                     'dot_62[0][0]']              \n",
            "                                                                                                  \n",
            " dense_192 (Dense)           (None, 1)                    2         ['dot_63[0][0]']              \n",
            "                                                                                                  \n",
            "==================================================================================================\n",
            "Total params: 27821826 (106.13 MB)\n",
            "Trainable params: 27821826 (106.13 MB)\n",
            "Non-trainable params: 0 (0.00 Byte)\n",
            "__________________________________________________________________________________________________\n"
          ]
        }
      ]
    },
    {
      "cell_type": "code",
      "source": [
        "# 输入层\n",
        "input_user_emb = Input(shape=(None, num_user_features))\n",
        "input_car_emb = Input(shape=(None, num_car_features))\n",
        "input_user_num = Input(shape=(num_user_num_features,))\n",
        "input_car_num = Input(shape=(num_car_num_features,))\n",
        "\n",
        "# 对嵌入向量应用Multi-head 注意力机制\n",
        "user_attention_output = multi_head_attention_block(input_user_emb, input_user_emb, input_user_emb, num_heads=2, key_dim=64)\n",
        "car_attention_output = multi_head_attention_block(input_car_emb, input_car_emb, input_car_emb, num_heads=2, key_dim=64)\n",
        "\n",
        "# 池化层，将注意力机制的输出降维\n",
        "user_vector = GlobalAveragePooling1D()(user_attention_output)\n",
        "car_vector = GlobalAveragePooling1D()(car_attention_output)\n",
        "\n",
        "# 数值特征和经过注意力机制处理的嵌入向量合并\n",
        "user_combined = Concatenate()([user_vector, input_user_num])\n",
        "car_combined = Concatenate()([car_vector, input_car_num])\n",
        "\n",
        "# 定义神经网络层来进一步处理合并后的特征\n",
        "# user_nn_output = Dense(256, activation='relu')(user_combined)\n",
        "# car_nn_output = Dense(256, activation='relu')(car_combined)\n",
        "user_nn_output = user_NN(user_combined)\n",
        "car_nn_output = car_NN(car_combined)\n",
        "\n",
        "\n",
        "# 将用户和车辆的特征合并，以用于最终的预测\n",
        "vu, vc = attention_mechanism(user_nn_output, car_nn_output)\n",
        "\n",
        "vu = tf.linalg.l2_normalize(vu, axis=1)\n",
        "vc = tf.linalg.l2_normalize(vc, axis=1)\n",
        "\n",
        "d_out = tf.keras.layers.Dot(axes=1)([vu, vc])\n",
        "output = tf.keras.layers.Dense(1, activation='sigmoid')(d_out)\n",
        "\n",
        "# # 预测层\n",
        "# output = Dense(1, activation='sigmoid')(combined_features)\n",
        "\n",
        "# 构建模型\n",
        "model = Model(inputs=[input_user_emb, input_car_emb, input_user_num, input_car_num], outputs=output)\n",
        "\n",
        "# 显示模型摘要\n",
        "model.summary()\n"
      ],
      "metadata": {
        "colab": {
          "base_uri": "https://localhost:8080/"
        },
        "id": "Fno1fLxdgTaK",
        "outputId": "563b6216-dbdc-47f9-9b1c-b3477a634177"
      },
      "execution_count": 293,
      "outputs": [
        {
          "output_type": "stream",
          "name": "stdout",
          "text": [
            "Model: \"model_16\"\n",
            "__________________________________________________________________________________________________\n",
            " Layer (type)                Output Shape                 Param #   Connected to                  \n",
            "==================================================================================================\n",
            " input_100 (InputLayer)      [(None, None, 768)]          0         []                            \n",
            "                                                                                                  \n",
            " input_101 (InputLayer)      [(None, None, 768)]          0         []                            \n",
            "                                                                                                  \n",
            " multi_head_attention_34 (M  (None, None, 768)            394368    ['input_100[0][0]',           \n",
            " ultiHeadAttention)                                                  'input_100[0][0]',           \n",
            "                                                                     'input_100[0][0]']           \n",
            "                                                                                                  \n",
            " multi_head_attention_35 (M  (None, None, 768)            394368    ['input_101[0][0]',           \n",
            " ultiHeadAttention)                                                  'input_101[0][0]',           \n",
            "                                                                     'input_101[0][0]']           \n",
            "                                                                                                  \n",
            " global_average_pooling1d_3  (None, 768)                  0         ['multi_head_attention_34[0][0\n",
            " 5 (GlobalAveragePooling1D)                                         ]']                           \n",
            "                                                                                                  \n",
            " input_102 (InputLayer)      [(None, 4)]                  0         []                            \n",
            "                                                                                                  \n",
            " global_average_pooling1d_3  (None, 768)                  0         ['multi_head_attention_35[0][0\n",
            " 6 (GlobalAveragePooling1D)                                         ]']                           \n",
            "                                                                                                  \n",
            " input_103 (InputLayer)      [(None, 37)]                 0         []                            \n",
            "                                                                                                  \n",
            " concatenate_108 (Concatena  (None, 772)                  0         ['global_average_pooling1d_35[\n",
            " te)                                                                0][0]',                       \n",
            "                                                                     'input_102[0][0]']           \n",
            "                                                                                                  \n",
            " concatenate_109 (Concatena  (None, 805)                  0         ['global_average_pooling1d_36[\n",
            " te)                                                                0][0]',                       \n",
            "                                                                     'input_103[0][0]']           \n",
            "                                                                                                  \n",
            " sequential_31 (Sequential)  (None, 64)                   568256    ['concatenate_108[0][0]']     \n",
            "                                                                                                  \n",
            " sequential_32 (Sequential)  (None, 64)                   585152    ['concatenate_109[0][0]']     \n",
            "                                                                                                  \n",
            " dot_66 (Dot)                (None, 1)                    0         ['sequential_31[0][0]',       \n",
            "                                                                     'sequential_32[0][0]']       \n",
            "                                                                                                  \n",
            " activation_48 (Activation)  (None, 1)                    0         ['dot_66[0][0]']              \n",
            "                                                                                                  \n",
            " activation_49 (Activation)  (None, 1)                    0         ['dot_66[0][0]']              \n",
            "                                                                                                  \n",
            " multiply_48 (Multiply)      (None, 64)                   0         ['sequential_31[0][0]',       \n",
            "                                                                     'activation_48[0][0]']       \n",
            "                                                                                                  \n",
            " multiply_49 (Multiply)      (None, 64)                   0         ['sequential_32[0][0]',       \n",
            "                                                                     'activation_49[0][0]']       \n",
            "                                                                                                  \n",
            " concatenate_110 (Concatena  (None, 128)                  0         ['sequential_31[0][0]',       \n",
            " te)                                                                 'multiply_48[0][0]']         \n",
            "                                                                                                  \n",
            " concatenate_111 (Concatena  (None, 128)                  0         ['sequential_32[0][0]',       \n",
            " te)                                                                 'multiply_49[0][0]']         \n",
            "                                                                                                  \n",
            " tf.math.l2_normalize_64 (T  (None, 128)                  0         ['concatenate_110[0][0]']     \n",
            " FOpLambda)                                                                                       \n",
            "                                                                                                  \n",
            " tf.math.l2_normalize_65 (T  (None, 128)                  0         ['concatenate_111[0][0]']     \n",
            " FOpLambda)                                                                                       \n",
            "                                                                                                  \n",
            " dot_67 (Dot)                (None, 1)                    0         ['tf.math.l2_normalize_64[0][0\n",
            "                                                                    ]',                           \n",
            "                                                                     'tf.math.l2_normalize_65[0][0\n",
            "                                                                    ]']                           \n",
            "                                                                                                  \n",
            " dense_206 (Dense)           (None, 1)                    2         ['dot_67[0][0]']              \n",
            "                                                                                                  \n",
            "==================================================================================================\n",
            "Total params: 1942146 (7.41 MB)\n",
            "Trainable params: 1942146 (7.41 MB)\n",
            "Non-trainable params: 0 (0.00 Byte)\n",
            "__________________________________________________________________________________________________\n"
          ]
        }
      ]
    },
    {
      "cell_type": "code",
      "source": [
        "tf.keras.utils.plot_model(model, \"/content/my_model.png\")"
      ],
      "metadata": {
        "colab": {
          "base_uri": "https://localhost:8080/",
          "height": 846
        },
        "id": "Ob7HYmCYmrVl",
        "outputId": "968030de-d1c0-452c-e95a-e84122a8a998"
      },
      "execution_count": 294,
      "outputs": [
        {
          "output_type": "execute_result",
          "data": {
            "image/png": "[encoded data removed]",
            "text/plain": [
              "<IPython.core.display.Image object>"
            ]
          },
          "metadata": {},
          "execution_count": 294
        }
      ]
    },
    {
      "cell_type": "code",
      "source": [
        "def contrastive_loss(y_true, y_pred, margin=1):\n",
        "    \"\"\"\n",
        "    Contrastive loss function.\n",
        "    - y_true: True labels, 1 for positive pairs, 0 for negative pairs.\n",
        "    - y_pred: Predicted labels.\n",
        "    - margin: Contrastive margin.\n",
        "    \"\"\"\n",
        "    # 计算正样本的损失（用户购买车型）\n",
        "    positive_loss = y_true * tf.square(y_pred)\n",
        "\n",
        "    # 计算负样本的损失（用户未购买车型）\n",
        "    negative_loss = (1 - y_true) * tf.square(tf.maximum(margin - y_pred, 0))\n",
        "\n",
        "    # 计算总损失\n",
        "    loss = tf.reduce_mean(positive_loss + negative_loss)\n",
        "    return loss\n"
      ],
      "metadata": {
        "id": "24fAEtvPtpoK"
      },
      "execution_count": 284,
      "outputs": []
    },
    {
      "cell_type": "code",
      "source": [
        "# def contrastive_loss(y_true, y_pred, margin=1):\n",
        "#     \"\"\"\n",
        "#     Contrastive loss function for binary classification.\n",
        "#     - y_true: True labels, 1 for positive pairs, 0 for negative pairs.\n",
        "#     - y_pred: Predicted probabilities.\n",
        "#     - margin: Margin for negative samples.\n",
        "#     \"\"\"\n",
        "#     # 计算正样本的损失（用户购买车型）\n",
        "#     positive_loss = y_true * tf.keras.backend.binary_crossentropy(y_true, y_pred)\n",
        "\n",
        "#     # 计算负样本的损失（用户未购买车型），使用margin\n",
        "#     negative_loss = (1 - y_true) * tf.square(tf.maximum(margin - y_pred, 0))\n",
        "\n",
        "#     # 计算总损失\n",
        "#     loss = tf.reduce_mean(positive_loss + negative_loss)\n",
        "#     return loss\n"
      ],
      "metadata": {
        "id": "AhxoBXiGytLE"
      },
      "execution_count": 80,
      "outputs": []
    },
    {
      "cell_type": "code",
      "source": [
        "# tf.random.set_seed(1)\n",
        "cost_fn = tf.keras.losses.MeanSquaredError()\n",
        "opt = keras.optimizers.Adam(learning_rate=0.005)\n",
        "model.compile(optimizer=opt, loss=cost_fn)\n",
        "\n",
        "# contrastive_loss"
      ],
      "metadata": {
        "id": "_xiOvYTnki5H"
      },
      "execution_count": 295,
      "outputs": []
    },
    {
      "cell_type": "code",
      "source": [
        "early_stopping = tf.keras.callbacks.EarlyStopping(monitor='val_loss',\n",
        "                                                  patience=60, # number of epochs to wait\n",
        "                                                  restore_best_weights=True)\n",
        "\n",
        "reduce_lr_callback = tf.keras.callbacks.ReduceLROnPlateau(\n",
        "    monitor='val_loss', # monitor the validation loss\n",
        "    factor=0.5,         # reduce the learning rate to 10% of its current value\n",
        "    patience=30,         # reduce the learning rate if the metric does not improve for 5 consecutive epochs\n",
        "    min_lr=1e-7,        # set the minimum learning rate\n",
        "    verbose=1           # print messages about learning rate reduction\n",
        ")"
      ],
      "metadata": {
        "id": "uLFFpIgnki2H"
      },
      "execution_count": 298,
      "outputs": []
    },
    {
      "cell_type": "code",
      "source": [
        "# 创建ModelCheckpoint回调\n",
        "checkpoint_filepath = '/content/best_model2.h5'\n",
        "model_checkpoint_callback = ModelCheckpoint(\n",
        "    filepath=checkpoint_filepath,\n",
        "    save_best_only=True,\n",
        "    monitor='val_loss',\n",
        "    mode='min',\n",
        "    verbose=1,\n",
        "    save_weights_only=False # 保存整个模型。如果只想保存权重，设置为True。\n",
        ")"
      ],
      "metadata": {
        "id": "vRfrU8JXyK4W"
      },
      "execution_count": 299,
      "outputs": []
    },
    {
      "cell_type": "code",
      "source": [
        "# tf.random.set_seed(1)\n",
        "# model.fit([user_train, car_train], ys_train, epochs=12)\n",
        "history = model.fit([user_train_emb_tensor, car_train_emb_tensor, user_train_num_tensor, car_train_num_tensor], ys_train_tensor,\n",
        "                    epochs=100,\n",
        "                    validation_data=([user_test_emb_tensor,car_test_emb_tensor, user_test_num_tensor, car_test_num_tensor], ys_test_tensor),\n",
        "                    callbacks = [model_checkpoint_callback, early_stopping, reduce_lr_callback])\n"
      ],
      "metadata": {
        "colab": {
          "base_uri": "https://localhost:8080/"
        },
        "id": "YeSz-VALyK1Y",
        "outputId": "1086a42e-456f-4bda-9bac-5dd31c2d2db9"
      },
      "execution_count": 300,
      "outputs": [
        {
          "output_type": "stream",
          "name": "stdout",
          "text": [
            "Epoch 1/100\n",
            "123/125 [============================>.] - ETA: 0s - loss: 0.2485\n",
            "Epoch 1: val_loss improved from inf to 0.24908, saving model to /content/best_model2.h5\n",
            "125/125 [==============================] - 8s 21ms/step - loss: 0.2485 - val_loss: 0.2491 - lr: 0.0080\n",
            "Epoch 2/100\n",
            "  1/125 [..............................] - ETA: 2s - loss: 0.2520"
          ]
        },
        {
          "output_type": "stream",
          "name": "stderr",
          "text": [
            "You are saving your model as an HDF5 file via `model.save()`. This file format is considered legacy. We recommend using instead the native Keras format, e.g. `model.save('my_model.keras')`.\n"
          ]
        },
        {
          "output_type": "stream",
          "name": "stdout",
          "text": [
            "122/125 [============================>.] - ETA: 0s - loss: 0.2481\n",
            "Epoch 2: val_loss did not improve from 0.24908\n",
            "125/125 [==============================] - 2s 17ms/step - loss: 0.2480 - val_loss: 0.2493 - lr: 0.0080\n",
            "Epoch 3/100\n",
            "124/125 [============================>.] - ETA: 0s - loss: 0.2477\n",
            "Epoch 3: val_loss did not improve from 0.24908\n",
            "125/125 [==============================] - 2s 17ms/step - loss: 0.2477 - val_loss: 0.2495 - lr: 0.0080\n",
            "Epoch 4/100\n",
            "124/125 [============================>.] - ETA: 0s - loss: 0.2478\n",
            "Epoch 4: val_loss did not improve from 0.24908\n",
            "125/125 [==============================] - 2s 17ms/step - loss: 0.2477 - val_loss: 0.2492 - lr: 0.0080\n",
            "Epoch 5/100\n",
            "124/125 [============================>.] - ETA: 0s - loss: 0.2477\n",
            "Epoch 5: val_loss did not improve from 0.24908\n",
            "125/125 [==============================] - 2s 17ms/step - loss: 0.2477 - val_loss: 0.2495 - lr: 0.0080\n",
            "Epoch 6/100\n",
            "125/125 [==============================] - ETA: 0s - loss: 0.2476\n",
            "Epoch 6: val_loss improved from 0.24908 to 0.24900, saving model to /content/best_model2.h5\n",
            "125/125 [==============================] - 2s 17ms/step - loss: 0.2476 - val_loss: 0.2490 - lr: 0.0080\n",
            "Epoch 7/100\n",
            "125/125 [==============================] - ETA: 0s - loss: 0.2477\n",
            "Epoch 7: val_loss did not improve from 0.24900\n",
            "125/125 [==============================] - 2s 16ms/step - loss: 0.2477 - val_loss: 0.2492 - lr: 0.0080\n",
            "Epoch 8/100\n",
            "124/125 [============================>.] - ETA: 0s - loss: 0.2478\n",
            "Epoch 8: val_loss did not improve from 0.24900\n",
            "125/125 [==============================] - 2s 17ms/step - loss: 0.2478 - val_loss: 0.2496 - lr: 0.0080\n",
            "Epoch 9/100\n",
            "122/125 [============================>.] - ETA: 0s - loss: 0.2477\n",
            "Epoch 9: val_loss did not improve from 0.24900\n",
            "125/125 [==============================] - 2s 17ms/step - loss: 0.2477 - val_loss: 0.2492 - lr: 0.0080\n",
            "Epoch 10/100\n",
            "123/125 [============================>.] - ETA: 0s - loss: 0.2476\n",
            "Epoch 10: val_loss did not improve from 0.24900\n",
            "125/125 [==============================] - 2s 17ms/step - loss: 0.2477 - val_loss: 0.2490 - lr: 0.0080\n",
            "Epoch 11/100\n",
            "124/125 [============================>.] - ETA: 0s - loss: 0.2476\n",
            "Epoch 11: val_loss did not improve from 0.24900\n",
            "125/125 [==============================] - 2s 17ms/step - loss: 0.2477 - val_loss: 0.2493 - lr: 0.0080\n",
            "Epoch 12/100\n",
            "123/125 [============================>.] - ETA: 0s - loss: 0.2475\n",
            "Epoch 12: val_loss did not improve from 0.24900\n",
            "125/125 [==============================] - 2s 17ms/step - loss: 0.2477 - val_loss: 0.2492 - lr: 0.0080\n",
            "Epoch 13/100\n",
            "125/125 [==============================] - ETA: 0s - loss: 0.2478\n",
            "Epoch 13: val_loss did not improve from 0.24900\n",
            "125/125 [==============================] - 2s 17ms/step - loss: 0.2478 - val_loss: 0.2490 - lr: 0.0080\n",
            "Epoch 14/100\n",
            "122/125 [============================>.] - ETA: 0s - loss: 0.2480\n",
            "Epoch 14: val_loss did not improve from 0.24900\n",
            "125/125 [==============================] - 2s 17ms/step - loss: 0.2478 - val_loss: 0.2491 - lr: 0.0080\n",
            "Epoch 15/100\n",
            "125/125 [==============================] - ETA: 0s - loss: 0.2476\n",
            "Epoch 15: val_loss did not improve from 0.24900\n",
            "125/125 [==============================] - 2s 18ms/step - loss: 0.2476 - val_loss: 0.2491 - lr: 0.0080\n",
            "Epoch 16/100\n",
            "124/125 [============================>.] - ETA: 0s - loss: 0.2478\n",
            "Epoch 16: val_loss did not improve from 0.24900\n",
            "125/125 [==============================] - 2s 17ms/step - loss: 0.2477 - val_loss: 0.2491 - lr: 0.0080\n",
            "Epoch 17/100\n",
            "125/125 [==============================] - ETA: 0s - loss: 0.2477\n",
            "Epoch 17: val_loss did not improve from 0.24900\n",
            "125/125 [==============================] - 2s 17ms/step - loss: 0.2477 - val_loss: 0.2491 - lr: 0.0080\n",
            "Epoch 18/100\n",
            "122/125 [============================>.] - ETA: 0s - loss: 0.2477\n",
            "Epoch 18: val_loss did not improve from 0.24900\n",
            "125/125 [==============================] - 2s 17ms/step - loss: 0.2477 - val_loss: 0.2492 - lr: 0.0080\n",
            "Epoch 19/100\n",
            "125/125 [==============================] - ETA: 0s - loss: 0.2477\n",
            "Epoch 19: val_loss did not improve from 0.24900\n",
            "125/125 [==============================] - 2s 17ms/step - loss: 0.2477 - val_loss: 0.2495 - lr: 0.0080\n",
            "Epoch 20/100\n",
            "124/125 [============================>.] - ETA: 0s - loss: 0.2477\n",
            "Epoch 20: val_loss did not improve from 0.24900\n",
            "125/125 [==============================] - 2s 17ms/step - loss: 0.2476 - val_loss: 0.2490 - lr: 0.0080\n",
            "Epoch 21/100\n",
            "123/125 [============================>.] - ETA: 0s - loss: 0.2476\n",
            "Epoch 21: val_loss did not improve from 0.24900\n",
            "125/125 [==============================] - 2s 17ms/step - loss: 0.2477 - val_loss: 0.2492 - lr: 0.0080\n",
            "Epoch 22/100\n",
            "125/125 [==============================] - ETA: 0s - loss: 0.2477\n",
            "Epoch 22: val_loss did not improve from 0.24900\n",
            "125/125 [==============================] - 2s 17ms/step - loss: 0.2477 - val_loss: 0.2494 - lr: 0.0080\n",
            "Epoch 23/100\n",
            "124/125 [============================>.] - ETA: 0s - loss: 0.2477\n",
            "Epoch 23: val_loss did not improve from 0.24900\n",
            "125/125 [==============================] - 2s 17ms/step - loss: 0.2477 - val_loss: 0.2497 - lr: 0.0080\n",
            "Epoch 24/100\n",
            "122/125 [============================>.] - ETA: 0s - loss: 0.2476\n",
            "Epoch 24: val_loss did not improve from 0.24900\n",
            "125/125 [==============================] - 2s 17ms/step - loss: 0.2476 - val_loss: 0.2492 - lr: 0.0080\n",
            "Epoch 25/100\n",
            "125/125 [==============================] - ETA: 0s - loss: 0.2477\n",
            "Epoch 25: val_loss did not improve from 0.24900\n",
            "125/125 [==============================] - 2s 17ms/step - loss: 0.2477 - val_loss: 0.2490 - lr: 0.0080\n",
            "Epoch 26/100\n",
            "123/125 [============================>.] - ETA: 0s - loss: 0.2479\n",
            "Epoch 26: val_loss did not improve from 0.24900\n",
            "125/125 [==============================] - 2s 17ms/step - loss: 0.2478 - val_loss: 0.2493 - lr: 0.0080\n",
            "Epoch 27/100\n",
            "125/125 [==============================] - ETA: 0s - loss: 0.2478\n",
            "Epoch 27: val_loss did not improve from 0.24900\n",
            "125/125 [==============================] - 2s 16ms/step - loss: 0.2478 - val_loss: 0.2490 - lr: 0.0080\n",
            "Epoch 28/100\n",
            "123/125 [============================>.] - ETA: 0s - loss: 0.2477\n",
            "Epoch 28: val_loss did not improve from 0.24900\n",
            "125/125 [==============================] - 2s 17ms/step - loss: 0.2477 - val_loss: 0.2494 - lr: 0.0080\n",
            "Epoch 29/100\n",
            "125/125 [==============================] - ETA: 0s - loss: 0.2478\n",
            "Epoch 29: val_loss did not improve from 0.24900\n",
            "125/125 [==============================] - 2s 17ms/step - loss: 0.2478 - val_loss: 0.2492 - lr: 0.0080\n",
            "Epoch 30/100\n",
            "122/125 [============================>.] - ETA: 0s - loss: 0.2476\n",
            "Epoch 30: val_loss did not improve from 0.24900\n",
            "125/125 [==============================] - 2s 17ms/step - loss: 0.2477 - val_loss: 0.2491 - lr: 0.0080\n",
            "Epoch 31/100\n",
            "122/125 [============================>.] - ETA: 0s - loss: 0.2477\n",
            "Epoch 31: val_loss improved from 0.24900 to 0.24898, saving model to /content/best_model2.h5\n",
            "125/125 [==============================] - 2s 18ms/step - loss: 0.2476 - val_loss: 0.2490 - lr: 0.0080\n",
            "Epoch 32/100\n",
            "125/125 [==============================] - ETA: 0s - loss: 0.2478\n",
            "Epoch 32: val_loss did not improve from 0.24898\n",
            "125/125 [==============================] - 2s 17ms/step - loss: 0.2478 - val_loss: 0.2492 - lr: 0.0080\n",
            "Epoch 33/100\n",
            "125/125 [==============================] - ETA: 0s - loss: 0.2477\n",
            "Epoch 33: val_loss did not improve from 0.24898\n",
            "125/125 [==============================] - 2s 16ms/step - loss: 0.2477 - val_loss: 0.2490 - lr: 0.0080\n",
            "Epoch 34/100\n",
            "122/125 [============================>.] - ETA: 0s - loss: 0.2478\n",
            "Epoch 34: val_loss did not improve from 0.24898\n",
            "125/125 [==============================] - 2s 17ms/step - loss: 0.2477 - val_loss: 0.2492 - lr: 0.0080\n",
            "Epoch 35/100\n",
            "124/125 [============================>.] - ETA: 0s - loss: 0.2477\n",
            "Epoch 35: val_loss did not improve from 0.24898\n",
            "125/125 [==============================] - 2s 17ms/step - loss: 0.2478 - val_loss: 0.2495 - lr: 0.0080\n",
            "Epoch 36/100\n",
            "123/125 [============================>.] - ETA: 0s - loss: 0.2477\n",
            "Epoch 36: val_loss did not improve from 0.24898\n",
            "125/125 [==============================] - 2s 17ms/step - loss: 0.2477 - val_loss: 0.2492 - lr: 0.0080\n",
            "Epoch 37/100\n",
            "122/125 [============================>.] - ETA: 0s - loss: 0.2476\n",
            "Epoch 37: val_loss did not improve from 0.24898\n",
            "125/125 [==============================] - 2s 17ms/step - loss: 0.2477 - val_loss: 0.2491 - lr: 0.0080\n",
            "Epoch 38/100\n",
            "123/125 [============================>.] - ETA: 0s - loss: 0.2477\n",
            "Epoch 38: val_loss did not improve from 0.24898\n",
            "125/125 [==============================] - 2s 17ms/step - loss: 0.2477 - val_loss: 0.2493 - lr: 0.0080\n",
            "Epoch 39/100\n",
            "125/125 [==============================] - ETA: 0s - loss: 0.2478\n",
            "Epoch 39: val_loss did not improve from 0.24898\n",
            "125/125 [==============================] - 2s 17ms/step - loss: 0.2478 - val_loss: 0.2493 - lr: 0.0080\n",
            "Epoch 40/100\n",
            "122/125 [============================>.] - ETA: 0s - loss: 0.2477\n",
            "Epoch 40: val_loss improved from 0.24898 to 0.24896, saving model to /content/best_model2.h5\n",
            "125/125 [==============================] - 2s 18ms/step - loss: 0.2476 - val_loss: 0.2490 - lr: 0.0080\n",
            "Epoch 41/100\n",
            "122/125 [============================>.] - ETA: 0s - loss: 0.2478\n",
            "Epoch 41: val_loss did not improve from 0.24896\n",
            "125/125 [==============================] - 2s 17ms/step - loss: 0.2477 - val_loss: 0.2492 - lr: 0.0080\n",
            "Epoch 42/100\n",
            "123/125 [============================>.] - ETA: 0s - loss: 0.2476\n",
            "Epoch 42: val_loss did not improve from 0.24896\n",
            "125/125 [==============================] - 2s 18ms/step - loss: 0.2477 - val_loss: 0.2495 - lr: 0.0080\n",
            "Epoch 43/100\n",
            "125/125 [==============================] - ETA: 0s - loss: 0.2478\n",
            "Epoch 43: val_loss did not improve from 0.24896\n",
            "125/125 [==============================] - 2s 18ms/step - loss: 0.2478 - val_loss: 0.2491 - lr: 0.0080\n",
            "Epoch 44/100\n",
            "124/125 [============================>.] - ETA: 0s - loss: 0.2477\n",
            "Epoch 44: val_loss did not improve from 0.24896\n",
            "125/125 [==============================] - 2s 17ms/step - loss: 0.2477 - val_loss: 0.2491 - lr: 0.0080\n",
            "Epoch 45/100\n",
            "122/125 [============================>.] - ETA: 0s - loss: 0.2477\n",
            "Epoch 45: val_loss did not improve from 0.24896\n",
            "125/125 [==============================] - 2s 17ms/step - loss: 0.2477 - val_loss: 0.2494 - lr: 0.0080\n",
            "Epoch 46/100\n",
            "123/125 [============================>.] - ETA: 0s - loss: 0.2479\n",
            "Epoch 46: val_loss did not improve from 0.24896\n",
            "125/125 [==============================] - 2s 17ms/step - loss: 0.2478 - val_loss: 0.2491 - lr: 0.0080\n",
            "Epoch 47/100\n",
            "123/125 [============================>.] - ETA: 0s - loss: 0.2476\n",
            "Epoch 47: val_loss did not improve from 0.24896\n",
            "125/125 [==============================] - 2s 17ms/step - loss: 0.2477 - val_loss: 0.2495 - lr: 0.0080\n",
            "Epoch 48/100\n",
            "123/125 [============================>.] - ETA: 0s - loss: 0.2476\n",
            "Epoch 48: val_loss did not improve from 0.24896\n",
            "125/125 [==============================] - 2s 17ms/step - loss: 0.2477 - val_loss: 0.2491 - lr: 0.0080\n",
            "Epoch 49/100\n",
            "124/125 [============================>.] - ETA: 0s - loss: 0.2475\n",
            "Epoch 49: val_loss did not improve from 0.24896\n",
            "125/125 [==============================] - 2s 17ms/step - loss: 0.2477 - val_loss: 0.2494 - lr: 0.0080\n",
            "Epoch 50/100\n",
            "123/125 [============================>.] - ETA: 0s - loss: 0.2479\n",
            "Epoch 50: val_loss did not improve from 0.24896\n",
            "125/125 [==============================] - 2s 17ms/step - loss: 0.2477 - val_loss: 0.2492 - lr: 0.0080\n",
            "Epoch 51/100\n",
            "125/125 [==============================] - ETA: 0s - loss: 0.2476\n",
            "Epoch 51: val_loss did not improve from 0.24896\n",
            "125/125 [==============================] - 2s 17ms/step - loss: 0.2476 - val_loss: 0.2491 - lr: 0.0080\n",
            "Epoch 52/100\n",
            "123/125 [============================>.] - ETA: 0s - loss: 0.2478\n",
            "Epoch 52: val_loss did not improve from 0.24896\n",
            "125/125 [==============================] - 2s 17ms/step - loss: 0.2477 - val_loss: 0.2491 - lr: 0.0080\n",
            "Epoch 53/100\n",
            "125/125 [==============================] - ETA: 0s - loss: 0.2478\n",
            "Epoch 53: val_loss did not improve from 0.24896\n",
            "125/125 [==============================] - 2s 18ms/step - loss: 0.2478 - val_loss: 0.2493 - lr: 0.0080\n",
            "Epoch 54/100\n",
            "123/125 [============================>.] - ETA: 0s - loss: 0.2478\n",
            "Epoch 54: val_loss did not improve from 0.24896\n",
            "125/125 [==============================] - 2s 18ms/step - loss: 0.2477 - val_loss: 0.2498 - lr: 0.0080\n",
            "Epoch 55/100\n",
            "123/125 [============================>.] - ETA: 0s - loss: 0.2476\n",
            "Epoch 55: val_loss did not improve from 0.24896\n",
            "125/125 [==============================] - 2s 17ms/step - loss: 0.2477 - val_loss: 0.2494 - lr: 0.0080\n",
            "Epoch 56/100\n",
            "124/125 [============================>.] - ETA: 0s - loss: 0.2477\n",
            "Epoch 56: val_loss did not improve from 0.24896\n",
            "125/125 [==============================] - 2s 17ms/step - loss: 0.2477 - val_loss: 0.2500 - lr: 0.0080\n",
            "Epoch 57/100\n",
            "125/125 [==============================] - ETA: 0s - loss: 0.2478\n",
            "Epoch 57: val_loss did not improve from 0.24896\n",
            "125/125 [==============================] - 2s 17ms/step - loss: 0.2478 - val_loss: 0.2494 - lr: 0.0080\n",
            "Epoch 58/100\n",
            "125/125 [==============================] - ETA: 0s - loss: 0.2478\n",
            "Epoch 58: val_loss did not improve from 0.24896\n",
            "125/125 [==============================] - 2s 17ms/step - loss: 0.2478 - val_loss: 0.2494 - lr: 0.0080\n",
            "Epoch 59/100\n",
            "123/125 [============================>.] - ETA: 0s - loss: 0.2476\n",
            "Epoch 59: val_loss did not improve from 0.24896\n",
            "125/125 [==============================] - 2s 17ms/step - loss: 0.2477 - val_loss: 0.2493 - lr: 0.0080\n",
            "Epoch 60/100\n",
            "125/125 [==============================] - ETA: 0s - loss: 0.2477\n",
            "Epoch 60: val_loss did not improve from 0.24896\n",
            "125/125 [==============================] - 2s 17ms/step - loss: 0.2477 - val_loss: 0.2493 - lr: 0.0080\n",
            "Epoch 61/100\n",
            "125/125 [==============================] - ETA: 0s - loss: 0.2477\n",
            "Epoch 61: val_loss did not improve from 0.24896\n",
            "\n",
            "Epoch 61: ReduceLROnPlateau reducing learning rate to 0.004000000189989805.\n",
            "125/125 [==============================] - 2s 18ms/step - loss: 0.2477 - val_loss: 0.2493 - lr: 0.0080\n",
            "Epoch 62/100\n",
            "124/125 [============================>.] - ETA: 0s - loss: 0.2476\n",
            "Epoch 62: val_loss did not improve from 0.24896\n",
            "125/125 [==============================] - 2s 17ms/step - loss: 0.2476 - val_loss: 0.2491 - lr: 0.0040\n",
            "Epoch 63/100\n",
            "122/125 [============================>.] - ETA: 0s - loss: 0.2476\n",
            "Epoch 63: val_loss did not improve from 0.24896\n",
            "125/125 [==============================] - 2s 17ms/step - loss: 0.2476 - val_loss: 0.2492 - lr: 0.0040\n",
            "Epoch 64/100\n",
            "124/125 [============================>.] - ETA: 0s - loss: 0.2477\n",
            "Epoch 64: val_loss did not improve from 0.24896\n",
            "125/125 [==============================] - 2s 17ms/step - loss: 0.2476 - val_loss: 0.2492 - lr: 0.0040\n",
            "Epoch 65/100\n",
            "125/125 [==============================] - ETA: 0s - loss: 0.2476\n",
            "Epoch 65: val_loss did not improve from 0.24896\n",
            "125/125 [==============================] - 2s 16ms/step - loss: 0.2476 - val_loss: 0.2491 - lr: 0.0040\n",
            "Epoch 66/100\n",
            "124/125 [============================>.] - ETA: 0s - loss: 0.2476\n",
            "Epoch 66: val_loss did not improve from 0.24896\n",
            "125/125 [==============================] - 2s 17ms/step - loss: 0.2476 - val_loss: 0.2492 - lr: 0.0040\n",
            "Epoch 67/100\n",
            "125/125 [==============================] - ETA: 0s - loss: 0.2477\n",
            "Epoch 67: val_loss did not improve from 0.24896\n",
            "125/125 [==============================] - 2s 17ms/step - loss: 0.2477 - val_loss: 0.2492 - lr: 0.0040\n",
            "Epoch 68/100\n",
            "125/125 [==============================] - ETA: 0s - loss: 0.2476\n",
            "Epoch 68: val_loss did not improve from 0.24896\n",
            "125/125 [==============================] - 2s 17ms/step - loss: 0.2476 - val_loss: 0.2491 - lr: 0.0040\n",
            "Epoch 69/100\n",
            "125/125 [==============================] - ETA: 0s - loss: 0.2476\n",
            "Epoch 69: val_loss did not improve from 0.24896\n",
            "125/125 [==============================] - 2s 17ms/step - loss: 0.2476 - val_loss: 0.2492 - lr: 0.0040\n",
            "Epoch 70/100\n",
            "123/125 [============================>.] - ETA: 0s - loss: 0.2476\n",
            "Epoch 70: val_loss did not improve from 0.24896\n",
            "125/125 [==============================] - 2s 17ms/step - loss: 0.2477 - val_loss: 0.2491 - lr: 0.0040\n",
            "Epoch 71/100\n",
            "125/125 [==============================] - ETA: 0s - loss: 0.2476\n",
            "Epoch 71: val_loss did not improve from 0.24896\n",
            "125/125 [==============================] - 2s 16ms/step - loss: 0.2476 - val_loss: 0.2493 - lr: 0.0040\n",
            "Epoch 72/100\n",
            "125/125 [==============================] - ETA: 0s - loss: 0.2477\n",
            "Epoch 72: val_loss did not improve from 0.24896\n",
            "125/125 [==============================] - 2s 17ms/step - loss: 0.2477 - val_loss: 0.2493 - lr: 0.0040\n",
            "Epoch 73/100\n",
            "124/125 [============================>.] - ETA: 0s - loss: 0.2477\n",
            "Epoch 73: val_loss did not improve from 0.24896\n",
            "125/125 [==============================] - 2s 17ms/step - loss: 0.2477 - val_loss: 0.2493 - lr: 0.0040\n",
            "Epoch 74/100\n",
            "122/125 [============================>.] - ETA: 0s - loss: 0.2476\n",
            "Epoch 74: val_loss did not improve from 0.24896\n",
            "125/125 [==============================] - 2s 17ms/step - loss: 0.2476 - val_loss: 0.2493 - lr: 0.0040\n",
            "Epoch 75/100\n",
            "124/125 [============================>.] - ETA: 0s - loss: 0.2477\n",
            "Epoch 75: val_loss did not improve from 0.24896\n",
            "125/125 [==============================] - 2s 17ms/step - loss: 0.2476 - val_loss: 0.2493 - lr: 0.0040\n",
            "Epoch 76/100\n",
            "125/125 [==============================] - ETA: 0s - loss: 0.2477\n",
            "Epoch 76: val_loss did not improve from 0.24896\n",
            "125/125 [==============================] - 2s 17ms/step - loss: 0.2477 - val_loss: 0.2492 - lr: 0.0040\n",
            "Epoch 77/100\n",
            "124/125 [============================>.] - ETA: 0s - loss: 0.2476\n",
            "Epoch 77: val_loss did not improve from 0.24896\n",
            "125/125 [==============================] - 2s 17ms/step - loss: 0.2477 - val_loss: 0.2493 - lr: 0.0040\n",
            "Epoch 78/100\n",
            "124/125 [============================>.] - ETA: 0s - loss: 0.2475\n",
            "Epoch 78: val_loss did not improve from 0.24896\n",
            "125/125 [==============================] - 2s 16ms/step - loss: 0.2476 - val_loss: 0.2493 - lr: 0.0040\n",
            "Epoch 79/100\n",
            "124/125 [============================>.] - ETA: 0s - loss: 0.2478\n",
            "Epoch 79: val_loss did not improve from 0.24896\n",
            "125/125 [==============================] - 2s 17ms/step - loss: 0.2477 - val_loss: 0.2492 - lr: 0.0040\n",
            "Epoch 80/100\n",
            "123/125 [============================>.] - ETA: 0s - loss: 0.2476\n",
            "Epoch 80: val_loss did not improve from 0.24896\n",
            "125/125 [==============================] - 2s 17ms/step - loss: 0.2476 - val_loss: 0.2492 - lr: 0.0040\n",
            "Epoch 81/100\n",
            "125/125 [==============================] - ETA: 0s - loss: 0.2476\n",
            "Epoch 81: val_loss did not improve from 0.24896\n",
            "125/125 [==============================] - 2s 17ms/step - loss: 0.2476 - val_loss: 0.2492 - lr: 0.0040\n",
            "Epoch 82/100\n",
            "125/125 [==============================] - ETA: 0s - loss: 0.2476\n",
            "Epoch 82: val_loss did not improve from 0.24896\n",
            "125/125 [==============================] - 2s 18ms/step - loss: 0.2476 - val_loss: 0.2492 - lr: 0.0040\n",
            "Epoch 83/100\n",
            "123/125 [============================>.] - ETA: 0s - loss: 0.2478\n",
            "Epoch 83: val_loss did not improve from 0.24896\n",
            "125/125 [==============================] - 2s 18ms/step - loss: 0.2476 - val_loss: 0.2492 - lr: 0.0040\n",
            "Epoch 84/100\n",
            "124/125 [============================>.] - ETA: 0s - loss: 0.2476\n",
            "Epoch 84: val_loss did not improve from 0.24896\n",
            "125/125 [==============================] - 2s 17ms/step - loss: 0.2476 - val_loss: 0.2492 - lr: 0.0040\n",
            "Epoch 85/100\n",
            "124/125 [============================>.] - ETA: 0s - loss: 0.2477\n",
            "Epoch 85: val_loss did not improve from 0.24896\n",
            "125/125 [==============================] - 2s 17ms/step - loss: 0.2476 - val_loss: 0.2492 - lr: 0.0040\n",
            "Epoch 86/100\n",
            "124/125 [============================>.] - ETA: 0s - loss: 0.2477\n",
            "Epoch 86: val_loss did not improve from 0.24896\n",
            "125/125 [==============================] - 2s 17ms/step - loss: 0.2476 - val_loss: 0.2491 - lr: 0.0040\n",
            "Epoch 87/100\n",
            "125/125 [==============================] - ETA: 0s - loss: 0.2476\n",
            "Epoch 87: val_loss did not improve from 0.24896\n",
            "125/125 [==============================] - 2s 17ms/step - loss: 0.2476 - val_loss: 0.2492 - lr: 0.0040\n",
            "Epoch 88/100\n",
            "123/125 [============================>.] - ETA: 0s - loss: 0.2476\n",
            "Epoch 88: val_loss did not improve from 0.24896\n",
            "125/125 [==============================] - 2s 17ms/step - loss: 0.2476 - val_loss: 0.2493 - lr: 0.0040\n",
            "Epoch 89/100\n",
            "124/125 [============================>.] - ETA: 0s - loss: 0.2476\n",
            "Epoch 89: val_loss did not improve from 0.24896\n",
            "125/125 [==============================] - 2s 18ms/step - loss: 0.2477 - val_loss: 0.2493 - lr: 0.0040\n",
            "Epoch 90/100\n",
            "124/125 [============================>.] - ETA: 0s - loss: 0.2477\n",
            "Epoch 90: val_loss did not improve from 0.24896\n",
            "125/125 [==============================] - 2s 17ms/step - loss: 0.2476 - val_loss: 0.2492 - lr: 0.0040\n",
            "Epoch 91/100\n",
            "123/125 [============================>.] - ETA: 0s - loss: 0.2478\n",
            "Epoch 91: val_loss did not improve from 0.24896\n",
            "\n",
            "Epoch 91: ReduceLROnPlateau reducing learning rate to 0.0020000000949949026.\n",
            "125/125 [==============================] - 2s 17ms/step - loss: 0.2476 - val_loss: 0.2492 - lr: 0.0040\n",
            "Epoch 92/100\n",
            "123/125 [============================>.] - ETA: 0s - loss: 0.2475\n",
            "Epoch 92: val_loss did not improve from 0.24896\n",
            "125/125 [==============================] - 2s 17ms/step - loss: 0.2476 - val_loss: 0.2492 - lr: 0.0020\n",
            "Epoch 93/100\n",
            "123/125 [============================>.] - ETA: 0s - loss: 0.2476\n",
            "Epoch 93: val_loss did not improve from 0.24896\n",
            "125/125 [==============================] - 2s 17ms/step - loss: 0.2476 - val_loss: 0.2492 - lr: 0.0020\n",
            "Epoch 94/100\n",
            "122/125 [============================>.] - ETA: 0s - loss: 0.2477\n",
            "Epoch 94: val_loss did not improve from 0.24896\n",
            "125/125 [==============================] - 2s 16ms/step - loss: 0.2476 - val_loss: 0.2492 - lr: 0.0020\n",
            "Epoch 95/100\n",
            "124/125 [============================>.] - ETA: 0s - loss: 0.2476\n",
            "Epoch 95: val_loss did not improve from 0.24896\n",
            "125/125 [==============================] - 2s 17ms/step - loss: 0.2476 - val_loss: 0.2492 - lr: 0.0020\n",
            "Epoch 96/100\n",
            "125/125 [==============================] - ETA: 0s - loss: 0.2476\n",
            "Epoch 96: val_loss did not improve from 0.24896\n",
            "125/125 [==============================] - 2s 17ms/step - loss: 0.2476 - val_loss: 0.2492 - lr: 0.0020\n",
            "Epoch 97/100\n",
            "125/125 [==============================] - ETA: 0s - loss: 0.2476\n",
            "Epoch 97: val_loss did not improve from 0.24896\n",
            "125/125 [==============================] - 2s 17ms/step - loss: 0.2476 - val_loss: 0.2492 - lr: 0.0020\n",
            "Epoch 98/100\n",
            "124/125 [============================>.] - ETA: 0s - loss: 0.2477\n",
            "Epoch 98: val_loss did not improve from 0.24896\n",
            "125/125 [==============================] - 2s 17ms/step - loss: 0.2476 - val_loss: 0.2492 - lr: 0.0020\n",
            "Epoch 99/100\n",
            "124/125 [============================>.] - ETA: 0s - loss: 0.2476\n",
            "Epoch 99: val_loss did not improve from 0.24896\n",
            "125/125 [==============================] - 2s 17ms/step - loss: 0.2476 - val_loss: 0.2492 - lr: 0.0020\n",
            "Epoch 100/100\n",
            "122/125 [============================>.] - ETA: 0s - loss: 0.2476\n",
            "Epoch 100: val_loss did not improve from 0.24896\n",
            "125/125 [==============================] - 2s 17ms/step - loss: 0.2476 - val_loss: 0.2492 - lr: 0.0020\n"
          ]
        }
      ]
    },
    {
      "cell_type": "code",
      "source": [
        "# Plotting the training and validation loss\n",
        "plt.figure(figsize=(10, 6))\n",
        "plt.plot(history.history['loss'], label='Training Loss')\n",
        "plt.plot(history.history['val_loss'], label='Validation Loss')\n",
        "plt.title('Learning Curve')\n",
        "plt.xlabel('Epochs')\n",
        "plt.ylabel('Loss')\n",
        "plt.legend()\n",
        "plt.show()"
      ],
      "metadata": {
        "colab": {
          "base_uri": "https://localhost:8080/",
          "height": 564
        },
        "id": "WyMizfFAyKyi",
        "outputId": "a0d0c626-041d-4321-d8c1-3e3aee7be5fb"
      },
      "execution_count": 301,
      "outputs": [
        {
          "output_type": "display_data",
          "data": {
            "text/plain": [
              "<Figure size 1000x600 with 1 Axes>"
            ],
            "image/png": "[encoded data removed]"
          },
          "metadata": {}
        }
      ]
    },
    {
      "cell_type": "code",
      "source": [],
      "metadata": {
        "id": "Jcte8lWOyKvZ"
      },
      "execution_count": null,
      "outputs": []
    },
    {
      "cell_type": "code",
      "source": [],
      "metadata": {
        "id": "ss8U9m_HyKsn"
      },
      "execution_count": null,
      "outputs": []
    },
    {
      "cell_type": "code",
      "source": [],
      "metadata": {
        "id": "GWxqYyDRyKpw"
      },
      "execution_count": null,
      "outputs": []
    },
    {
      "cell_type": "code",
      "source": [],
      "metadata": {
        "id": "yFHKZkutyKm1"
      },
      "execution_count": null,
      "outputs": []
    },
    {
      "cell_type": "code",
      "source": [],
      "metadata": {
        "id": "Nb7-iruxyKjy"
      },
      "execution_count": null,
      "outputs": []
    },
    {
      "cell_type": "code",
      "source": [],
      "metadata": {
        "id": "qBgadvaukiv_"
      },
      "execution_count": null,
      "outputs": []
    },
    {
      "cell_type": "code",
      "source": [],
      "metadata": {
        "id": "gXjynsdBkis4"
      },
      "execution_count": null,
      "outputs": []
    },
    {
      "cell_type": "code",
      "source": [],
      "metadata": {
        "id": "xwZumpsGkipK"
      },
      "execution_count": null,
      "outputs": []
    },
    {
      "cell_type": "markdown",
      "source": [
        "# test"
      ],
      "metadata": {
        "id": "DINKY0G1yNXw"
      }
    },
    {
      "cell_type": "code",
      "source": [
        "# # preprocessing function for users comments\n",
        "# def embeddings_for_comments(comments, max_length_comments, stride):\n",
        "#     comments_emb = [None] * len(comments)  # 初始化一个足够大的列表来存储嵌入\n",
        "\n",
        "#     # embeddings for user comments\n",
        "#     for k, sent in enumerate(comments):\n",
        "#       tokenized_inputs = tokenizer(text=text_clean(sent),\n",
        "#                              add_special_tokens=True,\n",
        "#                              return_overflowing_tokens=True,\n",
        "#                              max_length=max_length_comments,\n",
        "#                              stride=stride,\n",
        "#                              return_tensors=\"tf\",\n",
        "#                              truncation=True)\n",
        "#       # 分别处理每个分割后的部分\n",
        "#       sent_embeddings = []\n",
        "#       for i in range(len(tokenized_inputs[\"input_ids\"])):\n",
        "#         input_ids = tf.expand_dims(tokenized_inputs[\"input_ids\"][i], 0)  # 添加batch维度\n",
        "#         attention_mask = tf.expand_dims(tokenized_inputs[\"attention_mask\"][i], 0)\n",
        "#         # 在TensorFlow中，模型推断默认不计算梯度，所以不需要torch.no_grad()\n",
        "#         output = model(input_ids, attention_mask=attention_mask)\n",
        "#         sent_embeddings.append(output.last_hidden_state)\n",
        "\n",
        "#       # # 对所有分割的嵌入进行平均池化以获得单个句子的嵌入\n",
        "#       # sent_embeddings = tf.concat(sent_embeddings, axis=0)  # 将分割嵌入拼接起来\n",
        "#       # sent_embedding = tf.reduce_mean(sent_embeddings, axis=0)  # 在所有分割上进行平均池化\n",
        "\n",
        "#       comments_emb[k] = sent_embeddings\n",
        "\n",
        "#     return comments_emb\n"
      ],
      "metadata": {
        "id": "K2Sbj23AGaoT"
      },
      "execution_count": null,
      "outputs": []
    },
    {
      "cell_type": "code",
      "source": [
        "def embeddings_for_features(features, max_length_comments, stride):\n",
        "    # 初始化嵌入的数组，形状与输入相同\n",
        "    # features_emb = np.zeros((features.shape[0], features.shape[1], <嵌入维度>), dtype=np.float32)\n",
        "\n",
        "    # 假设有一个函数来确定嵌入维度，或者您可以硬编码它\n",
        "    embedding_dim = 768\n",
        "    features_emb = np.zeros((features.shape[0], features.shape[1], embedding_dim))\n",
        "\n",
        "    # 确保模型在GPU上\n",
        "    # model.to('cuda')\n",
        "\n",
        "    # 对每个用户的每个特征进行嵌入\n",
        "    # 外层循环：遍历每个用户\n",
        "    for user_index in tqdm(range(len(features)), desc=\"Processing users\"):\n",
        "        # 内层循环：遍历每个用户的特征\n",
        "        for feature_index in range(features.shape[1]):\n",
        "            feature_text = str(features[user_index][feature_index])\n",
        "            feature_text = feature_text if feature_text is not None else \"\"\n",
        "            # 清洗文本\n",
        "            clean_text = text_clean(feature_text)\n",
        "            # 分词和编码文本\n",
        "            tokenized_inputs = tokenizer(\n",
        "                text=clean_text,\n",
        "                add_special_tokens=True,\n",
        "                return_overflowing_tokens=True,\n",
        "                max_length=max_length_comments,\n",
        "                stride=stride,\n",
        "                return_tensors=\"tf\",\n",
        "                truncation=True\n",
        "            )\n",
        "\n",
        "            # 分别处理每个分割后的部分\n",
        "            feature_embeddings = []\n",
        "            for i in range(len(tokenized_inputs[\"input_ids\"])):\n",
        "                input_ids = tf.expand_dims(tokenized_inputs[\"input_ids\"][i], 0)\n",
        "                attention_mask = tf.expand_dims(tokenized_inputs[\"attention_mask\"][i], 0)\n",
        "                # output = model(input_ids, attention_mask=attention_mask)\n",
        "                with tf.device('/GPU:0'):  # 指定在第一个GPU上执行\n",
        "                    output = model(input_ids, attention_mask=attention_mask)\n",
        "                feature_embeddings.append(output.last_hidden_state)\n",
        "\n",
        "            # 选择嵌入的第一个token ([CLS] token)，并移除额外的维度\n",
        "            feature_embedding = tf.reduce_mean(tf.stack(feature_embeddings), axis=1)\n",
        "            feature_embedding = feature_embedding[:, 0, :]  # 选择 [CLS] token 的嵌入\n",
        "\n",
        "            # 存储每个特征的池化嵌入\n",
        "            features_emb[user_index, feature_index, :] = feature_embedding.numpy()\n",
        "\n",
        "    return features_emb"
      ],
      "metadata": {
        "id": "dtH0iZHOZRkm"
      },
      "execution_count": null,
      "outputs": []
    },
    {
      "cell_type": "code",
      "source": [
        "# preprocessing function for other text features\n",
        "def embeddings_for_oth_fea(feature_texts, max_length):\n",
        "    # 存储所有句子的嵌入\n",
        "    embeddings = []\n",
        "    # 对每个句子进行编码\n",
        "    for sent in feature_texts:\n",
        "      tokenized_inputs = tokenizer(\n",
        "          text=text_clean(sent),\n",
        "          add_special_tokens=True,\n",
        "          max_length=max_length,\n",
        "          return_tensors=\"tf\",\n",
        "          truncation=True\n",
        "          )\n",
        "      # 由于我们不处理超长文本，不再需要检查是否有多个部分\n",
        "      # 直接获取编码后的input_ids和attention_mask\n",
        "      input_ids = tokenized_inputs[\"input_ids\"]\n",
        "      attention_mask = tokenized_inputs[\"attention_mask\"]\n",
        "\n",
        "      # 使用模型进行推断，并将得到的嵌入添加到embeddings列表\n",
        "      output = model(input_ids, attention_mask=attention_mask)\n",
        "      embeddings.append(output.last_hidden_state)\n",
        "\n",
        "    return embeddings"
      ],
      "metadata": {
        "id": "Dige6v8_7WAe"
      },
      "execution_count": null,
      "outputs": []
    },
    {
      "cell_type": "code",
      "source": [],
      "metadata": {
        "id": "0LUzWCUQrJX7"
      },
      "execution_count": null,
      "outputs": []
    },
    {
      "cell_type": "code",
      "source": [],
      "metadata": {
        "id": "Iv4V2vrUGalc"
      },
      "execution_count": null,
      "outputs": []
    },
    {
      "cell_type": "code",
      "source": [
        "embed_comments = embeddings_for_features(user_vecs_nnum, max_length_comments, stride)"
      ],
      "metadata": {
        "id": "jpWfKnNbGaii",
        "outputId": "9840179c-4aa0-42d9-ec94-ddc599640c69",
        "colab": {
          "base_uri": "https://localhost:8080/"
        }
      },
      "execution_count": null,
      "outputs": [
        {
          "output_type": "stream",
          "name": "stderr",
          "text": [
            "Processing users:  13%|█▎        | 1452/10879 [18:26<2:00:58,  1.30it/s]"
          ]
        }
      ]
    },
    {
      "cell_type": "code",
      "source": [],
      "metadata": {
        "id": "E0cDZdyGGafz"
      },
      "execution_count": null,
      "outputs": []
    },
    {
      "cell_type": "code",
      "source": [],
      "metadata": {
        "id": "jlINmSiiGadE"
      },
      "execution_count": null,
      "outputs": []
    },
    {
      "cell_type": "code",
      "source": [],
      "metadata": {
        "id": "-Gdwv6MxGaaN"
      },
      "execution_count": null,
      "outputs": []
    },
    {
      "cell_type": "code",
      "source": [],
      "metadata": {
        "id": "Vb-SkQNdGaXW"
      },
      "execution_count": null,
      "outputs": []
    },
    {
      "cell_type": "code",
      "source": [],
      "metadata": {
        "id": "nyMCJywOGaUe"
      },
      "execution_count": null,
      "outputs": []
    },
    {
      "cell_type": "code",
      "source": [],
      "metadata": {
        "id": "X03BAFdBGaR4"
      },
      "execution_count": null,
      "outputs": []
    },
    {
      "cell_type": "code",
      "source": [],
      "metadata": {
        "id": "nyQ6mR7wGaO4"
      },
      "execution_count": null,
      "outputs": []
    },
    {
      "cell_type": "code",
      "source": [
        "tokenized_inputs[\"input_ids\"]"
      ],
      "metadata": {
        "id": "3qCzPL7dGaMJ",
        "outputId": "7857e8ac-dc46-4e55-f7ae-1fe1c698737a",
        "colab": {
          "base_uri": "https://localhost:8080/"
        }
      },
      "execution_count": null,
      "outputs": [
        {
          "data": {
            "text/plain": [
              "tensor([[ 101,  101,  523, 3297, 4007, 2692, 4638,  671, 4157,  524,  102, 6821,\n",
              "         6775, 6756, 1798, 2769, 6230, 2533, 2769, 3297, 6371, 1377, 2124, 4638,\n",
              "         1765, 3175, 2218, 3221, 2124, 4638, 4958, 7313, 8024, 4696, 4638, 3221,\n",
              "         6392, 6369, 4638, 4294, 1166, 1168,  855, 8024, 2215, 1071, 3221, 2124,\n",
              "         4638,  712, 7730,  855, 5390, 4638, 6392, 6369, 8024, 4696, 4638, 3221,\n",
              "         6375, 2769, 2697, 6230, 4294, 1166, 4638, 2160, 3351, 8024, 1728,  711,\n",
              "         2769, 3315, 6716, 3683, 6772, 5523, 8024, 1348, 2682,  743,  671, 6775,\n",
              "         6821, 4905, 4958, 7313, 3683, 6772, 1920, 4638, 6756, 1798, 5543, 1916,\n",
              "         4007, 6639,  671, 2157,  782, 1139, 6121, 4638, 7444, 3724, 8024, 2792,\n",
              "          809,  738, 3221, 2190, 3683,  749, 2523, 1914, 4638, 6756, 1798, 8024,\n",
              "          852, 3221, 3300, 4638, 6756,  833,  712, 7730,  855, 5390, 2160, 3351,\n",
              "         8024, 1400, 2961,  855, 5390,  679, 1922, 4415, 2682, 8024, 3300, 4638,\n",
              "         3221, 1400, 2961,  855, 5390, 2523, 1962, 8024,  852, 3221,  712, 7730,\n",
              "          855, 5390, 1348,  976, 4638, 3766, 3300, 6929,  720, 4638, 2160, 1920,\n",
              "         8024, 2792,  809, 2600, 3221, 3766, 3300, 1157, 1157, 1962, 4638, 2658,\n",
              "         1105, 8024,  852, 3221, 1400, 3341, 4692, 1168, 3419, 4448, 5335,  762,\n",
              "         6821, 3621, 6756, 1798, 8024, 2218, 6375, 2769, 4706, 1184,  671,  778,\n",
              "         8024, 1728,  711, 6821, 6775, 6756, 2769,  812, 2496, 3198,  671, 2157,\n",
              "          782,  671, 6629, 1343, 4692, 4638, 8024, 6963, 1777, 6822, 1343,  722,\n",
              "         1400, 8024, 2697, 6230, 6820, 3221, 3683, 6772, 4638, 2160, 3351, 8024,\n",
              "         3187, 6389, 1525,  671, 2961, 4638,  855, 5390, 8024, 6963, 3221, 5543,\n",
              "         1916, 6392, 6369, 4638, 5440, 5991, 1168,  733, 6756, 1469, 7730, 7724,\n",
              "          782, 4638,  671,  702, 5653, 6844, 2428, 8024, 2792,  809, 6432, 6821,\n",
              "         6775, 6756, 4638, 4958, 7313, 2218, 6617, 2533,  749, 2523, 1962, 4638,\n",
              "         1962, 2697, 8024, 7370, 3634,  722, 1912, 8024, 2218, 3221, 6821, 6775,\n",
              "         6756, 4638, 5653, 6844, 2428, 4696, 4638,  738, 2923, 7770, 4638, 8024,\n",
              "         1777, 6822, 1343,  722, 1400, 2828, 2429, 3488, 6444, 3146, 1962,  855,\n",
              "         5390,  722, 1400, 8024, 2697, 6230, 4294, 1166, 4638, 5653, 6844, 8024,\n",
              "         1962, 1008, 6720, 1762, 3763, 1355, 7027,  671, 3416, 8024, 2157, 7027,\n",
              "          782, 2190, 6821, 3621, 6756, 4638, 1962, 2697, 2428,  738, 3221, 4294,\n",
              "         1166, 4638, 7770, 8024, 2792,  809, 1762,  671, 2157,  782, 1555, 7030,\n",
              "          722, 1400, 8024, 6230, 2533, 6820, 3221,  743, 6821, 3621, 6756, 3683,\n",
              "         6772, 1394, 6844,  102,  523, 3297,  679, 4007, 2692, 4638,  671, 4157,\n",
              "          524,  102, 3684, 4994, 3221, 3173, 6756, 7027, 7481, 4638, 1456, 6887,\n",
              "         8024, 6820, 3221, 3300,  671, 4157, 4157, 4638, 7028, 4638, 8024, 5445,\n",
              "          684, 2769, 6230, 2533, 2124, 7027, 7481, 4638, 1079, 7652, 6392, 6369,\n",
              "         2400, 3766, 3300, 6929,  720, 4638, 6498, 1290, 8024, 6006, 4197,  738,\n",
              "         3221, 8114, 1126,  674, 4638, 6756, 1798, 8024,  852, 3221, 4692,  677,\n",
              "         1343,  722, 1400, 1316, 3766, 3300, 6929,  720, 4638, 7770, 4999, 8024,\n",
              "         1469, 2124, 4638, 1912, 6225, 2697, 6230,  679, 3221, 4294, 1166, 4638,\n",
              "         1276, 6981,  102,  523, 4958, 7313,  524,  102, 6821, 3221, 2769,  743,\n",
              "         6821, 3621, 6756, 4638,  671,  702, 1104, 2137, 2595, 1728, 5162, 8024,\n",
              "         3684, 4994,  671, 2157,  782,  671, 6629,  102]])"
            ]
          },
          "execution_count": 72,
          "metadata": {},
          "output_type": "execute_result"
        }
      ]
    },
    {
      "cell_type": "code",
      "source": [
        "len(tokenized_inputs)"
      ],
      "metadata": {
        "id": "PuH8m6Za-Qje",
        "outputId": "89c2dd55-14f4-4653-a0da-bb489ad9fe14",
        "colab": {
          "base_uri": "https://localhost:8080/"
        }
      },
      "execution_count": null,
      "outputs": [
        {
          "output_type": "execute_result",
          "data": {
            "text/plain": [
              "5"
            ]
          },
          "metadata": {},
          "execution_count": 71
        }
      ]
    },
    {
      "cell_type": "code",
      "source": [],
      "metadata": {
        "id": "6qI2iHWXG4-4"
      },
      "execution_count": null,
      "outputs": []
    },
    {
      "cell_type": "code",
      "source": [],
      "metadata": {
        "id": "piDjfQKDG1E2"
      },
      "execution_count": null,
      "outputs": []
    },
    {
      "cell_type": "code",
      "source": [],
      "metadata": {
        "id": "i9Qs6VJrYJLn"
      },
      "execution_count": null,
      "outputs": []
    },
    {
      "cell_type": "code",
      "source": [
        "# 分割文本为适应模型最大长度的多个部分\n",
        "max_length = 512  # 模型的最大长度限制\n",
        "stride = 256  # 可以重叠的token数量"
      ],
      "metadata": {
        "id": "GzHL15RRUu_v"
      },
      "execution_count": null,
      "outputs": []
    },
    {
      "cell_type": "code",
      "source": [
        "# 使用tokenizer的`encode_plus`和`stride`进行智能分割\n",
        "tokenized_inputs = tokenizer(text,\n",
        "                             add_special_tokens=True,\n",
        "                             return_overflowing_tokens=True,\n",
        "                             max_length=max_length,\n",
        "                             stride=stride,\n",
        "                             return_tensors=\"pt\",\n",
        "                             truncation=True)\n"
      ],
      "metadata": {
        "id": "wkzIDdUsUu8m"
      },
      "execution_count": null,
      "outputs": []
    },
    {
      "cell_type": "code",
      "source": [
        "# 分别处理每个分割后的部分\n",
        "embeddings = []\n",
        "for i in range(len(tokenized_inputs[\"input_ids\"])):\n",
        "    input_ids = tokenized_inputs[\"input_ids\"][i].unsqueeze(0)  # 添加batch维度\n",
        "    attention_mask = tokenized_inputs[\"attention_mask\"][i].unsqueeze(0)\n",
        "    with torch.no_grad():\n",
        "        output = model(input_ids, attention_mask=attention_mask)\n",
        "        embeddings.append(output.last_hidden_state)"
      ],
      "metadata": {
        "id": "EegmLkxKUu6A"
      },
      "execution_count": null,
      "outputs": []
    },
    {
      "cell_type": "code",
      "source": [
        "# 假设 'embeddings' 是一个包含多个嵌入张量的列表\n",
        "for i, embedding in enumerate(embeddings):\n",
        "    print(f\"Embedding {i} shape: {embedding.shape}\")\n"
      ],
      "metadata": {
        "id": "23MTpsc6Uu3H",
        "outputId": "7a5bd421-35b2-4e45-e37f-fa0f87745e77",
        "colab": {
          "base_uri": "https://localhost:8080/"
        }
      },
      "execution_count": null,
      "outputs": [
        {
          "output_type": "stream",
          "name": "stdout",
          "text": [
            "Embedding 0 shape: torch.Size([1, 512, 768])\n"
          ]
        }
      ]
    },
    {
      "cell_type": "code",
      "source": [],
      "metadata": {
        "id": "2DKCx4p5UuwZ"
      },
      "execution_count": null,
      "outputs": []
    },
    {
      "cell_type": "code",
      "source": [
        "# 将文本分割为最大长度为BERT模型的最大长度的段落\n",
        "max_length = 512  # BERT的最大序列长度\n",
        "# 分词，确保在句子或段落边界分割\n",
        "words = tokenizer.tokenize(long_text)\n",
        "segments = [' '.join(words[i:i+max_length]) for i in range(0, len(words), max_length)]\n",
        "\n",
        "# 对每个段落进行编码\n",
        "input_ids = [tokenizer.encode(segment, add_special_tokens=True) for segment in segments]\n",
        "\n",
        "# 将编码后的数据转化为tensor\n",
        "input_tensors = [torch.tensor([segment_ids]) for segment_ids in input_ids]\n",
        "\n",
        "# 使用BERT模型获取每个段落的表示\n",
        "with torch.no_grad():\n",
        "    segment_embeddings = [model(input_tensor)[0] for input_tensor in input_tensors]\n",
        "\n",
        "# 假设我们使用第一个token（[CLS]标记）的输出来代表这个段落\n",
        "# 你也可以使用池化操作来获取整个段落的表示\n",
        "document_embeddings = [segment_embedding[:, 0, :] for segment_embedding in segment_embeddings]\n",
        "\n",
        "# 如果需要，你可以进一步将这些段落级表示汇总为文档级表示\n",
        "# 例如，通过取平均值\n",
        "document_embedding = torch.mean(torch.stack(document_embeddings), dim=0)\n",
        "\n",
        "# 现在你可以使用document_embedding作为你的文档表示，进一步进行推荐系统的训练或推理"
      ],
      "metadata": {
        "id": "U5ucnUcyW2Ko"
      },
      "execution_count": null,
      "outputs": []
    },
    {
      "cell_type": "code",
      "source": [],
      "metadata": {
        "id": "cOWuxqoGNS00"
      },
      "execution_count": null,
      "outputs": []
    },
    {
      "cell_type": "code",
      "source": [],
      "metadata": {
        "id": "UBedRN9INSxm"
      },
      "execution_count": null,
      "outputs": []
    },
    {
      "cell_type": "markdown",
      "source": [
        "# roformer"
      ],
      "metadata": {
        "id": "WEfPtzgnQxJX"
      }
    },
    {
      "cell_type": "code",
      "source": [
        "from transformers import RoFormerTokenizer, RoFormerForSequenceClassification\n",
        "import torch"
      ],
      "metadata": {
        "id": "T6RRnJSHQ8hl"
      },
      "execution_count": 266,
      "outputs": []
    },
    {
      "cell_type": "code",
      "source": [
        "# 指定模型版本\n",
        "model_name = 'junnyu/roformer_v2_chinese_char_large'\n",
        "\n",
        "# 加载分词器和模型\n",
        "tokenizer = RoFormerTokenizer.from_pretrained(model_name)\n",
        "model = RoFormerForSequenceClassification.from_pretrained(model_name)"
      ],
      "metadata": {
        "id": "5ZeKVQAXRAql",
        "outputId": "19c19aff-96c9-4eda-a1d7-a470a215daef",
        "colab": {
          "base_uri": "https://localhost:8080/"
        }
      },
      "execution_count": 267,
      "outputs": [
        {
          "output_type": "stream",
          "name": "stderr",
          "text": [
            "The tokenizer class you load from this checkpoint is not the same type as the class this function is called from. It may result in unexpected tokenization. \n",
            "The tokenizer class you load from this checkpoint is 'BertTokenizer'. \n",
            "The class this function is called from is 'RoFormerTokenizer'.\n",
            "Some weights of RoFormerForSequenceClassification were not initialized from the model checkpoint at junnyu/roformer_v2_chinese_char_large and are newly initialized: ['roformer.encoder.layer.4.attention.output.LayerNorm.bias', 'roformer.encoder.layer.6.intermediate.dense.bias', 'roformer.encoder.layer.5.output.LayerNorm.weight', 'roformer.encoder.layer.4.attention.self.value.bias', 'roformer.encoder.layer.14.attention.output.LayerNorm.bias', 'roformer.encoder.layer.12.attention.output.dense.bias', 'roformer.encoder.layer.0.attention.self.query.bias', 'roformer.encoder.layer.20.attention.output.LayerNorm.weight', 'roformer.encoder.layer.3.intermediate.dense.bias', 'roformer.encoder.layer.12.attention.self.key.bias', 'roformer.encoder.layer.21.attention.output.dense.bias', 'roformer.encoder.layer.3.attention.output.LayerNorm.weight', 'roformer.encoder.layer.20.output.dense.bias', 'roformer.encoder.layer.15.attention.self.value.bias', 'roformer.encoder.layer.22.attention.output.dense.bias', 'roformer.encoder.layer.9.intermediate.dense.bias', 'roformer.encoder.layer.11.output.dense.bias', 'roformer.encoder.layer.17.intermediate.dense.bias', 'roformer.encoder.layer.23.intermediate.dense.bias', 'roformer.embeddings.LayerNorm.bias', 'roformer.encoder.layer.18.attention.output.LayerNorm.bias', 'roformer.encoder.layer.7.attention.output.LayerNorm.weight', 'roformer.encoder.layer.22.attention.self.key.bias', 'roformer.encoder.layer.19.output.LayerNorm.weight', 'roformer.encoder.layer.15.attention.output.dense.bias', 'roformer.encoder.layer.7.attention.self.key.bias', 'roformer.encoder.layer.0.output.LayerNorm.weight', 'roformer.encoder.layer.1.attention.self.value.bias', 'roformer.encoder.layer.5.output.dense.bias', 'roformer.encoder.layer.3.output.LayerNorm.weight', 'roformer.encoder.layer.4.attention.output.dense.bias', 'roformer.encoder.layer.14.intermediate.dense.bias', 'roformer.encoder.layer.23.attention.self.query.bias', 'roformer.encoder.layer.12.attention.self.value.bias', 'roformer.encoder.layer.16.output.LayerNorm.bias', 'roformer.encoder.layer.10.output.LayerNorm.weight', 'roformer.encoder.layer.16.output.dense.bias', 'roformer.encoder.layer.18.attention.output.dense.bias', 'roformer.encoder.layer.2.attention.self.query.bias', 'roformer.encoder.layer.1.output.dense.bias', 'roformer.encoder.layer.8.output.dense.bias', 'roformer.encoder.layer.7.output.dense.bias', 'roformer.encoder.layer.12.output.LayerNorm.weight', 'roformer.encoder.layer.11.attention.self.key.bias', 'roformer.encoder.layer.3.output.dense.bias', 'roformer.encoder.layer.17.output.dense.bias', 'roformer.encoder.layer.2.intermediate.dense.bias', 'roformer.encoder.layer.6.output.LayerNorm.bias', 'roformer.encoder.layer.15.intermediate.dense.bias', 'roformer.encoder.layer.17.attention.self.query.bias', 'roformer.encoder.layer.1.intermediate.dense.bias', 'classifier.dense.bias', 'roformer.encoder.layer.19.attention.self.query.bias', 'classifier.dense.weight', 'roformer.encoder.layer.21.attention.self.value.bias', 'roformer.encoder.layer.16.attention.self.value.bias', 'roformer.encoder.layer.23.attention.output.LayerNorm.bias', 'roformer.encoder.layer.13.output.dense.bias', 'roformer.encoder.layer.19.attention.self.value.bias', 'roformer.encoder.layer.11.attention.output.LayerNorm.bias', 'roformer.encoder.layer.18.attention.self.query.bias', 'roformer.encoder.layer.14.attention.self.value.bias', 'roformer.encoder.layer.0.attention.self.value.bias', 'roformer.embeddings.LayerNorm.weight', 'roformer.encoder.layer.11.output.LayerNorm.weight', 'roformer.encoder.layer.20.attention.self.value.bias', 'roformer.encoder.layer.22.output.LayerNorm.weight', 'roformer.encoder.layer.15.attention.self.query.bias', 'roformer.encoder.layer.18.output.dense.bias', 'roformer.encoder.layer.17.attention.self.value.bias', 'roformer.encoder.layer.6.attention.output.LayerNorm.weight', 'roformer.encoder.layer.20.intermediate.dense.bias', 'roformer.encoder.layer.16.attention.output.dense.bias', 'roformer.encoder.layer.9.attention.self.key.bias', 'roformer.encoder.layer.1.attention.output.LayerNorm.weight', 'roformer.encoder.layer.1.attention.output.LayerNorm.bias', 'roformer.encoder.layer.6.attention.self.value.bias', 'roformer.encoder.layer.18.output.LayerNorm.weight', 'roformer.encoder.layer.2.attention.self.key.bias', 'roformer.encoder.layer.17.output.LayerNorm.bias', 'roformer.encoder.layer.21.attention.output.LayerNorm.weight', 'roformer.encoder.layer.9.output.LayerNorm.weight', 'roformer.encoder.layer.2.output.dense.bias', 'roformer.encoder.layer.6.output.dense.bias', 'roformer.encoder.layer.17.attention.output.dense.bias', 'roformer.encoder.layer.10.output.LayerNorm.bias', 'roformer.encoder.layer.20.attention.output.LayerNorm.bias', 'roformer.encoder.layer.2.output.LayerNorm.weight', 'roformer.encoder.layer.8.attention.self.value.bias', 'roformer.encoder.layer.19.attention.self.key.bias', 'roformer.encoder.layer.22.attention.self.value.bias', 'roformer.encoder.layer.15.attention.output.LayerNorm.bias', 'roformer.encoder.layer.9.attention.output.LayerNorm.weight', 'roformer.encoder.layer.8.attention.output.dense.bias', 'roformer.encoder.layer.10.attention.output.LayerNorm.bias', 'roformer.encoder.layer.5.attention.output.LayerNorm.bias', 'roformer.encoder.layer.1.output.LayerNorm.weight', 'roformer.encoder.layer.18.output.LayerNorm.bias', 'roformer.encoder.layer.9.output.LayerNorm.bias', 'roformer.encoder.layer.8.output.LayerNorm.weight', 'roformer.encoder.layer.21.output.LayerNorm.bias', 'roformer.encoder.layer.23.attention.self.key.bias', 'roformer.encoder.layer.16.attention.self.query.bias', 'roformer.encoder.layer.22.attention.output.LayerNorm.bias', 'roformer.encoder.layer.22.output.dense.bias', 'roformer.encoder.layer.0.intermediate.dense.bias', 'roformer.encoder.layer.11.attention.self.query.bias', 'roformer.encoder.layer.15.output.dense.bias', 'roformer.encoder.layer.3.attention.output.LayerNorm.bias', 'roformer.encoder.layer.3.output.LayerNorm.bias', 'roformer.encoder.layer.20.output.LayerNorm.bias', 'roformer.encoder.layer.13.attention.output.dense.bias', 'roformer.encoder.embed_positions.weight', 'roformer.encoder.layer.13.attention.self.value.bias', 'roformer.encoder.layer.14.output.dense.bias', 'roformer.encoder.layer.15.attention.self.key.bias', 'roformer.encoder.layer.21.attention.output.LayerNorm.bias', 'roformer.encoder.layer.13.attention.self.query.bias', 'roformer.encoder.layer.8.attention.self.query.bias', 'roformer.encoder.layer.3.attention.self.key.bias', 'roformer.encoder.layer.6.output.LayerNorm.weight', 'roformer.encoder.layer.20.attention.self.query.bias', 'roformer.encoder.layer.20.attention.self.key.bias', 'roformer.encoder.layer.2.attention.output.dense.bias', 'roformer.encoder.layer.21.intermediate.dense.bias', 'roformer.encoder.layer.11.attention.output.dense.bias', 'roformer.encoder.layer.19.intermediate.dense.bias', 'roformer.encoder.layer.9.attention.self.value.bias', 'roformer.encoder.layer.8.attention.self.key.bias', 'roformer.encoder.layer.13.output.LayerNorm.weight', 'roformer.encoder.layer.3.attention.self.value.bias', 'roformer.encoder.layer.6.attention.output.dense.bias', 'roformer.encoder.layer.19.output.LayerNorm.bias', 'roformer.encoder.layer.19.attention.output.LayerNorm.weight', 'roformer.encoder.layer.11.output.LayerNorm.bias', 'roformer.encoder.layer.16.intermediate.dense.bias', 'roformer.encoder.layer.22.output.LayerNorm.bias', 'roformer.encoder.layer.2.output.LayerNorm.bias', 'roformer.encoder.layer.10.intermediate.dense.bias', 'roformer.encoder.layer.12.output.dense.bias', 'roformer.encoder.layer.5.intermediate.dense.bias', 'roformer.encoder.layer.15.output.LayerNorm.weight', 'roformer.encoder.layer.2.attention.self.value.bias', 'roformer.encoder.layer.11.attention.self.value.bias', 'roformer.encoder.layer.15.output.LayerNorm.bias', 'roformer.encoder.layer.12.intermediate.dense.bias', 'roformer.encoder.layer.16.attention.output.LayerNorm.bias', 'roformer.encoder.layer.4.intermediate.dense.bias', 'roformer.encoder.layer.5.attention.output.LayerNorm.weight', 'roformer.encoder.layer.8.attention.output.LayerNorm.bias', 'classifier.out_proj.bias', 'roformer.encoder.layer.7.attention.output.LayerNorm.bias', 'roformer.encoder.layer.9.attention.output.LayerNorm.bias', 'roformer.encoder.layer.14.attention.output.dense.bias', 'roformer.encoder.layer.16.attention.self.key.bias', 'roformer.encoder.layer.16.attention.output.LayerNorm.weight', 'roformer.encoder.layer.14.output.LayerNorm.weight', 'roformer.encoder.layer.20.attention.output.dense.bias', 'roformer.encoder.layer.8.output.LayerNorm.bias', 'classifier.out_proj.weight', 'roformer.encoder.layer.19.output.dense.bias', 'roformer.encoder.layer.7.attention.output.dense.bias', 'roformer.encoder.layer.22.intermediate.dense.bias', 'roformer.encoder.layer.13.intermediate.dense.bias', 'roformer.encoder.layer.0.attention.self.key.bias', 'roformer.encoder.layer.20.output.LayerNorm.weight', 'roformer.encoder.layer.23.output.LayerNorm.bias', 'roformer.encoder.layer.5.attention.self.query.bias', 'roformer.encoder.layer.13.attention.output.LayerNorm.weight', 'roformer.encoder.layer.4.attention.self.query.bias', 'roformer.encoder.layer.18.attention.output.LayerNorm.weight', 'roformer.encoder.layer.2.attention.output.LayerNorm.bias', 'roformer.encoder.layer.23.attention.output.dense.bias', 'roformer.encoder.layer.18.attention.self.key.bias', 'roformer.encoder.layer.10.output.dense.bias', 'roformer.encoder.layer.4.output.dense.bias', 'roformer.encoder.layer.9.attention.output.dense.bias', 'roformer.encoder.layer.1.output.LayerNorm.bias', 'roformer.encoder.layer.1.attention.self.query.bias', 'roformer.encoder.layer.7.output.LayerNorm.weight', 'roformer.encoder.layer.15.attention.output.LayerNorm.weight', 'roformer.encoder.layer.8.intermediate.dense.bias', 'roformer.encoder.layer.7.attention.self.query.bias', 'roformer.encoder.layer.10.attention.self.query.bias', 'roformer.encoder.layer.18.intermediate.dense.bias', 'roformer.encoder.layer.0.attention.output.dense.bias', 'roformer.encoder.layer.22.attention.output.LayerNorm.weight', 'roformer.encoder.layer.21.output.LayerNorm.weight', 'roformer.encoder.layer.6.attention.self.query.bias', 'roformer.encoder.layer.6.attention.output.LayerNorm.bias', 'roformer.encoder.layer.1.attention.output.dense.bias', 'roformer.encoder.layer.8.attention.output.LayerNorm.weight', 'roformer.encoder.layer.18.attention.self.value.bias', 'roformer.encoder.layer.11.intermediate.dense.bias', 'roformer.encoder.layer.13.attention.self.key.bias', 'roformer.encoder.layer.14.attention.self.query.bias', 'roformer.encoder.layer.17.attention.self.key.bias', 'roformer.encoder.layer.4.output.LayerNorm.weight', 'roformer.encoder.layer.10.attention.self.value.bias', 'roformer.encoder.layer.4.output.LayerNorm.bias', 'roformer.encoder.layer.7.output.LayerNorm.bias', 'roformer.encoder.layer.6.attention.self.key.bias', 'roformer.encoder.layer.1.attention.self.key.bias', 'roformer.encoder.layer.10.attention.self.key.bias', 'roformer.encoder.layer.17.attention.output.LayerNorm.bias', 'roformer.encoder.layer.23.attention.self.value.bias', 'roformer.encoder.layer.7.intermediate.dense.bias', 'roformer.encoder.layer.10.attention.output.LayerNorm.weight', 'roformer.encoder.layer.3.attention.output.dense.bias', 'roformer.encoder.layer.9.output.dense.bias', 'roformer.encoder.layer.19.attention.output.dense.bias', 'roformer.encoder.layer.21.attention.self.query.bias', 'roformer.encoder.layer.9.attention.self.query.bias', 'roformer.encoder.layer.12.attention.self.query.bias', 'roformer.encoder.layer.21.attention.self.key.bias', 'roformer.encoder.layer.13.output.LayerNorm.bias', 'roformer.encoder.layer.0.attention.output.LayerNorm.bias', 'roformer.encoder.layer.0.output.dense.bias', 'roformer.encoder.layer.13.attention.output.LayerNorm.bias', 'roformer.encoder.layer.0.attention.output.LayerNorm.weight', 'roformer.encoder.layer.17.output.LayerNorm.weight', 'roformer.encoder.layer.23.output.dense.bias', 'roformer.encoder.layer.16.output.LayerNorm.weight', 'roformer.encoder.layer.11.attention.output.LayerNorm.weight', 'roformer.encoder.layer.3.attention.self.query.bias', 'roformer.encoder.layer.23.output.LayerNorm.weight', 'roformer.encoder.layer.7.attention.self.value.bias', 'roformer.encoder.layer.14.attention.output.LayerNorm.weight', 'roformer.encoder.layer.4.attention.self.key.bias', 'roformer.encoder.layer.22.attention.self.query.bias', 'roformer.encoder.layer.23.attention.output.LayerNorm.weight', 'roformer.encoder.layer.5.attention.output.dense.bias', 'roformer.encoder.layer.12.attention.output.LayerNorm.weight', 'roformer.encoder.layer.4.attention.output.LayerNorm.weight', 'roformer.encoder.layer.12.output.LayerNorm.bias', 'roformer.encoder.layer.14.attention.self.key.bias', 'roformer.encoder.layer.17.attention.output.LayerNorm.weight', 'roformer.encoder.layer.5.output.LayerNorm.bias', 'roformer.encoder.layer.21.output.dense.bias', 'roformer.encoder.layer.12.attention.output.LayerNorm.bias', 'roformer.encoder.layer.5.attention.self.value.bias', 'roformer.encoder.layer.14.output.LayerNorm.bias', 'roformer.encoder.layer.2.attention.output.LayerNorm.weight', 'roformer.encoder.layer.5.attention.self.key.bias', 'roformer.encoder.layer.19.attention.output.LayerNorm.bias', 'roformer.encoder.layer.0.output.LayerNorm.bias', 'roformer.encoder.layer.10.attention.output.dense.bias']\n",
            "You should probably TRAIN this model on a down-stream task to be able to use it for predictions and inference.\n"
          ]
        }
      ]
    },
    {
      "cell_type": "code",
      "source": [
        "# 对文本进行分词处理\n",
        "inputs = tokenizer(text, return_tensors=\"pt\", max_length=512, truncation=True)"
      ],
      "metadata": {
        "id": "PFeLVzSORjM8"
      },
      "execution_count": null,
      "outputs": []
    },
    {
      "cell_type": "code",
      "source": [
        "# 预测\n",
        "with torch.no_grad():\n",
        "    logits = model(**inputs).logits\n",
        "\n",
        "# 获得预测结果\n",
        "predicted_class_id = logits.argmax().item()\n",
        "print(\"Predicted class:\", predicted_class_id)"
      ],
      "metadata": {
        "id": "NPTR5NmcRsTf",
        "outputId": "c4dfed57-b4ba-4e86-e77a-66fe77a58020",
        "colab": {
          "base_uri": "https://localhost:8080/"
        }
      },
      "execution_count": null,
      "outputs": [
        {
          "output_type": "stream",
          "name": "stdout",
          "text": [
            "Predicted class: 0\n"
          ]
        }
      ]
    },
    {
      "cell_type": "code",
      "source": [],
      "metadata": {
        "id": "AIEXKvRKQ6QT"
      },
      "execution_count": null,
      "outputs": []
    },
    {
      "cell_type": "code",
      "source": [
        "from transformers import RoFormerTokenizer, RoFormerModel\n",
        "import torch\n",
        "\n",
        "# 初始化分词器和模型\n",
        "tokenizer = RoFormerTokenizer.from_pretrained('junnyu/roformer_v2_chinese_char_large')\n",
        "model = RoFormerModel.from_pretrained('junnyu/roformer_v2_chinese_char_large')\n",
        "\n",
        "# 示例文本\n",
        "text = \"&#8203;``【oaicite:0】``&#8203;感觉不错，7座比5座好...\"\n",
        "\n",
        "# 分词\n",
        "inputs = tokenizer(text, return_tensors=\"pt\", max_length=512, truncation=True)\n",
        "\n",
        "# 生成嵌入\n",
        "with torch.no_grad():\n",
        "    outputs = model(**inputs)\n",
        "    embeddings = outputs.last_hidden_state\n",
        "\n",
        "# 这里的`embeddings`是最后一层的隐藏状态，您可以使用它们作为文本的嵌入表示。\n"
      ],
      "metadata": {
        "id": "GupvGWPMQ6Nc"
      },
      "execution_count": null,
      "outputs": []
    },
    {
      "cell_type": "code",
      "source": [],
      "metadata": {
        "id": "6daD-LrgQ6Kd"
      },
      "execution_count": null,
      "outputs": []
    },
    {
      "cell_type": "code",
      "source": [],
      "metadata": {
        "id": "98oZ8y4TQ6H2"
      },
      "execution_count": null,
      "outputs": []
    },
    {
      "cell_type": "code",
      "source": [],
      "metadata": {
        "id": "JrR4UuE9Q6FJ"
      },
      "execution_count": null,
      "outputs": []
    },
    {
      "cell_type": "code",
      "source": [],
      "metadata": {
        "id": "0BiPZ13FQ6CP"
      },
      "execution_count": null,
      "outputs": []
    },
    {
      "cell_type": "code",
      "source": [
        "pip install roformer"
      ],
      "metadata": {
        "id": "PdMT354GQ5_d",
        "colab": {
          "base_uri": "https://localhost:8080/"
        },
        "outputId": "2dc9ad0e-88dd-4f9c-a2f0-3d3620023d8f"
      },
      "execution_count": 260,
      "outputs": [
        {
          "output_type": "stream",
          "name": "stdout",
          "text": [
            "Collecting roformer\n",
            "  Downloading roformer-0.4.3-py3-none-any.whl (47 kB)\n",
            "\u001b[2K     \u001b[90m━━━━━━━━━━━━━━━━━━━━━━━━━━━━━━━━━━━━━━━━\u001b[0m \u001b[32m47.6/47.6 kB\u001b[0m \u001b[31m1.9 MB/s\u001b[0m eta \u001b[36m0:00:00\u001b[0m\n",
            "\u001b[?25hRequirement already satisfied: transformers>=4.13.0 in /usr/local/lib/python3.10/dist-packages (from roformer) (4.35.1)\n",
            "Collecting rjieba (from roformer)\n",
            "  Downloading rjieba-0.1.11-cp36-abi3-manylinux_2_5_x86_64.manylinux1_x86_64.whl (3.8 MB)\n",
            "\u001b[2K     \u001b[90m━━━━━━━━━━━━━━━━━━━━━━━━━━━━━━━━━━━━━━━━\u001b[0m \u001b[32m3.8/3.8 MB\u001b[0m \u001b[31m11.2 MB/s\u001b[0m eta \u001b[36m0:00:00\u001b[0m\n",
            "\u001b[?25hRequirement already satisfied: filelock in /usr/local/lib/python3.10/dist-packages (from transformers>=4.13.0->roformer) (3.13.1)\n",
            "Requirement already satisfied: huggingface-hub<1.0,>=0.16.4 in /usr/local/lib/python3.10/dist-packages (from transformers>=4.13.0->roformer) (0.17.3)\n",
            "Requirement already satisfied: numpy>=1.17 in /usr/local/lib/python3.10/dist-packages (from transformers>=4.13.0->roformer) (1.23.5)\n",
            "Requirement already satisfied: packaging>=20.0 in /usr/local/lib/python3.10/dist-packages (from transformers>=4.13.0->roformer) (23.2)\n",
            "Requirement already satisfied: pyyaml>=5.1 in /usr/local/lib/python3.10/dist-packages (from transformers>=4.13.0->roformer) (6.0.1)\n",
            "Requirement already satisfied: regex!=2019.12.17 in /usr/local/lib/python3.10/dist-packages (from transformers>=4.13.0->roformer) (2023.6.3)\n",
            "Requirement already satisfied: requests in /usr/local/lib/python3.10/dist-packages (from transformers>=4.13.0->roformer) (2.31.0)\n",
            "Requirement already satisfied: tokenizers<0.15,>=0.14 in /usr/local/lib/python3.10/dist-packages (from transformers>=4.13.0->roformer) (0.14.1)\n",
            "Requirement already satisfied: safetensors>=0.3.1 in /usr/local/lib/python3.10/dist-packages (from transformers>=4.13.0->roformer) (0.4.0)\n",
            "Requirement already satisfied: tqdm>=4.27 in /usr/local/lib/python3.10/dist-packages (from transformers>=4.13.0->roformer) (4.66.1)\n",
            "Requirement already satisfied: fsspec in /usr/local/lib/python3.10/dist-packages (from huggingface-hub<1.0,>=0.16.4->transformers>=4.13.0->roformer) (2023.6.0)\n",
            "Requirement already satisfied: typing-extensions>=3.7.4.3 in /usr/local/lib/python3.10/dist-packages (from huggingface-hub<1.0,>=0.16.4->transformers>=4.13.0->roformer) (4.5.0)\n",
            "Requirement already satisfied: charset-normalizer<4,>=2 in /usr/local/lib/python3.10/dist-packages (from requests->transformers>=4.13.0->roformer) (3.3.2)\n",
            "Requirement already satisfied: idna<4,>=2.5 in /usr/local/lib/python3.10/dist-packages (from requests->transformers>=4.13.0->roformer) (3.4)\n",
            "Requirement already satisfied: urllib3<3,>=1.21.1 in /usr/local/lib/python3.10/dist-packages (from requests->transformers>=4.13.0->roformer) (2.0.7)\n",
            "Requirement already satisfied: certifi>=2017.4.17 in /usr/local/lib/python3.10/dist-packages (from requests->transformers>=4.13.0->roformer) (2023.7.22)\n",
            "Installing collected packages: rjieba, roformer\n",
            "Successfully installed rjieba-0.1.11 roformer-0.4.3\n"
          ]
        }
      ]
    },
    {
      "cell_type": "code",
      "source": [
        "# from transformers import RoFormerTokenizer, RoFormerForSequenceClassification"
      ],
      "metadata": {
        "id": "QmOoWu1fNIHE"
      },
      "execution_count": null,
      "outputs": []
    },
    {
      "cell_type": "code",
      "source": [
        "from roformer import TFRoFormerForMaskedLM"
      ],
      "metadata": {
        "id": "wtae6ZlnPl1R"
      },
      "execution_count": 261,
      "outputs": []
    },
    {
      "cell_type": "code",
      "source": [
        "tokenizer = BertTokenizer.from_pretrained(\"junnyu/roformer_v2_chinese_char_large\")\n",
        "tf_model = TFRoFormerForMaskedLM.from_pretrained(\n",
        "    \"junnyu/roformer_v2_chinese_char_large\", from_pt=True\n",
        ")"
      ],
      "metadata": {
        "id": "102dRmcmOUXA",
        "outputId": "cc42b350-ab74-4671-fb1c-7788119a0a09",
        "colab": {
          "base_uri": "https://localhost:8080/",
          "height": 252,
          "referenced_widgets": [
            "24c5bc2c4a684b3ba08c38120f5a5b6d",
            "7f3dc818ef8249e3bbfe75854e9290c3",
            "f04a1ce13e254cada699af588e8e9074",
            "a0843ec0964342c99440c5f1776c85be",
            "5c82b331920741e7b1f4df9a7dadea93",
            "f80772fea82944de9204a07e147ef5f8",
            "079ca872293849168c65cf2664680421",
            "17514b5ac14f454cb4cea31af4a6bcbb",
            "32b63bfff1a840778150e27973f39bb5",
            "90e9bea651b44c2a8d1ecaaf0cb61773",
            "83f5009597b440e0831a975e3f90a173",
            "e6dbc912e705400cba1957428c99bbaf",
            "1011485866874b928e94ea962b27bc01",
            "03ed93c511b448a7b2d3580fcf12edd4",
            "442a335a099e4c44bd27098d4df6b8ff",
            "3392deb758214833b6b6ded6d85982f8",
            "592dae3fbfa24c4aa3654861bf80857c",
            "231ddd35487644699aae99ab200fae46",
            "156a14d85c054016ae60402702eda3cc",
            "c94b0d0c41864d62a976c04b7929a3e7",
            "fd59beea2e844d2bb45f146e607beba2",
            "a6baee6b3ad144fcafb0cf4806ab3a2e",
            "8a1d24d653bd4903994a068f20c4db05",
            "6c24d7ffed1549358a792a81771ad887",
            "705630e4360f4f238d1f380a0d2bb082",
            "9d07129bd9254a9d9c973cbb3345b1be",
            "7ab1ac901490478c85d38136f1e12a30",
            "31cc79892bf640bbbe679d717a5c2bbc",
            "0fd6c6a1ae9b440690ac0da55e6cd916",
            "feeae10d64d54a708562632e85d04da8",
            "8235e8704ae945589d7c8b3f97653ddb",
            "b20ab24a4dfa46cb8b4563828f600093",
            "775a0baa8bfa4fa7b59fc1d9f59d915e",
            "19df0c3ebd684c16b1314a3dd6bb7ad1",
            "5379d98497a1495abcebd237e0006ced",
            "a7bc22eb017a45449b1d4171ecae7da3",
            "54a123a88e50488ea2c9eef0b100e53f",
            "f02fd175feb54ee1acdcd0bcb2b35b4b",
            "79079655321f457584981ff2c2f9ebb6",
            "9cdb7652eb8046ac9b113d33b625080b",
            "5d417c00ec124ead856b516225dca7d4",
            "c5de58db9ba34ef4911b7edb1f5b4291",
            "c5b0d60b72ed49cebc50b69f84703c92",
            "f3c53c0669fd45b29064536b1d22482c"
          ]
        }
      },
      "execution_count": 264,
      "outputs": [
        {
          "output_type": "display_data",
          "data": {
            "text/plain": [
              "Downloading (…)okenizer_config.json:   0%|          | 0.00/446 [00:00<?, ?B/s]"
            ],
            "application/vnd.jupyter.widget-view+json": {
              "version_major": 2,
              "version_minor": 0,
              "model_id": "24c5bc2c4a684b3ba08c38120f5a5b6d"
            }
          },
          "metadata": {}
        },
        {
          "output_type": "display_data",
          "data": {
            "text/plain": [
              "Downloading (…)solve/main/vocab.txt:   0%|          | 0.00/53.5k [00:00<?, ?B/s]"
            ],
            "application/vnd.jupyter.widget-view+json": {
              "version_major": 2,
              "version_minor": 0,
              "model_id": "e6dbc912e705400cba1957428c99bbaf"
            }
          },
          "metadata": {}
        },
        {
          "output_type": "display_data",
          "data": {
            "text/plain": [
              "Downloading (…)lve/main/config.json:   0%|          | 0.00/598 [00:00<?, ?B/s]"
            ],
            "application/vnd.jupyter.widget-view+json": {
              "version_major": 2,
              "version_minor": 0,
              "model_id": "8a1d24d653bd4903994a068f20c4db05"
            }
          },
          "metadata": {}
        },
        {
          "output_type": "display_data",
          "data": {
            "text/plain": [
              "Downloading pytorch_model.bin:   0%|          | 0.00/1.26G [00:00<?, ?B/s]"
            ],
            "application/vnd.jupyter.widget-view+json": {
              "version_major": 2,
              "version_minor": 0,
              "model_id": "19df0c3ebd684c16b1314a3dd6bb7ad1"
            }
          },
          "metadata": {}
        },
        {
          "output_type": "stream",
          "name": "stderr",
          "text": [
            "Some weights of the PyTorch model were not used when initializing the TF 2.0 model TFRoFormerForMaskedLM: ['cls.predictions.decoder.weight']\n",
            "- This IS expected if you are initializing TFRoFormerForMaskedLM from a PyTorch model trained on another task or with another architecture (e.g. initializing a TFBertForSequenceClassification model from a BertForPreTraining model).\n",
            "- This IS NOT expected if you are initializing TFRoFormerForMaskedLM from a PyTorch model that you expect to be exactly identical (e.g. initializing a TFBertForSequenceClassification model from a BertForSequenceClassification model).\n",
            "Some weights or buffers of the TF 2.0 model TFRoFormerForMaskedLM were not initialized from the PyTorch model and are newly initialized: ['roformer.encoder.embed_positions.weight']\n",
            "You should probably TRAIN this model on a down-stream task to be able to use it for predictions and inference.\n"
          ]
        }
      ]
    },
    {
      "cell_type": "code",
      "source": [
        "# 加载分词器和模型\n",
        "tokenizer = RoFormerTokenizer.from_pretrained('junnyu/roformer_v2_chinese_char_large')\n",
        "model = RoFormerForSequenceClassification.from_pretrained('junnyu/roformer_v2_chinese_char_large')"
      ],
      "metadata": {
        "id": "PKGn07bFNoQL",
        "outputId": "7c3edc4b-ae75-41ab-c3e3-6f92a3715629",
        "colab": {
          "base_uri": "https://localhost:8080/",
          "height": 212
        }
      },
      "execution_count": 265,
      "outputs": [
        {
          "output_type": "error",
          "ename": "NameError",
          "evalue": "ignored",
          "traceback": [
            "\u001b[0;31m---------------------------------------------------------------------------\u001b[0m",
            "\u001b[0;31mNameError\u001b[0m                                 Traceback (most recent call last)",
            "\u001b[0;32m<ipython-input-265-a678953055d5>\u001b[0m in \u001b[0;36m<cell line: 2>\u001b[0;34m()\u001b[0m\n\u001b[1;32m      1\u001b[0m \u001b[0;31m# 加载分词器和模型\u001b[0m\u001b[0;34m\u001b[0m\u001b[0;34m\u001b[0m\u001b[0m\n\u001b[0;32m----> 2\u001b[0;31m \u001b[0mtokenizer\u001b[0m \u001b[0;34m=\u001b[0m \u001b[0mRoFormerTokenizer\u001b[0m\u001b[0;34m.\u001b[0m\u001b[0mfrom_pretrained\u001b[0m\u001b[0;34m(\u001b[0m\u001b[0;34m'junnyu/roformer_v2_chinese_char_large'\u001b[0m\u001b[0;34m)\u001b[0m\u001b[0;34m\u001b[0m\u001b[0;34m\u001b[0m\u001b[0m\n\u001b[0m\u001b[1;32m      3\u001b[0m \u001b[0mmodel\u001b[0m \u001b[0;34m=\u001b[0m \u001b[0mRoFormerForSequenceClassification\u001b[0m\u001b[0;34m.\u001b[0m\u001b[0mfrom_pretrained\u001b[0m\u001b[0;34m(\u001b[0m\u001b[0;34m'junnyu/roformer_v2_chinese_char_large'\u001b[0m\u001b[0;34m)\u001b[0m\u001b[0;34m\u001b[0m\u001b[0;34m\u001b[0m\u001b[0m\n",
            "\u001b[0;31mNameError\u001b[0m: name 'RoFormerTokenizer' is not defined"
          ]
        }
      ]
    },
    {
      "cell_type": "code",
      "source": [
        "\n",
        "# 对文本进行分词处理\n",
        "inputs = tokenizer(text, return_tensors=\"pt\", max_length=1024, truncation=True)\n",
        "\n",
        "# 预测\n",
        "with torch.no_grad():\n",
        "    logits = model(**inputs).logits\n",
        "\n",
        "# 获得预测结果\n",
        "predicted_class_id = logits.argmax().item()\n",
        "print(\"Predicted class:\", predicted_class_id)\n"
      ],
      "metadata": {
        "id": "hsr0DheyK_5Q",
        "outputId": "6f7a385f-1cbb-4d0f-86c1-7d62516c6ea8",
        "colab": {
          "base_uri": "https://localhost:8080/",
          "height": 409
        }
      },
      "execution_count": null,
      "outputs": [
        {
          "output_type": "error",
          "ename": "RuntimeError",
          "evalue": "ignored",
          "traceback": [
            "\u001b[0;31m---------------------------------------------------------------------------\u001b[0m",
            "\u001b[0;31mRuntimeError\u001b[0m                              Traceback (most recent call last)",
            "\u001b[0;32m<ipython-input-48-e842ed9694f4>\u001b[0m in \u001b[0;36m<cell line: 5>\u001b[0;34m()\u001b[0m\n\u001b[1;32m      4\u001b[0m \u001b[0;31m# 预测\u001b[0m\u001b[0;34m\u001b[0m\u001b[0;34m\u001b[0m\u001b[0m\n\u001b[1;32m      5\u001b[0m \u001b[0;32mwith\u001b[0m \u001b[0mtorch\u001b[0m\u001b[0;34m.\u001b[0m\u001b[0mno_grad\u001b[0m\u001b[0;34m(\u001b[0m\u001b[0;34m)\u001b[0m\u001b[0;34m:\u001b[0m\u001b[0;34m\u001b[0m\u001b[0;34m\u001b[0m\u001b[0m\n\u001b[0;32m----> 6\u001b[0;31m     \u001b[0mlogits\u001b[0m \u001b[0;34m=\u001b[0m \u001b[0mmodel\u001b[0m\u001b[0;34m(\u001b[0m\u001b[0;34m**\u001b[0m\u001b[0minputs\u001b[0m\u001b[0;34m)\u001b[0m\u001b[0;34m.\u001b[0m\u001b[0mlogits\u001b[0m\u001b[0;34m\u001b[0m\u001b[0;34m\u001b[0m\u001b[0m\n\u001b[0m\u001b[1;32m      7\u001b[0m \u001b[0;34m\u001b[0m\u001b[0m\n\u001b[1;32m      8\u001b[0m \u001b[0;31m# 获得预测结果\u001b[0m\u001b[0;34m\u001b[0m\u001b[0;34m\u001b[0m\u001b[0m\n",
            "\u001b[0;32m/usr/local/lib/python3.10/dist-packages/torch/nn/modules/module.py\u001b[0m in \u001b[0;36m_wrapped_call_impl\u001b[0;34m(self, *args, **kwargs)\u001b[0m\n\u001b[1;32m   1516\u001b[0m             \u001b[0;32mreturn\u001b[0m \u001b[0mself\u001b[0m\u001b[0;34m.\u001b[0m\u001b[0m_compiled_call_impl\u001b[0m\u001b[0;34m(\u001b[0m\u001b[0;34m*\u001b[0m\u001b[0margs\u001b[0m\u001b[0;34m,\u001b[0m \u001b[0;34m**\u001b[0m\u001b[0mkwargs\u001b[0m\u001b[0;34m)\u001b[0m  \u001b[0;31m# type: ignore[misc]\u001b[0m\u001b[0;34m\u001b[0m\u001b[0;34m\u001b[0m\u001b[0m\n\u001b[1;32m   1517\u001b[0m         \u001b[0;32melse\u001b[0m\u001b[0;34m:\u001b[0m\u001b[0;34m\u001b[0m\u001b[0;34m\u001b[0m\u001b[0m\n\u001b[0;32m-> 1518\u001b[0;31m             \u001b[0;32mreturn\u001b[0m \u001b[0mself\u001b[0m\u001b[0;34m.\u001b[0m\u001b[0m_call_impl\u001b[0m\u001b[0;34m(\u001b[0m\u001b[0;34m*\u001b[0m\u001b[0margs\u001b[0m\u001b[0;34m,\u001b[0m \u001b[0;34m**\u001b[0m\u001b[0mkwargs\u001b[0m\u001b[0;34m)\u001b[0m\u001b[0;34m\u001b[0m\u001b[0;34m\u001b[0m\u001b[0m\n\u001b[0m\u001b[1;32m   1519\u001b[0m \u001b[0;34m\u001b[0m\u001b[0m\n\u001b[1;32m   1520\u001b[0m     \u001b[0;32mdef\u001b[0m \u001b[0m_call_impl\u001b[0m\u001b[0;34m(\u001b[0m\u001b[0mself\u001b[0m\u001b[0;34m,\u001b[0m \u001b[0;34m*\u001b[0m\u001b[0margs\u001b[0m\u001b[0;34m,\u001b[0m \u001b[0;34m**\u001b[0m\u001b[0mkwargs\u001b[0m\u001b[0;34m)\u001b[0m\u001b[0;34m:\u001b[0m\u001b[0;34m\u001b[0m\u001b[0;34m\u001b[0m\u001b[0m\n",
            "\u001b[0;32m/usr/local/lib/python3.10/dist-packages/torch/nn/modules/module.py\u001b[0m in \u001b[0;36m_call_impl\u001b[0;34m(self, *args, **kwargs)\u001b[0m\n\u001b[1;32m   1525\u001b[0m                 \u001b[0;32mor\u001b[0m \u001b[0m_global_backward_pre_hooks\u001b[0m \u001b[0;32mor\u001b[0m \u001b[0m_global_backward_hooks\u001b[0m\u001b[0;34m\u001b[0m\u001b[0;34m\u001b[0m\u001b[0m\n\u001b[1;32m   1526\u001b[0m                 or _global_forward_hooks or _global_forward_pre_hooks):\n\u001b[0;32m-> 1527\u001b[0;31m             \u001b[0;32mreturn\u001b[0m \u001b[0mforward_call\u001b[0m\u001b[0;34m(\u001b[0m\u001b[0;34m*\u001b[0m\u001b[0margs\u001b[0m\u001b[0;34m,\u001b[0m \u001b[0;34m**\u001b[0m\u001b[0mkwargs\u001b[0m\u001b[0;34m)\u001b[0m\u001b[0;34m\u001b[0m\u001b[0;34m\u001b[0m\u001b[0m\n\u001b[0m\u001b[1;32m   1528\u001b[0m \u001b[0;34m\u001b[0m\u001b[0m\n\u001b[1;32m   1529\u001b[0m         \u001b[0;32mtry\u001b[0m\u001b[0;34m:\u001b[0m\u001b[0;34m\u001b[0m\u001b[0;34m\u001b[0m\u001b[0m\n",
            "\u001b[0;32m/usr/local/lib/python3.10/dist-packages/transformers/models/bert/modeling_bert.py\u001b[0m in \u001b[0;36mforward\u001b[0;34m(self, input_ids, attention_mask, token_type_ids, position_ids, head_mask, inputs_embeds, encoder_hidden_states, encoder_attention_mask, past_key_values, use_cache, output_attentions, output_hidden_states, return_dict)\u001b[0m\n\u001b[1;32m   1004\u001b[0m         \u001b[0mhead_mask\u001b[0m \u001b[0;34m=\u001b[0m \u001b[0mself\u001b[0m\u001b[0;34m.\u001b[0m\u001b[0mget_head_mask\u001b[0m\u001b[0;34m(\u001b[0m\u001b[0mhead_mask\u001b[0m\u001b[0;34m,\u001b[0m \u001b[0mself\u001b[0m\u001b[0;34m.\u001b[0m\u001b[0mconfig\u001b[0m\u001b[0;34m.\u001b[0m\u001b[0mnum_hidden_layers\u001b[0m\u001b[0;34m)\u001b[0m\u001b[0;34m\u001b[0m\u001b[0;34m\u001b[0m\u001b[0m\n\u001b[1;32m   1005\u001b[0m \u001b[0;34m\u001b[0m\u001b[0m\n\u001b[0;32m-> 1006\u001b[0;31m         embedding_output = self.embeddings(\n\u001b[0m\u001b[1;32m   1007\u001b[0m             \u001b[0minput_ids\u001b[0m\u001b[0;34m=\u001b[0m\u001b[0minput_ids\u001b[0m\u001b[0;34m,\u001b[0m\u001b[0;34m\u001b[0m\u001b[0;34m\u001b[0m\u001b[0m\n\u001b[1;32m   1008\u001b[0m             \u001b[0mposition_ids\u001b[0m\u001b[0;34m=\u001b[0m\u001b[0mposition_ids\u001b[0m\u001b[0;34m,\u001b[0m\u001b[0;34m\u001b[0m\u001b[0;34m\u001b[0m\u001b[0m\n",
            "\u001b[0;32m/usr/local/lib/python3.10/dist-packages/torch/nn/modules/module.py\u001b[0m in \u001b[0;36m_wrapped_call_impl\u001b[0;34m(self, *args, **kwargs)\u001b[0m\n\u001b[1;32m   1516\u001b[0m             \u001b[0;32mreturn\u001b[0m \u001b[0mself\u001b[0m\u001b[0;34m.\u001b[0m\u001b[0m_compiled_call_impl\u001b[0m\u001b[0;34m(\u001b[0m\u001b[0;34m*\u001b[0m\u001b[0margs\u001b[0m\u001b[0;34m,\u001b[0m \u001b[0;34m**\u001b[0m\u001b[0mkwargs\u001b[0m\u001b[0;34m)\u001b[0m  \u001b[0;31m# type: ignore[misc]\u001b[0m\u001b[0;34m\u001b[0m\u001b[0;34m\u001b[0m\u001b[0m\n\u001b[1;32m   1517\u001b[0m         \u001b[0;32melse\u001b[0m\u001b[0;34m:\u001b[0m\u001b[0;34m\u001b[0m\u001b[0;34m\u001b[0m\u001b[0m\n\u001b[0;32m-> 1518\u001b[0;31m             \u001b[0;32mreturn\u001b[0m \u001b[0mself\u001b[0m\u001b[0;34m.\u001b[0m\u001b[0m_call_impl\u001b[0m\u001b[0;34m(\u001b[0m\u001b[0;34m*\u001b[0m\u001b[0margs\u001b[0m\u001b[0;34m,\u001b[0m \u001b[0;34m**\u001b[0m\u001b[0mkwargs\u001b[0m\u001b[0;34m)\u001b[0m\u001b[0;34m\u001b[0m\u001b[0;34m\u001b[0m\u001b[0m\n\u001b[0m\u001b[1;32m   1519\u001b[0m \u001b[0;34m\u001b[0m\u001b[0m\n\u001b[1;32m   1520\u001b[0m     \u001b[0;32mdef\u001b[0m \u001b[0m_call_impl\u001b[0m\u001b[0;34m(\u001b[0m\u001b[0mself\u001b[0m\u001b[0;34m,\u001b[0m \u001b[0;34m*\u001b[0m\u001b[0margs\u001b[0m\u001b[0;34m,\u001b[0m \u001b[0;34m**\u001b[0m\u001b[0mkwargs\u001b[0m\u001b[0;34m)\u001b[0m\u001b[0;34m:\u001b[0m\u001b[0;34m\u001b[0m\u001b[0;34m\u001b[0m\u001b[0m\n",
            "\u001b[0;32m/usr/local/lib/python3.10/dist-packages/torch/nn/modules/module.py\u001b[0m in \u001b[0;36m_call_impl\u001b[0;34m(self, *args, **kwargs)\u001b[0m\n\u001b[1;32m   1525\u001b[0m                 \u001b[0;32mor\u001b[0m \u001b[0m_global_backward_pre_hooks\u001b[0m \u001b[0;32mor\u001b[0m \u001b[0m_global_backward_hooks\u001b[0m\u001b[0;34m\u001b[0m\u001b[0;34m\u001b[0m\u001b[0m\n\u001b[1;32m   1526\u001b[0m                 or _global_forward_hooks or _global_forward_pre_hooks):\n\u001b[0;32m-> 1527\u001b[0;31m             \u001b[0;32mreturn\u001b[0m \u001b[0mforward_call\u001b[0m\u001b[0;34m(\u001b[0m\u001b[0;34m*\u001b[0m\u001b[0margs\u001b[0m\u001b[0;34m,\u001b[0m \u001b[0;34m**\u001b[0m\u001b[0mkwargs\u001b[0m\u001b[0;34m)\u001b[0m\u001b[0;34m\u001b[0m\u001b[0;34m\u001b[0m\u001b[0m\n\u001b[0m\u001b[1;32m   1528\u001b[0m \u001b[0;34m\u001b[0m\u001b[0m\n\u001b[1;32m   1529\u001b[0m         \u001b[0;32mtry\u001b[0m\u001b[0;34m:\u001b[0m\u001b[0;34m\u001b[0m\u001b[0;34m\u001b[0m\u001b[0m\n",
            "\u001b[0;32m/usr/local/lib/python3.10/dist-packages/transformers/models/bert/modeling_bert.py\u001b[0m in \u001b[0;36mforward\u001b[0;34m(self, input_ids, token_type_ids, position_ids, inputs_embeds, past_key_values_length)\u001b[0m\n\u001b[1;32m    236\u001b[0m         \u001b[0;32mif\u001b[0m \u001b[0mself\u001b[0m\u001b[0;34m.\u001b[0m\u001b[0mposition_embedding_type\u001b[0m \u001b[0;34m==\u001b[0m \u001b[0;34m\"absolute\"\u001b[0m\u001b[0;34m:\u001b[0m\u001b[0;34m\u001b[0m\u001b[0;34m\u001b[0m\u001b[0m\n\u001b[1;32m    237\u001b[0m             \u001b[0mposition_embeddings\u001b[0m \u001b[0;34m=\u001b[0m \u001b[0mself\u001b[0m\u001b[0;34m.\u001b[0m\u001b[0mposition_embeddings\u001b[0m\u001b[0;34m(\u001b[0m\u001b[0mposition_ids\u001b[0m\u001b[0;34m)\u001b[0m\u001b[0;34m\u001b[0m\u001b[0;34m\u001b[0m\u001b[0m\n\u001b[0;32m--> 238\u001b[0;31m             \u001b[0membeddings\u001b[0m \u001b[0;34m+=\u001b[0m \u001b[0mposition_embeddings\u001b[0m\u001b[0;34m\u001b[0m\u001b[0;34m\u001b[0m\u001b[0m\n\u001b[0m\u001b[1;32m    239\u001b[0m         \u001b[0membeddings\u001b[0m \u001b[0;34m=\u001b[0m \u001b[0mself\u001b[0m\u001b[0;34m.\u001b[0m\u001b[0mLayerNorm\u001b[0m\u001b[0;34m(\u001b[0m\u001b[0membeddings\u001b[0m\u001b[0;34m)\u001b[0m\u001b[0;34m\u001b[0m\u001b[0;34m\u001b[0m\u001b[0m\n\u001b[1;32m    240\u001b[0m         \u001b[0membeddings\u001b[0m \u001b[0;34m=\u001b[0m \u001b[0mself\u001b[0m\u001b[0;34m.\u001b[0m\u001b[0mdropout\u001b[0m\u001b[0;34m(\u001b[0m\u001b[0membeddings\u001b[0m\u001b[0;34m)\u001b[0m\u001b[0;34m\u001b[0m\u001b[0;34m\u001b[0m\u001b[0m\n",
            "\u001b[0;31mRuntimeError\u001b[0m: The size of tensor a (1024) must match the size of tensor b (512) at non-singleton dimension 1"
          ]
        }
      ]
    },
    {
      "cell_type": "code",
      "source": [
        "pip install roformer"
      ],
      "metadata": {
        "id": "dhbahCtINzoJ"
      },
      "execution_count": null,
      "outputs": []
    },
    {
      "cell_type": "code",
      "source": [],
      "metadata": {
        "id": "DyAfMrf_NE4y"
      },
      "execution_count": null,
      "outputs": []
    },
    {
      "cell_type": "code",
      "source": [
        "tf_inputs = tokenizer(text, return_tensors=\"tf\")"
      ],
      "metadata": {
        "id": "J1cmB01AOgTe"
      },
      "execution_count": null,
      "outputs": []
    },
    {
      "cell_type": "code",
      "source": [
        "tf_outputs = tf_model(**tf_inputs, training=False).logits[0]\n",
        "tf_outputs_sentence = \"tf: \""
      ],
      "metadata": {
        "id": "_WHOKv-FOwJQ"
      },
      "execution_count": null,
      "outputs": []
    },
    {
      "cell_type": "code",
      "source": [
        "\n",
        "\n",
        "# pt_model = RoFormerForMaskedLM.from_pretrained(\"junnyu/roformer_v2_chinese_char_large\")\n",
        "tf_model = TFRoFormerForMaskedLM.from_pretrained(\n",
        "    \"junnyu/roformer_v2_chinese_char_large\", from_pt=True\n",
        ")\n",
        "# pt_inputs = tokenizer(text, return_tensors=\"pt\")\n",
        "tf_inputs = tokenizer(text, return_tensors=\"tf\")\n",
        "# # pytorch\n",
        "# with torch.no_grad():\n",
        "#     pt_outputs = pt_model(**pt_inputs).logits[0]\n",
        "# pt_outputs_sentence = \"pytorch: \"\n",
        "# for i, id in enumerate(tokenizer.encode(text)):\n",
        "#     if id == tokenizer.mask_token_id:\n",
        "#         tokens = tokenizer.convert_ids_to_tokens(pt_outputs[i].topk(k=5)[1])\n",
        "#         pt_outputs_sentence += \"[\" + \"||\".join(tokens) + \"]\"\n",
        "#     else:\n",
        "#         pt_outputs_sentence += \"\".join(\n",
        "#             tokenizer.convert_ids_to_tokens([id], skip_special_tokens=True)\n",
        "#         )\n",
        "# print(pt_outputs_sentence)\n",
        "# tf\n",
        "tf_outputs = tf_model(**tf_inputs, training=False).logits[0]\n",
        "tf_outputs_sentence = \"tf: \"\n",
        "for i, id in enumerate(tokenizer.encode(text)):\n",
        "    if id == tokenizer.mask_token_id:\n",
        "        tokens = tokenizer.convert_ids_to_tokens(tf.math.top_k(tf_outputs[i], k=5)[1])\n",
        "        tf_outputs_sentence += \"[\" + \"||\".join(tokens) + \"]\"\n",
        "    else:\n",
        "        tf_outputs_sentence += \"\".join(\n",
        "            tokenizer.convert_ids_to_tokens([id], skip_special_tokens=True)\n",
        "        )\n",
        "print(tf_outputs_sentence)\n",
        "# small\n",
        "# pytorch: 今天[的||，||是||很||也]很好，我[要||会||是||想||在]去公园玩。\n",
        "# tf: 今天[的||，||是||很||也]很好，我[要||会||是||想||在]去公园玩。\n",
        "# base\n",
        "# pytorch: 今天[我||天||晴||园||玩]很好，我[想||要||会||就||带]去公园玩。\n",
        "# tf: 今天[我||天||晴||园||玩]很好，我[想||要||会||就||带]去公园玩。\n",
        "# large\n",
        "# pytorch: 今天[天||气||我||空||阳]很好，我[又||想||会||就||爱]去公园玩。\n",
        "# tf: 今天[天||气||我||空||阳]很好，我[又||想||会||就||爱]去公园玩。\n"
      ],
      "metadata": {
        "id": "_bNnhXhJLwj7"
      },
      "execution_count": null,
      "outputs": []
    }
  ]
}