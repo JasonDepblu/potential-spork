{
  "nbformat": 4,
  "nbformat_minor": 0,
  "metadata": {
    "colab": {
      "provenance": [],
      "machine_shape": "hm",
      "authorship_tag": "ABX9TyMNTBNZOiotumIc8XC4/fjt",
      "include_colab_link": true
    },
    "kernelspec": {
      "name": "python3",
      "display_name": "Python 3"
    },
    "language_info": {
      "name": "python"
    },
    "gpuClass": "standard"
  },
  "cells": [
    {
      "cell_type": "markdown",
      "metadata": {
        "id": "view-in-github",
        "colab_type": "text"
      },
      "source": [
        "<a href=\"https://colab.research.google.com/github/JasonDepblu/potential-spork/blob/main/Copy_of_content_based_filtering.ipynb\" target=\"_parent\"><img src=\"https://colab.research.google.com/assets/colab-badge.svg\" alt=\"Open In Colab\"/></a>"
      ]
    },
    {
      "cell_type": "code",
      "execution_count": null,
      "metadata": {
        "id": "8vH4YZrHC2En"
      },
      "outputs": [],
      "source": [
        "# %%\n",
        "import time\n",
        "import pandas as pd\n",
        "import numpy as np\n",
        "import random\n",
        "import mpl_toolkits.axisartist as ast\n",
        "from matplotlib import pyplot as plt\n",
        "from mpl_toolkits.mplot3d import Axes3D\n",
        "from tensorflow import keras\n",
        "import tensorflow as tf\n",
        "from keras import layers, models, optimizers\n",
        "from sklearn import metrics\n",
        "from sklearn.model_selection import train_test_split\n",
        "from sklearn.metrics import confusion_matrix, auc\n",
        "from sklearn.metrics import classification_report\n",
        "from sklearn.preprocessing import StandardScaler, MinMaxScaler\n",
        "from sklearn.preprocessing import OneHotEncoder\n",
        "from sklearn.decomposition import PCA\n",
        "import copy"
      ]
    },
    {
      "cell_type": "code",
      "source": [
        "# load the data\n",
        "dsc_up_df = pd.read_csv(r'/content/dsc_up.csv')\n",
        "car_dict_df = pd.read_csv(r'/content/car_dict.csv')\n",
        "\n",
        "dsc_up_df = dsc_up_df.replace({np.NaN: 0})\n",
        "car_dict_df = car_dict_df.replace({np.NaN: 0})\n",
        "\n",
        "dsc_up = dsc_up_df.values\n",
        "car_dict = car_dict_df.values\n",
        "\n",
        "print(dsc_up.shape)\n",
        "print(car_dict.shape)"
      ],
      "metadata": {
        "id": "S-Q9NYd0DIkH",
        "colab": {
          "base_uri": "https://localhost:8080/"
        },
        "outputId": "548e039a-3c77-4fd6-a886-d804a4406e15"
      },
      "execution_count": null,
      "outputs": [
        {
          "output_type": "stream",
          "name": "stdout",
          "text": [
            "(47086, 35)\n",
            "(191, 93)\n"
          ]
        }
      ]
    },
    {
      "cell_type": "code",
      "source": [
        "num_cars = len(car_dict)\n",
        "print(num_cars)"
      ],
      "metadata": {
        "colab": {
          "base_uri": "https://localhost:8080/"
        },
        "id": "PHHkweH9wJbI",
        "outputId": "c90d89ab-74fb-45eb-cab7-2f53fd1ac529"
      },
      "execution_count": null,
      "outputs": [
        {
          "output_type": "stream",
          "name": "stdout",
          "text": [
            "191\n"
          ]
        }
      ]
    },
    {
      "cell_type": "code",
      "source": [
        "# balance samples\n",
        "dsc_up_bal = np.empty(shape=(1, dsc_up.shape[1]))\n",
        "\n",
        "for i in range(num_cars):\n",
        "  if len(dsc_up[dsc_up[:, 32] == i]) > 1000:\n",
        "    ran_row_bal = np.random.choice(np.arange(len(dsc_up[dsc_up[:, 32] == i])), size=1000, replace=False)\n",
        "    dsc_up_bali = dsc_up[dsc_up[:, 32] == i][ran_row_bal]\n",
        "  else:\n",
        "    dsc_up_bali = dsc_up[dsc_up[:, 32] == i]\n",
        "  dsc_up_bal = np.concatenate((dsc_up_bal, dsc_up_bali), axis=0)\n",
        "dsc_up = dsc_up_bal[1:]\n",
        "print(dsc_up.shape)"
      ],
      "metadata": {
        "colab": {
          "base_uri": "https://localhost:8080/"
        },
        "id": "5mbaZipFwxwG",
        "outputId": "1e29c628-c7a3-4a93-870e-178580b04528"
      },
      "execution_count": null,
      "outputs": [
        {
          "output_type": "stream",
          "name": "stdout",
          "text": [
            "(44195, 35)\n"
          ]
        }
      ]
    },
    {
      "cell_type": "code",
      "source": [
        "# load the label\n",
        "print(car_dict.shape)\n",
        "print(dsc_up.shape)\n",
        "\n",
        "ys_up = dsc_up[:, 32]\n",
        "print(ys_up)"
      ],
      "metadata": {
        "colab": {
          "base_uri": "https://localhost:8080/"
        },
        "id": "ZNay43VdDXtA",
        "outputId": "47159de7-ec9f-49e1-ccc5-3c23795b1688"
      },
      "execution_count": null,
      "outputs": [
        {
          "output_type": "stream",
          "name": "stdout",
          "text": [
            "(191, 93)\n",
            "(44195, 35)\n",
            "[0 0 0 ... 190 190 190]\n"
          ]
        }
      ]
    },
    {
      "cell_type": "code",
      "source": [
        "# transfer the label to onehot_code\n",
        "ys = copy.copy(ys_up.reshape(len(ys_up), 1))\n",
        "ys -= 1\n",
        "onehot_encoder = OneHotEncoder(sparse=False)\n",
        "onehot_encoded = onehot_encoder.fit_transform(ys)\n",
        "ys = onehot_encoded\n",
        "print(ys.shape)"
      ],
      "metadata": {
        "colab": {
          "base_uri": "https://localhost:8080/"
        },
        "id": "S17GJ8SJ0adp",
        "outputId": "ac651a19-8f15-4412-9c89-fc2088fcb88b"
      },
      "execution_count": null,
      "outputs": [
        {
          "output_type": "stream",
          "name": "stdout",
          "text": [
            "(44195, 191)\n"
          ]
        },
        {
          "output_type": "stream",
          "name": "stderr",
          "text": [
            "/usr/local/lib/python3.9/dist-packages/sklearn/preprocessing/_encoders.py:868: FutureWarning: `sparse` was renamed to `sparse_output` in version 1.2 and will be removed in 1.4. `sparse_output` is ignored unless you leave `sparse` to its default value.\n",
            "  warnings.warn(\n"
          ]
        }
      ]
    },
    {
      "cell_type": "code",
      "source": [
        "# column of last feature from 0 and +1\n",
        "col_last_feature_car = 90\n",
        "# 80\n",
        "    #76\n",
        "col_last_feature_user = 29\n",
        "car_unscaled = car_dict[:, 1:col_last_feature_car]\n",
        "user_unscaled = dsc_up[:, 1:col_last_feature_user]\n",
        "\n",
        "# generate the gaussian random no. to budget feature\n",
        "mu_budget = 0\n",
        "sigma_budget = 1.5\n",
        "for i in range(len(user_unscaled)):\n",
        "    user_unscaled[i, 24] += random.gauss(mu_budget, sigma_budget)\n",
        "\n",
        "scalerCar = StandardScaler()\n",
        "scalerCar.fit(car_dict[:, 1:col_last_feature_car])\n",
        "car = scalerCar.transform(car_dict[:, 1:col_last_feature_car])\n",
        "\n",
        "scalerUser = StandardScaler()\n",
        "scalerUser.fit(dsc_up[:, 1:col_last_feature_user])\n",
        "user = scalerUser.transform(dsc_up[:, 1:col_last_feature_user])\n",
        "\n",
        "print(np.allclose(car_unscaled.astype(float), scalerCar.inverse_transform(car)))\n",
        "print(np.allclose(user_unscaled.astype(float), scalerUser.inverse_transform(user)))"
      ],
      "metadata": {
        "id": "F1Qh3rh_6v7a",
        "colab": {
          "base_uri": "https://localhost:8080/"
        },
        "outputId": "5500ee57-e26a-4261-b740-ed0bd8382e5a"
      },
      "execution_count": null,
      "outputs": [
        {
          "output_type": "stream",
          "name": "stdout",
          "text": [
            "True\n",
            "True\n"
          ]
        }
      ]
    },
    {
      "cell_type": "code",
      "source": [
        "# func for generating num_items users of different cars\n",
        "def gen_user_vecs(user_vec, num_items):\n",
        "    \"\"\" given a user vector return:\n",
        "        user predict matrix to match the size of item_vecs \"\"\"\n",
        "    user_vecs = np.tile(user_vec, (1, num_items))\n",
        "    return user_vecs\n",
        "\n",
        "def gen_car_vecs(car_vec, num_users):\n",
        "    car_vecs = np.tile(car_vec, (num_users, 1))\n",
        "    return car_vecs"
      ],
      "metadata": {
        "id": "z3Ze_4Ri6b7w"
      },
      "execution_count": null,
      "outputs": []
    },
    {
      "cell_type": "code",
      "source": [
        "# pca analysis\n",
        "pca_25 = PCA(n_components=25)\n",
        "print(pca_25)\n",
        "pca_25.fit(user)\n",
        "print(pca_25.explained_variance_ratio_)\n",
        "\n",
        "# %%\n",
        "pca_30 = PCA(n_components=2)\n",
        "print(pca_30)\n",
        "pca_30.fit(car_dict[:, 1:15])\n",
        "print(pca_30.explained_variance_ratio_)\n",
        "c_trans = pca_30.transform(car_dict[:, 1:15])\n",
        "# plt.plot(c_trans[:, 0], c_trans[:, 1], 'ro')\n"
      ],
      "metadata": {
        "colab": {
          "base_uri": "https://localhost:8080/"
        },
        "id": "oBhji5xWngVa",
        "outputId": "56682bcb-d3dc-440b-a624-d415651a042d"
      },
      "execution_count": null,
      "outputs": [
        {
          "output_type": "stream",
          "name": "stdout",
          "text": [
            "PCA(n_components=25)\n",
            "[0.06468094 0.05538773 0.05435404 0.05018585 0.04531846 0.04264035\n",
            " 0.0393405  0.03708735 0.03622497 0.03591892 0.03575575 0.034984\n",
            " 0.0347247  0.03415126 0.0336128  0.03313202 0.0326601  0.03227787\n",
            " 0.03198323 0.03169416 0.03075826 0.0299553  0.02940894 0.02892909\n",
            " 0.02721245]\n",
            "PCA(n_components=2)\n",
            "[9.99902534e-01 7.48293267e-05]\n"
          ]
        }
      ]
    },
    {
      "cell_type": "code",
      "source": [
        "# generate num_items users for different cars\n",
        "user_vecs = gen_user_vecs(user, len(car_dict))\n",
        "user_vecs = user_vecs.reshape(-1, user.shape[1])\n",
        "car_vecs = gen_car_vecs(car, len(dsc_up))\n",
        "\n",
        "ys = ys.reshape(-1, 1)\n",
        "print(user_vecs.shape)\n",
        "print(car_vecs.shape)\n",
        "print(ys.shape)"
      ],
      "metadata": {
        "colab": {
          "base_uri": "https://localhost:8080/"
        },
        "id": "JtbYTY3rnxK_",
        "outputId": "995a7388-04b7-4a3a-b842-0600b4350b83"
      },
      "execution_count": null,
      "outputs": [
        {
          "output_type": "stream",
          "name": "stdout",
          "text": [
            "(8441245, 28)\n",
            "(8441245, 89)\n",
            "(8441245, 1)\n"
          ]
        }
      ]
    },
    {
      "cell_type": "code",
      "source": [
        "ys[ys == 0].shape"
      ],
      "metadata": {
        "colab": {
          "base_uri": "https://localhost:8080/"
        },
        "id": "j_LlJZomsOBU",
        "outputId": "a9ac2dcd-f322-44fe-a38b-7e510e6f2b01"
      },
      "execution_count": null,
      "outputs": [
        {
          "output_type": "execute_result",
          "data": {
            "text/plain": [
              "(8397050,)"
            ]
          },
          "metadata": {},
          "execution_count": 11
        }
      ]
    },
    {
      "cell_type": "code",
      "source": [
        "# # case 2\n",
        "# car_train, car_test = train_test_split(car_vecs, train_size=0.8, shuffle=True, random_state=2023)\n",
        "# user_train, user_test = train_test_split(user_vecs, train_size=0.8, shuffle=True, random_state=2023)\n",
        "# ys_train, ys_test = train_test_split(ys, train_size=0.8, shuffle=True, random_state=2023)\n",
        "\n",
        "# car_val, car_test = train_test_split(car_test, train_size=0.5, shuffle=True, random_state=2023)\n",
        "# user_val, user_test = train_test_split(user_test, train_size=0.5, shuffle=True, random_state=2023)\n",
        "# ys_val, ys_test = train_test_split(ys_test, train_size=0.5, shuffle=True, random_state=2023)"
      ],
      "metadata": {
        "id": "Exgz6gDNsG0e"
      },
      "execution_count": null,
      "outputs": []
    },
    {
      "cell_type": "code",
      "source": [
        "randnum = random.randint(0, 100)\n",
        "print(randnum)\n",
        "random.seed(randnum)"
      ],
      "metadata": {
        "colab": {
          "base_uri": "https://localhost:8080/"
        },
        "id": "milRRhMVQKXV",
        "outputId": "eeeb91d5-f956-4710-d13b-3d78819dcb27"
      },
      "execution_count": null,
      "outputs": [
        {
          "output_type": "stream",
          "name": "stdout",
          "text": [
            "8\n"
          ]
        }
      ]
    },
    {
      "cell_type": "code",
      "source": [
        "# # case 2\n",
        "# user_train_one = user_train[(ys_train == 1)[:, 0]]\n",
        "# user_train_one = gen_car_vecs(user_train_one, np.ceil(len(car_dict) * 0.3 -1).astype(int))\n",
        "# user_train_zero = user_train[(ys_train == 0)[:, 0]]\n",
        "# user_train = np.concatenate((user_train_zero, user_train_one), axis=0)\n",
        "# random.seed(randnum)\n",
        "# random.shuffle(user_train)\n",
        "# print(user_train.shape)"
      ],
      "metadata": {
        "id": "06DItVnFhowy"
      },
      "execution_count": null,
      "outputs": []
    },
    {
      "cell_type": "code",
      "source": [
        "# # case 2\n",
        "# car_train_one = car_train[(ys_train == 1)[:, 0]]\n",
        "# car_train_one = gen_car_vecs(car_train_one, np.ceil(len(car_dict) * 0.3 -1).astype(int))\n",
        "# car_train_zero = car_train[(ys_train == 0)[:, 0]]\n",
        "# car_train = np.concatenate((car_train_zero, car_train_one), axis=0)\n",
        "# random.seed(randnum)\n",
        "# random.shuffle(car_train)\n",
        "# print(car_train.shape)"
      ],
      "metadata": {
        "id": "SCElRjrGiCqJ"
      },
      "execution_count": null,
      "outputs": []
    },
    {
      "cell_type": "code",
      "source": [
        "# # case 2\n",
        "# ys_one = ys_train[(ys_train == 1)[:, 0]]\n",
        "# ys_one = gen_car_vecs(ys_one, np.ceil(len(car_dict) * 0.3 -1).astype(int))\n",
        "# ys_zero = ys_train[(ys_train == 0)[:, 0]]\n",
        "# ys_train = np.concatenate((ys_zero, ys_one), axis=0)\n",
        "# random.seed(randnum)\n",
        "# random.shuffle(ys_train)\n",
        "# print(ys_train.shape)"
      ],
      "metadata": {
        "id": "8IAExZSfiCcW"
      },
      "execution_count": null,
      "outputs": []
    },
    {
      "cell_type": "code",
      "source": [
        "# user_vecs_one = user_vecs[(ys == 1)[:, 0]]"
      ],
      "metadata": {
        "id": "vekhBc82s5CX"
      },
      "execution_count": null,
      "outputs": []
    },
    {
      "cell_type": "code",
      "source": [
        "# num_users = user_vecs_one.shape[0]\n",
        "# print(num_users)\n"
      ],
      "metadata": {
        "id": "zAEEnmaPs_96"
      },
      "execution_count": null,
      "outputs": []
    },
    {
      "cell_type": "code",
      "source": [
        "# user_vecs_zero = user_vecs[(ys == 0)[:, 0]]\n",
        "# num_zeros = user_vecs_zero.shape[0]\n",
        "# print(num_zeros)"
      ],
      "metadata": {
        "id": "ptj2UlkZuC2n"
      },
      "execution_count": null,
      "outputs": []
    },
    {
      "cell_type": "code",
      "source": [
        "# random.seed(randnum)"
      ],
      "metadata": {
        "id": "0AhtIQYvui-c"
      },
      "execution_count": null,
      "outputs": []
    },
    {
      "cell_type": "code",
      "source": [
        "# sample_row = np.random.choice(np.arange(num_zeros), size=num_users, replace=False)"
      ],
      "metadata": {
        "id": "wAszpAvxtCW2"
      },
      "execution_count": null,
      "outputs": []
    },
    {
      "cell_type": "code",
      "source": [
        "# sample_row"
      ],
      "metadata": {
        "id": "XBxdkxGuskpD"
      },
      "execution_count": null,
      "outputs": []
    },
    {
      "cell_type": "code",
      "source": [
        "# user_vecs_zero = user_vecs_zero[sample_row]\n",
        "# print(user_vecs_zero.shape)"
      ],
      "metadata": {
        "id": "h3MhNu3Eu3_k"
      },
      "execution_count": null,
      "outputs": []
    },
    {
      "cell_type": "code",
      "source": [
        "# case 3\n",
        "user_vecs_one = user_vecs[(ys == 1)[:, 0]]\n",
        "# user_vecs_one = gen_car_vecs(user_vecs_one, len(car_dict)-1)\n",
        "user_vecs_zero = user_vecs[(ys == 0)[:, 0]]\n",
        "num_users = user_vecs_one.shape[0]\n",
        "num_zeros = user_vecs_zero.shape[0]\n",
        "random.seed(randnum)\n",
        "\n",
        "sample_row = np.random.choice(np.arange(num_zeros), size=np.ceil(num_users * 1.2).astype(int), replace=False)\n",
        "user_vecs_zero = user_vecs_zero[sample_row]\n",
        "user_vecs = np.concatenate((user_vecs_zero, user_vecs_one), axis=0)\n",
        "\n",
        "random.seed(44)\n",
        "shuffle_row = np.random.choice(np.arange(0,len(user_vecs)), len(user_vecs), replace=False)\n",
        "user_vecs = user_vecs[shuffle_row]\n",
        "print(user_vecs.shape)"
      ],
      "metadata": {
        "colab": {
          "base_uri": "https://localhost:8080/"
        },
        "id": "Od4AHZ9ln_Q-",
        "outputId": "d2c309f9-5a70-4bab-c18e-8f5c0c1daab8"
      },
      "execution_count": null,
      "outputs": [
        {
          "output_type": "stream",
          "name": "stdout",
          "text": [
            "(97229, 28)\n"
          ]
        }
      ]
    },
    {
      "cell_type": "code",
      "source": [
        "# case3\n",
        "car_vecs_one = car_vecs[(ys == 1)[:, 0]]\n",
        "# car_vecs_one = gen_car_vecs(car_vecs_one, len(car_dict)-1)\n",
        "\n",
        "car_vecs_zero = car_vecs[(ys == 0)[:, 0]][sample_row]\n",
        "car_vecs = np.concatenate((car_vecs_zero, car_vecs_one), axis=0)\n",
        "\n",
        "car_vecs = car_vecs[shuffle_row]\n",
        "print(car_vecs.shape)"
      ],
      "metadata": {
        "colab": {
          "base_uri": "https://localhost:8080/"
        },
        "id": "RqhTucG6n69P",
        "outputId": "b3547e46-a171-4d88-d21b-6e745a6661cd"
      },
      "execution_count": null,
      "outputs": [
        {
          "output_type": "stream",
          "name": "stdout",
          "text": [
            "(97229, 89)\n"
          ]
        }
      ]
    },
    {
      "cell_type": "code",
      "source": [
        "# case 3\n",
        "ys_one = ys[(ys == 1)[:, 0]]\n",
        "# ys_one = gen_car_vecs(ys_one, len(car_dict)-1)\n",
        "\n",
        "ys_zero = ys[(ys == 0)[:, 0]][sample_row]\n",
        "ys = np.concatenate((ys_zero, ys_one), axis=0)\n",
        "\n",
        "ys = ys[shuffle_row]\n",
        "print(ys.shape)"
      ],
      "metadata": {
        "colab": {
          "base_uri": "https://localhost:8080/"
        },
        "id": "3-HMFlwboBib",
        "outputId": "384049d0-5248-4871-eb1c-752d02b40daa"
      },
      "execution_count": null,
      "outputs": [
        {
          "output_type": "stream",
          "name": "stdout",
          "text": [
            "(97229, 1)\n"
          ]
        }
      ]
    },
    {
      "cell_type": "code",
      "source": [
        "# case 3\n",
        "car_train, car_test = train_test_split(car_vecs, train_size=0.8, shuffle=True, random_state=2023)\n",
        "user_train, user_test = train_test_split(user_vecs, train_size=0.8, shuffle=True, random_state=2023)\n",
        "ys_train, ys_test = train_test_split(ys, train_size=0.8, shuffle=True, random_state=2023)\n",
        "\n",
        "car_val, car_test = train_test_split(car_test, train_size=0.5, shuffle=True, random_state=2023)\n",
        "user_val, user_test = train_test_split(user_test, train_size=0.5, shuffle=True, random_state=2023)\n",
        "ys_val, ys_test = train_test_split(ys_test, train_size=0.5, shuffle=True, random_state=2023)"
      ],
      "metadata": {
        "id": "uw1qHr9lhWOW"
      },
      "execution_count": null,
      "outputs": []
    },
    {
      "cell_type": "code",
      "source": [
        "print(f\"cars training data shape:{car_train.shape}\")\n",
        "print(f\"cars validating data shape:{car_val.shape}\")\n",
        "print(f\"cars testing data shape:{car_test.shape}\")\n",
        "\n",
        "print(f\"users training data shape:{user_train.shape}\")\n",
        "print(f\"users validating data shape:{user_val.shape}\")\n",
        "print(f\"users testing data shape:{user_test.shape}\")\n",
        "\n",
        "print(f\"ys training data shape:{ys_train.shape}\")\n",
        "print(f\"ys validating data shape:{ys_val.shape}\")\n",
        "print(f\"ys testing data shape:{ys_test.shape}\")"
      ],
      "metadata": {
        "colab": {
          "base_uri": "https://localhost:8080/"
        },
        "id": "Xnm6wtb2sKKv",
        "outputId": "46aecc0f-b397-4dc9-eb48-62efe3f9795d"
      },
      "execution_count": null,
      "outputs": [
        {
          "output_type": "stream",
          "name": "stdout",
          "text": [
            "cars training data shape:(77783, 89)\n",
            "cars validating data shape:(9723, 89)\n",
            "cars testing data shape:(9723, 89)\n",
            "users training data shape:(77783, 28)\n",
            "users validating data shape:(9723, 28)\n",
            "users testing data shape:(9723, 28)\n",
            "ys training data shape:(77783, 1)\n",
            "ys validating data shape:(9723, 1)\n",
            "ys testing data shape:(9723, 1)\n"
          ]
        }
      ]
    },
    {
      "cell_type": "code",
      "source": [
        "num_user_features = col_last_feature_user-1\n",
        "num_car_features = col_last_feature_car-1\n",
        "num_outputs = 32\n",
        "tf.random.set_seed(1)\n",
        "user_NN = tf.keras.models.Sequential([\n",
        "    tf.keras.layers.Dense(256, activation='relu'),\n",
        "    tf.keras.layers.Dense(128, activation='relu'),\n",
        "    tf.keras.layers.Dense(num_outputs, activation='relu'),\n",
        "])\n",
        "car_NN = tf.keras.models.Sequential([\n",
        "    tf.keras.layers.Dense(256, activation='relu'),\n",
        "    tf.keras.layers.Dense(128, activation='relu'),\n",
        "    tf.keras.layers.Dense(num_outputs, activation='relu'),\n",
        "])\n",
        "\n",
        "input_user = tf.keras.layers.Input(shape=(num_user_features))\n",
        "vu = user_NN(input_user)\n",
        "vu = tf.linalg.l2_normalize(vu, axis=1)\n",
        "\n",
        "input_car = tf.keras.layers.Input(shape=(num_car_features))\n",
        "vc = car_NN(input_car)\n",
        "vc = tf.linalg.l2_normalize(vc, axis=1)\n",
        "\n",
        "d_out = tf.keras.layers.Dot(axes=1)([vu, vc])\n",
        "output = tf.keras.layers.Dense(1, activation='sigmoid')(d_out)\n",
        "\n",
        "model = tf.keras.Model([input_user, input_car], output)\n",
        "model.summary()\n",
        "tf.keras.utils.plot_model(model, \"/content/my_model.png\")"
      ],
      "metadata": {
        "colab": {
          "base_uri": "https://localhost:8080/",
          "height": 952
        },
        "id": "bP3DkKKatJyi",
        "outputId": "4b148aad-3fbb-422a-96c3-b59f0235e50a"
      },
      "execution_count": null,
      "outputs": [
        {
          "output_type": "stream",
          "name": "stdout",
          "text": [
            "Model: \"model\"\n",
            "__________________________________________________________________________________________________\n",
            " Layer (type)                   Output Shape         Param #     Connected to                     \n",
            "==================================================================================================\n",
            " input_1 (InputLayer)           [(None, 28)]         0           []                               \n",
            "                                                                                                  \n",
            " input_2 (InputLayer)           [(None, 89)]         0           []                               \n",
            "                                                                                                  \n",
            " sequential (Sequential)        (None, 32)           44448       ['input_1[0][0]']                \n",
            "                                                                                                  \n",
            " sequential_1 (Sequential)      (None, 32)           60064       ['input_2[0][0]']                \n",
            "                                                                                                  \n",
            " tf.math.l2_normalize (TFOpLamb  (None, 32)          0           ['sequential[0][0]']             \n",
            " da)                                                                                              \n",
            "                                                                                                  \n",
            " tf.math.l2_normalize_1 (TFOpLa  (None, 32)          0           ['sequential_1[0][0]']           \n",
            " mbda)                                                                                            \n",
            "                                                                                                  \n",
            " dot (Dot)                      (None, 1)            0           ['tf.math.l2_normalize[0][0]',   \n",
            "                                                                  'tf.math.l2_normalize_1[0][0]'] \n",
            "                                                                                                  \n",
            " dense_6 (Dense)                (None, 1)            2           ['dot[0][0]']                    \n",
            "                                                                                                  \n",
            "==================================================================================================\n",
            "Total params: 104,514\n",
            "Trainable params: 104,514\n",
            "Non-trainable params: 0\n",
            "__________________________________________________________________________________________________\n"
          ]
        },
        {
          "output_type": "execute_result",
          "data": {
            "image/png": "[encoded data removed]",
            "text/plain": [
              "<IPython.core.display.Image object>"
            ]
          },
          "metadata": {},
          "execution_count": 18
        }
      ]
    },
    {
      "cell_type": "code",
      "source": [
        "tf.random.set_seed(1)\n",
        "cost_fn = tf.keras.losses.MeanSquaredError()\n",
        "opt = keras.optimizers.Adam(learning_rate=0.01)\n",
        "model.compile(optimizer=opt, loss=cost_fn)"
      ],
      "metadata": {
        "id": "2gPZmKAitT2h"
      },
      "execution_count": null,
      "outputs": []
    },
    {
      "cell_type": "code",
      "source": [
        "tf.random.set_seed(1)\n",
        "model.fit([user_train, car_train], ys_train, epochs=5)"
      ],
      "metadata": {
        "colab": {
          "base_uri": "https://localhost:8080/"
        },
        "id": "QXZsutVxtUfw",
        "outputId": "83c24b69-093e-41b1-dd80-fdd9509b083a"
      },
      "execution_count": null,
      "outputs": [
        {
          "output_type": "stream",
          "name": "stdout",
          "text": [
            "Epoch 1/5\n",
            "2431/2431 [==============================] - 10s 3ms/step - loss: 0.1604\n",
            "Epoch 2/5\n",
            "2431/2431 [==============================] - 8s 3ms/step - loss: 0.1276\n",
            "Epoch 3/5\n",
            "2431/2431 [==============================] - 8s 3ms/step - loss: 0.1211\n",
            "Epoch 4/5\n",
            "2431/2431 [==============================] - 9s 4ms/step - loss: 0.1179\n",
            "Epoch 5/5\n",
            "2431/2431 [==============================] - 8s 3ms/step - loss: 0.1163\n"
          ]
        },
        {
          "output_type": "execute_result",
          "data": {
            "text/plain": [
              "<keras.callbacks.History at 0x7f9f1ca2bca0>"
            ]
          },
          "metadata": {},
          "execution_count": 20
        }
      ]
    },
    {
      "cell_type": "code",
      "source": [
        "model.evaluate([user_val, car_val], ys_val)"
      ],
      "metadata": {
        "colab": {
          "base_uri": "https://localhost:8080/"
        },
        "id": "k50a01wBtXr8",
        "outputId": "7f866789-6c60-49fb-c7bd-f15d77be8364"
      },
      "execution_count": null,
      "outputs": [
        {
          "output_type": "stream",
          "name": "stdout",
          "text": [
            "304/304 [==============================] - 1s 2ms/step - loss: 0.1173\n"
          ]
        },
        {
          "output_type": "execute_result",
          "data": {
            "text/plain": [
              "0.11727336049079895"
            ]
          },
          "metadata": {},
          "execution_count": 21
        }
      ]
    },
    {
      "cell_type": "code",
      "source": [
        "model.evaluate([user_val[(ys_val == 0)[:, 0]], car_val[(ys_val == 0)[:, 0]]], ys_val[(ys_val == 0)[:, 0]])\n",
        "model.evaluate([user_val[(ys_val == 1)[:, 0]], car_val[(ys_val == 1)[:, 0]]], ys_val[(ys_val == 1)[:, 0]])"
      ],
      "metadata": {
        "colab": {
          "base_uri": "https://localhost:8080/"
        },
        "id": "iS6RDpTMA3Zz",
        "outputId": "64a1641a-e65f-4ac3-ec71-e62375e9148f"
      },
      "execution_count": null,
      "outputs": [
        {
          "output_type": "stream",
          "name": "stdout",
          "text": [
            "165/165 [==============================] - 0s 2ms/step - loss: 0.0905\n",
            "140/140 [==============================] - 0s 2ms/step - loss: 0.1489\n"
          ]
        },
        {
          "output_type": "execute_result",
          "data": {
            "text/plain": [
              "0.14890863001346588"
            ]
          },
          "metadata": {},
          "execution_count": 22
        }
      ]
    },
    {
      "cell_type": "code",
      "source": [
        "ys_test.shape"
      ],
      "metadata": {
        "colab": {
          "base_uri": "https://localhost:8080/"
        },
        "id": "1JHYyjPvfPGL",
        "outputId": "1c167b07-f05e-43fa-bfb5-57da2a7f18c5"
      },
      "execution_count": null,
      "outputs": [
        {
          "output_type": "execute_result",
          "data": {
            "text/plain": [
              "(9723, 1)"
            ]
          },
          "metadata": {},
          "execution_count": 23
        }
      ]
    },
    {
      "cell_type": "code",
      "source": [
        "model.evaluate([user_test[(ys_test == 0)[:, 0]], car_test[(ys_test == 0)[:, 0]]], ys_test[(ys_test == 0)[:, 0]])\n",
        "model.evaluate([user_test[(ys_test == 1)[:, 0]], car_test[(ys_test == 1)[:, 0]]], ys_test[(ys_test == 1)[:, 0]])"
      ],
      "metadata": {
        "colab": {
          "base_uri": "https://localhost:8080/"
        },
        "id": "wWyGJ47d8FsR",
        "outputId": "4a30f76d-6cfa-4652-a654-58b64eccd967"
      },
      "execution_count": null,
      "outputs": [
        {
          "output_type": "stream",
          "name": "stdout",
          "text": [
            "167/167 [==============================] - 0s 2ms/step - loss: 0.0961\n",
            "138/138 [==============================] - 0s 2ms/step - loss: 0.1493\n"
          ]
        },
        {
          "output_type": "execute_result",
          "data": {
            "text/plain": [
              "0.1493450552225113"
            ]
          },
          "metadata": {},
          "execution_count": 24
        }
      ]
    },
    {
      "cell_type": "code",
      "source": [
        "ys_p_test = model.predict([[user_test, car_test]])\n",
        "ys_p_test_vs = np.concatenate((ys_p_test, ys_test), axis=1)\n",
        "ys_test_df = pd.DataFrame(ys_p_test_vs)\n",
        "ys_test_df.to_csv(r'/content/ys_p_test_6epoch.csv', encoding='UTF-8')"
      ],
      "metadata": {
        "colab": {
          "base_uri": "https://localhost:8080/"
        },
        "id": "pR91EXOOtbFv",
        "outputId": "cc6cbd22-e79f-4d8c-cab3-a183e4123395"
      },
      "execution_count": null,
      "outputs": [
        {
          "output_type": "stream",
          "name": "stdout",
          "text": [
            "304/304 [==============================] - 1s 2ms/step\n"
          ]
        }
      ]
    },
    {
      "cell_type": "code",
      "source": [
        "# print the confusion matrix & report\n",
        "print(confusion_matrix(ys_test, np.round(ys_p_test)))\n",
        "print(classification_report(ys_test, np.round(ys_p_test)))"
      ],
      "metadata": {
        "colab": {
          "base_uri": "https://localhost:8080/"
        },
        "id": "xY380Qk3t0Xw",
        "outputId": "7c5e5b8d-fbc6-4ad5-9ed7-ce0b260aa939"
      },
      "execution_count": null,
      "outputs": [
        {
          "output_type": "stream",
          "name": "stdout",
          "text": [
            "[[4556  780]\n",
            " [ 899 3488]]\n",
            "              precision    recall  f1-score   support\n",
            "\n",
            "         0.0       0.84      0.85      0.84      5336\n",
            "         1.0       0.82      0.80      0.81      4387\n",
            "\n",
            "    accuracy                           0.83      9723\n",
            "   macro avg       0.83      0.82      0.83      9723\n",
            "weighted avg       0.83      0.83      0.83      9723\n",
            "\n"
          ]
        }
      ]
    },
    {
      "cell_type": "code",
      "source": [
        "# calculate the auc & roc\n",
        "FPR, TPR, thresholds = metrics.roc_curve(ys_test, ys_p_test)\n",
        "AUC = auc(FPR, TPR)\n",
        "print('AUC:',AUC)\n",
        "plt.rc('font', family='', size=14)\n",
        "plt.plot(FPR,TPR,label=\"AUC={:.2f}\" .format(AUC),marker = 'o',color='b',linestyle='--')\n",
        "plt.legend(loc=4, fontsize=10)\n",
        "plt.title('ROC',fontsize=20)\n",
        "plt.xlabel('FPR',fontsize=14)\n",
        "plt.ylabel('TPR',fontsize=14)\n",
        "plt.show()"
      ],
      "metadata": {
        "colab": {
          "base_uri": "https://localhost:8080/",
          "height": 508
        },
        "id": "sQ4CArpxdnKe",
        "outputId": "572f2514-78bb-47d2-e580-24bbadf0a449"
      },
      "execution_count": null,
      "outputs": [
        {
          "output_type": "stream",
          "name": "stdout",
          "text": [
            "AUC: 0.9117589954168117\n"
          ]
        },
        {
          "output_type": "display_data",
          "data": {
            "text/plain": [
              "<Figure size 640x480 with 1 Axes>"
            ],
            "image/png": "[encoded data removed]"
          },
          "metadata": {}
        }
      ]
    },
    {
      "cell_type": "code",
      "source": [
        "ys_p_train = model.predict([[user_train, car_train]])"
      ],
      "metadata": {
        "colab": {
          "base_uri": "https://localhost:8080/"
        },
        "id": "_bhcLBm7A4_m",
        "outputId": "b778867a-94bc-4814-a54a-bd17bc819ab7"
      },
      "execution_count": null,
      "outputs": [
        {
          "output_type": "stream",
          "name": "stdout",
          "text": [
            "2431/2431 [==============================] - 5s 2ms/step\n"
          ]
        }
      ]
    },
    {
      "cell_type": "code",
      "source": [
        "# print the confusion matrix & report\n",
        "print(confusion_matrix(ys_train, np.round(ys_p_train)))\n",
        "print(classification_report(ys_train, np.round(ys_p_train)))"
      ],
      "metadata": {
        "colab": {
          "base_uri": "https://localhost:8080/"
        },
        "id": "9BmnL9PnXdCD",
        "outputId": "bda147c6-1917-4ebf-bacd-c279a5caa986"
      },
      "execution_count": null,
      "outputs": [
        {
          "output_type": "stream",
          "name": "stdout",
          "text": [
            "[[36542  5893]\n",
            " [ 6880 28468]]\n",
            "              precision    recall  f1-score   support\n",
            "\n",
            "         0.0       0.84      0.86      0.85     42435\n",
            "         1.0       0.83      0.81      0.82     35348\n",
            "\n",
            "    accuracy                           0.84     77783\n",
            "   macro avg       0.84      0.83      0.83     77783\n",
            "weighted avg       0.84      0.84      0.84     77783\n",
            "\n"
          ]
        }
      ]
    },
    {
      "cell_type": "markdown",
      "source": [
        "基于某个用户，预测不同的车的购买倾向"
      ],
      "metadata": {
        "id": "JgvnydmXY9fv"
      }
    },
    {
      "cell_type": "code",
      "source": [
        "list = []\n",
        "for i in range(len(dsc_up)):\n",
        "  if dsc_up[i, 32] == 7:\n",
        "    list.append(i)\n",
        "print(list)"
      ],
      "metadata": {
        "colab": {
          "base_uri": "https://localhost:8080/"
        },
        "id": "OvsmShkg4cVk",
        "outputId": "5cd9383d-d888-45f6-ec88-20420b3ef0ab"
      },
      "execution_count": null,
      "outputs": [
        {
          "output_type": "stream",
          "name": "stdout",
          "text": [
            "[2035, 2036, 2037, 2038, 2039, 2040, 2041, 2042, 2043, 2044, 2045, 2046, 2047, 2048, 2049, 2050, 2051, 2052, 2053, 2054, 2055, 2056, 2057, 2058, 2059, 2060, 2061, 2062, 2063, 2064, 2065, 2066, 2067, 2068, 2069, 2070, 2071, 2072, 2073, 2074, 2075, 2076, 2077, 2078, 2079, 2080, 2081, 2082, 2083, 2084, 2085, 2086, 2087, 2088, 2089, 2090, 2091, 2092, 2093, 2094, 2095, 2096, 2097, 2098, 2099, 2100, 2101, 2102, 2103, 2104, 2105, 2106, 2107, 2108, 2109, 2110, 2111, 2112, 2113, 2114, 2115, 2116, 2117, 2118, 2119, 2120, 2121, 2122, 2123, 2124, 2125, 2126, 2127, 2128, 2129, 2130, 2131, 2132, 2133, 2134, 2135, 2136, 2137, 2138, 2139, 2140, 2141, 2142, 2143, 2144, 2145, 2146, 2147, 2148, 2149, 2150, 2151, 2152, 2153, 2154, 2155, 2156, 2157, 2158, 2159, 2160, 2161, 2162, 2163, 2164, 2165, 2166, 2167, 2168, 2169, 2170, 2171, 2172, 2173, 2174, 2175, 2176, 2177, 2178, 2179, 2180, 2181, 2182, 2183, 2184, 2185, 2186, 2187, 2188, 2189, 2190, 2191, 2192, 2193, 2194, 2195, 2196, 2197, 2198, 2199, 2200, 2201, 2202, 2203, 2204, 2205, 2206, 2207, 2208, 2209, 2210, 2211, 2212, 2213, 2214, 2215, 2216, 2217, 2218, 2219, 2220, 2221, 2222, 2223, 2224, 2225, 2226, 2227, 2228, 2229, 2230, 2231, 2232, 2233, 2234, 2235, 2236, 2237, 2238, 2239, 2240, 2241, 2242, 2243, 2244, 2245, 2246, 2247, 2248, 2249, 2250, 2251, 2252, 2253, 2254, 2255, 2256, 2257, 2258, 2259, 2260, 2261, 2262, 2263, 2264, 2265, 2266, 2267, 2268, 2269, 2270, 2271, 2272, 2273, 2274, 2275, 2276, 2277, 2278, 2279, 2280, 2281, 2282, 2283, 2284, 2285, 2286, 2287, 2288, 2289, 2290, 2291, 2292, 2293, 2294, 2295, 2296, 2297, 2298, 2299, 2300, 2301, 2302, 2303, 2304, 2305, 2306, 2307, 2308, 2309, 2310, 2311, 2312, 2313, 2314, 2315, 2316, 2317, 2318, 2319, 2320, 2321, 2322, 2323, 2324, 2325, 2326, 2327, 2328, 2329, 2330, 2331, 2332, 2333, 2334, 2335, 2336, 2337, 2338, 2339, 2340, 2341, 2342, 2343, 2344, 2345, 2346, 2347, 2348, 2349, 2350, 2351, 2352, 2353, 2354, 2355, 2356, 2357, 2358, 2359, 2360, 2361, 2362, 2363, 2364, 2365, 2366, 2367, 2368, 2369, 2370, 2371, 2372, 2373, 2374, 2375, 2376, 2377, 2378, 2379, 2380, 2381, 2382, 2383, 2384, 2385, 2386, 2387, 2388, 2389, 2390, 2391, 2392, 2393, 2394, 2395, 2396, 2397, 2398, 2399, 2400, 2401, 2402, 2403, 2404, 2405, 2406, 2407, 2408, 2409, 2410, 2411, 2412, 2413, 2414, 2415, 2416, 2417, 2418, 2419, 2420, 2421, 2422, 2423, 2424, 2425, 2426, 2427, 2428, 2429, 2430, 2431, 2432, 2433, 2434, 2435, 2436, 2437, 2438, 2439, 2440, 2441, 2442, 2443, 2444, 2445, 2446, 2447, 2448, 2449, 2450, 2451, 2452, 2453, 2454, 2455, 2456, 2457, 2458, 2459, 2460, 2461, 2462, 2463, 2464, 2465, 2466, 2467, 2468, 2469, 2470, 2471, 2472, 2473, 2474, 2475, 2476, 2477, 2478, 2479, 2480, 2481, 2482, 2483, 2484, 2485, 2486, 2487, 2488, 2489, 2490, 2491, 2492, 2493, 2494, 2495, 2496, 2497, 2498, 2499, 2500, 2501, 2502, 2503, 2504, 2505, 2506, 2507, 2508, 2509, 2510, 2511, 2512, 2513, 2514, 2515, 2516, 2517, 2518, 2519, 2520, 2521, 2522, 2523, 2524, 2525, 2526, 2527, 2528, 2529, 2530, 2531, 2532, 2533, 2534, 2535, 2536, 2537, 2538, 2539, 2540, 2541, 2542, 2543, 2544, 2545, 2546, 2547, 2548, 2549, 2550, 2551, 2552, 2553, 2554, 2555, 2556, 2557, 2558, 2559, 2560, 2561, 2562, 2563, 2564, 2565, 2566, 2567, 2568, 2569, 2570, 2571, 2572, 2573, 2574, 2575, 2576, 2577, 2578, 2579, 2580, 2581, 2582, 2583, 2584, 2585, 2586, 2587, 2588, 2589, 2590, 2591, 2592, 2593, 2594, 2595, 2596, 2597, 2598, 2599, 2600, 2601, 2602, 2603, 2604, 2605, 2606, 2607, 2608, 2609, 2610, 2611, 2612, 2613, 2614, 2615, 2616, 2617, 2618, 2619, 2620, 2621, 2622, 2623, 2624, 2625, 2626, 2627, 2628, 2629, 2630, 2631, 2632, 2633, 2634, 2635, 2636, 2637, 2638, 2639, 2640, 2641, 2642, 2643, 2644, 2645, 2646, 2647, 2648, 2649, 2650, 2651, 2652, 2653, 2654, 2655, 2656, 2657, 2658, 2659, 2660, 2661, 2662, 2663, 2664, 2665, 2666, 2667, 2668, 2669, 2670, 2671, 2672, 2673, 2674, 2675, 2676, 2677, 2678, 2679, 2680, 2681, 2682, 2683, 2684, 2685, 2686, 2687, 2688, 2689, 2690, 2691, 2692, 2693, 2694, 2695, 2696, 2697, 2698, 2699, 2700, 2701, 2702, 2703, 2704, 2705, 2706, 2707, 2708, 2709, 2710, 2711, 2712, 2713, 2714, 2715, 2716, 2717, 2718, 2719, 2720, 2721, 2722, 2723, 2724, 2725, 2726, 2727, 2728, 2729, 2730, 2731, 2732, 2733, 2734, 2735, 2736, 2737, 2738, 2739, 2740, 2741, 2742, 2743, 2744, 2745, 2746, 2747, 2748, 2749, 2750, 2751, 2752, 2753, 2754, 2755, 2756, 2757, 2758, 2759, 2760, 2761, 2762, 2763, 2764, 2765, 2766, 2767, 2768, 2769, 2770, 2771, 2772, 2773, 2774, 2775, 2776, 2777, 2778, 2779, 2780, 2781, 2782, 2783, 2784, 2785, 2786, 2787, 2788, 2789, 2790, 2791, 2792, 2793, 2794, 2795, 2796, 2797, 2798, 2799, 2800, 2801, 2802, 2803, 2804, 2805, 2806, 2807, 2808, 2809, 2810, 2811, 2812, 2813, 2814, 2815, 2816, 2817, 2818, 2819, 2820, 2821, 2822, 2823, 2824, 2825, 2826, 2827, 2828, 2829, 2830, 2831, 2832, 2833, 2834, 2835, 2836, 2837, 2838, 2839, 2840, 2841, 2842, 2843, 2844, 2845, 2846, 2847, 2848, 2849, 2850, 2851, 2852, 2853, 2854, 2855, 2856, 2857, 2858, 2859, 2860, 2861, 2862, 2863, 2864, 2865, 2866, 2867, 2868, 2869, 2870, 2871, 2872, 2873, 2874, 2875, 2876, 2877, 2878, 2879, 2880, 2881, 2882, 2883, 2884, 2885, 2886, 2887, 2888, 2889, 2890, 2891, 2892, 2893, 2894, 2895, 2896, 2897, 2898, 2899, 2900, 2901, 2902, 2903, 2904, 2905, 2906, 2907, 2908, 2909, 2910, 2911, 2912, 2913, 2914, 2915, 2916, 2917, 2918, 2919, 2920, 2921, 2922, 2923, 2924, 2925, 2926, 2927, 2928, 2929, 2930, 2931, 2932, 2933, 2934, 2935, 2936, 2937, 2938, 2939, 2940, 2941, 2942, 2943, 2944, 2945, 2946, 2947, 2948, 2949, 2950, 2951, 2952, 2953, 2954, 2955, 2956, 2957, 2958, 2959, 2960, 2961, 2962, 2963, 2964, 2965, 2966, 2967, 2968, 2969, 2970, 2971, 2972, 2973, 2974, 2975, 2976, 2977, 2978, 2979, 2980, 2981, 2982, 2983, 2984, 2985, 2986, 2987, 2988, 2989, 2990, 2991, 2992, 2993, 2994, 2995, 2996, 2997, 2998, 2999, 3000, 3001, 3002, 3003, 3004, 3005, 3006, 3007, 3008, 3009, 3010, 3011, 3012, 3013, 3014, 3015, 3016, 3017, 3018, 3019, 3020, 3021, 3022, 3023, 3024, 3025, 3026, 3027, 3028, 3029, 3030, 3031, 3032, 3033, 3034]\n"
          ]
        }
      ]
    },
    {
      "cell_type": "code",
      "source": [
        "dsc_up[2047, :]"
      ],
      "metadata": {
        "colab": {
          "base_uri": "https://localhost:8080/"
        },
        "id": "Q1Yv7r0dj-o-",
        "outputId": "76527fe6-b55c-4d60-a6a7-d859d318961f"
      },
      "execution_count": null,
      "outputs": [
        {
          "output_type": "execute_result",
          "data": {
            "text/plain": [
              "array([3358153, 3, 3, 3, 2, 3, 3, 4, 3, 1.0, 1.0, 0.0, 0.0, 0.0, 0.0, 0.0,\n",
              "       0.0, 0.0, 0.0, 0.0, 0.0, 0.0, 0.0, 2300, 3, 7.911861159554745, 5,\n",
              "       3, 24, '宋Pro', 5178, 40569, 7, '2019款 1.5T 自动豪华型', 40569],\n",
              "      dtype=object)"
            ]
          },
          "metadata": {},
          "execution_count": 32
        }
      ]
    },
    {
      "cell_type": "code",
      "source": [
        "# predict the new car of new performance for specific user\n",
        "# define the cars and the user\n",
        "row_car_dict = np.arange(0, num_cars) \n",
        "row_user_dst = [2047]\n",
        "new_car = car_unscaled[row_car_dict]\n",
        "new_user = gen_car_vecs(user_unscaled[row_user_dst], len(row_car_dict))\n",
        "\n",
        "# predict the new car of new performance\n",
        "new_user_scal = scalerUser.transform(new_user)\n",
        "new_car_scal = scalerCar.transform(new_car)\n",
        "new_car_predict = model.predict([[new_user_scal, new_car_scal]])\n",
        "print(f'target car is {dsc_up[row_user_dst, 33]}, car No. is {dsc_up[row_user_dst, 32]}')\n",
        "for i in range(len(row_car_dict)):\n",
        "    print(\n",
        "        f'{i} :'\n",
        "        f'{car_dict[row_car_dict, 91].reshape(-1, 1)[i]} : {np.round(new_car_predict[i],3)} : {np.round(new_car_predict[i], 0)}')"
      ],
      "metadata": {
        "id": "3FTLt7gHt3zV"
      },
      "execution_count": null,
      "outputs": []
    },
    {
      "cell_type": "code",
      "source": [
        "new_y_predict = np.zeros((new_car_predict.shape))\n",
        "new_y_predict [new_car_predict > 0.8] = 1\n",
        "new_y_true = np.zeros((new_y_predict.shape))\n",
        "new_y_true[row_car_dict == dsc_up[row_user_dst, 32]] = 1\n",
        "\n",
        "print(confusion_matrix(new_y_true, new_y_predict))\n",
        "print(classification_report(new_y_true, new_y_predict))\n"
      ],
      "metadata": {
        "colab": {
          "base_uri": "https://localhost:8080/"
        },
        "id": "6x8FD7Sdt4bC",
        "outputId": "574cbf4b-e0a8-4cf8-aa98-69733c3cfd50"
      },
      "execution_count": null,
      "outputs": [
        {
          "output_type": "stream",
          "name": "stdout",
          "text": [
            "[[186   4]\n",
            " [  0   1]]\n",
            "              precision    recall  f1-score   support\n",
            "\n",
            "         0.0       1.00      0.98      0.99       190\n",
            "         1.0       0.20      1.00      0.33         1\n",
            "\n",
            "    accuracy                           0.98       191\n",
            "   macro avg       0.60      0.99      0.66       191\n",
            "weighted avg       1.00      0.98      0.99       191\n",
            "\n"
          ]
        }
      ]
    },
    {
      "cell_type": "code",
      "source": [
        "dsc_up[row_user_dst, 32]"
      ],
      "metadata": {
        "colab": {
          "base_uri": "https://localhost:8080/"
        },
        "id": "-WY3LkDbADbg",
        "outputId": "cf743618-b9bf-4511-b4fb-f0f4c3b4d5ad"
      },
      "execution_count": null,
      "outputs": [
        {
          "output_type": "execute_result",
          "data": {
            "text/plain": [
              "array([7], dtype=object)"
            ]
          },
          "metadata": {},
          "execution_count": 36
        }
      ]
    },
    {
      "cell_type": "code",
      "source": [
        "new_y_predict_vs = np.concatenate((new_y_predict, new_y_true), axis=1)\n",
        "new_y_predict_vs = np.concatenate((new_car_predict, new_y_predict_vs), axis=1)\n",
        "new_y_predict_df = pd.DataFrame(new_y_predict_vs)\n",
        "new_y_predict_df.to_csv(r'/content/new_car_predict_vs.csv', encoding='UTF-8')"
      ],
      "metadata": {
        "id": "gplApG3yjI9P"
      },
      "execution_count": null,
      "outputs": []
    },
    {
      "cell_type": "markdown",
      "source": [
        "基于某款车预测不同用户的购买倾向"
      ],
      "metadata": {
        "id": "MzhVNUg0Y0vr"
      }
    },
    {
      "cell_type": "code",
      "source": [
        "row_car_dict = [7]\n",
        "row_user_dst = np.arange(0, num_users)\n",
        "new_car = gen_car_vecs(car_unscaled[row_car_dict], len(row_user_dst))\n",
        "new_user = user_unscaled[row_user_dst]\n",
        "\n",
        "new_user_scal = scalerUser.transform(new_user)\n",
        "new_car_scal = scalerCar.transform(new_car)\n",
        "new_car_predict = model.predict([[new_user_scal, new_car_scal]])\n",
        "\n",
        "print(f'target car is {car_dict[row_car_dict, 91]}, car No. is {car_dict[row_car_dict, 92]}')\n",
        "for i in range(min(len(row_user_dst), 200)):\n",
        "    print(\n",
        "        f'User{i} who has bought car:'\n",
        "        f'{dsc_up[row_user_dst, 29].reshape(-1, 1)[i]} : {np.round(new_car_predict[i],3)} : {np.round(new_car_predict[i], 0)}')"
      ],
      "metadata": {
        "id": "bIjPzfT7t7uL"
      },
      "execution_count": null,
      "outputs": []
    },
    {
      "cell_type": "code",
      "source": [
        "new_y_predict = np.zeros((new_car_predict.shape))\n",
        "new_y_predict [new_car_predict > 0.86] = 1\n",
        "new_y_true = np.zeros((new_y_predict.shape))\n",
        "new_y_true[dsc_up[row_user_dst, 32] == row_car_dict] = 1\n",
        "\n",
        "print(confusion_matrix(new_y_true, new_y_predict))\n",
        "print(classification_report(new_y_true, new_y_predict))"
      ],
      "metadata": {
        "colab": {
          "base_uri": "https://localhost:8080/"
        },
        "id": "CzeIxA3cTDwo",
        "outputId": "cd4da54c-0911-48ac-b16c-dd971578728b"
      },
      "execution_count": null,
      "outputs": [
        {
          "output_type": "stream",
          "name": "stdout",
          "text": [
            "[[29750 13445]\n",
            " [  212   788]]\n",
            "              precision    recall  f1-score   support\n",
            "\n",
            "         0.0       0.99      0.69      0.81     43195\n",
            "         1.0       0.06      0.79      0.10      1000\n",
            "\n",
            "    accuracy                           0.69     44195\n",
            "   macro avg       0.52      0.74      0.46     44195\n",
            "weighted avg       0.97      0.69      0.80     44195\n",
            "\n"
          ]
        }
      ]
    },
    {
      "cell_type": "code",
      "source": [
        "new_y_predict_vs = np.concatenate((new_y_predict, new_y_true), axis=1)\n",
        "new_y_predict_vs = np.concatenate((new_car_predict, new_y_predict_vs), axis=1)\n",
        "new_y_predict_vs = np.concatenate((dsc_up[row_user_dst, 32].reshape(-1, 1), new_y_predict_vs), axis=1)\n",
        "new_y_predict_df = pd.DataFrame(new_y_predict_vs)\n",
        "new_y_predict_df.to_csv(r'/content/new_user_predict_vs3.csv', encoding='UTF-8')"
      ],
      "metadata": {
        "id": "VJuVzJhAakQ0"
      },
      "execution_count": null,
      "outputs": []
    },
    {
      "cell_type": "code",
      "source": [
        "new_y_predict [new_car_predict > 0.86].shape"
      ],
      "metadata": {
        "colab": {
          "base_uri": "https://localhost:8080/"
        },
        "id": "hEMqclJRZ8k2",
        "outputId": "b600dbf5-3ec2-40b3-d0fe-3d09ddf57fae"
      },
      "execution_count": null,
      "outputs": [
        {
          "output_type": "execute_result",
          "data": {
            "text/plain": [
              "(14233,)"
            ]
          },
          "metadata": {},
          "execution_count": 51
        }
      ]
    },
    {
      "cell_type": "markdown",
      "source": [
        "修改某款车性能参数，预测不同用户的购买倾向"
      ],
      "metadata": {
        "id": "m9BeIok4Dj1Z"
      }
    },
    {
      "cell_type": "code",
      "source": [
        "# 32 宋DMIDMI110km\n",
        "# 56 低配影酷\n",
        "car_unscaled[56, 0]"
      ],
      "metadata": {
        "colab": {
          "base_uri": "https://localhost:8080/"
        },
        "id": "biFx0ndbN3yX",
        "outputId": "6db2fc31-b3a4-4ec3-bf71-2d70b3bf327d"
      },
      "execution_count": null,
      "outputs": [
        {
          "output_type": "execute_result",
          "data": {
            "text/plain": [
              "11.98"
            ]
          },
          "metadata": {},
          "execution_count": 52
        }
      ]
    },
    {
      "cell_type": "code",
      "source": [
        "# base car parameters\n",
        "row_car_dict = [56]\n",
        "row_user_dst = np.arange(0, num_users)\n",
        "new_car_one = car_unscaled[row_car_dict]\n",
        "print(new_car_one)"
      ],
      "metadata": {
        "colab": {
          "base_uri": "https://localhost:8080/"
        },
        "id": "wosc7IGXDs8Q",
        "outputId": "0eedf01e-f3fd-4dec-f44f-15e866ffbef0"
      },
      "execution_count": null,
      "outputs": [
        {
          "output_type": "stream",
          "name": "stdout",
          "text": [
            "[[11.98 7 1 2 1 0.0 0.0 130 270 1 190 8.35 0 735 3.0 350.0 165.0 350.0\n",
            "  0.0 0.0 1.0 0 0 0 1 1 0 0 4680 1901 1670 2750 1617 1610 1915 1500 5 1 2\n",
            "  2 1 1 1 1 1 1 1 1 1 0 0 0 1 1 1 4 1 1 3 1 4 1 1 1 1 0.0 1 3 1 1 1 1 1\n",
            "  7.0 0 39.1 58.1 59.5 66.7]]\n"
          ]
        }
      ]
    },
    {
      "cell_type": "code",
      "source": [
        "# modify the paramters of some car\n",
        "new_car_one[:, 0:14] = car_unscaled[32, 0:14]\n",
        "print(new_car_one)"
      ],
      "metadata": {
        "colab": {
          "base_uri": "https://localhost:8080/"
        },
        "id": "g_HJfG-dOZ69",
        "outputId": "c53553b7-c79e-49e1-82f1-9f185d1894cb"
      },
      "execution_count": null,
      "outputs": [
        {
          "output_type": "stream",
          "name": "stdout",
          "text": [
            "[[17.58 4 1 3 3 0.7 5.5 81 135 1 170 7.9 110 1443 3.0 350.0 165.0 350.0\n",
            "  0.0 0.0 1.0 0 0 0 1 1 0 0 4680 1901 1670 2750 1617 1610 1915 1500 5 1 2\n",
            "  2 1 1 1 1 1 1 1 1 1 0 0 0 1 1 1 4 1 1 3 1 4 1 1 1 1 0.0 1 3 1 1 1 1 1\n",
            "  7.0 0 39.1 58.1 59.5 66.7]]\n"
          ]
        }
      ]
    },
    {
      "cell_type": "code",
      "source": [
        "new_car = gen_car_vecs(new_car_one, len(row_user_dst))\n",
        "new_user = user_unscaled[row_user_dst]\n",
        "\n",
        "new_user_scal = scalerUser.transform(new_user)\n",
        "new_car_scal = scalerCar.transform(new_car)\n",
        "new_car_predict = model.predict([[new_user_scal, new_car_scal]])\n",
        "\n",
        "print(f'target car is {car_dict[row_car_dict, 81]}, car No. is {car_dict[row_car_dict, 82]}')\n",
        "for i in range(min(len(row_user_dst), 100)):\n",
        "    print(\n",
        "        f'User{i} who has bought car:'\n",
        "        f'{dsc_up[row_user_dst, 32].reshape(-1, 1)[i]} : {np.round(new_car_predict[i],3)} : {np.round(new_car_predict[i], 0)}')"
      ],
      "metadata": {
        "colab": {
          "base_uri": "https://localhost:8080/"
        },
        "id": "kWFpzCTbDs3L",
        "outputId": "f64f7724-badf-410e-db37-36e8991bdd2c"
      },
      "execution_count": null,
      "outputs": [
        {
          "output_type": "stream",
          "name": "stdout",
          "text": [
            "297/297 [==============================] - 1s 2ms/step\n",
            "target car is ['影酷 2022款 1.5T DCT基本型'], car No. is [56]\n",
            "User0 who has bought car:['影酷 2022款 1.5T 超新星PRO版'] : [0.855] : [1.]\n",
            "User1 who has bought car:['影酷 2022款 1.5T 超新星PRO版'] : [0.855] : [1.]\n",
            "User2 who has bought car:['影酷 2022款 1.5T 超新星PRO版'] : [0.855] : [1.]\n",
            "User3 who has bought car:['影酷 2022款 1.5T 超新星PRO版'] : [0.855] : [1.]\n",
            "User4 who has bought car:['影酷 2022款 1.5T 超新星PRO版'] : [0.855] : [1.]\n",
            "User5 who has bought car:['影酷 2022款 1.5T 超新星PRO版'] : [0.855] : [1.]\n",
            "User6 who has bought car:['影酷 2022款 1.5T 超新星PRO版'] : [0.855] : [1.]\n",
            "User7 who has bought car:['影酷 2022款 1.5T 超新星PRO版'] : [0.855] : [1.]\n",
            "User8 who has bought car:['影酷 2022款 1.5T 超新星PRO版'] : [0.855] : [1.]\n",
            "User9 who has bought car:['影酷 2022款 1.5T 超新星PRO版'] : [0.844] : [1.]\n",
            "User10 who has bought car:['影酷 2022款 1.5T 超新星PRO版'] : [0.855] : [1.]\n",
            "User11 who has bought car:['影酷 2022款 1.5T 超新星PRO版'] : [0.855] : [1.]\n",
            "User12 who has bought car:['影酷 2022款 1.5T 超新星PRO版'] : [0.855] : [1.]\n",
            "User13 who has bought car:['影酷 2022款 1.5T 超新星PRO版'] : [0.855] : [1.]\n",
            "User14 who has bought car:['影酷 2022款 1.5T 超新星PRO版'] : [0.855] : [1.]\n",
            "User15 who has bought car:['影酷 2022款 1.5T 超新星PRO版'] : [0.855] : [1.]\n",
            "User16 who has bought car:['影酷 2022款 1.5T 超新星PRO版'] : [0.855] : [1.]\n",
            "User17 who has bought car:['影酷 2022款 1.5T 超新星PRO版'] : [0.855] : [1.]\n",
            "User18 who has bought car:['影酷 2022款 1.5T 超新星PRO版'] : [0.855] : [1.]\n",
            "User19 who has bought car:['影酷 2022款 1.5T 超新星PRO版'] : [0.855] : [1.]\n",
            "User20 who has bought car:['影酷 2022款 2.0T 中子星PRO版'] : [0.855] : [1.]\n",
            "User21 who has bought car:['影酷 2022款 2.0T 中子星PRO版'] : [0.855] : [1.]\n",
            "User22 who has bought car:['影酷 2022款 2.0T 中子星PRO版'] : [0.855] : [1.]\n",
            "User23 who has bought car:['影酷 2022款 2.0T 中子星MAX版'] : [0.855] : [1.]\n",
            "User24 who has bought car:['影酷 2022款 2.0T 中子星MAX版'] : [0.855] : [1.]\n",
            "User25 who has bought car:['影酷 2022款 2.0ATK 双子星PRO版'] : [0.769] : [1.]\n",
            "User26 who has bought car:['影酷 2022款 2.0ATK 双子星PRO版'] : [0.552] : [1.]\n",
            "User27 who has bought car:['影酷 2022款 2.0ATK 双子星PRO版'] : [0.855] : [1.]\n",
            "User28 who has bought car:['影酷 2022款 2.0ATK 双子星PRO版'] : [0.855] : [1.]\n",
            "User29 who has bought car:['影酷 2022款 2.0ATK 双子星MAX版'] : [0.855] : [1.]\n",
            "User30 who has bought car:['Model Y 2022款 改款 后轮驱动版'] : [0.206] : [0.]\n",
            "User31 who has bought car:['Model Y 2022款 改款 后轮驱动版'] : [0.189] : [0.]\n",
            "User32 who has bought car:['Model Y 2022款 改款 后轮驱动版'] : [0.203] : [0.]\n",
            "User33 who has bought car:['Model Y 2022款 改款 后轮驱动版'] : [0.183] : [0.]\n",
            "User34 who has bought car:['Model Y 2022款 改款 后轮驱动版'] : [0.196] : [0.]\n",
            "User35 who has bought car:['Model Y 2022款 改款 后轮驱动版'] : [0.2] : [0.]\n",
            "User36 who has bought car:['Model Y 2022款 改款 后轮驱动版'] : [0.193] : [0.]\n",
            "User37 who has bought car:['Model Y 2022款 改款 后轮驱动版'] : [0.198] : [0.]\n",
            "User38 who has bought car:['Model Y 2022款 改款 后轮驱动版'] : [0.209] : [0.]\n",
            "User39 who has bought car:['Model Y 2022款 改款 后轮驱动版'] : [0.188] : [0.]\n",
            "User40 who has bought car:['Model Y 2022款 改款 后轮驱动版'] : [0.205] : [0.]\n",
            "User41 who has bought car:['Model Y 2022款 改款 后轮驱动版'] : [0.12] : [0.]\n",
            "User42 who has bought car:['Model Y 2022款 改款 后轮驱动版'] : [0.184] : [0.]\n",
            "User43 who has bought car:['Model Y 2022款 改款 后轮驱动版'] : [0.112] : [0.]\n",
            "User44 who has bought car:['Model Y 2022款 改款 后轮驱动版'] : [0.194] : [0.]\n",
            "User45 who has bought car:['Model Y 2022款 改款 后轮驱动版'] : [0.193] : [0.]\n",
            "User46 who has bought car:['Model Y 2022款 改款 后轮驱动版'] : [0.193] : [0.]\n",
            "User47 who has bought car:['Model Y 2022款 改款 后轮驱动版'] : [0.198] : [0.]\n",
            "User48 who has bought car:['Model Y 2022款 改款 后轮驱动版'] : [0.187] : [0.]\n",
            "User49 who has bought car:['Model Y 2022款 改款 后轮驱动版'] : [0.166] : [0.]\n",
            "User50 who has bought car:['Model Y 2022款 改款 后轮驱动版'] : [0.2] : [0.]\n",
            "User51 who has bought car:['Model Y 2022款 改款 后轮驱动版'] : [0.202] : [0.]\n",
            "User52 who has bought car:['Model Y 2022款 改款 后轮驱动版'] : [0.204] : [0.]\n",
            "User53 who has bought car:['Model Y 2022款 改款 后轮驱动版'] : [0.078] : [0.]\n",
            "User54 who has bought car:['Model Y 2022款 改款 后轮驱动版'] : [0.189] : [0.]\n",
            "User55 who has bought car:['Model Y 2022款 改款 后轮驱动版'] : [0.189] : [0.]\n",
            "User56 who has bought car:['Model Y 2022款 改款 后轮驱动版'] : [0.206] : [0.]\n",
            "User57 who has bought car:['Model Y 2022款 改款 后轮驱动版'] : [0.163] : [0.]\n",
            "User58 who has bought car:['Model Y 2022款 改款 后轮驱动版'] : [0.141] : [0.]\n",
            "User59 who has bought car:['Model Y 2022款 改款 后轮驱动版'] : [0.187] : [0.]\n",
            "User60 who has bought car:['Model Y 2022款 改款 后轮驱动版'] : [0.176] : [0.]\n",
            "User61 who has bought car:['Model Y 2022款 改款 后轮驱动版'] : [0.111] : [0.]\n",
            "User62 who has bought car:['Model Y 2022款 改款 后轮驱动版'] : [0.163] : [0.]\n",
            "User63 who has bought car:['Model Y 2022款 改款 后轮驱动版'] : [0.185] : [0.]\n",
            "User64 who has bought car:['Model Y 2022款 改款 后轮驱动版'] : [0.197] : [0.]\n",
            "User65 who has bought car:['Model Y 2022款 改款 后轮驱动版'] : [0.176] : [0.]\n",
            "User66 who has bought car:['Model Y 2022款 改款 后轮驱动版'] : [0.202] : [0.]\n",
            "User67 who has bought car:['Model Y 2022款 改款 后轮驱动版'] : [0.19] : [0.]\n",
            "User68 who has bought car:['Model Y 2022款 改款 后轮驱动版'] : [0.197] : [0.]\n",
            "User69 who has bought car:['Model Y 2022款 改款 后轮驱动版'] : [0.168] : [0.]\n",
            "User70 who has bought car:['Model Y 2022款 改款 后轮驱动版'] : [0.078] : [0.]\n",
            "User71 who has bought car:['Model Y 2022款 改款 后轮驱动版'] : [0.079] : [0.]\n",
            "User72 who has bought car:['Model Y 2022款 改款 后轮驱动版'] : [0.184] : [0.]\n",
            "User73 who has bought car:['Model Y 2022款 改款 后轮驱动版'] : [0.21] : [0.]\n",
            "User74 who has bought car:['Model Y 2022款 改款 后轮驱动版'] : [0.193] : [0.]\n",
            "User75 who has bought car:['Model Y 2022款 改款 后轮驱动版'] : [0.18] : [0.]\n",
            "User76 who has bought car:['Model Y 2022款 改款 后轮驱动版'] : [0.171] : [0.]\n",
            "User77 who has bought car:['Model Y 2022款 改款 长续航全轮驱动版'] : [0.189] : [0.]\n",
            "User78 who has bought car:['Model Y 2022款 改款 长续航全轮驱动版'] : [0.179] : [0.]\n",
            "User79 who has bought car:['Model Y 2022款 改款 长续航全轮驱动版'] : [0.193] : [0.]\n",
            "User80 who has bought car:['Model Y 2022款 改款 长续航全轮驱动版'] : [0.189] : [0.]\n",
            "User81 who has bought car:['Model Y 2022款 改款 长续航全轮驱动版'] : [0.211] : [0.]\n",
            "User82 who has bought car:['Model Y 2022款 改款 长续航全轮驱动版'] : [0.184] : [0.]\n",
            "User83 who has bought car:['Model Y 2022款 改款 长续航全轮驱动版'] : [0.108] : [0.]\n",
            "User84 who has bought car:['Model Y 2022款 Performance高性能全轮驱动版'] : [0.183] : [0.]\n",
            "User85 who has bought car:['Model Y 2022款 Performance高性能全轮驱动版'] : [0.19] : [0.]\n",
            "User86 who has bought car:['Model Y 2022款 Performance高性能全轮驱动版'] : [0.194] : [0.]\n",
            "User87 who has bought car:['Model Y 2022款 Performance高性能全轮驱动版'] : [0.181] : [0.]\n",
            "User88 who has bought car:['Model Y 2022款 Performance高性能全轮驱动版'] : [0.196] : [0.]\n",
            "User89 who has bought car:['Model Y 2022款 Performance高性能全轮驱动版'] : [0.195] : [0.]\n",
            "User90 who has bought car:['Model Y 2022款 Performance高性能全轮驱动版'] : [0.182] : [0.]\n",
            "User91 who has bought car:['Model Y 2022款 Performance高性能全轮驱动版'] : [0.194] : [0.]\n",
            "User92 who has bought car:['Model Y 2022款 Performance高性能全轮驱动版'] : [0.176] : [0.]\n",
            "User93 who has bought car:['Model Y 2022款 Performance高性能全轮驱动版'] : [0.19] : [0.]\n",
            "User94 who has bought car:['Model Y 2022款 Performance高性能全轮驱动版'] : [0.19] : [0.]\n",
            "User95 who has bought car:['AION V 2023款 Plus 70 智领版 三元锂'] : [0.088] : [0.]\n",
            "User96 who has bought car:['AION V 2023款 Plus 70 智领版 三元锂'] : [0.332] : [0.]\n",
            "User97 who has bought car:['AION V 2023款 Plus 70 智领版 三元锂'] : [0.114] : [0.]\n",
            "User98 who has bought car:['AION V 2023款 Plus 70 智领版 三元锂'] : [0.213] : [0.]\n",
            "User99 who has bought car:['AION V 2023款 Plus 70 智领版 三元锂'] : [0.028] : [0.]\n"
          ]
        }
      ]
    },
    {
      "cell_type": "code",
      "source": [
        "new_y_predict_modify = np.concatenate((dsc_up[row_user_dst, 32].reshape(-1, 1), new_car_predict), axis=1)\n",
        "new_y_predict = np.zeros((new_car_predict.shape))\n",
        "new_y_predict [new_car_predict > 0.8] = 1\n",
        "new_y_predict_modify = np.concatenate((new_y_predict_modify, new_y_predict), axis=1)\n",
        "new_y_predict_modify_df = pd.DataFrame(new_y_predict_modify)\n",
        "new_y_predict_modify_df.to_csv(r'/content/new_user_predict_modify.csv', encoding='UTF-8')"
      ],
      "metadata": {
        "id": "O025K9n_DszM"
      },
      "execution_count": null,
      "outputs": []
    },
    {
      "cell_type": "code",
      "source": [
        "new_y_predict [new_car_predict > 0.8].shape"
      ],
      "metadata": {
        "colab": {
          "base_uri": "https://localhost:8080/"
        },
        "id": "A8VcND_HDstD",
        "outputId": "295bdc00-608f-4e0f-b97a-5ef90884e153"
      },
      "execution_count": null,
      "outputs": [
        {
          "output_type": "execute_result",
          "data": {
            "text/plain": [
              "(3196,)"
            ]
          },
          "metadata": {},
          "execution_count": 57
        }
      ]
    },
    {
      "cell_type": "code",
      "source": [
        "dsc_up.shape"
      ],
      "metadata": {
        "colab": {
          "base_uri": "https://localhost:8080/"
        },
        "id": "mhTebN0R4Kor",
        "outputId": "3cc1fbcd-e728-4059-be9c-a1b89e9a1eeb"
      },
      "execution_count": null,
      "outputs": [
        {
          "output_type": "execute_result",
          "data": {
            "text/plain": [
              "(9492, 33)"
            ]
          },
          "metadata": {},
          "execution_count": 58
        }
      ]
    },
    {
      "cell_type": "markdown",
      "source": [
        "修改用户地点，预测用户购买某款车的倾向变化"
      ],
      "metadata": {
        "id": "ztYZ7-9BIvZN"
      }
    },
    {
      "cell_type": "code",
      "source": [
        "row_car_dict = [11]\n",
        "row_user_dst = np.arange(0, num_users)\n",
        "new_car_one = car_unscaled[row_car_dict]\n",
        "new_car = gen_car_vecs(new_car_one, len(row_user_dst))\n",
        "new_user = user_unscaled[row_user_dst]"
      ],
      "metadata": {
        "id": "JsRnWUBADsdf"
      },
      "execution_count": null,
      "outputs": []
    },
    {
      "cell_type": "code",
      "source": [
        "# modify the place of users\n",
        "# 吉林：26 长春：295\n",
        "# 广东：1 广州：115\n",
        "# 广东：1 深圳：195\n",
        "new_user[:, (22,24)] = [(115, 1)]\n",
        "print(new_user[0:10,(22,24)])"
      ],
      "metadata": {
        "colab": {
          "base_uri": "https://localhost:8080/"
        },
        "id": "3ppv4qytJX_H",
        "outputId": "9d737fb9-2f23-4fb8-ff39-6d7b9322b4a1"
      },
      "execution_count": null,
      "outputs": [
        {
          "output_type": "stream",
          "name": "stdout",
          "text": [
            "[[115 1]\n",
            " [115 1]\n",
            " [115 1]\n",
            " [115 1]\n",
            " [115 1]\n",
            " [115 1]\n",
            " [115 1]\n",
            " [115 1]\n",
            " [115 1]\n",
            " [115 1]]\n"
          ]
        }
      ]
    },
    {
      "cell_type": "code",
      "source": [
        "new_user[0]"
      ],
      "metadata": {
        "colab": {
          "base_uri": "https://localhost:8080/"
        },
        "id": "V6KXW_VNYI8I",
        "outputId": "0201d7cd-61b0-4704-8423-f2f23c6749bc"
      },
      "execution_count": null,
      "outputs": [
        {
          "output_type": "execute_result",
          "data": {
            "text/plain": [
              "array([3, 3, 2, 3, 2, 3, 3, 3, 1.0, 0.0, 0.0, 0.0, 0.0, 0.0, 0.0, 0.0,\n",
              "       0.0, 0.0, 0.0, 0.0, 0.0, 100, 115, 12.383482437349597, 1, 0, 7],\n",
              "      dtype=object)"
            ]
          },
          "metadata": {},
          "execution_count": 61
        }
      ]
    },
    {
      "cell_type": "code",
      "source": [
        "new_user_scal = scalerUser.transform(new_user)\n",
        "new_car_scal = scalerCar.transform(new_car)\n",
        "new_car_predict = model.predict([[new_user_scal, new_car_scal]])\n",
        "\n",
        "print(f'target car is {car_dict[row_car_dict, 81]}, car No. is {car_dict[row_car_dict, 82]}')\n",
        "for i in range(min(len(row_user_dst), 100)):\n",
        "    print(\n",
        "        f'User{i} who has bought car:'\n",
        "        f'{dsc_up[row_user_dst, 32].reshape(-1, 1)[i]} : {np.round(new_car_predict[i],3)} : {np.round(new_car_predict[i], 0)}')"
      ],
      "metadata": {
        "colab": {
          "base_uri": "https://localhost:8080/"
        },
        "id": "seRA_0J9LH_c",
        "outputId": "500f692f-852a-4ce8-f8ce-e1483f4c9539"
      },
      "execution_count": null,
      "outputs": [
        {
          "output_type": "stream",
          "name": "stdout",
          "text": [
            "297/297 [==============================] - 1s 2ms/step\n",
            "target car is ['AION V 2023款 Plus 70 智享科技版 磷酸铁锂'], car No. is [11]\n",
            "User0 who has bought car:['影酷 2022款 1.5T 超新星PRO版'] : [0.047] : [0.]\n",
            "User1 who has bought car:['影酷 2022款 1.5T 超新星PRO版'] : [0.043] : [0.]\n",
            "User2 who has bought car:['影酷 2022款 1.5T 超新星PRO版'] : [0.026] : [0.]\n",
            "User3 who has bought car:['影酷 2022款 1.5T 超新星PRO版'] : [0.057] : [0.]\n",
            "User4 who has bought car:['影酷 2022款 1.5T 超新星PRO版'] : [0.069] : [0.]\n",
            "User5 who has bought car:['影酷 2022款 1.5T 超新星PRO版'] : [0.034] : [0.]\n",
            "User6 who has bought car:['影酷 2022款 1.5T 超新星PRO版'] : [0.027] : [0.]\n",
            "User7 who has bought car:['影酷 2022款 1.5T 超新星PRO版'] : [0.02] : [0.]\n",
            "User8 who has bought car:['影酷 2022款 1.5T 超新星PRO版'] : [0.047] : [0.]\n",
            "User9 who has bought car:['影酷 2022款 1.5T 超新星PRO版'] : [0.042] : [0.]\n",
            "User10 who has bought car:['影酷 2022款 1.5T 超新星PRO版'] : [0.046] : [0.]\n",
            "User11 who has bought car:['影酷 2022款 1.5T 超新星PRO版'] : [0.047] : [0.]\n",
            "User12 who has bought car:['影酷 2022款 1.5T 超新星PRO版'] : [0.059] : [0.]\n",
            "User13 who has bought car:['影酷 2022款 1.5T 超新星PRO版'] : [0.032] : [0.]\n",
            "User14 who has bought car:['影酷 2022款 1.5T 超新星PRO版'] : [0.03] : [0.]\n",
            "User15 who has bought car:['影酷 2022款 1.5T 超新星PRO版'] : [0.022] : [0.]\n",
            "User16 who has bought car:['影酷 2022款 1.5T 超新星PRO版'] : [0.068] : [0.]\n",
            "User17 who has bought car:['影酷 2022款 1.5T 超新星PRO版'] : [0.057] : [0.]\n",
            "User18 who has bought car:['影酷 2022款 1.5T 超新星PRO版'] : [0.041] : [0.]\n",
            "User19 who has bought car:['影酷 2022款 1.5T 超新星PRO版'] : [0.034] : [0.]\n",
            "User20 who has bought car:['影酷 2022款 2.0T 中子星PRO版'] : [0.043] : [0.]\n",
            "User21 who has bought car:['影酷 2022款 2.0T 中子星PRO版'] : [0.035] : [0.]\n",
            "User22 who has bought car:['影酷 2022款 2.0T 中子星PRO版'] : [0.041] : [0.]\n",
            "User23 who has bought car:['影酷 2022款 2.0T 中子星MAX版'] : [0.026] : [0.]\n",
            "User24 who has bought car:['影酷 2022款 2.0T 中子星MAX版'] : [0.053] : [0.]\n",
            "User25 who has bought car:['影酷 2022款 2.0ATK 双子星PRO版'] : [0.021] : [0.]\n",
            "User26 who has bought car:['影酷 2022款 2.0ATK 双子星PRO版'] : [0.04] : [0.]\n",
            "User27 who has bought car:['影酷 2022款 2.0ATK 双子星PRO版'] : [0.023] : [0.]\n",
            "User28 who has bought car:['影酷 2022款 2.0ATK 双子星PRO版'] : [0.03] : [0.]\n",
            "User29 who has bought car:['影酷 2022款 2.0ATK 双子星MAX版'] : [0.021] : [0.]\n",
            "User30 who has bought car:['Model Y 2022款 改款 后轮驱动版'] : [0.074] : [0.]\n",
            "User31 who has bought car:['Model Y 2022款 改款 后轮驱动版'] : [0.079] : [0.]\n",
            "User32 who has bought car:['Model Y 2022款 改款 后轮驱动版'] : [0.075] : [0.]\n",
            "User33 who has bought car:['Model Y 2022款 改款 后轮驱动版'] : [0.082] : [0.]\n",
            "User34 who has bought car:['Model Y 2022款 改款 后轮驱动版'] : [0.069] : [0.]\n",
            "User35 who has bought car:['Model Y 2022款 改款 后轮驱动版'] : [0.076] : [0.]\n",
            "User36 who has bought car:['Model Y 2022款 改款 后轮驱动版'] : [0.078] : [0.]\n",
            "User37 who has bought car:['Model Y 2022款 改款 后轮驱动版'] : [0.076] : [0.]\n",
            "User38 who has bought car:['Model Y 2022款 改款 后轮驱动版'] : [0.074] : [0.]\n",
            "User39 who has bought car:['Model Y 2022款 改款 后轮驱动版'] : [0.079] : [0.]\n",
            "User40 who has bought car:['Model Y 2022款 改款 后轮驱动版'] : [0.074] : [0.]\n",
            "User41 who has bought car:['Model Y 2022款 改款 后轮驱动版'] : [0.068] : [0.]\n",
            "User42 who has bought car:['Model Y 2022款 改款 后轮驱动版'] : [0.081] : [0.]\n",
            "User43 who has bought car:['Model Y 2022款 改款 后轮驱动版'] : [0.064] : [0.]\n",
            "User44 who has bought car:['Model Y 2022款 改款 后轮驱动版'] : [0.077] : [0.]\n",
            "User45 who has bought car:['Model Y 2022款 改款 后轮驱动版'] : [0.078] : [0.]\n",
            "User46 who has bought car:['Model Y 2022款 改款 后轮驱动版'] : [0.068] : [0.]\n",
            "User47 who has bought car:['Model Y 2022款 改款 后轮驱动版'] : [0.068] : [0.]\n",
            "User48 who has bought car:['Model Y 2022款 改款 后轮驱动版'] : [0.08] : [0.]\n",
            "User49 who has bought car:['Model Y 2022款 改款 后轮驱动版'] : [0.071] : [0.]\n",
            "User50 who has bought car:['Model Y 2022款 改款 后轮驱动版'] : [0.078] : [0.]\n",
            "User51 who has bought car:['Model Y 2022款 改款 后轮驱动版'] : [0.075] : [0.]\n",
            "User52 who has bought car:['Model Y 2022款 改款 后轮驱动版'] : [0.075] : [0.]\n",
            "User53 who has bought car:['Model Y 2022款 改款 后轮驱动版'] : [0.062] : [0.]\n",
            "User54 who has bought car:['Model Y 2022款 改款 后轮驱动版'] : [0.078] : [0.]\n",
            "User55 who has bought car:['Model Y 2022款 改款 后轮驱动版'] : [0.079] : [0.]\n",
            "User56 who has bought car:['Model Y 2022款 改款 后轮驱动版'] : [0.074] : [0.]\n",
            "User57 who has bought car:['Model Y 2022款 改款 后轮驱动版'] : [0.073] : [0.]\n",
            "User58 who has bought car:['Model Y 2022款 改款 后轮驱动版'] : [0.067] : [0.]\n",
            "User59 who has bought car:['Model Y 2022款 改款 后轮驱动版'] : [0.08] : [0.]\n",
            "User60 who has bought car:['Model Y 2022款 改款 后轮驱动版'] : [0.08] : [0.]\n",
            "User61 who has bought car:['Model Y 2022款 改款 后轮驱动版'] : [0.073] : [0.]\n",
            "User62 who has bought car:['Model Y 2022款 改款 后轮驱动版'] : [0.073] : [0.]\n",
            "User63 who has bought car:['Model Y 2022款 改款 后轮驱动版'] : [0.08] : [0.]\n",
            "User64 who has bought car:['Model Y 2022款 改款 后轮驱动版'] : [0.08] : [0.]\n",
            "User65 who has bought car:['Model Y 2022款 改款 后轮驱动版'] : [0.084] : [0.]\n",
            "User66 who has bought car:['Model Y 2022款 改款 后轮驱动版'] : [0.077] : [0.]\n",
            "User67 who has bought car:['Model Y 2022款 改款 后轮驱动版'] : [0.081] : [0.]\n",
            "User68 who has bought car:['Model Y 2022款 改款 后轮驱动版'] : [0.076] : [0.]\n",
            "User69 who has bought car:['Model Y 2022款 改款 后轮驱动版'] : [0.072] : [0.]\n",
            "User70 who has bought car:['Model Y 2022款 改款 后轮驱动版'] : [0.062] : [0.]\n",
            "User71 who has bought car:['Model Y 2022款 改款 后轮驱动版'] : [0.063] : [0.]\n",
            "User72 who has bought car:['Model Y 2022款 改款 后轮驱动版'] : [0.081] : [0.]\n",
            "User73 who has bought car:['Model Y 2022款 改款 后轮驱动版'] : [0.074] : [0.]\n",
            "User74 who has bought car:['Model Y 2022款 改款 后轮驱动版'] : [0.078] : [0.]\n",
            "User75 who has bought car:['Model Y 2022款 改款 后轮驱动版'] : [0.083] : [0.]\n",
            "User76 who has bought car:['Model Y 2022款 改款 后轮驱动版'] : [0.088] : [0.]\n",
            "User77 who has bought car:['Model Y 2022款 改款 长续航全轮驱动版'] : [0.079] : [0.]\n",
            "User78 who has bought car:['Model Y 2022款 改款 长续航全轮驱动版'] : [0.083] : [0.]\n",
            "User79 who has bought car:['Model Y 2022款 改款 长续航全轮驱动版'] : [0.078] : [0.]\n",
            "User80 who has bought car:['Model Y 2022款 改款 长续航全轮驱动版'] : [0.079] : [0.]\n",
            "User81 who has bought car:['Model Y 2022款 改款 长续航全轮驱动版'] : [0.073] : [0.]\n",
            "User82 who has bought car:['Model Y 2022款 改款 长续航全轮驱动版'] : [0.081] : [0.]\n",
            "User83 who has bought car:['Model Y 2022款 改款 长续航全轮驱动版'] : [0.073] : [0.]\n",
            "User84 who has bought car:['Model Y 2022款 Performance高性能全轮驱动版'] : [0.081] : [0.]\n",
            "User85 who has bought car:['Model Y 2022款 Performance高性能全轮驱动版'] : [0.079] : [0.]\n",
            "User86 who has bought car:['Model Y 2022款 Performance高性能全轮驱动版'] : [0.077] : [0.]\n",
            "User87 who has bought car:['Model Y 2022款 Performance高性能全轮驱动版'] : [0.082] : [0.]\n",
            "User88 who has bought car:['Model Y 2022款 Performance高性能全轮驱动版'] : [0.077] : [0.]\n",
            "User89 who has bought car:['Model Y 2022款 Performance高性能全轮驱动版'] : [0.077] : [0.]\n",
            "User90 who has bought car:['Model Y 2022款 Performance高性能全轮驱动版'] : [0.082] : [0.]\n",
            "User91 who has bought car:['Model Y 2022款 Performance高性能全轮驱动版'] : [0.078] : [0.]\n",
            "User92 who has bought car:['Model Y 2022款 Performance高性能全轮驱动版'] : [0.084] : [0.]\n",
            "User93 who has bought car:['Model Y 2022款 Performance高性能全轮驱动版'] : [0.079] : [0.]\n",
            "User94 who has bought car:['Model Y 2022款 Performance高性能全轮驱动版'] : [0.079] : [0.]\n",
            "User95 who has bought car:['AION V 2023款 Plus 70 智领版 三元锂'] : [0.228] : [0.]\n",
            "User96 who has bought car:['AION V 2023款 Plus 70 智领版 三元锂'] : [0.085] : [0.]\n",
            "User97 who has bought car:['AION V 2023款 Plus 70 智领版 三元锂'] : [0.239] : [0.]\n",
            "User98 who has bought car:['AION V 2023款 Plus 70 智领版 三元锂'] : [0.148] : [0.]\n",
            "User99 who has bought car:['AION V 2023款 Plus 70 智领版 三元锂'] : [0.229] : [0.]\n"
          ]
        }
      ]
    },
    {
      "cell_type": "code",
      "source": [
        "threshold_p = 0.23\n",
        "new_y_predict [new_car_predict > threshold_p].shape"
      ],
      "metadata": {
        "colab": {
          "base_uri": "https://localhost:8080/"
        },
        "id": "Dzw5KdoiLSpN",
        "outputId": "d8ff529a-1780-4ca2-abf2-e03e19831b32"
      },
      "execution_count": null,
      "outputs": [
        {
          "output_type": "execute_result",
          "data": {
            "text/plain": [
              "(460,)"
            ]
          },
          "metadata": {},
          "execution_count": 63
        }
      ]
    },
    {
      "cell_type": "code",
      "source": [
        "num_users"
      ],
      "metadata": {
        "colab": {
          "base_uri": "https://localhost:8080/"
        },
        "id": "NjSDpjbXPq1J",
        "outputId": "0025d254-4538-4519-f18f-56802aae3cfa"
      },
      "execution_count": null,
      "outputs": [
        {
          "output_type": "execute_result",
          "data": {
            "text/plain": [
              "9492"
            ]
          },
          "metadata": {},
          "execution_count": 64
        }
      ]
    },
    {
      "cell_type": "code",
      "source": [
        "new_y_predict_modify = np.concatenate((dsc_up[row_user_dst, 32].reshape(-1, 1), new_car_predict), axis=1)\n",
        "new_y_predict = np.zeros((new_car_predict.shape))\n",
        "new_y_predict [new_car_predict > threshold_p] = 1\n",
        "new_y_predict_modify = np.concatenate((new_y_predict_modify, new_y_predict), axis=1)\n",
        "new_y_predict_modify_df = pd.DataFrame(new_y_predict_modify)\n",
        "new_y_predict_modify_df.to_csv(r'/content/new_user_predict_modify_place.csv', encoding='UTF-8')"
      ],
      "metadata": {
        "id": "VbUaglROaW49"
      },
      "execution_count": null,
      "outputs": []
    },
    {
      "cell_type": "markdown",
      "source": [
        "**others：**"
      ],
      "metadata": {
        "id": "NauogkcV9kuv"
      }
    },
    {
      "cell_type": "code",
      "source": [],
      "metadata": {
        "id": "TpGia9Jn9kWg"
      },
      "execution_count": null,
      "outputs": []
    },
    {
      "cell_type": "code",
      "source": [
        "new_car_predict = np.concatenate((new_car_predict, dsc_up[0:, 30].reshape(-1, 1)), axis=1)\n",
        "new_car_predict_df = pd.DataFrame(new_car_predict)\n",
        "new_car_predict_df.to_csv(r'/content/new_car_predict3.csv', encoding='UTF-8')"
      ],
      "metadata": {
        "id": "ir8FQxgSuBos"
      },
      "execution_count": null,
      "outputs": []
    },
    {
      "cell_type": "code",
      "source": [
        "a = np.array([0,1,2])\n",
        "b = np.array([1,2,3])\n",
        "print(np.dot(a,b))"
      ],
      "metadata": {
        "colab": {
          "base_uri": "https://localhost:8080/"
        },
        "id": "GdCIMoxIZL2D",
        "outputId": "d8ce5779-0791-443b-e38c-27ecf62e0fd5"
      },
      "execution_count": null,
      "outputs": [
        {
          "output_type": "stream",
          "name": "stdout",
          "text": [
            "8\n"
          ]
        }
      ]
    }
  ]
}