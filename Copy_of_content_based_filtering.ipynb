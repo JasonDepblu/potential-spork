{
  "nbformat": 4,
  "nbformat_minor": 0,
  "metadata": {
    "colab": {
      "provenance": [],
      "authorship_tag": "ABX9TyNIvau/clAsOAhJJ9+ofHZL",
      "include_colab_link": true
    },
    "kernelspec": {
      "name": "python3",
      "display_name": "Python 3"
    },
    "language_info": {
      "name": "python"
    },
    "gpuClass": "standard"
  },
  "cells": [
    {
      "cell_type": "markdown",
      "metadata": {
        "id": "view-in-github",
        "colab_type": "text"
      },
      "source": [
        "<a href=\"https://colab.research.google.com/github/JasonDepblu/potential-spork/blob/balaced_data/Copy_of_content_based_filtering.ipynb\" target=\"_parent\"><img src=\"https://colab.research.google.com/assets/colab-badge.svg\" alt=\"Open In Colab\"/></a>"
      ]
    },
    {
      "cell_type": "code",
      "execution_count": 1,
      "metadata": {
        "id": "8vH4YZrHC2En"
      },
      "outputs": [],
      "source": [
        "# %%\n",
        "import time\n",
        "import pandas as pd\n",
        "import numpy as np\n",
        "import random\n",
        "import mpl_toolkits.axisartist as ast\n",
        "from matplotlib import pyplot as plt\n",
        "from mpl_toolkits.mplot3d import Axes3D\n",
        "from tensorflow import keras\n",
        "import tensorflow as tf\n",
        "from keras import layers, models, optimizers\n",
        "from sklearn.model_selection import train_test_split\n",
        "from sklearn.metrics import confusion_matrix\n",
        "from sklearn.metrics import classification_report\n",
        "from sklearn.preprocessing import StandardScaler, MinMaxScaler\n",
        "from sklearn.preprocessing import OneHotEncoder\n",
        "from sklearn.decomposition import PCA\n",
        "import copy"
      ]
    },
    {
      "cell_type": "code",
      "source": [
        "# load the data\n",
        "dsc_up_df = pd.read_csv(\n",
        "    r'/content/dsc_up.csv')\n",
        "car_dict_df = pd.read_csv(\n",
        "    r'/content/car_dict2.csv')\n",
        "\n",
        "dsc_up_df = dsc_up_df.replace({np.NaN: 0})\n",
        "car_dict_df = car_dict_df.replace({np.NaN: 0})\n",
        "\n",
        "dsc_up = dsc_up_df.values\n",
        "car_dict = car_dict_df.values\n",
        "\n",
        "print(dsc_up.shape)\n",
        "print(car_dict.shape)"
      ],
      "metadata": {
        "id": "S-Q9NYd0DIkH",
        "colab": {
          "base_uri": "https://localhost:8080/"
        },
        "outputId": "3717ddaf-f7e7-455e-e49f-c9ffc5d41d88"
      },
      "execution_count": 2,
      "outputs": [
        {
          "output_type": "stream",
          "name": "stdout",
          "text": [
            "(13653, 33)\n",
            "(119, 83)\n"
          ]
        }
      ]
    },
    {
      "cell_type": "code",
      "source": [
        "num_cars = len(car_dict)\n",
        "print(num_cars)"
      ],
      "metadata": {
        "colab": {
          "base_uri": "https://localhost:8080/"
        },
        "id": "PHHkweH9wJbI",
        "outputId": "11fae8db-8b85-4984-85c5-18bf7a2930ed"
      },
      "execution_count": 3,
      "outputs": [
        {
          "output_type": "stream",
          "name": "stdout",
          "text": [
            "119\n"
          ]
        }
      ]
    },
    {
      "cell_type": "code",
      "source": [
        "# balance samples\n",
        "dsc_up_bal = np.empty(shape=(1, dsc_up.shape[1]))\n",
        "\n",
        "for i in range(num_cars):\n",
        "  if len(dsc_up[dsc_up[:, 31] == i]) > 500:\n",
        "    ran_row_bal = np.random.choice(np.arange(len(dsc_up[dsc_up[:, 31] == i])), size=500, replace=False)\n",
        "    dsc_up_bali = dsc_up[dsc_up[:, 31] == i][ran_row_bal]\n",
        "  else:\n",
        "    dsc_up_bali = dsc_up[dsc_up[:, 31] == i]\n",
        "  dsc_up_bal = np.concatenate((dsc_up_bal, dsc_up_bali), axis=0)\n",
        "dsc_up = dsc_up_bal[1:]\n",
        "print(dsc_up.shape)"
      ],
      "metadata": {
        "colab": {
          "base_uri": "https://localhost:8080/"
        },
        "id": "5mbaZipFwxwG",
        "outputId": "6717914a-6381-4e0c-8ed4-0bcbe98e643b"
      },
      "execution_count": 4,
      "outputs": [
        {
          "output_type": "stream",
          "name": "stdout",
          "text": [
            "(10292, 33)\n"
          ]
        }
      ]
    },
    {
      "cell_type": "code",
      "source": [
        "# load the label\n",
        "print(car_dict.shape)\n",
        "print(dsc_up.shape)\n",
        "\n",
        "ys_up = dsc_up[:, 31]\n",
        "print(ys_up)"
      ],
      "metadata": {
        "colab": {
          "base_uri": "https://localhost:8080/"
        },
        "id": "ZNay43VdDXtA",
        "outputId": "bc8f7a6d-2efa-41fa-9d13-26d99f5139ef"
      },
      "execution_count": 5,
      "outputs": [
        {
          "output_type": "stream",
          "name": "stdout",
          "text": [
            "(119, 83)\n",
            "(10292, 33)\n",
            "[0 0 0 ... 118 118 118]\n"
          ]
        }
      ]
    },
    {
      "cell_type": "code",
      "source": [
        "# transfer the label to onehot_code\n",
        "ys = copy.copy(ys_up.reshape(len(ys_up), 1))\n",
        "ys -= 1\n",
        "onehot_encoder = OneHotEncoder(sparse=False)\n",
        "onehot_encoded = onehot_encoder.fit_transform(ys)\n",
        "ys = onehot_encoded\n",
        "print(ys.shape)"
      ],
      "metadata": {
        "colab": {
          "base_uri": "https://localhost:8080/"
        },
        "id": "S17GJ8SJ0adp",
        "outputId": "d8b350a7-edbe-4aa7-d3de-f3abafb985e2"
      },
      "execution_count": 6,
      "outputs": [
        {
          "output_type": "stream",
          "name": "stdout",
          "text": [
            "(10292, 119)\n"
          ]
        }
      ]
    },
    {
      "cell_type": "code",
      "source": [
        "# column of last feature from 0 and +1\n",
        "col_last_feature_car = 80\n",
        "    #76\n",
        "col_last_feature_user = 28\n",
        "car_unscaled = car_dict[:, 1:col_last_feature_car]\n",
        "user_unscaled = dsc_up[:, 1:col_last_feature_user]\n",
        "\n",
        "# generate the gaussian random no. to budget feature\n",
        "mu_budget = 0\n",
        "sigma_budget = 2.5\n",
        "for i in range(len(user_unscaled)):\n",
        "    user_unscaled[i, 23] += random.gauss(mu_budget, sigma_budget)\n",
        "\n",
        "scalerCar = StandardScaler()\n",
        "scalerCar.fit(car_dict[:, 1:col_last_feature_car])\n",
        "car = scalerCar.transform(car_dict[:, 1:col_last_feature_car])\n",
        "\n",
        "scalerUser = StandardScaler()\n",
        "scalerUser.fit(dsc_up[:, 1:col_last_feature_user])\n",
        "user = scalerUser.transform(dsc_up[:, 1:col_last_feature_user])\n",
        "\n",
        "print(np.allclose(car_unscaled.astype(float), scalerCar.inverse_transform(car)))\n",
        "print(np.allclose(user_unscaled.astype(float), scalerUser.inverse_transform(user)))"
      ],
      "metadata": {
        "id": "F1Qh3rh_6v7a",
        "colab": {
          "base_uri": "https://localhost:8080/"
        },
        "outputId": "fcd2b772-5b0a-4b3a-d180-0b52f8d705cc"
      },
      "execution_count": 7,
      "outputs": [
        {
          "output_type": "stream",
          "name": "stdout",
          "text": [
            "True\n",
            "True\n"
          ]
        }
      ]
    },
    {
      "cell_type": "code",
      "source": [
        "# func for generating num_items users of different cars\n",
        "def gen_user_vecs(user_vec, num_items):\n",
        "    \"\"\" given a user vector return:\n",
        "        user predict matrix to match the size of item_vecs \"\"\"\n",
        "    user_vecs = np.tile(user_vec, (1, num_items))\n",
        "    return user_vecs\n",
        "\n",
        "def gen_car_vecs(car_vec, num_users):\n",
        "    car_vecs = np.tile(car_vec, (num_users, 1))\n",
        "    return car_vecs"
      ],
      "metadata": {
        "id": "z3Ze_4Ri6b7w"
      },
      "execution_count": 8,
      "outputs": []
    },
    {
      "cell_type": "code",
      "source": [
        "# pca analysis\n",
        "pca_25 = PCA(n_components=25)\n",
        "print(pca_25)\n",
        "pca_25.fit(user)\n",
        "print(pca_25.explained_variance_ratio_)\n",
        "\n",
        "# %%\n",
        "pca_30 = PCA(n_components=2)\n",
        "print(pca_30)\n",
        "pca_30.fit(car_dict[:, 1:15])\n",
        "print(pca_30.explained_variance_ratio_)\n",
        "c_trans = pca_30.transform(car_dict[:, 1:15])\n",
        "# plt.plot(c_trans[:, 0], c_trans[:, 1], 'ro')\n"
      ],
      "metadata": {
        "colab": {
          "base_uri": "https://localhost:8080/"
        },
        "id": "oBhji5xWngVa",
        "outputId": "8d258a8a-2923-477a-c59e-5a993e556909"
      },
      "execution_count": 9,
      "outputs": [
        {
          "output_type": "stream",
          "name": "stdout",
          "text": [
            "PCA(n_components=25)\n",
            "[0.07814742 0.06376633 0.05658644 0.0512597  0.04890179 0.04240121\n",
            " 0.04004364 0.03903929 0.03843698 0.03761012 0.0372187  0.03627247\n",
            " 0.03568546 0.0350127  0.03470774 0.03388448 0.03333184 0.03298696\n",
            " 0.03252683 0.03177072 0.03011896 0.02988924 0.02852947 0.0259103\n",
            " 0.02553896]\n",
            "PCA(n_components=2)\n",
            "[0.79305611 0.14624711]\n"
          ]
        }
      ]
    },
    {
      "cell_type": "code",
      "source": [
        "# generate num_items users for different cars\n",
        "user_vecs = gen_user_vecs(user, len(car_dict))\n",
        "user_vecs = user_vecs.reshape(-1, user.shape[1])\n",
        "car_vecs = gen_car_vecs(car, len(dsc_up))\n",
        "\n",
        "ys = ys.reshape(-1, 1)\n",
        "print(user_vecs.shape)\n",
        "print(car_vecs.shape)\n",
        "print(ys.shape)"
      ],
      "metadata": {
        "colab": {
          "base_uri": "https://localhost:8080/"
        },
        "id": "JtbYTY3rnxK_",
        "outputId": "e17c7b3f-a2f3-4cae-aeda-b0cce6ee9189"
      },
      "execution_count": 10,
      "outputs": [
        {
          "output_type": "stream",
          "name": "stdout",
          "text": [
            "(1224748, 27)\n",
            "(1224748, 79)\n",
            "(1224748, 1)\n"
          ]
        }
      ]
    },
    {
      "cell_type": "code",
      "source": [
        "ys[ys == 0].shape"
      ],
      "metadata": {
        "colab": {
          "base_uri": "https://localhost:8080/"
        },
        "id": "j_LlJZomsOBU",
        "outputId": "d7fe9a91-a578-4d61-9eb5-810870e26b79"
      },
      "execution_count": 11,
      "outputs": [
        {
          "output_type": "execute_result",
          "data": {
            "text/plain": [
              "(1214456,)"
            ]
          },
          "metadata": {},
          "execution_count": 11
        }
      ]
    },
    {
      "cell_type": "code",
      "source": [
        "# # case 2\n",
        "# car_train, car_test = train_test_split(car_vecs, train_size=0.8, shuffle=True, random_state=2023)\n",
        "# user_train, user_test = train_test_split(user_vecs, train_size=0.8, shuffle=True, random_state=2023)\n",
        "# ys_train, ys_test = train_test_split(ys, train_size=0.8, shuffle=True, random_state=2023)\n",
        "\n",
        "# car_val, car_test = train_test_split(car_test, train_size=0.5, shuffle=True, random_state=2023)\n",
        "# user_val, user_test = train_test_split(user_test, train_size=0.5, shuffle=True, random_state=2023)\n",
        "# ys_val, ys_test = train_test_split(ys_test, train_size=0.5, shuffle=True, random_state=2023)"
      ],
      "metadata": {
        "id": "Exgz6gDNsG0e"
      },
      "execution_count": 12,
      "outputs": []
    },
    {
      "cell_type": "code",
      "source": [
        "randnum = random.randint(0, 100)\n",
        "print(randnum)\n",
        "random.seed(randnum)"
      ],
      "metadata": {
        "colab": {
          "base_uri": "https://localhost:8080/"
        },
        "id": "milRRhMVQKXV",
        "outputId": "bfd72370-5c3b-4e9c-d941-6df669eeb61f"
      },
      "execution_count": 13,
      "outputs": [
        {
          "output_type": "stream",
          "name": "stdout",
          "text": [
            "32\n"
          ]
        }
      ]
    },
    {
      "cell_type": "code",
      "source": [
        "# # case 2\n",
        "# user_train_one = user_train[(ys_train == 1)[:, 0]]\n",
        "# user_train_one = gen_car_vecs(user_train_one, np.ceil(len(car_dict) * 0.3 -1).astype(int))\n",
        "# user_train_zero = user_train[(ys_train == 0)[:, 0]]\n",
        "# user_train = np.concatenate((user_train_zero, user_train_one), axis=0)\n",
        "# random.seed(randnum)\n",
        "# random.shuffle(user_train)\n",
        "# print(user_train.shape)"
      ],
      "metadata": {
        "id": "06DItVnFhowy"
      },
      "execution_count": 14,
      "outputs": []
    },
    {
      "cell_type": "code",
      "source": [
        "# # case 2\n",
        "# car_train_one = car_train[(ys_train == 1)[:, 0]]\n",
        "# car_train_one = gen_car_vecs(car_train_one, np.ceil(len(car_dict) * 0.3 -1).astype(int))\n",
        "# car_train_zero = car_train[(ys_train == 0)[:, 0]]\n",
        "# car_train = np.concatenate((car_train_zero, car_train_one), axis=0)\n",
        "# random.seed(randnum)\n",
        "# random.shuffle(car_train)\n",
        "# print(car_train.shape)"
      ],
      "metadata": {
        "id": "SCElRjrGiCqJ"
      },
      "execution_count": 15,
      "outputs": []
    },
    {
      "cell_type": "code",
      "source": [
        "# # case 2\n",
        "# ys_one = ys_train[(ys_train == 1)[:, 0]]\n",
        "# ys_one = gen_car_vecs(ys_one, np.ceil(len(car_dict) * 0.3 -1).astype(int))\n",
        "# ys_zero = ys_train[(ys_train == 0)[:, 0]]\n",
        "# ys_train = np.concatenate((ys_zero, ys_one), axis=0)\n",
        "# random.seed(randnum)\n",
        "# random.shuffle(ys_train)\n",
        "# print(ys_train.shape)"
      ],
      "metadata": {
        "id": "8IAExZSfiCcW"
      },
      "execution_count": 16,
      "outputs": []
    },
    {
      "cell_type": "code",
      "source": [
        "# user_vecs_one = user_vecs[(ys == 1)[:, 0]]"
      ],
      "metadata": {
        "id": "vekhBc82s5CX"
      },
      "execution_count": 17,
      "outputs": []
    },
    {
      "cell_type": "code",
      "source": [
        "# num_users = user_vecs_one.shape[0]\n",
        "# print(num_users)\n"
      ],
      "metadata": {
        "id": "zAEEnmaPs_96"
      },
      "execution_count": 18,
      "outputs": []
    },
    {
      "cell_type": "code",
      "source": [
        "# user_vecs_zero = user_vecs[(ys == 0)[:, 0]]\n",
        "# num_zeros = user_vecs_zero.shape[0]\n",
        "# print(num_zeros)"
      ],
      "metadata": {
        "id": "ptj2UlkZuC2n"
      },
      "execution_count": 19,
      "outputs": []
    },
    {
      "cell_type": "code",
      "source": [
        "# random.seed(randnum)"
      ],
      "metadata": {
        "id": "0AhtIQYvui-c"
      },
      "execution_count": 20,
      "outputs": []
    },
    {
      "cell_type": "code",
      "source": [
        "# sample_row = np.random.choice(np.arange(num_zeros), size=num_users, replace=False)"
      ],
      "metadata": {
        "id": "wAszpAvxtCW2"
      },
      "execution_count": 21,
      "outputs": []
    },
    {
      "cell_type": "code",
      "source": [
        "# sample_row"
      ],
      "metadata": {
        "id": "XBxdkxGuskpD"
      },
      "execution_count": 22,
      "outputs": []
    },
    {
      "cell_type": "code",
      "source": [
        "# user_vecs_zero = user_vecs_zero[sample_row]\n",
        "# print(user_vecs_zero.shape)"
      ],
      "metadata": {
        "id": "h3MhNu3Eu3_k"
      },
      "execution_count": 23,
      "outputs": []
    },
    {
      "cell_type": "code",
      "source": [
        "# case 3\n",
        "user_vecs_one = user_vecs[(ys == 1)[:, 0]]\n",
        "# user_vecs_one = gen_car_vecs(user_vecs_one, len(car_dict)-1)\n",
        "user_vecs_zero = user_vecs[(ys == 0)[:, 0]]\n",
        "num_users = user_vecs_one.shape[0]\n",
        "num_zeros = user_vecs_zero.shape[0]\n",
        "random.seed(randnum)\n",
        "\n",
        "sample_row = np.random.choice(np.arange(num_zeros), size=np.ceil(num_users * 1.3).astype(int), replace=False)\n",
        "user_vecs_zero = user_vecs_zero[sample_row]\n",
        "user_vecs = np.concatenate((user_vecs_zero, user_vecs_one), axis=0)\n",
        "\n",
        "random.seed(44)\n",
        "shuffle_row = np.random.choice(np.arange(0,len(user_vecs)), len(user_vecs), replace=False)\n",
        "user_vecs = user_vecs[shuffle_row]\n",
        "print(user_vecs.shape)"
      ],
      "metadata": {
        "colab": {
          "base_uri": "https://localhost:8080/"
        },
        "id": "Od4AHZ9ln_Q-",
        "outputId": "2a93267d-160c-4d75-fcd8-7fbe66149af8"
      },
      "execution_count": 24,
      "outputs": [
        {
          "output_type": "stream",
          "name": "stdout",
          "text": [
            "(23672, 27)\n"
          ]
        }
      ]
    },
    {
      "cell_type": "code",
      "source": [
        "# case3\n",
        "car_vecs_one = car_vecs[(ys == 1)[:, 0]]\n",
        "# car_vecs_one = gen_car_vecs(car_vecs_one, len(car_dict)-1)\n",
        "\n",
        "car_vecs_zero = car_vecs[(ys == 0)[:, 0]][sample_row]\n",
        "car_vecs = np.concatenate((car_vecs_zero, car_vecs_one), axis=0)\n",
        "\n",
        "car_vecs = car_vecs[shuffle_row]\n",
        "print(car_vecs.shape)"
      ],
      "metadata": {
        "colab": {
          "base_uri": "https://localhost:8080/"
        },
        "id": "RqhTucG6n69P",
        "outputId": "5b9ff881-bfcc-49bb-974f-ea111b29342d"
      },
      "execution_count": 25,
      "outputs": [
        {
          "output_type": "stream",
          "name": "stdout",
          "text": [
            "(23672, 79)\n"
          ]
        }
      ]
    },
    {
      "cell_type": "code",
      "source": [
        "# case 3\n",
        "ys_one = ys[(ys == 1)[:, 0]]\n",
        "# ys_one = gen_car_vecs(ys_one, len(car_dict)-1)\n",
        "\n",
        "ys_zero = ys[(ys == 0)[:, 0]][sample_row]\n",
        "ys = np.concatenate((ys_zero, ys_one), axis=0)\n",
        "\n",
        "ys = ys[shuffle_row]\n",
        "print(ys.shape)"
      ],
      "metadata": {
        "colab": {
          "base_uri": "https://localhost:8080/"
        },
        "id": "3-HMFlwboBib",
        "outputId": "8f993e7b-8566-43e7-d32e-a56b043fb2eb"
      },
      "execution_count": 26,
      "outputs": [
        {
          "output_type": "stream",
          "name": "stdout",
          "text": [
            "(23672, 1)\n"
          ]
        }
      ]
    },
    {
      "cell_type": "code",
      "source": [
        "print(ys[0:50])"
      ],
      "metadata": {
        "id": "Mx2H8HVTp6CV",
        "colab": {
          "base_uri": "https://localhost:8080/"
        },
        "outputId": "c13b54e8-8fcc-4907-a84c-0a3f2ce5eb36"
      },
      "execution_count": 27,
      "outputs": [
        {
          "output_type": "stream",
          "name": "stdout",
          "text": [
            "[[0.]\n",
            " [0.]\n",
            " [0.]\n",
            " [1.]\n",
            " [1.]\n",
            " [0.]\n",
            " [0.]\n",
            " [1.]\n",
            " [1.]\n",
            " [1.]\n",
            " [0.]\n",
            " [0.]\n",
            " [1.]\n",
            " [0.]\n",
            " [0.]\n",
            " [1.]\n",
            " [0.]\n",
            " [1.]\n",
            " [1.]\n",
            " [0.]\n",
            " [0.]\n",
            " [0.]\n",
            " [0.]\n",
            " [0.]\n",
            " [0.]\n",
            " [0.]\n",
            " [0.]\n",
            " [0.]\n",
            " [0.]\n",
            " [1.]\n",
            " [1.]\n",
            " [0.]\n",
            " [0.]\n",
            " [1.]\n",
            " [1.]\n",
            " [0.]\n",
            " [1.]\n",
            " [0.]\n",
            " [0.]\n",
            " [0.]\n",
            " [0.]\n",
            " [0.]\n",
            " [0.]\n",
            " [1.]\n",
            " [0.]\n",
            " [0.]\n",
            " [0.]\n",
            " [0.]\n",
            " [1.]\n",
            " [0.]]\n"
          ]
        }
      ]
    },
    {
      "cell_type": "code",
      "source": [
        "# case 3\n",
        "car_train, car_test = train_test_split(car_vecs, train_size=0.8, shuffle=True, random_state=2023)\n",
        "user_train, user_test = train_test_split(user_vecs, train_size=0.8, shuffle=True, random_state=2023)\n",
        "ys_train, ys_test = train_test_split(ys, train_size=0.8, shuffle=True, random_state=2023)\n",
        "\n",
        "car_val, car_test = train_test_split(car_test, train_size=0.5, shuffle=True, random_state=2023)\n",
        "user_val, user_test = train_test_split(user_test, train_size=0.5, shuffle=True, random_state=2023)\n",
        "ys_val, ys_test = train_test_split(ys_test, train_size=0.5, shuffle=True, random_state=2023)"
      ],
      "metadata": {
        "id": "uw1qHr9lhWOW"
      },
      "execution_count": 28,
      "outputs": []
    },
    {
      "cell_type": "code",
      "source": [
        "print(f\"cars training data shape:{car_train.shape}\")\n",
        "print(f\"cars validating data shape:{car_val.shape}\")\n",
        "print(f\"cars testing data shape:{car_test.shape}\")\n",
        "\n",
        "print(f\"users training data shape:{user_train.shape}\")\n",
        "print(f\"users validating data shape:{user_val.shape}\")\n",
        "print(f\"users testing data shape:{user_test.shape}\")\n",
        "\n",
        "print(f\"ys training data shape:{ys_train.shape}\")\n",
        "print(f\"ys validating data shape:{ys_val.shape}\")\n",
        "print(f\"ys testing data shape:{ys_test.shape}\")"
      ],
      "metadata": {
        "colab": {
          "base_uri": "https://localhost:8080/"
        },
        "id": "Xnm6wtb2sKKv",
        "outputId": "8e26525d-c126-4571-c918-810ab8d72222"
      },
      "execution_count": 29,
      "outputs": [
        {
          "output_type": "stream",
          "name": "stdout",
          "text": [
            "cars training data shape:(18937, 79)\n",
            "cars validating data shape:(2367, 79)\n",
            "cars testing data shape:(2368, 79)\n",
            "users training data shape:(18937, 27)\n",
            "users validating data shape:(2367, 27)\n",
            "users testing data shape:(2368, 27)\n",
            "ys training data shape:(18937, 1)\n",
            "ys validating data shape:(2367, 1)\n",
            "ys testing data shape:(2368, 1)\n"
          ]
        }
      ]
    },
    {
      "cell_type": "code",
      "source": [
        "num_user_features = col_last_feature_user-1\n",
        "num_car_features = col_last_feature_car-1\n",
        "num_outputs = 32\n",
        "tf.random.set_seed(1)\n",
        "user_NN = tf.keras.models.Sequential([\n",
        "    tf.keras.layers.Dense(256, activation='relu'),\n",
        "    tf.keras.layers.Dense(128, activation='relu'),\n",
        "    tf.keras.layers.Dense(num_outputs, activation='relu'),\n",
        "])\n",
        "car_NN = tf.keras.models.Sequential([\n",
        "    tf.keras.layers.Dense(256, activation='relu'),\n",
        "    tf.keras.layers.Dense(128, activation='relu'),\n",
        "    tf.keras.layers.Dense(num_outputs, activation='relu'),\n",
        "])\n",
        "\n",
        "input_user = tf.keras.layers.Input(shape=(num_user_features))\n",
        "vu = user_NN(input_user)\n",
        "vu = tf.linalg.l2_normalize(vu, axis=1)\n",
        "\n",
        "input_car = tf.keras.layers.Input(shape=(num_car_features))\n",
        "vc = car_NN(input_car)\n",
        "vc = tf.linalg.l2_normalize(vc, axis=1)\n",
        "\n",
        "d_out = tf.keras.layers.Dot(axes=1)([vu, vc])\n",
        "output = tf.keras.layers.Dense(1, activation='sigmoid')(d_out)\n",
        "\n",
        "model = tf.keras.Model([input_user, input_car], output)\n",
        "model.summary()\n",
        "tf.keras.utils.plot_model(model, \"/content/my_model.png\")"
      ],
      "metadata": {
        "colab": {
          "base_uri": "https://localhost:8080/",
          "height": 927
        },
        "id": "bP3DkKKatJyi",
        "outputId": "4045f349-a601-45d7-dfe4-e7ce247951a3"
      },
      "execution_count": 30,
      "outputs": [
        {
          "output_type": "stream",
          "name": "stdout",
          "text": [
            "Model: \"model\"\n",
            "__________________________________________________________________________________________________\n",
            " Layer (type)                   Output Shape         Param #     Connected to                     \n",
            "==================================================================================================\n",
            " input_1 (InputLayer)           [(None, 27)]         0           []                               \n",
            "                                                                                                  \n",
            " input_2 (InputLayer)           [(None, 79)]         0           []                               \n",
            "                                                                                                  \n",
            " sequential (Sequential)        (None, 32)           44192       ['input_1[0][0]']                \n",
            "                                                                                                  \n",
            " sequential_1 (Sequential)      (None, 32)           57504       ['input_2[0][0]']                \n",
            "                                                                                                  \n",
            " tf.math.l2_normalize (TFOpLamb  (None, 32)          0           ['sequential[0][0]']             \n",
            " da)                                                                                              \n",
            "                                                                                                  \n",
            " tf.math.l2_normalize_1 (TFOpLa  (None, 32)          0           ['sequential_1[0][0]']           \n",
            " mbda)                                                                                            \n",
            "                                                                                                  \n",
            " dot (Dot)                      (None, 1)            0           ['tf.math.l2_normalize[0][0]',   \n",
            "                                                                  'tf.math.l2_normalize_1[0][0]'] \n",
            "                                                                                                  \n",
            " dense_6 (Dense)                (None, 1)            2           ['dot[0][0]']                    \n",
            "                                                                                                  \n",
            "==================================================================================================\n",
            "Total params: 101,698\n",
            "Trainable params: 101,698\n",
            "Non-trainable params: 0\n",
            "__________________________________________________________________________________________________\n"
          ]
        },
        {
          "output_type": "execute_result",
          "data": {
            "image/png": "[encoded data removed]",
            "text/plain": [
              "<IPython.core.display.Image object>"
            ]
          },
          "metadata": {},
          "execution_count": 30
        }
      ]
    },
    {
      "cell_type": "code",
      "source": [
        "tf.random.set_seed(1)\n",
        "cost_fn = tf.keras.losses.MeanSquaredError()\n",
        "opt = keras.optimizers.Adam(learning_rate=0.01)\n",
        "model.compile(optimizer=opt, loss=cost_fn)"
      ],
      "metadata": {
        "id": "2gPZmKAitT2h"
      },
      "execution_count": 31,
      "outputs": []
    },
    {
      "cell_type": "code",
      "source": [
        "tf.random.set_seed(1)\n",
        "model.fit([user_train, car_train], ys_train, epochs=8)"
      ],
      "metadata": {
        "colab": {
          "base_uri": "https://localhost:8080/"
        },
        "id": "QXZsutVxtUfw",
        "outputId": "edfc0560-6c66-4377-89cb-b0c53ca463f4"
      },
      "execution_count": 32,
      "outputs": [
        {
          "output_type": "stream",
          "name": "stdout",
          "text": [
            "Epoch 1/8\n",
            "592/592 [==============================] - 7s 8ms/step - loss: 0.1883\n",
            "Epoch 2/8\n",
            "592/592 [==============================] - 4s 6ms/step - loss: 0.1601\n",
            "Epoch 3/8\n",
            "592/592 [==============================] - 5s 8ms/step - loss: 0.1344\n",
            "Epoch 4/8\n",
            "592/592 [==============================] - 5s 9ms/step - loss: 0.1215\n",
            "Epoch 5/8\n",
            "592/592 [==============================] - 4s 7ms/step - loss: 0.1171\n",
            "Epoch 6/8\n",
            "592/592 [==============================] - 4s 7ms/step - loss: 0.1152\n",
            "Epoch 7/8\n",
            "592/592 [==============================] - 4s 6ms/step - loss: 0.1136\n",
            "Epoch 8/8\n",
            "592/592 [==============================] - 3s 6ms/step - loss: 0.1116\n"
          ]
        },
        {
          "output_type": "execute_result",
          "data": {
            "text/plain": [
              "<keras.callbacks.History at 0x7f8e57696730>"
            ]
          },
          "metadata": {},
          "execution_count": 32
        }
      ]
    },
    {
      "cell_type": "code",
      "source": [
        "model.evaluate([user_val, car_val], ys_val)"
      ],
      "metadata": {
        "colab": {
          "base_uri": "https://localhost:8080/"
        },
        "id": "k50a01wBtXr8",
        "outputId": "f522bb4c-4c07-4207-e289-3dea22fa44f1"
      },
      "execution_count": 33,
      "outputs": [
        {
          "output_type": "stream",
          "name": "stdout",
          "text": [
            "74/74 [==============================] - 1s 6ms/step - loss: 0.1124\n"
          ]
        },
        {
          "output_type": "execute_result",
          "data": {
            "text/plain": [
              "0.11238411068916321"
            ]
          },
          "metadata": {},
          "execution_count": 33
        }
      ]
    },
    {
      "cell_type": "code",
      "source": [
        "ys_test.shape"
      ],
      "metadata": {
        "colab": {
          "base_uri": "https://localhost:8080/"
        },
        "id": "1JHYyjPvfPGL",
        "outputId": "ed91fe1a-b5a8-4028-8654-98ea5a942a0c"
      },
      "execution_count": 34,
      "outputs": [
        {
          "output_type": "execute_result",
          "data": {
            "text/plain": [
              "(2368, 1)"
            ]
          },
          "metadata": {},
          "execution_count": 34
        }
      ]
    },
    {
      "cell_type": "code",
      "source": [
        "model.evaluate([user_test[(ys_test == 0)[:, 0]], car_test[(ys_test == 0)[:, 0]]], ys_test[(ys_test == 0)[:, 0]])"
      ],
      "metadata": {
        "colab": {
          "base_uri": "https://localhost:8080/"
        },
        "id": "wWyGJ47d8FsR",
        "outputId": "ff96cc59-7858-45ab-f36d-8fb0fc976cff"
      },
      "execution_count": 35,
      "outputs": [
        {
          "output_type": "stream",
          "name": "stdout",
          "text": [
            "43/43 [==============================] - 0s 3ms/step - loss: 0.1123\n"
          ]
        },
        {
          "output_type": "execute_result",
          "data": {
            "text/plain": [
              "0.11230051517486572"
            ]
          },
          "metadata": {},
          "execution_count": 35
        }
      ]
    },
    {
      "cell_type": "code",
      "source": [
        "model.evaluate([user_test[(ys_test == 1)[:, 0]], car_test[(ys_test == 1)[:, 0]]], ys_test[(ys_test == 1)[:, 0]])"
      ],
      "metadata": {
        "colab": {
          "base_uri": "https://localhost:8080/"
        },
        "id": "wwwbw789IjoX",
        "outputId": "2991a338-1c0b-4536-f32c-3eec5bd17efa"
      },
      "execution_count": 36,
      "outputs": [
        {
          "output_type": "stream",
          "name": "stdout",
          "text": [
            "32/32 [==============================] - 0s 3ms/step - loss: 0.1199\n"
          ]
        },
        {
          "output_type": "execute_result",
          "data": {
            "text/plain": [
              "0.11991053074598312"
            ]
          },
          "metadata": {},
          "execution_count": 36
        }
      ]
    },
    {
      "cell_type": "code",
      "source": [
        "ys_p_test = model.predict([[user_test, car_test]])\n",
        "ys_p_test_vs = np.concatenate((ys_p_test, ys_test), axis=1)\n",
        "ys_test_df = pd.DataFrame(ys_p_test_vs)\n",
        "ys_test_df.to_csv(r'/content/ys_p_test_6epoch.csv', encoding='UTF-8')"
      ],
      "metadata": {
        "colab": {
          "base_uri": "https://localhost:8080/"
        },
        "id": "pR91EXOOtbFv",
        "outputId": "085af2a4-15a8-48a4-dc09-ea7c543ef066"
      },
      "execution_count": 37,
      "outputs": [
        {
          "output_type": "stream",
          "name": "stdout",
          "text": [
            "74/74 [==============================] - 0s 1ms/step\n"
          ]
        }
      ]
    },
    {
      "cell_type": "code",
      "source": [
        "# print the confusion matrix & report\n",
        "print(confusion_matrix(ys_test, np.round(ys_p_test)))\n",
        "print(classification_report(ys_test, np.round(ys_p_test)))"
      ],
      "metadata": {
        "colab": {
          "base_uri": "https://localhost:8080/"
        },
        "id": "xY380Qk3t0Xw",
        "outputId": "a2f4b4de-8a51-4e70-c35d-d68f79fcf4ce"
      },
      "execution_count": 38,
      "outputs": [
        {
          "output_type": "stream",
          "name": "stdout",
          "text": [
            "[[1137  221]\n",
            " [ 136  874]]\n",
            "              precision    recall  f1-score   support\n",
            "\n",
            "         0.0       0.89      0.84      0.86      1358\n",
            "         1.0       0.80      0.87      0.83      1010\n",
            "\n",
            "    accuracy                           0.85      2368\n",
            "   macro avg       0.85      0.85      0.85      2368\n",
            "weighted avg       0.85      0.85      0.85      2368\n",
            "\n"
          ]
        }
      ]
    },
    {
      "cell_type": "code",
      "source": [
        "ys_test[ys_test==0].shape"
      ],
      "metadata": {
        "colab": {
          "base_uri": "https://localhost:8080/"
        },
        "id": "sQ4CArpxdnKe",
        "outputId": "ae0118a6-cdb1-46a0-b504-34f91fc75a46"
      },
      "execution_count": 39,
      "outputs": [
        {
          "output_type": "execute_result",
          "data": {
            "text/plain": [
              "(1358,)"
            ]
          },
          "metadata": {},
          "execution_count": 39
        }
      ]
    },
    {
      "cell_type": "code",
      "source": [
        "ys_p_train = model.predict([[user_train, car_train]])"
      ],
      "metadata": {
        "colab": {
          "base_uri": "https://localhost:8080/"
        },
        "id": "_bhcLBm7A4_m",
        "outputId": "34e981ea-e491-4b2b-cd03-d6d06cba1ab1"
      },
      "execution_count": 40,
      "outputs": [
        {
          "output_type": "stream",
          "name": "stdout",
          "text": [
            "592/592 [==============================] - 1s 2ms/step\n"
          ]
        }
      ]
    },
    {
      "cell_type": "code",
      "source": [
        "# print the confusion matrix & report\n",
        "print(confusion_matrix(ys_train, np.round(ys_p_train)))\n",
        "print(classification_report(ys_train, np.round(ys_p_train)))"
      ],
      "metadata": {
        "colab": {
          "base_uri": "https://localhost:8080/"
        },
        "id": "9BmnL9PnXdCD",
        "outputId": "0c68c27a-287f-4f48-beba-f80d17691469"
      },
      "execution_count": 41,
      "outputs": [
        {
          "output_type": "stream",
          "name": "stdout",
          "text": [
            "[[9093 1633]\n",
            " [ 972 7239]]\n",
            "              precision    recall  f1-score   support\n",
            "\n",
            "         0.0       0.90      0.85      0.87     10726\n",
            "         1.0       0.82      0.88      0.85      8211\n",
            "\n",
            "    accuracy                           0.86     18937\n",
            "   macro avg       0.86      0.86      0.86     18937\n",
            "weighted avg       0.87      0.86      0.86     18937\n",
            "\n"
          ]
        }
      ]
    },
    {
      "cell_type": "markdown",
      "source": [
        "基于某个用户，预测不同的车的购买倾向"
      ],
      "metadata": {
        "id": "JgvnydmXY9fv"
      }
    },
    {
      "cell_type": "code",
      "source": [
        "list = []\n",
        "for i in range(len(dsc_up)):\n",
        "  if dsc_up[i, 31] == 56:\n",
        "    list.append(i)\n",
        "print(list)"
      ],
      "metadata": {
        "colab": {
          "base_uri": "https://localhost:8080/"
        },
        "id": "OvsmShkg4cVk",
        "outputId": "d42c3522-144e-48bb-cb86-74988af752e7"
      },
      "execution_count": 43,
      "outputs": [
        {
          "output_type": "stream",
          "name": "stdout",
          "text": [
            "[5447, 5448, 5449, 5450, 5451, 5452, 5453, 5454, 5455, 5456, 5457, 5458, 5459, 5460, 5461, 5462, 5463, 5464, 5465, 5466, 5467, 5468, 5469, 5470, 5471, 5472, 5473, 5474, 5475, 5476, 5477, 5478, 5479, 5480, 5481, 5482, 5483, 5484, 5485, 5486, 5487, 5488, 5489, 5490, 5491, 5492, 5493, 5494, 5495, 5496, 5497, 5498, 5499, 5500, 5501, 5502]\n"
          ]
        }
      ]
    },
    {
      "cell_type": "code",
      "source": [
        "# predict the new car of new performance for specific user\n",
        "# define the cars and the user\n",
        "row_car_dict = np.arange(0, num_cars) \n",
        "row_user_dst = [5447]\n",
        "new_car = car_unscaled[row_car_dict]\n",
        "new_user = gen_car_vecs(user_unscaled[row_user_dst], len(row_car_dict))\n",
        "\n",
        "# predict the new car of new performance\n",
        "new_user_scal = scalerUser.transform(new_user)\n",
        "new_car_scal = scalerCar.transform(new_car)\n",
        "new_car_predict = model.predict([[new_user_scal, new_car_scal]])\n",
        "print(f'target car is {dsc_up[row_user_dst, 32]}, car No. is {dsc_up[row_user_dst, 31]}')\n",
        "for i in range(len(row_car_dict)):\n",
        "    print(\n",
        "        f'{i} :'\n",
        "        f'{car_dict[row_car_dict, 81].reshape(-1, 1)[i]} : {np.round(new_car_predict[i],3)} : {np.round(new_car_predict[i], 0)}')"
      ],
      "metadata": {
        "colab": {
          "base_uri": "https://localhost:8080/"
        },
        "id": "3FTLt7gHt3zV",
        "outputId": "ede5a8f4-0afe-417a-dad6-0d685836e424"
      },
      "execution_count": 53,
      "outputs": [
        {
          "output_type": "stream",
          "name": "stdout",
          "text": [
            "4/4 [==============================] - 0s 4ms/step\n",
            "target car is ['影酷 2022款 1.5T DCT基本型'], car No. is [56]\n",
            "0 :['影酷 2022款 1.5T 超新星PRO版'] : [0.389] : [0.]\n",
            "1 :['影酷 2022款 2.0T 中子星PRO版'] : [0.153] : [0.]\n",
            "2 :['影酷 2022款 2.0T 中子星MAX版'] : [0.066] : [0.]\n",
            "3 :['影酷 2022款 2.0ATK 双子星PRO版'] : [0.065] : [0.]\n",
            "4 :['影酷 2022款 2.0ATK 双子星MAX版'] : [0.03] : [0.]\n",
            "5 :['Model Y 2022款 改款 后轮驱动版'] : [0.006] : [0.]\n",
            "6 :['Model Y 2022款 改款 长续航全轮驱动版'] : [0.026] : [0.]\n",
            "7 :['Model Y 2022款 Performance高性能全轮驱动版'] : [0.023] : [0.]\n",
            "8 :['AION V 2023款 Plus 70 智领版 三元锂'] : [0.015] : [0.]\n",
            "9 :['AION V 2023款 Plus 70 行政版 三元锂'] : [0.012] : [0.]\n",
            "10 :['AION V 2023款 Plus 70 七座商务版'] : [0.016] : [0.]\n",
            "11 :['AION V 2023款 Plus 70 智享科技版 磷酸铁锂'] : [0.011] : [0.]\n",
            "12 :['AION V 2023款 Plus 70 智享科技版 三元锂'] : [0.011] : [0.]\n",
            "13 :['AION V 2023款 Plus 70 智享七座版 三元锂'] : [0.015] : [0.]\n",
            "14 :['AION V 2023款 Plus 70 超级快充版 三元锂'] : [0.011] : [0.]\n",
            "15 :['AION V 2023款 Plus 80 智领版 三元锂'] : [0.012] : [0.]\n",
            "16 :['AION V 2023款 Plus 80 智享科技版 三元锂'] : [0.008] : [0.]\n",
            "17 :['AION V 2023款 Plus 80 智享七座版 三元锂'] : [0.012] : [0.]\n",
            "18 :['AION V 2023款 Plus 80 行政版 三元锂'] : [0.01] : [0.]\n",
            "19 :['AION V 2023款 Plus 80 领航智驾版 三元锂'] : [0.007] : [0.]\n",
            "20 :['AION V 2023款 Plus 80 领袖版 三元锂'] : [0.007] : [0.]\n",
            "21 :['AION V 2023款 Plus 70 极速快充版 三元锂'] : [0.009] : [0.]\n",
            "22 :['AION V 2023款 Plus 70 智领版 磷酸铁锂'] : [0.015] : [0.]\n",
            "23 :['AION V 2023款 Plus 70 行政版 磷酸铁锂'] : [0.01] : [0.]\n",
            "24 :['问界M5 2022款 四驱旗舰版'] : [0.003] : [0.]\n",
            "25 :['问界M5 2022款 后驱标准版'] : [0.004] : [0.]\n",
            "26 :['问界M5 2022款 四驱性能版'] : [0.003] : [0.]\n",
            "27 :['问界M5 2022款 四驱至臻版'] : [0.003] : [0.]\n",
            "28 :['海豹 2022款 550km 标准续航后驱版尊贵型'] : [0.061] : [0.]\n",
            "29 :['海豹 2022款 700km 长续航后驱版'] : [0.006] : [0.]\n",
            "30 :['海豹 2022款 650km 四驱性能版'] : [0.004] : [0.]\n",
            "31 :['宋PLUS新能源 2021款 DM-i 110KM 旗舰型'] : [0.856] : [1.]\n",
            "32 :['宋PLUS新能源 2021款 DM-i 110KM 旗舰PLUS'] : [0.856] : [1.]\n",
            "33 :['宋PLUS新能源 2021款 DM-i 110KM 旗舰PLUS 5G版'] : [0.051] : [0.]\n",
            "34 :['宋PLUS新能源 2021款 EV 旗舰型'] : [0.652] : [1.]\n",
            "35 :['长安CS75 PLUS 2022款 第二代 1.5T 自动豪华型'] : [0.719] : [1.]\n",
            "36 :['长安CS75 PLUS 2022款 第二代 1.5T 自动尊贵型'] : [0.721] : [1.]\n",
            "37 :['长安CS75 PLUS 2022款 第二代 1.5T 自动尊享型'] : [0.728] : [1.]\n",
            "38 :['长安CS75 PLUS 2022款 第二代 1.5T 自动领航型'] : [0.456] : [0.]\n",
            "39 :['长安CS75 PLUS 2022款 第二代 2.0T 自动尊贵型'] : [0.577] : [1.]\n",
            "40 :['长安CS75 PLUS 2022款 第二代 2.0T 自动领航型'] : [0.317] : [0.]\n",
            "41 :['长安CS75 PLUS 2022款 第二代 2.0T 自动旗舰型'] : [0.375] : [0.]\n",
            "42 :['长安CS75 PLUS 2022款 1.5T 自动精英型'] : [0.3] : [0.]\n",
            "43 :['长安CS75 PLUS 2022款 1.5T 自动豪华型'] : [0.743] : [1.]\n",
            "44 :['长安CS75 PLUS 2022款 1.5T 自动尊贵型'] : [0.748] : [1.]\n",
            "45 :['长安CS75 PLUS 2022款 2.0T 自动领航型'] : [0.73] : [1.]\n",
            "46 :['长安CS75 PLUS 2022款 2.0T 自动旗舰型'] : [0.83] : [1.]\n",
            "47 :['长安CS75 PLUS 2021款 1.5T 手动豪华型'] : [0.307] : [0.]\n",
            "48 :['长安CS75 PLUS 2021款 1.5T 自动精英型'] : [0.293] : [0.]\n",
            "49 :['长安CS75 PLUS 2021款 2.0T 自动旗舰型'] : [0.831] : [1.]\n",
            "50 :['长安CS75 PLUS 2020款 1.5T 手动豪华型'] : [0.682] : [1.]\n",
            "51 :['长安CS75 PLUS 2020款 1.5T 自动精英型'] : [0.706] : [1.]\n",
            "52 :['长安CS75 PLUS 2020款 1.5T 自动豪华型'] : [0.818] : [1.]\n",
            "53 :['长安CS75 PLUS 2020款 1.5T 自动尊贵型'] : [0.828] : [1.]\n",
            "54 :['长安CS75 PLUS 2020款 2.0T 自动领航型'] : [0.814] : [1.]\n",
            "55 :['长安CS75 PLUS 2020款 2.0T 自动旗舰型'] : [0.831] : [1.]\n",
            "56 :['影酷 2022款 1.5T DCT基本型'] : [0.728] : [1.]\n",
            "57 :['AION V 2022款 Plus 70 智领版 三元锂'] : [0.025] : [0.]\n",
            "58 :['AION V 2022款 Plus 80 领袖版 三元锂'] : [0.01] : [0.]\n",
            "59 :['AION V 2021款 Plus 70 智领版 磷酸铁锂'] : [0.024] : [0.]\n",
            "60 :['AION V 2021款 Plus 70 智享科技版 磷酸铁锂'] : [0.019] : [0.]\n",
            "61 :['AION V 2021款 Plus 70 超级快充版 三元锂'] : [0.012] : [0.]\n",
            "62 :['AION V 2021款 Plus 80 智领版 三元锂'] : [0.02] : [0.]\n",
            "63 :['AION V 2021款 Plus 80 智享科技版 三元锂'] : [0.013] : [0.]\n",
            "64 :['AION V 2021款 Plus 80 领航智驾版 三元锂'] : [0.012] : [0.]\n",
            "65 :['AION V 2021款 Plus 90 超长续航版 三元锂'] : [0.007] : [0.]\n",
            "66 :['星越L 2021款 2.0TD DCT EVO两驱智尊型'] : [0.856] : [1.]\n",
            "67 :['星越L 2021款 2.0TD DCT EVO两驱旗舰型'] : [0.856] : [1.]\n",
            "68 :['星越L 2021款 2.0TD 高功自动四驱尊贵型'] : [0.845] : [1.]\n",
            "69 :['星越L 2021款 2.0TD 高功自动四驱旗舰型'] : [0.856] : [1.]\n",
            "70 :['海豹 2022款 550km 标准续航后驱版精英型'] : [0.139] : [0.]\n",
            "71 :['宋PLUS新能源 2021款 DM-i 51KM 尊贵型'] : [0.856] : [1.]\n",
            "72 :['宋PLUS新能源 2021款 DM-i 51KM 尊荣型'] : [0.856] : [1.]\n",
            "73 :['宋PLUS新能源 2021款 DM-i 100KM 四驱旗舰PLUS'] : [0.278] : [0.]\n",
            "74 :['宋PLUS新能源 2021款 DM-i 100KM 四驱旗舰PLUS 5G版'] : [0.016] : [0.]\n",
            "75 :['宋PLUS新能源 2021款 EV 尊贵型'] : [0.703] : [1.]\n",
            "76 :['长安CS75 PLUS 2021款 1.5T 自动先锋型'] : [0.299] : [0.]\n",
            "77 :['长安CS75 PLUS 2021款 1.5T 自动豪华型'] : [0.743] : [1.]\n",
            "78 :['长安CS75 PLUS 2021款 1.5T 自动尊贵型'] : [0.749] : [1.]\n",
            "79 :['长安CS75 PLUS 2021款 2.0T 自动领航型'] : [0.742] : [1.]\n",
            "80 :['AION V 2022款 Plus 70 行政版 磷酸铁锂'] : [0.02] : [0.]\n",
            "81 :['AION V 2022款 Plus 70 行政版 三元锂'] : [0.022] : [0.]\n",
            "82 :['AION V 2022款 Plus 70 智享科技版 三元锂'] : [0.02] : [0.]\n",
            "83 :['AION V 2022款 Plus 80 行政版 三元锂'] : [0.014] : [0.]\n",
            "84 :['AION V 2021款 进化版 70 智领版'] : [0.035] : [0.]\n",
            "85 :['AION V 2021款 进化版 70 智享科技版'] : [0.036] : [0.]\n",
            "86 :['AION V 2021款 进化版 80 智领版'] : [0.027] : [0.]\n",
            "87 :['AION V 2021款 进化版 80 智享科技版'] : [0.012] : [0.]\n",
            "88 :['AION V 2021款 进化版 80 MAX版'] : [0.006] : [0.]\n",
            "89 :['AION V 2020款 70 智领版'] : [0.029] : [0.]\n",
            "90 :['AION V 2020款 70 畅享健康版'] : [0.025] : [0.]\n",
            "91 :['AION V 2020款 70 智享科技版'] : [0.032] : [0.]\n",
            "92 :['AION V 2020款 70 悦享智驾版'] : [0.03] : [0.]\n",
            "93 :['AION V 2020款 70 驾享智尊版'] : [0.029] : [0.]\n",
            "94 :['AION V 2020款 70 PLUS 智领版'] : [0.035] : [0.]\n",
            "95 :['AION V 2020款 80 智领版'] : [0.023] : [0.]\n",
            "96 :['AION V 2020款 80 畅享健康版'] : [0.02] : [0.]\n",
            "97 :['AION V 2020款 80 智享科技版'] : [0.016] : [0.]\n",
            "98 :['AION V 2020款 80 悦享智驾版'] : [0.023] : [0.]\n",
            "99 :['AION V 2020款 80 驾享智尊版'] : [0.016] : [0.]\n",
            "100 :['AION V 2020款 80 MAX版'] : [0.006] : [0.]\n",
            "101 :['星越L 2022款 1.5T 雷神Hi·X油电混动版 Super迅'] : [0.856] : [1.]\n",
            "102 :['星越L 2022款 1.5T 雷神Hi·X油电混动版 Super睿'] : [0.856] : [1.]\n",
            "103 :['星越L 2021款 2.0TD DCT EVO两驱舒适型'] : [0.733] : [1.]\n",
            "104 :['星越L 2021款 2.0TD DCT EVO两驱豪华型'] : [0.771] : [1.]\n",
            "105 :['星越L 2021款 2.0TD DCT EVO两驱尊贵型'] : [0.856] : [1.]\n",
            "106 :['Model Y 2022款 后轮驱动版'] : [0.006] : [0.]\n",
            "107 :['Model Y 2022款 长续航全轮驱动版'] : [0.026] : [0.]\n",
            "108 :['Model Y 2021款 Performance高性能全轮驱动版'] : [0.026] : [0.]\n",
            "109 :['Model Y 2021款 标准续航后驱版'] : [0.005] : [0.]\n",
            "110 :['Model Y 2021款 长续航全轮驱动版'] : [0.021] : [0.]\n",
            "111 :['Model Y 2021款 长续航全轮驱动版 3D7'] : [0.021] : [0.]\n",
            "112 :['Model Y 2021款 改款 长续航全轮驱动版 3D5'] : [0.019] : [0.]\n",
            "113 :['Model Y 2021款 改款二 长续航全轮驱动版'] : [0.023] : [0.]\n",
            "114 :['问界M5 2022款 M5e 两驱纯电基本型'] : [0.005] : [0.]\n",
            "115 :['问界M5 2022款 M5e 四驱纯电基本型'] : [0.032] : [0.]\n",
            "116 :['拿铁DHT-PHEV 2022款 1.5T 两驱大杯'] : [0.005] : [0.]\n",
            "117 :['拿铁DHT-PHEV 2022款 1.5T 两驱超大杯'] : [0.003] : [0.]\n",
            "118 :['拿铁DHT-PHEV 2022款 1.5T 四驱超大杯'] : [0.004] : [0.]\n"
          ]
        }
      ]
    },
    {
      "cell_type": "code",
      "source": [
        "new_y_predict = np.zeros((new_car_predict.shape))\n",
        "new_y_predict [new_car_predict > 0.5] = 1\n",
        "new_y_true = np.zeros((new_y_predict.shape))\n",
        "new_y_true[row_car_dict == dsc_up[row_user_dst, 31]] = 1\n",
        "\n",
        "print(confusion_matrix(new_y_true, new_y_predict))\n",
        "print(classification_report(new_y_true, new_y_predict))\n"
      ],
      "metadata": {
        "colab": {
          "base_uri": "https://localhost:8080/"
        },
        "id": "6x8FD7Sdt4bC",
        "outputId": "3b567eb9-7069-477e-8fba-0e86b6419cdb"
      },
      "execution_count": 54,
      "outputs": [
        {
          "output_type": "stream",
          "name": "stdout",
          "text": [
            "[[85 33]\n",
            " [ 0  1]]\n",
            "              precision    recall  f1-score   support\n",
            "\n",
            "         0.0       1.00      0.72      0.84       118\n",
            "         1.0       0.03      1.00      0.06         1\n",
            "\n",
            "    accuracy                           0.72       119\n",
            "   macro avg       0.51      0.86      0.45       119\n",
            "weighted avg       0.99      0.72      0.83       119\n",
            "\n"
          ]
        }
      ]
    },
    {
      "cell_type": "code",
      "source": [
        "dsc_up[row_user_dst, 31]"
      ],
      "metadata": {
        "colab": {
          "base_uri": "https://localhost:8080/"
        },
        "id": "-WY3LkDbADbg",
        "outputId": "3c8825fa-3b35-4bc0-eec0-2fbb80c918cc"
      },
      "execution_count": 46,
      "outputs": [
        {
          "output_type": "execute_result",
          "data": {
            "text/plain": [
              "array([32], dtype=object)"
            ]
          },
          "metadata": {},
          "execution_count": 46
        }
      ]
    },
    {
      "cell_type": "code",
      "source": [
        "new_y_predict_vs = np.concatenate((new_y_predict, new_y_true), axis=1)\n",
        "new_y_predict_vs = np.concatenate((new_car_predict, new_y_predict_vs), axis=1)\n",
        "new_y_predict_df = pd.DataFrame(new_y_predict_vs)\n",
        "new_y_predict_df.to_csv(r'/content/new_car_predict_vs.csv', encoding='UTF-8')"
      ],
      "metadata": {
        "id": "gplApG3yjI9P"
      },
      "execution_count": 47,
      "outputs": []
    },
    {
      "cell_type": "markdown",
      "source": [
        "基于某款车预测不同用户的购买倾向"
      ],
      "metadata": {
        "id": "MzhVNUg0Y0vr"
      }
    },
    {
      "cell_type": "code",
      "source": [
        "row_car_dict = [56]\n",
        "row_user_dst = np.arange(0, num_users)\n",
        "new_car = gen_car_vecs(car_unscaled[row_car_dict], len(row_user_dst))\n",
        "new_user = user_unscaled[row_user_dst]\n",
        "\n",
        "new_user_scal = scalerUser.transform(new_user)\n",
        "new_car_scal = scalerCar.transform(new_car)\n",
        "new_car_predict = model.predict([[new_user_scal, new_car_scal]])\n",
        "\n",
        "print(f'target car is {car_dict[row_car_dict, 81]}, car No. is {car_dict[row_car_dict, 82]}')\n",
        "for i in range(min(len(row_user_dst), 200)):\n",
        "    print(\n",
        "        f'User{i} who has bought car:'\n",
        "        f'{dsc_up[row_user_dst, 32].reshape(-1, 1)[i]} : {np.round(new_car_predict[i],3)} : {np.round(new_car_predict[i], 0)}')"
      ],
      "metadata": {
        "colab": {
          "base_uri": "https://localhost:8080/"
        },
        "id": "bIjPzfT7t7uL",
        "outputId": "6fd6238a-7ff5-4d80-e977-d48fffebde73"
      },
      "execution_count": 74,
      "outputs": [
        {
          "output_type": "stream",
          "name": "stdout",
          "text": [
            "322/322 [==============================] - 0s 1ms/step\n",
            "target car is ['影酷 2022款 1.5T DCT基本型'], car No. is [56]\n",
            "User0 who has bought car:['影酷 2022款 1.5T 超新星PRO版'] : [0.856] : [1.]\n",
            "User1 who has bought car:['影酷 2022款 1.5T 超新星PRO版'] : [0.819] : [1.]\n",
            "User2 who has bought car:['影酷 2022款 1.5T 超新星PRO版'] : [0.856] : [1.]\n",
            "User3 who has bought car:['影酷 2022款 1.5T 超新星PRO版'] : [0.78] : [1.]\n",
            "User4 who has bought car:['影酷 2022款 1.5T 超新星PRO版'] : [0.856] : [1.]\n",
            "User5 who has bought car:['影酷 2022款 1.5T 超新星PRO版'] : [0.823] : [1.]\n",
            "User6 who has bought car:['影酷 2022款 1.5T 超新星PRO版'] : [0.781] : [1.]\n",
            "User7 who has bought car:['影酷 2022款 1.5T 超新星PRO版'] : [0.81] : [1.]\n",
            "User8 who has bought car:['影酷 2022款 1.5T 超新星PRO版'] : [0.843] : [1.]\n",
            "User9 who has bought car:['影酷 2022款 1.5T 超新星PRO版'] : [0.818] : [1.]\n",
            "User10 who has bought car:['影酷 2022款 1.5T 超新星PRO版'] : [0.856] : [1.]\n",
            "User11 who has bought car:['影酷 2022款 1.5T 超新星PRO版'] : [0.856] : [1.]\n",
            "User12 who has bought car:['影酷 2022款 1.5T 超新星PRO版'] : [0.845] : [1.]\n",
            "User13 who has bought car:['影酷 2022款 1.5T 超新星PRO版'] : [0.774] : [1.]\n",
            "User14 who has bought car:['影酷 2022款 1.5T 超新星PRO版'] : [0.856] : [1.]\n",
            "User15 who has bought car:['影酷 2022款 1.5T 超新星PRO版'] : [0.52] : [1.]\n",
            "User16 who has bought car:['影酷 2022款 1.5T 超新星PRO版'] : [0.856] : [1.]\n",
            "User17 who has bought car:['影酷 2022款 1.5T 超新星PRO版'] : [0.815] : [1.]\n",
            "User18 who has bought car:['影酷 2022款 1.5T 超新星PRO版'] : [0.689] : [1.]\n",
            "User19 who has bought car:['影酷 2022款 1.5T 超新星PRO版'] : [0.856] : [1.]\n",
            "User20 who has bought car:['影酷 2022款 2.0T 中子星PRO版'] : [0.385] : [0.]\n",
            "User21 who has bought car:['影酷 2022款 2.0T 中子星PRO版'] : [0.837] : [1.]\n",
            "User22 who has bought car:['影酷 2022款 2.0T 中子星PRO版'] : [0.767] : [1.]\n",
            "User23 who has bought car:['影酷 2022款 2.0T 中子星MAX版'] : [0.792] : [1.]\n",
            "User24 who has bought car:['影酷 2022款 2.0T 中子星MAX版'] : [0.419] : [0.]\n",
            "User25 who has bought car:['影酷 2022款 2.0ATK 双子星PRO版'] : [0.082] : [0.]\n",
            "User26 who has bought car:['影酷 2022款 2.0ATK 双子星PRO版'] : [0.27] : [0.]\n",
            "User27 who has bought car:['影酷 2022款 2.0ATK 双子星PRO版'] : [0.26] : [0.]\n",
            "User28 who has bought car:['影酷 2022款 2.0ATK 双子星PRO版'] : [0.205] : [0.]\n",
            "User29 who has bought car:['影酷 2022款 2.0ATK 双子星MAX版'] : [0.136] : [0.]\n",
            "User30 who has bought car:['Model Y 2022款 改款 后轮驱动版'] : [0.022] : [0.]\n",
            "User31 who has bought car:['Model Y 2022款 改款 后轮驱动版'] : [0.022] : [0.]\n",
            "User32 who has bought car:['Model Y 2022款 改款 后轮驱动版'] : [0.022] : [0.]\n",
            "User33 who has bought car:['Model Y 2022款 改款 后轮驱动版'] : [0.022] : [0.]\n",
            "User34 who has bought car:['Model Y 2022款 改款 后轮驱动版'] : [0.01] : [0.]\n",
            "User35 who has bought car:['Model Y 2022款 改款 后轮驱动版'] : [0.022] : [0.]\n",
            "User36 who has bought car:['Model Y 2022款 改款 后轮驱动版'] : [0.017] : [0.]\n",
            "User37 who has bought car:['Model Y 2022款 改款 后轮驱动版'] : [0.018] : [0.]\n",
            "User38 who has bought car:['Model Y 2022款 改款 后轮驱动版'] : [0.019] : [0.]\n",
            "User39 who has bought car:['Model Y 2022款 改款 后轮驱动版'] : [0.022] : [0.]\n",
            "User40 who has bought car:['Model Y 2022款 改款 后轮驱动版'] : [0.016] : [0.]\n",
            "User41 who has bought car:['Model Y 2022款 改款 后轮驱动版'] : [0.008] : [0.]\n",
            "User42 who has bought car:['Model Y 2022款 改款 后轮驱动版'] : [0.022] : [0.]\n",
            "User43 who has bought car:['Model Y 2022款 改款 后轮驱动版'] : [0.01] : [0.]\n",
            "User44 who has bought car:['Model Y 2022款 改款 后轮驱动版'] : [0.022] : [0.]\n",
            "User45 who has bought car:['Model Y 2022款 改款 后轮驱动版'] : [0.022] : [0.]\n",
            "User46 who has bought car:['Model Y 2022款 改款 后轮驱动版'] : [0.014] : [0.]\n",
            "User47 who has bought car:['Model Y 2022款 改款 后轮驱动版'] : [0.013] : [0.]\n",
            "User48 who has bought car:['Model Y 2022款 改款 后轮驱动版'] : [0.021] : [0.]\n",
            "User49 who has bought car:['Model Y 2022款 改款 后轮驱动版'] : [0.021] : [0.]\n",
            "User50 who has bought car:['Model Y 2022款 改款 后轮驱动版'] : [0.015] : [0.]\n",
            "User51 who has bought car:['Model Y 2022款 改款 后轮驱动版'] : [0.022] : [0.]\n",
            "User52 who has bought car:['Model Y 2022款 改款 后轮驱动版'] : [0.022] : [0.]\n",
            "User53 who has bought car:['Model Y 2022款 改款 后轮驱动版'] : [0.022] : [0.]\n",
            "User54 who has bought car:['Model Y 2022款 改款 后轮驱动版'] : [0.008] : [0.]\n",
            "User55 who has bought car:['Model Y 2022款 改款 后轮驱动版'] : [0.004] : [0.]\n",
            "User56 who has bought car:['Model Y 2022款 改款 后轮驱动版'] : [0.022] : [0.]\n",
            "User57 who has bought car:['Model Y 2022款 改款 后轮驱动版'] : [0.022] : [0.]\n",
            "User58 who has bought car:['Model Y 2022款 改款 后轮驱动版'] : [0.004] : [0.]\n",
            "User59 who has bought car:['Model Y 2022款 改款 后轮驱动版'] : [0.022] : [0.]\n",
            "User60 who has bought car:['Model Y 2022款 改款 后轮驱动版'] : [0.02] : [0.]\n",
            "User61 who has bought car:['Model Y 2022款 改款 后轮驱动版'] : [0.003] : [0.]\n",
            "User62 who has bought car:['Model Y 2022款 改款 后轮驱动版'] : [0.007] : [0.]\n",
            "User63 who has bought car:['Model Y 2022款 改款 后轮驱动版'] : [0.022] : [0.]\n",
            "User64 who has bought car:['Model Y 2022款 改款 后轮驱动版'] : [0.01] : [0.]\n",
            "User65 who has bought car:['Model Y 2022款 改款 后轮驱动版'] : [0.012] : [0.]\n",
            "User66 who has bought car:['Model Y 2022款 改款 后轮驱动版'] : [0.022] : [0.]\n",
            "User67 who has bought car:['Model Y 2022款 改款 后轮驱动版'] : [0.015] : [0.]\n",
            "User68 who has bought car:['Model Y 2022款 改款 后轮驱动版'] : [0.016] : [0.]\n",
            "User69 who has bought car:['Model Y 2022款 改款 后轮驱动版'] : [0.017] : [0.]\n",
            "User70 who has bought car:['Model Y 2022款 改款 后轮驱动版'] : [0.006] : [0.]\n",
            "User71 who has bought car:['Model Y 2022款 改款 后轮驱动版'] : [0.011] : [0.]\n",
            "User72 who has bought car:['Model Y 2022款 改款 后轮驱动版'] : [0.009] : [0.]\n",
            "User73 who has bought car:['Model Y 2022款 改款 后轮驱动版'] : [0.022] : [0.]\n",
            "User74 who has bought car:['Model Y 2022款 改款 后轮驱动版'] : [0.016] : [0.]\n",
            "User75 who has bought car:['Model Y 2022款 改款 后轮驱动版'] : [0.009] : [0.]\n",
            "User76 who has bought car:['Model Y 2022款 改款 后轮驱动版'] : [0.005] : [0.]\n",
            "User77 who has bought car:['Model Y 2022款 改款 长续航全轮驱动版'] : [0.022] : [0.]\n",
            "User78 who has bought car:['Model Y 2022款 改款 长续航全轮驱动版'] : [0.022] : [0.]\n",
            "User79 who has bought car:['Model Y 2022款 改款 长续航全轮驱动版'] : [0.022] : [0.]\n",
            "User80 who has bought car:['Model Y 2022款 改款 长续航全轮驱动版'] : [0.022] : [0.]\n",
            "User81 who has bought car:['Model Y 2022款 改款 长续航全轮驱动版'] : [0.022] : [0.]\n",
            "User82 who has bought car:['Model Y 2022款 改款 长续航全轮驱动版'] : [0.022] : [0.]\n",
            "User83 who has bought car:['Model Y 2022款 改款 长续航全轮驱动版'] : [0.012] : [0.]\n",
            "User84 who has bought car:['Model Y 2022款 Performance高性能全轮驱动版'] : [0.022] : [0.]\n",
            "User85 who has bought car:['Model Y 2022款 Performance高性能全轮驱动版'] : [0.022] : [0.]\n",
            "User86 who has bought car:['Model Y 2022款 Performance高性能全轮驱动版'] : [0.022] : [0.]\n",
            "User87 who has bought car:['Model Y 2022款 Performance高性能全轮驱动版'] : [0.022] : [0.]\n",
            "User88 who has bought car:['Model Y 2022款 Performance高性能全轮驱动版'] : [0.022] : [0.]\n",
            "User89 who has bought car:['Model Y 2022款 Performance高性能全轮驱动版'] : [0.022] : [0.]\n",
            "User90 who has bought car:['Model Y 2022款 Performance高性能全轮驱动版'] : [0.022] : [0.]\n",
            "User91 who has bought car:['Model Y 2022款 Performance高性能全轮驱动版'] : [0.022] : [0.]\n",
            "User92 who has bought car:['Model Y 2022款 Performance高性能全轮驱动版'] : [0.022] : [0.]\n",
            "User93 who has bought car:['Model Y 2022款 Performance高性能全轮驱动版'] : [0.022] : [0.]\n",
            "User94 who has bought car:['Model Y 2022款 Performance高性能全轮驱动版'] : [0.022] : [0.]\n",
            "User95 who has bought car:['AION V 2023款 Plus 70 智领版 三元锂'] : [0.465] : [0.]\n",
            "User96 who has bought car:['AION V 2023款 Plus 70 智领版 三元锂'] : [0.013] : [0.]\n",
            "User97 who has bought car:['AION V 2023款 Plus 70 智领版 三元锂'] : [0.011] : [0.]\n",
            "User98 who has bought car:['AION V 2023款 Plus 70 智领版 三元锂'] : [0.057] : [0.]\n",
            "User99 who has bought car:['AION V 2023款 Plus 70 智领版 三元锂'] : [0.007] : [0.]\n",
            "User100 who has bought car:['AION V 2023款 Plus 70 智领版 三元锂'] : [0.016] : [0.]\n",
            "User101 who has bought car:['AION V 2023款 Plus 70 智领版 三元锂'] : [0.041] : [0.]\n",
            "User102 who has bought car:['AION V 2023款 Plus 70 智领版 三元锂'] : [0.064] : [0.]\n",
            "User103 who has bought car:['AION V 2023款 Plus 70 智领版 三元锂'] : [0.009] : [0.]\n",
            "User104 who has bought car:['AION V 2023款 Plus 70 智领版 三元锂'] : [0.08] : [0.]\n",
            "User105 who has bought car:['AION V 2023款 Plus 70 智领版 三元锂'] : [0.008] : [0.]\n",
            "User106 who has bought car:['AION V 2023款 Plus 70 智领版 三元锂'] : [0.765] : [1.]\n",
            "User107 who has bought car:['AION V 2023款 Plus 70 智领版 三元锂'] : [0.012] : [0.]\n",
            "User108 who has bought car:['AION V 2023款 Plus 70 行政版 三元锂'] : [0.005] : [0.]\n",
            "User109 who has bought car:['AION V 2023款 Plus 70 行政版 三元锂'] : [0.007] : [0.]\n",
            "User110 who has bought car:['AION V 2023款 Plus 70 行政版 三元锂'] : [0.006] : [0.]\n",
            "User111 who has bought car:['AION V 2023款 Plus 70 行政版 三元锂'] : [0.203] : [0.]\n",
            "User112 who has bought car:['AION V 2023款 Plus 70 行政版 三元锂'] : [0.005] : [0.]\n",
            "User113 who has bought car:['AION V 2023款 Plus 70 行政版 三元锂'] : [0.012] : [0.]\n",
            "User114 who has bought car:['AION V 2023款 Plus 70 行政版 三元锂'] : [0.134] : [0.]\n",
            "User115 who has bought car:['AION V 2023款 Plus 70 行政版 三元锂'] : [0.01] : [0.]\n",
            "User116 who has bought car:['AION V 2023款 Plus 70 行政版 三元锂'] : [0.003] : [0.]\n",
            "User117 who has bought car:['AION V 2023款 Plus 70 行政版 三元锂'] : [0.011] : [0.]\n",
            "User118 who has bought car:['AION V 2023款 Plus 70 行政版 三元锂'] : [0.018] : [0.]\n",
            "User119 who has bought car:['AION V 2023款 Plus 70 行政版 三元锂'] : [0.007] : [0.]\n",
            "User120 who has bought car:['AION V 2023款 Plus 70 七座商务版'] : [0.005] : [0.]\n",
            "User121 who has bought car:['AION V 2023款 Plus 70 七座商务版'] : [0.356] : [0.]\n",
            "User122 who has bought car:['AION V 2023款 Plus 70 七座商务版'] : [0.01] : [0.]\n",
            "User123 who has bought car:['AION V 2023款 Plus 70 智享科技版 磷酸铁锂'] : [0.013] : [0.]\n",
            "User124 who has bought car:['AION V 2023款 Plus 70 智享科技版 磷酸铁锂'] : [0.011] : [0.]\n",
            "User125 who has bought car:['AION V 2023款 Plus 70 智享科技版 磷酸铁锂'] : [0.012] : [0.]\n",
            "User126 who has bought car:['AION V 2023款 Plus 70 智享科技版 磷酸铁锂'] : [0.043] : [0.]\n",
            "User127 who has bought car:['AION V 2023款 Plus 70 智享科技版 磷酸铁锂'] : [0.066] : [0.]\n",
            "User128 who has bought car:['AION V 2023款 Plus 70 智享科技版 磷酸铁锂'] : [0.008] : [0.]\n",
            "User129 who has bought car:['AION V 2023款 Plus 70 智享科技版 磷酸铁锂'] : [0.006] : [0.]\n",
            "User130 who has bought car:['AION V 2023款 Plus 70 智享科技版 磷酸铁锂'] : [0.072] : [0.]\n",
            "User131 who has bought car:['AION V 2023款 Plus 70 智享科技版 三元锂'] : [0.579] : [1.]\n",
            "User132 who has bought car:['AION V 2023款 Plus 70 智享科技版 三元锂'] : [0.003] : [0.]\n",
            "User133 who has bought car:['AION V 2023款 Plus 70 智享科技版 三元锂'] : [0.003] : [0.]\n",
            "User134 who has bought car:['AION V 2023款 Plus 70 智享科技版 三元锂'] : [0.392] : [0.]\n",
            "User135 who has bought car:['AION V 2023款 Plus 70 智享七座版 三元锂'] : [0.099] : [0.]\n",
            "User136 who has bought car:['AION V 2023款 Plus 70 智享七座版 三元锂'] : [0.007] : [0.]\n",
            "User137 who has bought car:['AION V 2023款 Plus 70 智享七座版 三元锂'] : [0.206] : [0.]\n",
            "User138 who has bought car:['AION V 2023款 Plus 70 智享七座版 三元锂'] : [0.003] : [0.]\n",
            "User139 who has bought car:['AION V 2023款 Plus 70 智享七座版 三元锂'] : [0.063] : [0.]\n",
            "User140 who has bought car:['AION V 2023款 Plus 70 智享七座版 三元锂'] : [0.004] : [0.]\n",
            "User141 who has bought car:['AION V 2023款 Plus 70 智享七座版 三元锂'] : [0.008] : [0.]\n",
            "User142 who has bought car:['AION V 2023款 Plus 70 智享七座版 三元锂'] : [0.005] : [0.]\n",
            "User143 who has bought car:['AION V 2023款 Plus 70 智享七座版 三元锂'] : [0.006] : [0.]\n",
            "User144 who has bought car:['AION V 2023款 Plus 70 智享七座版 三元锂'] : [0.183] : [0.]\n",
            "User145 who has bought car:['AION V 2023款 Plus 70 超级快充版 三元锂'] : [0.005] : [0.]\n",
            "User146 who has bought car:['AION V 2023款 Plus 70 超级快充版 三元锂'] : [0.003] : [0.]\n",
            "User147 who has bought car:['AION V 2023款 Plus 70 超级快充版 三元锂'] : [0.008] : [0.]\n",
            "User148 who has bought car:['AION V 2023款 Plus 70 超级快充版 三元锂'] : [0.007] : [0.]\n",
            "User149 who has bought car:['AION V 2023款 Plus 70 超级快充版 三元锂'] : [0.003] : [0.]\n",
            "User150 who has bought car:['AION V 2023款 Plus 70 超级快充版 三元锂'] : [0.01] : [0.]\n",
            "User151 who has bought car:['AION V 2023款 Plus 70 超级快充版 三元锂'] : [0.774] : [1.]\n",
            "User152 who has bought car:['AION V 2023款 Plus 70 超级快充版 三元锂'] : [0.138] : [0.]\n",
            "User153 who has bought car:['AION V 2023款 Plus 80 智领版 三元锂'] : [0.003] : [0.]\n",
            "User154 who has bought car:['AION V 2023款 Plus 80 智领版 三元锂'] : [0.011] : [0.]\n",
            "User155 who has bought car:['AION V 2023款 Plus 80 智领版 三元锂'] : [0.041] : [0.]\n",
            "User156 who has bought car:['AION V 2023款 Plus 80 智领版 三元锂'] : [0.016] : [0.]\n",
            "User157 who has bought car:['AION V 2023款 Plus 80 智领版 三元锂'] : [0.003] : [0.]\n",
            "User158 who has bought car:['AION V 2023款 Plus 80 智领版 三元锂'] : [0.008] : [0.]\n",
            "User159 who has bought car:['AION V 2023款 Plus 80 智领版 三元锂'] : [0.009] : [0.]\n",
            "User160 who has bought car:['AION V 2023款 Plus 80 智享科技版 三元锂'] : [0.003] : [0.]\n",
            "User161 who has bought car:['AION V 2023款 Plus 80 智享科技版 三元锂'] : [0.008] : [0.]\n",
            "User162 who has bought car:['AION V 2023款 Plus 80 智享科技版 三元锂'] : [0.004] : [0.]\n",
            "User163 who has bought car:['AION V 2023款 Plus 80 智享科技版 三元锂'] : [0.004] : [0.]\n",
            "User164 who has bought car:['AION V 2023款 Plus 80 智享科技版 三元锂'] : [0.012] : [0.]\n",
            "User165 who has bought car:['AION V 2023款 Plus 80 智享科技版 三元锂'] : [0.01] : [0.]\n",
            "User166 who has bought car:['AION V 2023款 Plus 80 智享科技版 三元锂'] : [0.003] : [0.]\n",
            "User167 who has bought car:['AION V 2023款 Plus 80 智享科技版 三元锂'] : [0.004] : [0.]\n",
            "User168 who has bought car:['AION V 2023款 Plus 80 智享科技版 三元锂'] : [0.003] : [0.]\n",
            "User169 who has bought car:['AION V 2023款 Plus 80 智享科技版 三元锂'] : [0.003] : [0.]\n",
            "User170 who has bought car:['AION V 2023款 Plus 80 智享七座版 三元锂'] : [0.003] : [0.]\n",
            "User171 who has bought car:['AION V 2023款 Plus 80 智享七座版 三元锂'] : [0.005] : [0.]\n",
            "User172 who has bought car:['AION V 2023款 Plus 80 行政版 三元锂'] : [0.004] : [0.]\n",
            "User173 who has bought car:['AION V 2023款 Plus 80 领航智驾版 三元锂'] : [0.004] : [0.]\n",
            "User174 who has bought car:['AION V 2023款 Plus 80 领航智驾版 三元锂'] : [0.005] : [0.]\n",
            "User175 who has bought car:['AION V 2023款 Plus 80 领航智驾版 三元锂'] : [0.006] : [0.]\n",
            "User176 who has bought car:['AION V 2023款 Plus 80 领航智驾版 三元锂'] : [0.003] : [0.]\n",
            "User177 who has bought car:['AION V 2023款 Plus 80 领袖版 三元锂'] : [0.017] : [0.]\n",
            "User178 who has bought car:['AION V 2023款 Plus 80 领袖版 三元锂'] : [0.003] : [0.]\n",
            "User179 who has bought car:['AION V 2023款 Plus 80 领袖版 三元锂'] : [0.017] : [0.]\n",
            "User180 who has bought car:['AION V 2023款 Plus 70 极速快充版 三元锂'] : [0.005] : [0.]\n",
            "User181 who has bought car:['AION V 2023款 Plus 70 极速快充版 三元锂'] : [0.018] : [0.]\n",
            "User182 who has bought car:['AION V 2023款 Plus 70 智领版 磷酸铁锂'] : [0.015] : [0.]\n",
            "User183 who has bought car:['AION V 2023款 Plus 70 智领版 磷酸铁锂'] : [0.021] : [0.]\n",
            "User184 who has bought car:['AION V 2023款 Plus 70 智领版 磷酸铁锂'] : [0.016] : [0.]\n",
            "User185 who has bought car:['AION V 2023款 Plus 70 智领版 磷酸铁锂'] : [0.733] : [1.]\n",
            "User186 who has bought car:['AION V 2023款 Plus 70 行政版 磷酸铁锂'] : [0.287] : [0.]\n",
            "User187 who has bought car:['AION V 2023款 Plus 70 行政版 磷酸铁锂'] : [0.004] : [0.]\n",
            "User188 who has bought car:['AION V 2023款 Plus 70 行政版 磷酸铁锂'] : [0.011] : [0.]\n",
            "User189 who has bought car:['问界M5 2022款 四驱旗舰版'] : [0.013] : [0.]\n",
            "User190 who has bought car:['问界M5 2022款 四驱旗舰版'] : [0.022] : [0.]\n",
            "User191 who has bought car:['问界M5 2022款 四驱旗舰版'] : [0.005] : [0.]\n",
            "User192 who has bought car:['问界M5 2022款 四驱旗舰版'] : [0.016] : [0.]\n",
            "User193 who has bought car:['问界M5 2022款 四驱旗舰版'] : [0.015] : [0.]\n",
            "User194 who has bought car:['问界M5 2022款 四驱旗舰版'] : [0.014] : [0.]\n",
            "User195 who has bought car:['问界M5 2022款 四驱旗舰版'] : [0.022] : [0.]\n",
            "User196 who has bought car:['问界M5 2022款 四驱旗舰版'] : [0.022] : [0.]\n",
            "User197 who has bought car:['问界M5 2022款 四驱旗舰版'] : [0.022] : [0.]\n",
            "User198 who has bought car:['问界M5 2022款 四驱旗舰版'] : [0.016] : [0.]\n",
            "User199 who has bought car:['问界M5 2022款 四驱旗舰版'] : [0.022] : [0.]\n"
          ]
        }
      ]
    },
    {
      "cell_type": "code",
      "source": [
        "new_y_predict = np.zeros((new_car_predict.shape))\n",
        "new_y_predict [new_car_predict > 0.5] = 1\n",
        "new_y_true = np.zeros((new_y_predict.shape))\n",
        "new_y_true[dsc_up[row_user_dst, 31] == row_car_dict] = 1\n",
        "\n",
        "print(confusion_matrix(new_y_true, new_y_predict))\n",
        "print(classification_report(new_y_true, new_y_predict))"
      ],
      "metadata": {
        "colab": {
          "base_uri": "https://localhost:8080/"
        },
        "id": "CzeIxA3cTDwo",
        "outputId": "d63e38b9-78ff-40ef-c1b9-4afc3d254e6b"
      },
      "execution_count": 75,
      "outputs": [
        {
          "output_type": "stream",
          "name": "stdout",
          "text": [
            "[[8887 1349]\n",
            " [  17   39]]\n",
            "              precision    recall  f1-score   support\n",
            "\n",
            "         0.0       1.00      0.87      0.93     10236\n",
            "         1.0       0.03      0.70      0.05        56\n",
            "\n",
            "    accuracy                           0.87     10292\n",
            "   macro avg       0.51      0.78      0.49     10292\n",
            "weighted avg       0.99      0.87      0.92     10292\n",
            "\n"
          ]
        }
      ]
    },
    {
      "cell_type": "code",
      "source": [
        "new_y_predict_vs = np.concatenate((new_y_predict, new_y_true), axis=1)\n",
        "new_y_predict_vs = np.concatenate((new_car_predict, new_y_predict_vs), axis=1)\n",
        "new_y_predict_vs = np.concatenate((dsc_up[row_user_dst, 32].reshape(-1, 1), new_y_predict_vs), axis=1)\n",
        "new_y_predict_df = pd.DataFrame(new_y_predict_vs)\n",
        "new_y_predict_df.to_csv(r'/content/new_user_predict_vs2.csv', encoding='UTF-8')"
      ],
      "metadata": {
        "id": "VJuVzJhAakQ0"
      },
      "execution_count": 78,
      "outputs": []
    },
    {
      "cell_type": "markdown",
      "source": [
        "**others：**"
      ],
      "metadata": {
        "id": "NauogkcV9kuv"
      }
    },
    {
      "cell_type": "code",
      "source": [],
      "metadata": {
        "id": "TpGia9Jn9kWg"
      },
      "execution_count": 50,
      "outputs": []
    },
    {
      "cell_type": "code",
      "source": [
        "new_car_predict = np.concatenate((new_car_predict, dsc_up[0:, 30].reshape(-1, 1)), axis=1)\n",
        "new_car_predict_df = pd.DataFrame(new_car_predict)\n",
        "new_car_predict_df.to_csv(r'/content/new_car_predict3.csv', encoding='UTF-8')"
      ],
      "metadata": {
        "id": "ir8FQxgSuBos"
      },
      "execution_count": 51,
      "outputs": []
    },
    {
      "cell_type": "code",
      "source": [
        "a = np.array([0,1,2])\n",
        "b = np.array([1,2,3])\n",
        "print(np.dot(a,b))"
      ],
      "metadata": {
        "colab": {
          "base_uri": "https://localhost:8080/"
        },
        "id": "GdCIMoxIZL2D",
        "outputId": "6f73e2d4-2f4c-4906-9875-75845f54d208"
      },
      "execution_count": 52,
      "outputs": [
        {
          "output_type": "stream",
          "name": "stdout",
          "text": [
            "8\n"
          ]
        }
      ]
    }
  ]
}