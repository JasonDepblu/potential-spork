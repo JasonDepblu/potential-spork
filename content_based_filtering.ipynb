{
  "nbformat": 4,
  "nbformat_minor": 0,
  "metadata": {
    "colab": {
      "provenance": [],
      "authorship_tag": "ABX9TyOFPoZHH60tDeLeR2WmTbxf",
      "include_colab_link": true
    },
    "kernelspec": {
      "name": "python3",
      "display_name": "Python 3"
    },
    "language_info": {
      "name": "python"
    },
    "gpuClass": "standard"
  },
  "cells": [
    {
      "cell_type": "markdown",
      "metadata": {
        "id": "view-in-github",
        "colab_type": "text"
      },
      "source": [
        "<a href=\"https://colab.research.google.com/github/JasonDepblu/potential-spork/blob/balaced_data/content_based_filtering.ipynb\" target=\"_parent\"><img src=\"https://colab.research.google.com/assets/colab-badge.svg\" alt=\"Open In Colab\"/></a>"
      ]
    },
    {
      "cell_type": "code",
      "execution_count": 1,
      "metadata": {
        "id": "8vH4YZrHC2En"
      },
      "outputs": [],
      "source": [
        "# %%\n",
        "import time\n",
        "import pandas as pd\n",
        "import numpy as np\n",
        "import random\n",
        "import mpl_toolkits.axisartist as ast\n",
        "from matplotlib import pyplot as plt\n",
        "from mpl_toolkits.mplot3d import Axes3D\n",
        "from tensorflow import keras\n",
        "import tensorflow as tf\n",
        "from keras import layers, models, optimizers\n",
        "from sklearn.model_selection import train_test_split\n",
        "from sklearn.metrics import confusion_matrix\n",
        "from sklearn.metrics import classification_report\n",
        "from sklearn.preprocessing import StandardScaler, MinMaxScaler\n",
        "from sklearn.preprocessing import OneHotEncoder\n",
        "from sklearn.decomposition import PCA\n",
        "import copy"
      ]
    },
    {
      "cell_type": "code",
      "source": [
        "# load the data\n",
        "dsc_up_df = pd.read_csv(\n",
        "    r'/content/dsc_up.csv')\n",
        "car_dict_df = pd.read_csv(\n",
        "    r'/content/car_dict2.csv')\n",
        "\n",
        "dsc_up_df = dsc_up_df.replace({np.NaN: 0})\n",
        "car_dict_df = car_dict_df.replace({np.NaN: 0})\n",
        "\n",
        "dsc_up = dsc_up_df.values\n",
        "car_dict = car_dict_df.values\n",
        "\n",
        "print(dsc_up.shape)\n",
        "print(car_dict.shape)"
      ],
      "metadata": {
        "id": "S-Q9NYd0DIkH",
        "colab": {
          "base_uri": "https://localhost:8080/"
        },
        "outputId": "562c6e8d-6550-4cb5-c4d0-e7e114e1a67e"
      },
      "execution_count": null,
      "outputs": [
        {
          "output_type": "stream",
          "name": "stdout",
          "text": [
            "(13653, 33)\n",
            "(119, 83)\n"
          ]
        }
      ]
    },
    {
      "cell_type": "code",
      "source": [
        "num_cars = len(car_dict)\n",
        "print(num_cars)"
      ],
      "metadata": {
        "colab": {
          "base_uri": "https://localhost:8080/"
        },
        "id": "PHHkweH9wJbI",
        "outputId": "05ed61c4-c1e7-43b0-c78a-e9fcfd811367"
      },
      "execution_count": null,
      "outputs": [
        {
          "output_type": "stream",
          "name": "stdout",
          "text": [
            "119\n"
          ]
        }
      ]
    },
    {
      "cell_type": "code",
      "source": [
        "# balance samples\n",
        "dsc_up_bal = np.empty(shape=(1, dsc_up.shape[1]))\n",
        "\n",
        "for i in range(num_cars):\n",
        "  if len(dsc_up[dsc_up[:, 31] == i]) > 300:\n",
        "    ran_row_bal = np.random.choice(np.arange(len(dsc_up[dsc_up[:, 31] == i])), size=100, replace=False)\n",
        "    dsc_up_bali = dsc_up[dsc_up[:, 31] == i][ran_row_bal]\n",
        "  else:\n",
        "    dsc_up_bali = dsc_up[dsc_up[:, 31] == i]\n",
        "  dsc_up_bal = np.concatenate((dsc_up_bal, dsc_up_bali), axis=0)\n",
        "dsc_up = dsc_up_bal[1:]\n",
        "print(dsc_up.shape)"
      ],
      "metadata": {
        "colab": {
          "base_uri": "https://localhost:8080/"
        },
        "id": "5mbaZipFwxwG",
        "outputId": "5d939db6-8978-42c4-cb35-b4a5a3f8b11a"
      },
      "execution_count": null,
      "outputs": [
        {
          "output_type": "stream",
          "name": "stdout",
          "text": [
            "(5867, 33)\n"
          ]
        }
      ]
    },
    {
      "cell_type": "code",
      "source": [
        "# load the label\n",
        "print(car_dict.shape)\n",
        "print(dsc_up.shape)\n",
        "\n",
        "ys_up = dsc_up[:, 31]\n",
        "print(ys_up)"
      ],
      "metadata": {
        "colab": {
          "base_uri": "https://localhost:8080/"
        },
        "id": "ZNay43VdDXtA",
        "outputId": "572fe45a-5184-481b-d2d5-c6d75b3cc121"
      },
      "execution_count": null,
      "outputs": [
        {
          "output_type": "stream",
          "name": "stdout",
          "text": [
            "(119, 83)\n",
            "(5867, 33)\n",
            "[0 0 0 ... 118 118 118]\n"
          ]
        }
      ]
    },
    {
      "cell_type": "code",
      "source": [
        "# transfer the label to onehot_code\n",
        "ys = copy.copy(ys_up.reshape(len(ys_up), 1))\n",
        "ys -= 1\n",
        "onehot_encoder = OneHotEncoder(sparse=False)\n",
        "onehot_encoded = onehot_encoder.fit_transform(ys)\n",
        "ys = onehot_encoded\n",
        "print(ys.shape)"
      ],
      "metadata": {
        "colab": {
          "base_uri": "https://localhost:8080/"
        },
        "id": "S17GJ8SJ0adp",
        "outputId": "d0059ace-fdef-41e9-fa03-33028fe71333"
      },
      "execution_count": null,
      "outputs": [
        {
          "output_type": "stream",
          "name": "stdout",
          "text": [
            "(5867, 119)\n"
          ]
        }
      ]
    },
    {
      "cell_type": "code",
      "source": [
        "# column of last feature from 0 and +1\n",
        "col_last_feature_car = 80\n",
        "    #76\n",
        "col_last_feature_user = 28\n",
        "car_unscaled = car_dict[:, 1:col_last_feature_car]\n",
        "user_unscaled = dsc_up[:, 1:col_last_feature_user]\n",
        "\n",
        "# generate the gaussian random no. to budget feature\n",
        "mu_budget = 0\n",
        "sigma_budget = 2.5\n",
        "for i in range(len(user_unscaled)):\n",
        "    user_unscaled[i, 23] += random.gauss(mu_budget, sigma_budget)\n",
        "\n",
        "scalerCar = StandardScaler()\n",
        "scalerCar.fit(car_dict[:, 1:col_last_feature_car])\n",
        "car = scalerCar.transform(car_dict[:, 1:col_last_feature_car])\n",
        "\n",
        "scalerUser = StandardScaler()\n",
        "scalerUser.fit(dsc_up[:, 1:col_last_feature_user])\n",
        "user = scalerUser.transform(dsc_up[:, 1:col_last_feature_user])\n",
        "\n",
        "print(np.allclose(car_unscaled.astype(float), scalerCar.inverse_transform(car)))\n",
        "print(np.allclose(user_unscaled.astype(float), scalerUser.inverse_transform(user)))"
      ],
      "metadata": {
        "id": "F1Qh3rh_6v7a",
        "colab": {
          "base_uri": "https://localhost:8080/"
        },
        "outputId": "813872e4-3dc2-41c9-8f34-948cc3d0c7a5"
      },
      "execution_count": null,
      "outputs": [
        {
          "output_type": "stream",
          "name": "stdout",
          "text": [
            "True\n",
            "True\n"
          ]
        }
      ]
    },
    {
      "cell_type": "code",
      "source": [
        "# func for generating num_items users of different cars\n",
        "def gen_user_vecs(user_vec, num_items):\n",
        "    \"\"\" given a user vector return:\n",
        "        user predict matrix to match the size of item_vecs \"\"\"\n",
        "    user_vecs = np.tile(user_vec, (1, num_items))\n",
        "    return user_vecs\n",
        "\n",
        "def gen_car_vecs(car_vec, num_users):\n",
        "    car_vecs = np.tile(car_vec, (num_users, 1))\n",
        "    return car_vecs"
      ],
      "metadata": {
        "id": "z3Ze_4Ri6b7w"
      },
      "execution_count": null,
      "outputs": []
    },
    {
      "cell_type": "code",
      "source": [
        "# pca analysis\n",
        "pca_25 = PCA(n_components=25)\n",
        "print(pca_25)\n",
        "pca_25.fit(user)\n",
        "print(pca_25.explained_variance_ratio_)\n",
        "\n",
        "# %%\n",
        "pca_30 = PCA(n_components=2)\n",
        "print(pca_30)\n",
        "pca_30.fit(car_dict[:, 1:15])\n",
        "print(pca_30.explained_variance_ratio_)\n",
        "c_trans = pca_30.transform(car_dict[:, 1:15])\n",
        "# plt.plot(c_trans[:, 0], c_trans[:, 1], 'ro')\n"
      ],
      "metadata": {
        "colab": {
          "base_uri": "https://localhost:8080/"
        },
        "id": "oBhji5xWngVa",
        "outputId": "d35f4165-1dd0-41e5-85f9-0e5a37b99d59"
      },
      "execution_count": null,
      "outputs": [
        {
          "output_type": "stream",
          "name": "stdout",
          "text": [
            "PCA(n_components=25)\n",
            "[0.07744459 0.06416523 0.05757915 0.05262065 0.05085443 0.04313143\n",
            " 0.04052785 0.03953415 0.03841383 0.03771634 0.03711356 0.03594251\n",
            " 0.03545511 0.03511565 0.03501954 0.0337594  0.03353585 0.03227448\n",
            " 0.03167989 0.03081186 0.02990005 0.02901641 0.02752164 0.02576775\n",
            " 0.02558806]\n",
            "PCA(n_components=2)\n",
            "[0.79305611 0.14624711]\n"
          ]
        }
      ]
    },
    {
      "cell_type": "code",
      "source": [
        "# generate num_items users for different cars\n",
        "user_vecs = gen_user_vecs(user, len(car_dict))\n",
        "user_vecs = user_vecs.reshape(-1, user.shape[1])\n",
        "car_vecs = gen_car_vecs(car, len(dsc_up))\n",
        "\n",
        "ys = ys.reshape(-1, 1)\n",
        "print(user_vecs.shape)\n",
        "print(car_vecs.shape)\n",
        "print(ys.shape)"
      ],
      "metadata": {
        "colab": {
          "base_uri": "https://localhost:8080/"
        },
        "id": "JtbYTY3rnxK_",
        "outputId": "a84ff11e-2cb1-43cf-e0ad-49bcfdfcd100"
      },
      "execution_count": null,
      "outputs": [
        {
          "output_type": "stream",
          "name": "stdout",
          "text": [
            "(698173, 27)\n",
            "(698173, 79)\n",
            "(698173, 1)\n"
          ]
        }
      ]
    },
    {
      "cell_type": "code",
      "source": [
        "ys[ys == 0].shape"
      ],
      "metadata": {
        "colab": {
          "base_uri": "https://localhost:8080/"
        },
        "id": "j_LlJZomsOBU",
        "outputId": "c3fdf2ed-237e-4883-8473-f6ac90a3b0bc"
      },
      "execution_count": null,
      "outputs": [
        {
          "output_type": "execute_result",
          "data": {
            "text/plain": [
              "(692306,)"
            ]
          },
          "metadata": {},
          "execution_count": 75
        }
      ]
    },
    {
      "cell_type": "code",
      "source": [
        "# # case 2\n",
        "# car_train, car_test = train_test_split(car_vecs, train_size=0.8, shuffle=True, random_state=2023)\n",
        "# user_train, user_test = train_test_split(user_vecs, train_size=0.8, shuffle=True, random_state=2023)\n",
        "# ys_train, ys_test = train_test_split(ys, train_size=0.8, shuffle=True, random_state=2023)\n",
        "\n",
        "# car_val, car_test = train_test_split(car_test, train_size=0.5, shuffle=True, random_state=2023)\n",
        "# user_val, user_test = train_test_split(user_test, train_size=0.5, shuffle=True, random_state=2023)\n",
        "# ys_val, ys_test = train_test_split(ys_test, train_size=0.5, shuffle=True, random_state=2023)"
      ],
      "metadata": {
        "id": "Exgz6gDNsG0e"
      },
      "execution_count": null,
      "outputs": []
    },
    {
      "cell_type": "code",
      "source": [
        "randnum = random.randint(0, 100)\n",
        "print(randnum)\n",
        "random.seed(randnum)"
      ],
      "metadata": {
        "colab": {
          "base_uri": "https://localhost:8080/"
        },
        "id": "milRRhMVQKXV",
        "outputId": "dcf98b1e-f696-465e-9e59-b265505ac713"
      },
      "execution_count": null,
      "outputs": [
        {
          "output_type": "stream",
          "name": "stdout",
          "text": [
            "14\n"
          ]
        }
      ]
    },
    {
      "cell_type": "code",
      "source": [
        "# # case 2\n",
        "# user_train_one = user_train[(ys_train == 1)[:, 0]]\n",
        "# user_train_one = gen_car_vecs(user_train_one, np.ceil(len(car_dict) * 0.3 -1).astype(int))\n",
        "# user_train_zero = user_train[(ys_train == 0)[:, 0]]\n",
        "# user_train = np.concatenate((user_train_zero, user_train_one), axis=0)\n",
        "# random.seed(randnum)\n",
        "# random.shuffle(user_train)\n",
        "# print(user_train.shape)"
      ],
      "metadata": {
        "id": "06DItVnFhowy"
      },
      "execution_count": null,
      "outputs": []
    },
    {
      "cell_type": "code",
      "source": [
        "# # case 2\n",
        "# car_train_one = car_train[(ys_train == 1)[:, 0]]\n",
        "# car_train_one = gen_car_vecs(car_train_one, np.ceil(len(car_dict) * 0.3 -1).astype(int))\n",
        "# car_train_zero = car_train[(ys_train == 0)[:, 0]]\n",
        "# car_train = np.concatenate((car_train_zero, car_train_one), axis=0)\n",
        "# random.seed(randnum)\n",
        "# random.shuffle(car_train)\n",
        "# print(car_train.shape)"
      ],
      "metadata": {
        "id": "SCElRjrGiCqJ"
      },
      "execution_count": null,
      "outputs": []
    },
    {
      "cell_type": "code",
      "source": [
        "# # case 2\n",
        "# ys_one = ys_train[(ys_train == 1)[:, 0]]\n",
        "# ys_one = gen_car_vecs(ys_one, np.ceil(len(car_dict) * 0.3 -1).astype(int))\n",
        "# ys_zero = ys_train[(ys_train == 0)[:, 0]]\n",
        "# ys_train = np.concatenate((ys_zero, ys_one), axis=0)\n",
        "# random.seed(randnum)\n",
        "# random.shuffle(ys_train)\n",
        "# print(ys_train.shape)"
      ],
      "metadata": {
        "id": "8IAExZSfiCcW"
      },
      "execution_count": null,
      "outputs": []
    },
    {
      "cell_type": "code",
      "source": [
        "# user_vecs_one = user_vecs[(ys == 1)[:, 0]]"
      ],
      "metadata": {
        "id": "vekhBc82s5CX"
      },
      "execution_count": null,
      "outputs": []
    },
    {
      "cell_type": "code",
      "source": [
        "# num_users = user_vecs_one.shape[0]\n",
        "# print(num_users)\n"
      ],
      "metadata": {
        "id": "zAEEnmaPs_96"
      },
      "execution_count": null,
      "outputs": []
    },
    {
      "cell_type": "code",
      "source": [
        "# user_vecs_zero = user_vecs[(ys == 0)[:, 0]]\n",
        "# num_zeros = user_vecs_zero.shape[0]\n",
        "# print(num_zeros)"
      ],
      "metadata": {
        "id": "ptj2UlkZuC2n"
      },
      "execution_count": null,
      "outputs": []
    },
    {
      "cell_type": "code",
      "source": [
        "# random.seed(randnum)"
      ],
      "metadata": {
        "id": "0AhtIQYvui-c"
      },
      "execution_count": null,
      "outputs": []
    },
    {
      "cell_type": "code",
      "source": [
        "# sample_row = np.random.choice(np.arange(num_zeros), size=num_users, replace=False)"
      ],
      "metadata": {
        "id": "wAszpAvxtCW2"
      },
      "execution_count": null,
      "outputs": []
    },
    {
      "cell_type": "code",
      "source": [
        "# sample_row"
      ],
      "metadata": {
        "id": "XBxdkxGuskpD"
      },
      "execution_count": null,
      "outputs": []
    },
    {
      "cell_type": "code",
      "source": [
        "# user_vecs_zero = user_vecs_zero[sample_row]\n",
        "# print(user_vecs_zero.shape)"
      ],
      "metadata": {
        "id": "h3MhNu3Eu3_k"
      },
      "execution_count": null,
      "outputs": []
    },
    {
      "cell_type": "code",
      "source": [
        "# case 3\n",
        "user_vecs_one = user_vecs[(ys == 1)[:, 0]]\n",
        "# user_vecs_one = gen_car_vecs(user_vecs_one, len(car_dict)-1)\n",
        "user_vecs_zero = user_vecs[(ys == 0)[:, 0]]\n",
        "num_users = user_vecs_one.shape[0]\n",
        "num_zeros = user_vecs_zero.shape[0]\n",
        "random.seed(randnum)\n",
        "\n",
        "sample_row = np.random.choice(np.arange(num_zeros), size=num_users, replace=False)\n",
        "user_vecs_zero = user_vecs_zero[sample_row]\n",
        "user_vecs = np.concatenate((user_vecs_zero, user_vecs_one), axis=0)\n",
        "\n",
        "random.seed(44)\n",
        "shuffle_row = np.random.choice(np.arange(0,len(user_vecs)), len(user_vecs), replace=False)\n",
        "user_vecs = user_vecs[shuffle_row]\n",
        "print(user_vecs.shape)"
      ],
      "metadata": {
        "colab": {
          "base_uri": "https://localhost:8080/"
        },
        "id": "Od4AHZ9ln_Q-",
        "outputId": "66d8257c-86f9-4f1d-a6ab-b78ec639d519"
      },
      "execution_count": null,
      "outputs": [
        {
          "output_type": "stream",
          "name": "stdout",
          "text": [
            "(11734, 27)\n"
          ]
        }
      ]
    },
    {
      "cell_type": "code",
      "source": [
        "# case3\n",
        "car_vecs_one = car_vecs[(ys == 1)[:, 0]]\n",
        "# car_vecs_one = gen_car_vecs(car_vecs_one, len(car_dict)-1)\n",
        "\n",
        "car_vecs_zero = car_vecs[(ys == 0)[:, 0]][sample_row]\n",
        "car_vecs = np.concatenate((car_vecs_zero, car_vecs_one), axis=0)\n",
        "\n",
        "car_vecs = car_vecs[shuffle_row]\n",
        "print(car_vecs.shape)"
      ],
      "metadata": {
        "colab": {
          "base_uri": "https://localhost:8080/"
        },
        "id": "RqhTucG6n69P",
        "outputId": "2fd3a3ef-c7ae-4b1c-d191-5e39ab6b738b"
      },
      "execution_count": null,
      "outputs": [
        {
          "output_type": "stream",
          "name": "stdout",
          "text": [
            "(11734, 79)\n"
          ]
        }
      ]
    },
    {
      "cell_type": "code",
      "source": [
        "# case 3\n",
        "ys_one = ys[(ys == 1)[:, 0]]\n",
        "# ys_one = gen_car_vecs(ys_one, len(car_dict)-1)\n",
        "\n",
        "ys_zero = ys[(ys == 0)[:, 0]][sample_row]\n",
        "ys = np.concatenate((ys_zero, ys_one), axis=0)\n",
        "\n",
        "ys = ys[shuffle_row]\n",
        "print(ys.shape)"
      ],
      "metadata": {
        "colab": {
          "base_uri": "https://localhost:8080/"
        },
        "id": "3-HMFlwboBib",
        "outputId": "99f152c6-da23-4211-e524-43676be443f0"
      },
      "execution_count": null,
      "outputs": [
        {
          "output_type": "stream",
          "name": "stdout",
          "text": [
            "(11734, 1)\n"
          ]
        }
      ]
    },
    {
      "cell_type": "code",
      "source": [
        "print(ys[0:50])"
      ],
      "metadata": {
        "id": "Mx2H8HVTp6CV"
      },
      "execution_count": null,
      "outputs": []
    },
    {
      "cell_type": "code",
      "source": [
        "# case 3\n",
        "car_train, car_test = train_test_split(car_vecs, train_size=0.8, shuffle=True, random_state=2023)\n",
        "user_train, user_test = train_test_split(user_vecs, train_size=0.8, shuffle=True, random_state=2023)\n",
        "ys_train, ys_test = train_test_split(ys, train_size=0.8, shuffle=True, random_state=2023)\n",
        "\n",
        "car_val, car_test = train_test_split(car_test, train_size=0.5, shuffle=True, random_state=2023)\n",
        "user_val, user_test = train_test_split(user_test, train_size=0.5, shuffle=True, random_state=2023)\n",
        "ys_val, ys_test = train_test_split(ys_test, train_size=0.5, shuffle=True, random_state=2023)"
      ],
      "metadata": {
        "id": "uw1qHr9lhWOW"
      },
      "execution_count": null,
      "outputs": []
    },
    {
      "cell_type": "code",
      "source": [
        "print(f\"cars training data shape:{car_train.shape}\")\n",
        "print(f\"cars validating data shape:{car_val.shape}\")\n",
        "print(f\"cars testing data shape:{car_test.shape}\")\n",
        "\n",
        "print(f\"users training data shape:{user_train.shape}\")\n",
        "print(f\"users validating data shape:{user_val.shape}\")\n",
        "print(f\"users testing data shape:{user_test.shape}\")\n",
        "\n",
        "print(f\"ys training data shape:{ys_train.shape}\")\n",
        "print(f\"ys validating data shape:{ys_val.shape}\")\n",
        "print(f\"ys testing data shape:{ys_test.shape}\")"
      ],
      "metadata": {
        "colab": {
          "base_uri": "https://localhost:8080/"
        },
        "id": "Xnm6wtb2sKKv",
        "outputId": "a4a6018b-450b-42c7-a504-001054a34285"
      },
      "execution_count": null,
      "outputs": [
        {
          "output_type": "stream",
          "name": "stdout",
          "text": [
            "cars training data shape:(9387, 79)\n",
            "cars validating data shape:(1173, 79)\n",
            "cars testing data shape:(1174, 79)\n",
            "users training data shape:(9387, 27)\n",
            "users validating data shape:(1173, 27)\n",
            "users testing data shape:(1174, 27)\n",
            "ys training data shape:(9387, 1)\n",
            "ys validating data shape:(1173, 1)\n",
            "ys testing data shape:(1174, 1)\n"
          ]
        }
      ]
    },
    {
      "cell_type": "code",
      "source": [
        "num_user_features = col_last_feature_user-1\n",
        "num_car_features = col_last_feature_car-1\n",
        "num_outputs = 32\n",
        "tf.random.set_seed(1)\n",
        "user_NN = tf.keras.models.Sequential([\n",
        "    tf.keras.layers.Dense(256, activation='relu'),\n",
        "    tf.keras.layers.Dense(128, activation='relu'),\n",
        "    tf.keras.layers.Dense(num_outputs, activation='relu'),\n",
        "])\n",
        "car_NN = tf.keras.models.Sequential([\n",
        "    tf.keras.layers.Dense(256, activation='relu'),\n",
        "    tf.keras.layers.Dense(128, activation='relu'),\n",
        "    tf.keras.layers.Dense(num_outputs, activation='relu'),\n",
        "])\n",
        "\n",
        "input_user = tf.keras.layers.Input(shape=(num_user_features))\n",
        "vu = user_NN(input_user)\n",
        "vu = tf.linalg.l2_normalize(vu, axis=1)\n",
        "\n",
        "input_car = tf.keras.layers.Input(shape=(num_car_features))\n",
        "vc = car_NN(input_car)\n",
        "vc = tf.linalg.l2_normalize(vc, axis=1)\n",
        "\n",
        "d_out = tf.keras.layers.Dot(axes=1)([vu, vc])\n",
        "output = tf.keras.layers.Dense(1, activation='sigmoid')(d_out)\n",
        "\n",
        "model = tf.keras.Model([input_user, input_car], output)\n",
        "model.summary()\n",
        "tf.keras.utils.plot_model(model, \"/content/my_model.png\")"
      ],
      "metadata": {
        "colab": {
          "base_uri": "https://localhost:8080/",
          "height": 927
        },
        "id": "bP3DkKKatJyi",
        "outputId": "716eac5c-ac5c-44b5-a39e-fcbd1c36d907"
      },
      "execution_count": null,
      "outputs": [
        {
          "output_type": "stream",
          "name": "stdout",
          "text": [
            "Model: \"model_2\"\n",
            "__________________________________________________________________________________________________\n",
            " Layer (type)                   Output Shape         Param #     Connected to                     \n",
            "==================================================================================================\n",
            " input_5 (InputLayer)           [(None, 27)]         0           []                               \n",
            "                                                                                                  \n",
            " input_6 (InputLayer)           [(None, 79)]         0           []                               \n",
            "                                                                                                  \n",
            " sequential_4 (Sequential)      (None, 32)           44192       ['input_5[0][0]']                \n",
            "                                                                                                  \n",
            " sequential_5 (Sequential)      (None, 32)           57504       ['input_6[0][0]']                \n",
            "                                                                                                  \n",
            " tf.math.l2_normalize_4 (TFOpLa  (None, 32)          0           ['sequential_4[0][0]']           \n",
            " mbda)                                                                                            \n",
            "                                                                                                  \n",
            " tf.math.l2_normalize_5 (TFOpLa  (None, 32)          0           ['sequential_5[0][0]']           \n",
            " mbda)                                                                                            \n",
            "                                                                                                  \n",
            " dot_2 (Dot)                    (None, 1)            0           ['tf.math.l2_normalize_4[0][0]', \n",
            "                                                                  'tf.math.l2_normalize_5[0][0]'] \n",
            "                                                                                                  \n",
            " dense_20 (Dense)               (None, 1)            2           ['dot_2[0][0]']                  \n",
            "                                                                                                  \n",
            "==================================================================================================\n",
            "Total params: 101,698\n",
            "Trainable params: 101,698\n",
            "Non-trainable params: 0\n",
            "__________________________________________________________________________________________________\n"
          ]
        },
        {
          "output_type": "execute_result",
          "data": {
            "image/png": "[encoded data removed]",
            "text/plain": [
              "<IPython.core.display.Image object>"
            ]
          },
          "metadata": {},
          "execution_count": 82
        }
      ]
    },
    {
      "cell_type": "code",
      "source": [
        "tf.random.set_seed(1)\n",
        "cost_fn = tf.keras.losses.MeanSquaredError()\n",
        "opt = keras.optimizers.Adam(learning_rate=0.01)\n",
        "model.compile(optimizer=opt, loss=cost_fn)"
      ],
      "metadata": {
        "id": "2gPZmKAitT2h"
      },
      "execution_count": null,
      "outputs": []
    },
    {
      "cell_type": "code",
      "source": [
        "tf.random.set_seed(1)\n",
        "model.fit([user_train, car_train], ys_train, epochs=8)"
      ],
      "metadata": {
        "colab": {
          "base_uri": "https://localhost:8080/"
        },
        "id": "QXZsutVxtUfw",
        "outputId": "65b628ee-1143-489e-9293-7ccafa20cb55"
      },
      "execution_count": null,
      "outputs": [
        {
          "output_type": "stream",
          "name": "stdout",
          "text": [
            "Epoch 1/8\n",
            "294/294 [==============================] - 3s 5ms/step - loss: 0.2073\n",
            "Epoch 2/8\n",
            "294/294 [==============================] - 1s 5ms/step - loss: 0.1701\n",
            "Epoch 3/8\n",
            "294/294 [==============================] - 1s 5ms/step - loss: 0.1493\n",
            "Epoch 4/8\n",
            "294/294 [==============================] - 1s 5ms/step - loss: 0.1375\n",
            "Epoch 5/8\n",
            "294/294 [==============================] - 2s 6ms/step - loss: 0.1306\n",
            "Epoch 6/8\n",
            "294/294 [==============================] - 2s 8ms/step - loss: 0.1238\n",
            "Epoch 7/8\n",
            "294/294 [==============================] - 1s 5ms/step - loss: 0.1231\n",
            "Epoch 8/8\n",
            "294/294 [==============================] - 1s 5ms/step - loss: 0.1166\n"
          ]
        },
        {
          "output_type": "execute_result",
          "data": {
            "text/plain": [
              "<keras.callbacks.History at 0x7faa33fbc100>"
            ]
          },
          "metadata": {},
          "execution_count": 84
        }
      ]
    },
    {
      "cell_type": "code",
      "source": [
        "model.evaluate([user_val, car_val], ys_val)"
      ],
      "metadata": {
        "colab": {
          "base_uri": "https://localhost:8080/"
        },
        "id": "k50a01wBtXr8",
        "outputId": "2247867e-16b2-4044-9003-d024bed6f973"
      },
      "execution_count": null,
      "outputs": [
        {
          "output_type": "stream",
          "name": "stdout",
          "text": [
            "37/37 [==============================] - 0s 3ms/step - loss: 0.1337\n"
          ]
        },
        {
          "output_type": "execute_result",
          "data": {
            "text/plain": [
              "0.1337277740240097"
            ]
          },
          "metadata": {},
          "execution_count": 85
        }
      ]
    },
    {
      "cell_type": "code",
      "source": [
        "ys_test.shape"
      ],
      "metadata": {
        "colab": {
          "base_uri": "https://localhost:8080/"
        },
        "id": "1JHYyjPvfPGL",
        "outputId": "93222124-fc0f-49e5-bc88-4a2f8a83b2fd"
      },
      "execution_count": null,
      "outputs": [
        {
          "output_type": "execute_result",
          "data": {
            "text/plain": [
              "(1174, 1)"
            ]
          },
          "metadata": {},
          "execution_count": 86
        }
      ]
    },
    {
      "cell_type": "code",
      "source": [
        "model.evaluate([user_test[(ys_test == 1)[:, 0]], car_test[(ys_test == 1)[:, 0]]], ys_test[(ys_test == 1)[:, 0]])"
      ],
      "metadata": {
        "colab": {
          "base_uri": "https://localhost:8080/"
        },
        "id": "wWyGJ47d8FsR",
        "outputId": "3777b780-f5a3-4839-a1a9-f612ac7fdca9"
      },
      "execution_count": null,
      "outputs": [
        {
          "output_type": "stream",
          "name": "stdout",
          "text": [
            "19/19 [==============================] - 0s 3ms/step - loss: 0.0964\n"
          ]
        },
        {
          "output_type": "execute_result",
          "data": {
            "text/plain": [
              "0.09636227041482925"
            ]
          },
          "metadata": {},
          "execution_count": 87
        }
      ]
    },
    {
      "cell_type": "code",
      "source": [
        "ys_p_test = model.predict([[user_test, car_test]])\n",
        "ys_p_test_vs = np.concatenate((ys_p_test, ys_test), axis=1)\n",
        "ys_test_df = pd.DataFrame(ys_p_test_vs)\n",
        "ys_test_df.to_csv(r'/content/ys_p_test_6epoch.csv', encoding='UTF-8')"
      ],
      "metadata": {
        "colab": {
          "base_uri": "https://localhost:8080/"
        },
        "id": "pR91EXOOtbFv",
        "outputId": "ccd607a3-8777-42b1-d0b1-35a72c268995"
      },
      "execution_count": null,
      "outputs": [
        {
          "output_type": "stream",
          "name": "stdout",
          "text": [
            "37/37 [==============================] - 0s 3ms/step\n"
          ]
        }
      ]
    },
    {
      "cell_type": "code",
      "source": [
        "# print the confusion matrix & report\n",
        "print(confusion_matrix(ys_test, np.round(ys_p_test)))\n",
        "print(classification_report(ys_test, np.round(ys_p_test)))"
      ],
      "metadata": {
        "colab": {
          "base_uri": "https://localhost:8080/"
        },
        "id": "xY380Qk3t0Xw",
        "outputId": "954d0666-81a6-4081-e9e6-2fba46388f8e"
      },
      "execution_count": null,
      "outputs": [
        {
          "output_type": "stream",
          "name": "stdout",
          "text": [
            "[[428 143]\n",
            " [ 69 534]]\n",
            "              precision    recall  f1-score   support\n",
            "\n",
            "         0.0       0.86      0.75      0.80       571\n",
            "         1.0       0.79      0.89      0.83       603\n",
            "\n",
            "    accuracy                           0.82      1174\n",
            "   macro avg       0.82      0.82      0.82      1174\n",
            "weighted avg       0.82      0.82      0.82      1174\n",
            "\n"
          ]
        }
      ]
    },
    {
      "cell_type": "code",
      "source": [
        "ys_test[ys_test==0].shape"
      ],
      "metadata": {
        "colab": {
          "base_uri": "https://localhost:8080/"
        },
        "id": "sQ4CArpxdnKe",
        "outputId": "b45b3c97-4cc5-400d-f5c5-898fab582807"
      },
      "execution_count": null,
      "outputs": [
        {
          "output_type": "execute_result",
          "data": {
            "text/plain": [
              "(571,)"
            ]
          },
          "metadata": {},
          "execution_count": 90
        }
      ]
    },
    {
      "cell_type": "code",
      "source": [
        "ys_p_train = model.predict([[user_train, car_train]])"
      ],
      "metadata": {
        "colab": {
          "base_uri": "https://localhost:8080/"
        },
        "id": "_bhcLBm7A4_m",
        "outputId": "b3094376-3f85-4523-f189-85671be27801"
      },
      "execution_count": null,
      "outputs": [
        {
          "output_type": "stream",
          "name": "stdout",
          "text": [
            "294/294 [==============================] - 1s 3ms/step\n"
          ]
        }
      ]
    },
    {
      "cell_type": "code",
      "source": [
        "# print the confusion matrix & report\n",
        "print(confusion_matrix(ys_train, np.round(ys_p_train)))\n",
        "print(classification_report(ys_train, np.round(ys_p_train)))"
      ],
      "metadata": {
        "colab": {
          "base_uri": "https://localhost:8080/"
        },
        "id": "9BmnL9PnXdCD",
        "outputId": "9208a154-8e30-45ad-e6b4-90470dc69cb1"
      },
      "execution_count": null,
      "outputs": [
        {
          "output_type": "stream",
          "name": "stdout",
          "text": [
            "[[3703  966]\n",
            " [ 425 4293]]\n",
            "              precision    recall  f1-score   support\n",
            "\n",
            "         0.0       0.90      0.79      0.84      4669\n",
            "         1.0       0.82      0.91      0.86      4718\n",
            "\n",
            "    accuracy                           0.85      9387\n",
            "   macro avg       0.86      0.85      0.85      9387\n",
            "weighted avg       0.86      0.85      0.85      9387\n",
            "\n"
          ]
        }
      ]
    },
    {
      "cell_type": "markdown",
      "source": [
        "基于某个用户，预测不同的车的购买倾向"
      ],
      "metadata": {
        "id": "JgvnydmXY9fv"
      }
    },
    {
      "cell_type": "code",
      "source": [
        "# predict the new car of new performance for specific user\n",
        "# define the cars and the user\n",
        "row_car_dict = np.arange(0, num_cars) \n",
        "row_user_dst = [3440]\n",
        "new_car = car_unscaled[row_car_dict]\n",
        "new_user = gen_car_vecs(user_unscaled[row_user_dst], len(row_car_dict))\n",
        "\n",
        "# predict the new car of new performance\n",
        "new_user_scal = scalerUser.transform(new_user)\n",
        "new_car_scal = scalerCar.transform(new_car)\n",
        "new_car_predict = model.predict([[new_user_scal, new_car_scal]])\n",
        "print(f'target car is {dsc_up[row_user_dst, 32]}, car No. is {dsc_up[row_user_dst, 31]}')\n",
        "for i in range(len(row_car_dict)):\n",
        "    print(\n",
        "        f'{i} :'\n",
        "        f'{car_dict[row_car_dict, 81].reshape(-1, 1)[i]} : {np.round(new_car_predict[i],3)} : {np.round(new_car_predict[i], 0)}')"
      ],
      "metadata": {
        "colab": {
          "base_uri": "https://localhost:8080/"
        },
        "id": "3FTLt7gHt3zV",
        "outputId": "6382dd88-3025-4444-d220-bcde6f28bcc7"
      },
      "execution_count": null,
      "outputs": [
        {
          "output_type": "stream",
          "name": "stdout",
          "text": [
            "4/4 [==============================] - 0s 6ms/step\n",
            "target car is ['星越L 2021款 2.0TD 高功自动四驱尊贵型'], car No. is [68]\n",
            "0 :['影酷 2022款 1.5T 超新星PRO版'] : [0.043] : [0.]\n",
            "1 :['影酷 2022款 2.0T 中子星PRO版'] : [0.023] : [0.]\n",
            "2 :['影酷 2022款 2.0T 中子星MAX版'] : [0.027] : [0.]\n",
            "3 :['影酷 2022款 2.0ATK 双子星PRO版'] : [0.027] : [0.]\n",
            "4 :['影酷 2022款 2.0ATK 双子星MAX版'] : [0.029] : [0.]\n",
            "5 :['Model Y 2022款 改款 后轮驱动版'] : [0.028] : [0.]\n",
            "6 :['Model Y 2022款 改款 长续航全轮驱动版'] : [0.047] : [0.]\n",
            "7 :['Model Y 2022款 Performance高性能全轮驱动版'] : [0.021] : [0.]\n",
            "8 :['AION V 2023款 Plus 70 智领版 三元锂'] : [0.031] : [0.]\n",
            "9 :['AION V 2023款 Plus 70 行政版 三元锂'] : [0.026] : [0.]\n",
            "10 :['AION V 2023款 Plus 70 七座商务版'] : [0.026] : [0.]\n",
            "11 :['AION V 2023款 Plus 70 智享科技版 磷酸铁锂'] : [0.028] : [0.]\n",
            "12 :['AION V 2023款 Plus 70 智享科技版 三元锂'] : [0.028] : [0.]\n",
            "13 :['AION V 2023款 Plus 70 智享七座版 三元锂'] : [0.028] : [0.]\n",
            "14 :['AION V 2023款 Plus 70 超级快充版 三元锂'] : [0.027] : [0.]\n",
            "15 :['AION V 2023款 Plus 80 智领版 三元锂'] : [0.029] : [0.]\n",
            "16 :['AION V 2023款 Plus 80 智享科技版 三元锂'] : [0.026] : [0.]\n",
            "17 :['AION V 2023款 Plus 80 智享七座版 三元锂'] : [0.025] : [0.]\n",
            "18 :['AION V 2023款 Plus 80 行政版 三元锂'] : [0.024] : [0.]\n",
            "19 :['AION V 2023款 Plus 80 领航智驾版 三元锂'] : [0.022] : [0.]\n",
            "20 :['AION V 2023款 Plus 80 领袖版 三元锂'] : [0.02] : [0.]\n",
            "21 :['AION V 2023款 Plus 70 极速快充版 三元锂'] : [0.024] : [0.]\n",
            "22 :['AION V 2023款 Plus 70 智领版 磷酸铁锂'] : [0.029] : [0.]\n",
            "23 :['AION V 2023款 Plus 70 行政版 磷酸铁锂'] : [0.025] : [0.]\n",
            "24 :['问界M5 2022款 四驱旗舰版'] : [0.022] : [0.]\n",
            "25 :['问界M5 2022款 后驱标准版'] : [0.019] : [0.]\n",
            "26 :['问界M5 2022款 四驱性能版'] : [0.019] : [0.]\n",
            "27 :['问界M5 2022款 四驱至臻版'] : [0.021] : [0.]\n",
            "28 :['海豹 2022款 550km 标准续航后驱版尊贵型'] : [0.323] : [0.]\n",
            "29 :['海豹 2022款 700km 长续航后驱版'] : [0.02] : [0.]\n",
            "30 :['海豹 2022款 650km 四驱性能版'] : [0.019] : [0.]\n",
            "31 :['宋PLUS新能源 2021款 DM-i 110KM 旗舰型'] : [0.744] : [1.]\n",
            "32 :['宋PLUS新能源 2021款 DM-i 110KM 旗舰PLUS'] : [0.772] : [1.]\n",
            "33 :['宋PLUS新能源 2021款 DM-i 110KM 旗舰PLUS 5G版'] : [0.685] : [1.]\n",
            "34 :['宋PLUS新能源 2021款 EV 旗舰型'] : [0.621] : [1.]\n",
            "35 :['长安CS75 PLUS 2022款 第二代 1.5T 自动豪华型'] : [0.172] : [0.]\n",
            "36 :['长安CS75 PLUS 2022款 第二代 1.5T 自动尊贵型'] : [0.222] : [0.]\n",
            "37 :['长安CS75 PLUS 2022款 第二代 1.5T 自动尊享型'] : [0.203] : [0.]\n",
            "38 :['长安CS75 PLUS 2022款 第二代 1.5T 自动领航型'] : [0.084] : [0.]\n",
            "39 :['长安CS75 PLUS 2022款 第二代 2.0T 自动尊贵型'] : [0.105] : [0.]\n",
            "40 :['长安CS75 PLUS 2022款 第二代 2.0T 自动领航型'] : [0.068] : [0.]\n",
            "41 :['长安CS75 PLUS 2022款 第二代 2.0T 自动旗舰型'] : [0.036] : [0.]\n",
            "42 :['长安CS75 PLUS 2022款 1.5T 自动精英型'] : [0.048] : [0.]\n",
            "43 :['长安CS75 PLUS 2022款 1.5T 自动豪华型'] : [0.295] : [0.]\n",
            "44 :['长安CS75 PLUS 2022款 1.5T 自动尊贵型'] : [0.462] : [0.]\n",
            "45 :['长安CS75 PLUS 2022款 2.0T 自动领航型'] : [0.208] : [0.]\n",
            "46 :['长安CS75 PLUS 2022款 2.0T 自动旗舰型'] : [0.669] : [1.]\n",
            "47 :['长安CS75 PLUS 2021款 1.5T 手动豪华型'] : [0.049] : [0.]\n",
            "48 :['长安CS75 PLUS 2021款 1.5T 自动精英型'] : [0.046] : [0.]\n",
            "49 :['长安CS75 PLUS 2021款 2.0T 自动旗舰型'] : [0.676] : [1.]\n",
            "50 :['长安CS75 PLUS 2020款 1.5T 手动豪华型'] : [0.19] : [0.]\n",
            "51 :['长安CS75 PLUS 2020款 1.5T 自动精英型'] : [0.19] : [0.]\n",
            "52 :['长安CS75 PLUS 2020款 1.5T 自动豪华型'] : [0.578] : [1.]\n",
            "53 :['长安CS75 PLUS 2020款 1.5T 自动尊贵型'] : [0.712] : [1.]\n",
            "54 :['长安CS75 PLUS 2020款 2.0T 自动领航型'] : [0.719] : [1.]\n",
            "55 :['长安CS75 PLUS 2020款 2.0T 自动旗舰型'] : [0.676] : [1.]\n",
            "56 :['影酷 2022款 1.5T DCT基本型'] : [0.375] : [0.]\n",
            "57 :['AION V 2022款 Plus 70 智领版 三元锂'] : [0.357] : [0.]\n",
            "58 :['AION V 2022款 Plus 80 领袖版 三元锂'] : [0.051] : [0.]\n",
            "59 :['AION V 2021款 Plus 70 智领版 磷酸铁锂'] : [0.369] : [0.]\n",
            "60 :['AION V 2021款 Plus 70 智享科技版 磷酸铁锂'] : [0.291] : [0.]\n",
            "61 :['AION V 2021款 Plus 70 超级快充版 三元锂'] : [0.275] : [0.]\n",
            "62 :['AION V 2021款 Plus 80 智领版 三元锂'] : [0.325] : [0.]\n",
            "63 :['AION V 2021款 Plus 80 智享科技版 三元锂'] : [0.268] : [0.]\n",
            "64 :['AION V 2021款 Plus 80 领航智驾版 三元锂'] : [0.199] : [0.]\n",
            "65 :['AION V 2021款 Plus 90 超长续航版 三元锂'] : [0.102] : [0.]\n",
            "66 :['星越L 2021款 2.0TD DCT EVO两驱智尊型'] : [0.861] : [1.]\n",
            "67 :['星越L 2021款 2.0TD DCT EVO两驱旗舰型'] : [0.861] : [1.]\n",
            "68 :['星越L 2021款 2.0TD 高功自动四驱尊贵型'] : [0.861] : [1.]\n",
            "69 :['星越L 2021款 2.0TD 高功自动四驱旗舰型'] : [0.861] : [1.]\n",
            "70 :['海豹 2022款 550km 标准续航后驱版精英型'] : [0.323] : [0.]\n",
            "71 :['宋PLUS新能源 2021款 DM-i 51KM 尊贵型'] : [0.76] : [1.]\n",
            "72 :['宋PLUS新能源 2021款 DM-i 51KM 尊荣型'] : [0.75] : [1.]\n",
            "73 :['宋PLUS新能源 2021款 DM-i 100KM 四驱旗舰PLUS'] : [0.754] : [1.]\n",
            "74 :['宋PLUS新能源 2021款 DM-i 100KM 四驱旗舰PLUS 5G版'] : [0.09] : [0.]\n",
            "75 :['宋PLUS新能源 2021款 EV 尊贵型'] : [0.861] : [1.]\n",
            "76 :['长安CS75 PLUS 2021款 1.5T 自动先锋型'] : [0.048] : [0.]\n",
            "77 :['长安CS75 PLUS 2021款 1.5T 自动豪华型'] : [0.295] : [0.]\n",
            "78 :['长安CS75 PLUS 2021款 1.5T 自动尊贵型'] : [0.469] : [0.]\n",
            "79 :['长安CS75 PLUS 2021款 2.0T 自动领航型'] : [0.425] : [0.]\n",
            "80 :['AION V 2022款 Plus 70 行政版 磷酸铁锂'] : [0.079] : [0.]\n",
            "81 :['AION V 2022款 Plus 70 行政版 三元锂'] : [0.071] : [0.]\n",
            "82 :['AION V 2022款 Plus 70 智享科技版 三元锂'] : [0.291] : [0.]\n",
            "83 :['AION V 2022款 Plus 80 行政版 三元锂'] : [0.056] : [0.]\n",
            "84 :['AION V 2021款 进化版 70 智领版'] : [0.39] : [0.]\n",
            "85 :['AION V 2021款 进化版 70 智享科技版'] : [0.32] : [0.]\n",
            "86 :['AION V 2021款 进化版 80 智领版'] : [0.363] : [0.]\n",
            "87 :['AION V 2021款 进化版 80 智享科技版'] : [0.29] : [0.]\n",
            "88 :['AION V 2021款 进化版 80 MAX版'] : [0.276] : [0.]\n",
            "89 :['AION V 2020款 70 智领版'] : [0.357] : [0.]\n",
            "90 :['AION V 2020款 70 畅享健康版'] : [0.312] : [0.]\n",
            "91 :['AION V 2020款 70 智享科技版'] : [0.342] : [0.]\n",
            "92 :['AION V 2020款 70 悦享智驾版'] : [0.308] : [0.]\n",
            "93 :['AION V 2020款 70 驾享智尊版'] : [0.315] : [0.]\n",
            "94 :['AION V 2020款 70 PLUS 智领版'] : [0.362] : [0.]\n",
            "95 :['AION V 2020款 80 智领版'] : [0.333] : [0.]\n",
            "96 :['AION V 2020款 80 畅享健康版'] : [0.292] : [0.]\n",
            "97 :['AION V 2020款 80 智享科技版'] : [0.29] : [0.]\n",
            "98 :['AION V 2020款 80 悦享智驾版'] : [0.291] : [0.]\n",
            "99 :['AION V 2020款 80 驾享智尊版'] : [0.27] : [0.]\n",
            "100 :['AION V 2020款 80 MAX版'] : [0.275] : [0.]\n",
            "101 :['星越L 2022款 1.5T 雷神Hi·X油电混动版 Super迅'] : [0.861] : [1.]\n",
            "102 :['星越L 2022款 1.5T 雷神Hi·X油电混动版 Super睿'] : [0.861] : [1.]\n",
            "103 :['星越L 2021款 2.0TD DCT EVO两驱舒适型'] : [0.293] : [0.]\n",
            "104 :['星越L 2021款 2.0TD DCT EVO两驱豪华型'] : [0.654] : [1.]\n",
            "105 :['星越L 2021款 2.0TD DCT EVO两驱尊贵型'] : [0.814] : [1.]\n",
            "106 :['Model Y 2022款 后轮驱动版'] : [0.028] : [0.]\n",
            "107 :['Model Y 2022款 长续航全轮驱动版'] : [0.047] : [0.]\n",
            "108 :['Model Y 2021款 Performance高性能全轮驱动版'] : [0.032] : [0.]\n",
            "109 :['Model Y 2021款 标准续航后驱版'] : [0.026] : [0.]\n",
            "110 :['Model Y 2021款 长续航全轮驱动版'] : [0.048] : [0.]\n",
            "111 :['Model Y 2021款 长续航全轮驱动版 3D7'] : [0.044] : [0.]\n",
            "112 :['Model Y 2021款 改款 长续航全轮驱动版 3D5'] : [0.043] : [0.]\n",
            "113 :['Model Y 2021款 改款二 长续航全轮驱动版'] : [0.033] : [0.]\n",
            "114 :['问界M5 2022款 M5e 两驱纯电基本型'] : [0.022] : [0.]\n",
            "115 :['问界M5 2022款 M5e 四驱纯电基本型'] : [0.024] : [0.]\n",
            "116 :['拿铁DHT-PHEV 2022款 1.5T 两驱大杯'] : [0.025] : [0.]\n",
            "117 :['拿铁DHT-PHEV 2022款 1.5T 两驱超大杯'] : [0.018] : [0.]\n",
            "118 :['拿铁DHT-PHEV 2022款 1.5T 四驱超大杯'] : [0.013] : [0.]\n"
          ]
        }
      ]
    },
    {
      "cell_type": "code",
      "source": [
        "new_y_predict = np.zeros((new_car_predict.shape))\n",
        "new_y_predict [new_car_predict > 0.5] = 1\n",
        "new_y_true = np.zeros((new_y_predict.shape))\n",
        "new_y_true[row_car_dict == dsc_up[row_user_dst, 31]] = 1\n",
        "\n",
        "print(confusion_matrix(new_y_true, new_y_predict))\n",
        "print(classification_report(new_y_true, new_y_predict))\n"
      ],
      "metadata": {
        "colab": {
          "base_uri": "https://localhost:8080/"
        },
        "id": "6x8FD7Sdt4bC",
        "outputId": "70e30a40-09c2-4bd7-ac47-5f13a9504a82"
      },
      "execution_count": null,
      "outputs": [
        {
          "output_type": "stream",
          "name": "stdout",
          "text": [
            "[[97 21]\n",
            " [ 0  1]]\n",
            "              precision    recall  f1-score   support\n",
            "\n",
            "         0.0       1.00      0.82      0.90       118\n",
            "         1.0       0.05      1.00      0.09         1\n",
            "\n",
            "    accuracy                           0.82       119\n",
            "   macro avg       0.52      0.91      0.49       119\n",
            "weighted avg       0.99      0.82      0.90       119\n",
            "\n"
          ]
        }
      ]
    },
    {
      "cell_type": "code",
      "source": [
        "dsc_up[row_user_dst, 31]"
      ],
      "metadata": {
        "colab": {
          "base_uri": "https://localhost:8080/"
        },
        "id": "-WY3LkDbADbg",
        "outputId": "fcc21ba9-15c0-4cdc-e589-b8173e7da8d1"
      },
      "execution_count": null,
      "outputs": [
        {
          "output_type": "execute_result",
          "data": {
            "text/plain": [
              "array([68], dtype=object)"
            ]
          },
          "metadata": {},
          "execution_count": 95
        }
      ]
    },
    {
      "cell_type": "code",
      "source": [
        "new_y_predict_vs = np.concatenate((new_y_predict, new_y_true), axis=1)\n",
        "new_y_predict_vs = np.concatenate((new_car_predict, new_y_predict_vs), axis=1)\n",
        "new_y_predict_df = pd.DataFrame(new_y_predict_vs)\n",
        "new_y_predict_df.to_csv(r'/content/new_car_predict_vs.csv', encoding='UTF-8')"
      ],
      "metadata": {
        "id": "gplApG3yjI9P"
      },
      "execution_count": null,
      "outputs": []
    },
    {
      "cell_type": "markdown",
      "source": [
        "基于某款车预测不同用户的购买倾向"
      ],
      "metadata": {
        "id": "MzhVNUg0Y0vr"
      }
    },
    {
      "cell_type": "code",
      "source": [
        "row_car_dict = [5]\n",
        "row_user_dst = np.arange(0, num_users)\n",
        "new_car = gen_car_vecs(car_unscaled[row_car_dict], len(row_user_dst))\n",
        "new_user = user_unscaled[row_user_dst]\n",
        "\n",
        "new_user_scal = scalerUser.transform(new_user)\n",
        "new_car_scal = scalerCar.transform(new_car)\n",
        "new_car_predict = model.predict([[new_user_scal, new_car_scal]])"
      ],
      "metadata": {
        "colab": {
          "base_uri": "https://localhost:8080/"
        },
        "id": "bIjPzfT7t7uL",
        "outputId": "e75f1c81-64d7-42c6-f9e5-41e8f4e1e7a2"
      },
      "execution_count": null,
      "outputs": [
        {
          "output_type": "stream",
          "name": "stdout",
          "text": [
            "121/121 [==============================] - 0s 2ms/step\n"
          ]
        }
      ]
    },
    {
      "cell_type": "code",
      "source": [
        "new_y_predict = np.zeros((new_car_predict.shape))\n",
        "new_y_predict [new_car_predict > 0.5] = 1\n",
        "new_y_true = np.zeros((new_y_predict.shape))\n",
        "new_y_true[dsc_up[0:, 31] == row_car_dict] = 1\n",
        "\n",
        "print(confusion_matrix(new_y_true, new_y_predict))\n",
        "print(classification_report(new_y_true, new_y_predict))"
      ],
      "metadata": {
        "colab": {
          "base_uri": "https://localhost:8080/"
        },
        "id": "CzeIxA3cTDwo",
        "outputId": "c6a9a93d-7ae2-4360-f6b8-59f55fae92cb"
      },
      "execution_count": null,
      "outputs": [
        {
          "output_type": "stream",
          "name": "stdout",
          "text": [
            "[[3208  553]\n",
            " [   4   96]]\n",
            "              precision    recall  f1-score   support\n",
            "\n",
            "         0.0       1.00      0.85      0.92      3761\n",
            "         1.0       0.15      0.96      0.26       100\n",
            "\n",
            "    accuracy                           0.86      3861\n",
            "   macro avg       0.57      0.91      0.59      3861\n",
            "weighted avg       0.98      0.86      0.90      3861\n",
            "\n"
          ]
        }
      ]
    },
    {
      "cell_type": "code",
      "source": [
        "new_y_predict_vs = np.concatenate((new_y_predict, new_y_true), axis=1)\n",
        "new_y_predict_vs = np.concatenate((new_car_predict, new_y_predict_vs), axis=1)\n",
        "new_y_predict_df = pd.DataFrame(new_y_predict_vs)\n",
        "new_y_predict_df.to_csv(r'/content/new_user_predict_vs2.csv', encoding='UTF-8')"
      ],
      "metadata": {
        "id": "VJuVzJhAakQ0"
      },
      "execution_count": null,
      "outputs": []
    },
    {
      "cell_type": "markdown",
      "source": [
        "**others：**"
      ],
      "metadata": {
        "id": "NauogkcV9kuv"
      }
    },
    {
      "cell_type": "code",
      "source": [],
      "metadata": {
        "id": "TpGia9Jn9kWg"
      },
      "execution_count": null,
      "outputs": []
    },
    {
      "cell_type": "code",
      "source": [
        "new_car_predict = np.concatenate((new_car_predict, dsc_up[0:, 30].reshape(-1, 1)), axis=1)\n",
        "new_car_predict_df = pd.DataFrame(new_car_predict)\n",
        "new_car_predict_df.to_csv(r'/content/new_car_predict3.csv', encoding='UTF-8')"
      ],
      "metadata": {
        "id": "ir8FQxgSuBos"
      },
      "execution_count": null,
      "outputs": []
    },
    {
      "cell_type": "code",
      "source": [
        "a = np.array([0,1,2])\n",
        "b = np.array([1,2,3])\n",
        "print(np.dot(a,b))"
      ],
      "metadata": {
        "colab": {
          "base_uri": "https://localhost:8080/"
        },
        "id": "GdCIMoxIZL2D",
        "outputId": "6c1c6478-948d-4fcc-c7bb-d5ad89187bd3"
      },
      "execution_count": null,
      "outputs": [
        {
          "output_type": "stream",
          "name": "stdout",
          "text": [
            "8\n"
          ]
        }
      ]
    }
  ]
}