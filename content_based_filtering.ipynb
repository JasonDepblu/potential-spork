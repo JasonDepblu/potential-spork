{
  "nbformat": 4,
  "nbformat_minor": 0,
  "metadata": {
    "colab": {
      "provenance": [],
      "authorship_tag": "ABX9TyO+6hWdcwsausz2VNX45/tt",
      "include_colab_link": true
    },
    "kernelspec": {
      "name": "python3",
      "display_name": "Python 3"
    },
    "language_info": {
      "name": "python"
    },
    "gpuClass": "standard"
  },
  "cells": [
    {
      "cell_type": "markdown",
      "metadata": {
        "id": "view-in-github",
        "colab_type": "text"
      },
      "source": [
        "<a href=\"https://colab.research.google.com/github/JasonDepblu/potential-spork/blob/main/content_based_filtering.ipynb\" target=\"_parent\"><img src=\"https://colab.research.google.com/assets/colab-badge.svg\" alt=\"Open In Colab\"/></a>"
      ]
    },
    {
      "cell_type": "code",
      "execution_count": 78,
      "metadata": {
        "id": "8vH4YZrHC2En"
      },
      "outputs": [],
      "source": [
        "# %%\n",
        "import time\n",
        "import pandas as pd\n",
        "import numpy as np\n",
        "import random\n",
        "import mpl_toolkits.axisartist as ast\n",
        "from matplotlib import pyplot as plt\n",
        "from mpl_toolkits.mplot3d import Axes3D\n",
        "from tensorflow import keras\n",
        "import tensorflow as tf\n",
        "from keras import layers, models, optimizers\n",
        "from sklearn.model_selection import train_test_split\n",
        "from sklearn.metrics import confusion_matrix\n",
        "from sklearn.metrics import classification_report\n",
        "from sklearn.preprocessing import StandardScaler, MinMaxScaler\n",
        "from sklearn.preprocessing import OneHotEncoder\n",
        "from sklearn.decomposition import PCA\n",
        "import copy"
      ]
    },
    {
      "cell_type": "code",
      "source": [
        "# load the data\n",
        "dsc_up_df = pd.read_csv(\n",
        "    r'/content/dsc_up.csv')\n",
        "car_dict_df = pd.read_csv(\n",
        "    r'/content/car_dict.csv')\n",
        "\n",
        "dsc_up_df = dsc_up_df.replace({np.NaN: 0})\n",
        "car_dict_df = car_dict_df.replace({np.NaN: 0})\n",
        "\n",
        "dsc_up = dsc_up_df.values\n",
        "car_dict = car_dict_df.values"
      ],
      "metadata": {
        "id": "S-Q9NYd0DIkH"
      },
      "execution_count": 79,
      "outputs": []
    },
    {
      "cell_type": "code",
      "source": [
        "# load the label\n",
        "print(car_dict.shape)\n",
        "print(dsc_up.shape)\n",
        "\n",
        "ys_up = dsc_up[:, 31]\n",
        "print(ys_up)"
      ],
      "metadata": {
        "colab": {
          "base_uri": "https://localhost:8080/"
        },
        "id": "ZNay43VdDXtA",
        "outputId": "09027d85-80b9-4c88-805b-e43b0c489ae0"
      },
      "execution_count": 80,
      "outputs": [
        {
          "output_type": "stream",
          "name": "stdout",
          "text": [
            "(42, 84)\n",
            "(3861, 33)\n",
            "[9 9 9 ... 20 20 20]\n"
          ]
        }
      ]
    },
    {
      "cell_type": "code",
      "source": [
        "# transfer the label to onehot_code\n",
        "ys = copy.copy(ys_up.reshape(len(ys_up), 1))\n",
        "ys -= 1\n",
        "onehot_encoder = OneHotEncoder(sparse=False)\n",
        "onehot_encoded = onehot_encoder.fit_transform(ys)\n",
        "ys = onehot_encoded\n",
        "print(ys.shape)"
      ],
      "metadata": {
        "colab": {
          "base_uri": "https://localhost:8080/"
        },
        "id": "S17GJ8SJ0adp",
        "outputId": "1b73103e-5a59-419b-a777-b993d153e9e3"
      },
      "execution_count": 81,
      "outputs": [
        {
          "output_type": "stream",
          "name": "stdout",
          "text": [
            "(3861, 42)\n"
          ]
        }
      ]
    },
    {
      "cell_type": "code",
      "source": [
        "# column of last feature from 0 and +1\n",
        "col_last_feature_car = 80\n",
        "    #76\n",
        "col_last_feature_user = 28\n",
        "car_unscaled = car_dict[:, 1:col_last_feature_car]\n",
        "user_unscaled = dsc_up[:, 1:col_last_feature_user]\n",
        "\n",
        "# generate the gaussian random no. to budget feature\n",
        "for i in range(len(user_unscaled)):\n",
        "    user_unscaled[i, 23] += random.gauss(0, 2)\n",
        "\n",
        "scalerCar = StandardScaler()\n",
        "scalerCar.fit(car_dict[:, 1:col_last_feature_car])\n",
        "car = scalerCar.transform(car_dict[:, 1:col_last_feature_car])\n",
        "\n",
        "scalerUser = StandardScaler()\n",
        "scalerUser.fit(dsc_up[:, 1:col_last_feature_user])\n",
        "user = scalerUser.transform(dsc_up[:, 1:col_last_feature_user])\n",
        "\n",
        "print(np.allclose(car_unscaled.astype(float), scalerCar.inverse_transform(car)))\n",
        "print(np.allclose(user_unscaled.astype(float), scalerUser.inverse_transform(user)))"
      ],
      "metadata": {
        "id": "F1Qh3rh_6v7a",
        "colab": {
          "base_uri": "https://localhost:8080/"
        },
        "outputId": "3b97605d-5928-4ad8-ce04-f03855312f85"
      },
      "execution_count": 82,
      "outputs": [
        {
          "output_type": "stream",
          "name": "stdout",
          "text": [
            "True\n",
            "True\n"
          ]
        }
      ]
    },
    {
      "cell_type": "code",
      "source": [
        "# func for generating num_items users of different cars\n",
        "def gen_user_vecs(user_vec, num_items):\n",
        "    \"\"\" given a user vector return:\n",
        "        user predict matrix to match the size of item_vecs \"\"\"\n",
        "    user_vecs = np.tile(user_vec, (1, num_items))\n",
        "    return user_vecs\n",
        "\n",
        "def gen_car_vecs(car_vec, num_users):\n",
        "    car_vecs = np.tile(car_vec, (num_users, 1))\n",
        "    return car_vecs"
      ],
      "metadata": {
        "id": "z3Ze_4Ri6b7w"
      },
      "execution_count": 83,
      "outputs": []
    },
    {
      "cell_type": "code",
      "source": [
        "# pca analysis\n",
        "pca_25 = PCA(n_components=25)\n",
        "print(pca_25)\n",
        "pca_25.fit(user)\n",
        "print(pca_25.explained_variance_ratio_)\n",
        "\n",
        "# %%\n",
        "pca_30 = PCA(n_components=2)\n",
        "print(pca_30)\n",
        "pca_30.fit(car_dict[:, 1:15])\n",
        "print(pca_30.explained_variance_ratio_)\n",
        "c_trans = pca_30.transform(car_dict[:, 1:15])\n",
        "# plt.plot(c_trans[:, 0], c_trans[:, 1], 'ro')\n"
      ],
      "metadata": {
        "colab": {
          "base_uri": "https://localhost:8080/"
        },
        "id": "oBhji5xWngVa",
        "outputId": "4959ff8d-9b8c-49f8-c915-6c356c2d01ef"
      },
      "execution_count": 47,
      "outputs": [
        {
          "output_type": "stream",
          "name": "stdout",
          "text": [
            "PCA(n_components=25)\n",
            "[0.08287574 0.06544049 0.0587619  0.05161688 0.050443   0.04443532\n",
            " 0.041235   0.04090239 0.04014006 0.03757751 0.03699086 0.03649971\n",
            " 0.03558192 0.03527921 0.03455306 0.03398451 0.03283844 0.03166255\n",
            " 0.03080355 0.02962072 0.02933324 0.02741804 0.02560302 0.02444076\n",
            " 0.02417203]\n",
            "PCA(n_components=2)\n",
            "[0.75284688 0.19200572]\n"
          ]
        }
      ]
    },
    {
      "cell_type": "code",
      "source": [
        "# generate num_items users for different cars\n",
        "user_vecs = gen_user_vecs(user, len(car_dict))\n",
        "user_vecs = user_vecs.reshape(-1, user.shape[1])\n",
        "car_vecs = gen_car_vecs(car, len(dsc_up))\n",
        "\n",
        "ys = ys.reshape(-1, 1)\n",
        "print(user_vecs.shape)\n",
        "print(car_vecs.shape)\n",
        "print(ys.shape)"
      ],
      "metadata": {
        "colab": {
          "base_uri": "https://localhost:8080/"
        },
        "id": "JtbYTY3rnxK_",
        "outputId": "4c5a01f2-c24c-424c-f519-79fa480813a8"
      },
      "execution_count": 84,
      "outputs": [
        {
          "output_type": "stream",
          "name": "stdout",
          "text": [
            "(162162, 27)\n",
            "(162162, 79)\n",
            "(162162, 1)\n"
          ]
        }
      ]
    },
    {
      "cell_type": "code",
      "source": [
        "ys[ys == 0].shape"
      ],
      "metadata": {
        "colab": {
          "base_uri": "https://localhost:8080/"
        },
        "id": "j_LlJZomsOBU",
        "outputId": "17e44630-77c2-4afc-f54d-ccd77be89f3e"
      },
      "execution_count": 85,
      "outputs": [
        {
          "output_type": "execute_result",
          "data": {
            "text/plain": [
              "(158301,)"
            ]
          },
          "metadata": {},
          "execution_count": 85
        }
      ]
    },
    {
      "cell_type": "code",
      "source": [
        "# # case 2\n",
        "# car_train, car_test = train_test_split(car_vecs, train_size=0.8, shuffle=True, random_state=2023)\n",
        "# user_train, user_test = train_test_split(user_vecs, train_size=0.8, shuffle=True, random_state=2023)\n",
        "# ys_train, ys_test = train_test_split(ys, train_size=0.8, shuffle=True, random_state=2023)\n",
        "\n",
        "# car_val, car_test = train_test_split(car_test, train_size=0.5, shuffle=True, random_state=2023)\n",
        "# user_val, user_test = train_test_split(user_test, train_size=0.5, shuffle=True, random_state=2023)\n",
        "# ys_val, ys_test = train_test_split(ys_test, train_size=0.5, shuffle=True, random_state=2023)"
      ],
      "metadata": {
        "id": "Exgz6gDNsG0e"
      },
      "execution_count": 14,
      "outputs": []
    },
    {
      "cell_type": "code",
      "source": [
        "randnum = random.randint(0, 100)\n",
        "print(randnum)\n",
        "random.seed(randnum)"
      ],
      "metadata": {
        "colab": {
          "base_uri": "https://localhost:8080/"
        },
        "id": "milRRhMVQKXV",
        "outputId": "1e0f0093-ce18-4893-fd1b-f1cd35a5ca2a"
      },
      "execution_count": 86,
      "outputs": [
        {
          "output_type": "stream",
          "name": "stdout",
          "text": [
            "42\n"
          ]
        }
      ]
    },
    {
      "cell_type": "code",
      "source": [
        "# # case 2\n",
        "# user_train_one = user_train[(ys_train == 1)[:, 0]]\n",
        "# user_train_one = gen_car_vecs(user_train_one, np.ceil(len(car_dict) * 0.3 -1).astype(int))\n",
        "# user_train_zero = user_train[(ys_train == 0)[:, 0]]\n",
        "# user_train = np.concatenate((user_train_zero, user_train_one), axis=0)\n",
        "# random.seed(randnum)\n",
        "# random.shuffle(user_train)\n",
        "# print(user_train.shape)"
      ],
      "metadata": {
        "id": "06DItVnFhowy"
      },
      "execution_count": null,
      "outputs": []
    },
    {
      "cell_type": "code",
      "source": [
        "# # case 2\n",
        "# car_train_one = car_train[(ys_train == 1)[:, 0]]\n",
        "# car_train_one = gen_car_vecs(car_train_one, np.ceil(len(car_dict) * 0.3 -1).astype(int))\n",
        "# car_train_zero = car_train[(ys_train == 0)[:, 0]]\n",
        "# car_train = np.concatenate((car_train_zero, car_train_one), axis=0)\n",
        "# random.seed(randnum)\n",
        "# random.shuffle(car_train)\n",
        "# print(car_train.shape)"
      ],
      "metadata": {
        "id": "SCElRjrGiCqJ"
      },
      "execution_count": null,
      "outputs": []
    },
    {
      "cell_type": "code",
      "source": [
        "# # case 2\n",
        "# ys_one = ys_train[(ys_train == 1)[:, 0]]\n",
        "# ys_one = gen_car_vecs(ys_one, np.ceil(len(car_dict) * 0.3 -1).astype(int))\n",
        "# ys_zero = ys_train[(ys_train == 0)[:, 0]]\n",
        "# ys_train = np.concatenate((ys_zero, ys_one), axis=0)\n",
        "# random.seed(randnum)\n",
        "# random.shuffle(ys_train)\n",
        "# print(ys_train.shape)"
      ],
      "metadata": {
        "id": "8IAExZSfiCcW"
      },
      "execution_count": null,
      "outputs": []
    },
    {
      "cell_type": "code",
      "source": [
        "# user_vecs_one = user_vecs[(ys == 1)[:, 0]]"
      ],
      "metadata": {
        "id": "vekhBc82s5CX"
      },
      "execution_count": 36,
      "outputs": []
    },
    {
      "cell_type": "code",
      "source": [
        "# num_users = user_vecs_one.shape[0]\n",
        "# print(num_users)\n"
      ],
      "metadata": {
        "id": "zAEEnmaPs_96"
      },
      "execution_count": null,
      "outputs": []
    },
    {
      "cell_type": "code",
      "source": [
        "# user_vecs_zero = user_vecs[(ys == 0)[:, 0]]\n",
        "# num_zeros = user_vecs_zero.shape[0]\n",
        "# print(num_zeros)"
      ],
      "metadata": {
        "id": "ptj2UlkZuC2n"
      },
      "execution_count": null,
      "outputs": []
    },
    {
      "cell_type": "code",
      "source": [
        "# random.seed(randnum)"
      ],
      "metadata": {
        "id": "0AhtIQYvui-c"
      },
      "execution_count": 39,
      "outputs": []
    },
    {
      "cell_type": "code",
      "source": [
        "# sample_row = np.random.choice(np.arange(num_zeros), size=num_users, replace=False)"
      ],
      "metadata": {
        "id": "wAszpAvxtCW2"
      },
      "execution_count": 40,
      "outputs": []
    },
    {
      "cell_type": "code",
      "source": [
        "# sample_row"
      ],
      "metadata": {
        "id": "XBxdkxGuskpD"
      },
      "execution_count": null,
      "outputs": []
    },
    {
      "cell_type": "code",
      "source": [
        "# user_vecs_zero = user_vecs_zero[sample_row]\n",
        "# print(user_vecs_zero.shape)"
      ],
      "metadata": {
        "id": "h3MhNu3Eu3_k"
      },
      "execution_count": null,
      "outputs": []
    },
    {
      "cell_type": "code",
      "source": [
        "# case 3\n",
        "user_vecs_one = user_vecs[(ys == 1)[:, 0]]\n",
        "# user_vecs_one = gen_car_vecs(user_vecs_one, len(car_dict)-1)\n",
        "user_vecs_zero = user_vecs[(ys == 0)[:, 0]]\n",
        "num_users = user_vecs_one.shape[0]\n",
        "num_zeros = user_vecs_zero.shape[0]\n",
        "random.seed(randnum)\n",
        "\n",
        "sample_row = np.random.choice(np.arange(num_zeros), size=num_users, replace=False)\n",
        "user_vecs_zero = user_vecs_zero[sample_row]\n",
        "user_vecs = np.concatenate((user_vecs_zero, user_vecs_one), axis=0)\n",
        "\n",
        "random.seed(44)\n",
        "shuffle_row = np.random.choice(np.arange(0,len(user_vecs)), len(user_vecs), replace=False)\n",
        "user_vecs = user_vecs[shuffle_row]\n",
        "print(user_vecs.shape)"
      ],
      "metadata": {
        "colab": {
          "base_uri": "https://localhost:8080/"
        },
        "id": "Od4AHZ9ln_Q-",
        "outputId": "e73eb818-398b-4f1d-fdcb-983983132851"
      },
      "execution_count": 87,
      "outputs": [
        {
          "output_type": "stream",
          "name": "stdout",
          "text": [
            "(7722, 27)\n"
          ]
        }
      ]
    },
    {
      "cell_type": "code",
      "source": [
        "# case3\n",
        "car_vecs_one = car_vecs[(ys == 1)[:, 0]]\n",
        "# car_vecs_one = gen_car_vecs(car_vecs_one, len(car_dict)-1)\n",
        "\n",
        "car_vecs_zero = car_vecs[(ys == 0)[:, 0]][sample_row]\n",
        "car_vecs = np.concatenate((car_vecs_zero, car_vecs_one), axis=0)\n",
        "\n",
        "car_vecs = car_vecs[shuffle_row]\n",
        "print(car_vecs.shape)"
      ],
      "metadata": {
        "colab": {
          "base_uri": "https://localhost:8080/"
        },
        "id": "RqhTucG6n69P",
        "outputId": "2e6f67c9-93f2-4173-c4cc-5b2f14cf877f"
      },
      "execution_count": 88,
      "outputs": [
        {
          "output_type": "stream",
          "name": "stdout",
          "text": [
            "(7722, 79)\n"
          ]
        }
      ]
    },
    {
      "cell_type": "code",
      "source": [
        "# case 3\n",
        "ys_one = ys[(ys == 1)[:, 0]]\n",
        "# ys_one = gen_car_vecs(ys_one, len(car_dict)-1)\n",
        "\n",
        "ys_zero = ys[(ys == 0)[:, 0]][sample_row]\n",
        "ys = np.concatenate((ys_zero, ys_one), axis=0)\n",
        "\n",
        "ys = ys[shuffle_row]\n",
        "print(ys.shape)"
      ],
      "metadata": {
        "colab": {
          "base_uri": "https://localhost:8080/"
        },
        "id": "3-HMFlwboBib",
        "outputId": "647ed8a1-dd48-4c89-8549-34267e706b17"
      },
      "execution_count": 89,
      "outputs": [
        {
          "output_type": "stream",
          "name": "stdout",
          "text": [
            "(7722, 1)\n"
          ]
        }
      ]
    },
    {
      "cell_type": "code",
      "source": [
        "print(ys[0:50])"
      ],
      "metadata": {
        "colab": {
          "base_uri": "https://localhost:8080/"
        },
        "id": "Mx2H8HVTp6CV",
        "outputId": "b232e3b8-83c7-4fe9-93c1-72b5b4232afc"
      },
      "execution_count": 90,
      "outputs": [
        {
          "output_type": "stream",
          "name": "stdout",
          "text": [
            "[[1.]\n",
            " [0.]\n",
            " [1.]\n",
            " [1.]\n",
            " [1.]\n",
            " [1.]\n",
            " [0.]\n",
            " [0.]\n",
            " [1.]\n",
            " [1.]\n",
            " [1.]\n",
            " [1.]\n",
            " [1.]\n",
            " [1.]\n",
            " [0.]\n",
            " [0.]\n",
            " [1.]\n",
            " [1.]\n",
            " [0.]\n",
            " [1.]\n",
            " [1.]\n",
            " [1.]\n",
            " [1.]\n",
            " [1.]\n",
            " [0.]\n",
            " [0.]\n",
            " [0.]\n",
            " [1.]\n",
            " [0.]\n",
            " [0.]\n",
            " [1.]\n",
            " [1.]\n",
            " [1.]\n",
            " [0.]\n",
            " [0.]\n",
            " [1.]\n",
            " [0.]\n",
            " [0.]\n",
            " [1.]\n",
            " [1.]\n",
            " [1.]\n",
            " [0.]\n",
            " [1.]\n",
            " [0.]\n",
            " [1.]\n",
            " [0.]\n",
            " [1.]\n",
            " [1.]\n",
            " [0.]\n",
            " [1.]]\n"
          ]
        }
      ]
    },
    {
      "cell_type": "code",
      "source": [
        "# case 3\n",
        "car_train, car_test = train_test_split(car_vecs, train_size=0.8, shuffle=True, random_state=2023)\n",
        "user_train, user_test = train_test_split(user_vecs, train_size=0.8, shuffle=True, random_state=2023)\n",
        "ys_train, ys_test = train_test_split(ys, train_size=0.8, shuffle=True, random_state=2023)\n",
        "\n",
        "car_val, car_test = train_test_split(car_test, train_size=0.5, shuffle=True, random_state=2023)\n",
        "user_val, user_test = train_test_split(user_test, train_size=0.5, shuffle=True, random_state=2023)\n",
        "ys_val, ys_test = train_test_split(ys_test, train_size=0.5, shuffle=True, random_state=2023)"
      ],
      "metadata": {
        "id": "uw1qHr9lhWOW"
      },
      "execution_count": 91,
      "outputs": []
    },
    {
      "cell_type": "code",
      "source": [
        "print(f\"cars training data shape:{car_train.shape}\")\n",
        "print(f\"cars validating data shape:{car_val.shape}\")\n",
        "print(f\"cars testing data shape:{car_test.shape}\")\n",
        "\n",
        "print(f\"users training data shape:{user_train.shape}\")\n",
        "print(f\"users validating data shape:{user_val.shape}\")\n",
        "print(f\"users testing data shape:{user_test.shape}\")\n",
        "\n",
        "print(f\"ys training data shape:{ys_train.shape}\")\n",
        "print(f\"ys validating data shape:{ys_val.shape}\")\n",
        "print(f\"ys testing data shape:{ys_test.shape}\")"
      ],
      "metadata": {
        "colab": {
          "base_uri": "https://localhost:8080/"
        },
        "id": "Xnm6wtb2sKKv",
        "outputId": "4ca6828b-435c-44fe-a9d1-c4eef9d2a9f1"
      },
      "execution_count": 92,
      "outputs": [
        {
          "output_type": "stream",
          "name": "stdout",
          "text": [
            "cars training data shape:(6177, 79)\n",
            "cars validating data shape:(772, 79)\n",
            "cars testing data shape:(773, 79)\n",
            "users training data shape:(6177, 27)\n",
            "users validating data shape:(772, 27)\n",
            "users testing data shape:(773, 27)\n",
            "ys training data shape:(6177, 1)\n",
            "ys validating data shape:(772, 1)\n",
            "ys testing data shape:(773, 1)\n"
          ]
        }
      ]
    },
    {
      "cell_type": "code",
      "source": [
        "num_user_features = col_last_feature_user-1\n",
        "num_car_features = col_last_feature_car-1\n",
        "num_outputs = 64\n",
        "tf.random.set_seed(1)\n",
        "user_NN = tf.keras.models.Sequential([\n",
        "    tf.keras.layers.Dense(256, activation='relu'),\n",
        "    tf.keras.layers.Dense(128, activation='relu'),\n",
        "    tf.keras.layers.Dense(num_outputs, activation='relu'),\n",
        "])\n",
        "car_NN = tf.keras.models.Sequential([\n",
        "    tf.keras.layers.Dense(256, activation='relu'),\n",
        "    tf.keras.layers.Dense(128, activation='relu'),\n",
        "    tf.keras.layers.Dense(num_outputs, activation='relu'),\n",
        "])\n",
        "\n",
        "input_user = tf.keras.layers.Input(shape=(num_user_features))\n",
        "vu = user_NN(input_user)\n",
        "vu = tf.linalg.l2_normalize(vu, axis=1)\n",
        "\n",
        "input_car = tf.keras.layers.Input(shape=(num_car_features))\n",
        "vc = car_NN(input_car)\n",
        "vc = tf.linalg.l2_normalize(vc, axis=1)\n",
        "\n",
        "d_out = tf.keras.layers.Dot(axes=1)([vu, vc])\n",
        "output = tf.keras.layers.Dense(1, activation='sigmoid')(d_out)\n",
        "\n",
        "model = tf.keras.Model([input_user, input_car], output)\n",
        "model.summary()\n",
        "tf.keras.utils.plot_model(model, \"/content/my_model.png\")"
      ],
      "metadata": {
        "colab": {
          "base_uri": "https://localhost:8080/",
          "height": 952
        },
        "id": "bP3DkKKatJyi",
        "outputId": "5a8516e2-57c6-4eb4-83ed-87b5c6fef134"
      },
      "execution_count": 93,
      "outputs": [
        {
          "output_type": "stream",
          "name": "stdout",
          "text": [
            "Model: \"model_7\"\n",
            "__________________________________________________________________________________________________\n",
            " Layer (type)                   Output Shape         Param #     Connected to                     \n",
            "==================================================================================================\n",
            " input_15 (InputLayer)          [(None, 27)]         0           []                               \n",
            "                                                                                                  \n",
            " input_16 (InputLayer)          [(None, 79)]         0           []                               \n",
            "                                                                                                  \n",
            " sequential_14 (Sequential)     (None, 64)           48320       ['input_15[0][0]']               \n",
            "                                                                                                  \n",
            " sequential_15 (Sequential)     (None, 64)           61632       ['input_16[0][0]']               \n",
            "                                                                                                  \n",
            " tf.math.l2_normalize_14 (TFOpL  (None, 64)          0           ['sequential_14[0][0]']          \n",
            " ambda)                                                                                           \n",
            "                                                                                                  \n",
            " tf.math.l2_normalize_15 (TFOpL  (None, 64)          0           ['sequential_15[0][0]']          \n",
            " ambda)                                                                                           \n",
            "                                                                                                  \n",
            " dot_7 (Dot)                    (None, 1)            0           ['tf.math.l2_normalize_14[0][0]',\n",
            "                                                                  'tf.math.l2_normalize_15[0][0]']\n",
            "                                                                                                  \n",
            " dense_55 (Dense)               (None, 1)            2           ['dot_7[0][0]']                  \n",
            "                                                                                                  \n",
            "==================================================================================================\n",
            "Total params: 109,954\n",
            "Trainable params: 109,954\n",
            "Non-trainable params: 0\n",
            "__________________________________________________________________________________________________\n"
          ]
        },
        {
          "output_type": "execute_result",
          "data": {
            "image/png": "[encoded data removed]",
            "text/plain": [
              "<IPython.core.display.Image object>"
            ]
          },
          "metadata": {},
          "execution_count": 93
        }
      ]
    },
    {
      "cell_type": "code",
      "source": [
        "tf.random.set_seed(1)\n",
        "cost_fn = tf.keras.losses.MeanSquaredError()\n",
        "opt = keras.optimizers.Adam(learning_rate=0.01)\n",
        "model.compile(optimizer=opt, loss=cost_fn)"
      ],
      "metadata": {
        "id": "2gPZmKAitT2h"
      },
      "execution_count": 94,
      "outputs": []
    },
    {
      "cell_type": "code",
      "source": [
        "tf.random.set_seed(1)\n",
        "model.fit([user_train, car_train], ys_train, epochs=10)"
      ],
      "metadata": {
        "colab": {
          "base_uri": "https://localhost:8080/"
        },
        "id": "QXZsutVxtUfw",
        "outputId": "0f06a1a2-9441-452d-a3d8-ce143f97636d"
      },
      "execution_count": 95,
      "outputs": [
        {
          "output_type": "stream",
          "name": "stdout",
          "text": [
            "Epoch 1/10\n",
            "194/194 [==============================] - 3s 5ms/step - loss: 0.2247\n",
            "Epoch 2/10\n",
            "194/194 [==============================] - 1s 5ms/step - loss: 0.1959\n",
            "Epoch 3/10\n",
            "194/194 [==============================] - 1s 5ms/step - loss: 0.1832\n",
            "Epoch 4/10\n",
            "194/194 [==============================] - 1s 5ms/step - loss: 0.1768\n",
            "Epoch 5/10\n",
            "194/194 [==============================] - 1s 7ms/step - loss: 0.1704\n",
            "Epoch 6/10\n",
            "194/194 [==============================] - 1s 8ms/step - loss: 0.1642\n",
            "Epoch 7/10\n",
            "194/194 [==============================] - 1s 5ms/step - loss: 0.1551\n",
            "Epoch 8/10\n",
            "194/194 [==============================] - 1s 5ms/step - loss: 0.1501\n",
            "Epoch 9/10\n",
            "194/194 [==============================] - 1s 5ms/step - loss: 0.1440\n",
            "Epoch 10/10\n",
            "194/194 [==============================] - 1s 5ms/step - loss: 0.1388\n"
          ]
        },
        {
          "output_type": "execute_result",
          "data": {
            "text/plain": [
              "<keras.callbacks.History at 0x7f7cd216f040>"
            ]
          },
          "metadata": {},
          "execution_count": 95
        }
      ]
    },
    {
      "cell_type": "code",
      "source": [
        "model.evaluate([user_val, car_val], ys_val)"
      ],
      "metadata": {
        "colab": {
          "base_uri": "https://localhost:8080/"
        },
        "id": "k50a01wBtXr8",
        "outputId": "83151013-ee29-4488-fa65-b7173d8bf8b2"
      },
      "execution_count": 96,
      "outputs": [
        {
          "output_type": "stream",
          "name": "stdout",
          "text": [
            "25/25 [==============================] - 0s 3ms/step - loss: 0.1577\n"
          ]
        },
        {
          "output_type": "execute_result",
          "data": {
            "text/plain": [
              "0.15773653984069824"
            ]
          },
          "metadata": {},
          "execution_count": 96
        }
      ]
    },
    {
      "cell_type": "code",
      "source": [
        "ys_test.shape"
      ],
      "metadata": {
        "colab": {
          "base_uri": "https://localhost:8080/"
        },
        "id": "1JHYyjPvfPGL",
        "outputId": "bf8df146-306b-42f2-a6e2-faf80d41d7c8"
      },
      "execution_count": 71,
      "outputs": [
        {
          "output_type": "execute_result",
          "data": {
            "text/plain": [
              "(773, 1)"
            ]
          },
          "metadata": {},
          "execution_count": 71
        }
      ]
    },
    {
      "cell_type": "code",
      "source": [
        "model.evaluate([user_test[(ys_test == 0)[:, 0]], car_test[(ys_test == 0)[:, 0]]], ys_test[(ys_test == 0)[:, 0]])"
      ],
      "metadata": {
        "colab": {
          "base_uri": "https://localhost:8080/"
        },
        "id": "wWyGJ47d8FsR",
        "outputId": "3c03c523-42a4-451f-edcb-b6b35aca7b4c"
      },
      "execution_count": 97,
      "outputs": [
        {
          "output_type": "stream",
          "name": "stdout",
          "text": [
            "12/12 [==============================] - 0s 4ms/step - loss: 0.1752\n"
          ]
        },
        {
          "output_type": "execute_result",
          "data": {
            "text/plain": [
              "0.175175741314888"
            ]
          },
          "metadata": {},
          "execution_count": 97
        }
      ]
    },
    {
      "cell_type": "code",
      "source": [
        "ys_p_test = model.predict([[user_test, car_test]])\n",
        "ys_p_test_vs = np.concatenate((ys_p_test, ys_test), axis=1)\n",
        "ys_test_df = pd.DataFrame(ys_p_test_vs)\n",
        "ys_test_df.to_csv(r'/content/ys_p_test_6epoch.csv', encoding='UTF-8')"
      ],
      "metadata": {
        "colab": {
          "base_uri": "https://localhost:8080/"
        },
        "id": "pR91EXOOtbFv",
        "outputId": "9c702f13-6551-4e06-9865-3e07effc7d3a"
      },
      "execution_count": 98,
      "outputs": [
        {
          "output_type": "stream",
          "name": "stdout",
          "text": [
            "25/25 [==============================] - 0s 3ms/step\n"
          ]
        }
      ]
    },
    {
      "cell_type": "code",
      "source": [
        "# print the confusion matrix & report\n",
        "print(confusion_matrix(ys_test, np.round(ys_p_test)))\n",
        "print(classification_report(ys_test, np.round(ys_p_test)))"
      ],
      "metadata": {
        "colab": {
          "base_uri": "https://localhost:8080/"
        },
        "id": "xY380Qk3t0Xw",
        "outputId": "1b94b234-67f6-4da2-8182-fc4a9151a942"
      },
      "execution_count": 99,
      "outputs": [
        {
          "output_type": "stream",
          "name": "stdout",
          "text": [
            "[[264 114]\n",
            " [ 38 357]]\n",
            "              precision    recall  f1-score   support\n",
            "\n",
            "         0.0       0.87      0.70      0.78       378\n",
            "         1.0       0.76      0.90      0.82       395\n",
            "\n",
            "    accuracy                           0.80       773\n",
            "   macro avg       0.82      0.80      0.80       773\n",
            "weighted avg       0.81      0.80      0.80       773\n",
            "\n"
          ]
        }
      ]
    },
    {
      "cell_type": "code",
      "source": [
        "ys_test[ys_test==0].shape"
      ],
      "metadata": {
        "colab": {
          "base_uri": "https://localhost:8080/"
        },
        "id": "sQ4CArpxdnKe",
        "outputId": "139622a3-940c-43e6-e609-df54859f0474"
      },
      "execution_count": 54,
      "outputs": [
        {
          "output_type": "execute_result",
          "data": {
            "text/plain": [
              "(371,)"
            ]
          },
          "metadata": {},
          "execution_count": 54
        }
      ]
    },
    {
      "cell_type": "code",
      "source": [
        "ys_p_train = model.predict([[user_train, car_train]])"
      ],
      "metadata": {
        "colab": {
          "base_uri": "https://localhost:8080/"
        },
        "id": "_bhcLBm7A4_m",
        "outputId": "4f7868f0-2cba-4e0e-b60c-ef7debdbe333"
      },
      "execution_count": 75,
      "outputs": [
        {
          "output_type": "stream",
          "name": "stdout",
          "text": [
            "194/194 [==============================] - 1s 3ms/step\n"
          ]
        }
      ]
    },
    {
      "cell_type": "code",
      "source": [
        "# print the confusion matrix & report\n",
        "print(confusion_matrix(ys_train, np.round(ys_p_train)))\n",
        "print(classification_report(ys_train, np.round(ys_p_train)))"
      ],
      "metadata": {
        "colab": {
          "base_uri": "https://localhost:8080/"
        },
        "id": "9BmnL9PnXdCD",
        "outputId": "ca6adfe9-c535-476f-cb0e-e70f691d62f2"
      },
      "execution_count": 76,
      "outputs": [
        {
          "output_type": "stream",
          "name": "stdout",
          "text": [
            "[[2360  743]\n",
            " [ 146 2928]]\n",
            "              precision    recall  f1-score   support\n",
            "\n",
            "         0.0       0.94      0.76      0.84      3103\n",
            "         1.0       0.80      0.95      0.87      3074\n",
            "\n",
            "    accuracy                           0.86      6177\n",
            "   macro avg       0.87      0.86      0.85      6177\n",
            "weighted avg       0.87      0.86      0.85      6177\n",
            "\n"
          ]
        }
      ]
    },
    {
      "cell_type": "markdown",
      "source": [
        "基于某个用户，预测不同的车的购买倾向"
      ],
      "metadata": {
        "id": "JgvnydmXY9fv"
      }
    },
    {
      "cell_type": "code",
      "source": [
        "# predict the new car of new performance for specific user\n",
        "# define the cars and the user\n",
        "row_car_dict = np.arange(0, 42) \n",
        "row_user_dst = [3440]\n",
        "new_car = car_unscaled[row_car_dict]\n",
        "new_user = gen_car_vecs(user_unscaled[row_user_dst], len(row_car_dict))\n",
        "\n",
        "# predict the new car of new performance\n",
        "new_user_scal = scalerUser.transform(new_user)\n",
        "new_car_scal = scalerCar.transform(new_car)\n",
        "new_car_predict = model.predict([[new_user_scal, new_car_scal]])\n",
        "for i in range(len(row_car_dict)):\n",
        "    print(f'{i} :'\n",
        "          f'{car_dict[row_car_dict, 81].reshape(-1, 1)[i]} : {np.round(new_car_predict[i],3)}')"
      ],
      "metadata": {
        "colab": {
          "base_uri": "https://localhost:8080/"
        },
        "id": "3FTLt7gHt3zV",
        "outputId": "3a5b2409-e319-4152-a888-ce1684f80fe0"
      },
      "execution_count": 100,
      "outputs": [
        {
          "output_type": "stream",
          "name": "stdout",
          "text": [
            "2/2 [==============================] - 0s 8ms/step\n",
            "0 :['影酷 2022款 1.5T 超新星PRO版'] : [0.703]\n",
            "1 :['问界M5 2022款 四驱旗舰版'] : [0.029]\n",
            "2 :['问界M5 2022款 后驱标准版'] : [0.035]\n",
            "3 :['问界M5 2022款 四驱性能版'] : [0.031]\n",
            "4 :['问界M5 2022款 四驱至臻版'] : [0.029]\n",
            "5 :['海豹 2022款 550km 标准续航后驱版尊贵型'] : [0.124]\n",
            "6 :['海豹 2022款 700km 长续航后驱版'] : [0.043]\n",
            "7 :['海豹 2022款 650km 四驱性能版'] : [0.023]\n",
            "8 :['宋PLUS新能源 2021款 DM-i 110KM 旗舰型'] : [0.326]\n",
            "9 :['宋PLUS新能源 2021款 DM-i 110KM 旗舰PLUS'] : [0.285]\n",
            "10 :['宋PLUS新能源 2021款 EV 旗舰型'] : [0.149]\n",
            "11 :['长安CS75 PLUS 2022款 第二代 1.5T 自动尊贵型'] : [0.682]\n",
            "12 :['长安CS75 PLUS 2022款 1.5T 自动尊贵型'] : [0.673]\n",
            "13 :['长安CS75 PLUS 2022款 2.0T 自动旗舰型'] : [0.38]\n",
            "14 :['长安CS75 PLUS 2020款 1.5T 自动豪华型'] : [0.68]\n",
            "15 :['长安CS75 PLUS 2020款 1.5T 自动尊贵型'] : [0.67]\n",
            "16 :['长安CS75 PLUS 2020款 2.0T 自动领航型'] : [0.67]\n",
            "17 :['长安CS75 PLUS 2020款 2.0T 自动旗舰型'] : [0.378]\n",
            "18 :['影酷 2022款 1.5T DCT基本型'] : [0.738]\n",
            "19 :['AION V 2021款 Plus 70 智享科技版 磷酸铁锂'] : [0.17]\n",
            "20 :['AION V 2021款 Plus 70 超级快充版 三元锂'] : [0.098]\n",
            "21 :['星越L 2021款 2.0TD DCT EVO两驱智尊型'] : [0.265]\n",
            "22 :['星越L 2021款 2.0TD DCT EVO两驱旗舰型'] : [0.265]\n",
            "23 :['星越L 2021款 2.0TD 高功自动四驱尊贵型'] : [0.24]\n",
            "24 :['星越L 2021款 2.0TD 高功自动四驱旗舰型'] : [0.189]\n",
            "25 :['海豹 2022款 550km 标准续航后驱版精英型'] : [0.125]\n",
            "26 :['宋PLUS新能源 2021款 DM-i 51KM 尊贵型'] : [0.355]\n",
            "27 :['宋PLUS新能源 2021款 DM-i 51KM 尊荣型'] : [0.357]\n",
            "28 :['宋PLUS新能源 2021款 DM-i 100KM 四驱旗舰PLUS'] : [0.131]\n",
            "29 :['宋PLUS新能源 2021款 EV 尊贵型'] : [0.164]\n",
            "30 :['长安CS75 PLUS 2021款 1.5T 自动豪华型'] : [0.678]\n",
            "31 :['AION V 2021款 进化版 80 智享科技版'] : [0.176]\n",
            "32 :['星越L 2022款 1.5T 雷神Hi·X油电混动版 Super迅'] : [0.139]\n",
            "33 :['星越L 2022款 1.5T 雷神Hi·X油电混动版 Super睿'] : [0.119]\n",
            "34 :['星越L 2021款 2.0TD DCT EVO两驱豪华型'] : [0.335]\n",
            "35 :['星越L 2021款 2.0TD DCT EVO两驱尊贵型'] : [0.374]\n",
            "36 :['Model Y 2022款 后轮驱动版'] : [0.025]\n",
            "37 :['Model Y 2021款 Performance高性能全轮驱动版'] : [0.021]\n",
            "38 :['Model Y 2021款 标准续航后驱版'] : [0.024]\n",
            "39 :['Model Y 2021款 长续航全轮驱动版'] : [0.022]\n",
            "40 :['问界M5 2022款 M5e 两驱纯电基本型'] : [0.024]\n",
            "41 :['拿铁DHT-PHEV 2022款 1.5T 两驱超大杯'] : [0.052]\n"
          ]
        }
      ]
    },
    {
      "cell_type": "code",
      "source": [
        "new_y_predict = np.zeros((new_car_predict.shape))\n",
        "new_y_predict [new_car_predict > 0.7] = 1\n",
        "new_y_true = np.zeros((new_y_predict.shape))\n",
        "new_y_true[row_car_dict == dsc_up[row_user_dst, 31]] = 1\n",
        "\n",
        "print(confusion_matrix(new_y_true, new_y_predict))\n",
        "print(classification_report(new_y_true, new_y_predict))\n"
      ],
      "metadata": {
        "colab": {
          "base_uri": "https://localhost:8080/"
        },
        "id": "6x8FD7Sdt4bC",
        "outputId": "0a52b6af-1cf8-4f72-cd24-45e7b444fcdb"
      },
      "execution_count": 101,
      "outputs": [
        {
          "output_type": "stream",
          "name": "stdout",
          "text": [
            "[[40  1]\n",
            " [ 0  1]]\n",
            "              precision    recall  f1-score   support\n",
            "\n",
            "         0.0       1.00      0.98      0.99        41\n",
            "         1.0       0.50      1.00      0.67         1\n",
            "\n",
            "    accuracy                           0.98        42\n",
            "   macro avg       0.75      0.99      0.83        42\n",
            "weighted avg       0.99      0.98      0.98        42\n",
            "\n"
          ]
        }
      ]
    },
    {
      "cell_type": "code",
      "source": [
        "new_y_predict_vs = np.concatenate((new_y_predict, new_y_true), axis=1)\n",
        "new_y_predict_vs = np.concatenate((new_car_predict, new_y_predict_vs), axis=1)\n",
        "new_y_predict_df = pd.DataFrame(new_y_predict_vs)\n",
        "new_y_predict_df.to_csv(r'/content/new_y_predict_vs.csv', encoding='UTF-8')"
      ],
      "metadata": {
        "id": "gplApG3yjI9P"
      },
      "execution_count": 62,
      "outputs": []
    },
    {
      "cell_type": "markdown",
      "source": [
        "基于某款车预测不同用户的购买倾向"
      ],
      "metadata": {
        "id": "MzhVNUg0Y0vr"
      }
    },
    {
      "cell_type": "code",
      "source": [
        "row_car_dict = [5]\n",
        "row_user_dst = np.arange(0, num_users)\n",
        "new_car = gen_car_vecs(car_unscaled[row_car_dict], len(row_user_dst))\n",
        "new_user = user_unscaled[row_user_dst]\n",
        "\n",
        "new_user_scal = scalerUser.transform(new_user)\n",
        "new_car_scal = scalerCar.transform(new_car)\n",
        "new_car_predict = model.predict([[new_user_scal, new_car_scal]])"
      ],
      "metadata": {
        "colab": {
          "base_uri": "https://localhost:8080/"
        },
        "id": "bIjPzfT7t7uL",
        "outputId": "e75f1c81-64d7-42c6-f9e5-41e8f4e1e7a2"
      },
      "execution_count": 64,
      "outputs": [
        {
          "output_type": "stream",
          "name": "stdout",
          "text": [
            "121/121 [==============================] - 0s 2ms/step\n"
          ]
        }
      ]
    },
    {
      "cell_type": "code",
      "source": [
        "new_y_predict = np.zeros((new_car_predict.shape))\n",
        "new_y_predict [new_car_predict > 0.5] = 1\n",
        "new_y_true = np.zeros((new_y_predict.shape))\n",
        "new_y_true[dsc_up[0:, 31] == row_car_dict] = 1\n",
        "\n",
        "print(confusion_matrix(new_y_true, new_y_predict))\n",
        "print(classification_report(new_y_true, new_y_predict))"
      ],
      "metadata": {
        "colab": {
          "base_uri": "https://localhost:8080/"
        },
        "id": "CzeIxA3cTDwo",
        "outputId": "c6a9a93d-7ae2-4360-f6b8-59f55fae92cb"
      },
      "execution_count": 65,
      "outputs": [
        {
          "output_type": "stream",
          "name": "stdout",
          "text": [
            "[[3208  553]\n",
            " [   4   96]]\n",
            "              precision    recall  f1-score   support\n",
            "\n",
            "         0.0       1.00      0.85      0.92      3761\n",
            "         1.0       0.15      0.96      0.26       100\n",
            "\n",
            "    accuracy                           0.86      3861\n",
            "   macro avg       0.57      0.91      0.59      3861\n",
            "weighted avg       0.98      0.86      0.90      3861\n",
            "\n"
          ]
        }
      ]
    },
    {
      "cell_type": "code",
      "source": [
        "new_y_predict_vs = np.concatenate((new_y_predict, new_y_true), axis=1)\n",
        "new_y_predict_vs = np.concatenate((new_car_predict, new_y_predict_vs), axis=1)\n",
        "new_y_predict_df = pd.DataFrame(new_y_predict_vs)\n",
        "new_y_predict_df.to_csv(r'/content/new_y_predict_vs2.csv', encoding='UTF-8')"
      ],
      "metadata": {
        "id": "VJuVzJhAakQ0"
      },
      "execution_count": 66,
      "outputs": []
    },
    {
      "cell_type": "markdown",
      "source": [
        "**others：**"
      ],
      "metadata": {
        "id": "NauogkcV9kuv"
      }
    },
    {
      "cell_type": "code",
      "source": [],
      "metadata": {
        "id": "TpGia9Jn9kWg"
      },
      "execution_count": null,
      "outputs": []
    },
    {
      "cell_type": "code",
      "source": [
        "new_car_predict = np.concatenate((new_car_predict, dsc_up[0:, 30].reshape(-1, 1)), axis=1)\n",
        "new_car_predict_df = pd.DataFrame(new_car_predict)\n",
        "new_car_predict_df.to_csv(r'/content/new_car_predict3.csv', encoding='UTF-8')"
      ],
      "metadata": {
        "id": "ir8FQxgSuBos"
      },
      "execution_count": 73,
      "outputs": []
    },
    {
      "cell_type": "code",
      "source": [
        "a = np.array([0,1,2])\n",
        "b = np.array([1,2,3])\n",
        "print(np.dot(a,b))"
      ],
      "metadata": {
        "colab": {
          "base_uri": "https://localhost:8080/"
        },
        "id": "GdCIMoxIZL2D",
        "outputId": "6c1c6478-948d-4fcc-c7bb-d5ad89187bd3"
      },
      "execution_count": 122,
      "outputs": [
        {
          "output_type": "stream",
          "name": "stdout",
          "text": [
            "8\n"
          ]
        }
      ]
    }
  ]
}