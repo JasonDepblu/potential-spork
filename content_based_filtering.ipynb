{
  "nbformat": 4,
  "nbformat_minor": 0,
  "metadata": {
    "colab": {
      "provenance": [],
      "authorship_tag": "ABX9TyMnhzTmn3yP8nw/EfISXq38",
      "include_colab_link": true
    },
    "kernelspec": {
      "name": "python3",
      "display_name": "Python 3"
    },
    "language_info": {
      "name": "python"
    },
    "gpuClass": "standard"
  },
  "cells": [
    {
      "cell_type": "markdown",
      "metadata": {
        "id": "view-in-github",
        "colab_type": "text"
      },
      "source": [
        "<a href=\"https://colab.research.google.com/github/JasonDepblu/potential-spork/blob/main/content_based_filtering.ipynb\" target=\"_parent\"><img src=\"https://colab.research.google.com/assets/colab-badge.svg\" alt=\"Open In Colab\"/></a>"
      ]
    },
    {
      "cell_type": "code",
      "execution_count": 73,
      "metadata": {
        "id": "8vH4YZrHC2En"
      },
      "outputs": [],
      "source": [
        "# %%\n",
        "import time\n",
        "import pandas as pd\n",
        "import numpy as np\n",
        "import random\n",
        "import mpl_toolkits.axisartist as ast\n",
        "from matplotlib import pyplot as plt\n",
        "from mpl_toolkits.mplot3d import Axes3D\n",
        "from tensorflow import keras\n",
        "import tensorflow as tf\n",
        "from keras import layers, models, optimizers\n",
        "from sklearn.model_selection import train_test_split\n",
        "from sklearn.metrics import confusion_matrix\n",
        "from sklearn.metrics import classification_report\n",
        "from sklearn.preprocessing import StandardScaler, MinMaxScaler\n",
        "from sklearn.preprocessing import OneHotEncoder\n",
        "from sklearn.decomposition import PCA\n",
        "import copy"
      ]
    },
    {
      "cell_type": "code",
      "source": [
        "# load the data\n",
        "dsc_up_df = pd.read_csv(\n",
        "    r'/content/dsc_up.csv')\n",
        "car_dict_df = pd.read_csv(\n",
        "    r'/content/car_dict2.csv')\n",
        "\n",
        "dsc_up_df = dsc_up_df.replace({np.NaN: 0})\n",
        "car_dict_df = car_dict_df.replace({np.NaN: 0})\n",
        "\n",
        "dsc_up = dsc_up_df.values\n",
        "car_dict = car_dict_df.values"
      ],
      "metadata": {
        "id": "S-Q9NYd0DIkH"
      },
      "execution_count": 74,
      "outputs": []
    },
    {
      "cell_type": "code",
      "source": [
        "# load the label\n",
        "print(car_dict.shape)\n",
        "print(dsc_up.shape)\n",
        "\n",
        "ys_up = dsc_up[:, 31]\n",
        "print(ys_up)"
      ],
      "metadata": {
        "colab": {
          "base_uri": "https://localhost:8080/"
        },
        "id": "ZNay43VdDXtA",
        "outputId": "340574ce-712f-47de-ac02-47d386369245"
      },
      "execution_count": 75,
      "outputs": [
        {
          "output_type": "stream",
          "name": "stdout",
          "text": [
            "(119, 83)\n",
            "(13653, 33)\n",
            "[53 53 53 ... 32 70 29]\n"
          ]
        }
      ]
    },
    {
      "cell_type": "code",
      "source": [
        "# transfer the label to onehot_code\n",
        "ys = copy.copy(ys_up.reshape(len(ys_up), 1))\n",
        "ys -= 1\n",
        "onehot_encoder = OneHotEncoder(sparse=False)\n",
        "onehot_encoded = onehot_encoder.fit_transform(ys)\n",
        "ys = onehot_encoded\n",
        "print(ys.shape)"
      ],
      "metadata": {
        "colab": {
          "base_uri": "https://localhost:8080/"
        },
        "id": "S17GJ8SJ0adp",
        "outputId": "1ec68550-fcc0-4c75-e234-5e2f7f95a568"
      },
      "execution_count": 76,
      "outputs": [
        {
          "output_type": "stream",
          "name": "stdout",
          "text": [
            "(13653, 119)\n"
          ]
        }
      ]
    },
    {
      "cell_type": "code",
      "source": [
        "# column of last feature from 0 and +1\n",
        "col_last_feature_car = 80\n",
        "    #76\n",
        "col_last_feature_user = 28\n",
        "car_unscaled = car_dict[:, 1:col_last_feature_car]\n",
        "user_unscaled = dsc_up[:, 1:col_last_feature_user]\n",
        "\n",
        "# generate the gaussian random no. to budget feature\n",
        "for i in range(len(user_unscaled)):\n",
        "    user_unscaled[i, 23] += random.gauss(0, 1.2)\n",
        "\n",
        "scalerCar = StandardScaler()\n",
        "scalerCar.fit(car_dict[:, 1:col_last_feature_car])\n",
        "car = scalerCar.transform(car_dict[:, 1:col_last_feature_car])\n",
        "\n",
        "scalerUser = StandardScaler()\n",
        "scalerUser.fit(dsc_up[:, 1:col_last_feature_user])\n",
        "user = scalerUser.transform(dsc_up[:, 1:col_last_feature_user])\n",
        "\n",
        "print(np.allclose(car_unscaled.astype(float), scalerCar.inverse_transform(car)))\n",
        "print(np.allclose(user_unscaled.astype(float), scalerUser.inverse_transform(user)))"
      ],
      "metadata": {
        "id": "F1Qh3rh_6v7a",
        "colab": {
          "base_uri": "https://localhost:8080/"
        },
        "outputId": "dafdd66e-3b98-47fd-c8a6-c4c835c2307e"
      },
      "execution_count": 77,
      "outputs": [
        {
          "output_type": "stream",
          "name": "stdout",
          "text": [
            "True\n",
            "True\n"
          ]
        }
      ]
    },
    {
      "cell_type": "code",
      "source": [
        "# func for generating num_items users of different cars\n",
        "def gen_user_vecs(user_vec, num_items):\n",
        "    \"\"\" given a user vector return:\n",
        "        user predict matrix to match the size of item_vecs \"\"\"\n",
        "    user_vecs = np.tile(user_vec, (1, num_items))\n",
        "    return user_vecs\n",
        "\n",
        "def gen_car_vecs(car_vec, num_users):\n",
        "    car_vecs = np.tile(car_vec, (num_users, 1))\n",
        "    return car_vecs"
      ],
      "metadata": {
        "id": "z3Ze_4Ri6b7w"
      },
      "execution_count": 78,
      "outputs": []
    },
    {
      "cell_type": "code",
      "source": [
        "# pca analysis\n",
        "pca_25 = PCA(n_components=25)\n",
        "print(pca_25)\n",
        "pca_25.fit(user)\n",
        "print(pca_25.explained_variance_ratio_)\n",
        "\n",
        "# %%\n",
        "pca_30 = PCA(n_components=2)\n",
        "print(pca_30)\n",
        "pca_30.fit(car_dict[:, 1:15])\n",
        "print(pca_30.explained_variance_ratio_)\n",
        "c_trans = pca_30.transform(car_dict[:, 1:15])\n",
        "# plt.plot(c_trans[:, 0], c_trans[:, 1], 'ro')\n"
      ],
      "metadata": {
        "colab": {
          "base_uri": "https://localhost:8080/"
        },
        "id": "oBhji5xWngVa",
        "outputId": "af6b4419-1b0a-4828-cd6a-9cfc1af340fe"
      },
      "execution_count": 79,
      "outputs": [
        {
          "output_type": "stream",
          "name": "stdout",
          "text": [
            "PCA(n_components=25)\n",
            "[0.07855792 0.06367096 0.05655362 0.05012252 0.04799919 0.04263979\n",
            " 0.04039312 0.03866332 0.03815461 0.03757529 0.0370232  0.03639411\n",
            " 0.03611809 0.03537583 0.03458144 0.03370503 0.03361872 0.03316952\n",
            " 0.03255273 0.03213112 0.03094026 0.02993851 0.0287796  0.0262543\n",
            " 0.02487505]\n",
            "PCA(n_components=2)\n",
            "[0.79305611 0.14624711]\n"
          ]
        }
      ]
    },
    {
      "cell_type": "code",
      "source": [
        "# generate num_items users for different cars\n",
        "user_vecs = gen_user_vecs(user, len(car_dict))\n",
        "user_vecs = user_vecs.reshape(-1, user.shape[1])\n",
        "car_vecs = gen_car_vecs(car, len(dsc_up))\n",
        "\n",
        "ys = ys.reshape(-1, 1)\n",
        "print(user_vecs.shape)\n",
        "print(car_vecs.shape)\n",
        "print(ys.shape)"
      ],
      "metadata": {
        "colab": {
          "base_uri": "https://localhost:8080/"
        },
        "id": "JtbYTY3rnxK_",
        "outputId": "45e49238-1be2-422a-f746-432a6c6dff63"
      },
      "execution_count": 80,
      "outputs": [
        {
          "output_type": "stream",
          "name": "stdout",
          "text": [
            "(1624707, 27)\n",
            "(1624707, 79)\n",
            "(1624707, 1)\n"
          ]
        }
      ]
    },
    {
      "cell_type": "code",
      "source": [
        "ys[ys == 0].shape"
      ],
      "metadata": {
        "colab": {
          "base_uri": "https://localhost:8080/"
        },
        "id": "j_LlJZomsOBU",
        "outputId": "3326e0dd-f67d-4c6f-b6fa-30c32f65e3de"
      },
      "execution_count": 81,
      "outputs": [
        {
          "output_type": "execute_result",
          "data": {
            "text/plain": [
              "(1611054,)"
            ]
          },
          "metadata": {},
          "execution_count": 81
        }
      ]
    },
    {
      "cell_type": "code",
      "source": [
        "# # case 2\n",
        "# car_train, car_test = train_test_split(car_vecs, train_size=0.8, shuffle=True, random_state=2023)\n",
        "# user_train, user_test = train_test_split(user_vecs, train_size=0.8, shuffle=True, random_state=2023)\n",
        "# ys_train, ys_test = train_test_split(ys, train_size=0.8, shuffle=True, random_state=2023)\n",
        "\n",
        "# car_val, car_test = train_test_split(car_test, train_size=0.5, shuffle=True, random_state=2023)\n",
        "# user_val, user_test = train_test_split(user_test, train_size=0.5, shuffle=True, random_state=2023)\n",
        "# ys_val, ys_test = train_test_split(ys_test, train_size=0.5, shuffle=True, random_state=2023)"
      ],
      "metadata": {
        "id": "Exgz6gDNsG0e"
      },
      "execution_count": 14,
      "outputs": []
    },
    {
      "cell_type": "code",
      "source": [
        "randnum = random.randint(0, 100)\n",
        "print(randnum)\n",
        "random.seed(randnum)"
      ],
      "metadata": {
        "colab": {
          "base_uri": "https://localhost:8080/"
        },
        "id": "milRRhMVQKXV",
        "outputId": "3733e720-7832-41e9-f395-b0205fe06830"
      },
      "execution_count": 82,
      "outputs": [
        {
          "output_type": "stream",
          "name": "stdout",
          "text": [
            "72\n"
          ]
        }
      ]
    },
    {
      "cell_type": "code",
      "source": [
        "# # case 2\n",
        "# user_train_one = user_train[(ys_train == 1)[:, 0]]\n",
        "# user_train_one = gen_car_vecs(user_train_one, np.ceil(len(car_dict) * 0.3 -1).astype(int))\n",
        "# user_train_zero = user_train[(ys_train == 0)[:, 0]]\n",
        "# user_train = np.concatenate((user_train_zero, user_train_one), axis=0)\n",
        "# random.seed(randnum)\n",
        "# random.shuffle(user_train)\n",
        "# print(user_train.shape)"
      ],
      "metadata": {
        "id": "06DItVnFhowy"
      },
      "execution_count": null,
      "outputs": []
    },
    {
      "cell_type": "code",
      "source": [
        "# # case 2\n",
        "# car_train_one = car_train[(ys_train == 1)[:, 0]]\n",
        "# car_train_one = gen_car_vecs(car_train_one, np.ceil(len(car_dict) * 0.3 -1).astype(int))\n",
        "# car_train_zero = car_train[(ys_train == 0)[:, 0]]\n",
        "# car_train = np.concatenate((car_train_zero, car_train_one), axis=0)\n",
        "# random.seed(randnum)\n",
        "# random.shuffle(car_train)\n",
        "# print(car_train.shape)"
      ],
      "metadata": {
        "id": "SCElRjrGiCqJ"
      },
      "execution_count": null,
      "outputs": []
    },
    {
      "cell_type": "code",
      "source": [
        "# # case 2\n",
        "# ys_one = ys_train[(ys_train == 1)[:, 0]]\n",
        "# ys_one = gen_car_vecs(ys_one, np.ceil(len(car_dict) * 0.3 -1).astype(int))\n",
        "# ys_zero = ys_train[(ys_train == 0)[:, 0]]\n",
        "# ys_train = np.concatenate((ys_zero, ys_one), axis=0)\n",
        "# random.seed(randnum)\n",
        "# random.shuffle(ys_train)\n",
        "# print(ys_train.shape)"
      ],
      "metadata": {
        "id": "8IAExZSfiCcW"
      },
      "execution_count": null,
      "outputs": []
    },
    {
      "cell_type": "code",
      "source": [
        "# user_vecs_one = user_vecs[(ys == 1)[:, 0]]"
      ],
      "metadata": {
        "id": "vekhBc82s5CX"
      },
      "execution_count": 36,
      "outputs": []
    },
    {
      "cell_type": "code",
      "source": [
        "# num_users = user_vecs_one.shape[0]\n",
        "# print(num_users)\n"
      ],
      "metadata": {
        "id": "zAEEnmaPs_96"
      },
      "execution_count": null,
      "outputs": []
    },
    {
      "cell_type": "code",
      "source": [
        "# user_vecs_zero = user_vecs[(ys == 0)[:, 0]]\n",
        "# num_zeros = user_vecs_zero.shape[0]\n",
        "# print(num_zeros)"
      ],
      "metadata": {
        "id": "ptj2UlkZuC2n"
      },
      "execution_count": null,
      "outputs": []
    },
    {
      "cell_type": "code",
      "source": [
        "# random.seed(randnum)"
      ],
      "metadata": {
        "id": "0AhtIQYvui-c"
      },
      "execution_count": 39,
      "outputs": []
    },
    {
      "cell_type": "code",
      "source": [
        "# sample_row = np.random.choice(np.arange(num_zeros), size=num_users, replace=False)"
      ],
      "metadata": {
        "id": "wAszpAvxtCW2"
      },
      "execution_count": 40,
      "outputs": []
    },
    {
      "cell_type": "code",
      "source": [
        "# sample_row"
      ],
      "metadata": {
        "id": "XBxdkxGuskpD"
      },
      "execution_count": null,
      "outputs": []
    },
    {
      "cell_type": "code",
      "source": [
        "# user_vecs_zero = user_vecs_zero[sample_row]\n",
        "# print(user_vecs_zero.shape)"
      ],
      "metadata": {
        "id": "h3MhNu3Eu3_k"
      },
      "execution_count": null,
      "outputs": []
    },
    {
      "cell_type": "code",
      "source": [
        "# case 3\n",
        "user_vecs_one = user_vecs[(ys == 1)[:, 0]]\n",
        "# user_vecs_one = gen_car_vecs(user_vecs_one, len(car_dict)-1)\n",
        "user_vecs_zero = user_vecs[(ys == 0)[:, 0]]\n",
        "num_users = user_vecs_one.shape[0]\n",
        "num_zeros = user_vecs_zero.shape[0]\n",
        "random.seed(randnum)\n",
        "\n",
        "sample_row = np.random.choice(np.arange(num_zeros), size=num_users, replace=False)\n",
        "user_vecs_zero = user_vecs_zero[sample_row]\n",
        "user_vecs = np.concatenate((user_vecs_zero, user_vecs_one), axis=0)\n",
        "\n",
        "random.seed(44)\n",
        "shuffle_row = np.random.choice(np.arange(0,len(user_vecs)), len(user_vecs), replace=False)\n",
        "user_vecs = user_vecs[shuffle_row]\n",
        "print(user_vecs.shape)"
      ],
      "metadata": {
        "colab": {
          "base_uri": "https://localhost:8080/"
        },
        "id": "Od4AHZ9ln_Q-",
        "outputId": "e4a63a0d-067b-4d7b-90cb-ff0cd16902e0"
      },
      "execution_count": 83,
      "outputs": [
        {
          "output_type": "stream",
          "name": "stdout",
          "text": [
            "(27306, 27)\n"
          ]
        }
      ]
    },
    {
      "cell_type": "code",
      "source": [
        "# case3\n",
        "car_vecs_one = car_vecs[(ys == 1)[:, 0]]\n",
        "# car_vecs_one = gen_car_vecs(car_vecs_one, len(car_dict)-1)\n",
        "\n",
        "car_vecs_zero = car_vecs[(ys == 0)[:, 0]][sample_row]\n",
        "car_vecs = np.concatenate((car_vecs_zero, car_vecs_one), axis=0)\n",
        "\n",
        "car_vecs = car_vecs[shuffle_row]\n",
        "print(car_vecs.shape)"
      ],
      "metadata": {
        "colab": {
          "base_uri": "https://localhost:8080/"
        },
        "id": "RqhTucG6n69P",
        "outputId": "057a0638-6094-4046-f38a-7bfacd9fdd7e"
      },
      "execution_count": 84,
      "outputs": [
        {
          "output_type": "stream",
          "name": "stdout",
          "text": [
            "(27306, 79)\n"
          ]
        }
      ]
    },
    {
      "cell_type": "code",
      "source": [
        "# case 3\n",
        "ys_one = ys[(ys == 1)[:, 0]]\n",
        "# ys_one = gen_car_vecs(ys_one, len(car_dict)-1)\n",
        "\n",
        "ys_zero = ys[(ys == 0)[:, 0]][sample_row]\n",
        "ys = np.concatenate((ys_zero, ys_one), axis=0)\n",
        "\n",
        "ys = ys[shuffle_row]\n",
        "print(ys.shape)"
      ],
      "metadata": {
        "colab": {
          "base_uri": "https://localhost:8080/"
        },
        "id": "3-HMFlwboBib",
        "outputId": "e026b525-d5fc-4af0-f57a-d9a6e9eed950"
      },
      "execution_count": 85,
      "outputs": [
        {
          "output_type": "stream",
          "name": "stdout",
          "text": [
            "(27306, 1)\n"
          ]
        }
      ]
    },
    {
      "cell_type": "code",
      "source": [
        "print(ys[0:50])"
      ],
      "metadata": {
        "id": "Mx2H8HVTp6CV"
      },
      "execution_count": null,
      "outputs": []
    },
    {
      "cell_type": "code",
      "source": [
        "# case 3\n",
        "car_train, car_test = train_test_split(car_vecs, train_size=0.8, shuffle=True, random_state=2023)\n",
        "user_train, user_test = train_test_split(user_vecs, train_size=0.8, shuffle=True, random_state=2023)\n",
        "ys_train, ys_test = train_test_split(ys, train_size=0.8, shuffle=True, random_state=2023)\n",
        "\n",
        "car_val, car_test = train_test_split(car_test, train_size=0.5, shuffle=True, random_state=2023)\n",
        "user_val, user_test = train_test_split(user_test, train_size=0.5, shuffle=True, random_state=2023)\n",
        "ys_val, ys_test = train_test_split(ys_test, train_size=0.5, shuffle=True, random_state=2023)"
      ],
      "metadata": {
        "id": "uw1qHr9lhWOW"
      },
      "execution_count": 86,
      "outputs": []
    },
    {
      "cell_type": "code",
      "source": [
        "print(f\"cars training data shape:{car_train.shape}\")\n",
        "print(f\"cars validating data shape:{car_val.shape}\")\n",
        "print(f\"cars testing data shape:{car_test.shape}\")\n",
        "\n",
        "print(f\"users training data shape:{user_train.shape}\")\n",
        "print(f\"users validating data shape:{user_val.shape}\")\n",
        "print(f\"users testing data shape:{user_test.shape}\")\n",
        "\n",
        "print(f\"ys training data shape:{ys_train.shape}\")\n",
        "print(f\"ys validating data shape:{ys_val.shape}\")\n",
        "print(f\"ys testing data shape:{ys_test.shape}\")"
      ],
      "metadata": {
        "colab": {
          "base_uri": "https://localhost:8080/"
        },
        "id": "Xnm6wtb2sKKv",
        "outputId": "2ebdf91c-5add-4474-d6a0-a8f1bbadff1d"
      },
      "execution_count": 87,
      "outputs": [
        {
          "output_type": "stream",
          "name": "stdout",
          "text": [
            "cars training data shape:(21844, 79)\n",
            "cars validating data shape:(2731, 79)\n",
            "cars testing data shape:(2731, 79)\n",
            "users training data shape:(21844, 27)\n",
            "users validating data shape:(2731, 27)\n",
            "users testing data shape:(2731, 27)\n",
            "ys training data shape:(21844, 1)\n",
            "ys validating data shape:(2731, 1)\n",
            "ys testing data shape:(2731, 1)\n"
          ]
        }
      ]
    },
    {
      "cell_type": "code",
      "source": [
        "num_user_features = col_last_feature_user-1\n",
        "num_car_features = col_last_feature_car-1\n",
        "num_outputs = 32\n",
        "tf.random.set_seed(1)\n",
        "user_NN = tf.keras.models.Sequential([\n",
        "    tf.keras.layers.Dense(256, activation='relu'),\n",
        "    tf.keras.layers.Dense(128, activation='relu'),\n",
        "    tf.keras.layers.Dense(num_outputs, activation='relu'),\n",
        "])\n",
        "car_NN = tf.keras.models.Sequential([\n",
        "    tf.keras.layers.Dense(256, activation='relu'),\n",
        "    tf.keras.layers.Dense(128, activation='relu'),\n",
        "    tf.keras.layers.Dense(num_outputs, activation='relu'),\n",
        "])\n",
        "\n",
        "input_user = tf.keras.layers.Input(shape=(num_user_features))\n",
        "vu = user_NN(input_user)\n",
        "vu = tf.linalg.l2_normalize(vu, axis=1)\n",
        "\n",
        "input_car = tf.keras.layers.Input(shape=(num_car_features))\n",
        "vc = car_NN(input_car)\n",
        "vc = tf.linalg.l2_normalize(vc, axis=1)\n",
        "\n",
        "d_out = tf.keras.layers.Dot(axes=1)([vu, vc])\n",
        "output = tf.keras.layers.Dense(1, activation='sigmoid')(d_out)\n",
        "\n",
        "model = tf.keras.Model([input_user, input_car], output)\n",
        "model.summary()\n",
        "tf.keras.utils.plot_model(model, \"/content/my_model.png\")"
      ],
      "metadata": {
        "colab": {
          "base_uri": "https://localhost:8080/",
          "height": 952
        },
        "id": "bP3DkKKatJyi",
        "outputId": "d9954265-b520-4434-9a7a-dd5fc02526cd"
      },
      "execution_count": 88,
      "outputs": [
        {
          "output_type": "stream",
          "name": "stdout",
          "text": [
            "Model: \"model_1\"\n",
            "__________________________________________________________________________________________________\n",
            " Layer (type)                   Output Shape         Param #     Connected to                     \n",
            "==================================================================================================\n",
            " input_3 (InputLayer)           [(None, 27)]         0           []                               \n",
            "                                                                                                  \n",
            " input_4 (InputLayer)           [(None, 79)]         0           []                               \n",
            "                                                                                                  \n",
            " sequential_2 (Sequential)      (None, 32)           44192       ['input_3[0][0]']                \n",
            "                                                                                                  \n",
            " sequential_3 (Sequential)      (None, 32)           57504       ['input_4[0][0]']                \n",
            "                                                                                                  \n",
            " tf.math.l2_normalize_2 (TFOpLa  (None, 32)          0           ['sequential_2[0][0]']           \n",
            " mbda)                                                                                            \n",
            "                                                                                                  \n",
            " tf.math.l2_normalize_3 (TFOpLa  (None, 32)          0           ['sequential_3[0][0]']           \n",
            " mbda)                                                                                            \n",
            "                                                                                                  \n",
            " dot_1 (Dot)                    (None, 1)            0           ['tf.math.l2_normalize_2[0][0]', \n",
            "                                                                  'tf.math.l2_normalize_3[0][0]'] \n",
            "                                                                                                  \n",
            " dense_13 (Dense)               (None, 1)            2           ['dot_1[0][0]']                  \n",
            "                                                                                                  \n",
            "==================================================================================================\n",
            "Total params: 101,698\n",
            "Trainable params: 101,698\n",
            "Non-trainable params: 0\n",
            "__________________________________________________________________________________________________\n"
          ]
        },
        {
          "output_type": "execute_result",
          "data": {
            "image/png": "[encoded data removed]",
            "text/plain": [
              "<IPython.core.display.Image object>"
            ]
          },
          "metadata": {},
          "execution_count": 88
        }
      ]
    },
    {
      "cell_type": "code",
      "source": [
        "tf.random.set_seed(1)\n",
        "cost_fn = tf.keras.losses.MeanSquaredError()\n",
        "opt = keras.optimizers.Adam(learning_rate=0.01)\n",
        "model.compile(optimizer=opt, loss=cost_fn)"
      ],
      "metadata": {
        "id": "2gPZmKAitT2h"
      },
      "execution_count": 89,
      "outputs": []
    },
    {
      "cell_type": "code",
      "source": [
        "tf.random.set_seed(1)\n",
        "model.fit([user_train, car_train], ys_train, epochs=7)"
      ],
      "metadata": {
        "colab": {
          "base_uri": "https://localhost:8080/"
        },
        "id": "QXZsutVxtUfw",
        "outputId": "28a586ca-eee7-49c4-9c3b-a95f25b33c65"
      },
      "execution_count": 91,
      "outputs": [
        {
          "output_type": "stream",
          "name": "stdout",
          "text": [
            "Epoch 1/7\n",
            "683/683 [==============================] - 3s 4ms/step - loss: 0.0836\n",
            "Epoch 2/7\n",
            "683/683 [==============================] - 4s 5ms/step - loss: 0.0830\n",
            "Epoch 3/7\n",
            "683/683 [==============================] - 3s 4ms/step - loss: 0.0806\n",
            "Epoch 4/7\n",
            "683/683 [==============================] - 3s 4ms/step - loss: 0.0797\n",
            "Epoch 5/7\n",
            "683/683 [==============================] - 3s 4ms/step - loss: 0.0782\n",
            "Epoch 6/7\n",
            "683/683 [==============================] - 4s 6ms/step - loss: 0.0770\n",
            "Epoch 7/7\n",
            "683/683 [==============================] - 3s 4ms/step - loss: 0.0761\n"
          ]
        },
        {
          "output_type": "execute_result",
          "data": {
            "text/plain": [
              "<keras.callbacks.History at 0x7fe952984f10>"
            ]
          },
          "metadata": {},
          "execution_count": 91
        }
      ]
    },
    {
      "cell_type": "code",
      "source": [
        "model.evaluate([user_val, car_val], ys_val)"
      ],
      "metadata": {
        "colab": {
          "base_uri": "https://localhost:8080/"
        },
        "id": "k50a01wBtXr8",
        "outputId": "6efa3847-7ef1-41ab-bf5d-de5af00f8691"
      },
      "execution_count": 92,
      "outputs": [
        {
          "output_type": "stream",
          "name": "stdout",
          "text": [
            "86/86 [==============================] - 0s 2ms/step - loss: 0.0892\n"
          ]
        },
        {
          "output_type": "execute_result",
          "data": {
            "text/plain": [
              "0.0892140194773674"
            ]
          },
          "metadata": {},
          "execution_count": 92
        }
      ]
    },
    {
      "cell_type": "code",
      "source": [
        "ys_test.shape"
      ],
      "metadata": {
        "colab": {
          "base_uri": "https://localhost:8080/"
        },
        "id": "1JHYyjPvfPGL",
        "outputId": "35459483-2b1a-440b-c126-ebe4c6919aed"
      },
      "execution_count": 112,
      "outputs": [
        {
          "output_type": "execute_result",
          "data": {
            "text/plain": [
              "(2731, 1)"
            ]
          },
          "metadata": {},
          "execution_count": 112
        }
      ]
    },
    {
      "cell_type": "code",
      "source": [
        "model.evaluate([user_test[(ys_test == 0)[:, 0]], car_test[(ys_test == 0)[:, 0]]], ys_test[(ys_test == 0)[:, 0]])"
      ],
      "metadata": {
        "colab": {
          "base_uri": "https://localhost:8080/"
        },
        "id": "wWyGJ47d8FsR",
        "outputId": "687a4844-aa0d-44d4-8a8c-976751029799"
      },
      "execution_count": 115,
      "outputs": [
        {
          "output_type": "stream",
          "name": "stdout",
          "text": [
            "44/44 [==============================] - 0s 4ms/step - loss: 0.1338\n"
          ]
        },
        {
          "output_type": "execute_result",
          "data": {
            "text/plain": [
              "0.13377532362937927"
            ]
          },
          "metadata": {},
          "execution_count": 115
        }
      ]
    },
    {
      "cell_type": "code",
      "source": [
        "ys_p_test = model.predict([[user_test, car_test]])\n",
        "ys_p_test_vs = np.concatenate((ys_p_test, ys_test), axis=1)\n",
        "ys_test_df = pd.DataFrame(ys_p_test_vs)\n",
        "ys_test_df.to_csv(r'/content/ys_p_test_6epoch.csv', encoding='UTF-8')"
      ],
      "metadata": {
        "colab": {
          "base_uri": "https://localhost:8080/"
        },
        "id": "pR91EXOOtbFv",
        "outputId": "71fd9567-7f48-44cb-acf7-e12236139e17"
      },
      "execution_count": 94,
      "outputs": [
        {
          "output_type": "stream",
          "name": "stdout",
          "text": [
            "86/86 [==============================] - 0s 2ms/step\n"
          ]
        }
      ]
    },
    {
      "cell_type": "code",
      "source": [
        "# print the confusion matrix & report\n",
        "print(confusion_matrix(ys_test, np.round(ys_p_test)))\n",
        "print(classification_report(ys_test, np.round(ys_p_test)))"
      ],
      "metadata": {
        "colab": {
          "base_uri": "https://localhost:8080/"
        },
        "id": "xY380Qk3t0Xw",
        "outputId": "f2e274bc-0b8d-4044-c720-0c9e2c679da6"
      },
      "execution_count": 95,
      "outputs": [
        {
          "output_type": "stream",
          "name": "stdout",
          "text": [
            "[[1130  249]\n",
            " [  94 1258]]\n",
            "              precision    recall  f1-score   support\n",
            "\n",
            "         0.0       0.92      0.82      0.87      1379\n",
            "         1.0       0.83      0.93      0.88      1352\n",
            "\n",
            "    accuracy                           0.87      2731\n",
            "   macro avg       0.88      0.87      0.87      2731\n",
            "weighted avg       0.88      0.87      0.87      2731\n",
            "\n"
          ]
        }
      ]
    },
    {
      "cell_type": "code",
      "source": [
        "ys_test[ys_test==0].shape"
      ],
      "metadata": {
        "colab": {
          "base_uri": "https://localhost:8080/"
        },
        "id": "sQ4CArpxdnKe",
        "outputId": "fecd5db2-2416-4b43-ce41-ff9db566785f"
      },
      "execution_count": 103,
      "outputs": [
        {
          "output_type": "execute_result",
          "data": {
            "text/plain": [
              "(1379,)"
            ]
          },
          "metadata": {},
          "execution_count": 103
        }
      ]
    },
    {
      "cell_type": "code",
      "source": [
        "ys_p_train = model.predict([[user_train, car_train]])"
      ],
      "metadata": {
        "colab": {
          "base_uri": "https://localhost:8080/"
        },
        "id": "_bhcLBm7A4_m",
        "outputId": "1b82b9b1-99a1-4fcc-9330-2dcd6c26af28"
      },
      "execution_count": 24,
      "outputs": [
        {
          "output_type": "stream",
          "name": "stdout",
          "text": [
            "683/683 [==============================] - 1s 2ms/step\n"
          ]
        }
      ]
    },
    {
      "cell_type": "code",
      "source": [
        "# print the confusion matrix & report\n",
        "print(confusion_matrix(ys_train, np.round(ys_p_train)))\n",
        "print(classification_report(ys_train, np.round(ys_p_train)))"
      ],
      "metadata": {
        "colab": {
          "base_uri": "https://localhost:8080/"
        },
        "id": "9BmnL9PnXdCD",
        "outputId": "66d47119-2251-4638-e6fb-57d866493a8b"
      },
      "execution_count": 25,
      "outputs": [
        {
          "output_type": "stream",
          "name": "stdout",
          "text": [
            "[[ 9547  1377]\n",
            " [  628 10292]]\n",
            "              precision    recall  f1-score   support\n",
            "\n",
            "         0.0       0.94      0.87      0.90     10924\n",
            "         1.0       0.88      0.94      0.91     10920\n",
            "\n",
            "    accuracy                           0.91     21844\n",
            "   macro avg       0.91      0.91      0.91     21844\n",
            "weighted avg       0.91      0.91      0.91     21844\n",
            "\n"
          ]
        }
      ]
    },
    {
      "cell_type": "markdown",
      "source": [
        "基于某个用户，预测不同的车的购买倾向"
      ],
      "metadata": {
        "id": "JgvnydmXY9fv"
      }
    },
    {
      "cell_type": "code",
      "source": [
        "# predict the new car of new performance for specific user\n",
        "# define the cars and the user\n",
        "row_car_dict = np.arange(0, 119) \n",
        "row_user_dst = [5763]\n",
        "new_car = car_unscaled[row_car_dict]\n",
        "new_user = gen_car_vecs(user_unscaled[row_user_dst], len(row_car_dict))\n",
        "\n",
        "# predict the new car of new performance\n",
        "new_user_scal = scalerUser.transform(new_user)\n",
        "new_car_scal = scalerCar.transform(new_car)\n",
        "new_car_predict = model.predict([[new_user_scal, new_car_scal]])\n",
        "for i in range(len(row_car_dict)):\n",
        "    print(f'{i} :'\n",
        "          f'{car_dict[row_car_dict, 81].reshape(-1, 1)[i]} : {np.round(new_car_predict[i],3)}')"
      ],
      "metadata": {
        "colab": {
          "base_uri": "https://localhost:8080/"
        },
        "id": "3FTLt7gHt3zV",
        "outputId": "1c369e7f-0af2-428e-e89b-ac7ee3f9b2e0"
      },
      "execution_count": 119,
      "outputs": [
        {
          "output_type": "stream",
          "name": "stdout",
          "text": [
            "4/4 [==============================] - 0s 5ms/step\n",
            "0 :['影酷 2022款 1.5T 超新星PRO版'] : [0.054]\n",
            "1 :['影酷 2022款 2.0T 中子星PRO版'] : [0.003]\n",
            "2 :['影酷 2022款 2.0T 中子星MAX版'] : [0.001]\n",
            "3 :['影酷 2022款 2.0ATK 双子星PRO版'] : [0.012]\n",
            "4 :['影酷 2022款 2.0ATK 双子星MAX版'] : [0.001]\n",
            "5 :['Model Y 2022款 改款 后轮驱动版'] : [0.002]\n",
            "6 :['Model Y 2022款 改款 长续航全轮驱动版'] : [0.002]\n",
            "7 :['Model Y 2022款 Performance高性能全轮驱动版'] : [0.001]\n",
            "8 :['AION V 2023款 Plus 70 智领版 三元锂'] : [0.003]\n",
            "9 :['AION V 2023款 Plus 70 行政版 三元锂'] : [0.001]\n",
            "10 :['AION V 2023款 Plus 70 七座商务版'] : [0.]\n",
            "11 :['AION V 2023款 Plus 70 智享科技版 磷酸铁锂'] : [0.001]\n",
            "12 :['AION V 2023款 Plus 70 智享科技版 三元锂'] : [0.001]\n",
            "13 :['AION V 2023款 Plus 70 智享七座版 三元锂'] : [0.]\n",
            "14 :['AION V 2023款 Plus 70 超级快充版 三元锂'] : [0.001]\n",
            "15 :['AION V 2023款 Plus 80 智领版 三元锂'] : [0.001]\n",
            "16 :['AION V 2023款 Plus 80 智享科技版 三元锂'] : [0.]\n",
            "17 :['AION V 2023款 Plus 80 智享七座版 三元锂'] : [0.]\n",
            "18 :['AION V 2023款 Plus 80 行政版 三元锂'] : [0.]\n",
            "19 :['AION V 2023款 Plus 80 领航智驾版 三元锂'] : [0.]\n",
            "20 :['AION V 2023款 Plus 80 领袖版 三元锂'] : [0.]\n",
            "21 :['AION V 2023款 Plus 70 极速快充版 三元锂'] : [0.001]\n",
            "22 :['AION V 2023款 Plus 70 智领版 磷酸铁锂'] : [0.005]\n",
            "23 :['AION V 2023款 Plus 70 行政版 磷酸铁锂'] : [0.001]\n",
            "24 :['问界M5 2022款 四驱旗舰版'] : [0.]\n",
            "25 :['问界M5 2022款 后驱标准版'] : [0.]\n",
            "26 :['问界M5 2022款 四驱性能版'] : [0.]\n",
            "27 :['问界M5 2022款 四驱至臻版'] : [0.]\n",
            "28 :['海豹 2022款 550km 标准续航后驱版尊贵型'] : [0.003]\n",
            "29 :['海豹 2022款 700km 长续航后驱版'] : [0.]\n",
            "30 :['海豹 2022款 650km 四驱性能版'] : [0.]\n",
            "31 :['宋PLUS新能源 2021款 DM-i 110KM 旗舰型'] : [0.955]\n",
            "32 :['宋PLUS新能源 2021款 DM-i 110KM 旗舰PLUS'] : [0.955]\n",
            "33 :['宋PLUS新能源 2021款 DM-i 110KM 旗舰PLUS 5G版'] : [0.003]\n",
            "34 :['宋PLUS新能源 2021款 EV 旗舰型'] : [0.336]\n",
            "35 :['长安CS75 PLUS 2022款 第二代 1.5T 自动豪华型'] : [0.135]\n",
            "36 :['长安CS75 PLUS 2022款 第二代 1.5T 自动尊贵型'] : [0.144]\n",
            "37 :['长安CS75 PLUS 2022款 第二代 1.5T 自动尊享型'] : [0.06]\n",
            "38 :['长安CS75 PLUS 2022款 第二代 1.5T 自动领航型'] : [0.105]\n",
            "39 :['长安CS75 PLUS 2022款 第二代 2.0T 自动尊贵型'] : [0.098]\n",
            "40 :['长安CS75 PLUS 2022款 第二代 2.0T 自动领航型'] : [0.093]\n",
            "41 :['长安CS75 PLUS 2022款 第二代 2.0T 自动旗舰型'] : [0.024]\n",
            "42 :['长安CS75 PLUS 2022款 1.5T 自动精英型'] : [0.017]\n",
            "43 :['长安CS75 PLUS 2022款 1.5T 自动豪华型'] : [0.392]\n",
            "44 :['长安CS75 PLUS 2022款 1.5T 自动尊贵型'] : [0.356]\n",
            "45 :['长安CS75 PLUS 2022款 2.0T 自动领航型'] : [0.193]\n",
            "46 :['长安CS75 PLUS 2022款 2.0T 自动旗舰型'] : [0.8]\n",
            "47 :['长安CS75 PLUS 2021款 1.5T 手动豪华型'] : [0.019]\n",
            "48 :['长安CS75 PLUS 2021款 1.5T 自动精英型'] : [0.016]\n",
            "49 :['长安CS75 PLUS 2021款 2.0T 自动旗舰型'] : [0.804]\n",
            "50 :['长安CS75 PLUS 2020款 1.5T 手动豪华型'] : [0.083]\n",
            "51 :['长安CS75 PLUS 2020款 1.5T 自动精英型'] : [0.081]\n",
            "52 :['长安CS75 PLUS 2020款 1.5T 自动豪华型'] : [0.69]\n",
            "53 :['长安CS75 PLUS 2020款 1.5T 自动尊贵型'] : [0.752]\n",
            "54 :['长安CS75 PLUS 2020款 2.0T 自动领航型'] : [0.718]\n",
            "55 :['长安CS75 PLUS 2020款 2.0T 自动旗舰型'] : [0.804]\n",
            "56 :['影酷 2022款 1.5T DCT基本型'] : [0.322]\n",
            "57 :['AION V 2022款 Plus 70 智领版 三元锂'] : [0.046]\n",
            "58 :['AION V 2022款 Plus 80 领袖版 三元锂'] : [0.]\n",
            "59 :['AION V 2021款 Plus 70 智领版 磷酸铁锂'] : [0.086]\n",
            "60 :['AION V 2021款 Plus 70 智享科技版 磷酸铁锂'] : [0.009]\n",
            "61 :['AION V 2021款 Plus 70 超级快充版 三元锂'] : [0.001]\n",
            "62 :['AION V 2021款 Plus 80 智领版 三元锂'] : [0.017]\n",
            "63 :['AION V 2021款 Plus 80 智享科技版 三元锂'] : [0.001]\n",
            "64 :['AION V 2021款 Plus 80 领航智驾版 三元锂'] : [0.001]\n",
            "65 :['AION V 2021款 Plus 90 超长续航版 三元锂'] : [0.]\n",
            "66 :['星越L 2021款 2.0TD DCT EVO两驱智尊型'] : [0.948]\n",
            "67 :['星越L 2021款 2.0TD DCT EVO两驱旗舰型'] : [0.948]\n",
            "68 :['星越L 2021款 2.0TD 高功自动四驱尊贵型'] : [0.912]\n",
            "69 :['星越L 2021款 2.0TD 高功自动四驱旗舰型'] : [0.955]\n",
            "70 :['海豹 2022款 550km 标准续航后驱版精英型'] : [0.009]\n",
            "71 :['宋PLUS新能源 2021款 DM-i 51KM 尊贵型'] : [0.868]\n",
            "72 :['宋PLUS新能源 2021款 DM-i 51KM 尊荣型'] : [0.955]\n",
            "73 :['宋PLUS新能源 2021款 DM-i 100KM 四驱旗舰PLUS'] : [0.057]\n",
            "74 :['宋PLUS新能源 2021款 DM-i 100KM 四驱旗舰PLUS 5G版'] : [0.001]\n",
            "75 :['宋PLUS新能源 2021款 EV 尊贵型'] : [0.692]\n",
            "76 :['长安CS75 PLUS 2021款 1.5T 自动先锋型'] : [0.016]\n",
            "77 :['长安CS75 PLUS 2021款 1.5T 自动豪华型'] : [0.392]\n",
            "78 :['长安CS75 PLUS 2021款 1.5T 自动尊贵型'] : [0.368]\n",
            "79 :['长安CS75 PLUS 2021款 2.0T 自动领航型'] : [0.343]\n",
            "80 :['AION V 2022款 Plus 70 行政版 磷酸铁锂'] : [0.005]\n",
            "81 :['AION V 2022款 Plus 70 行政版 三元锂'] : [0.002]\n",
            "82 :['AION V 2022款 Plus 70 智享科技版 三元锂'] : [0.007]\n",
            "83 :['AION V 2022款 Plus 80 行政版 三元锂'] : [0.]\n",
            "84 :['AION V 2021款 进化版 70 智领版'] : [0.048]\n",
            "85 :['AION V 2021款 进化版 70 智享科技版'] : [0.047]\n",
            "86 :['AION V 2021款 进化版 80 智领版'] : [0.03]\n",
            "87 :['AION V 2021款 进化版 80 智享科技版'] : [0.001]\n",
            "88 :['AION V 2021款 进化版 80 MAX版'] : [0.001]\n",
            "89 :['AION V 2020款 70 智领版'] : [0.093]\n",
            "90 :['AION V 2020款 70 畅享健康版'] : [0.014]\n",
            "91 :['AION V 2020款 70 智享科技版'] : [0.065]\n",
            "92 :['AION V 2020款 70 悦享智驾版'] : [0.01]\n",
            "93 :['AION V 2020款 70 驾享智尊版'] : [0.02]\n",
            "94 :['AION V 2020款 70 PLUS 智领版'] : [0.059]\n",
            "95 :['AION V 2020款 80 智领版'] : [0.05]\n",
            "96 :['AION V 2020款 80 畅享健康版'] : [0.003]\n",
            "97 :['AION V 2020款 80 智享科技版'] : [0.003]\n",
            "98 :['AION V 2020款 80 悦享智驾版'] : [0.002]\n",
            "99 :['AION V 2020款 80 驾享智尊版'] : [0.001]\n",
            "100 :['AION V 2020款 80 MAX版'] : [0.001]\n",
            "101 :['星越L 2022款 1.5T 雷神Hi·X油电混动版 Super迅'] : [0.894]\n",
            "102 :['星越L 2022款 1.5T 雷神Hi·X油电混动版 Super睿'] : [0.91]\n",
            "103 :['星越L 2021款 2.0TD DCT EVO两驱舒适型'] : [0.374]\n",
            "104 :['星越L 2021款 2.0TD DCT EVO两驱豪华型'] : [0.75]\n",
            "105 :['星越L 2021款 2.0TD DCT EVO两驱尊贵型'] : [0.937]\n",
            "106 :['Model Y 2022款 后轮驱动版'] : [0.002]\n",
            "107 :['Model Y 2022款 长续航全轮驱动版'] : [0.002]\n",
            "108 :['Model Y 2021款 Performance高性能全轮驱动版'] : [0.001]\n",
            "109 :['Model Y 2021款 标准续航后驱版'] : [0.002]\n",
            "110 :['Model Y 2021款 长续航全轮驱动版'] : [0.001]\n",
            "111 :['Model Y 2021款 长续航全轮驱动版 3D7'] : [0.001]\n",
            "112 :['Model Y 2021款 改款 长续航全轮驱动版 3D5'] : [0.001]\n",
            "113 :['Model Y 2021款 改款二 长续航全轮驱动版'] : [0.001]\n",
            "114 :['问界M5 2022款 M5e 两驱纯电基本型'] : [0.]\n",
            "115 :['问界M5 2022款 M5e 四驱纯电基本型'] : [0.002]\n",
            "116 :['拿铁DHT-PHEV 2022款 1.5T 两驱大杯'] : [0.]\n",
            "117 :['拿铁DHT-PHEV 2022款 1.5T 两驱超大杯'] : [0.]\n",
            "118 :['拿铁DHT-PHEV 2022款 1.5T 四驱超大杯'] : [0.]\n"
          ]
        }
      ]
    },
    {
      "cell_type": "code",
      "source": [
        "new_y_predict = np.zeros((new_car_predict.shape))\n",
        "new_y_predict [new_car_predict > 0.5] = 1\n",
        "new_y_true = np.zeros((new_y_predict.shape))\n",
        "new_y_true[row_car_dict == dsc_up[row_user_dst, 31]] = 1\n",
        "\n",
        "print(confusion_matrix(new_y_true, new_y_predict))\n",
        "print(classification_report(new_y_true, new_y_predict))\n"
      ],
      "metadata": {
        "colab": {
          "base_uri": "https://localhost:8080/"
        },
        "id": "6x8FD7Sdt4bC",
        "outputId": "e0339718-4889-4217-a842-e3b6d1382f0b"
      },
      "execution_count": 120,
      "outputs": [
        {
          "output_type": "stream",
          "name": "stdout",
          "text": [
            "[[100  18]\n",
            " [  0   1]]\n",
            "              precision    recall  f1-score   support\n",
            "\n",
            "         0.0       1.00      0.85      0.92       118\n",
            "         1.0       0.05      1.00      0.10         1\n",
            "\n",
            "    accuracy                           0.85       119\n",
            "   macro avg       0.53      0.92      0.51       119\n",
            "weighted avg       0.99      0.85      0.91       119\n",
            "\n"
          ]
        }
      ]
    },
    {
      "cell_type": "code",
      "source": [
        "new_y_predict_vs = np.concatenate((new_y_predict, new_y_true), axis=1)\n",
        "new_y_predict_df = pd.DataFrame(new_y_predict_vs)\n",
        "new_y_predict_df.to_csv(r'/content/new_y_predict_vs.csv', encoding='UTF-8')"
      ],
      "metadata": {
        "id": "gplApG3yjI9P"
      },
      "execution_count": 121,
      "outputs": []
    },
    {
      "cell_type": "markdown",
      "source": [
        "基于某款车预测不同用户的购买倾向"
      ],
      "metadata": {
        "id": "MzhVNUg0Y0vr"
      }
    },
    {
      "cell_type": "code",
      "source": [
        "row_car_dict = [70]\n",
        "row_user_dst = np.arange(0, num_users)\n",
        "new_car = gen_car_vecs(car_unscaled[row_car_dict], len(row_user_dst))\n",
        "new_user = user_unscaled[row_user_dst]\n",
        "\n",
        "new_user_scal = scalerUser.transform(new_user)\n",
        "new_car_scal = scalerCar.transform(new_car)\n",
        "new_car_predict = model.predict([[new_user_scal, new_car_scal]])"
      ],
      "metadata": {
        "colab": {
          "base_uri": "https://localhost:8080/"
        },
        "id": "bIjPzfT7t7uL",
        "outputId": "ab393e72-dbd3-4716-ff97-fcc201b9a240"
      },
      "execution_count": 100,
      "outputs": [
        {
          "output_type": "stream",
          "name": "stdout",
          "text": [
            "427/427 [==============================] - 1s 2ms/step\n"
          ]
        }
      ]
    },
    {
      "cell_type": "code",
      "source": [
        "new_y_predict = np.zeros((new_car_predict.shape))\n",
        "new_y_predict [new_car_predict > 0.3] = 1\n",
        "new_y_true = np.zeros((new_y_predict.shape))\n",
        "new_y_true[dsc_up[0:, 31] == row_car_dict] = 1\n",
        "\n",
        "print(confusion_matrix(new_y_true, new_y_predict))\n",
        "print(classification_report(new_y_true, new_y_predict))"
      ],
      "metadata": {
        "colab": {
          "base_uri": "https://localhost:8080/"
        },
        "id": "CzeIxA3cTDwo",
        "outputId": "183551b2-fd6c-4f67-eb61-c22cc83b36aa"
      },
      "execution_count": 101,
      "outputs": [
        {
          "output_type": "stream",
          "name": "stdout",
          "text": [
            "[[8784 4653]\n",
            " [   2  214]]\n",
            "              precision    recall  f1-score   support\n",
            "\n",
            "         0.0       1.00      0.65      0.79     13437\n",
            "         1.0       0.04      0.99      0.08       216\n",
            "\n",
            "    accuracy                           0.66     13653\n",
            "   macro avg       0.52      0.82      0.44     13653\n",
            "weighted avg       0.98      0.66      0.78     13653\n",
            "\n"
          ]
        }
      ]
    },
    {
      "cell_type": "code",
      "source": [],
      "metadata": {
        "id": "VJuVzJhAakQ0"
      },
      "execution_count": null,
      "outputs": []
    },
    {
      "cell_type": "code",
      "source": [
        "new_car_predict = np.concatenate((new_car_predict, dsc_up[0:, 30].reshape(-1, 1)), axis=1)\n",
        "new_car_predict_df = pd.DataFrame(new_car_predict)\n",
        "new_car_predict_df.to_csv(r'/content/new_car_predict3.csv', encoding='UTF-8')"
      ],
      "metadata": {
        "id": "ir8FQxgSuBos"
      },
      "execution_count": 73,
      "outputs": []
    }
  ]
}