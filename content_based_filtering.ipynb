{
  "nbformat": 4,
  "nbformat_minor": 0,
  "metadata": {
    "colab": {
      "provenance": [],
      "authorship_tag": "ABX9TyPdqHuXUgep1W2aw6nlY4EX",
      "include_colab_link": true
    },
    "kernelspec": {
      "name": "python3",
      "display_name": "Python 3"
    },
    "language_info": {
      "name": "python"
    },
    "gpuClass": "standard"
  },
  "cells": [
    {
      "cell_type": "markdown",
      "metadata": {
        "id": "view-in-github",
        "colab_type": "text"
      },
      "source": [
        "<a href=\"https://colab.research.google.com/github/JasonDepblu/potential-spork/blob/balaced_data/content_based_filtering.ipynb\" target=\"_parent\"><img src=\"https://colab.research.google.com/assets/colab-badge.svg\" alt=\"Open In Colab\"/></a>"
      ]
    },
    {
      "cell_type": "code",
      "execution_count": 1,
      "metadata": {
        "id": "8vH4YZrHC2En"
      },
      "outputs": [],
      "source": [
        "# %%\n",
        "import time\n",
        "import pandas as pd\n",
        "import numpy as np\n",
        "import random\n",
        "import mpl_toolkits.axisartist as ast\n",
        "from matplotlib import pyplot as plt\n",
        "from mpl_toolkits.mplot3d import Axes3D\n",
        "from tensorflow import keras\n",
        "import tensorflow as tf\n",
        "from keras import layers, models, optimizers\n",
        "from sklearn.model_selection import train_test_split\n",
        "from sklearn.metrics import confusion_matrix\n",
        "from sklearn.metrics import classification_report\n",
        "from sklearn.preprocessing import StandardScaler, MinMaxScaler\n",
        "from sklearn.preprocessing import OneHotEncoder\n",
        "from sklearn.decomposition import PCA\n",
        "import copy"
      ]
    },
    {
      "cell_type": "code",
      "source": [
        "# load the data\n",
        "dsc_up_df = pd.read_csv(\n",
        "    r'/content/dsc_up.csv')\n",
        "car_dict_df = pd.read_csv(\n",
        "    r'/content/car_dict.csv')\n",
        "\n",
        "dsc_up_df = dsc_up_df.replace({np.NaN: 0})\n",
        "car_dict_df = car_dict_df.replace({np.NaN: 0})\n",
        "\n",
        "dsc_up = dsc_up_df.values\n",
        "car_dict = car_dict_df.values\n",
        "\n",
        "print(dsc_up.shape)\n",
        "print(car_dict.shape)"
      ],
      "metadata": {
        "id": "S-Q9NYd0DIkH",
        "colab": {
          "base_uri": "https://localhost:8080/"
        },
        "outputId": "aa7f03f4-0168-43cb-b8d1-3f9f3a8a07e0"
      },
      "execution_count": 2,
      "outputs": [
        {
          "output_type": "stream",
          "name": "stdout",
          "text": [
            "(3861, 33)\n",
            "(42, 84)\n"
          ]
        }
      ]
    },
    {
      "cell_type": "code",
      "source": [
        "num_cars = len(car_dict)\n",
        "print(num_cars)"
      ],
      "metadata": {
        "colab": {
          "base_uri": "https://localhost:8080/"
        },
        "id": "PHHkweH9wJbI",
        "outputId": "9d72e2d6-0ace-4b74-8816-9f9ac78da366"
      },
      "execution_count": 3,
      "outputs": [
        {
          "output_type": "stream",
          "name": "stdout",
          "text": [
            "42\n"
          ]
        }
      ]
    },
    {
      "cell_type": "code",
      "source": [
        "# balance samples\n",
        "dsc_up_bal = np.empty(shape=(1, dsc_up.shape[1]))\n",
        "\n",
        "for i in range(num_cars):\n",
        "  if len(dsc_up[dsc_up[:, 31] == i]) > 300:\n",
        "    ran_row_bal = np.random.choice(np.arange(len(dsc_up[dsc_up[:, 31] == i])), size=100, replace=False)\n",
        "    dsc_up_bali = dsc_up[dsc_up[:, 31] == i][ran_row_bal]\n",
        "  else:\n",
        "    dsc_up_bali = dsc_up[dsc_up[:, 31] == i]\n",
        "  dsc_up_bal = np.concatenate((dsc_up_bal, dsc_up_bali), axis=0)\n",
        "dsc_up = dsc_up_bal[1:]\n",
        "print(dsc_up.shape)"
      ],
      "metadata": {
        "colab": {
          "base_uri": "https://localhost:8080/"
        },
        "id": "5mbaZipFwxwG",
        "outputId": "6616a60c-ed07-42a6-f1bd-319c287880d3"
      },
      "execution_count": 4,
      "outputs": [
        {
          "output_type": "stream",
          "name": "stdout",
          "text": [
            "(3861, 33)\n"
          ]
        }
      ]
    },
    {
      "cell_type": "code",
      "source": [
        "# load the label\n",
        "print(car_dict.shape)\n",
        "print(dsc_up.shape)\n",
        "\n",
        "ys_up = dsc_up[:, 31]\n",
        "print(ys_up)"
      ],
      "metadata": {
        "colab": {
          "base_uri": "https://localhost:8080/"
        },
        "id": "ZNay43VdDXtA",
        "outputId": "47c255f8-97a8-419b-b231-64e556f56e73"
      },
      "execution_count": 5,
      "outputs": [
        {
          "output_type": "stream",
          "name": "stdout",
          "text": [
            "(42, 84)\n",
            "(3861, 33)\n",
            "[0 0 0 ... 41 41 41]\n"
          ]
        }
      ]
    },
    {
      "cell_type": "code",
      "source": [
        "# transfer the label to onehot_code\n",
        "ys = copy.copy(ys_up.reshape(len(ys_up), 1))\n",
        "ys -= 1\n",
        "onehot_encoder = OneHotEncoder(sparse=False)\n",
        "onehot_encoded = onehot_encoder.fit_transform(ys)\n",
        "ys = onehot_encoded\n",
        "print(ys.shape)"
      ],
      "metadata": {
        "colab": {
          "base_uri": "https://localhost:8080/"
        },
        "id": "S17GJ8SJ0adp",
        "outputId": "7cdd0afd-5fef-4df7-81b3-df5a0790d2dd"
      },
      "execution_count": 6,
      "outputs": [
        {
          "output_type": "stream",
          "name": "stdout",
          "text": [
            "(3861, 42)\n"
          ]
        }
      ]
    },
    {
      "cell_type": "code",
      "source": [
        "# column of last feature from 0 and +1\n",
        "col_last_feature_car = 80\n",
        "    #76\n",
        "col_last_feature_user = 28\n",
        "car_unscaled = car_dict[:, 1:col_last_feature_car]\n",
        "user_unscaled = dsc_up[:, 1:col_last_feature_user]\n",
        "\n",
        "# generate the gaussian random no. to budget feature\n",
        "mu_budget = 0\n",
        "sigma_budget = 2.5\n",
        "for i in range(len(user_unscaled)):\n",
        "    user_unscaled[i, 23] += random.gauss(mu_budget, sigma_budget)\n",
        "\n",
        "scalerCar = StandardScaler()\n",
        "scalerCar.fit(car_dict[:, 1:col_last_feature_car])\n",
        "car = scalerCar.transform(car_dict[:, 1:col_last_feature_car])\n",
        "\n",
        "scalerUser = StandardScaler()\n",
        "scalerUser.fit(dsc_up[:, 1:col_last_feature_user])\n",
        "user = scalerUser.transform(dsc_up[:, 1:col_last_feature_user])\n",
        "\n",
        "print(np.allclose(car_unscaled.astype(float), scalerCar.inverse_transform(car)))\n",
        "print(np.allclose(user_unscaled.astype(float), scalerUser.inverse_transform(user)))"
      ],
      "metadata": {
        "id": "F1Qh3rh_6v7a",
        "colab": {
          "base_uri": "https://localhost:8080/"
        },
        "outputId": "b4f710a5-dcfc-49d1-bf85-e8ae58603599"
      },
      "execution_count": 7,
      "outputs": [
        {
          "output_type": "stream",
          "name": "stdout",
          "text": [
            "True\n",
            "True\n"
          ]
        }
      ]
    },
    {
      "cell_type": "code",
      "source": [
        "# func for generating num_items users of different cars\n",
        "def gen_user_vecs(user_vec, num_items):\n",
        "    \"\"\" given a user vector return:\n",
        "        user predict matrix to match the size of item_vecs \"\"\"\n",
        "    user_vecs = np.tile(user_vec, (1, num_items))\n",
        "    return user_vecs\n",
        "\n",
        "def gen_car_vecs(car_vec, num_users):\n",
        "    car_vecs = np.tile(car_vec, (num_users, 1))\n",
        "    return car_vecs"
      ],
      "metadata": {
        "id": "z3Ze_4Ri6b7w"
      },
      "execution_count": 8,
      "outputs": []
    },
    {
      "cell_type": "code",
      "source": [
        "# pca analysis\n",
        "pca_25 = PCA(n_components=25)\n",
        "print(pca_25)\n",
        "pca_25.fit(user)\n",
        "print(pca_25.explained_variance_ratio_)\n",
        "\n",
        "# %%\n",
        "pca_30 = PCA(n_components=2)\n",
        "print(pca_30)\n",
        "pca_30.fit(car_dict[:, 1:15])\n",
        "print(pca_30.explained_variance_ratio_)\n",
        "c_trans = pca_30.transform(car_dict[:, 1:15])\n",
        "# plt.plot(c_trans[:, 0], c_trans[:, 1], 'ro')\n"
      ],
      "metadata": {
        "colab": {
          "base_uri": "https://localhost:8080/"
        },
        "id": "oBhji5xWngVa",
        "outputId": "d35f4165-1dd0-41e5-85f9-0e5a37b99d59"
      },
      "execution_count": null,
      "outputs": [
        {
          "output_type": "stream",
          "name": "stdout",
          "text": [
            "PCA(n_components=25)\n",
            "[0.07744459 0.06416523 0.05757915 0.05262065 0.05085443 0.04313143\n",
            " 0.04052785 0.03953415 0.03841383 0.03771634 0.03711356 0.03594251\n",
            " 0.03545511 0.03511565 0.03501954 0.0337594  0.03353585 0.03227448\n",
            " 0.03167989 0.03081186 0.02990005 0.02901641 0.02752164 0.02576775\n",
            " 0.02558806]\n",
            "PCA(n_components=2)\n",
            "[0.79305611 0.14624711]\n"
          ]
        }
      ]
    },
    {
      "cell_type": "code",
      "source": [
        "# generate num_items users for different cars\n",
        "user_vecs = gen_user_vecs(user, len(car_dict))\n",
        "user_vecs = user_vecs.reshape(-1, user.shape[1])\n",
        "car_vecs = gen_car_vecs(car, len(dsc_up))\n",
        "\n",
        "ys = ys.reshape(-1, 1)\n",
        "print(user_vecs.shape)\n",
        "print(car_vecs.shape)\n",
        "print(ys.shape)"
      ],
      "metadata": {
        "colab": {
          "base_uri": "https://localhost:8080/"
        },
        "id": "JtbYTY3rnxK_",
        "outputId": "3a6790be-cf61-46a6-da59-67ce77cf70ce"
      },
      "execution_count": 9,
      "outputs": [
        {
          "output_type": "stream",
          "name": "stdout",
          "text": [
            "(162162, 27)\n",
            "(162162, 79)\n",
            "(162162, 1)\n"
          ]
        }
      ]
    },
    {
      "cell_type": "code",
      "source": [
        "ys[ys == 0].shape"
      ],
      "metadata": {
        "colab": {
          "base_uri": "https://localhost:8080/"
        },
        "id": "j_LlJZomsOBU",
        "outputId": "ec23a5fe-0bef-4919-9d19-f6b8f1df2d29"
      },
      "execution_count": 10,
      "outputs": [
        {
          "output_type": "execute_result",
          "data": {
            "text/plain": [
              "(158301,)"
            ]
          },
          "metadata": {},
          "execution_count": 10
        }
      ]
    },
    {
      "cell_type": "code",
      "source": [
        "# # case 2\n",
        "# car_train, car_test = train_test_split(car_vecs, train_size=0.8, shuffle=True, random_state=2023)\n",
        "# user_train, user_test = train_test_split(user_vecs, train_size=0.8, shuffle=True, random_state=2023)\n",
        "# ys_train, ys_test = train_test_split(ys, train_size=0.8, shuffle=True, random_state=2023)\n",
        "\n",
        "# car_val, car_test = train_test_split(car_test, train_size=0.5, shuffle=True, random_state=2023)\n",
        "# user_val, user_test = train_test_split(user_test, train_size=0.5, shuffle=True, random_state=2023)\n",
        "# ys_val, ys_test = train_test_split(ys_test, train_size=0.5, shuffle=True, random_state=2023)"
      ],
      "metadata": {
        "id": "Exgz6gDNsG0e"
      },
      "execution_count": null,
      "outputs": []
    },
    {
      "cell_type": "code",
      "source": [
        "randnum = random.randint(0, 100)\n",
        "print(randnum)\n",
        "random.seed(randnum)"
      ],
      "metadata": {
        "colab": {
          "base_uri": "https://localhost:8080/"
        },
        "id": "milRRhMVQKXV",
        "outputId": "92f315ca-89a6-4a2c-9ab2-465656f8acb9"
      },
      "execution_count": 11,
      "outputs": [
        {
          "output_type": "stream",
          "name": "stdout",
          "text": [
            "17\n"
          ]
        }
      ]
    },
    {
      "cell_type": "code",
      "source": [
        "# # case 2\n",
        "# user_train_one = user_train[(ys_train == 1)[:, 0]]\n",
        "# user_train_one = gen_car_vecs(user_train_one, np.ceil(len(car_dict) * 0.3 -1).astype(int))\n",
        "# user_train_zero = user_train[(ys_train == 0)[:, 0]]\n",
        "# user_train = np.concatenate((user_train_zero, user_train_one), axis=0)\n",
        "# random.seed(randnum)\n",
        "# random.shuffle(user_train)\n",
        "# print(user_train.shape)"
      ],
      "metadata": {
        "id": "06DItVnFhowy"
      },
      "execution_count": null,
      "outputs": []
    },
    {
      "cell_type": "code",
      "source": [
        "# # case 2\n",
        "# car_train_one = car_train[(ys_train == 1)[:, 0]]\n",
        "# car_train_one = gen_car_vecs(car_train_one, np.ceil(len(car_dict) * 0.3 -1).astype(int))\n",
        "# car_train_zero = car_train[(ys_train == 0)[:, 0]]\n",
        "# car_train = np.concatenate((car_train_zero, car_train_one), axis=0)\n",
        "# random.seed(randnum)\n",
        "# random.shuffle(car_train)\n",
        "# print(car_train.shape)"
      ],
      "metadata": {
        "id": "SCElRjrGiCqJ"
      },
      "execution_count": null,
      "outputs": []
    },
    {
      "cell_type": "code",
      "source": [
        "# # case 2\n",
        "# ys_one = ys_train[(ys_train == 1)[:, 0]]\n",
        "# ys_one = gen_car_vecs(ys_one, np.ceil(len(car_dict) * 0.3 -1).astype(int))\n",
        "# ys_zero = ys_train[(ys_train == 0)[:, 0]]\n",
        "# ys_train = np.concatenate((ys_zero, ys_one), axis=0)\n",
        "# random.seed(randnum)\n",
        "# random.shuffle(ys_train)\n",
        "# print(ys_train.shape)"
      ],
      "metadata": {
        "id": "8IAExZSfiCcW"
      },
      "execution_count": null,
      "outputs": []
    },
    {
      "cell_type": "code",
      "source": [
        "# user_vecs_one = user_vecs[(ys == 1)[:, 0]]"
      ],
      "metadata": {
        "id": "vekhBc82s5CX"
      },
      "execution_count": null,
      "outputs": []
    },
    {
      "cell_type": "code",
      "source": [
        "# num_users = user_vecs_one.shape[0]\n",
        "# print(num_users)\n"
      ],
      "metadata": {
        "id": "zAEEnmaPs_96"
      },
      "execution_count": null,
      "outputs": []
    },
    {
      "cell_type": "code",
      "source": [
        "# user_vecs_zero = user_vecs[(ys == 0)[:, 0]]\n",
        "# num_zeros = user_vecs_zero.shape[0]\n",
        "# print(num_zeros)"
      ],
      "metadata": {
        "id": "ptj2UlkZuC2n"
      },
      "execution_count": null,
      "outputs": []
    },
    {
      "cell_type": "code",
      "source": [
        "# random.seed(randnum)"
      ],
      "metadata": {
        "id": "0AhtIQYvui-c"
      },
      "execution_count": null,
      "outputs": []
    },
    {
      "cell_type": "code",
      "source": [
        "# sample_row = np.random.choice(np.arange(num_zeros), size=num_users, replace=False)"
      ],
      "metadata": {
        "id": "wAszpAvxtCW2"
      },
      "execution_count": null,
      "outputs": []
    },
    {
      "cell_type": "code",
      "source": [
        "# sample_row"
      ],
      "metadata": {
        "id": "XBxdkxGuskpD"
      },
      "execution_count": null,
      "outputs": []
    },
    {
      "cell_type": "code",
      "source": [
        "# user_vecs_zero = user_vecs_zero[sample_row]\n",
        "# print(user_vecs_zero.shape)"
      ],
      "metadata": {
        "id": "h3MhNu3Eu3_k"
      },
      "execution_count": null,
      "outputs": []
    },
    {
      "cell_type": "code",
      "source": [
        "# case 3\n",
        "user_vecs_one = user_vecs[(ys == 1)[:, 0]]\n",
        "# user_vecs_one = gen_car_vecs(user_vecs_one, len(car_dict)-1)\n",
        "user_vecs_zero = user_vecs[(ys == 0)[:, 0]]\n",
        "num_users = user_vecs_one.shape[0]\n",
        "num_zeros = user_vecs_zero.shape[0]\n",
        "random.seed(randnum)\n",
        "\n",
        "sample_row = np.random.choice(np.arange(num_zeros), size=num_users, replace=False)\n",
        "user_vecs_zero = user_vecs_zero[sample_row]\n",
        "user_vecs = np.concatenate((user_vecs_zero, user_vecs_one), axis=0)\n",
        "\n",
        "random.seed(44)\n",
        "shuffle_row = np.random.choice(np.arange(0,len(user_vecs)), len(user_vecs), replace=False)\n",
        "user_vecs = user_vecs[shuffle_row]\n",
        "print(user_vecs.shape)"
      ],
      "metadata": {
        "colab": {
          "base_uri": "https://localhost:8080/"
        },
        "id": "Od4AHZ9ln_Q-",
        "outputId": "db51d04a-6cf0-4e17-e04b-b177eb4919e1"
      },
      "execution_count": 12,
      "outputs": [
        {
          "output_type": "stream",
          "name": "stdout",
          "text": [
            "(7722, 27)\n"
          ]
        }
      ]
    },
    {
      "cell_type": "code",
      "source": [
        "# case3\n",
        "car_vecs_one = car_vecs[(ys == 1)[:, 0]]\n",
        "# car_vecs_one = gen_car_vecs(car_vecs_one, len(car_dict)-1)\n",
        "\n",
        "car_vecs_zero = car_vecs[(ys == 0)[:, 0]][sample_row]\n",
        "car_vecs = np.concatenate((car_vecs_zero, car_vecs_one), axis=0)\n",
        "\n",
        "car_vecs = car_vecs[shuffle_row]\n",
        "print(car_vecs.shape)"
      ],
      "metadata": {
        "colab": {
          "base_uri": "https://localhost:8080/"
        },
        "id": "RqhTucG6n69P",
        "outputId": "cf874301-1956-44ab-b839-afdf1e24f27e"
      },
      "execution_count": 13,
      "outputs": [
        {
          "output_type": "stream",
          "name": "stdout",
          "text": [
            "(7722, 79)\n"
          ]
        }
      ]
    },
    {
      "cell_type": "code",
      "source": [
        "# case 3\n",
        "ys_one = ys[(ys == 1)[:, 0]]\n",
        "# ys_one = gen_car_vecs(ys_one, len(car_dict)-1)\n",
        "\n",
        "ys_zero = ys[(ys == 0)[:, 0]][sample_row]\n",
        "ys = np.concatenate((ys_zero, ys_one), axis=0)\n",
        "\n",
        "ys = ys[shuffle_row]\n",
        "print(ys.shape)"
      ],
      "metadata": {
        "colab": {
          "base_uri": "https://localhost:8080/"
        },
        "id": "3-HMFlwboBib",
        "outputId": "d6027b70-7865-4d66-fc27-0d42deec80c1"
      },
      "execution_count": 14,
      "outputs": [
        {
          "output_type": "stream",
          "name": "stdout",
          "text": [
            "(7722, 1)\n"
          ]
        }
      ]
    },
    {
      "cell_type": "code",
      "source": [
        "print(ys[0:50])"
      ],
      "metadata": {
        "id": "Mx2H8HVTp6CV"
      },
      "execution_count": null,
      "outputs": []
    },
    {
      "cell_type": "code",
      "source": [
        "# case 3\n",
        "car_train, car_test = train_test_split(car_vecs, train_size=0.8, shuffle=True, random_state=2023)\n",
        "user_train, user_test = train_test_split(user_vecs, train_size=0.8, shuffle=True, random_state=2023)\n",
        "ys_train, ys_test = train_test_split(ys, train_size=0.8, shuffle=True, random_state=2023)\n",
        "\n",
        "car_val, car_test = train_test_split(car_test, train_size=0.5, shuffle=True, random_state=2023)\n",
        "user_val, user_test = train_test_split(user_test, train_size=0.5, shuffle=True, random_state=2023)\n",
        "ys_val, ys_test = train_test_split(ys_test, train_size=0.5, shuffle=True, random_state=2023)"
      ],
      "metadata": {
        "id": "uw1qHr9lhWOW"
      },
      "execution_count": 15,
      "outputs": []
    },
    {
      "cell_type": "code",
      "source": [
        "print(f\"cars training data shape:{car_train.shape}\")\n",
        "print(f\"cars validating data shape:{car_val.shape}\")\n",
        "print(f\"cars testing data shape:{car_test.shape}\")\n",
        "\n",
        "print(f\"users training data shape:{user_train.shape}\")\n",
        "print(f\"users validating data shape:{user_val.shape}\")\n",
        "print(f\"users testing data shape:{user_test.shape}\")\n",
        "\n",
        "print(f\"ys training data shape:{ys_train.shape}\")\n",
        "print(f\"ys validating data shape:{ys_val.shape}\")\n",
        "print(f\"ys testing data shape:{ys_test.shape}\")"
      ],
      "metadata": {
        "colab": {
          "base_uri": "https://localhost:8080/"
        },
        "id": "Xnm6wtb2sKKv",
        "outputId": "f1dda37c-5b35-44fc-f574-61e063e20a87"
      },
      "execution_count": 16,
      "outputs": [
        {
          "output_type": "stream",
          "name": "stdout",
          "text": [
            "cars training data shape:(6177, 79)\n",
            "cars validating data shape:(772, 79)\n",
            "cars testing data shape:(773, 79)\n",
            "users training data shape:(6177, 27)\n",
            "users validating data shape:(772, 27)\n",
            "users testing data shape:(773, 27)\n",
            "ys training data shape:(6177, 1)\n",
            "ys validating data shape:(772, 1)\n",
            "ys testing data shape:(773, 1)\n"
          ]
        }
      ]
    },
    {
      "cell_type": "code",
      "source": [
        "num_user_features = col_last_feature_user-1\n",
        "num_car_features = col_last_feature_car-1\n",
        "num_outputs = 32\n",
        "tf.random.set_seed(1)\n",
        "user_NN = tf.keras.models.Sequential([\n",
        "    tf.keras.layers.Dense(256, activation='relu'),\n",
        "    tf.keras.layers.Dense(128, activation='relu'),\n",
        "    tf.keras.layers.Dense(num_outputs, activation='relu'),\n",
        "])\n",
        "car_NN = tf.keras.models.Sequential([\n",
        "    tf.keras.layers.Dense(256, activation='relu'),\n",
        "    tf.keras.layers.Dense(128, activation='relu'),\n",
        "    tf.keras.layers.Dense(num_outputs, activation='relu'),\n",
        "])\n",
        "\n",
        "input_user = tf.keras.layers.Input(shape=(num_user_features))\n",
        "vu = user_NN(input_user)\n",
        "vu = tf.linalg.l2_normalize(vu, axis=1)\n",
        "\n",
        "input_car = tf.keras.layers.Input(shape=(num_car_features))\n",
        "vc = car_NN(input_car)\n",
        "vc = tf.linalg.l2_normalize(vc, axis=1)\n",
        "\n",
        "d_out = tf.keras.layers.Dot(axes=1)([vu, vc])\n",
        "output = tf.keras.layers.Dense(1, activation='sigmoid')(d_out)\n",
        "\n",
        "model = tf.keras.Model([input_user, input_car], output)\n",
        "model.summary()\n",
        "tf.keras.utils.plot_model(model, \"/content/my_model.png\")"
      ],
      "metadata": {
        "colab": {
          "base_uri": "https://localhost:8080/",
          "height": 998
        },
        "id": "bP3DkKKatJyi",
        "outputId": "520f64f9-0178-4075-cdfa-256d61e903bb"
      },
      "execution_count": 17,
      "outputs": [
        {
          "output_type": "stream",
          "name": "stdout",
          "text": [
            "Model: \"model\"\n",
            "__________________________________________________________________________________________________\n",
            " Layer (type)                   Output Shape         Param #     Connected to                     \n",
            "==================================================================================================\n",
            " input_1 (InputLayer)           [(None, 27)]         0           []                               \n",
            "                                                                                                  \n",
            " input_2 (InputLayer)           [(None, 79)]         0           []                               \n",
            "                                                                                                  \n",
            " sequential (Sequential)        (None, 32)           44192       ['input_1[0][0]']                \n",
            "                                                                                                  \n",
            " sequential_1 (Sequential)      (None, 32)           57504       ['input_2[0][0]']                \n",
            "                                                                                                  \n",
            " tf.math.l2_normalize (TFOpLamb  (None, 32)          0           ['sequential[0][0]']             \n",
            " da)                                                                                              \n",
            "                                                                                                  \n",
            " tf.math.l2_normalize_1 (TFOpLa  (None, 32)          0           ['sequential_1[0][0]']           \n",
            " mbda)                                                                                            \n",
            "                                                                                                  \n",
            " dot (Dot)                      (None, 1)            0           ['tf.math.l2_normalize[0][0]',   \n",
            "                                                                  'tf.math.l2_normalize_1[0][0]'] \n",
            "                                                                                                  \n",
            " dense_6 (Dense)                (None, 1)            2           ['dot[0][0]']                    \n",
            "                                                                                                  \n",
            "==================================================================================================\n",
            "Total params: 101,698\n",
            "Trainable params: 101,698\n",
            "Non-trainable params: 0\n",
            "__________________________________________________________________________________________________\n"
          ]
        },
        {
          "output_type": "execute_result",
          "data": {
            "image/png": "[encoded data removed]",
            "text/plain": [
              "<IPython.core.display.Image object>"
            ]
          },
          "metadata": {},
          "execution_count": 17
        }
      ]
    },
    {
      "cell_type": "code",
      "source": [
        "tf.random.set_seed(1)\n",
        "cost_fn = tf.keras.losses.MeanSquaredError()\n",
        "opt = keras.optimizers.Adam(learning_rate=0.01)\n",
        "model.compile(optimizer=opt, loss=cost_fn)"
      ],
      "metadata": {
        "id": "2gPZmKAitT2h"
      },
      "execution_count": 18,
      "outputs": []
    },
    {
      "cell_type": "code",
      "source": [
        "tf.random.set_seed(1)\n",
        "model.fit([user_train, car_train], ys_train, epochs=1)"
      ],
      "metadata": {
        "colab": {
          "base_uri": "https://localhost:8080/"
        },
        "id": "QXZsutVxtUfw",
        "outputId": "e27472b0-8295-42e9-964d-1f937de5e90b"
      },
      "execution_count": 44,
      "outputs": [
        {
          "output_type": "stream",
          "name": "stdout",
          "text": [
            "194/194 [==============================] - 1s 5ms/step - loss: 0.1479\n"
          ]
        },
        {
          "output_type": "execute_result",
          "data": {
            "text/plain": [
              "<keras.callbacks.History at 0x7f61035f31c0>"
            ]
          },
          "metadata": {},
          "execution_count": 44
        }
      ]
    },
    {
      "cell_type": "code",
      "source": [
        "model.evaluate([user_val, car_val], ys_val)"
      ],
      "metadata": {
        "colab": {
          "base_uri": "https://localhost:8080/"
        },
        "id": "k50a01wBtXr8",
        "outputId": "2bc4a571-0b00-49c7-fc03-f71a3bfb7c51"
      },
      "execution_count": 46,
      "outputs": [
        {
          "output_type": "stream",
          "name": "stdout",
          "text": [
            "25/25 [==============================] - 0s 2ms/step - loss: 0.1856\n"
          ]
        },
        {
          "output_type": "execute_result",
          "data": {
            "text/plain": [
              "0.1856207549571991"
            ]
          },
          "metadata": {},
          "execution_count": 46
        }
      ]
    },
    {
      "cell_type": "code",
      "source": [
        "ys_test.shape"
      ],
      "metadata": {
        "colab": {
          "base_uri": "https://localhost:8080/"
        },
        "id": "1JHYyjPvfPGL",
        "outputId": "93222124-fc0f-49e5-bc88-4a2f8a83b2fd"
      },
      "execution_count": null,
      "outputs": [
        {
          "output_type": "execute_result",
          "data": {
            "text/plain": [
              "(1174, 1)"
            ]
          },
          "metadata": {},
          "execution_count": 86
        }
      ]
    },
    {
      "cell_type": "code",
      "source": [
        "model.evaluate([user_test[(ys_test == 0)[:, 0]], car_test[(ys_test == 0)[:, 0]]], ys_test[(ys_test == 0)[:, 0]])"
      ],
      "metadata": {
        "colab": {
          "base_uri": "https://localhost:8080/"
        },
        "id": "wWyGJ47d8FsR",
        "outputId": "30d16856-8453-40ff-c2e3-1fc1d9be24c5"
      },
      "execution_count": 48,
      "outputs": [
        {
          "output_type": "stream",
          "name": "stdout",
          "text": [
            "13/13 [==============================] - 0s 5ms/step - loss: 0.1982\n"
          ]
        },
        {
          "output_type": "execute_result",
          "data": {
            "text/plain": [
              "0.1981760710477829"
            ]
          },
          "metadata": {},
          "execution_count": 48
        }
      ]
    },
    {
      "cell_type": "code",
      "source": [
        "ys_p_test = model.predict([[user_test, car_test]])\n",
        "ys_p_test_vs = np.concatenate((ys_p_test, ys_test), axis=1)\n",
        "ys_test_df = pd.DataFrame(ys_p_test_vs)\n",
        "ys_test_df.to_csv(r'/content/ys_p_test_6epoch.csv', encoding='UTF-8')"
      ],
      "metadata": {
        "colab": {
          "base_uri": "https://localhost:8080/"
        },
        "id": "pR91EXOOtbFv",
        "outputId": "63648c9b-3003-4717-8316-e835e299dcc4"
      },
      "execution_count": 40,
      "outputs": [
        {
          "output_type": "stream",
          "name": "stdout",
          "text": [
            "25/25 [==============================] - 0s 3ms/step\n"
          ]
        }
      ]
    },
    {
      "cell_type": "code",
      "source": [
        "# print the confusion matrix & report\n",
        "print(confusion_matrix(ys_test, np.round(ys_p_test)))\n",
        "print(classification_report(ys_test, np.round(ys_p_test)))"
      ],
      "metadata": {
        "colab": {
          "base_uri": "https://localhost:8080/"
        },
        "id": "xY380Qk3t0Xw",
        "outputId": "5eaec0e6-5e12-414a-f58b-370f09497be3"
      },
      "execution_count": 41,
      "outputs": [
        {
          "output_type": "stream",
          "name": "stdout",
          "text": [
            "[[248 141]\n",
            " [ 61 323]]\n",
            "              precision    recall  f1-score   support\n",
            "\n",
            "         0.0       0.80      0.64      0.71       389\n",
            "         1.0       0.70      0.84      0.76       384\n",
            "\n",
            "    accuracy                           0.74       773\n",
            "   macro avg       0.75      0.74      0.74       773\n",
            "weighted avg       0.75      0.74      0.74       773\n",
            "\n"
          ]
        }
      ]
    },
    {
      "cell_type": "code",
      "source": [
        "ys_test[ys_test==0].shape"
      ],
      "metadata": {
        "colab": {
          "base_uri": "https://localhost:8080/"
        },
        "id": "sQ4CArpxdnKe",
        "outputId": "b45b3c97-4cc5-400d-f5c5-898fab582807"
      },
      "execution_count": null,
      "outputs": [
        {
          "output_type": "execute_result",
          "data": {
            "text/plain": [
              "(571,)"
            ]
          },
          "metadata": {},
          "execution_count": 90
        }
      ]
    },
    {
      "cell_type": "code",
      "source": [
        "ys_p_train = model.predict([[user_train, car_train]])"
      ],
      "metadata": {
        "colab": {
          "base_uri": "https://localhost:8080/"
        },
        "id": "_bhcLBm7A4_m",
        "outputId": "b3094376-3f85-4523-f189-85671be27801"
      },
      "execution_count": null,
      "outputs": [
        {
          "output_type": "stream",
          "name": "stdout",
          "text": [
            "294/294 [==============================] - 1s 3ms/step\n"
          ]
        }
      ]
    },
    {
      "cell_type": "code",
      "source": [
        "# print the confusion matrix & report\n",
        "print(confusion_matrix(ys_train, np.round(ys_p_train)))\n",
        "print(classification_report(ys_train, np.round(ys_p_train)))"
      ],
      "metadata": {
        "colab": {
          "base_uri": "https://localhost:8080/"
        },
        "id": "9BmnL9PnXdCD",
        "outputId": "9208a154-8e30-45ad-e6b4-90470dc69cb1"
      },
      "execution_count": null,
      "outputs": [
        {
          "output_type": "stream",
          "name": "stdout",
          "text": [
            "[[3703  966]\n",
            " [ 425 4293]]\n",
            "              precision    recall  f1-score   support\n",
            "\n",
            "         0.0       0.90      0.79      0.84      4669\n",
            "         1.0       0.82      0.91      0.86      4718\n",
            "\n",
            "    accuracy                           0.85      9387\n",
            "   macro avg       0.86      0.85      0.85      9387\n",
            "weighted avg       0.86      0.85      0.85      9387\n",
            "\n"
          ]
        }
      ]
    },
    {
      "cell_type": "markdown",
      "source": [
        "基于某个用户，预测不同的车的购买倾向"
      ],
      "metadata": {
        "id": "JgvnydmXY9fv"
      }
    },
    {
      "cell_type": "code",
      "source": [
        "car_unscaled[73, 0:7]"
      ],
      "metadata": {
        "id": "oZkIpXqs1Bm6",
        "outputId": "63ed4d08-952e-4a1a-9d29-f1076b1255b1",
        "colab": {
          "base_uri": "https://localhost:8080/"
        }
      },
      "execution_count": 111,
      "outputs": [
        {
          "output_type": "execute_result",
          "data": {
            "text/plain": [
              "array([20.58, 4, 1, 3, 3, 0.7, 5.5], dtype=object)"
            ]
          },
          "metadata": {},
          "execution_count": 111
        }
      ]
    },
    {
      "cell_type": "code",
      "source": [
        "list = []\n",
        "for i in range(len(dsc_up)):\n",
        "  if dsc_up[i, 31] == 56:\n",
        "    list.append(i)\n",
        "print(list)"
      ],
      "metadata": {
        "id": "OvsmShkg4cVk",
        "outputId": "c9b982cd-5441-4d6e-dc3c-bf8123c80ec9",
        "colab": {
          "base_uri": "https://localhost:8080/"
        }
      },
      "execution_count": 120,
      "outputs": [
        {
          "output_type": "stream",
          "name": "stdout",
          "text": [
            "[2622, 2623, 2624, 2625, 2626, 2627, 2628, 2629, 2630, 2631, 2632, 2633, 2634, 2635, 2636, 2637, 2638, 2639, 2640, 2641, 2642, 2643, 2644, 2645, 2646, 2647, 2648, 2649, 2650, 2651, 2652, 2653, 2654, 2655, 2656, 2657, 2658, 2659, 2660, 2661, 2662, 2663, 2664, 2665, 2666, 2667, 2668, 2669, 2670, 2671, 2672, 2673, 2674, 2675, 2676, 2677]\n"
          ]
        }
      ]
    },
    {
      "cell_type": "code",
      "source": [
        "# predict the new car of new performance for specific user\n",
        "# define the cars and the user\n",
        "row_car_dict = np.arange(0, num_cars) \n",
        "row_user_dst = [2622]\n",
        "new_car = car_unscaled[row_car_dict]\n",
        "new_user = gen_car_vecs(user_unscaled[row_user_dst], len(row_car_dict))\n",
        "\n",
        "# predict the new car of new performance\n",
        "new_user_scal = scalerUser.transform(new_user)\n",
        "new_car_scal = scalerCar.transform(new_car)\n",
        "new_car_predict = model.predict([[new_user_scal, new_car_scal]])\n",
        "print(f'target car is {dsc_up[row_user_dst, 32]}, car No. is {dsc_up[row_user_dst, 31]}')\n",
        "for i in range(len(row_car_dict)):\n",
        "    print(\n",
        "        f'{i} :'\n",
        "        f'{car_dict[row_car_dict, 81].reshape(-1, 1)[i]} : {np.round(new_car_predict[i],3)} : {np.round(new_car_predict[i], 0)}')"
      ],
      "metadata": {
        "colab": {
          "base_uri": "https://localhost:8080/"
        },
        "id": "3FTLt7gHt3zV",
        "outputId": "551afd70-6342-4e4a-86ed-da35abf043a9"
      },
      "execution_count": 121,
      "outputs": [
        {
          "output_type": "stream",
          "name": "stdout",
          "text": [
            "4/4 [==============================] - 0s 4ms/step\n",
            "target car is ['影酷 2022款 1.5T DCT基本型'], car No. is [56]\n",
            "0 :['影酷 2022款 1.5T 超新星PRO版'] : [0.483] : [0.]\n",
            "1 :['影酷 2022款 2.0T 中子星PRO版'] : [0.178] : [0.]\n",
            "2 :['影酷 2022款 2.0T 中子星MAX版'] : [0.189] : [0.]\n",
            "3 :['影酷 2022款 2.0ATK 双子星PRO版'] : [0.298] : [0.]\n",
            "4 :['影酷 2022款 2.0ATK 双子星MAX版'] : [0.173] : [0.]\n",
            "5 :['Model Y 2022款 改款 后轮驱动版'] : [0.074] : [0.]\n",
            "6 :['Model Y 2022款 改款 长续航全轮驱动版'] : [0.022] : [0.]\n",
            "7 :['Model Y 2022款 Performance高性能全轮驱动版'] : [0.019] : [0.]\n",
            "8 :['AION V 2023款 Plus 70 智领版 三元锂'] : [0.338] : [0.]\n",
            "9 :['AION V 2023款 Plus 70 行政版 三元锂'] : [0.351] : [0.]\n",
            "10 :['AION V 2023款 Plus 70 七座商务版'] : [0.328] : [0.]\n",
            "11 :['AION V 2023款 Plus 70 智享科技版 磷酸铁锂'] : [0.397] : [0.]\n",
            "12 :['AION V 2023款 Plus 70 智享科技版 三元锂'] : [0.387] : [0.]\n",
            "13 :['AION V 2023款 Plus 70 智享七座版 三元锂'] : [0.361] : [0.]\n",
            "14 :['AION V 2023款 Plus 70 超级快充版 三元锂'] : [0.317] : [0.]\n",
            "15 :['AION V 2023款 Plus 80 智领版 三元锂'] : [0.315] : [0.]\n",
            "16 :['AION V 2023款 Plus 80 智享科技版 三元锂'] : [0.253] : [0.]\n",
            "17 :['AION V 2023款 Plus 80 智享七座版 三元锂'] : [0.232] : [0.]\n",
            "18 :['AION V 2023款 Plus 80 行政版 三元锂'] : [0.32] : [0.]\n",
            "19 :['AION V 2023款 Plus 80 领航智驾版 三元锂'] : [0.187] : [0.]\n",
            "20 :['AION V 2023款 Plus 80 领袖版 三元锂'] : [0.179] : [0.]\n",
            "21 :['AION V 2023款 Plus 70 极速快充版 三元锂'] : [0.296] : [0.]\n",
            "22 :['AION V 2023款 Plus 70 智领版 磷酸铁锂'] : [0.325] : [0.]\n",
            "23 :['AION V 2023款 Plus 70 行政版 磷酸铁锂'] : [0.302] : [0.]\n",
            "24 :['问界M5 2022款 四驱旗舰版'] : [0.109] : [0.]\n",
            "25 :['问界M5 2022款 后驱标准版'] : [0.406] : [0.]\n",
            "26 :['问界M5 2022款 四驱性能版'] : [0.179] : [0.]\n",
            "27 :['问界M5 2022款 四驱至臻版'] : [0.115] : [0.]\n",
            "28 :['海豹 2022款 550km 标准续航后驱版尊贵型'] : [0.852] : [1.]\n",
            "29 :['海豹 2022款 700km 长续航后驱版'] : [0.385] : [0.]\n",
            "30 :['海豹 2022款 650km 四驱性能版'] : [0.099] : [0.]\n",
            "31 :['宋PLUS新能源 2021款 DM-i 110KM 旗舰型'] : [0.733] : [1.]\n",
            "32 :['宋PLUS新能源 2021款 DM-i 110KM 旗舰PLUS'] : [0.771] : [1.]\n",
            "33 :['宋PLUS新能源 2021款 DM-i 110KM 旗舰PLUS 5G版'] : [0.762] : [1.]\n",
            "34 :['宋PLUS新能源 2021款 EV 旗舰型'] : [0.829] : [1.]\n",
            "35 :['长安CS75 PLUS 2022款 第二代 1.5T 自动豪华型'] : [0.599] : [1.]\n",
            "36 :['长安CS75 PLUS 2022款 第二代 1.5T 自动尊贵型'] : [0.6] : [1.]\n",
            "37 :['长安CS75 PLUS 2022款 第二代 1.5T 自动尊享型'] : [0.592] : [1.]\n",
            "38 :['长安CS75 PLUS 2022款 第二代 1.5T 自动领航型'] : [0.576] : [1.]\n",
            "39 :['长安CS75 PLUS 2022款 第二代 2.0T 自动尊贵型'] : [0.547] : [1.]\n",
            "40 :['长安CS75 PLUS 2022款 第二代 2.0T 自动领航型'] : [0.511] : [1.]\n",
            "41 :['长安CS75 PLUS 2022款 第二代 2.0T 自动旗舰型'] : [0.211] : [0.]\n",
            "42 :['长安CS75 PLUS 2022款 1.5T 自动精英型'] : [0.486] : [0.]\n",
            "43 :['长安CS75 PLUS 2022款 1.5T 自动豪华型'] : [0.592] : [1.]\n",
            "44 :['长安CS75 PLUS 2022款 1.5T 自动尊贵型'] : [0.585] : [1.]\n",
            "45 :['长安CS75 PLUS 2022款 2.0T 自动领航型'] : [0.596] : [1.]\n",
            "46 :['长安CS75 PLUS 2022款 2.0T 自动旗舰型'] : [0.611] : [1.]\n",
            "47 :['长安CS75 PLUS 2021款 1.5T 手动豪华型'] : [0.501] : [1.]\n",
            "48 :['长安CS75 PLUS 2021款 1.5T 自动精英型'] : [0.485] : [0.]\n",
            "49 :['长安CS75 PLUS 2021款 2.0T 自动旗舰型'] : [0.615] : [1.]\n",
            "50 :['长安CS75 PLUS 2020款 1.5T 手动豪华型'] : [0.595] : [1.]\n",
            "51 :['长安CS75 PLUS 2020款 1.5T 自动精英型'] : [0.595] : [1.]\n",
            "52 :['长安CS75 PLUS 2020款 1.5T 自动豪华型'] : [0.585] : [1.]\n",
            "53 :['长安CS75 PLUS 2020款 1.5T 自动尊贵型'] : [0.617] : [1.]\n",
            "54 :['长安CS75 PLUS 2020款 2.0T 自动领航型'] : [0.622] : [1.]\n",
            "55 :['长安CS75 PLUS 2020款 2.0T 自动旗舰型'] : [0.615] : [1.]\n",
            "56 :['影酷 2022款 1.5T DCT基本型'] : [0.596] : [1.]\n",
            "57 :['AION V 2022款 Plus 70 智领版 三元锂'] : [0.149] : [0.]\n",
            "58 :['AION V 2022款 Plus 80 领袖版 三元锂'] : [0.09] : [0.]\n",
            "59 :['AION V 2021款 Plus 70 智领版 磷酸铁锂'] : [0.149] : [0.]\n",
            "60 :['AION V 2021款 Plus 70 智享科技版 磷酸铁锂'] : [0.138] : [0.]\n",
            "61 :['AION V 2021款 Plus 70 超级快充版 三元锂'] : [0.129] : [0.]\n",
            "62 :['AION V 2021款 Plus 80 智领版 三元锂'] : [0.14] : [0.]\n",
            "63 :['AION V 2021款 Plus 80 智享科技版 三元锂'] : [0.126] : [0.]\n",
            "64 :['AION V 2021款 Plus 80 领航智驾版 三元锂'] : [0.122] : [0.]\n",
            "65 :['AION V 2021款 Plus 90 超长续航版 三元锂'] : [0.066] : [0.]\n",
            "66 :['星越L 2021款 2.0TD DCT EVO两驱智尊型'] : [0.822] : [1.]\n",
            "67 :['星越L 2021款 2.0TD DCT EVO两驱旗舰型'] : [0.822] : [1.]\n",
            "68 :['星越L 2021款 2.0TD 高功自动四驱尊贵型'] : [0.836] : [1.]\n",
            "69 :['星越L 2021款 2.0TD 高功自动四驱旗舰型'] : [0.81] : [1.]\n",
            "70 :['海豹 2022款 550km 标准续航后驱版精英型'] : [0.852] : [1.]\n",
            "71 :['宋PLUS新能源 2021款 DM-i 51KM 尊贵型'] : [0.74] : [1.]\n",
            "72 :['宋PLUS新能源 2021款 DM-i 51KM 尊荣型'] : [0.766] : [1.]\n",
            "73 :['宋PLUS新能源 2021款 DM-i 100KM 四驱旗舰PLUS'] : [0.793] : [1.]\n",
            "74 :['宋PLUS新能源 2021款 DM-i 100KM 四驱旗舰PLUS 5G版'] : [0.759] : [1.]\n",
            "75 :['宋PLUS新能源 2021款 EV 尊贵型'] : [0.852] : [1.]\n",
            "76 :['长安CS75 PLUS 2021款 1.5T 自动先锋型'] : [0.485] : [0.]\n",
            "77 :['长安CS75 PLUS 2021款 1.5T 自动豪华型'] : [0.592] : [1.]\n",
            "78 :['长安CS75 PLUS 2021款 1.5T 自动尊贵型'] : [0.585] : [1.]\n",
            "79 :['长安CS75 PLUS 2021款 2.0T 自动领航型'] : [0.586] : [1.]\n",
            "80 :['AION V 2022款 Plus 70 行政版 磷酸铁锂'] : [0.146] : [0.]\n",
            "81 :['AION V 2022款 Plus 70 行政版 三元锂'] : [0.16] : [0.]\n",
            "82 :['AION V 2022款 Plus 70 智享科技版 三元锂'] : [0.138] : [0.]\n",
            "83 :['AION V 2022款 Plus 80 行政版 三元锂'] : [0.146] : [0.]\n",
            "84 :['AION V 2021款 进化版 70 智领版'] : [0.159] : [0.]\n",
            "85 :['AION V 2021款 进化版 70 智享科技版'] : [0.129] : [0.]\n",
            "86 :['AION V 2021款 进化版 80 智领版'] : [0.145] : [0.]\n",
            "87 :['AION V 2021款 进化版 80 智享科技版'] : [0.143] : [0.]\n",
            "88 :['AION V 2021款 进化版 80 MAX版'] : [0.143] : [0.]\n",
            "89 :['AION V 2020款 70 智领版'] : [0.159] : [0.]\n",
            "90 :['AION V 2020款 70 畅享健康版'] : [0.137] : [0.]\n",
            "91 :['AION V 2020款 70 智享科技版'] : [0.132] : [0.]\n",
            "92 :['AION V 2020款 70 悦享智驾版'] : [0.136] : [0.]\n",
            "93 :['AION V 2020款 70 驾享智尊版'] : [0.127] : [0.]\n",
            "94 :['AION V 2020款 70 PLUS 智领版'] : [0.159] : [0.]\n",
            "95 :['AION V 2020款 80 智领版'] : [0.147] : [0.]\n",
            "96 :['AION V 2020款 80 畅享健康版'] : [0.131] : [0.]\n",
            "97 :['AION V 2020款 80 智享科技版'] : [0.13] : [0.]\n",
            "98 :['AION V 2020款 80 悦享智驾版'] : [0.131] : [0.]\n",
            "99 :['AION V 2020款 80 驾享智尊版'] : [0.131] : [0.]\n",
            "100 :['AION V 2020款 80 MAX版'] : [0.143] : [0.]\n",
            "101 :['星越L 2022款 1.5T 雷神Hi·X油电混动版 Super迅'] : [0.804] : [1.]\n",
            "102 :['星越L 2022款 1.5T 雷神Hi·X油电混动版 Super睿'] : [0.83] : [1.]\n",
            "103 :['星越L 2021款 2.0TD DCT EVO两驱舒适型'] : [0.577] : [1.]\n",
            "104 :['星越L 2021款 2.0TD DCT EVO两驱豪华型'] : [0.609] : [1.]\n",
            "105 :['星越L 2021款 2.0TD DCT EVO两驱尊贵型'] : [0.77] : [1.]\n",
            "106 :['Model Y 2022款 后轮驱动版'] : [0.074] : [0.]\n",
            "107 :['Model Y 2022款 长续航全轮驱动版'] : [0.022] : [0.]\n",
            "108 :['Model Y 2021款 Performance高性能全轮驱动版'] : [0.018] : [0.]\n",
            "109 :['Model Y 2021款 标准续航后驱版'] : [0.063] : [0.]\n",
            "110 :['Model Y 2021款 长续航全轮驱动版'] : [0.018] : [0.]\n",
            "111 :['Model Y 2021款 长续航全轮驱动版 3D7'] : [0.018] : [0.]\n",
            "112 :['Model Y 2021款 改款 长续航全轮驱动版 3D5'] : [0.017] : [0.]\n",
            "113 :['Model Y 2021款 改款二 长续航全轮驱动版'] : [0.018] : [0.]\n",
            "114 :['问界M5 2022款 M5e 两驱纯电基本型'] : [0.085] : [0.]\n",
            "115 :['问界M5 2022款 M5e 四驱纯电基本型'] : [0.059] : [0.]\n",
            "116 :['拿铁DHT-PHEV 2022款 1.5T 两驱大杯'] : [0.216] : [0.]\n",
            "117 :['拿铁DHT-PHEV 2022款 1.5T 两驱超大杯'] : [0.308] : [0.]\n",
            "118 :['拿铁DHT-PHEV 2022款 1.5T 四驱超大杯'] : [0.032] : [0.]\n"
          ]
        }
      ]
    },
    {
      "cell_type": "code",
      "source": [
        "new_y_predict = np.zeros((new_car_predict.shape))\n",
        "new_y_predict [new_car_predict > 0.5] = 1\n",
        "new_y_true = np.zeros((new_y_predict.shape))\n",
        "new_y_true[row_car_dict == dsc_up[row_user_dst, 31]] = 1\n",
        "\n",
        "print(confusion_matrix(new_y_true, new_y_predict))\n",
        "print(classification_report(new_y_true, new_y_predict))\n"
      ],
      "metadata": {
        "colab": {
          "base_uri": "https://localhost:8080/"
        },
        "id": "6x8FD7Sdt4bC",
        "outputId": "c6636b5e-8d5c-47f3-9552-f87230d91ad5"
      },
      "execution_count": 122,
      "outputs": [
        {
          "output_type": "stream",
          "name": "stdout",
          "text": [
            "[[77 41]\n",
            " [ 0  1]]\n",
            "              precision    recall  f1-score   support\n",
            "\n",
            "         0.0       1.00      0.65      0.79       118\n",
            "         1.0       0.02      1.00      0.05         1\n",
            "\n",
            "    accuracy                           0.66       119\n",
            "   macro avg       0.51      0.83      0.42       119\n",
            "weighted avg       0.99      0.66      0.78       119\n",
            "\n"
          ]
        }
      ]
    },
    {
      "cell_type": "code",
      "source": [
        "dsc_up[row_user_dst, 31]"
      ],
      "metadata": {
        "colab": {
          "base_uri": "https://localhost:8080/"
        },
        "id": "-WY3LkDbADbg",
        "outputId": "fcc21ba9-15c0-4cdc-e589-b8173e7da8d1"
      },
      "execution_count": null,
      "outputs": [
        {
          "output_type": "execute_result",
          "data": {
            "text/plain": [
              "array([68], dtype=object)"
            ]
          },
          "metadata": {},
          "execution_count": 95
        }
      ]
    },
    {
      "cell_type": "code",
      "source": [
        "new_y_predict_vs = np.concatenate((new_y_predict, new_y_true), axis=1)\n",
        "new_y_predict_vs = np.concatenate((new_car_predict, new_y_predict_vs), axis=1)\n",
        "new_y_predict_df = pd.DataFrame(new_y_predict_vs)\n",
        "new_y_predict_df.to_csv(r'/content/new_car_predict_vs.csv', encoding='UTF-8')"
      ],
      "metadata": {
        "id": "gplApG3yjI9P"
      },
      "execution_count": null,
      "outputs": []
    },
    {
      "cell_type": "markdown",
      "source": [
        "基于某款车预测不同用户的购买倾向"
      ],
      "metadata": {
        "id": "MzhVNUg0Y0vr"
      }
    },
    {
      "cell_type": "code",
      "source": [
        "row_car_dict = [5]\n",
        "row_user_dst = np.arange(0, num_users)\n",
        "new_car = gen_car_vecs(car_unscaled[row_car_dict], len(row_user_dst))\n",
        "new_user = user_unscaled[row_user_dst]\n",
        "\n",
        "new_user_scal = scalerUser.transform(new_user)\n",
        "new_car_scal = scalerCar.transform(new_car)\n",
        "new_car_predict = model.predict([[new_user_scal, new_car_scal]])"
      ],
      "metadata": {
        "colab": {
          "base_uri": "https://localhost:8080/"
        },
        "id": "bIjPzfT7t7uL",
        "outputId": "8f368f02-bc0e-4644-acde-29af88d06592"
      },
      "execution_count": 123,
      "outputs": [
        {
          "output_type": "stream",
          "name": "stdout",
          "text": [
            "184/184 [==============================] - 0s 2ms/step\n"
          ]
        }
      ]
    },
    {
      "cell_type": "code",
      "source": [
        "new_y_predict = np.zeros((new_car_predict.shape))\n",
        "new_y_predict [new_car_predict > 0.5] = 1\n",
        "new_y_true = np.zeros((new_y_predict.shape))\n",
        "new_y_true[dsc_up[0:, 31] == row_car_dict] = 1\n",
        "\n",
        "print(confusion_matrix(new_y_true, new_y_predict))\n",
        "print(classification_report(new_y_true, new_y_predict))"
      ],
      "metadata": {
        "colab": {
          "base_uri": "https://localhost:8080/"
        },
        "id": "CzeIxA3cTDwo",
        "outputId": "d4fc51b9-5b8d-46df-f366-710146086550"
      },
      "execution_count": 124,
      "outputs": [
        {
          "output_type": "stream",
          "name": "stdout",
          "text": [
            "[[4168 1652]\n",
            " [   0   47]]\n",
            "              precision    recall  f1-score   support\n",
            "\n",
            "         0.0       1.00      0.72      0.83      5820\n",
            "         1.0       0.03      1.00      0.05        47\n",
            "\n",
            "    accuracy                           0.72      5867\n",
            "   macro avg       0.51      0.86      0.44      5867\n",
            "weighted avg       0.99      0.72      0.83      5867\n",
            "\n"
          ]
        }
      ]
    },
    {
      "cell_type": "code",
      "source": [
        "new_y_predict_vs = np.concatenate((new_y_predict, new_y_true), axis=1)\n",
        "new_y_predict_vs = np.concatenate((new_car_predict, new_y_predict_vs), axis=1)\n",
        "new_y_predict_df = pd.DataFrame(new_y_predict_vs)\n",
        "new_y_predict_df.to_csv(r'/content/new_user_predict_vs2.csv', encoding='UTF-8')"
      ],
      "metadata": {
        "id": "VJuVzJhAakQ0"
      },
      "execution_count": null,
      "outputs": []
    },
    {
      "cell_type": "markdown",
      "source": [
        "**others：**"
      ],
      "metadata": {
        "id": "NauogkcV9kuv"
      }
    },
    {
      "cell_type": "code",
      "source": [],
      "metadata": {
        "id": "TpGia9Jn9kWg"
      },
      "execution_count": null,
      "outputs": []
    },
    {
      "cell_type": "code",
      "source": [
        "new_car_predict = np.concatenate((new_car_predict, dsc_up[0:, 30].reshape(-1, 1)), axis=1)\n",
        "new_car_predict_df = pd.DataFrame(new_car_predict)\n",
        "new_car_predict_df.to_csv(r'/content/new_car_predict3.csv', encoding='UTF-8')"
      ],
      "metadata": {
        "id": "ir8FQxgSuBos"
      },
      "execution_count": null,
      "outputs": []
    },
    {
      "cell_type": "code",
      "source": [
        "a = np.array([0,1,2])\n",
        "b = np.array([1,2,3])\n",
        "print(np.dot(a,b))"
      ],
      "metadata": {
        "colab": {
          "base_uri": "https://localhost:8080/"
        },
        "id": "GdCIMoxIZL2D",
        "outputId": "6c1c6478-948d-4fcc-c7bb-d5ad89187bd3"
      },
      "execution_count": null,
      "outputs": [
        {
          "output_type": "stream",
          "name": "stdout",
          "text": [
            "8\n"
          ]
        }
      ]
    }
  ]
}